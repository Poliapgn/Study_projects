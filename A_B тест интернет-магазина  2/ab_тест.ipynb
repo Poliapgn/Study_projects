{
 "cells": [
  {
   "cell_type": "markdown",
   "id": "2bd26015",
   "metadata": {},
   "source": [
    "# Описание проекта\n",
    "   - Задача — оценить корректность проведения теста; провести оценку результатов A/B-теста\n",
    "   - Назначение теста: тестирование изменений, связанных с внедрением улучшенной рекомендательной системы;\n",
    "   - Группы: А (контрольная), B (новая платёжная воронка);\n",
    "   - Дата запуска: 2020-12-07;\n",
    "   - Дата остановки набора новых пользователей: 2020-12-21;\n",
    "   - Дата остановки: 2021-01-04;\n",
    "   - Аудитория: 15% новых пользователей из региона EU;\n",
    "   - Ожидаемый эффект: за 14 дней с момента регистрации в системе пользователи покажут улучшение каждой метрики не менее, чем      на 10%:"
   ]
  },
  {
   "cell_type": "markdown",
   "id": "bf010e8e",
   "metadata": {},
   "source": [
    "# Подготовка данных к анализу"
   ]
  },
  {
   "cell_type": "markdown",
   "id": "53309b96",
   "metadata": {},
   "source": [
    "## Выгрузка всех необходимых библиотек"
   ]
  },
  {
   "cell_type": "code",
   "execution_count": 47,
   "id": "ffe46ae0",
   "metadata": {},
   "outputs": [],
   "source": [
    "import pandas as pd\n",
    "import scipy.stats as stats\n",
    "import datetime as dt\n",
    "from datetime import datetime, timedelta\n",
    "import numpy as np\n",
    "import math as mth\n",
    "import matplotlib.pyplot as plt\n",
    "import seaborn as sns\n",
    "import plotly.express as px\n",
    "from numpy import median\n",
    "from plotly import graph_objects as go"
   ]
  },
  {
   "cell_type": "markdown",
   "id": "1bac4e7f",
   "metadata": {},
   "source": [
    "## Выгрузка  исходных данных"
   ]
  },
  {
   "cell_type": "code",
   "execution_count": 48,
   "id": "8a2199bb",
   "metadata": {},
   "outputs": [],
   "source": [
    "events_new_users, marketing_events, new_users,test_users = (\n",
    "    pd.read_csv('/datasets/final_ab_events.csv'), # действия новых пользователей в период с 7 декабря 2020 по 4 января 2021 год\n",
    "    pd.read_csv('/datasets/ab_project_marketing_events.csv'), #  календарь маркетинговых событий на 2020 год\n",
    "    pd.read_csv('/datasets/final_ab_new_users.csv'),  # пользователи, зарегистрировавшиеся с 7 по 21 декабря 2020 года\n",
    "    pd.read_csv('/datasets/final_ab_participants.csv') # таблица участников тестов\n",
    ")"
   ]
  },
  {
   "cell_type": "code",
   "execution_count": 49,
   "id": "28778a88",
   "metadata": {
    "scrolled": false
   },
   "outputs": [
    {
     "name": "stdout",
     "output_type": "stream",
     "text": [
      "<class 'pandas.core.frame.DataFrame'>\n",
      "RangeIndex: 440317 entries, 0 to 440316\n",
      "Data columns (total 4 columns):\n",
      " #   Column      Non-Null Count   Dtype  \n",
      "---  ------      --------------   -----  \n",
      " 0   user_id     440317 non-null  object \n",
      " 1   event_dt    440317 non-null  object \n",
      " 2   event_name  440317 non-null  object \n",
      " 3   details     62740 non-null   float64\n",
      "dtypes: float64(1), object(3)\n",
      "memory usage: 13.4+ MB\n"
     ]
    },
    {
     "data": {
      "text/html": [
       "<div>\n",
       "<style scoped>\n",
       "    .dataframe tbody tr th:only-of-type {\n",
       "        vertical-align: middle;\n",
       "    }\n",
       "\n",
       "    .dataframe tbody tr th {\n",
       "        vertical-align: top;\n",
       "    }\n",
       "\n",
       "    .dataframe thead th {\n",
       "        text-align: right;\n",
       "    }\n",
       "</style>\n",
       "<table border=\"1\" class=\"dataframe\">\n",
       "  <thead>\n",
       "    <tr style=\"text-align: right;\">\n",
       "      <th></th>\n",
       "      <th>user_id</th>\n",
       "      <th>event_dt</th>\n",
       "      <th>event_name</th>\n",
       "      <th>details</th>\n",
       "    </tr>\n",
       "  </thead>\n",
       "  <tbody>\n",
       "    <tr>\n",
       "      <th>0</th>\n",
       "      <td>E1BDDCE0DAFA2679</td>\n",
       "      <td>2020-12-07 20:22:03</td>\n",
       "      <td>purchase</td>\n",
       "      <td>99.99</td>\n",
       "    </tr>\n",
       "    <tr>\n",
       "      <th>1</th>\n",
       "      <td>7B6452F081F49504</td>\n",
       "      <td>2020-12-07 09:22:53</td>\n",
       "      <td>purchase</td>\n",
       "      <td>9.99</td>\n",
       "    </tr>\n",
       "    <tr>\n",
       "      <th>2</th>\n",
       "      <td>9CD9F34546DF254C</td>\n",
       "      <td>2020-12-07 12:59:29</td>\n",
       "      <td>purchase</td>\n",
       "      <td>4.99</td>\n",
       "    </tr>\n",
       "    <tr>\n",
       "      <th>3</th>\n",
       "      <td>96F27A054B191457</td>\n",
       "      <td>2020-12-07 04:02:40</td>\n",
       "      <td>purchase</td>\n",
       "      <td>4.99</td>\n",
       "    </tr>\n",
       "    <tr>\n",
       "      <th>4</th>\n",
       "      <td>1FD7660FDF94CA1F</td>\n",
       "      <td>2020-12-07 10:15:09</td>\n",
       "      <td>purchase</td>\n",
       "      <td>4.99</td>\n",
       "    </tr>\n",
       "  </tbody>\n",
       "</table>\n",
       "</div>"
      ],
      "text/plain": [
       "            user_id             event_dt event_name  details\n",
       "0  E1BDDCE0DAFA2679  2020-12-07 20:22:03   purchase    99.99\n",
       "1  7B6452F081F49504  2020-12-07 09:22:53   purchase     9.99\n",
       "2  9CD9F34546DF254C  2020-12-07 12:59:29   purchase     4.99\n",
       "3  96F27A054B191457  2020-12-07 04:02:40   purchase     4.99\n",
       "4  1FD7660FDF94CA1F  2020-12-07 10:15:09   purchase     4.99"
      ]
     },
     "metadata": {},
     "output_type": "display_data"
    },
    {
     "name": "stdout",
     "output_type": "stream",
     "text": [
      "<class 'pandas.core.frame.DataFrame'>\n",
      "RangeIndex: 14 entries, 0 to 13\n",
      "Data columns (total 4 columns):\n",
      " #   Column     Non-Null Count  Dtype \n",
      "---  ------     --------------  ----- \n",
      " 0   name       14 non-null     object\n",
      " 1   regions    14 non-null     object\n",
      " 2   start_dt   14 non-null     object\n",
      " 3   finish_dt  14 non-null     object\n",
      "dtypes: object(4)\n",
      "memory usage: 576.0+ bytes\n"
     ]
    },
    {
     "data": {
      "text/html": [
       "<div>\n",
       "<style scoped>\n",
       "    .dataframe tbody tr th:only-of-type {\n",
       "        vertical-align: middle;\n",
       "    }\n",
       "\n",
       "    .dataframe tbody tr th {\n",
       "        vertical-align: top;\n",
       "    }\n",
       "\n",
       "    .dataframe thead th {\n",
       "        text-align: right;\n",
       "    }\n",
       "</style>\n",
       "<table border=\"1\" class=\"dataframe\">\n",
       "  <thead>\n",
       "    <tr style=\"text-align: right;\">\n",
       "      <th></th>\n",
       "      <th>name</th>\n",
       "      <th>regions</th>\n",
       "      <th>start_dt</th>\n",
       "      <th>finish_dt</th>\n",
       "    </tr>\n",
       "  </thead>\n",
       "  <tbody>\n",
       "    <tr>\n",
       "      <th>0</th>\n",
       "      <td>Christmas&amp;New Year Promo</td>\n",
       "      <td>EU, N.America</td>\n",
       "      <td>2020-12-25</td>\n",
       "      <td>2021-01-03</td>\n",
       "    </tr>\n",
       "    <tr>\n",
       "      <th>1</th>\n",
       "      <td>St. Valentine's Day Giveaway</td>\n",
       "      <td>EU, CIS, APAC, N.America</td>\n",
       "      <td>2020-02-14</td>\n",
       "      <td>2020-02-16</td>\n",
       "    </tr>\n",
       "    <tr>\n",
       "      <th>2</th>\n",
       "      <td>St. Patric's Day Promo</td>\n",
       "      <td>EU, N.America</td>\n",
       "      <td>2020-03-17</td>\n",
       "      <td>2020-03-19</td>\n",
       "    </tr>\n",
       "    <tr>\n",
       "      <th>3</th>\n",
       "      <td>Easter Promo</td>\n",
       "      <td>EU, CIS, APAC, N.America</td>\n",
       "      <td>2020-04-12</td>\n",
       "      <td>2020-04-19</td>\n",
       "    </tr>\n",
       "    <tr>\n",
       "      <th>4</th>\n",
       "      <td>4th of July Promo</td>\n",
       "      <td>N.America</td>\n",
       "      <td>2020-07-04</td>\n",
       "      <td>2020-07-11</td>\n",
       "    </tr>\n",
       "  </tbody>\n",
       "</table>\n",
       "</div>"
      ],
      "text/plain": [
       "                           name                   regions    start_dt  \\\n",
       "0      Christmas&New Year Promo             EU, N.America  2020-12-25   \n",
       "1  St. Valentine's Day Giveaway  EU, CIS, APAC, N.America  2020-02-14   \n",
       "2        St. Patric's Day Promo             EU, N.America  2020-03-17   \n",
       "3                  Easter Promo  EU, CIS, APAC, N.America  2020-04-12   \n",
       "4             4th of July Promo                 N.America  2020-07-04   \n",
       "\n",
       "    finish_dt  \n",
       "0  2021-01-03  \n",
       "1  2020-02-16  \n",
       "2  2020-03-19  \n",
       "3  2020-04-19  \n",
       "4  2020-07-11  "
      ]
     },
     "metadata": {},
     "output_type": "display_data"
    },
    {
     "name": "stdout",
     "output_type": "stream",
     "text": [
      "<class 'pandas.core.frame.DataFrame'>\n",
      "RangeIndex: 61733 entries, 0 to 61732\n",
      "Data columns (total 4 columns):\n",
      " #   Column      Non-Null Count  Dtype \n",
      "---  ------      --------------  ----- \n",
      " 0   user_id     61733 non-null  object\n",
      " 1   first_date  61733 non-null  object\n",
      " 2   region      61733 non-null  object\n",
      " 3   device      61733 non-null  object\n",
      "dtypes: object(4)\n",
      "memory usage: 1.9+ MB\n"
     ]
    },
    {
     "data": {
      "text/html": [
       "<div>\n",
       "<style scoped>\n",
       "    .dataframe tbody tr th:only-of-type {\n",
       "        vertical-align: middle;\n",
       "    }\n",
       "\n",
       "    .dataframe tbody tr th {\n",
       "        vertical-align: top;\n",
       "    }\n",
       "\n",
       "    .dataframe thead th {\n",
       "        text-align: right;\n",
       "    }\n",
       "</style>\n",
       "<table border=\"1\" class=\"dataframe\">\n",
       "  <thead>\n",
       "    <tr style=\"text-align: right;\">\n",
       "      <th></th>\n",
       "      <th>user_id</th>\n",
       "      <th>first_date</th>\n",
       "      <th>region</th>\n",
       "      <th>device</th>\n",
       "    </tr>\n",
       "  </thead>\n",
       "  <tbody>\n",
       "    <tr>\n",
       "      <th>0</th>\n",
       "      <td>D72A72121175D8BE</td>\n",
       "      <td>2020-12-07</td>\n",
       "      <td>EU</td>\n",
       "      <td>PC</td>\n",
       "    </tr>\n",
       "    <tr>\n",
       "      <th>1</th>\n",
       "      <td>F1C668619DFE6E65</td>\n",
       "      <td>2020-12-07</td>\n",
       "      <td>N.America</td>\n",
       "      <td>Android</td>\n",
       "    </tr>\n",
       "    <tr>\n",
       "      <th>2</th>\n",
       "      <td>2E1BF1D4C37EA01F</td>\n",
       "      <td>2020-12-07</td>\n",
       "      <td>EU</td>\n",
       "      <td>PC</td>\n",
       "    </tr>\n",
       "    <tr>\n",
       "      <th>3</th>\n",
       "      <td>50734A22C0C63768</td>\n",
       "      <td>2020-12-07</td>\n",
       "      <td>EU</td>\n",
       "      <td>iPhone</td>\n",
       "    </tr>\n",
       "    <tr>\n",
       "      <th>4</th>\n",
       "      <td>E1BDDCE0DAFA2679</td>\n",
       "      <td>2020-12-07</td>\n",
       "      <td>N.America</td>\n",
       "      <td>iPhone</td>\n",
       "    </tr>\n",
       "  </tbody>\n",
       "</table>\n",
       "</div>"
      ],
      "text/plain": [
       "            user_id  first_date     region   device\n",
       "0  D72A72121175D8BE  2020-12-07         EU       PC\n",
       "1  F1C668619DFE6E65  2020-12-07  N.America  Android\n",
       "2  2E1BF1D4C37EA01F  2020-12-07         EU       PC\n",
       "3  50734A22C0C63768  2020-12-07         EU   iPhone\n",
       "4  E1BDDCE0DAFA2679  2020-12-07  N.America   iPhone"
      ]
     },
     "metadata": {},
     "output_type": "display_data"
    },
    {
     "name": "stdout",
     "output_type": "stream",
     "text": [
      "<class 'pandas.core.frame.DataFrame'>\n",
      "RangeIndex: 18268 entries, 0 to 18267\n",
      "Data columns (total 3 columns):\n",
      " #   Column   Non-Null Count  Dtype \n",
      "---  ------   --------------  ----- \n",
      " 0   user_id  18268 non-null  object\n",
      " 1   group    18268 non-null  object\n",
      " 2   ab_test  18268 non-null  object\n",
      "dtypes: object(3)\n",
      "memory usage: 428.3+ KB\n"
     ]
    },
    {
     "data": {
      "text/html": [
       "<div>\n",
       "<style scoped>\n",
       "    .dataframe tbody tr th:only-of-type {\n",
       "        vertical-align: middle;\n",
       "    }\n",
       "\n",
       "    .dataframe tbody tr th {\n",
       "        vertical-align: top;\n",
       "    }\n",
       "\n",
       "    .dataframe thead th {\n",
       "        text-align: right;\n",
       "    }\n",
       "</style>\n",
       "<table border=\"1\" class=\"dataframe\">\n",
       "  <thead>\n",
       "    <tr style=\"text-align: right;\">\n",
       "      <th></th>\n",
       "      <th>user_id</th>\n",
       "      <th>group</th>\n",
       "      <th>ab_test</th>\n",
       "    </tr>\n",
       "  </thead>\n",
       "  <tbody>\n",
       "    <tr>\n",
       "      <th>0</th>\n",
       "      <td>D1ABA3E2887B6A73</td>\n",
       "      <td>A</td>\n",
       "      <td>recommender_system_test</td>\n",
       "    </tr>\n",
       "    <tr>\n",
       "      <th>1</th>\n",
       "      <td>A7A3664BD6242119</td>\n",
       "      <td>A</td>\n",
       "      <td>recommender_system_test</td>\n",
       "    </tr>\n",
       "    <tr>\n",
       "      <th>2</th>\n",
       "      <td>DABC14FDDFADD29E</td>\n",
       "      <td>A</td>\n",
       "      <td>recommender_system_test</td>\n",
       "    </tr>\n",
       "    <tr>\n",
       "      <th>3</th>\n",
       "      <td>04988C5DF189632E</td>\n",
       "      <td>A</td>\n",
       "      <td>recommender_system_test</td>\n",
       "    </tr>\n",
       "    <tr>\n",
       "      <th>4</th>\n",
       "      <td>482F14783456D21B</td>\n",
       "      <td>B</td>\n",
       "      <td>recommender_system_test</td>\n",
       "    </tr>\n",
       "  </tbody>\n",
       "</table>\n",
       "</div>"
      ],
      "text/plain": [
       "            user_id group                  ab_test\n",
       "0  D1ABA3E2887B6A73     A  recommender_system_test\n",
       "1  A7A3664BD6242119     A  recommender_system_test\n",
       "2  DABC14FDDFADD29E     A  recommender_system_test\n",
       "3  04988C5DF189632E     A  recommender_system_test\n",
       "4  482F14783456D21B     B  recommender_system_test"
      ]
     },
     "metadata": {},
     "output_type": "display_data"
    }
   ],
   "source": [
    "dfs = [events_new_users, marketing_events, new_users,test_users]\n",
    "for df in dfs:\n",
    "    df.info()\n",
    "    display(df.head())\n"
   ]
  },
  {
   "cell_type": "markdown",
   "id": "4c7aa155",
   "metadata": {},
   "source": [
    "### Вывод\n",
    "     - выгрузили все необходимые данные для анализа:\n",
    "     - events_new_users-действия новых пользователей в период с 7 декабря 2020 по 4 января 2021 год\n",
    "     - marketing_events-календарь маркетинговых событий на 2020 год\n",
    "     - new_users-пользователи-зарегистрировавшиеся с 7 по 21 декабря 2020 года\n",
    "     - test_users-таблица участников тестов\n",
    "     - обнаружено несоответствие типов данных в столбцах ('event_dt','start_dt','finish_dt','first_date')"
   ]
  },
  {
   "cell_type": "markdown",
   "id": "9b697dc7",
   "metadata": {},
   "source": [
    "## Предобработка данных"
   ]
  },
  {
   "cell_type": "markdown",
   "id": "0ce269b7",
   "metadata": {},
   "source": [
    "### Изучение пропусков"
   ]
  },
  {
   "cell_type": "markdown",
   "id": "a5b9ee2c",
   "metadata": {},
   "source": [
    "В датафрейме \"events_new_users\" есть пропуски в столбце \"details\"-это размер покупки\n",
    "Смотрим кол-во событий в столбце 'event_name', являющееся покупкой. Их как раз 62470. Убедились, что пропуски-это N/A\n",
    "Можем заменить их на \"no_purchase\""
   ]
  },
  {
   "cell_type": "code",
   "execution_count": 50,
   "id": "947d08bb",
   "metadata": {},
   "outputs": [],
   "source": [
    "# изучение пропусков\n",
    "len(events_new_users.query('event_name==\"purchase\"')) # кол-во событий покупки\n",
    "events_new_users['details'] = events_new_users['details'].fillna('no_purchase')"
   ]
  },
  {
   "cell_type": "markdown",
   "id": "af5d1c83",
   "metadata": {},
   "source": [
    "### Проверка на дубликаты"
   ]
  },
  {
   "cell_type": "code",
   "execution_count": 51,
   "id": "0349366e",
   "metadata": {},
   "outputs": [
    {
     "name": "stdout",
     "output_type": "stream",
     "text": [
      "Кол-во дубликатов:  0\n",
      "Кол-во дубликатов:  0\n",
      "Кол-во дубликатов:  0\n",
      "Кол-во дубликатов:  0\n"
     ]
    }
   ],
   "source": [
    "# проверка на дубликаты\n",
    "for df in dfs:\n",
    "    print('Кол-во дубликатов: ', df.duplicated().sum())"
   ]
  },
  {
   "cell_type": "markdown",
   "id": "0303f2e6",
   "metadata": {},
   "source": [
    "### Приведение к нужным форматам"
   ]
  },
  {
   "cell_type": "code",
   "execution_count": 52,
   "id": "18897894",
   "metadata": {},
   "outputs": [],
   "source": [
    "# переводи столбцы с датами в соответствующий формат\n",
    "events_new_users['event_dt'] = pd.to_datetime(events_new_users['event_dt']).dt.date\n",
    "events_new_users['event_dt'] = events_new_users['event_dt'].astype('datetime64[ns]')\n",
    "marketing_events['start_dt'] = pd.to_datetime(marketing_events['start_dt'])\n",
    "marketing_events['finish_dt'] = pd.to_datetime(marketing_events['finish_dt'])\n",
    "new_users['first_date'] = pd.to_datetime(new_users['first_date'])\n"
   ]
  },
  {
   "cell_type": "markdown",
   "id": "d16a5d8d",
   "metadata": {},
   "source": [
    "### Проверка на числовые форматы и  неявные дубликаты"
   ]
  },
  {
   "cell_type": "code",
   "execution_count": 53,
   "id": "7146c509",
   "metadata": {},
   "outputs": [
    {
     "name": "stdout",
     "output_type": "stream",
     "text": [
      "\n",
      "['E1BDDCE0DAFA2679' '7B6452F081F49504' '9CD9F34546DF254C' ...\n",
      " 'C9F1399FDCD83F13' '4F32B58E4FF19DC5' '27767D4BECDD260E']\n",
      "\n",
      "['purchase' 'product_cart' 'product_page' 'login']\n",
      "\n",
      "[99.99 9.99 4.99 499.99 'no_purchase']\n",
      "\n",
      "['Christmas&New Year Promo' \"St. Valentine's Day Giveaway\"\n",
      " \"St. Patric's Day Promo\" 'Easter Promo' '4th of July Promo'\n",
      " 'Black Friday Ads Campaign' 'Chinese New Year Promo'\n",
      " 'Labor day (May 1st) Ads Campaign' \"International Women's Day Promo\"\n",
      " 'Victory Day CIS (May 9th) Event' 'CIS New Year Gift Lottery'\n",
      " 'Dragon Boat Festival Giveaway' \"Single's Day Gift Promo\"\n",
      " 'Chinese Moon Festival']\n",
      "\n",
      "['EU, N.America' 'EU, CIS, APAC, N.America' 'N.America' 'APAC'\n",
      " 'EU, CIS, APAC' 'CIS']\n",
      "\n",
      "['D72A72121175D8BE' 'F1C668619DFE6E65' '2E1BF1D4C37EA01F' ...\n",
      " '7ADEE837D5D8CBBD' '1C7D23927835213F' '8F04273BB2860229']\n",
      "\n",
      "['EU' 'N.America' 'APAC' 'CIS']\n",
      "\n",
      "['PC' 'Android' 'iPhone' 'Mac']\n",
      "\n",
      "['D1ABA3E2887B6A73' 'A7A3664BD6242119' 'DABC14FDDFADD29E' ...\n",
      " 'F501F79D332BE86C' '63FBE257B05F2245' '79F9ABFB029CF724']\n",
      "\n",
      "['A' 'B']\n",
      "\n",
      "['recommender_system_test' 'interface_eu_test']\n",
      "\n"
     ]
    }
   ],
   "source": [
    "# проверяем на наличие отрицательных значений\n",
    "def find_num_cols(df):\n",
    "    numerical_columns = [c for c in df.columns if df[c].dtype.name =='int64'] # выбираем только столбцы с количественными данными\t\n",
    "    return numerical_columns\n",
    "\n",
    "for df in dfs:\n",
    "    numeric = find_num_cols(df)# список столбцов с количественными данными присваивается переменной 'numeric'\n",
    "    for i in numeric:\n",
    "        df[i] = df[i].abs()\n",
    "print()\n",
    "# проверяем категориальные столбцы на неочевидные пропукси и дубликаты\n",
    "def find_cat_cols(df):\n",
    "    categorial_columns = [c for c in df.columns if df[c].dtype.name == 'object'] #выбираем только столбцы с категориальными данными\n",
    "    return categorial_columns\n",
    "\n",
    "for df in dfs:\n",
    "    categorial = find_cat_cols(df)\n",
    "    for i in categorial:\n",
    "        print(df[i].unique())\n",
    "        print()"
   ]
  },
  {
   "cell_type": "markdown",
   "id": "653e2631",
   "metadata": {},
   "source": [
    "### Вывод\n",
    "    - Проведена вычистка данных на предмет:\n",
    "    - явных и неявных пропусков\n",
    "    - задвоений\n",
    "    - некорректных форматов данных"
   ]
  },
  {
   "cell_type": "markdown",
   "id": "129b4b2b",
   "metadata": {},
   "source": [
    "## Оценка корректности проведения A/B теста"
   ]
  },
  {
   "cell_type": "markdown",
   "id": "f7208f79",
   "metadata": {},
   "source": [
    "### Проверка соответствия техническому заданию"
   ]
  },
  {
   "cell_type": "code",
   "execution_count": 54,
   "id": "0d298478",
   "metadata": {},
   "outputs": [
    {
     "name": "stdout",
     "output_type": "stream",
     "text": [
      "Общее кол-во участников A/B теста:  6701\n"
     ]
    },
    {
     "data": {
      "text/html": [
       "<div>\n",
       "<style scoped>\n",
       "    .dataframe tbody tr th:only-of-type {\n",
       "        vertical-align: middle;\n",
       "    }\n",
       "\n",
       "    .dataframe tbody tr th {\n",
       "        vertical-align: top;\n",
       "    }\n",
       "\n",
       "    .dataframe thead th {\n",
       "        text-align: right;\n",
       "    }\n",
       "</style>\n",
       "<table border=\"1\" class=\"dataframe\">\n",
       "  <thead>\n",
       "    <tr style=\"text-align: right;\">\n",
       "      <th></th>\n",
       "      <th>user_id</th>\n",
       "      <th>group</th>\n",
       "      <th>ab_test</th>\n",
       "    </tr>\n",
       "  </thead>\n",
       "  <tbody>\n",
       "    <tr>\n",
       "      <th>0</th>\n",
       "      <td>D1ABA3E2887B6A73</td>\n",
       "      <td>A</td>\n",
       "      <td>recommender_system_test</td>\n",
       "    </tr>\n",
       "    <tr>\n",
       "      <th>1</th>\n",
       "      <td>A7A3664BD6242119</td>\n",
       "      <td>A</td>\n",
       "      <td>recommender_system_test</td>\n",
       "    </tr>\n",
       "    <tr>\n",
       "      <th>2</th>\n",
       "      <td>DABC14FDDFADD29E</td>\n",
       "      <td>A</td>\n",
       "      <td>recommender_system_test</td>\n",
       "    </tr>\n",
       "    <tr>\n",
       "      <th>3</th>\n",
       "      <td>04988C5DF189632E</td>\n",
       "      <td>A</td>\n",
       "      <td>recommender_system_test</td>\n",
       "    </tr>\n",
       "    <tr>\n",
       "      <th>4</th>\n",
       "      <td>482F14783456D21B</td>\n",
       "      <td>B</td>\n",
       "      <td>recommender_system_test</td>\n",
       "    </tr>\n",
       "  </tbody>\n",
       "</table>\n",
       "</div>"
      ],
      "text/plain": [
       "            user_id group                  ab_test\n",
       "0  D1ABA3E2887B6A73     A  recommender_system_test\n",
       "1  A7A3664BD6242119     A  recommender_system_test\n",
       "2  DABC14FDDFADD29E     A  recommender_system_test\n",
       "3  04988C5DF189632E     A  recommender_system_test\n",
       "4  482F14783456D21B     B  recommender_system_test"
      ]
     },
     "metadata": {},
     "output_type": "display_data"
    }
   ],
   "source": [
    "# проверяем, соответствует ли кол-во участников теста заявленному в ТЗ\n",
    "test_system = test_users.query('ab_test==\"recommender_system_test\"')\n",
    "print('Общее кол-во участников A/B теста: ',len(test_system['user_id'].unique()))\n",
    "display(test_users.head())"
   ]
  },
  {
   "cell_type": "markdown",
   "id": "c7587184",
   "metadata": {},
   "source": [
    "Кол-во 6701 превышает заявленное в ТЗ 6000. В целом, мы набрали искомые 6тыс юзеров."
   ]
  },
  {
   "cell_type": "code",
   "execution_count": 55,
   "id": "668724fc",
   "metadata": {},
   "outputs": [
    {
     "name": "stdout",
     "output_type": "stream",
     "text": [
      "15% новых пользователей из региона \"EU\": 6940\n"
     ]
    },
    {
     "data": {
      "text/html": [
       "<div>\n",
       "<style scoped>\n",
       "    .dataframe tbody tr th:only-of-type {\n",
       "        vertical-align: middle;\n",
       "    }\n",
       "\n",
       "    .dataframe tbody tr th {\n",
       "        vertical-align: top;\n",
       "    }\n",
       "\n",
       "    .dataframe thead th {\n",
       "        text-align: right;\n",
       "    }\n",
       "</style>\n",
       "<table border=\"1\" class=\"dataframe\">\n",
       "  <thead>\n",
       "    <tr style=\"text-align: right;\">\n",
       "      <th></th>\n",
       "      <th>user_id</th>\n",
       "      <th>first_date</th>\n",
       "      <th>region</th>\n",
       "      <th>device</th>\n",
       "    </tr>\n",
       "  </thead>\n",
       "  <tbody>\n",
       "    <tr>\n",
       "      <th>0</th>\n",
       "      <td>D72A72121175D8BE</td>\n",
       "      <td>2020-12-07</td>\n",
       "      <td>EU</td>\n",
       "      <td>PC</td>\n",
       "    </tr>\n",
       "    <tr>\n",
       "      <th>1</th>\n",
       "      <td>F1C668619DFE6E65</td>\n",
       "      <td>2020-12-07</td>\n",
       "      <td>N.America</td>\n",
       "      <td>Android</td>\n",
       "    </tr>\n",
       "    <tr>\n",
       "      <th>2</th>\n",
       "      <td>2E1BF1D4C37EA01F</td>\n",
       "      <td>2020-12-07</td>\n",
       "      <td>EU</td>\n",
       "      <td>PC</td>\n",
       "    </tr>\n",
       "    <tr>\n",
       "      <th>3</th>\n",
       "      <td>50734A22C0C63768</td>\n",
       "      <td>2020-12-07</td>\n",
       "      <td>EU</td>\n",
       "      <td>iPhone</td>\n",
       "    </tr>\n",
       "    <tr>\n",
       "      <th>4</th>\n",
       "      <td>E1BDDCE0DAFA2679</td>\n",
       "      <td>2020-12-07</td>\n",
       "      <td>N.America</td>\n",
       "      <td>iPhone</td>\n",
       "    </tr>\n",
       "  </tbody>\n",
       "</table>\n",
       "</div>"
      ],
      "text/plain": [
       "            user_id first_date     region   device\n",
       "0  D72A72121175D8BE 2020-12-07         EU       PC\n",
       "1  F1C668619DFE6E65 2020-12-07  N.America  Android\n",
       "2  2E1BF1D4C37EA01F 2020-12-07         EU       PC\n",
       "3  50734A22C0C63768 2020-12-07         EU   iPhone\n",
       "4  E1BDDCE0DAFA2679 2020-12-07  N.America   iPhone"
      ]
     },
     "metadata": {},
     "output_type": "display_data"
    }
   ],
   "source": [
    "# проверяем соответствует ли число в 15% новых пользователей из EU из региона в ТЗ ресльности\n",
    "print('15% новых пользователей из региона \"EU\":',mth.trunc(len(new_users.query('region==\"EU\"')['user_id'].unique())*0.15))\n",
    "display(new_users.head())"
   ]
  },
  {
   "cell_type": "markdown",
   "id": "47bdd379",
   "metadata": {},
   "source": [
    "Кол-во явно отличается. Проверим качество (действительно ли пользователи теста из новых и из региона \"EU\")"
   ]
  },
  {
   "cell_type": "code",
   "execution_count": 56,
   "id": "8be5001b",
   "metadata": {
    "scrolled": true
   },
   "outputs": [
    {
     "data": {
      "text/html": [
       "<div>\n",
       "<style scoped>\n",
       "    .dataframe tbody tr th:only-of-type {\n",
       "        vertical-align: middle;\n",
       "    }\n",
       "\n",
       "    .dataframe tbody tr th {\n",
       "        vertical-align: top;\n",
       "    }\n",
       "\n",
       "    .dataframe thead th {\n",
       "        text-align: right;\n",
       "    }\n",
       "</style>\n",
       "<table border=\"1\" class=\"dataframe\">\n",
       "  <thead>\n",
       "    <tr style=\"text-align: right;\">\n",
       "      <th></th>\n",
       "      <th>user_id</th>\n",
       "      <th>group</th>\n",
       "      <th>ab_test</th>\n",
       "    </tr>\n",
       "  </thead>\n",
       "  <tbody>\n",
       "    <tr>\n",
       "      <th>0</th>\n",
       "      <td>D1ABA3E2887B6A73</td>\n",
       "      <td>A</td>\n",
       "      <td>recommender_system_test</td>\n",
       "    </tr>\n",
       "    <tr>\n",
       "      <th>1</th>\n",
       "      <td>A7A3664BD6242119</td>\n",
       "      <td>A</td>\n",
       "      <td>recommender_system_test</td>\n",
       "    </tr>\n",
       "    <tr>\n",
       "      <th>2</th>\n",
       "      <td>DABC14FDDFADD29E</td>\n",
       "      <td>A</td>\n",
       "      <td>recommender_system_test</td>\n",
       "    </tr>\n",
       "    <tr>\n",
       "      <th>3</th>\n",
       "      <td>04988C5DF189632E</td>\n",
       "      <td>A</td>\n",
       "      <td>recommender_system_test</td>\n",
       "    </tr>\n",
       "    <tr>\n",
       "      <th>4</th>\n",
       "      <td>482F14783456D21B</td>\n",
       "      <td>B</td>\n",
       "      <td>recommender_system_test</td>\n",
       "    </tr>\n",
       "  </tbody>\n",
       "</table>\n",
       "</div>"
      ],
      "text/plain": [
       "            user_id group                  ab_test\n",
       "0  D1ABA3E2887B6A73     A  recommender_system_test\n",
       "1  A7A3664BD6242119     A  recommender_system_test\n",
       "2  DABC14FDDFADD29E     A  recommender_system_test\n",
       "3  04988C5DF189632E     A  recommender_system_test\n",
       "4  482F14783456D21B     B  recommender_system_test"
      ]
     },
     "metadata": {},
     "output_type": "display_data"
    },
    {
     "name": "stdout",
     "output_type": "stream",
     "text": [
      "Кол-во  пользователей из новых в Европе:  46270\n",
      "Кол-во тестовых пользователей из новых в Европе:  6351\n",
      "Процент тестовых пользователей из новых в Европе:  13.73\n"
     ]
    }
   ],
   "source": [
    "new_users_EU = new_users.query('region==\"EU\"')['user_id'].unique()# все новые пользователи из Европы\n",
    "\n",
    "test_system_new_EU = test_system[test_system['user_id'].isin(new_users_EU)] # пользователи для теста\n",
    "display(test_system_new_EU.head())\n",
    "print('Кол-во  пользователей из новых в Европе: ',len(new_users_EU))\n",
    "print('Кол-во тестовых пользователей из новых в Европе: ',len(test_system_new_EU))\n",
    "print('Процент тестовых пользователей из новых в Европе: ',round(len(test_system_new_EU)/len(new_users_EU)*100,2))"
   ]
  },
  {
   "cell_type": "markdown",
   "id": "9e737964",
   "metadata": {},
   "source": [
    "Проверяем разницу в заявленной и фактической долях на статистическую значимость\n",
    "Нулевая гипотеза, доли пользователей равны-Ho\n",
    "Альтернативная гипотеза-между долями есть статистически значимая разница-H1"
   ]
  },
  {
   "cell_type": "code",
   "execution_count": 57,
   "id": "95a49451",
   "metadata": {},
   "outputs": [
    {
     "name": "stdout",
     "output_type": "stream",
     "text": [
      "Доли в каждой группе:  0.15 0.1373\n",
      "Разница в долях:  1.09\n",
      "p-значение:  3.629775346958297e-08\n",
      "Отвергаем нулевую гипотезу: между долями есть значимая разница\n"
     ]
    }
   ],
   "source": [
    "alpha = 0.05\n",
    "p1 = 0.15\n",
    "p2 = 0.1373\n",
    "    \n",
    "# транслируем полученные доли\n",
    "print('Доли в каждой группе: ',p1,p2)\n",
    "print('Разница в долях: ',round(p1/p2,2))\n",
    "          \n",
    "p_combined = 13291/92540\n",
    "difference = p1-p2\n",
    "z_value = difference/mth.sqrt(p_combined*(1-p_combined)*(1/46270+1/46270)) \n",
    "\n",
    "# задаем стандартное нормальное распределение (среднее 0, ст.отклонение 1)\n",
    "distr = stats.norm(0,1)\n",
    "    \n",
    "p_value = (1-distr.cdf(abs(z_value)))*2 \n",
    "            \n",
    "print('p-значение: ', p_value)\n",
    "if p_value < alpha: \n",
    "    print('Отвергаем нулевую гипотезу: между долями есть значимая разница')\n",
    "else:\n",
    "    print(\n",
    "        'Не получилось отвергнуть нулевую гипотезу, нет оснований считать доли разными'\n",
    "         )"
   ]
  },
  {
   "cell_type": "markdown",
   "id": "106538b6",
   "metadata": {},
   "source": [
    "В ТЗ было заявлено, что кол-во участников для теста должно составлять 15% новых пользователей из Европы, т.е. 6940\n",
    "По факту оно составляет 14% - 6351. Проверка выше показала, что между долями есть статистически значимая разница"
   ]
  },
  {
   "cell_type": "markdown",
   "id": "9e74be75",
   "metadata": {},
   "source": [
    "Процент отброшенных пользователей, из других регионов"
   ]
  },
  {
   "cell_type": "code",
   "execution_count": 58,
   "id": "bd4a4f2e",
   "metadata": {},
   "outputs": [
    {
     "name": "stdout",
     "output_type": "stream",
     "text": [
      "Процент тестовых пользователей из других регионов:  5.22\n"
     ]
    },
    {
     "data": {
      "text/html": [
       "<div>\n",
       "<style scoped>\n",
       "    .dataframe tbody tr th:only-of-type {\n",
       "        vertical-align: middle;\n",
       "    }\n",
       "\n",
       "    .dataframe tbody tr th {\n",
       "        vertical-align: top;\n",
       "    }\n",
       "\n",
       "    .dataframe thead th {\n",
       "        text-align: right;\n",
       "    }\n",
       "</style>\n",
       "<table border=\"1\" class=\"dataframe\">\n",
       "  <thead>\n",
       "    <tr style=\"text-align: right;\">\n",
       "      <th></th>\n",
       "      <th>user_id</th>\n",
       "      <th>share_user</th>\n",
       "    </tr>\n",
       "    <tr>\n",
       "      <th>region</th>\n",
       "      <th></th>\n",
       "      <th></th>\n",
       "    </tr>\n",
       "  </thead>\n",
       "  <tbody>\n",
       "    <tr>\n",
       "      <th>APAC</th>\n",
       "      <td>72</td>\n",
       "      <td>20.57</td>\n",
       "    </tr>\n",
       "    <tr>\n",
       "      <th>CIS</th>\n",
       "      <td>55</td>\n",
       "      <td>15.71</td>\n",
       "    </tr>\n",
       "    <tr>\n",
       "      <th>N.America</th>\n",
       "      <td>223</td>\n",
       "      <td>63.71</td>\n",
       "    </tr>\n",
       "  </tbody>\n",
       "</table>\n",
       "</div>"
      ],
      "text/plain": [
       "           user_id  share_user\n",
       "region                        \n",
       "APAC            72       20.57\n",
       "CIS             55       15.71\n",
       "N.America      223       63.71"
      ]
     },
     "metadata": {},
     "output_type": "display_data"
    }
   ],
   "source": [
    "test_system_regions = test_system[~test_system['user_id'].isin(new_users_EU)]\n",
    "print('Процент тестовых пользователей из других регионов: ',round(len(test_system_regions['user_id'].unique())/len(test_system['user_id'].unique())*100,2))\n",
    "lost_region = test_system_regions.merge(new_users, on='user_id',how='left').groupby('region').agg({'user_id':'nunique'})\n",
    "lost_region['share_user'] = round(lost_region['user_id']/lost_region['user_id'].sum()*100,2)\n",
    "display(lost_region)"
   ]
  },
  {
   "cell_type": "markdown",
   "id": "6350a9a9",
   "metadata": {},
   "source": [
    "### Проверка пересечений пользователей и маркетинговых активностей с датами теста:\n",
    "    - между разными тестами\n",
    "    - между двумя группами теста\n",
    "    - время проведения теста  не совпадает с\n",
    "      маркетинговыми и другими активностями"
   ]
  },
  {
   "cell_type": "code",
   "execution_count": 59,
   "id": "a429e9f7",
   "metadata": {},
   "outputs": [
    {
     "data": {
      "text/plain": [
       "11567"
      ]
     },
     "execution_count": 59,
     "metadata": {},
     "output_type": "execute_result"
    }
   ],
   "source": [
    "test_users['ab_test'].unique()\n",
    "len(test_users.query('ab_test==\"interface_eu_test\"')['user_id'].unique())"
   ]
  },
  {
   "cell_type": "code",
   "execution_count": 60,
   "id": "eef1e9ea",
   "metadata": {},
   "outputs": [
    {
     "name": "stdout",
     "output_type": "stream",
     "text": [
      "Кол-во пересекающихся юзеров из контрольной группы, участвующих сразу в двух тестах  равно:  819\n",
      "Кол-во пересекающихся юзеров из тестовой группы, участвующих сразу в двух тестах равно:  783\n"
     ]
    }
   ],
   "source": [
    "# проверим на наличие пользователей попавших в оба теста \n",
    "\n",
    "usersT1 = test_system_new_EU.groupby('user_id').agg({'user_id':'first'})\n",
    "usersT1.columns=['id']\n",
    "def common_test(group):\n",
    "    usersT2 = test_users[(test_users['ab_test']=='interface_eu_test')&(test_users['group']==group)].groupby('user_id').agg({'user_id':'first'})\n",
    "    usersT2.columns=['id']\n",
    "\n",
    "    common_test = (pd.concat([usersT1,usersT2],axis=0))# кол-во общих пользователей на 2 группы\n",
    "    common_test = common_test[common_test.duplicated()]['id'].tolist()\n",
    "    return common_test\n",
    "    \n",
    "common_a = common_test('A')\n",
    "print('Кол-во пересекающихся юзеров из контрольной группы, участвующих сразу в двух тестах  равно: ',len(common_a))\n",
    "common_b = common_test('B')\n",
    "print('Кол-во пересекающихся юзеров из тестовой группы, участвующих сразу в двух тестах равно: ',len(common_b))\n",
    "#test_clean = test_system_new_EU.query('user_id not in @common_test')\n",
    "#test_clean.info()"
   ]
  },
  {
   "cell_type": "code",
   "execution_count": 61,
   "id": "929a9c8a",
   "metadata": {},
   "outputs": [
    {
     "name": "stdout",
     "output_type": "stream",
     "text": [
      "Процент пересекающихся юзеров в A группе, участвующих заодно в контрольной группе другого теста:  13.26\n",
      "\n",
      "Процент пересекающихся юзеров в B группе, участвующих заодно в контрольной группе другого теста:  12.4\n"
     ]
    }
   ],
   "source": [
    "# доля участников другого теста (контрольная группа) в каждой из 2-х групп текущего теста:\n",
    "test_common_A_a = round(len(test_system_new_EU.query('group==\"A\" and user_id in @common_a'))/len(test_system_new_EU.query('group==\"A\"'))*100,2)\n",
    "test_common_B_a = round(len(test_system_new_EU.query('group==\"B\" and user_id in @common_a'))/len(test_system_new_EU.query('group==\"B\"'))*100,2)\n",
    "\n",
    "print('Процент пересекающихся юзеров в A группе, участвующих заодно в контрольной группе другого теста: ',test_common_A_a) \n",
    "print()\n",
    "print('Процент пересекающихся юзеров в B группе, участвующих заодно в контрольной группе другого теста: ', test_common_B_a)"
   ]
  },
  {
   "cell_type": "code",
   "execution_count": 62,
   "id": "e61eb9ce",
   "metadata": {},
   "outputs": [
    {
     "name": "stdout",
     "output_type": "stream",
     "text": [
      "Процент пересекающихся юзеров в A группе, участвующих заодно в тестовой группе другого теста:  12.08\n",
      "\n",
      "Процент пересекающихся юзеров в B группе, участвующих заодно в тестовой группе другого теста:  12.66\n"
     ]
    }
   ],
   "source": [
    "# доля участников другого теста (тестовая группа) в каждой из 2-х групп текущего теста\n",
    "test_common_A_b = round(len(test_system_new_EU.query('group==\"A\" and user_id in @common_b'))/len(test_system_new_EU.query('group==\"A\"'))*100,2)\n",
    "test_common_B_b = round(len(test_system_new_EU.query('group==\"B\" and user_id in @common_b'))/len(test_system_new_EU.query('group==\"B\"'))*100,2)\n",
    "\n",
    "print('Процент пересекающихся юзеров в A группе, участвующих заодно в тестовой группе другого теста: ',test_common_A_b) \n",
    "print()\n",
    "print('Процент пересекающихся юзеров в B группе, участвующих заодно в тестовой группе другого теста: ', test_common_B_b)"
   ]
  },
  {
   "cell_type": "markdown",
   "id": "6ef1ab1a",
   "metadata": {},
   "source": [
    "Так как процент попавших в оба теста юзеров фактически идентичен, а микс мы условно считаем однородным, то оставляем кол-ва в тесте."
   ]
  },
  {
   "cell_type": "code",
   "execution_count": 63,
   "id": "2b1d2359",
   "metadata": {
    "scrolled": true
   },
   "outputs": [
    {
     "name": "stdout",
     "output_type": "stream",
     "text": [
      "Кол-во пересекающихся юзеров, участвующих сразу в двух тестах равно:  0\n",
      "<class 'pandas.core.frame.DataFrame'>\n",
      "Int64Index: 6351 entries, 0 to 6350\n",
      "Data columns (total 3 columns):\n",
      " #   Column   Non-Null Count  Dtype \n",
      "---  ------   --------------  ----- \n",
      " 0   user_id  6351 non-null   object\n",
      " 1   group    6351 non-null   object\n",
      " 2   ab_test  6351 non-null   object\n",
      "dtypes: object(3)\n",
      "memory usage: 198.5+ KB\n"
     ]
    }
   ],
   "source": [
    "# проверка пересечения между 2-мя группами пользователей\n",
    "usersA = test_system_new_EU[test_system_new_EU['group']==\"A\"].groupby('user_id').agg({'user_id':'first'})\n",
    "usersA.columns=['id']\n",
    "usersB = test_system_new_EU[test_system_new_EU['group']==\"B\"].groupby('user_id').agg({'user_id':'first'})\n",
    "usersB.columns=['id']\n",
    "\n",
    "common_group = (pd.concat([usersA,usersB],axis=0))# кол-во общих пользователей на 2 группы\n",
    "common_group = common_group[common_group.duplicated()]['id'].tolist()\n",
    "print('Кол-во пересекающихся юзеров, участвующих сразу в двух тестах равно: ',len(common_group))\n",
    "test_system_new_EU = test_system_new_EU.query('user_id not in @common_group')\n",
    "test_system_new_EU.info()\n"
   ]
  },
  {
   "cell_type": "markdown",
   "id": "edff5d98",
   "metadata": {},
   "source": [
    "Проверяем, что время проведения теста  не совпадает с маркетинговыми и другими активностями"
   ]
  },
  {
   "cell_type": "code",
   "execution_count": 64,
   "id": "188daf43",
   "metadata": {},
   "outputs": [],
   "source": [
    "# пишем формулу для выяснения: была ли маркетинговая акция в тестовом регионе (тут допускаю, что если пользователи из EU, то и сам тест проводился в EU)\n",
    "def check_region(x):\n",
    "    if \"EU\" in x:\n",
    "        return 'ok'\n",
    "    return 'no'\n",
    "\n",
    "marketing_events['region_test'] = marketing_events['regions'].apply(check_region)\n",
    "marketing_events_test = marketing_events.query('region_test==\"ok\"')"
   ]
  },
  {
   "cell_type": "markdown",
   "id": "ea2260ba",
   "metadata": {},
   "source": [
    "Смотрим, когда происходили маркетинговые активности. Помним, что наш период теста с 7 декабря 2020 по 4 января 2021.\n",
    "Важно, чтобы период теста не пересекался с маркетинговыми активностями, что может повлиять на результат."
   ]
  },
  {
   "cell_type": "code",
   "execution_count": 65,
   "id": "3a231496",
   "metadata": {
    "scrolled": true
   },
   "outputs": [
    {
     "name": "stdout",
     "output_type": "stream",
     "text": [
      "2020-02-14 00:00:00\n",
      "2021-01-03 00:00:00\n"
     ]
    },
    {
     "data": {
      "text/html": [
       "<div>\n",
       "<style scoped>\n",
       "    .dataframe tbody tr th:only-of-type {\n",
       "        vertical-align: middle;\n",
       "    }\n",
       "\n",
       "    .dataframe tbody tr th {\n",
       "        vertical-align: top;\n",
       "    }\n",
       "\n",
       "    .dataframe thead th {\n",
       "        text-align: right;\n",
       "    }\n",
       "</style>\n",
       "<table border=\"1\" class=\"dataframe\">\n",
       "  <thead>\n",
       "    <tr style=\"text-align: right;\">\n",
       "      <th></th>\n",
       "      <th>name</th>\n",
       "      <th>regions</th>\n",
       "      <th>start_dt</th>\n",
       "      <th>finish_dt</th>\n",
       "      <th>region_test</th>\n",
       "    </tr>\n",
       "  </thead>\n",
       "  <tbody>\n",
       "    <tr>\n",
       "      <th>1</th>\n",
       "      <td>St. Valentine's Day Giveaway</td>\n",
       "      <td>EU, CIS, APAC, N.America</td>\n",
       "      <td>2020-02-14</td>\n",
       "      <td>2020-02-16</td>\n",
       "      <td>ok</td>\n",
       "    </tr>\n",
       "    <tr>\n",
       "      <th>8</th>\n",
       "      <td>International Women's Day Promo</td>\n",
       "      <td>EU, CIS, APAC</td>\n",
       "      <td>2020-03-08</td>\n",
       "      <td>2020-03-10</td>\n",
       "      <td>ok</td>\n",
       "    </tr>\n",
       "    <tr>\n",
       "      <th>2</th>\n",
       "      <td>St. Patric's Day Promo</td>\n",
       "      <td>EU, N.America</td>\n",
       "      <td>2020-03-17</td>\n",
       "      <td>2020-03-19</td>\n",
       "      <td>ok</td>\n",
       "    </tr>\n",
       "    <tr>\n",
       "      <th>3</th>\n",
       "      <td>Easter Promo</td>\n",
       "      <td>EU, CIS, APAC, N.America</td>\n",
       "      <td>2020-04-12</td>\n",
       "      <td>2020-04-19</td>\n",
       "      <td>ok</td>\n",
       "    </tr>\n",
       "    <tr>\n",
       "      <th>7</th>\n",
       "      <td>Labor day (May 1st) Ads Campaign</td>\n",
       "      <td>EU, CIS, APAC</td>\n",
       "      <td>2020-05-01</td>\n",
       "      <td>2020-05-03</td>\n",
       "      <td>ok</td>\n",
       "    </tr>\n",
       "    <tr>\n",
       "      <th>5</th>\n",
       "      <td>Black Friday Ads Campaign</td>\n",
       "      <td>EU, CIS, APAC, N.America</td>\n",
       "      <td>2020-11-26</td>\n",
       "      <td>2020-12-01</td>\n",
       "      <td>ok</td>\n",
       "    </tr>\n",
       "    <tr>\n",
       "      <th>0</th>\n",
       "      <td>Christmas&amp;New Year Promo</td>\n",
       "      <td>EU, N.America</td>\n",
       "      <td>2020-12-25</td>\n",
       "      <td>2021-01-03</td>\n",
       "      <td>ok</td>\n",
       "    </tr>\n",
       "  </tbody>\n",
       "</table>\n",
       "</div>"
      ],
      "text/plain": [
       "                               name                   regions   start_dt  \\\n",
       "1      St. Valentine's Day Giveaway  EU, CIS, APAC, N.America 2020-02-14   \n",
       "8   International Women's Day Promo             EU, CIS, APAC 2020-03-08   \n",
       "2            St. Patric's Day Promo             EU, N.America 2020-03-17   \n",
       "3                      Easter Promo  EU, CIS, APAC, N.America 2020-04-12   \n",
       "7  Labor day (May 1st) Ads Campaign             EU, CIS, APAC 2020-05-01   \n",
       "5         Black Friday Ads Campaign  EU, CIS, APAC, N.America 2020-11-26   \n",
       "0          Christmas&New Year Promo             EU, N.America 2020-12-25   \n",
       "\n",
       "   finish_dt region_test  \n",
       "1 2020-02-16          ok  \n",
       "8 2020-03-10          ok  \n",
       "2 2020-03-19          ok  \n",
       "3 2020-04-19          ok  \n",
       "7 2020-05-03          ok  \n",
       "5 2020-12-01          ok  \n",
       "0 2021-01-03          ok  "
      ]
     },
     "metadata": {},
     "output_type": "display_data"
    }
   ],
   "source": [
    "print(marketing_events_test['start_dt'].min())\n",
    "print(marketing_events_test['finish_dt'].max())\n",
    "display(marketing_events_test.sort_values(by='start_dt'))"
   ]
  },
  {
   "cell_type": "markdown",
   "id": "f9b50c04",
   "metadata": {},
   "source": [
    "Видим, что большая часть маркетинговых активностей в интересующем нас регионе завершилась еще до начала теста, т. е до 07.12.2020, КРОМЕ последней акции в таблице выше, проходившей с 25 декабря до 3 января. Соответственно наш observation date для нашего теста- 24.12 2020. Так как новые пользователи продолжали приходить до 21.12.2020 включительно, горизон анализа 14 дней, то часть пользователей в анализ не попадет."
   ]
  },
  {
   "cell_type": "markdown",
   "id": "f84b74ff",
   "metadata": {},
   "source": [
    "Проверим, какой процент от участников нашего теста пересекается  с маркетинговым событием в таком случае."
   ]
  },
  {
   "cell_type": "code",
   "execution_count": 66,
   "id": "d4a33e0d",
   "metadata": {},
   "outputs": [],
   "source": [
    "# корректируем кол-во участников теста с учетом  информации выше\n",
    "observation_date = datetime(2020,12,24).date()\n",
    "horizon_days = 14\n",
    "last_suitable_acquisition_date = observation_date - timedelta(\n",
    "            days=horizon_days - 1\n",
    "        )\n",
    "   \n",
    "new_users_test = new_users.query('first_date<=@last_suitable_acquisition_date')"
   ]
  },
  {
   "cell_type": "code",
   "execution_count": 67,
   "id": "77102244",
   "metadata": {
    "scrolled": false
   },
   "outputs": [
    {
     "name": "stdout",
     "output_type": "stream",
     "text": [
      "Кол-во пользователей, которые попадают в маркетинговое событие:  4527\n",
      "\n",
      "Кол-во пользователей, которые попадают в маркетинговое событие из группы A:  2610\n",
      "Кол-во пользователей, которые попадают в маркетинговое событие из группы B:  1917\n"
     ]
    }
   ],
   "source": [
    "# объединяем тестовых пользователей с событиями.\n",
    "test_cut = test_system_new_EU.merge(new_users_test, on=['user_id'],how='left')# объединяем тестовых юзеров с их профайлами\n",
    "test_market = test_cut[test_cut['region'].isna()]\n",
    "\n",
    "print('Кол-во пользователей, которые попадают в маркетинговое событие: ',len(test_market))\n",
    "print()\n",
    "print('Кол-во пользователей, которые попадают в маркетинговое событие из группы A: ',len(test_market.query('group==\"A\"')))\n",
    "print('Кол-во пользователей, которые попадают в маркетинговое событие из группы B: ',len(test_market.query('group==\"B\"')))"
   ]
  },
  {
   "cell_type": "markdown",
   "id": "343b16b5",
   "metadata": {},
   "source": [
    "Кол-во пользователей, которые мы предположительно должны исключить, составляет более половины ото всей выборки. Кол-во пользователей, чья деятельность попадает на период действия марекетингово события, в обоих группах примерно похожа. Оставляем эти данные."
   ]
  },
  {
   "cell_type": "code",
   "execution_count": 68,
   "id": "99574a7f",
   "metadata": {},
   "outputs": [
    {
     "data": {
      "text/html": [
       "<div>\n",
       "<style scoped>\n",
       "    .dataframe tbody tr th:only-of-type {\n",
       "        vertical-align: middle;\n",
       "    }\n",
       "\n",
       "    .dataframe tbody tr th {\n",
       "        vertical-align: top;\n",
       "    }\n",
       "\n",
       "    .dataframe thead th {\n",
       "        text-align: right;\n",
       "    }\n",
       "</style>\n",
       "<table border=\"1\" class=\"dataframe\">\n",
       "  <thead>\n",
       "    <tr style=\"text-align: right;\">\n",
       "      <th></th>\n",
       "      <th>user_id</th>\n",
       "      <th>group</th>\n",
       "      <th>ab_test</th>\n",
       "      <th>first_date</th>\n",
       "      <th>region</th>\n",
       "      <th>device</th>\n",
       "    </tr>\n",
       "  </thead>\n",
       "  <tbody>\n",
       "    <tr>\n",
       "      <th>0</th>\n",
       "      <td>D1ABA3E2887B6A73</td>\n",
       "      <td>A</td>\n",
       "      <td>recommender_system_test</td>\n",
       "      <td>2020-12-07</td>\n",
       "      <td>EU</td>\n",
       "      <td>PC</td>\n",
       "    </tr>\n",
       "    <tr>\n",
       "      <th>1</th>\n",
       "      <td>A7A3664BD6242119</td>\n",
       "      <td>A</td>\n",
       "      <td>recommender_system_test</td>\n",
       "      <td>2020-12-20</td>\n",
       "      <td>EU</td>\n",
       "      <td>iPhone</td>\n",
       "    </tr>\n",
       "    <tr>\n",
       "      <th>2</th>\n",
       "      <td>DABC14FDDFADD29E</td>\n",
       "      <td>A</td>\n",
       "      <td>recommender_system_test</td>\n",
       "      <td>2020-12-08</td>\n",
       "      <td>EU</td>\n",
       "      <td>Mac</td>\n",
       "    </tr>\n",
       "    <tr>\n",
       "      <th>3</th>\n",
       "      <td>04988C5DF189632E</td>\n",
       "      <td>A</td>\n",
       "      <td>recommender_system_test</td>\n",
       "      <td>2020-12-14</td>\n",
       "      <td>EU</td>\n",
       "      <td>iPhone</td>\n",
       "    </tr>\n",
       "    <tr>\n",
       "      <th>4</th>\n",
       "      <td>482F14783456D21B</td>\n",
       "      <td>B</td>\n",
       "      <td>recommender_system_test</td>\n",
       "      <td>2020-12-14</td>\n",
       "      <td>EU</td>\n",
       "      <td>PC</td>\n",
       "    </tr>\n",
       "  </tbody>\n",
       "</table>\n",
       "</div>"
      ],
      "text/plain": [
       "            user_id group                  ab_test first_date region  device\n",
       "0  D1ABA3E2887B6A73     A  recommender_system_test 2020-12-07     EU      PC\n",
       "1  A7A3664BD6242119     A  recommender_system_test 2020-12-20     EU  iPhone\n",
       "2  DABC14FDDFADD29E     A  recommender_system_test 2020-12-08     EU     Mac\n",
       "3  04988C5DF189632E     A  recommender_system_test 2020-12-14     EU  iPhone\n",
       "4  482F14783456D21B     B  recommender_system_test 2020-12-14     EU      PC"
      ]
     },
     "metadata": {},
     "output_type": "display_data"
    }
   ],
   "source": [
    "# объединяем тестовых пользователей с событиями.\n",
    "test_full = test_system_new_EU.merge(new_users, on=['user_id'],how='left')# объединяем тестовых юзеров с их профайлами\n",
    "display(test_full.head())"
   ]
  },
  {
   "cell_type": "code",
   "execution_count": 69,
   "id": "3efab576",
   "metadata": {},
   "outputs": [
    {
     "name": "stdout",
     "output_type": "stream",
     "text": [
      "<class 'pandas.core.frame.DataFrame'>\n",
      "Int64Index: 26290 entries, 0 to 26289\n",
      "Data columns (total 9 columns):\n",
      " #   Column      Non-Null Count  Dtype         \n",
      "---  ------      --------------  -----         \n",
      " 0   user_id     26290 non-null  object        \n",
      " 1   group       26290 non-null  object        \n",
      " 2   ab_test     26290 non-null  object        \n",
      " 3   first_date  26290 non-null  datetime64[ns]\n",
      " 4   region      26290 non-null  object        \n",
      " 5   device      26290 non-null  object        \n",
      " 6   event_dt    23420 non-null  datetime64[ns]\n",
      " 7   event_name  23420 non-null  object        \n",
      " 8   details     23420 non-null  object        \n",
      "dtypes: datetime64[ns](2), object(7)\n",
      "memory usage: 2.0+ MB\n"
     ]
    }
   ],
   "source": [
    "#display(len(events_new_users['user_id'].unique()))\n",
    "#display(len(new_users['user_id'].unique()))\n",
    "sessions = test_full.merge(events_new_users,on='user_id',how='left')\n",
    "sessions.info()\n",
    "\n",
    "#display(sessions[sessions['event_dt'].isna()])"
   ]
  },
  {
   "cell_type": "code",
   "execution_count": 70,
   "id": "54a5b3a9",
   "metadata": {},
   "outputs": [
    {
     "data": {
      "text/html": [
       "<div>\n",
       "<style scoped>\n",
       "    .dataframe tbody tr th:only-of-type {\n",
       "        vertical-align: middle;\n",
       "    }\n",
       "\n",
       "    .dataframe tbody tr th {\n",
       "        vertical-align: top;\n",
       "    }\n",
       "\n",
       "    .dataframe thead th {\n",
       "        text-align: right;\n",
       "    }\n",
       "</style>\n",
       "<table border=\"1\" class=\"dataframe\">\n",
       "  <thead>\n",
       "    <tr style=\"text-align: right;\">\n",
       "      <th></th>\n",
       "      <th>user_id</th>\n",
       "      <th>group</th>\n",
       "      <th>ab_test</th>\n",
       "      <th>first_date</th>\n",
       "      <th>region</th>\n",
       "      <th>device</th>\n",
       "      <th>event_dt</th>\n",
       "      <th>event_name</th>\n",
       "      <th>details</th>\n",
       "    </tr>\n",
       "  </thead>\n",
       "  <tbody>\n",
       "    <tr>\n",
       "      <th>55</th>\n",
       "      <td>92CB588012C10D3D</td>\n",
       "      <td>A</td>\n",
       "      <td>recommender_system_test</td>\n",
       "      <td>2020-12-09</td>\n",
       "      <td>EU</td>\n",
       "      <td>PC</td>\n",
       "      <td>2020-12-09</td>\n",
       "      <td>product_page</td>\n",
       "      <td>no_purchase</td>\n",
       "    </tr>\n",
       "    <tr>\n",
       "      <th>56</th>\n",
       "      <td>92CB588012C10D3D</td>\n",
       "      <td>A</td>\n",
       "      <td>recommender_system_test</td>\n",
       "      <td>2020-12-09</td>\n",
       "      <td>EU</td>\n",
       "      <td>PC</td>\n",
       "      <td>2020-12-25</td>\n",
       "      <td>product_page</td>\n",
       "      <td>no_purchase</td>\n",
       "    </tr>\n",
       "    <tr>\n",
       "      <th>57</th>\n",
       "      <td>92CB588012C10D3D</td>\n",
       "      <td>A</td>\n",
       "      <td>recommender_system_test</td>\n",
       "      <td>2020-12-09</td>\n",
       "      <td>EU</td>\n",
       "      <td>PC</td>\n",
       "      <td>2020-12-09</td>\n",
       "      <td>login</td>\n",
       "      <td>no_purchase</td>\n",
       "    </tr>\n",
       "    <tr>\n",
       "      <th>58</th>\n",
       "      <td>92CB588012C10D3D</td>\n",
       "      <td>A</td>\n",
       "      <td>recommender_system_test</td>\n",
       "      <td>2020-12-09</td>\n",
       "      <td>EU</td>\n",
       "      <td>PC</td>\n",
       "      <td>2020-12-25</td>\n",
       "      <td>login</td>\n",
       "      <td>no_purchase</td>\n",
       "    </tr>\n",
       "  </tbody>\n",
       "</table>\n",
       "</div>"
      ],
      "text/plain": [
       "             user_id group                  ab_test first_date region device  \\\n",
       "55  92CB588012C10D3D     A  recommender_system_test 2020-12-09     EU     PC   \n",
       "56  92CB588012C10D3D     A  recommender_system_test 2020-12-09     EU     PC   \n",
       "57  92CB588012C10D3D     A  recommender_system_test 2020-12-09     EU     PC   \n",
       "58  92CB588012C10D3D     A  recommender_system_test 2020-12-09     EU     PC   \n",
       "\n",
       "     event_dt    event_name      details  \n",
       "55 2020-12-09  product_page  no_purchase  \n",
       "56 2020-12-25  product_page  no_purchase  \n",
       "57 2020-12-09         login  no_purchase  \n",
       "58 2020-12-25         login  no_purchase  "
      ]
     },
     "metadata": {},
     "output_type": "display_data"
    }
   ],
   "source": [
    "# Не все новые пользователи совершали какие-либо действия, помимо регистрации. Заменим такие пропуски\n",
    "sessions['event_name'] = sessions['event_name'].fillna('registration')\n",
    "sessions['details'] = sessions['details'].fillna('no_purchase')\n",
    "sessions['event_dt'] = sessions['event_dt'].fillna(0)\n",
    "\n",
    "def change_date(row):\n",
    "    event_dt=row['event_dt']\n",
    "    first_date=row['first_date']\n",
    "    if event_dt==0:\n",
    "        return first_date\n",
    "    return event_dt\n",
    "sessions['event_dt'] = sessions.apply(change_date,axis=1)\n",
    "display(sessions.query('user_id==\"92CB588012C10D3D\"'))"
   ]
  },
  {
   "cell_type": "markdown",
   "id": "dc0d6b45",
   "metadata": {},
   "source": [
    "### Вывод\n",
    "- Выборка для теста произведена некорректно, так как не соответствует ТЗ:\n",
    "- выбранные пользователи не все соответствуют новым в регионе EU. Из 6700 выбранных участников теста 6300 из новых в            - Европе. По факту 15% из новых пользователей в Европе составляют 6940\n",
    "- есть пересечение пользователй между 2-мя разными тестами. Доля общих участников в каждой из тестовых групп составляет          - 25%\n",
    "- есть пересечение времени проведения теста с другой маркетинговой акцией: Christmas&New Year Promo, проводимой в EU,            - и N.America с 2020-12-25 по 2021-01-03. 30% и 40% от всех участников попадают в период проведения маркетинговой акции          - в группах А и В соответственно "
   ]
  },
  {
   "cell_type": "markdown",
   "id": "571310cc",
   "metadata": {},
   "source": [
    "## EDA"
   ]
  },
  {
   "cell_type": "markdown",
   "id": "b84c9930",
   "metadata": {},
   "source": [
    "### Распределение кол-ва событий на пользователя"
   ]
  },
  {
   "cell_type": "code",
   "execution_count": 71,
   "id": "5fdd5623",
   "metadata": {},
   "outputs": [
    {
     "name": "stdout",
     "output_type": "stream",
     "text": [
      "Всего в логе событий:  26290\n",
      "\n",
      "Всего в логе событий уникальных:  5\n",
      "События  в логе:  ['purchase' 'product_cart' 'product_page' 'login' 'registration']\n",
      "\n",
      "Всего в логе пользователей:  6351\n",
      "\n",
      "Среднее кол-во событий на пользователя:  4.0\n",
      "\n",
      "Среднее кол-во событий на пользователя уникальных:  2.0\n"
     ]
    }
   ],
   "source": [
    "print('Всего в логе событий: ', len(sessions['event_name']))\n",
    "print()\n",
    "print('Всего в логе событий уникальных: ', len(sessions['event_name'].unique()))\n",
    "print('События  в логе: ',sessions['event_name'].unique())\n",
    "print()\n",
    "print('Всего в логе пользователей: ', len(sessions['user_id'].unique()))\n",
    "print()\n",
    "\n",
    "# расчет кол-ва событий на пользователя (всего и уникальных)\n",
    "event_per_user = sessions.groupby('user_id').agg({'event_name':'count'}).reset_index()\n",
    "event_per_user.columns = ['user_id','event_name']\n",
    "event_per_user_avg = round(event_per_user['event_name'].mean(),0)\n",
    "\n",
    "print('Среднее кол-во событий на пользователя: ', event_per_user_avg)\n",
    "print()\n",
    "\n",
    "event_per_user_unique = sessions.groupby('user_id').agg({'event_name':'nunique'}).reset_index() # кол-во уникальных событий на пользователя\n",
    "event_per_user_unique.columns = ['user_id','event_name']\n",
    "event_per_user_avg_unique = round(event_per_user_unique['event_name'].mean(),0)\n",
    "\n",
    "print('Среднее кол-во событий на пользователя уникальных: ', event_per_user_avg_unique)\n"
   ]
  },
  {
   "cell_type": "code",
   "execution_count": 72,
   "id": "d2190055",
   "metadata": {
    "scrolled": false
   },
   "outputs": [
    {
     "data": {
      "image/png": "[encoded data removed]",
      "text/plain": [
       "<Figure size 432x288 with 1 Axes>"
      ]
     },
     "metadata": {
      "needs_background": "light"
     },
     "output_type": "display_data"
    }
   ],
   "source": [
    "data_c = sessions.groupby(['group','user_id']).agg({'event_name':'count'})\n",
    "data_c = data_c.rename(columns={'event_name':'events q-ty'})                       \n",
    "sns.histplot(data_c,x=data_c['events q-ty'],hue ='group',kde=True,alpha=0.5)\n",
    "plt.title('Кол-во событий на пользователя')\n",
    "plt.show()"
   ]
  },
  {
   "cell_type": "code",
   "execution_count": 73,
   "id": "0f578854",
   "metadata": {
    "scrolled": false
   },
   "outputs": [
    {
     "data": {
      "image/png": "[encoded data removed]",
      "text/plain": [
       "<Figure size 432x288 with 1 Axes>"
      ]
     },
     "metadata": {
      "needs_background": "light"
     },
     "output_type": "display_data"
    }
   ],
   "source": [
    "data_u = sessions.groupby(['group','user_id']).agg({'event_name':'nunique'})\n",
    "data_u = data_u.rename(columns={'event_name':'events q-ty'})                       \n",
    "sns.histplot(data_u,x=data_u['events q-ty'],hue ='group',alpha=0.5)\n",
    "plt.title('Кол-во уникальных событий на пользователя')\n",
    "plt.show()"
   ]
  },
  {
   "cell_type": "markdown",
   "id": "800e9ede",
   "metadata": {},
   "source": [
    "События на пользователи распределены схожим образом в обеих группах.\n",
    "Наибольшее кол-во пользователей с 1 событием, далее 2 и наименьшее кол-во 3"
   ]
  },
  {
   "cell_type": "markdown",
   "id": "3e7f6e25",
   "metadata": {},
   "source": [
    "### Распределение кол-ва событий по дням\n"
   ]
  },
  {
   "cell_type": "code",
   "execution_count": 74,
   "id": "857525c6",
   "metadata": {},
   "outputs": [],
   "source": [
    "def quatity(event, horizon,dimension=[]):\n",
    "    if len(event)==0:\n",
    "        event_name  = sessions.groupby(['user_id','event_dt']).agg({'event_name':'count'}).rename(columns={'event_name':'q-ty'}).reset_index()\n",
    "\n",
    "    event_name  = sessions.query('event_name==@event').groupby(['user_id','event_dt']).agg({'event_name':'count'}).rename(columns={'event_name':'q-ty'}).reset_index()\n",
    "    test = test_full.merge(\n",
    "         event_name[['user_id','event_dt', 'q-ty']], on='user_id', how='left')\n",
    "    test.dropna(inplace=True)\n",
    "    test['lifetime'] = (\n",
    "        test['event_dt'] - test['first_date']\n",
    "    ).dt.days\n",
    "    result = test.pivot_table(\n",
    "            index=dimension, columns='lifetime', values='q-ty', aggfunc='sum'\n",
    "        )\n",
    "      \n",
    "    result = result[list(range(horizon))]\n",
    "    return result\n",
    "\n",
    "def plot_quantity(result,horizon,i):\n",
    "    plt.figure(figsize=(10, 10))\n",
    "    result.T.plot(kind='bar',grid=True,ax=plt.subplot(2,2,i+1))\n",
    "    plt.legend()\n",
    "    plt.xlabel('Лайфтайм')\n",
    "    plt.title('{} per day:'.format(event))\n",
    "\n"
   ]
  },
  {
   "cell_type": "code",
   "execution_count": 75,
   "id": "5bfcf1e5",
   "metadata": {},
   "outputs": [
    {
     "data": {
      "text/plain": [
       "Text(0.5, 1.0, 'Кол-во событий по дням')"
      ]
     },
     "execution_count": 75,
     "metadata": {},
     "output_type": "execute_result"
    },
    {
     "data": {
      "text/plain": [
       "<Figure size 1080x1440 with 0 Axes>"
      ]
     },
     "metadata": {},
     "output_type": "display_data"
    },
    {
     "data": {
      "image/png": "[encoded data removed]",
      "text/plain": [
       "<Figure size 432x288 with 1 Axes>"
      ]
     },
     "metadata": {
      "needs_background": "light"
     },
     "output_type": "display_data"
    }
   ],
   "source": [
    "event_name  = sessions.query('event_name!=\"registration\"').groupby(['user_id','event_dt','event_name']).agg({'event_name':'count'}).rename(columns={'event_name':'q-ty'}).reset_index()\n",
    "test = test_full.merge(\n",
    "         event_name[['user_id','event_dt','event_name', 'q-ty']], on='user_id', how='left')\n",
    "test.dropna(inplace=True)\n",
    "test['lifetime'] = (\n",
    "        test['event_dt'] - test['first_date']\n",
    "    ).dt.days\n",
    "result = test.pivot_table(\n",
    "            index='event_name', columns='lifetime', values='q-ty', aggfunc='sum'\n",
    "        )\n",
    "      \n",
    "result = result[list(range(14))]\n",
    "plt.figure(figsize=(15, 20))\n",
    "result.T.plot(kind='bar',grid=True)\n",
    "plt.legend()\n",
    "plt.xlabel('Лайфтайм')\n",
    "plt.title('Кол-во событий по дням')\n"
   ]
  },
  {
   "cell_type": "code",
   "execution_count": 76,
   "id": "f5de7ffc",
   "metadata": {},
   "outputs": [
    {
     "data": {
      "image/png": "[encoded data removed]",
      "text/plain": [
       "<Figure size 720x720 with 1 Axes>"
      ]
     },
     "metadata": {
      "needs_background": "light"
     },
     "output_type": "display_data"
    },
    {
     "data": {
      "image/png": "[encoded data removed]",
      "text/plain": [
       "<Figure size 720x720 with 1 Axes>"
      ]
     },
     "metadata": {
      "needs_background": "light"
     },
     "output_type": "display_data"
    },
    {
     "data": {
      "image/png": "[encoded data removed]",
      "text/plain": [
       "<Figure size 720x720 with 1 Axes>"
      ]
     },
     "metadata": {
      "needs_background": "light"
     },
     "output_type": "display_data"
    },
    {
     "data": {
      "image/png": "[encoded data removed]",
      "text/plain": [
       "<Figure size 720x720 with 1 Axes>"
      ]
     },
     "metadata": {
      "needs_background": "light"
     },
     "output_type": "display_data"
    }
   ],
   "source": [
    "events = ['purchase', 'product_cart', 'product_page', 'login']\n",
    "i=0\n",
    "for event in events:\n",
    "    result = quatity(event, 14,['group'])\n",
    "    plot_quantity(result,14,i)\n",
    "    i+=1"
   ]
  },
  {
   "cell_type": "code",
   "execution_count": 77,
   "id": "75450be0",
   "metadata": {},
   "outputs": [
    {
     "data": {
      "text/html": [
       "<div>\n",
       "<style scoped>\n",
       "    .dataframe tbody tr th:only-of-type {\n",
       "        vertical-align: middle;\n",
       "    }\n",
       "\n",
       "    .dataframe tbody tr th {\n",
       "        vertical-align: top;\n",
       "    }\n",
       "\n",
       "    .dataframe thead th {\n",
       "        text-align: right;\n",
       "    }\n",
       "</style>\n",
       "<table border=\"1\" class=\"dataframe\">\n",
       "  <thead>\n",
       "    <tr style=\"text-align: right;\">\n",
       "      <th></th>\n",
       "      <th>user_id</th>\n",
       "      <th>group</th>\n",
       "      <th>ab_test</th>\n",
       "      <th>first_date</th>\n",
       "      <th>region</th>\n",
       "      <th>device</th>\n",
       "      <th>event_dt</th>\n",
       "      <th>event_name</th>\n",
       "      <th>details</th>\n",
       "    </tr>\n",
       "  </thead>\n",
       "  <tbody>\n",
       "    <tr>\n",
       "      <th>0</th>\n",
       "      <td>D1ABA3E2887B6A73</td>\n",
       "      <td>A</td>\n",
       "      <td>recommender_system_test</td>\n",
       "      <td>2020-12-07</td>\n",
       "      <td>EU</td>\n",
       "      <td>PC</td>\n",
       "      <td>2020-12-07</td>\n",
       "      <td>purchase</td>\n",
       "      <td>99.99</td>\n",
       "    </tr>\n",
       "    <tr>\n",
       "      <th>1</th>\n",
       "      <td>D1ABA3E2887B6A73</td>\n",
       "      <td>A</td>\n",
       "      <td>recommender_system_test</td>\n",
       "      <td>2020-12-07</td>\n",
       "      <td>EU</td>\n",
       "      <td>PC</td>\n",
       "      <td>2020-12-25</td>\n",
       "      <td>purchase</td>\n",
       "      <td>4.99</td>\n",
       "    </tr>\n",
       "    <tr>\n",
       "      <th>2</th>\n",
       "      <td>D1ABA3E2887B6A73</td>\n",
       "      <td>A</td>\n",
       "      <td>recommender_system_test</td>\n",
       "      <td>2020-12-07</td>\n",
       "      <td>EU</td>\n",
       "      <td>PC</td>\n",
       "      <td>2020-12-07</td>\n",
       "      <td>product_cart</td>\n",
       "      <td>no_purchase</td>\n",
       "    </tr>\n",
       "    <tr>\n",
       "      <th>3</th>\n",
       "      <td>D1ABA3E2887B6A73</td>\n",
       "      <td>A</td>\n",
       "      <td>recommender_system_test</td>\n",
       "      <td>2020-12-07</td>\n",
       "      <td>EU</td>\n",
       "      <td>PC</td>\n",
       "      <td>2020-12-25</td>\n",
       "      <td>product_cart</td>\n",
       "      <td>no_purchase</td>\n",
       "    </tr>\n",
       "    <tr>\n",
       "      <th>4</th>\n",
       "      <td>D1ABA3E2887B6A73</td>\n",
       "      <td>A</td>\n",
       "      <td>recommender_system_test</td>\n",
       "      <td>2020-12-07</td>\n",
       "      <td>EU</td>\n",
       "      <td>PC</td>\n",
       "      <td>2020-12-07</td>\n",
       "      <td>product_page</td>\n",
       "      <td>no_purchase</td>\n",
       "    </tr>\n",
       "  </tbody>\n",
       "</table>\n",
       "</div>"
      ],
      "text/plain": [
       "            user_id group                  ab_test first_date region device  \\\n",
       "0  D1ABA3E2887B6A73     A  recommender_system_test 2020-12-07     EU     PC   \n",
       "1  D1ABA3E2887B6A73     A  recommender_system_test 2020-12-07     EU     PC   \n",
       "2  D1ABA3E2887B6A73     A  recommender_system_test 2020-12-07     EU     PC   \n",
       "3  D1ABA3E2887B6A73     A  recommender_system_test 2020-12-07     EU     PC   \n",
       "4  D1ABA3E2887B6A73     A  recommender_system_test 2020-12-07     EU     PC   \n",
       "\n",
       "    event_dt    event_name      details  \n",
       "0 2020-12-07      purchase        99.99  \n",
       "1 2020-12-25      purchase         4.99  \n",
       "2 2020-12-07  product_cart  no_purchase  \n",
       "3 2020-12-25  product_cart  no_purchase  \n",
       "4 2020-12-07  product_page  no_purchase  "
      ]
     },
     "metadata": {},
     "output_type": "display_data"
    }
   ],
   "source": [
    "display(sessions.head())"
   ]
  },
  {
   "cell_type": "code",
   "execution_count": 78,
   "id": "eabccc8e",
   "metadata": {
    "scrolled": false
   },
   "outputs": [
    {
     "data": {
      "image/png": "[encoded data removed]",
      "text/plain": [
       "<Figure size 1080x504 with 1 Axes>"
      ]
     },
     "metadata": {
      "needs_background": "light"
     },
     "output_type": "display_data"
    }
   ],
   "source": [
    "plt.figure(figsize=(15, 7))\n",
    "sns.histplot(df,x=sessions['event_dt'],hue='group',kde=True)\n",
    "plt.title('Распределение кол-ва событий по дням в выборках')\n",
    "plt.tight_layout()"
   ]
  },
  {
   "cell_type": "code",
   "execution_count": 79,
   "id": "9ffbd3df",
   "metadata": {
    "scrolled": false
   },
   "outputs": [
    {
     "data": {
      "image/png": "[encoded data removed]",
      "text/plain": [
       "<Figure size 1080x504 with 4 Axes>"
      ]
     },
     "metadata": {
      "needs_background": "light"
     },
     "output_type": "display_data"
    }
   ],
   "source": [
    "events = ['purchase', 'product_cart', 'product_page', 'login']\n",
    "col_count, row_count =2,2 #число рядов и столбцов в сетке графиков\n",
    "plt.figure(figsize=(15, 7))\n",
    "\n",
    "for i, event in enumerate(events):\n",
    "        sns.histplot(df,x=sessions.query('event_name==@event')['event_dt'],hue='group',kde=True,\n",
    "                   ax=plt.subplot(row_count,col_count,i+1))\n",
    "        plt.title(event)\n",
    "plt.tight_layout()\n"
   ]
  },
  {
   "cell_type": "markdown",
   "id": "79e98dcc",
   "metadata": {},
   "source": [
    "Характер распределения кол-ва событий по дням схож в обеих выборках. Так как мы знаем из анализа дней жизни, что основной процент приходится на первые дни прихода пользователя в игру, то можно сопоставить такое распределение с кол-вом приходящих пользователей. Приход новых пользователей остановилмя 21.12.2021 и далее кол-во событий по нисходящей. В целом кол-во юзеров в группе А контрола изначально выше."
   ]
  },
  {
   "cell_type": "code",
   "execution_count": 80,
   "id": "546b7190",
   "metadata": {},
   "outputs": [
    {
     "data": {
      "text/html": [
       "<div>\n",
       "<style scoped>\n",
       "    .dataframe tbody tr th:only-of-type {\n",
       "        vertical-align: middle;\n",
       "    }\n",
       "\n",
       "    .dataframe tbody tr th {\n",
       "        vertical-align: top;\n",
       "    }\n",
       "\n",
       "    .dataframe thead th {\n",
       "        text-align: right;\n",
       "    }\n",
       "</style>\n",
       "<table border=\"1\" class=\"dataframe\">\n",
       "  <thead>\n",
       "    <tr style=\"text-align: right;\">\n",
       "      <th>group</th>\n",
       "      <th>A</th>\n",
       "      <th>B</th>\n",
       "    </tr>\n",
       "    <tr>\n",
       "      <th>first_date</th>\n",
       "      <th></th>\n",
       "      <th></th>\n",
       "    </tr>\n",
       "  </thead>\n",
       "  <tbody>\n",
       "    <tr>\n",
       "      <th>2020-12-07</th>\n",
       "      <td>349</td>\n",
       "      <td>259</td>\n",
       "    </tr>\n",
       "    <tr>\n",
       "      <th>2020-12-08</th>\n",
       "      <td>186</td>\n",
       "      <td>149</td>\n",
       "    </tr>\n",
       "    <tr>\n",
       "      <th>2020-12-09</th>\n",
       "      <td>143</td>\n",
       "      <td>105</td>\n",
       "    </tr>\n",
       "    <tr>\n",
       "      <th>2020-12-10</th>\n",
       "      <td>189</td>\n",
       "      <td>181</td>\n",
       "    </tr>\n",
       "    <tr>\n",
       "      <th>2020-12-11</th>\n",
       "      <td>157</td>\n",
       "      <td>106</td>\n",
       "    </tr>\n",
       "    <tr>\n",
       "      <th>2020-12-12</th>\n",
       "      <td>268</td>\n",
       "      <td>198</td>\n",
       "    </tr>\n",
       "    <tr>\n",
       "      <th>2020-12-13</th>\n",
       "      <td>323</td>\n",
       "      <td>228</td>\n",
       "    </tr>\n",
       "    <tr>\n",
       "      <th>2020-12-14</th>\n",
       "      <td>366</td>\n",
       "      <td>262</td>\n",
       "    </tr>\n",
       "    <tr>\n",
       "      <th>2020-12-15</th>\n",
       "      <td>202</td>\n",
       "      <td>141</td>\n",
       "    </tr>\n",
       "    <tr>\n",
       "      <th>2020-12-16</th>\n",
       "      <td>160</td>\n",
       "      <td>114</td>\n",
       "    </tr>\n",
       "    <tr>\n",
       "      <th>2020-12-17</th>\n",
       "      <td>202</td>\n",
       "      <td>138</td>\n",
       "    </tr>\n",
       "    <tr>\n",
       "      <th>2020-12-18</th>\n",
       "      <td>210</td>\n",
       "      <td>172</td>\n",
       "    </tr>\n",
       "    <tr>\n",
       "      <th>2020-12-19</th>\n",
       "      <td>226</td>\n",
       "      <td>173</td>\n",
       "    </tr>\n",
       "    <tr>\n",
       "      <th>2020-12-20</th>\n",
       "      <td>255</td>\n",
       "      <td>206</td>\n",
       "    </tr>\n",
       "    <tr>\n",
       "      <th>2020-12-21</th>\n",
       "      <td>398</td>\n",
       "      <td>285</td>\n",
       "    </tr>\n",
       "  </tbody>\n",
       "</table>\n",
       "</div>"
      ],
      "text/plain": [
       "group         A    B\n",
       "first_date          \n",
       "2020-12-07  349  259\n",
       "2020-12-08  186  149\n",
       "2020-12-09  143  105\n",
       "2020-12-10  189  181\n",
       "2020-12-11  157  106\n",
       "2020-12-12  268  198\n",
       "2020-12-13  323  228\n",
       "2020-12-14  366  262\n",
       "2020-12-15  202  141\n",
       "2020-12-16  160  114\n",
       "2020-12-17  202  138\n",
       "2020-12-18  210  172\n",
       "2020-12-19  226  173\n",
       "2020-12-20  255  206\n",
       "2020-12-21  398  285"
      ]
     },
     "metadata": {},
     "output_type": "display_data"
    },
    {
     "data": {
      "text/html": [
       "<div>\n",
       "<style scoped>\n",
       "    .dataframe tbody tr th:only-of-type {\n",
       "        vertical-align: middle;\n",
       "    }\n",
       "\n",
       "    .dataframe tbody tr th {\n",
       "        vertical-align: top;\n",
       "    }\n",
       "\n",
       "    .dataframe thead th {\n",
       "        text-align: right;\n",
       "    }\n",
       "</style>\n",
       "<table border=\"1\" class=\"dataframe\">\n",
       "  <thead>\n",
       "    <tr style=\"text-align: right;\">\n",
       "      <th></th>\n",
       "      <th>user_id</th>\n",
       "    </tr>\n",
       "    <tr>\n",
       "      <th>group</th>\n",
       "      <th></th>\n",
       "    </tr>\n",
       "  </thead>\n",
       "  <tbody>\n",
       "    <tr>\n",
       "      <th>A</th>\n",
       "      <td>3634</td>\n",
       "    </tr>\n",
       "    <tr>\n",
       "      <th>B</th>\n",
       "      <td>2717</td>\n",
       "    </tr>\n",
       "  </tbody>\n",
       "</table>\n",
       "</div>"
      ],
      "text/plain": [
       "       user_id\n",
       "group         \n",
       "A         3634\n",
       "B         2717"
      ]
     },
     "metadata": {},
     "output_type": "display_data"
    }
   ],
   "source": [
    "display(sessions.pivot_table(index='first_date',columns='group',values='user_id',aggfunc='nunique'))\n",
    "display(sessions.groupby('group').agg({'user_id':'nunique'}))"
   ]
  },
  {
   "cell_type": "markdown",
   "id": "acdd8005",
   "metadata": {},
   "source": [
    "### Как меняется конверсия в воронке на разных этапах"
   ]
  },
  {
   "cell_type": "code",
   "execution_count": 81,
   "id": "e439e472",
   "metadata": {},
   "outputs": [],
   "source": [
    "def get_conversion(\n",
    "    event,\n",
    "    dimensions=[],\n",
    "):\n",
    "    first_event = (\n",
    "        sessions.query('event_name==@event').sort_values(by=['user_id', 'event_dt'])\n",
    "        .groupby('user_id')\n",
    "        .agg({'event_dt': 'first'})\n",
    "        .reset_index())\n",
    "\n",
    "    test = test_full.merge(\n",
    "        first_event[['user_id', 'event_dt']], on='user_id', how='left'\n",
    "    )\n",
    "    test['lifetime'] = (\n",
    "        test['event_dt'] - test['first_date']\n",
    "    ).dt.days\n",
    "\n",
    "    df_event = test.dropna()\n",
    "    result = df_event.pivot_table(\n",
    "            index=dimensions, columns='lifetime', values='user_id', aggfunc='nunique'\n",
    "        )\n",
    "    result = result.fillna(0)\n",
    "    cohort_sizes = (\n",
    "            test.groupby(dimensions)\n",
    "            .agg({'user_id': 'nunique'})\n",
    "            .rename(columns={'user_id': 'cohort_size'})\n",
    ")\n",
    "    result = cohort_sizes.merge(result, on=dimensions, how='left').fillna(0)\n",
    "    result = result.div(result['cohort_size'], axis=0)\n",
    "    result['cohort_size'] = cohort_sizes\n",
    "    return result\n",
    "\n",
    "def plot_conversion(result,i):    \n",
    "    plt.figure(figsize=(10, 10))\n",
    "    result = result.drop(columns=['cohort_size'])\n",
    "    result.T.plot(kind='bar',grid=True,ax=plt.subplot(2,2,i+1))\n",
    "    plt.legend()\n",
    "    plt.xlabel('Лайфтайм')\n",
    "    plt.title('{} Conversion noncumulative:'.format(event))\n"
   ]
  },
  {
   "cell_type": "code",
   "execution_count": 82,
   "id": "969d9819",
   "metadata": {
    "scrolled": false
   },
   "outputs": [
    {
     "data": {
      "image/png": "[encoded data removed]",
      "text/plain": [
       "<Figure size 720x720 with 1 Axes>"
      ]
     },
     "metadata": {
      "needs_background": "light"
     },
     "output_type": "display_data"
    },
    {
     "data": {
      "image/png": "[encoded data removed]",
      "text/plain": [
       "<Figure size 720x720 with 1 Axes>"
      ]
     },
     "metadata": {
      "needs_background": "light"
     },
     "output_type": "display_data"
    },
    {
     "data": {
      "image/png": "[encoded data removed]",
      "text/plain": [
       "<Figure size 720x720 with 1 Axes>"
      ]
     },
     "metadata": {
      "needs_background": "light"
     },
     "output_type": "display_data"
    },
    {
     "data": {
      "image/png": "[encoded data removed]",
      "text/plain": [
       "<Figure size 720x720 with 1 Axes>"
      ]
     },
     "metadata": {
      "needs_background": "light"
     },
     "output_type": "display_data"
    }
   ],
   "source": [
    "events = ['purchase', 'product_cart', 'product_page', 'login']\n",
    "i=0\n",
    "for event in events:\n",
    "    result = get_conversion(event,['group'])\n",
    "    plot_conversion(result,i)\n",
    "    i+=1"
   ]
  },
  {
   "cell_type": "markdown",
   "id": "7440a04f",
   "metadata": {},
   "source": [
    "Строим воронку для группы A"
   ]
  },
  {
   "cell_type": "code",
   "execution_count": 83,
   "id": "867b1048",
   "metadata": {
    "scrolled": false
   },
   "outputs": [
    {
     "data": {
      "text/html": [
       "<div>\n",
       "<style scoped>\n",
       "    .dataframe tbody tr th:only-of-type {\n",
       "        vertical-align: middle;\n",
       "    }\n",
       "\n",
       "    .dataframe tbody tr th {\n",
       "        vertical-align: top;\n",
       "    }\n",
       "\n",
       "    .dataframe thead th {\n",
       "        text-align: right;\n",
       "    }\n",
       "</style>\n",
       "<table border=\"1\" class=\"dataframe\">\n",
       "  <thead>\n",
       "    <tr style=\"text-align: right;\">\n",
       "      <th></th>\n",
       "      <th>event_name</th>\n",
       "      <th>user_id</th>\n",
       "    </tr>\n",
       "  </thead>\n",
       "  <tbody>\n",
       "    <tr>\n",
       "      <th>0</th>\n",
       "      <td>login</td>\n",
       "      <td>2604</td>\n",
       "    </tr>\n",
       "    <tr>\n",
       "      <th>1</th>\n",
       "      <td>product_cart</td>\n",
       "      <td>782</td>\n",
       "    </tr>\n",
       "    <tr>\n",
       "      <th>2</th>\n",
       "      <td>product_page</td>\n",
       "      <td>1685</td>\n",
       "    </tr>\n",
       "    <tr>\n",
       "      <th>3</th>\n",
       "      <td>purchase</td>\n",
       "      <td>833</td>\n",
       "    </tr>\n",
       "    <tr>\n",
       "      <th>4</th>\n",
       "      <td>registration</td>\n",
       "      <td>1030</td>\n",
       "    </tr>\n",
       "  </tbody>\n",
       "</table>\n",
       "</div>"
      ],
      "text/plain": [
       "     event_name  user_id\n",
       "0         login     2604\n",
       "1  product_cart      782\n",
       "2  product_page     1685\n",
       "3      purchase      833\n",
       "4  registration     1030"
      ]
     },
     "metadata": {},
     "output_type": "display_data"
    },
    {
     "data": {
      "text/html": [
       "<div>\n",
       "<style scoped>\n",
       "    .dataframe tbody tr th:only-of-type {\n",
       "        vertical-align: middle;\n",
       "    }\n",
       "\n",
       "    .dataframe tbody tr th {\n",
       "        vertical-align: top;\n",
       "    }\n",
       "\n",
       "    .dataframe thead th {\n",
       "        text-align: right;\n",
       "    }\n",
       "</style>\n",
       "<table border=\"1\" class=\"dataframe\">\n",
       "  <thead>\n",
       "    <tr style=\"text-align: right;\">\n",
       "      <th></th>\n",
       "      <th>users_number</th>\n",
       "      <th>% users_share</th>\n",
       "    </tr>\n",
       "    <tr>\n",
       "      <th>event_name</th>\n",
       "      <th></th>\n",
       "      <th></th>\n",
       "    </tr>\n",
       "  </thead>\n",
       "  <tbody>\n",
       "    <tr>\n",
       "      <th>registration</th>\n",
       "      <td>3634</td>\n",
       "      <td>57.22</td>\n",
       "    </tr>\n",
       "    <tr>\n",
       "      <th>login</th>\n",
       "      <td>2604</td>\n",
       "      <td>41.00</td>\n",
       "    </tr>\n",
       "    <tr>\n",
       "      <th>product_page</th>\n",
       "      <td>1685</td>\n",
       "      <td>26.53</td>\n",
       "    </tr>\n",
       "    <tr>\n",
       "      <th>purchase</th>\n",
       "      <td>833</td>\n",
       "      <td>13.12</td>\n",
       "    </tr>\n",
       "    <tr>\n",
       "      <th>product_cart</th>\n",
       "      <td>782</td>\n",
       "      <td>12.31</td>\n",
       "    </tr>\n",
       "  </tbody>\n",
       "</table>\n",
       "</div>"
      ],
      "text/plain": [
       "              users_number  % users_share\n",
       "event_name                               \n",
       "registration          3634          57.22\n",
       "login                 2604          41.00\n",
       "product_page          1685          26.53\n",
       "purchase               833          13.12\n",
       "product_cart           782          12.31"
      ]
     },
     "metadata": {},
     "output_type": "display_data"
    }
   ],
   "source": [
    "# кол-во уникальных пользователей, совершивших каждое событие \n",
    "def funnel(group,registration):\n",
    "    event_funnel = sessions.query('group==@group').groupby('event_name').agg({'user_id':'nunique'}).reset_index()\n",
    "    display(event_funnel)\n",
    "    event_funnel = event_funnel.query('event_name!=\"registration\"')\n",
    "    event_registration = pd.DataFrame({'event_name':'registration','user_id':registration},index=np.arange(1))\n",
    "    event_funnel = pd.concat([event_funnel,event_registration],axis=0).set_index('event_name')\n",
    "\n",
    "   # конверсия пользователей в событие от общего числа уникальных пользователей\n",
    "    event_funnel.columns = ['users_number']\n",
    "    event_funnel = event_funnel.sort_values(by='users_number',ascending=False)\n",
    "    event_funnel['% users_share'] = round((event_funnel['users_number']/len(sessions['user_id'].unique())*100),2)\n",
    "    #event_funnel['% users_share'] = event_funnel['% users_share'].astype(str) + '%'\n",
    "    return event_funnel\n",
    "# воронка для группы А   \n",
    "funnel_A = funnel(\"A\",3634)\n",
    "display(funnel_A)\n",
    "# добавляем столбец с \"конверсией в шаг\"\n",
    "funnel_A ['users_total'] = pd.Series([3634,3634,2604,1685,833],index=['registration','login','product_page',\n",
    "'purchase','product_cart'])\n",
    "funnel_A ['% users_share_step'] = round((funnel_A ['users_number']/funnel_A ['users_total'])*100,2)\n",
    "funnel_A  = funnel_A .drop(columns=['users_total'])\n"
   ]
  },
  {
   "cell_type": "code",
   "execution_count": 84,
   "id": "69192b7f",
   "metadata": {},
   "outputs": [
    {
     "data": {
      "text/html": [
       "<div>\n",
       "<style scoped>\n",
       "    .dataframe tbody tr th:only-of-type {\n",
       "        vertical-align: middle;\n",
       "    }\n",
       "\n",
       "    .dataframe tbody tr th {\n",
       "        vertical-align: top;\n",
       "    }\n",
       "\n",
       "    .dataframe thead th {\n",
       "        text-align: right;\n",
       "    }\n",
       "</style>\n",
       "<table border=\"1\" class=\"dataframe\">\n",
       "  <thead>\n",
       "    <tr style=\"text-align: right;\">\n",
       "      <th></th>\n",
       "      <th>event_name</th>\n",
       "      <th>user_id</th>\n",
       "    </tr>\n",
       "  </thead>\n",
       "  <tbody>\n",
       "    <tr>\n",
       "      <th>0</th>\n",
       "      <td>login</td>\n",
       "      <td>877</td>\n",
       "    </tr>\n",
       "    <tr>\n",
       "      <th>1</th>\n",
       "      <td>product_cart</td>\n",
       "      <td>244</td>\n",
       "    </tr>\n",
       "    <tr>\n",
       "      <th>2</th>\n",
       "      <td>product_page</td>\n",
       "      <td>493</td>\n",
       "    </tr>\n",
       "    <tr>\n",
       "      <th>3</th>\n",
       "      <td>purchase</td>\n",
       "      <td>249</td>\n",
       "    </tr>\n",
       "    <tr>\n",
       "      <th>4</th>\n",
       "      <td>registration</td>\n",
       "      <td>1840</td>\n",
       "    </tr>\n",
       "  </tbody>\n",
       "</table>\n",
       "</div>"
      ],
      "text/plain": [
       "     event_name  user_id\n",
       "0         login      877\n",
       "1  product_cart      244\n",
       "2  product_page      493\n",
       "3      purchase      249\n",
       "4  registration     1840"
      ]
     },
     "metadata": {},
     "output_type": "display_data"
    },
    {
     "data": {
      "text/html": [
       "<div>\n",
       "<style scoped>\n",
       "    .dataframe tbody tr th:only-of-type {\n",
       "        vertical-align: middle;\n",
       "    }\n",
       "\n",
       "    .dataframe tbody tr th {\n",
       "        vertical-align: top;\n",
       "    }\n",
       "\n",
       "    .dataframe thead th {\n",
       "        text-align: right;\n",
       "    }\n",
       "</style>\n",
       "<table border=\"1\" class=\"dataframe\">\n",
       "  <thead>\n",
       "    <tr style=\"text-align: right;\">\n",
       "      <th></th>\n",
       "      <th>users_number</th>\n",
       "      <th>% users_share</th>\n",
       "    </tr>\n",
       "    <tr>\n",
       "      <th>event_name</th>\n",
       "      <th></th>\n",
       "      <th></th>\n",
       "    </tr>\n",
       "  </thead>\n",
       "  <tbody>\n",
       "    <tr>\n",
       "      <th>registration</th>\n",
       "      <td>2717</td>\n",
       "      <td>42.78</td>\n",
       "    </tr>\n",
       "    <tr>\n",
       "      <th>login</th>\n",
       "      <td>877</td>\n",
       "      <td>13.81</td>\n",
       "    </tr>\n",
       "    <tr>\n",
       "      <th>product_page</th>\n",
       "      <td>493</td>\n",
       "      <td>7.76</td>\n",
       "    </tr>\n",
       "    <tr>\n",
       "      <th>purchase</th>\n",
       "      <td>249</td>\n",
       "      <td>3.92</td>\n",
       "    </tr>\n",
       "    <tr>\n",
       "      <th>product_cart</th>\n",
       "      <td>244</td>\n",
       "      <td>3.84</td>\n",
       "    </tr>\n",
       "  </tbody>\n",
       "</table>\n",
       "</div>"
      ],
      "text/plain": [
       "              users_number  % users_share\n",
       "event_name                               \n",
       "registration          2717          42.78\n",
       "login                  877          13.81\n",
       "product_page           493           7.76\n",
       "purchase               249           3.92\n",
       "product_cart           244           3.84"
      ]
     },
     "metadata": {},
     "output_type": "display_data"
    }
   ],
   "source": [
    "# воронка для группы B\n",
    "funnel_B = funnel(\"B\",2717)\n",
    "display(funnel_B)\n",
    "# добавляем столбец с \"конверсией в шаг\"\n",
    "funnel_B['users_total'] = pd.Series([2717,2717,1840,493,249],index=['registration','login','product_page',\n",
    "'purchase','product_cart'])\n",
    "funnel_B['% users_share_step'] = round((funnel_B['users_number']/funnel_B['users_total'])*100,2)\n",
    "funnel_B= funnel_B.drop(columns=['users_total'])"
   ]
  },
  {
   "cell_type": "code",
   "execution_count": 85,
   "id": "93436afb",
   "metadata": {
    "scrolled": false
   },
   "outputs": [
    {
     "data": {
      "application/vnd.plotly.v1+json": {
       "config": {
        "plotlyServerURL": "https://plot.ly"
       },
       "data": [
        {
         "name": "A",
         "textinfo": "value+percent initial+percent previous",
         "type": "funnel",
         "x": [
          3634,
          2604,
          1685,
          782,
          833
         ],
         "y": [
          "registration",
          "login",
          "product_page",
          "product_cart",
          "purchase"
         ]
        },
        {
         "name": "B",
         "orientation": "h",
         "textinfo": "value+percent initial+percent previous",
         "type": "funnel",
         "x": [
          2717,
          877,
          493,
          244,
          249
         ],
         "y": [
          "registration",
          "login",
          "product_page",
          "product_cart",
          "purchase"
         ]
        }
       ],
       "layout": {
        "autosize": false,
        "height": 600,
        "template": {
         "data": {
          "bar": [
           {
            "error_x": {
             "color": "#2a3f5f"
            },
            "error_y": {
             "color": "#2a3f5f"
            },
            "marker": {
             "line": {
              "color": "#E5ECF6",
              "width": 0.5
             },
             "pattern": {
              "fillmode": "overlay",
              "size": 10,
              "solidity": 0.2
             }
            },
            "type": "bar"
           }
          ],
          "barpolar": [
           {
            "marker": {
             "line": {
              "color": "#E5ECF6",
              "width": 0.5
             },
             "pattern": {
              "fillmode": "overlay",
              "size": 10,
              "solidity": 0.2
             }
            },
            "type": "barpolar"
           }
          ],
          "carpet": [
           {
            "aaxis": {
             "endlinecolor": "#2a3f5f",
             "gridcolor": "white",
             "linecolor": "white",
             "minorgridcolor": "white",
             "startlinecolor": "#2a3f5f"
            },
            "baxis": {
             "endlinecolor": "#2a3f5f",
             "gridcolor": "white",
             "linecolor": "white",
             "minorgridcolor": "white",
             "startlinecolor": "#2a3f5f"
            },
            "type": "carpet"
           }
          ],
          "choropleth": [
           {
            "colorbar": {
             "outlinewidth": 0,
             "ticks": ""
            },
            "type": "choropleth"
           }
          ],
          "contour": [
           {
            "colorbar": {
             "outlinewidth": 0,
             "ticks": ""
            },
            "colorscale": [
             [
              0,
              "#0d0887"
             ],
             [
              0.1111111111111111,
              "#46039f"
             ],
             [
              0.2222222222222222,
              "#7201a8"
             ],
             [
              0.3333333333333333,
              "#9c179e"
             ],
             [
              0.4444444444444444,
              "#bd3786"
             ],
             [
              0.5555555555555556,
              "#d8576b"
             ],
             [
              0.6666666666666666,
              "#ed7953"
             ],
             [
              0.7777777777777778,
              "#fb9f3a"
             ],
             [
              0.8888888888888888,
              "#fdca26"
             ],
             [
              1,
              "#f0f921"
             ]
            ],
            "type": "contour"
           }
          ],
          "contourcarpet": [
           {
            "colorbar": {
             "outlinewidth": 0,
             "ticks": ""
            },
            "type": "contourcarpet"
           }
          ],
          "heatmap": [
           {
            "colorbar": {
             "outlinewidth": 0,
             "ticks": ""
            },
            "colorscale": [
             [
              0,
              "#0d0887"
             ],
             [
              0.1111111111111111,
              "#46039f"
             ],
             [
              0.2222222222222222,
              "#7201a8"
             ],
             [
              0.3333333333333333,
              "#9c179e"
             ],
             [
              0.4444444444444444,
              "#bd3786"
             ],
             [
              0.5555555555555556,
              "#d8576b"
             ],
             [
              0.6666666666666666,
              "#ed7953"
             ],
             [
              0.7777777777777778,
              "#fb9f3a"
             ],
             [
              0.8888888888888888,
              "#fdca26"
             ],
             [
              1,
              "#f0f921"
             ]
            ],
            "type": "heatmap"
           }
          ],
          "heatmapgl": [
           {
            "colorbar": {
             "outlinewidth": 0,
             "ticks": ""
            },
            "colorscale": [
             [
              0,
              "#0d0887"
             ],
             [
              0.1111111111111111,
              "#46039f"
             ],
             [
              0.2222222222222222,
              "#7201a8"
             ],
             [
              0.3333333333333333,
              "#9c179e"
             ],
             [
              0.4444444444444444,
              "#bd3786"
             ],
             [
              0.5555555555555556,
              "#d8576b"
             ],
             [
              0.6666666666666666,
              "#ed7953"
             ],
             [
              0.7777777777777778,
              "#fb9f3a"
             ],
             [
              0.8888888888888888,
              "#fdca26"
             ],
             [
              1,
              "#f0f921"
             ]
            ],
            "type": "heatmapgl"
           }
          ],
          "histogram": [
           {
            "marker": {
             "pattern": {
              "fillmode": "overlay",
              "size": 10,
              "solidity": 0.2
             }
            },
            "type": "histogram"
           }
          ],
          "histogram2d": [
           {
            "colorbar": {
             "outlinewidth": 0,
             "ticks": ""
            },
            "colorscale": [
             [
              0,
              "#0d0887"
             ],
             [
              0.1111111111111111,
              "#46039f"
             ],
             [
              0.2222222222222222,
              "#7201a8"
             ],
             [
              0.3333333333333333,
              "#9c179e"
             ],
             [
              0.4444444444444444,
              "#bd3786"
             ],
             [
              0.5555555555555556,
              "#d8576b"
             ],
             [
              0.6666666666666666,
              "#ed7953"
             ],
             [
              0.7777777777777778,
              "#fb9f3a"
             ],
             [
              0.8888888888888888,
              "#fdca26"
             ],
             [
              1,
              "#f0f921"
             ]
            ],
            "type": "histogram2d"
           }
          ],
          "histogram2dcontour": [
           {
            "colorbar": {
             "outlinewidth": 0,
             "ticks": ""
            },
            "colorscale": [
             [
              0,
              "#0d0887"
             ],
             [
              0.1111111111111111,
              "#46039f"
             ],
             [
              0.2222222222222222,
              "#7201a8"
             ],
             [
              0.3333333333333333,
              "#9c179e"
             ],
             [
              0.4444444444444444,
              "#bd3786"
             ],
             [
              0.5555555555555556,
              "#d8576b"
             ],
             [
              0.6666666666666666,
              "#ed7953"
             ],
             [
              0.7777777777777778,
              "#fb9f3a"
             ],
             [
              0.8888888888888888,
              "#fdca26"
             ],
             [
              1,
              "#f0f921"
             ]
            ],
            "type": "histogram2dcontour"
           }
          ],
          "mesh3d": [
           {
            "colorbar": {
             "outlinewidth": 0,
             "ticks": ""
            },
            "type": "mesh3d"
           }
          ],
          "parcoords": [
           {
            "line": {
             "colorbar": {
              "outlinewidth": 0,
              "ticks": ""
             }
            },
            "type": "parcoords"
           }
          ],
          "pie": [
           {
            "automargin": true,
            "type": "pie"
           }
          ],
          "scatter": [
           {
            "marker": {
             "colorbar": {
              "outlinewidth": 0,
              "ticks": ""
             }
            },
            "type": "scatter"
           }
          ],
          "scatter3d": [
           {
            "line": {
             "colorbar": {
              "outlinewidth": 0,
              "ticks": ""
             }
            },
            "marker": {
             "colorbar": {
              "outlinewidth": 0,
              "ticks": ""
             }
            },
            "type": "scatter3d"
           }
          ],
          "scattercarpet": [
           {
            "marker": {
             "colorbar": {
              "outlinewidth": 0,
              "ticks": ""
             }
            },
            "type": "scattercarpet"
           }
          ],
          "scattergeo": [
           {
            "marker": {
             "colorbar": {
              "outlinewidth": 0,
              "ticks": ""
             }
            },
            "type": "scattergeo"
           }
          ],
          "scattergl": [
           {
            "marker": {
             "colorbar": {
              "outlinewidth": 0,
              "ticks": ""
             }
            },
            "type": "scattergl"
           }
          ],
          "scattermapbox": [
           {
            "marker": {
             "colorbar": {
              "outlinewidth": 0,
              "ticks": ""
             }
            },
            "type": "scattermapbox"
           }
          ],
          "scatterpolar": [
           {
            "marker": {
             "colorbar": {
              "outlinewidth": 0,
              "ticks": ""
             }
            },
            "type": "scatterpolar"
           }
          ],
          "scatterpolargl": [
           {
            "marker": {
             "colorbar": {
              "outlinewidth": 0,
              "ticks": ""
             }
            },
            "type": "scatterpolargl"
           }
          ],
          "scatterternary": [
           {
            "marker": {
             "colorbar": {
              "outlinewidth": 0,
              "ticks": ""
             }
            },
            "type": "scatterternary"
           }
          ],
          "surface": [
           {
            "colorbar": {
             "outlinewidth": 0,
             "ticks": ""
            },
            "colorscale": [
             [
              0,
              "#0d0887"
             ],
             [
              0.1111111111111111,
              "#46039f"
             ],
             [
              0.2222222222222222,
              "#7201a8"
             ],
             [
              0.3333333333333333,
              "#9c179e"
             ],
             [
              0.4444444444444444,
              "#bd3786"
             ],
             [
              0.5555555555555556,
              "#d8576b"
             ],
             [
              0.6666666666666666,
              "#ed7953"
             ],
             [
              0.7777777777777778,
              "#fb9f3a"
             ],
             [
              0.8888888888888888,
              "#fdca26"
             ],
             [
              1,
              "#f0f921"
             ]
            ],
            "type": "surface"
           }
          ],
          "table": [
           {
            "cells": {
             "fill": {
              "color": "#EBF0F8"
             },
             "line": {
              "color": "white"
             }
            },
            "header": {
             "fill": {
              "color": "#C8D4E3"
             },
             "line": {
              "color": "white"
             }
            },
            "type": "table"
           }
          ]
         },
         "layout": {
          "annotationdefaults": {
           "arrowcolor": "#2a3f5f",
           "arrowhead": 0,
           "arrowwidth": 1
          },
          "autotypenumbers": "strict",
          "coloraxis": {
           "colorbar": {
            "outlinewidth": 0,
            "ticks": ""
           }
          },
          "colorscale": {
           "diverging": [
            [
             0,
             "#8e0152"
            ],
            [
             0.1,
             "#c51b7d"
            ],
            [
             0.2,
             "#de77ae"
            ],
            [
             0.3,
             "#f1b6da"
            ],
            [
             0.4,
             "#fde0ef"
            ],
            [
             0.5,
             "#f7f7f7"
            ],
            [
             0.6,
             "#e6f5d0"
            ],
            [
             0.7,
             "#b8e186"
            ],
            [
             0.8,
             "#7fbc41"
            ],
            [
             0.9,
             "#4d9221"
            ],
            [
             1,
             "#276419"
            ]
           ],
           "sequential": [
            [
             0,
             "#0d0887"
            ],
            [
             0.1111111111111111,
             "#46039f"
            ],
            [
             0.2222222222222222,
             "#7201a8"
            ],
            [
             0.3333333333333333,
             "#9c179e"
            ],
            [
             0.4444444444444444,
             "#bd3786"
            ],
            [
             0.5555555555555556,
             "#d8576b"
            ],
            [
             0.6666666666666666,
             "#ed7953"
            ],
            [
             0.7777777777777778,
             "#fb9f3a"
            ],
            [
             0.8888888888888888,
             "#fdca26"
            ],
            [
             1,
             "#f0f921"
            ]
           ],
           "sequentialminus": [
            [
             0,
             "#0d0887"
            ],
            [
             0.1111111111111111,
             "#46039f"
            ],
            [
             0.2222222222222222,
             "#7201a8"
            ],
            [
             0.3333333333333333,
             "#9c179e"
            ],
            [
             0.4444444444444444,
             "#bd3786"
            ],
            [
             0.5555555555555556,
             "#d8576b"
            ],
            [
             0.6666666666666666,
             "#ed7953"
            ],
            [
             0.7777777777777778,
             "#fb9f3a"
            ],
            [
             0.8888888888888888,
             "#fdca26"
            ],
            [
             1,
             "#f0f921"
            ]
           ]
          },
          "colorway": [
           "#636efa",
           "#EF553B",
           "#00cc96",
           "#ab63fa",
           "#FFA15A",
           "#19d3f3",
           "#FF6692",
           "#B6E880",
           "#FF97FF",
           "#FECB52"
          ],
          "font": {
           "color": "#2a3f5f"
          },
          "geo": {
           "bgcolor": "white",
           "lakecolor": "white",
           "landcolor": "#E5ECF6",
           "showlakes": true,
           "showland": true,
           "subunitcolor": "white"
          },
          "hoverlabel": {
           "align": "left"
          },
          "hovermode": "closest",
          "mapbox": {
           "style": "light"
          },
          "paper_bgcolor": "white",
          "plot_bgcolor": "#E5ECF6",
          "polar": {
           "angularaxis": {
            "gridcolor": "white",
            "linecolor": "white",
            "ticks": ""
           },
           "bgcolor": "#E5ECF6",
           "radialaxis": {
            "gridcolor": "white",
            "linecolor": "white",
            "ticks": ""
           }
          },
          "scene": {
           "xaxis": {
            "backgroundcolor": "#E5ECF6",
            "gridcolor": "white",
            "gridwidth": 2,
            "linecolor": "white",
            "showbackground": true,
            "ticks": "",
            "zerolinecolor": "white"
           },
           "yaxis": {
            "backgroundcolor": "#E5ECF6",
            "gridcolor": "white",
            "gridwidth": 2,
            "linecolor": "white",
            "showbackground": true,
            "ticks": "",
            "zerolinecolor": "white"
           },
           "zaxis": {
            "backgroundcolor": "#E5ECF6",
            "gridcolor": "white",
            "gridwidth": 2,
            "linecolor": "white",
            "showbackground": true,
            "ticks": "",
            "zerolinecolor": "white"
           }
          },
          "shapedefaults": {
           "line": {
            "color": "#2a3f5f"
           }
          },
          "ternary": {
           "aaxis": {
            "gridcolor": "white",
            "linecolor": "white",
            "ticks": ""
           },
           "baxis": {
            "gridcolor": "white",
            "linecolor": "white",
            "ticks": ""
           },
           "bgcolor": "#E5ECF6",
           "caxis": {
            "gridcolor": "white",
            "linecolor": "white",
            "ticks": ""
           }
          },
          "title": {
           "x": 0.05
          },
          "xaxis": {
           "automargin": true,
           "gridcolor": "white",
           "linecolor": "white",
           "ticks": "",
           "title": {
            "standoff": 15
           },
           "zerolinecolor": "white",
           "zerolinewidth": 2
          },
          "yaxis": {
           "automargin": true,
           "gridcolor": "white",
           "linecolor": "white",
           "ticks": "",
           "title": {
            "standoff": 15
           },
           "zerolinecolor": "white",
           "zerolinewidth": 2
          }
         }
        },
        "width": 1000
       }
      },
      "text/html": [
       "<div>                            <div id=\"d467ecbe-7723-4498-82f5-f4a4959fa10e\" class=\"plotly-graph-div\" style=\"height:600px; width:1000px;\"></div>            <script type=\"text/javascript\">                require([\"plotly\"], function(Plotly) {                    window.PLOTLYENV=window.PLOTLYENV || {};                                    if (document.getElementById(\"d467ecbe-7723-4498-82f5-f4a4959fa10e\")) {                    Plotly.newPlot(                        \"d467ecbe-7723-4498-82f5-f4a4959fa10e\",                        [{\"name\":\"A\",\"textinfo\":\"value+percent initial+percent previous\",\"x\":[3634,2604,1685,782,833],\"y\":[\"registration\",\"login\",\"product_page\",\"product_cart\",\"purchase\"],\"type\":\"funnel\"},{\"name\":\"B\",\"orientation\":\"h\",\"textinfo\":\"value+percent initial+percent previous\",\"x\":[2717,877,493,244,249],\"y\":[\"registration\",\"login\",\"product_page\",\"product_cart\",\"purchase\"],\"type\":\"funnel\"}],                        {\"template\":{\"data\":{\"bar\":[{\"error_x\":{\"color\":\"#2a3f5f\"},\"error_y\":{\"color\":\"#2a3f5f\"},\"marker\":{\"line\":{\"color\":\"#E5ECF6\",\"width\":0.5},\"pattern\":{\"fillmode\":\"overlay\",\"size\":10,\"solidity\":0.2}},\"type\":\"bar\"}],\"barpolar\":[{\"marker\":{\"line\":{\"color\":\"#E5ECF6\",\"width\":0.5},\"pattern\":{\"fillmode\":\"overlay\",\"size\":10,\"solidity\":0.2}},\"type\":\"barpolar\"}],\"carpet\":[{\"aaxis\":{\"endlinecolor\":\"#2a3f5f\",\"gridcolor\":\"white\",\"linecolor\":\"white\",\"minorgridcolor\":\"white\",\"startlinecolor\":\"#2a3f5f\"},\"baxis\":{\"endlinecolor\":\"#2a3f5f\",\"gridcolor\":\"white\",\"linecolor\":\"white\",\"minorgridcolor\":\"white\",\"startlinecolor\":\"#2a3f5f\"},\"type\":\"carpet\"}],\"choropleth\":[{\"colorbar\":{\"outlinewidth\":0,\"ticks\":\"\"},\"type\":\"choropleth\"}],\"contour\":[{\"colorbar\":{\"outlinewidth\":0,\"ticks\":\"\"},\"colorscale\":[[0.0,\"#0d0887\"],[0.1111111111111111,\"#46039f\"],[0.2222222222222222,\"#7201a8\"],[0.3333333333333333,\"#9c179e\"],[0.4444444444444444,\"#bd3786\"],[0.5555555555555556,\"#d8576b\"],[0.6666666666666666,\"#ed7953\"],[0.7777777777777778,\"#fb9f3a\"],[0.8888888888888888,\"#fdca26\"],[1.0,\"#f0f921\"]],\"type\":\"contour\"}],\"contourcarpet\":[{\"colorbar\":{\"outlinewidth\":0,\"ticks\":\"\"},\"type\":\"contourcarpet\"}],\"heatmap\":[{\"colorbar\":{\"outlinewidth\":0,\"ticks\":\"\"},\"colorscale\":[[0.0,\"#0d0887\"],[0.1111111111111111,\"#46039f\"],[0.2222222222222222,\"#7201a8\"],[0.3333333333333333,\"#9c179e\"],[0.4444444444444444,\"#bd3786\"],[0.5555555555555556,\"#d8576b\"],[0.6666666666666666,\"#ed7953\"],[0.7777777777777778,\"#fb9f3a\"],[0.8888888888888888,\"#fdca26\"],[1.0,\"#f0f921\"]],\"type\":\"heatmap\"}],\"heatmapgl\":[{\"colorbar\":{\"outlinewidth\":0,\"ticks\":\"\"},\"colorscale\":[[0.0,\"#0d0887\"],[0.1111111111111111,\"#46039f\"],[0.2222222222222222,\"#7201a8\"],[0.3333333333333333,\"#9c179e\"],[0.4444444444444444,\"#bd3786\"],[0.5555555555555556,\"#d8576b\"],[0.6666666666666666,\"#ed7953\"],[0.7777777777777778,\"#fb9f3a\"],[0.8888888888888888,\"#fdca26\"],[1.0,\"#f0f921\"]],\"type\":\"heatmapgl\"}],\"histogram\":[{\"marker\":{\"pattern\":{\"fillmode\":\"overlay\",\"size\":10,\"solidity\":0.2}},\"type\":\"histogram\"}],\"histogram2d\":[{\"colorbar\":{\"outlinewidth\":0,\"ticks\":\"\"},\"colorscale\":[[0.0,\"#0d0887\"],[0.1111111111111111,\"#46039f\"],[0.2222222222222222,\"#7201a8\"],[0.3333333333333333,\"#9c179e\"],[0.4444444444444444,\"#bd3786\"],[0.5555555555555556,\"#d8576b\"],[0.6666666666666666,\"#ed7953\"],[0.7777777777777778,\"#fb9f3a\"],[0.8888888888888888,\"#fdca26\"],[1.0,\"#f0f921\"]],\"type\":\"histogram2d\"}],\"histogram2dcontour\":[{\"colorbar\":{\"outlinewidth\":0,\"ticks\":\"\"},\"colorscale\":[[0.0,\"#0d0887\"],[0.1111111111111111,\"#46039f\"],[0.2222222222222222,\"#7201a8\"],[0.3333333333333333,\"#9c179e\"],[0.4444444444444444,\"#bd3786\"],[0.5555555555555556,\"#d8576b\"],[0.6666666666666666,\"#ed7953\"],[0.7777777777777778,\"#fb9f3a\"],[0.8888888888888888,\"#fdca26\"],[1.0,\"#f0f921\"]],\"type\":\"histogram2dcontour\"}],\"mesh3d\":[{\"colorbar\":{\"outlinewidth\":0,\"ticks\":\"\"},\"type\":\"mesh3d\"}],\"parcoords\":[{\"line\":{\"colorbar\":{\"outlinewidth\":0,\"ticks\":\"\"}},\"type\":\"parcoords\"}],\"pie\":[{\"automargin\":true,\"type\":\"pie\"}],\"scatter\":[{\"marker\":{\"colorbar\":{\"outlinewidth\":0,\"ticks\":\"\"}},\"type\":\"scatter\"}],\"scatter3d\":[{\"line\":{\"colorbar\":{\"outlinewidth\":0,\"ticks\":\"\"}},\"marker\":{\"colorbar\":{\"outlinewidth\":0,\"ticks\":\"\"}},\"type\":\"scatter3d\"}],\"scattercarpet\":[{\"marker\":{\"colorbar\":{\"outlinewidth\":0,\"ticks\":\"\"}},\"type\":\"scattercarpet\"}],\"scattergeo\":[{\"marker\":{\"colorbar\":{\"outlinewidth\":0,\"ticks\":\"\"}},\"type\":\"scattergeo\"}],\"scattergl\":[{\"marker\":{\"colorbar\":{\"outlinewidth\":0,\"ticks\":\"\"}},\"type\":\"scattergl\"}],\"scattermapbox\":[{\"marker\":{\"colorbar\":{\"outlinewidth\":0,\"ticks\":\"\"}},\"type\":\"scattermapbox\"}],\"scatterpolar\":[{\"marker\":{\"colorbar\":{\"outlinewidth\":0,\"ticks\":\"\"}},\"type\":\"scatterpolar\"}],\"scatterpolargl\":[{\"marker\":{\"colorbar\":{\"outlinewidth\":0,\"ticks\":\"\"}},\"type\":\"scatterpolargl\"}],\"scatterternary\":[{\"marker\":{\"colorbar\":{\"outlinewidth\":0,\"ticks\":\"\"}},\"type\":\"scatterternary\"}],\"surface\":[{\"colorbar\":{\"outlinewidth\":0,\"ticks\":\"\"},\"colorscale\":[[0.0,\"#0d0887\"],[0.1111111111111111,\"#46039f\"],[0.2222222222222222,\"#7201a8\"],[0.3333333333333333,\"#9c179e\"],[0.4444444444444444,\"#bd3786\"],[0.5555555555555556,\"#d8576b\"],[0.6666666666666666,\"#ed7953\"],[0.7777777777777778,\"#fb9f3a\"],[0.8888888888888888,\"#fdca26\"],[1.0,\"#f0f921\"]],\"type\":\"surface\"}],\"table\":[{\"cells\":{\"fill\":{\"color\":\"#EBF0F8\"},\"line\":{\"color\":\"white\"}},\"header\":{\"fill\":{\"color\":\"#C8D4E3\"},\"line\":{\"color\":\"white\"}},\"type\":\"table\"}]},\"layout\":{\"annotationdefaults\":{\"arrowcolor\":\"#2a3f5f\",\"arrowhead\":0,\"arrowwidth\":1},\"autotypenumbers\":\"strict\",\"coloraxis\":{\"colorbar\":{\"outlinewidth\":0,\"ticks\":\"\"}},\"colorscale\":{\"diverging\":[[0,\"#8e0152\"],[0.1,\"#c51b7d\"],[0.2,\"#de77ae\"],[0.3,\"#f1b6da\"],[0.4,\"#fde0ef\"],[0.5,\"#f7f7f7\"],[0.6,\"#e6f5d0\"],[0.7,\"#b8e186\"],[0.8,\"#7fbc41\"],[0.9,\"#4d9221\"],[1,\"#276419\"]],\"sequential\":[[0.0,\"#0d0887\"],[0.1111111111111111,\"#46039f\"],[0.2222222222222222,\"#7201a8\"],[0.3333333333333333,\"#9c179e\"],[0.4444444444444444,\"#bd3786\"],[0.5555555555555556,\"#d8576b\"],[0.6666666666666666,\"#ed7953\"],[0.7777777777777778,\"#fb9f3a\"],[0.8888888888888888,\"#fdca26\"],[1.0,\"#f0f921\"]],\"sequentialminus\":[[0.0,\"#0d0887\"],[0.1111111111111111,\"#46039f\"],[0.2222222222222222,\"#7201a8\"],[0.3333333333333333,\"#9c179e\"],[0.4444444444444444,\"#bd3786\"],[0.5555555555555556,\"#d8576b\"],[0.6666666666666666,\"#ed7953\"],[0.7777777777777778,\"#fb9f3a\"],[0.8888888888888888,\"#fdca26\"],[1.0,\"#f0f921\"]]},\"colorway\":[\"#636efa\",\"#EF553B\",\"#00cc96\",\"#ab63fa\",\"#FFA15A\",\"#19d3f3\",\"#FF6692\",\"#B6E880\",\"#FF97FF\",\"#FECB52\"],\"font\":{\"color\":\"#2a3f5f\"},\"geo\":{\"bgcolor\":\"white\",\"lakecolor\":\"white\",\"landcolor\":\"#E5ECF6\",\"showlakes\":true,\"showland\":true,\"subunitcolor\":\"white\"},\"hoverlabel\":{\"align\":\"left\"},\"hovermode\":\"closest\",\"mapbox\":{\"style\":\"light\"},\"paper_bgcolor\":\"white\",\"plot_bgcolor\":\"#E5ECF6\",\"polar\":{\"angularaxis\":{\"gridcolor\":\"white\",\"linecolor\":\"white\",\"ticks\":\"\"},\"bgcolor\":\"#E5ECF6\",\"radialaxis\":{\"gridcolor\":\"white\",\"linecolor\":\"white\",\"ticks\":\"\"}},\"scene\":{\"xaxis\":{\"backgroundcolor\":\"#E5ECF6\",\"gridcolor\":\"white\",\"gridwidth\":2,\"linecolor\":\"white\",\"showbackground\":true,\"ticks\":\"\",\"zerolinecolor\":\"white\"},\"yaxis\":{\"backgroundcolor\":\"#E5ECF6\",\"gridcolor\":\"white\",\"gridwidth\":2,\"linecolor\":\"white\",\"showbackground\":true,\"ticks\":\"\",\"zerolinecolor\":\"white\"},\"zaxis\":{\"backgroundcolor\":\"#E5ECF6\",\"gridcolor\":\"white\",\"gridwidth\":2,\"linecolor\":\"white\",\"showbackground\":true,\"ticks\":\"\",\"zerolinecolor\":\"white\"}},\"shapedefaults\":{\"line\":{\"color\":\"#2a3f5f\"}},\"ternary\":{\"aaxis\":{\"gridcolor\":\"white\",\"linecolor\":\"white\",\"ticks\":\"\"},\"baxis\":{\"gridcolor\":\"white\",\"linecolor\":\"white\",\"ticks\":\"\"},\"bgcolor\":\"#E5ECF6\",\"caxis\":{\"gridcolor\":\"white\",\"linecolor\":\"white\",\"ticks\":\"\"}},\"title\":{\"x\":0.05},\"xaxis\":{\"automargin\":true,\"gridcolor\":\"white\",\"linecolor\":\"white\",\"ticks\":\"\",\"title\":{\"standoff\":15},\"zerolinecolor\":\"white\",\"zerolinewidth\":2},\"yaxis\":{\"automargin\":true,\"gridcolor\":\"white\",\"linecolor\":\"white\",\"ticks\":\"\",\"title\":{\"standoff\":15},\"zerolinecolor\":\"white\",\"zerolinewidth\":2}}},\"autosize\":false,\"width\":1000,\"height\":600},                        {\"responsive\": true}                    ).then(function(){\n",
       "                            \n",
       "var gd = document.getElementById('d467ecbe-7723-4498-82f5-f4a4959fa10e');\n",
       "var x = new MutationObserver(function (mutations, observer) {{\n",
       "        var display = window.getComputedStyle(gd).display;\n",
       "        if (!display || display === 'none') {{\n",
       "            console.log([gd, 'removed!']);\n",
       "            Plotly.purge(gd);\n",
       "            observer.disconnect();\n",
       "        }}\n",
       "}});\n",
       "\n",
       "// Listen for the removal of the full notebook cells\n",
       "var notebookContainer = gd.closest('#notebook-container');\n",
       "if (notebookContainer) {{\n",
       "    x.observe(notebookContainer, {childList: true});\n",
       "}}\n",
       "\n",
       "// Listen for the clearing of the current output cell\n",
       "var outputEl = gd.closest('.output');\n",
       "if (outputEl) {{\n",
       "    x.observe(outputEl, {childList: true});\n",
       "}}\n",
       "\n",
       "                        })                };                });            </script>        </div>"
      ]
     },
     "metadata": {},
     "output_type": "display_data"
    }
   ],
   "source": [
    "# вывод воронки\n",
    "\n",
    "fig = go.Figure()\n",
    "fig.add_trace(go.Funnel(\n",
    "    name = 'A',\n",
    "    y = [\"registration\", \"login\", \"product_page\", \"product_cart\",\"purchase\"],\n",
    "    x = [3634, 2604, 1685, 782, 833],\n",
    "    textinfo = \"value+percent initial+percent previous\"))\n",
    "fig.add_trace(go.Funnel(\n",
    "    name = 'B',\n",
    "    orientation = \"h\",\n",
    "    y = [\"registration\", \"login\", \"product_page\", \"product_cart\",\"purchase\"],\n",
    "    x = [2717, 877, 493, 244, 249],\n",
    "    \n",
    "    textinfo = \"value+percent initial+percent previous\"))\n",
    "fig.update_layout(\n",
    "    autosize=False,\n",
    "    width=1000,\n",
    "    height=600)\n",
    "fig.show()\n"
   ]
  },
  {
   "cell_type": "markdown",
   "id": "ba6c1399",
   "metadata": {},
   "source": [
    "### Вывод\n",
    "     - Всего в логе событий:  26290\n",
    "     - Кол-во юзеров: 6351\n",
    "     - Всего в логе событий уникальных:  5\n",
    "     - События  в логе:  ['purchase' 'product_cart' 'product_page' 'login' 'registration']\n",
    "     - Среднее кол-во событий на пользователя:  4.0 (на самом деле 5, на данном этапе мы не учли факт регистрации)\n",
    "     - Среднее кол-во событий на пользователя уникальных:  2.0 ( тут 3 соответственно)\n",
    "     \n",
    "     - Распределение событий схоже между тестами A и B:\n",
    "     - наибольший процент событий приходится на день регистрации  \n",
    "     - основная конверсия приходится на 1 день и далее распределяется аналогично в обеих группах\n",
    "     - конверсия событий выше в группе A:\n",
    "     - A: login-72%, product_page-46%, purchase-23%, product_cart-22%\n",
    "     - B: login-32%, product_page-19%, purchase-9%, product_cart-9%\n",
    "    "
   ]
  },
  {
   "cell_type": "markdown",
   "id": "b02c9b85",
   "metadata": {},
   "source": [
    "## Проверка разницы между конверсиями между тестом и когтролом. Оценка статистической значимости разницы z-критерием."
   ]
  },
  {
   "cell_type": "markdown",
   "id": "9ed499a9",
   "metadata": {},
   "source": [
    "Прописываем формулу проверки равенства долей между группами. Помним, чтов задачах теста:\n",
    "за 14 дней с момента регистрации улучшение каждой метрики не менее, чем на 10%:\n",
    "конверсии в просмотр карточек товаров — событие product_page ,\n",
    "просмотры корзины — product_cart\n",
    "покупки — purchase\n"
   ]
  },
  {
   "cell_type": "code",
   "execution_count": 86,
   "id": "8bea248b",
   "metadata": {
    "scrolled": true
   },
   "outputs": [
    {
     "data": {
      "text/html": [
       "<div>\n",
       "<style scoped>\n",
       "    .dataframe tbody tr th:only-of-type {\n",
       "        vertical-align: middle;\n",
       "    }\n",
       "\n",
       "    .dataframe tbody tr th {\n",
       "        vertical-align: top;\n",
       "    }\n",
       "\n",
       "    .dataframe thead th {\n",
       "        text-align: right;\n",
       "    }\n",
       "</style>\n",
       "<table border=\"1\" class=\"dataframe\">\n",
       "  <thead>\n",
       "    <tr style=\"text-align: right;\">\n",
       "      <th></th>\n",
       "      <th>user_id</th>\n",
       "      <th>group</th>\n",
       "      <th>ab_test</th>\n",
       "      <th>first_date</th>\n",
       "      <th>region</th>\n",
       "      <th>device</th>\n",
       "      <th>event_dt</th>\n",
       "      <th>event_name</th>\n",
       "      <th>details</th>\n",
       "    </tr>\n",
       "  </thead>\n",
       "  <tbody>\n",
       "    <tr>\n",
       "      <th>0</th>\n",
       "      <td>D1ABA3E2887B6A73</td>\n",
       "      <td>A</td>\n",
       "      <td>recommender_system_test</td>\n",
       "      <td>2020-12-07</td>\n",
       "      <td>EU</td>\n",
       "      <td>PC</td>\n",
       "      <td>2020-12-07</td>\n",
       "      <td>purchase</td>\n",
       "      <td>99.99</td>\n",
       "    </tr>\n",
       "    <tr>\n",
       "      <th>1</th>\n",
       "      <td>D1ABA3E2887B6A73</td>\n",
       "      <td>A</td>\n",
       "      <td>recommender_system_test</td>\n",
       "      <td>2020-12-07</td>\n",
       "      <td>EU</td>\n",
       "      <td>PC</td>\n",
       "      <td>2020-12-25</td>\n",
       "      <td>purchase</td>\n",
       "      <td>4.99</td>\n",
       "    </tr>\n",
       "    <tr>\n",
       "      <th>2</th>\n",
       "      <td>D1ABA3E2887B6A73</td>\n",
       "      <td>A</td>\n",
       "      <td>recommender_system_test</td>\n",
       "      <td>2020-12-07</td>\n",
       "      <td>EU</td>\n",
       "      <td>PC</td>\n",
       "      <td>2020-12-07</td>\n",
       "      <td>product_cart</td>\n",
       "      <td>no_purchase</td>\n",
       "    </tr>\n",
       "    <tr>\n",
       "      <th>3</th>\n",
       "      <td>D1ABA3E2887B6A73</td>\n",
       "      <td>A</td>\n",
       "      <td>recommender_system_test</td>\n",
       "      <td>2020-12-07</td>\n",
       "      <td>EU</td>\n",
       "      <td>PC</td>\n",
       "      <td>2020-12-25</td>\n",
       "      <td>product_cart</td>\n",
       "      <td>no_purchase</td>\n",
       "    </tr>\n",
       "    <tr>\n",
       "      <th>4</th>\n",
       "      <td>D1ABA3E2887B6A73</td>\n",
       "      <td>A</td>\n",
       "      <td>recommender_system_test</td>\n",
       "      <td>2020-12-07</td>\n",
       "      <td>EU</td>\n",
       "      <td>PC</td>\n",
       "      <td>2020-12-07</td>\n",
       "      <td>product_page</td>\n",
       "      <td>no_purchase</td>\n",
       "    </tr>\n",
       "  </tbody>\n",
       "</table>\n",
       "</div>"
      ],
      "text/plain": [
       "            user_id group                  ab_test first_date region device  \\\n",
       "0  D1ABA3E2887B6A73     A  recommender_system_test 2020-12-07     EU     PC   \n",
       "1  D1ABA3E2887B6A73     A  recommender_system_test 2020-12-07     EU     PC   \n",
       "2  D1ABA3E2887B6A73     A  recommender_system_test 2020-12-07     EU     PC   \n",
       "3  D1ABA3E2887B6A73     A  recommender_system_test 2020-12-07     EU     PC   \n",
       "4  D1ABA3E2887B6A73     A  recommender_system_test 2020-12-07     EU     PC   \n",
       "\n",
       "    event_dt    event_name      details  \n",
       "0 2020-12-07      purchase        99.99  \n",
       "1 2020-12-25      purchase         4.99  \n",
       "2 2020-12-07  product_cart  no_purchase  \n",
       "3 2020-12-25  product_cart  no_purchase  \n",
       "4 2020-12-07  product_page  no_purchase  "
      ]
     },
     "metadata": {},
     "output_type": "display_data"
    }
   ],
   "source": [
    "display(sessions.head())"
   ]
  },
  {
   "cell_type": "code",
   "execution_count": 87,
   "id": "4711052e",
   "metadata": {},
   "outputs": [],
   "source": [
    "def test(sessions,event,exp1,exp2,a):\n",
    "    test_funnel = sessions.groupby(['event_name','group']).agg({'user_id':'nunique'}).reset_index()\n",
    "    \n",
    "    # прописываем функцию для конверсия пользователей в событие N от общего числа уникальных пользователей\n",
    "    test_funnel.columns = ['event_name','group','users_number']\n",
    "    test_funnel = test_funnel.sort_values(by='users_number',ascending=False)\n",
    "    group = sessions.groupby('group',as_index=False).agg({'user_id':'nunique'})\n",
    "    group.columns = ['group','unique_users'] \n",
    "    test_funnel = test_funnel.merge(group,on=['group'])\n",
    "\n",
    "    # считаем процент конверсии в каждое событие от общего кол-ва уникальных пользователей группы\n",
    "    test_funnel['% users_share'] = round(test_funnel['users_number']/test_funnel['unique_users'],2)\n",
    "\n",
    "    # выделяем событие, по которому рассчитывается ключевая метрика\n",
    "    test_funnel = test_funnel[(test_funnel['event_name']==event)]\n",
    "    users_exp1 = test_funnel[test_funnel['group']==exp1]\n",
    "    users_exp2 = test_funnel[test_funnel['group']==exp2]\n",
    "    test_funnel = (pd.concat([users_exp1,users_exp2],axis=0)).reset_index(drop=True)\n",
    "    \n",
    "    \n",
    "    # Проверяем гипотезу о равенстве долей в этих двух группах-Ho\n",
    "    # Альтернативная гипотеза-между долями есть разница-H1\n",
    "  \n",
    "    alpha = a  \n",
    "    p1 = test_funnel['% users_share'][0]\n",
    "    p2 = test_funnel['% users_share'][1]\n",
    "    \n",
    "    # транслируем полученные доли\n",
    "    print('Доли в каждой группе: ',p1,p2)\n",
    "    print('Разница в долях: ',round(p1/p2,2))\n",
    "          \n",
    "    p_combined = (test_funnel['users_number'].sum())/(test_funnel['unique_users'].sum())\n",
    "    difference = p1-p2\n",
    "    z_value = difference/mth.sqrt(p_combined*(1-p_combined)*(1/test_funnel['unique_users'][0]+1/test_funnel['unique_users'][1])) \n",
    "\n",
    "    # задаем стандартное нормальное распределение (среднее 0, ст.отклонение 1)\n",
    "    distr = stats.norm(0,1)\n",
    "    \n",
    "    p_value = (1-distr.cdf(abs(z_value)))*2 \n",
    "            \n",
    "    print('p-значение: ', p_value)\n",
    "    if p_value < alpha: \n",
    "        print('Отвергаем нулевую гипотезу: между долями есть значимая разница')\n",
    "    else:\n",
    "        print(\n",
    "        'Не получилось отвергнуть нулевую гипотезу, нет оснований считать доли разными'\n",
    "         )"
   ]
  },
  {
   "cell_type": "markdown",
   "id": "f3958db9",
   "metadata": {},
   "source": []
  },
  {
   "cell_type": "markdown",
   "id": "44591558",
   "metadata": {},
   "source": [
    "Изначальный уровень статистической значимости 0.05. У нас всего 3 проверки. Применяем поправку Бонферрони и уровень получается равным 0,017.events =[product_page, product_cart,purchase]"
   ]
  },
  {
   "cell_type": "code",
   "execution_count": 88,
   "id": "57c581c4",
   "metadata": {},
   "outputs": [
    {
     "name": "stdout",
     "output_type": "stream",
     "text": [
      "Доли в каждой группе:  0.46 0.18\n",
      "Разница в долях:  2.56\n",
      "p-значение:  0.0\n",
      "Отвергаем нулевую гипотезу: между долями есть значимая разница\n"
     ]
    }
   ],
   "source": [
    "# Проверяем гипотезу о равенстве конверсий в product_page в этих двух группах-Ho\n",
    "# Альтернативная гипотеза-между конверсиями  есть разница-H1\n",
    "test_funnel = test(sessions,'product_page','A','B',0.017)\n"
   ]
  },
  {
   "cell_type": "code",
   "execution_count": 89,
   "id": "1590ac56",
   "metadata": {},
   "outputs": [
    {
     "name": "stdout",
     "output_type": "stream",
     "text": [
      "Доли в каждой группе:  0.22 0.09\n",
      "Разница в долях:  2.44\n",
      "p-значение:  0.0\n",
      "Отвергаем нулевую гипотезу: между долями есть значимая разница\n"
     ]
    }
   ],
   "source": [
    "# Проверяем гипотезу о равенстве конверсий в product_cart в этих двух группах-Ho\n",
    "# Альтернативная гипотеза-между конверсиями  есть разница-H1\n",
    "test_funnel = test(sessions,'product_cart','A','B',0.017)"
   ]
  },
  {
   "cell_type": "code",
   "execution_count": 90,
   "id": "c62b02a1",
   "metadata": {},
   "outputs": [
    {
     "name": "stdout",
     "output_type": "stream",
     "text": [
      "Доли в каждой группе:  0.23 0.09\n",
      "Разница в долях:  2.56\n",
      "p-значение:  0.0\n",
      "Отвергаем нулевую гипотезу: между долями есть значимая разница\n"
     ]
    }
   ],
   "source": [
    "# Проверяем гипотезу о равенстве конверсий в purchase в этих двух группах-Ho\n",
    "# Альтернативная гипотеза-между конверсиями  есть разница-H1\n",
    "test_funnel = test(sessions,'purchase','A','B',0.017)"
   ]
  },
  {
   "cell_type": "markdown",
   "id": "5896b12f",
   "metadata": {},
   "source": [
    "#### Вывод\n",
    "   -  Разница в конверсии группы B (теста) изменилась на:\n",
    "   -  в 'product page' на 28% ниже, между долями значимая разница\n",
    "   -  в 'product_cart' на 13% ниже, между долями значимая разница\n",
    "   -  в 'purchase' на 14% ниже,между долями значимая разница"
   ]
  },
  {
   "cell_type": "markdown",
   "id": "9d112c40",
   "metadata": {},
   "source": [
    "##### Вывод:\n",
    "- Выборка для теста произведена некорректно, так как не соответствует ТЗ:\n",
    "- В ТЗ было заявлено, что кол-во участников для теста должно составлять 15% новых пользователей из Европы, т.е. 6940\n",
    "  По факту оно составляет 14% - 6351. Проверка выше показала, что между долями есть статистически значимая разница.\n",
    "  Из 6700 пользователй, заявленных в тесте 5% не соответствуют условию, поэтому отбрасываются. Они принадлежат следующим       регионам по процентам:\n",
    "  \n",
    "- APAC\t\t20.57\n",
    "- CIS\t    15.71\n",
    "- N.America\t63.71\n",
    "  \n",
    "- есть пересечение пользователй между 2-мя разными тестами. Доля общих участников в каждой из тестовых групп составляет          - 25%\n",
    "- есть пересечение времени проведения теста с другой маркетинговой акцией: Christmas&New Year Promo, проводимой в EU,            - и N.America с 2020-12-25 по 2021-01-03. 30% и 40% от всех участников попадают в период проведения маркетинговой акции          - в группах А и В соответственно \n",
    "     \n",
    "- Всего в логе событий:  26290\n",
    "- Кол-во юзеров: 6351\n",
    "- Всего в логе событий уникальных:  5\n",
    "- События  в логе:  ['purchase' 'product_cart' 'product_page' 'login' 'registration']\n",
    "- Среднее кол-во событий на пользователя:  4.0 (на самом деле 5, на данном этапе мы не учли факт регистрации)\n",
    "- Среднее кол-во событий на пользователя уникальных:  2.0 ( тут 3 соответственно)\n",
    "     \n",
    "- Распределение событий схоже между тестами A и B:\n",
    "- наибольший процент событий приходится на день регистрации  \n",
    "- основная конверсия приходится на 1 день и далее распределяется аналогично в обеих группах\n",
    "- конверсия событий выше в группе A:\n",
    "- A: login-72%, product_page-46%, purchase-23%, product_cart-22%\n",
    "- B: login-32%, product_page-19%, purchase-9%, product_cart-9%\n",
    "\n",
    "-  Разница в конверсии группы B (теста) изменилась на:\n",
    "-  в 'product page' на 28% ниже, между долями значимая разница\n",
    "-  в 'product_cart' на 13% ниже, между долями значимая разница\n",
    "-  в 'purchase' на 14% ниже,между долями значимая разница\n",
    "     \n",
    "\n",
    "     \n",
    "- В целом выборка некорректна и опровергает выводы о росте метрик на 10% в тесте по отношению контролу"
   ]
  }
 ],
 "metadata": {
  "ExecuteTimeLog": [
   {
    "duration": 1730,
    "start_time": "2022-05-21T08:45:52.904Z"
   },
   {
    "duration": 4,
    "start_time": "2022-05-21T08:45:58.765Z"
   },
   {
    "duration": 899,
    "start_time": "2022-05-21T09:32:48.661Z"
   },
   {
    "duration": 814,
    "start_time": "2022-05-21T09:33:27.282Z"
   },
   {
    "duration": 556,
    "start_time": "2022-05-21T09:34:06.947Z"
   },
   {
    "duration": 538,
    "start_time": "2022-05-21T09:34:32.693Z"
   },
   {
    "duration": 1318,
    "start_time": "2022-05-21T09:35:14.515Z"
   },
   {
    "duration": 685,
    "start_time": "2022-05-21T09:35:15.835Z"
   },
   {
    "duration": 555,
    "start_time": "2022-05-21T09:36:52.570Z"
   },
   {
    "duration": 776,
    "start_time": "2022-05-21T09:36:58.557Z"
   },
   {
    "duration": 119,
    "start_time": "2022-05-21T09:38:29.920Z"
   },
   {
    "duration": 184,
    "start_time": "2022-05-21T10:05:10.399Z"
   },
   {
    "duration": 552,
    "start_time": "2022-05-21T10:06:45.435Z"
   },
   {
    "duration": 196,
    "start_time": "2022-05-21T10:07:57.369Z"
   },
   {
    "duration": 207,
    "start_time": "2022-05-21T10:08:08.054Z"
   },
   {
    "duration": 275,
    "start_time": "2022-05-21T10:08:23.074Z"
   },
   {
    "duration": 143,
    "start_time": "2022-05-21T10:09:46.065Z"
   },
   {
    "duration": 106,
    "start_time": "2022-05-21T10:10:03.205Z"
   },
   {
    "duration": 230,
    "start_time": "2022-05-21T10:11:51.815Z"
   },
   {
    "duration": 331,
    "start_time": "2022-05-21T10:11:56.587Z"
   },
   {
    "duration": 265,
    "start_time": "2022-05-21T10:12:09.668Z"
   },
   {
    "duration": 266,
    "start_time": "2022-05-21T10:12:18.985Z"
   },
   {
    "duration": 310,
    "start_time": "2022-05-21T10:38:40.991Z"
   },
   {
    "duration": 314,
    "start_time": "2022-05-21T10:39:14.722Z"
   },
   {
    "duration": 300,
    "start_time": "2022-05-21T10:39:26.200Z"
   },
   {
    "duration": 316,
    "start_time": "2022-05-21T10:40:02.212Z"
   },
   {
    "duration": 271,
    "start_time": "2022-05-21T10:40:54.912Z"
   },
   {
    "duration": 4,
    "start_time": "2022-05-21T10:41:08.115Z"
   },
   {
    "duration": 990,
    "start_time": "2022-05-21T10:41:08.158Z"
   },
   {
    "duration": 361,
    "start_time": "2022-05-21T10:41:09.150Z"
   },
   {
    "duration": 378,
    "start_time": "2022-05-21T10:41:11.267Z"
   },
   {
    "duration": 274,
    "start_time": "2022-05-21T10:41:46.591Z"
   },
   {
    "duration": 311,
    "start_time": "2022-05-21T10:41:52.655Z"
   },
   {
    "duration": 112,
    "start_time": "2022-05-21T10:42:05.662Z"
   },
   {
    "duration": 129,
    "start_time": "2022-05-21T10:42:53.723Z"
   },
   {
    "duration": 13,
    "start_time": "2022-05-21T11:01:10.479Z"
   },
   {
    "duration": 489,
    "start_time": "2022-05-21T11:01:25.660Z"
   },
   {
    "duration": 16,
    "start_time": "2022-05-21T11:01:43.618Z"
   },
   {
    "duration": 17,
    "start_time": "2022-05-21T11:05:18.668Z"
   },
   {
    "duration": 592,
    "start_time": "2022-05-21T11:05:48.428Z"
   },
   {
    "duration": 70,
    "start_time": "2022-05-21T11:06:06.450Z"
   },
   {
    "duration": 15,
    "start_time": "2022-05-21T11:06:11.789Z"
   },
   {
    "duration": 268,
    "start_time": "2022-05-21T11:10:49.064Z"
   },
   {
    "duration": 3,
    "start_time": "2022-05-21T11:38:24.593Z"
   },
   {
    "duration": 21,
    "start_time": "2022-05-21T11:41:15.064Z"
   },
   {
    "duration": 29,
    "start_time": "2022-05-21T11:43:20.771Z"
   },
   {
    "duration": 20,
    "start_time": "2022-05-21T11:43:42.517Z"
   },
   {
    "duration": 22,
    "start_time": "2022-05-21T11:44:09.178Z"
   },
   {
    "duration": 8,
    "start_time": "2022-05-21T11:44:13.684Z"
   },
   {
    "duration": 15,
    "start_time": "2022-05-21T11:48:36.807Z"
   },
   {
    "duration": 31,
    "start_time": "2022-05-21T11:50:34.812Z"
   },
   {
    "duration": 17,
    "start_time": "2022-05-21T11:51:44.079Z"
   },
   {
    "duration": 38,
    "start_time": "2022-05-21T11:52:59.698Z"
   },
   {
    "duration": 41,
    "start_time": "2022-05-21T11:53:53.123Z"
   },
   {
    "duration": 30,
    "start_time": "2022-05-21T11:54:05.207Z"
   },
   {
    "duration": 10,
    "start_time": "2022-05-21T11:54:40.887Z"
   },
   {
    "duration": 12,
    "start_time": "2022-05-21T11:54:55.178Z"
   },
   {
    "duration": 14,
    "start_time": "2022-05-21T11:58:45.993Z"
   },
   {
    "duration": 37,
    "start_time": "2022-05-21T12:46:57.048Z"
   },
   {
    "duration": 18,
    "start_time": "2022-05-21T12:47:01.231Z"
   },
   {
    "duration": 13,
    "start_time": "2022-05-21T12:47:17.565Z"
   },
   {
    "duration": 32,
    "start_time": "2022-05-21T12:47:58.017Z"
   },
   {
    "duration": 13,
    "start_time": "2022-05-21T12:51:47.308Z"
   },
   {
    "duration": 45,
    "start_time": "2022-05-21T12:53:19.112Z"
   },
   {
    "duration": 21,
    "start_time": "2022-05-21T12:53:42.312Z"
   },
   {
    "duration": 21,
    "start_time": "2022-05-21T12:55:02.036Z"
   },
   {
    "duration": 27,
    "start_time": "2022-05-21T12:55:23.499Z"
   },
   {
    "duration": 28,
    "start_time": "2022-05-21T12:55:57.820Z"
   },
   {
    "duration": 23,
    "start_time": "2022-05-21T12:59:29.716Z"
   },
   {
    "duration": 30,
    "start_time": "2022-05-21T12:59:39.287Z"
   },
   {
    "duration": 43,
    "start_time": "2022-05-21T13:00:24.824Z"
   },
   {
    "duration": 25,
    "start_time": "2022-05-21T13:00:28.536Z"
   },
   {
    "duration": 31,
    "start_time": "2022-05-21T13:01:14.401Z"
   },
   {
    "duration": 28,
    "start_time": "2022-05-21T13:05:35.080Z"
   },
   {
    "duration": 105,
    "start_time": "2022-05-21T13:20:45.380Z"
   },
   {
    "duration": 45,
    "start_time": "2022-05-21T13:50:24.157Z"
   },
   {
    "duration": 39,
    "start_time": "2022-05-21T13:52:16.896Z"
   },
   {
    "duration": 30,
    "start_time": "2022-05-21T13:58:33.187Z"
   },
   {
    "duration": 38,
    "start_time": "2022-05-21T13:58:45.906Z"
   },
   {
    "duration": 52,
    "start_time": "2022-05-21T13:58:54.547Z"
   },
   {
    "duration": 50,
    "start_time": "2022-05-21T13:59:01.907Z"
   },
   {
    "duration": 3,
    "start_time": "2022-05-21T14:00:48.689Z"
   },
   {
    "duration": 28,
    "start_time": "2022-05-21T14:03:54.276Z"
   },
   {
    "duration": 43,
    "start_time": "2022-05-21T14:03:58.743Z"
   },
   {
    "duration": 27,
    "start_time": "2022-05-21T14:03:59.265Z"
   },
   {
    "duration": 28,
    "start_time": "2022-05-21T14:04:20.149Z"
   },
   {
    "duration": 44,
    "start_time": "2022-05-21T14:04:52.365Z"
   },
   {
    "duration": 3,
    "start_time": "2022-05-21T14:04:57.458Z"
   },
   {
    "duration": 620,
    "start_time": "2022-05-21T14:04:57.466Z"
   },
   {
    "duration": 114,
    "start_time": "2022-05-21T14:04:58.088Z"
   },
   {
    "duration": 16,
    "start_time": "2022-05-21T14:04:58.203Z"
   },
   {
    "duration": 330,
    "start_time": "2022-05-21T14:04:58.221Z"
   },
   {
    "duration": 364,
    "start_time": "2022-05-21T14:04:58.554Z"
   },
   {
    "duration": 153,
    "start_time": "2022-05-21T14:04:58.919Z"
   },
   {
    "duration": 17,
    "start_time": "2022-05-21T14:04:59.075Z"
   },
   {
    "duration": 44,
    "start_time": "2022-05-21T14:04:59.094Z"
   },
   {
    "duration": 54,
    "start_time": "2022-05-21T14:04:59.140Z"
   },
   {
    "duration": 43,
    "start_time": "2022-05-21T14:04:59.196Z"
   },
   {
    "duration": 30,
    "start_time": "2022-05-21T14:05:06.005Z"
   },
   {
    "duration": 8,
    "start_time": "2022-05-21T14:10:03.551Z"
   },
   {
    "duration": 22,
    "start_time": "2022-05-21T14:14:12.395Z"
   },
   {
    "duration": 30,
    "start_time": "2022-05-21T14:21:11.495Z"
   },
   {
    "duration": 22,
    "start_time": "2022-05-21T14:21:34.317Z"
   },
   {
    "duration": 135,
    "start_time": "2022-05-21T14:21:56.685Z"
   },
   {
    "duration": 155,
    "start_time": "2022-05-21T14:22:17.090Z"
   },
   {
    "duration": 481,
    "start_time": "2022-05-21T14:22:27.622Z"
   },
   {
    "duration": 67,
    "start_time": "2022-05-21T14:22:59.709Z"
   },
   {
    "duration": 1496,
    "start_time": "2022-05-21T14:23:07.911Z"
   },
   {
    "duration": 627,
    "start_time": "2022-05-21T14:23:09.409Z"
   },
   {
    "duration": 138,
    "start_time": "2022-05-21T14:23:10.038Z"
   },
   {
    "duration": 24,
    "start_time": "2022-05-21T14:23:10.179Z"
   },
   {
    "duration": 380,
    "start_time": "2022-05-21T14:23:10.206Z"
   },
   {
    "duration": 354,
    "start_time": "2022-05-21T14:23:10.588Z"
   },
   {
    "duration": 110,
    "start_time": "2022-05-21T14:23:10.943Z"
   },
   {
    "duration": 13,
    "start_time": "2022-05-21T14:23:11.064Z"
   },
   {
    "duration": 23,
    "start_time": "2022-05-21T14:23:11.078Z"
   },
   {
    "duration": 27,
    "start_time": "2022-05-21T14:23:11.103Z"
   },
   {
    "duration": 183,
    "start_time": "2022-05-21T14:23:11.132Z"
   },
   {
    "duration": 0,
    "start_time": "2022-05-21T14:23:11.317Z"
   },
   {
    "duration": 0,
    "start_time": "2022-05-21T14:23:11.318Z"
   },
   {
    "duration": 0,
    "start_time": "2022-05-21T14:23:11.319Z"
   },
   {
    "duration": 43,
    "start_time": "2022-05-21T14:23:38.748Z"
   },
   {
    "duration": 53,
    "start_time": "2022-05-21T14:23:56.169Z"
   },
   {
    "duration": 24,
    "start_time": "2022-05-21T14:23:59.373Z"
   },
   {
    "duration": 26,
    "start_time": "2022-05-21T14:24:08.396Z"
   },
   {
    "duration": 138,
    "start_time": "2022-05-21T14:24:12.847Z"
   },
   {
    "duration": 18,
    "start_time": "2022-05-21T14:25:02.116Z"
   },
   {
    "duration": 67,
    "start_time": "2022-05-21T14:25:10.356Z"
   },
   {
    "duration": 212,
    "start_time": "2022-05-21T14:25:13.463Z"
   },
   {
    "duration": 346,
    "start_time": "2022-05-21T14:25:13.851Z"
   },
   {
    "duration": 130,
    "start_time": "2022-05-21T14:25:14.203Z"
   },
   {
    "duration": 13,
    "start_time": "2022-05-21T14:25:17.144Z"
   },
   {
    "duration": 29,
    "start_time": "2022-05-21T14:25:17.476Z"
   },
   {
    "duration": 27,
    "start_time": "2022-05-21T14:25:17.855Z"
   },
   {
    "duration": 46,
    "start_time": "2022-05-21T14:25:18.653Z"
   },
   {
    "duration": 37,
    "start_time": "2022-05-21T14:25:18.854Z"
   },
   {
    "duration": 153,
    "start_time": "2022-05-21T14:25:19.052Z"
   },
   {
    "duration": 384,
    "start_time": "2022-05-21T14:25:19.963Z"
   },
   {
    "duration": 204,
    "start_time": "2022-05-21T14:25:28.960Z"
   },
   {
    "duration": 479,
    "start_time": "2022-05-21T14:25:49.680Z"
   },
   {
    "duration": 85,
    "start_time": "2022-05-21T14:26:14.749Z"
   },
   {
    "duration": 64,
    "start_time": "2022-05-21T14:26:26.394Z"
   },
   {
    "duration": 13,
    "start_time": "2022-05-21T14:26:33.703Z"
   },
   {
    "duration": 161,
    "start_time": "2022-05-21T14:26:34.026Z"
   },
   {
    "duration": 17,
    "start_time": "2022-05-21T14:26:34.399Z"
   },
   {
    "duration": 96,
    "start_time": "2022-05-21T14:26:35.619Z"
   },
   {
    "duration": 10,
    "start_time": "2022-05-21T14:26:58.787Z"
   },
   {
    "duration": 3,
    "start_time": "2022-05-21T14:27:04.193Z"
   },
   {
    "duration": 639,
    "start_time": "2022-05-21T14:27:04.198Z"
   },
   {
    "duration": 138,
    "start_time": "2022-05-21T14:27:04.839Z"
   },
   {
    "duration": 68,
    "start_time": "2022-05-21T14:27:07.307Z"
   },
   {
    "duration": 282,
    "start_time": "2022-05-21T14:27:11.055Z"
   },
   {
    "duration": 319,
    "start_time": "2022-05-21T14:27:11.605Z"
   },
   {
    "duration": 135,
    "start_time": "2022-05-21T14:27:14.066Z"
   },
   {
    "duration": 13,
    "start_time": "2022-05-21T14:27:17.774Z"
   },
   {
    "duration": 29,
    "start_time": "2022-05-21T14:27:18.464Z"
   },
   {
    "duration": 37,
    "start_time": "2022-05-21T14:27:18.872Z"
   },
   {
    "duration": 72,
    "start_time": "2022-05-21T14:27:19.955Z"
   },
   {
    "duration": 28,
    "start_time": "2022-05-21T14:27:20.365Z"
   },
   {
    "duration": 144,
    "start_time": "2022-05-21T14:27:20.786Z"
   },
   {
    "duration": 389,
    "start_time": "2022-05-21T14:27:22.181Z"
   },
   {
    "duration": 168,
    "start_time": "2022-05-21T14:29:13.376Z"
   },
   {
    "duration": 385,
    "start_time": "2022-05-21T14:31:34.395Z"
   },
   {
    "duration": 4293,
    "start_time": "2022-05-21T14:32:34.648Z"
   },
   {
    "duration": 1446,
    "start_time": "2022-05-21T14:33:51.406Z"
   },
   {
    "duration": 614,
    "start_time": "2022-05-21T14:33:52.854Z"
   },
   {
    "duration": 128,
    "start_time": "2022-05-21T14:33:53.470Z"
   },
   {
    "duration": 109,
    "start_time": "2022-05-21T14:33:53.600Z"
   },
   {
    "duration": 342,
    "start_time": "2022-05-21T14:33:53.711Z"
   },
   {
    "duration": 337,
    "start_time": "2022-05-21T14:33:54.055Z"
   },
   {
    "duration": 151,
    "start_time": "2022-05-21T14:33:54.394Z"
   },
   {
    "duration": 24,
    "start_time": "2022-05-21T14:33:54.546Z"
   },
   {
    "duration": 33,
    "start_time": "2022-05-21T14:33:54.572Z"
   },
   {
    "duration": 28,
    "start_time": "2022-05-21T14:33:54.607Z"
   },
   {
    "duration": 65,
    "start_time": "2022-05-21T14:33:54.637Z"
   },
   {
    "duration": 29,
    "start_time": "2022-05-21T14:33:54.703Z"
   },
   {
    "duration": 205,
    "start_time": "2022-05-21T14:33:54.733Z"
   },
   {
    "duration": 154,
    "start_time": "2022-05-21T14:33:54.941Z"
   },
   {
    "duration": 6,
    "start_time": "2022-05-21T14:41:37.564Z"
   },
   {
    "duration": 32,
    "start_time": "2022-05-21T14:44:43.255Z"
   },
   {
    "duration": 79,
    "start_time": "2022-05-21T14:45:08.891Z"
   },
   {
    "duration": 27,
    "start_time": "2022-05-21T14:45:18.872Z"
   },
   {
    "duration": 617,
    "start_time": "2022-05-21T14:46:15.853Z"
   },
   {
    "duration": 1417,
    "start_time": "2022-05-21T15:45:31.179Z"
   },
   {
    "duration": 770,
    "start_time": "2022-05-21T15:45:32.599Z"
   },
   {
    "duration": 217,
    "start_time": "2022-05-21T15:45:33.372Z"
   },
   {
    "duration": 124,
    "start_time": "2022-05-21T15:45:33.592Z"
   },
   {
    "duration": 390,
    "start_time": "2022-05-21T15:45:33.718Z"
   },
   {
    "duration": 379,
    "start_time": "2022-05-21T15:45:34.110Z"
   },
   {
    "duration": 158,
    "start_time": "2022-05-21T15:45:34.491Z"
   },
   {
    "duration": 28,
    "start_time": "2022-05-21T15:45:34.651Z"
   },
   {
    "duration": 31,
    "start_time": "2022-05-21T15:45:34.682Z"
   },
   {
    "duration": 73,
    "start_time": "2022-05-21T15:45:34.719Z"
   },
   {
    "duration": 76,
    "start_time": "2022-05-21T15:45:34.794Z"
   },
   {
    "duration": 31,
    "start_time": "2022-05-21T15:45:34.874Z"
   },
   {
    "duration": 429,
    "start_time": "2022-05-21T15:45:34.908Z"
   },
   {
    "duration": 0,
    "start_time": "2022-05-21T15:45:35.340Z"
   },
   {
    "duration": 212,
    "start_time": "2022-05-21T15:45:47.194Z"
   },
   {
    "duration": 206,
    "start_time": "2022-05-21T15:46:06.279Z"
   },
   {
    "duration": 215,
    "start_time": "2022-05-21T16:00:41.170Z"
   },
   {
    "duration": 217,
    "start_time": "2022-05-21T16:01:01.410Z"
   },
   {
    "duration": 413,
    "start_time": "2022-05-21T16:01:29.130Z"
   },
   {
    "duration": 5,
    "start_time": "2022-05-21T16:01:36.900Z"
   },
   {
    "duration": 758,
    "start_time": "2022-05-21T16:01:36.908Z"
   },
   {
    "duration": 160,
    "start_time": "2022-05-21T16:01:37.668Z"
   },
   {
    "duration": 156,
    "start_time": "2022-05-21T16:01:37.831Z"
   },
   {
    "duration": 408,
    "start_time": "2022-05-21T16:01:37.992Z"
   },
   {
    "duration": 359,
    "start_time": "2022-05-21T16:01:38.402Z"
   },
   {
    "duration": 216,
    "start_time": "2022-05-21T16:01:38.763Z"
   },
   {
    "duration": 22,
    "start_time": "2022-05-21T16:01:38.982Z"
   },
   {
    "duration": 33,
    "start_time": "2022-05-21T16:01:39.007Z"
   },
   {
    "duration": 40,
    "start_time": "2022-05-21T16:01:39.064Z"
   },
   {
    "duration": 99,
    "start_time": "2022-05-21T16:01:39.106Z"
   },
   {
    "duration": 36,
    "start_time": "2022-05-21T16:01:39.207Z"
   },
   {
    "duration": 28,
    "start_time": "2022-05-21T16:01:42.219Z"
   },
   {
    "duration": 178,
    "start_time": "2022-05-21T16:01:51.180Z"
   },
   {
    "duration": 711,
    "start_time": "2022-05-21T16:07:11.700Z"
   },
   {
    "duration": 664,
    "start_time": "2022-05-21T16:07:16.498Z"
   },
   {
    "duration": 227,
    "start_time": "2022-05-21T16:07:30.991Z"
   },
   {
    "duration": 148,
    "start_time": "2022-05-21T16:12:49.121Z"
   },
   {
    "duration": 156,
    "start_time": "2022-05-21T16:12:53.477Z"
   },
   {
    "duration": 166,
    "start_time": "2022-05-21T16:13:12.990Z"
   },
   {
    "duration": 233,
    "start_time": "2022-05-21T16:19:14.020Z"
   },
   {
    "duration": 230,
    "start_time": "2022-05-21T16:19:22.720Z"
   },
   {
    "duration": 28,
    "start_time": "2022-05-21T16:21:42.110Z"
   },
   {
    "duration": 176,
    "start_time": "2022-05-21T16:21:47.755Z"
   },
   {
    "duration": 25,
    "start_time": "2022-05-21T16:22:14.620Z"
   },
   {
    "duration": 27,
    "start_time": "2022-05-21T16:23:07.865Z"
   },
   {
    "duration": 483,
    "start_time": "2022-05-21T16:23:20.901Z"
   },
   {
    "duration": 453,
    "start_time": "2022-05-21T16:23:41.391Z"
   },
   {
    "duration": 3,
    "start_time": "2022-05-21T16:23:57.627Z"
   },
   {
    "duration": 602,
    "start_time": "2022-05-21T16:23:57.632Z"
   },
   {
    "duration": 140,
    "start_time": "2022-05-21T16:23:58.236Z"
   },
   {
    "duration": 67,
    "start_time": "2022-05-21T16:23:58.378Z"
   },
   {
    "duration": 352,
    "start_time": "2022-05-21T16:23:58.447Z"
   },
   {
    "duration": 394,
    "start_time": "2022-05-21T16:23:58.801Z"
   },
   {
    "duration": 149,
    "start_time": "2022-05-21T16:23:59.197Z"
   },
   {
    "duration": 25,
    "start_time": "2022-05-21T16:23:59.348Z"
   },
   {
    "duration": 24,
    "start_time": "2022-05-21T16:23:59.374Z"
   },
   {
    "duration": 30,
    "start_time": "2022-05-21T16:23:59.401Z"
   },
   {
    "duration": 76,
    "start_time": "2022-05-21T16:23:59.433Z"
   },
   {
    "duration": 26,
    "start_time": "2022-05-21T16:23:59.511Z"
   },
   {
    "duration": 642,
    "start_time": "2022-05-21T16:24:01.541Z"
   },
   {
    "duration": 455,
    "start_time": "2022-05-21T16:25:18.607Z"
   },
   {
    "duration": 185,
    "start_time": "2022-05-21T16:25:26.575Z"
   },
   {
    "duration": 169,
    "start_time": "2022-05-21T16:25:59.215Z"
   },
   {
    "duration": 178,
    "start_time": "2022-05-21T16:27:23.795Z"
   },
   {
    "duration": 200,
    "start_time": "2022-05-21T16:31:46.361Z"
   },
   {
    "duration": 182,
    "start_time": "2022-05-21T16:32:51.550Z"
   },
   {
    "duration": 229,
    "start_time": "2022-05-21T16:33:23.392Z"
   },
   {
    "duration": 76,
    "start_time": "2022-05-21T16:35:12.092Z"
   },
   {
    "duration": 20,
    "start_time": "2022-05-21T16:35:22.692Z"
   },
   {
    "duration": 146,
    "start_time": "2022-05-21T16:35:31.817Z"
   },
   {
    "duration": 211,
    "start_time": "2022-05-21T16:35:54.477Z"
   },
   {
    "duration": 126,
    "start_time": "2022-05-21T16:37:47.622Z"
   },
   {
    "duration": 217,
    "start_time": "2022-05-21T16:38:08.723Z"
   },
   {
    "duration": 10,
    "start_time": "2022-05-21T17:01:55.309Z"
   },
   {
    "duration": 28,
    "start_time": "2022-05-21T17:03:11.496Z"
   },
   {
    "duration": 5,
    "start_time": "2022-05-21T17:03:16.110Z"
   },
   {
    "duration": 5,
    "start_time": "2022-05-21T17:03:34.470Z"
   },
   {
    "duration": 13,
    "start_time": "2022-05-21T17:04:32.070Z"
   },
   {
    "duration": 10,
    "start_time": "2022-05-21T17:07:45.065Z"
   },
   {
    "duration": 7,
    "start_time": "2022-05-21T17:07:47.824Z"
   },
   {
    "duration": 239,
    "start_time": "2022-05-21T17:07:48.850Z"
   },
   {
    "duration": 36,
    "start_time": "2022-05-21T17:07:49.332Z"
   },
   {
    "duration": 10,
    "start_time": "2022-05-21T17:08:59.328Z"
   },
   {
    "duration": 15,
    "start_time": "2022-05-21T17:09:48.748Z"
   },
   {
    "duration": 7,
    "start_time": "2022-05-21T17:09:52.584Z"
   },
   {
    "duration": 12,
    "start_time": "2022-05-21T17:09:52.879Z"
   },
   {
    "duration": 187,
    "start_time": "2022-05-21T17:09:53.888Z"
   },
   {
    "duration": 11,
    "start_time": "2022-05-21T18:03:39.351Z"
   },
   {
    "duration": 4,
    "start_time": "2022-05-21T18:04:34.648Z"
   },
   {
    "duration": 614,
    "start_time": "2022-05-21T18:04:36.502Z"
   },
   {
    "duration": 130,
    "start_time": "2022-05-21T18:04:37.118Z"
   },
   {
    "duration": 71,
    "start_time": "2022-05-21T18:04:37.666Z"
   },
   {
    "duration": 301,
    "start_time": "2022-05-21T18:04:38.070Z"
   },
   {
    "duration": 350,
    "start_time": "2022-05-21T18:04:38.571Z"
   },
   {
    "duration": 129,
    "start_time": "2022-05-21T18:04:39.330Z"
   },
   {
    "duration": 15,
    "start_time": "2022-05-21T18:04:43.730Z"
   },
   {
    "duration": 26,
    "start_time": "2022-05-21T18:04:44.516Z"
   },
   {
    "duration": 40,
    "start_time": "2022-05-21T18:04:45.301Z"
   },
   {
    "duration": 56,
    "start_time": "2022-05-21T18:04:46.711Z"
   },
   {
    "duration": 28,
    "start_time": "2022-05-21T18:04:47.091Z"
   },
   {
    "duration": 7,
    "start_time": "2022-05-21T18:04:48.190Z"
   },
   {
    "duration": 17,
    "start_time": "2022-05-21T18:04:49.011Z"
   },
   {
    "duration": 7,
    "start_time": "2022-05-21T18:04:50.900Z"
   },
   {
    "duration": 14,
    "start_time": "2022-05-21T18:06:22.360Z"
   },
   {
    "duration": 22,
    "start_time": "2022-05-21T18:06:39.148Z"
   },
   {
    "duration": 29,
    "start_time": "2022-05-21T18:07:59.800Z"
   },
   {
    "duration": 24,
    "start_time": "2022-05-21T18:08:21.431Z"
   },
   {
    "duration": 9,
    "start_time": "2022-05-21T18:10:29.951Z"
   },
   {
    "duration": 18,
    "start_time": "2022-05-21T18:10:40.660Z"
   },
   {
    "duration": 30,
    "start_time": "2022-05-21T18:14:54.852Z"
   },
   {
    "duration": 20,
    "start_time": "2022-05-21T18:15:19.355Z"
   },
   {
    "duration": 15,
    "start_time": "2022-05-21T18:15:35.154Z"
   },
   {
    "duration": 4,
    "start_time": "2022-05-21T18:16:10.300Z"
   },
   {
    "duration": 666,
    "start_time": "2022-05-21T18:16:10.306Z"
   },
   {
    "duration": 149,
    "start_time": "2022-05-21T18:16:10.974Z"
   },
   {
    "duration": 89,
    "start_time": "2022-05-21T18:16:11.125Z"
   },
   {
    "duration": 345,
    "start_time": "2022-05-21T18:16:11.216Z"
   },
   {
    "duration": 336,
    "start_time": "2022-05-21T18:16:11.565Z"
   },
   {
    "duration": 161,
    "start_time": "2022-05-21T18:16:11.903Z"
   },
   {
    "duration": 18,
    "start_time": "2022-05-21T18:16:12.066Z"
   },
   {
    "duration": 24,
    "start_time": "2022-05-21T18:16:12.086Z"
   },
   {
    "duration": 90,
    "start_time": "2022-05-21T18:16:12.112Z"
   },
   {
    "duration": 62,
    "start_time": "2022-05-21T18:16:12.204Z"
   },
   {
    "duration": 29,
    "start_time": "2022-05-21T18:16:12.269Z"
   },
   {
    "duration": 7,
    "start_time": "2022-05-21T18:16:12.300Z"
   },
   {
    "duration": 26,
    "start_time": "2022-05-21T18:16:12.311Z"
   },
   {
    "duration": 8,
    "start_time": "2022-05-21T18:16:12.364Z"
   },
   {
    "duration": 18,
    "start_time": "2022-05-21T18:16:20.081Z"
   },
   {
    "duration": 18,
    "start_time": "2022-05-21T18:16:46.749Z"
   },
   {
    "duration": 26,
    "start_time": "2022-05-21T18:16:59.278Z"
   },
   {
    "duration": 27,
    "start_time": "2022-05-21T18:17:29.579Z"
   },
   {
    "duration": 28,
    "start_time": "2022-05-21T18:18:44.008Z"
   },
   {
    "duration": 36,
    "start_time": "2022-05-21T18:30:52.378Z"
   },
   {
    "duration": 43,
    "start_time": "2022-05-21T18:31:27.183Z"
   },
   {
    "duration": 14,
    "start_time": "2022-05-21T18:33:55.163Z"
   },
   {
    "duration": 18,
    "start_time": "2022-05-21T18:34:38.471Z"
   },
   {
    "duration": 12,
    "start_time": "2022-05-21T18:35:26.280Z"
   },
   {
    "duration": 15,
    "start_time": "2022-05-21T18:35:46.215Z"
   },
   {
    "duration": 7,
    "start_time": "2022-05-21T18:37:36.727Z"
   },
   {
    "duration": 34,
    "start_time": "2022-05-21T18:38:49.601Z"
   },
   {
    "duration": 15,
    "start_time": "2022-05-21T18:38:55.198Z"
   },
   {
    "duration": 180,
    "start_time": "2022-05-21T19:01:58.321Z"
   },
   {
    "duration": 6,
    "start_time": "2022-05-21T19:02:37.196Z"
   },
   {
    "duration": 787,
    "start_time": "2022-05-21T19:02:37.205Z"
   },
   {
    "duration": 245,
    "start_time": "2022-05-21T19:02:37.994Z"
   },
   {
    "duration": 126,
    "start_time": "2022-05-21T19:02:38.242Z"
   },
   {
    "duration": 357,
    "start_time": "2022-05-21T19:02:38.371Z"
   },
   {
    "duration": 480,
    "start_time": "2022-05-21T19:02:38.730Z"
   },
   {
    "duration": 184,
    "start_time": "2022-05-21T19:02:39.212Z"
   },
   {
    "duration": 18,
    "start_time": "2022-05-21T19:02:39.398Z"
   },
   {
    "duration": 23,
    "start_time": "2022-05-21T19:02:39.418Z"
   },
   {
    "duration": 41,
    "start_time": "2022-05-21T19:02:39.465Z"
   },
   {
    "duration": 70,
    "start_time": "2022-05-21T19:02:39.509Z"
   },
   {
    "duration": 41,
    "start_time": "2022-05-21T19:02:39.581Z"
   },
   {
    "duration": 6,
    "start_time": "2022-05-21T19:02:39.624Z"
   },
   {
    "duration": 40,
    "start_time": "2022-05-21T19:02:39.632Z"
   },
   {
    "duration": 14,
    "start_time": "2022-05-21T19:02:39.674Z"
   },
   {
    "duration": 17,
    "start_time": "2022-05-21T19:02:39.690Z"
   },
   {
    "duration": 23,
    "start_time": "2022-05-21T19:02:39.710Z"
   },
   {
    "duration": 166,
    "start_time": "2022-05-21T19:02:44.486Z"
   },
   {
    "duration": 4,
    "start_time": "2022-05-21T19:03:08.310Z"
   },
   {
    "duration": 662,
    "start_time": "2022-05-21T19:03:08.735Z"
   },
   {
    "duration": 129,
    "start_time": "2022-05-21T19:03:09.399Z"
   },
   {
    "duration": 73,
    "start_time": "2022-05-21T19:03:11.185Z"
   },
   {
    "duration": 354,
    "start_time": "2022-05-21T19:03:11.835Z"
   },
   {
    "duration": 338,
    "start_time": "2022-05-21T19:03:13.115Z"
   },
   {
    "duration": 190,
    "start_time": "2022-05-21T19:03:14.295Z"
   },
   {
    "duration": 14,
    "start_time": "2022-05-21T19:03:20.977Z"
   },
   {
    "duration": 32,
    "start_time": "2022-05-21T19:03:22.471Z"
   },
   {
    "duration": 31,
    "start_time": "2022-05-21T19:03:23.883Z"
   },
   {
    "duration": 47,
    "start_time": "2022-05-21T19:03:29.581Z"
   },
   {
    "duration": 46,
    "start_time": "2022-05-21T19:03:30.101Z"
   },
   {
    "duration": 10,
    "start_time": "2022-05-21T19:03:31.484Z"
   },
   {
    "duration": 21,
    "start_time": "2022-05-21T19:03:33.117Z"
   },
   {
    "duration": 9,
    "start_time": "2022-05-21T19:03:34.774Z"
   },
   {
    "duration": 16,
    "start_time": "2022-05-21T19:03:35.296Z"
   },
   {
    "duration": 19,
    "start_time": "2022-05-21T19:03:38.174Z"
   },
   {
    "duration": 251,
    "start_time": "2022-05-21T19:03:39.011Z"
   },
   {
    "duration": 222,
    "start_time": "2022-05-21T19:04:37.962Z"
   },
   {
    "duration": 201,
    "start_time": "2022-05-21T19:05:50.595Z"
   },
   {
    "duration": 200,
    "start_time": "2022-05-21T19:24:43.331Z"
   },
   {
    "duration": 204,
    "start_time": "2022-05-21T19:24:51.177Z"
   },
   {
    "duration": 205,
    "start_time": "2022-05-21T19:25:13.593Z"
   },
   {
    "duration": 202,
    "start_time": "2022-05-21T19:25:52.935Z"
   },
   {
    "duration": 64,
    "start_time": "2022-05-21T19:29:00.201Z"
   },
   {
    "duration": 41,
    "start_time": "2022-05-21T19:48:31.165Z"
   },
   {
    "duration": 19,
    "start_time": "2022-05-21T19:48:43.920Z"
   },
   {
    "duration": 14,
    "start_time": "2022-05-21T19:49:00.831Z"
   },
   {
    "duration": 19,
    "start_time": "2022-05-21T20:07:47.285Z"
   },
   {
    "duration": 22,
    "start_time": "2022-05-21T20:14:50.956Z"
   },
   {
    "duration": 26,
    "start_time": "2022-05-21T20:18:42.815Z"
   },
   {
    "duration": 27604,
    "start_time": "2022-05-21T20:18:55.531Z"
   },
   {
    "duration": 30,
    "start_time": "2022-05-21T20:22:25.590Z"
   },
   {
    "duration": 66,
    "start_time": "2022-05-21T20:22:58.469Z"
   },
   {
    "duration": 33,
    "start_time": "2022-05-21T20:25:35.976Z"
   },
   {
    "duration": 20,
    "start_time": "2022-05-21T20:26:00.907Z"
   },
   {
    "duration": 21,
    "start_time": "2022-05-21T20:26:26.713Z"
   },
   {
    "duration": 28,
    "start_time": "2022-05-21T20:26:34.777Z"
   },
   {
    "duration": 31,
    "start_time": "2022-05-21T20:27:00.599Z"
   },
   {
    "duration": 4,
    "start_time": "2022-05-21T20:27:25.688Z"
   },
   {
    "duration": 629,
    "start_time": "2022-05-21T20:27:25.694Z"
   },
   {
    "duration": 126,
    "start_time": "2022-05-21T20:27:26.325Z"
   },
   {
    "duration": 71,
    "start_time": "2022-05-21T20:27:26.466Z"
   },
   {
    "duration": 336,
    "start_time": "2022-05-21T20:27:26.539Z"
   },
   {
    "duration": 320,
    "start_time": "2022-05-21T20:27:26.877Z"
   },
   {
    "duration": 134,
    "start_time": "2022-05-21T20:27:27.199Z"
   },
   {
    "duration": 13,
    "start_time": "2022-05-21T20:27:27.336Z"
   },
   {
    "duration": 37,
    "start_time": "2022-05-21T20:27:27.351Z"
   },
   {
    "duration": 35,
    "start_time": "2022-05-21T20:27:27.392Z"
   },
   {
    "duration": 85,
    "start_time": "2022-05-21T20:27:27.428Z"
   },
   {
    "duration": 32,
    "start_time": "2022-05-21T20:27:27.516Z"
   },
   {
    "duration": 7,
    "start_time": "2022-05-21T20:27:27.565Z"
   },
   {
    "duration": 17,
    "start_time": "2022-05-21T20:27:27.574Z"
   },
   {
    "duration": 6,
    "start_time": "2022-05-21T20:27:27.593Z"
   },
   {
    "duration": 15,
    "start_time": "2022-05-21T20:27:27.601Z"
   },
   {
    "duration": 48,
    "start_time": "2022-05-21T20:27:27.618Z"
   },
   {
    "duration": 192,
    "start_time": "2022-05-21T20:27:27.668Z"
   },
   {
    "duration": 57,
    "start_time": "2022-05-21T20:27:27.864Z"
   },
   {
    "duration": 24,
    "start_time": "2022-05-21T20:27:27.923Z"
   },
   {
    "duration": 23,
    "start_time": "2022-05-21T20:27:36.007Z"
   },
   {
    "duration": 21,
    "start_time": "2022-05-21T20:27:48.787Z"
   },
   {
    "duration": 22,
    "start_time": "2022-05-21T20:27:54.602Z"
   },
   {
    "duration": 18,
    "start_time": "2022-05-21T20:28:15.711Z"
   },
   {
    "duration": 11,
    "start_time": "2022-05-21T20:28:25.467Z"
   },
   {
    "duration": 14,
    "start_time": "2022-05-21T20:28:29.897Z"
   },
   {
    "duration": 257,
    "start_time": "2022-05-21T20:29:56.665Z"
   },
   {
    "duration": 278,
    "start_time": "2022-05-21T21:20:19.958Z"
   },
   {
    "duration": 291,
    "start_time": "2022-05-21T21:20:37.763Z"
   },
   {
    "duration": 40,
    "start_time": "2022-05-21T21:20:52.771Z"
   },
   {
    "duration": 278,
    "start_time": "2022-05-21T21:20:59.257Z"
   },
   {
    "duration": 370,
    "start_time": "2022-05-21T21:21:59.210Z"
   },
   {
    "duration": 365,
    "start_time": "2022-05-21T21:22:18.511Z"
   },
   {
    "duration": 322,
    "start_time": "2022-05-21T21:22:25.258Z"
   },
   {
    "duration": 354,
    "start_time": "2022-05-21T21:24:48.340Z"
   },
   {
    "duration": 294,
    "start_time": "2022-05-21T21:26:08.055Z"
   },
   {
    "duration": 14,
    "start_time": "2022-05-21T21:42:13.306Z"
   },
   {
    "duration": 3,
    "start_time": "2022-05-21T21:42:59.645Z"
   },
   {
    "duration": 632,
    "start_time": "2022-05-21T21:42:59.650Z"
   },
   {
    "duration": 130,
    "start_time": "2022-05-21T21:43:00.284Z"
   },
   {
    "duration": 86,
    "start_time": "2022-05-21T21:43:00.417Z"
   },
   {
    "duration": 348,
    "start_time": "2022-05-21T21:43:00.505Z"
   },
   {
    "duration": 358,
    "start_time": "2022-05-21T21:43:00.855Z"
   },
   {
    "duration": 150,
    "start_time": "2022-05-21T21:43:01.215Z"
   },
   {
    "duration": 17,
    "start_time": "2022-05-21T21:43:01.367Z"
   },
   {
    "duration": 28,
    "start_time": "2022-05-21T21:43:01.386Z"
   },
   {
    "duration": 52,
    "start_time": "2022-05-21T21:43:01.418Z"
   },
   {
    "duration": 47,
    "start_time": "2022-05-21T21:43:01.472Z"
   },
   {
    "duration": 52,
    "start_time": "2022-05-21T21:43:01.521Z"
   },
   {
    "duration": 8,
    "start_time": "2022-05-21T21:43:01.575Z"
   },
   {
    "duration": 17,
    "start_time": "2022-05-21T21:43:01.585Z"
   },
   {
    "duration": 12,
    "start_time": "2022-05-21T21:43:01.604Z"
   },
   {
    "duration": 17,
    "start_time": "2022-05-21T21:43:01.618Z"
   },
   {
    "duration": 46,
    "start_time": "2022-05-21T21:43:01.636Z"
   },
   {
    "duration": 211,
    "start_time": "2022-05-21T21:43:01.684Z"
   },
   {
    "duration": 421,
    "start_time": "2022-05-21T21:43:01.898Z"
   },
   {
    "duration": 19,
    "start_time": "2022-05-21T21:43:02.321Z"
   },
   {
    "duration": 33,
    "start_time": "2022-05-21T21:43:02.342Z"
   },
   {
    "duration": 0,
    "start_time": "2022-05-21T21:43:02.376Z"
   },
   {
    "duration": 0,
    "start_time": "2022-05-21T21:43:02.378Z"
   },
   {
    "duration": 0,
    "start_time": "2022-05-21T21:43:02.379Z"
   },
   {
    "duration": 0,
    "start_time": "2022-05-21T21:43:02.380Z"
   },
   {
    "duration": 4,
    "start_time": "2022-05-21T21:43:28.108Z"
   },
   {
    "duration": 564,
    "start_time": "2022-05-21T21:43:29.104Z"
   },
   {
    "duration": 137,
    "start_time": "2022-05-21T21:43:29.669Z"
   },
   {
    "duration": 71,
    "start_time": "2022-05-21T21:43:32.268Z"
   },
   {
    "duration": 305,
    "start_time": "2022-05-21T21:43:33.279Z"
   },
   {
    "duration": 323,
    "start_time": "2022-05-21T21:43:34.348Z"
   },
   {
    "duration": 147,
    "start_time": "2022-05-21T21:43:35.366Z"
   },
   {
    "duration": 22,
    "start_time": "2022-05-21T21:43:37.344Z"
   },
   {
    "duration": 23,
    "start_time": "2022-05-21T21:43:38.421Z"
   },
   {
    "duration": 28,
    "start_time": "2022-05-21T21:43:39.728Z"
   },
   {
    "duration": 44,
    "start_time": "2022-05-21T21:43:40.768Z"
   },
   {
    "duration": 31,
    "start_time": "2022-05-21T21:43:41.380Z"
   },
   {
    "duration": 8,
    "start_time": "2022-05-21T21:43:42.519Z"
   },
   {
    "duration": 11,
    "start_time": "2022-05-21T21:43:43.802Z"
   },
   {
    "duration": 7,
    "start_time": "2022-05-21T21:43:45.804Z"
   },
   {
    "duration": 14,
    "start_time": "2022-05-21T21:43:46.480Z"
   },
   {
    "duration": 19,
    "start_time": "2022-05-21T21:43:47.701Z"
   },
   {
    "duration": 200,
    "start_time": "2022-05-21T21:43:48.376Z"
   },
   {
    "duration": 81,
    "start_time": "2022-05-21T21:43:48.989Z"
   },
   {
    "duration": 21,
    "start_time": "2022-05-21T21:43:54.708Z"
   },
   {
    "duration": 18,
    "start_time": "2022-05-21T21:43:55.280Z"
   },
   {
    "duration": 229,
    "start_time": "2022-05-21T21:43:55.800Z"
   },
   {
    "duration": 17,
    "start_time": "2022-05-21T21:43:58.069Z"
   },
   {
    "duration": 13,
    "start_time": "2022-05-21T21:44:11.409Z"
   },
   {
    "duration": 153,
    "start_time": "2022-05-21T21:52:37.887Z"
   },
   {
    "duration": 134,
    "start_time": "2022-05-21T21:53:01.591Z"
   },
   {
    "duration": 17,
    "start_time": "2022-05-21T21:53:33.791Z"
   },
   {
    "duration": 1337,
    "start_time": "2022-05-21T21:53:52.048Z"
   },
   {
    "duration": 645,
    "start_time": "2022-05-21T21:53:53.387Z"
   },
   {
    "duration": 136,
    "start_time": "2022-05-21T21:53:54.034Z"
   },
   {
    "duration": 101,
    "start_time": "2022-05-21T21:53:54.172Z"
   },
   {
    "duration": 353,
    "start_time": "2022-05-21T21:53:54.274Z"
   },
   {
    "duration": 332,
    "start_time": "2022-05-21T21:53:54.629Z"
   },
   {
    "duration": 139,
    "start_time": "2022-05-21T21:53:54.963Z"
   },
   {
    "duration": 13,
    "start_time": "2022-05-21T21:53:55.104Z"
   },
   {
    "duration": 23,
    "start_time": "2022-05-21T21:53:55.119Z"
   },
   {
    "duration": 29,
    "start_time": "2022-05-21T21:53:55.166Z"
   },
   {
    "duration": 43,
    "start_time": "2022-05-21T21:53:55.196Z"
   },
   {
    "duration": 46,
    "start_time": "2022-05-21T21:53:55.240Z"
   },
   {
    "duration": 6,
    "start_time": "2022-05-21T21:53:55.288Z"
   },
   {
    "duration": 17,
    "start_time": "2022-05-21T21:53:55.295Z"
   },
   {
    "duration": 8,
    "start_time": "2022-05-21T21:53:55.314Z"
   },
   {
    "duration": 14,
    "start_time": "2022-05-21T21:53:55.323Z"
   },
   {
    "duration": 18,
    "start_time": "2022-05-21T21:53:55.365Z"
   },
   {
    "duration": 196,
    "start_time": "2022-05-21T21:53:55.384Z"
   },
   {
    "duration": 126,
    "start_time": "2022-05-21T21:53:55.581Z"
   },
   {
    "duration": 19,
    "start_time": "2022-05-21T21:53:55.708Z"
   },
   {
    "duration": 136,
    "start_time": "2022-05-21T21:53:55.729Z"
   },
   {
    "duration": 0,
    "start_time": "2022-05-21T21:53:55.867Z"
   },
   {
    "duration": 0,
    "start_time": "2022-05-21T21:53:55.868Z"
   },
   {
    "duration": 0,
    "start_time": "2022-05-21T21:53:55.870Z"
   },
   {
    "duration": 0,
    "start_time": "2022-05-21T21:53:55.871Z"
   },
   {
    "duration": 5,
    "start_time": "2022-05-21T21:54:17.623Z"
   },
   {
    "duration": 589,
    "start_time": "2022-05-21T21:54:18.144Z"
   },
   {
    "duration": 151,
    "start_time": "2022-05-21T21:54:18.734Z"
   },
   {
    "duration": 71,
    "start_time": "2022-05-21T21:54:19.753Z"
   },
   {
    "duration": 317,
    "start_time": "2022-05-21T21:54:20.153Z"
   },
   {
    "duration": 322,
    "start_time": "2022-05-21T21:54:20.553Z"
   },
   {
    "duration": 128,
    "start_time": "2022-05-21T21:54:20.938Z"
   },
   {
    "duration": 14,
    "start_time": "2022-05-21T21:54:21.858Z"
   },
   {
    "duration": 25,
    "start_time": "2022-05-21T21:54:22.303Z"
   },
   {
    "duration": 30,
    "start_time": "2022-05-21T21:54:22.843Z"
   },
   {
    "duration": 52,
    "start_time": "2022-05-21T21:54:23.414Z"
   },
   {
    "duration": 27,
    "start_time": "2022-05-21T21:54:23.698Z"
   },
   {
    "duration": 7,
    "start_time": "2022-05-21T21:54:24.204Z"
   },
   {
    "duration": 14,
    "start_time": "2022-05-21T21:54:24.673Z"
   },
   {
    "duration": 8,
    "start_time": "2022-05-21T21:54:25.163Z"
   },
   {
    "duration": 14,
    "start_time": "2022-05-21T21:54:25.749Z"
   },
   {
    "duration": 18,
    "start_time": "2022-05-21T21:54:26.623Z"
   },
   {
    "duration": 144,
    "start_time": "2022-05-21T21:54:27.073Z"
   },
   {
    "duration": 93,
    "start_time": "2022-05-21T21:54:27.403Z"
   },
   {
    "duration": 26,
    "start_time": "2022-05-21T21:54:29.343Z"
   },
   {
    "duration": 22,
    "start_time": "2022-05-21T21:54:29.833Z"
   },
   {
    "duration": 255,
    "start_time": "2022-05-21T21:54:30.313Z"
   },
   {
    "duration": 298,
    "start_time": "2022-05-21T21:54:59.438Z"
   },
   {
    "duration": 270,
    "start_time": "2022-05-21T21:55:08.669Z"
   },
   {
    "duration": 169,
    "start_time": "2022-05-21T21:55:10.798Z"
   },
   {
    "duration": 120,
    "start_time": "2022-05-21T21:55:52.099Z"
   },
   {
    "duration": 136,
    "start_time": "2022-05-21T21:56:30.114Z"
   },
   {
    "duration": 325,
    "start_time": "2022-05-21T21:56:54.388Z"
   },
   {
    "duration": 304,
    "start_time": "2022-05-21T21:57:10.504Z"
   },
   {
    "duration": 251,
    "start_time": "2022-05-21T21:57:34.559Z"
   },
   {
    "duration": 235,
    "start_time": "2022-05-21T21:57:41.139Z"
   },
   {
    "duration": 125,
    "start_time": "2022-05-21T21:57:41.928Z"
   },
   {
    "duration": 13,
    "start_time": "2022-05-21T21:57:42.769Z"
   },
   {
    "duration": 32,
    "start_time": "2022-05-21T21:57:43.239Z"
   },
   {
    "duration": 26,
    "start_time": "2022-05-21T21:57:43.739Z"
   },
   {
    "duration": 47,
    "start_time": "2022-05-21T21:57:44.329Z"
   },
   {
    "duration": 32,
    "start_time": "2022-05-21T21:57:44.580Z"
   },
   {
    "duration": 6,
    "start_time": "2022-05-21T21:57:45.439Z"
   },
   {
    "duration": 13,
    "start_time": "2022-05-21T21:57:46.459Z"
   },
   {
    "duration": 7,
    "start_time": "2022-05-21T21:57:46.963Z"
   },
   {
    "duration": 15,
    "start_time": "2022-05-21T21:57:47.163Z"
   },
   {
    "duration": 18,
    "start_time": "2022-05-21T21:57:47.999Z"
   },
   {
    "duration": 154,
    "start_time": "2022-05-21T21:57:48.508Z"
   },
   {
    "duration": 70,
    "start_time": "2022-05-21T21:57:48.990Z"
   },
   {
    "duration": 19,
    "start_time": "2022-05-21T21:57:51.149Z"
   },
   {
    "duration": 307,
    "start_time": "2022-05-21T21:57:51.679Z"
   },
   {
    "duration": 328,
    "start_time": "2022-05-21T21:57:52.248Z"
   },
   {
    "duration": 125,
    "start_time": "2022-05-21T21:57:54.839Z"
   },
   {
    "duration": 134,
    "start_time": "2022-05-21T21:59:32.914Z"
   },
   {
    "duration": 19,
    "start_time": "2022-05-21T21:59:59.115Z"
   },
   {
    "duration": 283,
    "start_time": "2022-05-21T22:00:26.884Z"
   },
   {
    "duration": 302,
    "start_time": "2022-05-21T22:00:40.586Z"
   },
   {
    "duration": 318,
    "start_time": "2022-05-21T22:01:34.824Z"
   },
   {
    "duration": 237,
    "start_time": "2022-05-21T22:01:39.634Z"
   },
   {
    "duration": 83,
    "start_time": "2022-05-21T22:10:46.311Z"
   },
   {
    "duration": 116,
    "start_time": "2022-05-21T22:11:01.925Z"
   },
   {
    "duration": 96,
    "start_time": "2022-05-21T22:12:48.697Z"
   },
   {
    "duration": 21,
    "start_time": "2022-05-21T22:12:51.341Z"
   },
   {
    "duration": 370,
    "start_time": "2022-05-21T22:12:51.535Z"
   },
   {
    "duration": 309,
    "start_time": "2022-05-21T22:12:51.908Z"
   },
   {
    "duration": 14,
    "start_time": "2022-05-21T22:12:53.000Z"
   },
   {
    "duration": 277,
    "start_time": "2022-05-21T22:14:30.927Z"
   },
   {
    "duration": 310,
    "start_time": "2022-05-21T22:14:54.906Z"
   },
   {
    "duration": 416,
    "start_time": "2022-05-21T22:15:47.506Z"
   },
   {
    "duration": 377,
    "start_time": "2022-05-21T22:16:35.667Z"
   },
   {
    "duration": 402,
    "start_time": "2022-05-21T22:16:58.707Z"
   },
   {
    "duration": 301,
    "start_time": "2022-05-21T22:17:39.537Z"
   },
   {
    "duration": 726,
    "start_time": "2022-05-21T22:18:54.602Z"
   },
   {
    "duration": 317,
    "start_time": "2022-05-21T22:19:48.728Z"
   },
   {
    "duration": 372,
    "start_time": "2022-05-21T22:20:01.098Z"
   },
   {
    "duration": 348,
    "start_time": "2022-05-21T22:20:09.248Z"
   },
   {
    "duration": 328,
    "start_time": "2022-05-21T22:20:14.593Z"
   },
   {
    "duration": 288,
    "start_time": "2022-05-21T22:20:17.838Z"
   },
   {
    "duration": 319,
    "start_time": "2022-05-21T22:20:26.708Z"
   },
   {
    "duration": 279,
    "start_time": "2022-05-21T22:20:42.288Z"
   },
   {
    "duration": 38,
    "start_time": "2022-05-21T22:24:38.909Z"
   },
   {
    "duration": 75,
    "start_time": "2022-05-21T22:24:49.818Z"
   },
   {
    "duration": 21,
    "start_time": "2022-05-21T22:24:53.598Z"
   },
   {
    "duration": 18,
    "start_time": "2022-05-21T22:24:54.598Z"
   },
   {
    "duration": 119,
    "start_time": "2022-05-21T22:24:54.844Z"
   },
   {
    "duration": 78,
    "start_time": "2022-05-21T22:24:55.449Z"
   },
   {
    "duration": 19,
    "start_time": "2022-05-21T22:24:57.149Z"
   },
   {
    "duration": 315,
    "start_time": "2022-05-21T22:24:57.788Z"
   },
   {
    "duration": 347,
    "start_time": "2022-05-21T22:24:58.238Z"
   },
   {
    "duration": 272,
    "start_time": "2022-05-21T22:25:00.179Z"
   },
   {
    "duration": 274,
    "start_time": "2022-05-21T22:25:08.068Z"
   },
   {
    "duration": 271,
    "start_time": "2022-05-21T22:25:15.389Z"
   },
   {
    "duration": 279,
    "start_time": "2022-05-21T22:25:19.118Z"
   },
   {
    "duration": 350,
    "start_time": "2022-05-21T22:25:36.479Z"
   },
   {
    "duration": 269,
    "start_time": "2022-05-21T22:25:41.379Z"
   },
   {
    "duration": 19,
    "start_time": "2022-05-21T22:31:00.681Z"
   },
   {
    "duration": 301,
    "start_time": "2022-05-21T22:31:08.324Z"
   },
   {
    "duration": 23,
    "start_time": "2022-05-21T22:31:29.884Z"
   },
   {
    "duration": 248,
    "start_time": "2022-05-21T22:31:57.291Z"
   },
   {
    "duration": 4,
    "start_time": "2022-05-22T00:38:07.726Z"
   },
   {
    "duration": 4,
    "start_time": "2022-05-22T00:38:35.487Z"
   },
   {
    "duration": 4,
    "start_time": "2022-05-22T00:39:24.495Z"
   },
   {
    "duration": 5,
    "start_time": "2022-05-22T00:39:55.519Z"
   },
   {
    "duration": 4,
    "start_time": "2022-05-22T00:40:00.127Z"
   },
   {
    "duration": 10,
    "start_time": "2022-05-22T00:40:01.367Z"
   },
   {
    "duration": 10,
    "start_time": "2022-05-22T00:40:35.099Z"
   },
   {
    "duration": 9,
    "start_time": "2022-05-22T00:41:22.720Z"
   },
   {
    "duration": 10,
    "start_time": "2022-05-22T00:42:18.259Z"
   },
   {
    "duration": 34,
    "start_time": "2022-05-22T00:42:45.819Z"
   },
   {
    "duration": 33,
    "start_time": "2022-05-22T00:44:03.200Z"
   },
   {
    "duration": 5,
    "start_time": "2022-05-22T00:44:12.676Z"
   },
   {
    "duration": 3,
    "start_time": "2022-05-22T00:44:13.540Z"
   },
   {
    "duration": 34,
    "start_time": "2022-05-22T00:44:14.280Z"
   },
   {
    "duration": 33,
    "start_time": "2022-05-22T00:44:39.240Z"
   },
   {
    "duration": 5,
    "start_time": "2022-05-22T00:45:28.548Z"
   },
   {
    "duration": 3,
    "start_time": "2022-05-22T00:45:30.320Z"
   },
   {
    "duration": 34,
    "start_time": "2022-05-22T00:45:31.008Z"
   },
   {
    "duration": 35,
    "start_time": "2022-05-22T00:46:02.208Z"
   },
   {
    "duration": 5,
    "start_time": "2022-05-22T00:47:02.180Z"
   },
   {
    "duration": 3,
    "start_time": "2022-05-22T00:47:02.700Z"
   },
   {
    "duration": 32,
    "start_time": "2022-05-22T00:47:03.208Z"
   },
   {
    "duration": 5,
    "start_time": "2022-05-22T07:36:06.013Z"
   },
   {
    "duration": 4,
    "start_time": "2022-05-22T07:36:07.705Z"
   },
   {
    "duration": 42,
    "start_time": "2022-05-22T07:36:08.885Z"
   },
   {
    "duration": 34,
    "start_time": "2022-05-22T07:40:10.108Z"
   },
   {
    "duration": 12,
    "start_time": "2022-05-22T07:41:41.139Z"
   },
   {
    "duration": 5,
    "start_time": "2022-05-22T07:42:25.586Z"
   },
   {
    "duration": 12,
    "start_time": "2022-05-22T07:42:27.969Z"
   },
   {
    "duration": 4,
    "start_time": "2022-05-22T07:42:28.476Z"
   },
   {
    "duration": 48,
    "start_time": "2022-05-22T07:42:29.131Z"
   },
   {
    "duration": 39,
    "start_time": "2022-05-22T07:42:55.051Z"
   },
   {
    "duration": 4,
    "start_time": "2022-05-22T07:45:30.300Z"
   },
   {
    "duration": 721,
    "start_time": "2022-05-22T07:45:30.306Z"
   },
   {
    "duration": 152,
    "start_time": "2022-05-22T07:45:31.029Z"
   },
   {
    "duration": 91,
    "start_time": "2022-05-22T07:45:31.184Z"
   },
   {
    "duration": 382,
    "start_time": "2022-05-22T07:45:31.278Z"
   },
   {
    "duration": 407,
    "start_time": "2022-05-22T07:45:31.664Z"
   },
   {
    "duration": 164,
    "start_time": "2022-05-22T07:45:32.075Z"
   },
   {
    "duration": 39,
    "start_time": "2022-05-22T07:45:32.241Z"
   },
   {
    "duration": 33,
    "start_time": "2022-05-22T07:45:32.283Z"
   },
   {
    "duration": 29,
    "start_time": "2022-05-22T07:45:32.318Z"
   },
   {
    "duration": 72,
    "start_time": "2022-05-22T07:45:32.349Z"
   },
   {
    "duration": 43,
    "start_time": "2022-05-22T07:45:32.423Z"
   },
   {
    "duration": 13,
    "start_time": "2022-05-22T07:45:32.472Z"
   },
   {
    "duration": 27,
    "start_time": "2022-05-22T07:45:32.486Z"
   },
   {
    "duration": 64,
    "start_time": "2022-05-22T07:45:32.515Z"
   },
   {
    "duration": 23,
    "start_time": "2022-05-22T07:45:32.583Z"
   },
   {
    "duration": 26,
    "start_time": "2022-05-22T07:45:32.608Z"
   },
   {
    "duration": 163,
    "start_time": "2022-05-22T07:45:32.637Z"
   },
   {
    "duration": 210,
    "start_time": "2022-05-22T07:45:32.802Z"
   },
   {
    "duration": 21,
    "start_time": "2022-05-22T07:45:33.014Z"
   },
   {
    "duration": 387,
    "start_time": "2022-05-22T07:45:33.037Z"
   },
   {
    "duration": 288,
    "start_time": "2022-05-22T07:45:33.425Z"
   },
   {
    "duration": 5,
    "start_time": "2022-05-22T07:45:37.091Z"
   },
   {
    "duration": 4,
    "start_time": "2022-05-22T07:45:38.788Z"
   },
   {
    "duration": 52,
    "start_time": "2022-05-22T07:45:41.237Z"
   },
   {
    "duration": 38,
    "start_time": "2022-05-22T07:45:47.486Z"
   },
   {
    "duration": 3,
    "start_time": "2022-05-22T07:46:07.537Z"
   },
   {
    "duration": 3,
    "start_time": "2022-05-22T07:46:17.818Z"
   },
   {
    "duration": 5,
    "start_time": "2022-05-22T07:46:35.283Z"
   },
   {
    "duration": 14,
    "start_time": "2022-05-22T07:46:58.567Z"
   },
   {
    "duration": 6,
    "start_time": "2022-05-22T07:47:01.334Z"
   },
   {
    "duration": 3,
    "start_time": "2022-05-22T07:47:02.358Z"
   },
   {
    "duration": 4,
    "start_time": "2022-05-22T07:47:02.999Z"
   },
   {
    "duration": 27,
    "start_time": "2022-05-22T07:47:04.690Z"
   },
   {
    "duration": 8,
    "start_time": "2022-05-22T07:53:19.805Z"
   },
   {
    "duration": 13,
    "start_time": "2022-05-22T07:53:20.695Z"
   },
   {
    "duration": 4,
    "start_time": "2022-05-22T07:53:21.522Z"
   },
   {
    "duration": 24,
    "start_time": "2022-05-22T07:53:23.738Z"
   },
   {
    "duration": 6,
    "start_time": "2022-05-22T07:53:54.012Z"
   },
   {
    "duration": 6,
    "start_time": "2022-05-22T07:53:54.499Z"
   },
   {
    "duration": 4,
    "start_time": "2022-05-22T07:53:54.959Z"
   },
   {
    "duration": 25,
    "start_time": "2022-05-22T07:53:55.928Z"
   },
   {
    "duration": 6,
    "start_time": "2022-05-22T08:02:51.716Z"
   },
   {
    "duration": 4,
    "start_time": "2022-05-22T08:02:54.327Z"
   },
   {
    "duration": 4,
    "start_time": "2022-05-22T08:02:55.047Z"
   },
   {
    "duration": 72,
    "start_time": "2022-05-22T08:02:56.256Z"
   },
   {
    "duration": 7,
    "start_time": "2022-05-22T08:04:24.245Z"
   },
   {
    "duration": 7,
    "start_time": "2022-05-22T08:04:24.796Z"
   },
   {
    "duration": 3,
    "start_time": "2022-05-22T08:04:25.306Z"
   },
   {
    "duration": 71,
    "start_time": "2022-05-22T08:04:26.443Z"
   },
   {
    "duration": 44,
    "start_time": "2022-05-22T08:05:42.504Z"
   },
   {
    "duration": 7,
    "start_time": "2022-05-22T08:09:47.108Z"
   },
   {
    "duration": 4,
    "start_time": "2022-05-22T08:09:47.595Z"
   },
   {
    "duration": 7,
    "start_time": "2022-05-22T08:09:47.978Z"
   },
   {
    "duration": 58,
    "start_time": "2022-05-22T08:09:49.060Z"
   },
   {
    "duration": 1373,
    "start_time": "2022-05-22T08:18:23.826Z"
   },
   {
    "duration": 724,
    "start_time": "2022-05-22T08:18:25.202Z"
   },
   {
    "duration": 171,
    "start_time": "2022-05-22T08:18:25.928Z"
   },
   {
    "duration": 104,
    "start_time": "2022-05-22T08:18:26.101Z"
   },
   {
    "duration": 401,
    "start_time": "2022-05-22T08:18:26.208Z"
   },
   {
    "duration": 395,
    "start_time": "2022-05-22T08:18:26.611Z"
   },
   {
    "duration": 178,
    "start_time": "2022-05-22T08:18:27.008Z"
   },
   {
    "duration": 20,
    "start_time": "2022-05-22T08:18:27.190Z"
   },
   {
    "duration": 29,
    "start_time": "2022-05-22T08:18:27.212Z"
   },
   {
    "duration": 51,
    "start_time": "2022-05-22T08:18:27.242Z"
   },
   {
    "duration": 64,
    "start_time": "2022-05-22T08:18:27.299Z"
   },
   {
    "duration": 40,
    "start_time": "2022-05-22T08:18:27.367Z"
   },
   {
    "duration": 25,
    "start_time": "2022-05-22T08:18:27.408Z"
   },
   {
    "duration": 19,
    "start_time": "2022-05-22T08:18:27.438Z"
   },
   {
    "duration": 73,
    "start_time": "2022-05-22T08:18:27.465Z"
   },
   {
    "duration": 36,
    "start_time": "2022-05-22T08:18:27.540Z"
   },
   {
    "duration": 24,
    "start_time": "2022-05-22T08:18:27.581Z"
   },
   {
    "duration": 144,
    "start_time": "2022-05-22T08:18:27.606Z"
   },
   {
    "duration": 181,
    "start_time": "2022-05-22T08:18:27.752Z"
   },
   {
    "duration": 34,
    "start_time": "2022-05-22T08:18:27.935Z"
   },
   {
    "duration": 145,
    "start_time": "2022-05-22T08:18:27.971Z"
   },
   {
    "duration": 0,
    "start_time": "2022-05-22T08:18:28.118Z"
   },
   {
    "duration": 0,
    "start_time": "2022-05-22T08:18:28.119Z"
   },
   {
    "duration": 0,
    "start_time": "2022-05-22T08:18:28.120Z"
   },
   {
    "duration": 0,
    "start_time": "2022-05-22T08:18:28.121Z"
   },
   {
    "duration": 0,
    "start_time": "2022-05-22T08:18:28.123Z"
   },
   {
    "duration": 0,
    "start_time": "2022-05-22T08:18:28.124Z"
   },
   {
    "duration": 0,
    "start_time": "2022-05-22T08:18:28.125Z"
   },
   {
    "duration": 0,
    "start_time": "2022-05-22T08:18:28.126Z"
   },
   {
    "duration": 0,
    "start_time": "2022-05-22T08:18:28.127Z"
   },
   {
    "duration": 22,
    "start_time": "2022-05-22T08:18:59.099Z"
   },
   {
    "duration": 16,
    "start_time": "2022-05-22T08:19:20.517Z"
   },
   {
    "duration": 3,
    "start_time": "2022-05-22T08:19:34.523Z"
   },
   {
    "duration": 661,
    "start_time": "2022-05-22T08:19:35.486Z"
   },
   {
    "duration": 163,
    "start_time": "2022-05-22T08:19:36.149Z"
   },
   {
    "duration": 88,
    "start_time": "2022-05-22T08:19:39.057Z"
   },
   {
    "duration": 354,
    "start_time": "2022-05-22T08:19:40.678Z"
   },
   {
    "duration": 386,
    "start_time": "2022-05-22T08:19:41.635Z"
   },
   {
    "duration": 150,
    "start_time": "2022-05-22T08:19:42.595Z"
   },
   {
    "duration": 20,
    "start_time": "2022-05-22T08:19:44.747Z"
   },
   {
    "duration": 25,
    "start_time": "2022-05-22T08:19:45.915Z"
   },
   {
    "duration": 31,
    "start_time": "2022-05-22T08:19:47.095Z"
   },
   {
    "duration": 49,
    "start_time": "2022-05-22T08:19:48.394Z"
   },
   {
    "duration": 32,
    "start_time": "2022-05-22T08:19:48.907Z"
   },
   {
    "duration": 7,
    "start_time": "2022-05-22T08:19:50.027Z"
   },
   {
    "duration": 20,
    "start_time": "2022-05-22T08:19:51.084Z"
   },
   {
    "duration": 52,
    "start_time": "2022-05-22T08:19:52.636Z"
   },
   {
    "duration": 14,
    "start_time": "2022-05-22T08:19:52.948Z"
   },
   {
    "duration": 22,
    "start_time": "2022-05-22T08:19:54.107Z"
   },
   {
    "duration": 126,
    "start_time": "2022-05-22T08:19:54.715Z"
   },
   {
    "duration": 80,
    "start_time": "2022-05-22T08:19:55.781Z"
   },
   {
    "duration": 20,
    "start_time": "2022-05-22T08:19:58.693Z"
   },
   {
    "duration": 16,
    "start_time": "2022-05-22T08:19:59.507Z"
   },
   {
    "duration": 421,
    "start_time": "2022-05-22T08:20:00.307Z"
   },
   {
    "duration": 117,
    "start_time": "2022-05-22T08:20:37.195Z"
   },
   {
    "duration": 128,
    "start_time": "2022-05-22T08:20:46.388Z"
   },
   {
    "duration": 359,
    "start_time": "2022-05-22T08:21:02.934Z"
   },
   {
    "duration": 267,
    "start_time": "2022-05-22T08:21:06.484Z"
   },
   {
    "duration": 8,
    "start_time": "2022-05-22T08:21:08.937Z"
   },
   {
    "duration": 6,
    "start_time": "2022-05-22T08:21:09.872Z"
   },
   {
    "duration": 4,
    "start_time": "2022-05-22T08:21:10.894Z"
   },
   {
    "duration": 52,
    "start_time": "2022-05-22T08:21:12.672Z"
   },
   {
    "duration": 57,
    "start_time": "2022-05-22T08:21:14.532Z"
   },
   {
    "duration": 21,
    "start_time": "2022-05-22T08:23:25.908Z"
   },
   {
    "duration": 17,
    "start_time": "2022-05-22T08:23:43.704Z"
   },
   {
    "duration": 16,
    "start_time": "2022-05-22T08:24:11.400Z"
   },
   {
    "duration": 37,
    "start_time": "2022-05-22T08:24:25.174Z"
   },
   {
    "duration": 92,
    "start_time": "2022-05-22T08:25:53.364Z"
   },
   {
    "duration": 205,
    "start_time": "2022-05-22T08:26:07.372Z"
   },
   {
    "duration": 8,
    "start_time": "2022-05-22T08:27:08.035Z"
   },
   {
    "duration": 25,
    "start_time": "2022-05-22T08:27:08.564Z"
   },
   {
    "duration": 27,
    "start_time": "2022-05-22T08:27:11.548Z"
   },
   {
    "duration": 129,
    "start_time": "2022-05-22T08:27:13.196Z"
   },
   {
    "duration": 111,
    "start_time": "2022-05-22T08:27:13.852Z"
   },
   {
    "duration": 31,
    "start_time": "2022-05-22T08:27:36.664Z"
   },
   {
    "duration": 365,
    "start_time": "2022-05-22T08:27:37.116Z"
   },
   {
    "duration": 265,
    "start_time": "2022-05-22T08:27:38.099Z"
   },
   {
    "duration": 43,
    "start_time": "2022-05-22T08:27:40.280Z"
   },
   {
    "duration": 48,
    "start_time": "2022-05-22T08:27:45.092Z"
   },
   {
    "duration": 104,
    "start_time": "2022-05-22T08:28:41.718Z"
   },
   {
    "duration": 35,
    "start_time": "2022-05-22T08:29:17.312Z"
   },
   {
    "duration": 34,
    "start_time": "2022-05-22T08:29:39.803Z"
   },
   {
    "duration": 28,
    "start_time": "2022-05-22T08:54:03.896Z"
   },
   {
    "duration": 49,
    "start_time": "2022-05-22T08:58:07.951Z"
   },
   {
    "duration": 7,
    "start_time": "2022-05-22T09:00:11.247Z"
   },
   {
    "duration": 4,
    "start_time": "2022-05-22T09:00:12.308Z"
   },
   {
    "duration": 3,
    "start_time": "2022-05-22T09:00:12.848Z"
   },
   {
    "duration": 70,
    "start_time": "2022-05-22T09:00:14.451Z"
   },
   {
    "duration": 35,
    "start_time": "2022-05-22T09:01:02.555Z"
   },
   {
    "duration": 46,
    "start_time": "2022-05-22T09:01:21.559Z"
   },
   {
    "duration": 67,
    "start_time": "2022-05-22T09:02:50.149Z"
   },
   {
    "duration": 47,
    "start_time": "2022-05-22T09:03:00.620Z"
   },
   {
    "duration": 56,
    "start_time": "2022-05-22T09:04:51.313Z"
   },
   {
    "duration": 17,
    "start_time": "2022-05-22T09:19:17.605Z"
   },
   {
    "duration": 43,
    "start_time": "2022-05-22T09:21:17.960Z"
   },
   {
    "duration": 39,
    "start_time": "2022-05-22T09:22:05.821Z"
   },
   {
    "duration": 39,
    "start_time": "2022-05-22T09:22:41.603Z"
   },
   {
    "duration": 35,
    "start_time": "2022-05-22T09:23:08.029Z"
   },
   {
    "duration": 37,
    "start_time": "2022-05-22T09:23:49.800Z"
   },
   {
    "duration": 36,
    "start_time": "2022-05-22T09:24:07.920Z"
   },
   {
    "duration": 49,
    "start_time": "2022-05-22T09:24:26.434Z"
   },
   {
    "duration": 10,
    "start_time": "2022-05-22T09:24:49.691Z"
   },
   {
    "duration": 880,
    "start_time": "2022-05-22T09:24:50.139Z"
   },
   {
    "duration": 131,
    "start_time": "2022-05-22T09:24:51.022Z"
   },
   {
    "duration": 69,
    "start_time": "2022-05-22T09:24:51.388Z"
   },
   {
    "duration": 442,
    "start_time": "2022-05-22T09:24:51.963Z"
   },
   {
    "duration": 468,
    "start_time": "2022-05-22T09:24:52.440Z"
   },
   {
    "duration": 173,
    "start_time": "2022-05-22T09:24:52.911Z"
   },
   {
    "duration": 19,
    "start_time": "2022-05-22T09:24:53.700Z"
   },
   {
    "duration": 25,
    "start_time": "2022-05-22T09:24:54.112Z"
   },
   {
    "duration": 46,
    "start_time": "2022-05-22T09:24:54.591Z"
   },
   {
    "duration": 55,
    "start_time": "2022-05-22T09:24:55.202Z"
   },
   {
    "duration": 40,
    "start_time": "2022-05-22T09:24:55.413Z"
   },
   {
    "duration": 7,
    "start_time": "2022-05-22T09:24:55.938Z"
   },
   {
    "duration": 13,
    "start_time": "2022-05-22T09:24:56.445Z"
   },
   {
    "duration": 7,
    "start_time": "2022-05-22T09:24:57.319Z"
   },
   {
    "duration": 20,
    "start_time": "2022-05-22T09:24:57.611Z"
   },
   {
    "duration": 20,
    "start_time": "2022-05-22T09:24:58.212Z"
   },
   {
    "duration": 292,
    "start_time": "2022-05-22T09:24:58.720Z"
   },
   {
    "duration": 172,
    "start_time": "2022-05-22T09:24:59.090Z"
   },
   {
    "duration": 19,
    "start_time": "2022-05-22T09:25:00.800Z"
   },
   {
    "duration": 476,
    "start_time": "2022-05-22T09:25:01.337Z"
   },
   {
    "duration": 366,
    "start_time": "2022-05-22T09:25:01.815Z"
   },
   {
    "duration": 38,
    "start_time": "2022-05-22T09:25:03.201Z"
   },
   {
    "duration": 10,
    "start_time": "2022-05-22T09:25:05.520Z"
   },
   {
    "duration": 12,
    "start_time": "2022-05-22T09:25:31.305Z"
   },
   {
    "duration": 14,
    "start_time": "2022-05-22T09:25:41.960Z"
   },
   {
    "duration": 45,
    "start_time": "2022-05-22T09:25:59.737Z"
   },
   {
    "duration": 6,
    "start_time": "2022-05-22T09:26:22.000Z"
   },
   {
    "duration": 38,
    "start_time": "2022-05-22T09:26:23.680Z"
   },
   {
    "duration": 55,
    "start_time": "2022-05-22T09:26:36.137Z"
   },
   {
    "duration": 14,
    "start_time": "2022-05-22T09:26:50.460Z"
   },
   {
    "duration": 48,
    "start_time": "2022-05-22T09:26:52.377Z"
   },
   {
    "duration": 47,
    "start_time": "2022-05-22T09:27:00.793Z"
   },
   {
    "duration": 35,
    "start_time": "2022-05-22T09:28:38.319Z"
   },
   {
    "duration": 7,
    "start_time": "2022-05-22T09:28:59.149Z"
   },
   {
    "duration": 276,
    "start_time": "2022-05-22T09:28:59.611Z"
   },
   {
    "duration": 7,
    "start_time": "2022-05-22T09:29:24.417Z"
   },
   {
    "duration": 426,
    "start_time": "2022-05-22T09:29:25.997Z"
   },
   {
    "duration": 14,
    "start_time": "2022-05-22T09:29:45.386Z"
   },
   {
    "duration": 289,
    "start_time": "2022-05-22T09:29:49.551Z"
   },
   {
    "duration": 12,
    "start_time": "2022-05-22T09:31:08.984Z"
   },
   {
    "duration": 261,
    "start_time": "2022-05-22T09:31:09.791Z"
   },
   {
    "duration": 271,
    "start_time": "2022-05-22T09:31:54.883Z"
   },
   {
    "duration": 36,
    "start_time": "2022-05-22T09:49:43.210Z"
   },
   {
    "duration": 6,
    "start_time": "2022-05-22T09:49:56.499Z"
   },
   {
    "duration": 947,
    "start_time": "2022-05-22T09:49:57.191Z"
   },
   {
    "duration": 1252,
    "start_time": "2022-05-22T09:51:41.860Z"
   },
   {
    "duration": 132,
    "start_time": "2022-05-22T09:51:57.482Z"
   },
   {
    "duration": 1049,
    "start_time": "2022-05-22T09:51:57.919Z"
   },
   {
    "duration": 1016,
    "start_time": "2022-05-22T09:54:05.000Z"
   },
   {
    "duration": 19,
    "start_time": "2022-05-22T09:58:29.251Z"
   },
   {
    "duration": 8,
    "start_time": "2022-05-22T09:58:38.194Z"
   },
   {
    "duration": 1550,
    "start_time": "2022-05-22T09:58:39.283Z"
   },
   {
    "duration": 5,
    "start_time": "2022-05-22T10:00:14.799Z"
   },
   {
    "duration": 5,
    "start_time": "2022-05-22T10:00:18.812Z"
   },
   {
    "duration": 18,
    "start_time": "2022-05-22T10:01:42.026Z"
   },
   {
    "duration": 6,
    "start_time": "2022-05-22T10:02:22.450Z"
   },
   {
    "duration": 42,
    "start_time": "2022-05-22T10:02:23.401Z"
   },
   {
    "duration": 36,
    "start_time": "2022-05-22T10:03:12.986Z"
   },
   {
    "duration": 7,
    "start_time": "2022-05-22T10:03:17.152Z"
   },
   {
    "duration": 15,
    "start_time": "2022-05-22T10:03:17.611Z"
   },
   {
    "duration": 31,
    "start_time": "2022-05-22T10:05:43.916Z"
   },
   {
    "duration": 19,
    "start_time": "2022-05-22T10:05:44.553Z"
   },
   {
    "duration": 7,
    "start_time": "2022-05-22T10:05:51.707Z"
   },
   {
    "duration": 21,
    "start_time": "2022-05-22T10:05:52.027Z"
   },
   {
    "duration": 45,
    "start_time": "2022-05-22T10:05:58.883Z"
   },
   {
    "duration": 8,
    "start_time": "2022-05-22T10:08:14.043Z"
   },
   {
    "duration": 184,
    "start_time": "2022-05-22T10:08:20.017Z"
   },
   {
    "duration": 1169,
    "start_time": "2022-05-22T10:10:07.352Z"
   },
   {
    "duration": 6,
    "start_time": "2022-05-22T10:13:15.906Z"
   },
   {
    "duration": 5,
    "start_time": "2022-05-22T10:13:28.249Z"
   },
   {
    "duration": 99,
    "start_time": "2022-05-22T10:13:45.168Z"
   },
   {
    "duration": 26,
    "start_time": "2022-05-22T10:13:57.199Z"
   },
   {
    "duration": 71,
    "start_time": "2022-05-22T10:14:09.745Z"
   },
   {
    "duration": 66,
    "start_time": "2022-05-22T10:14:23.563Z"
   },
   {
    "duration": 71,
    "start_time": "2022-05-22T10:14:59.355Z"
   },
   {
    "duration": 45,
    "start_time": "2022-05-22T10:16:42.343Z"
   },
   {
    "duration": 54,
    "start_time": "2022-05-22T10:17:38.264Z"
   },
   {
    "duration": 48,
    "start_time": "2022-05-22T10:17:45.385Z"
   },
   {
    "duration": 36,
    "start_time": "2022-05-22T10:19:53.495Z"
   },
   {
    "duration": 426,
    "start_time": "2022-05-22T10:20:03.089Z"
   },
   {
    "duration": 67,
    "start_time": "2022-05-22T10:21:15.438Z"
   },
   {
    "duration": 366,
    "start_time": "2022-05-22T10:21:47.129Z"
   },
   {
    "duration": 380,
    "start_time": "2022-05-22T10:21:56.361Z"
   },
   {
    "duration": 454,
    "start_time": "2022-05-22T10:22:29.479Z"
   },
   {
    "duration": 1056,
    "start_time": "2022-05-22T10:22:31.249Z"
   },
   {
    "duration": 352,
    "start_time": "2022-05-22T10:22:49.859Z"
   },
   {
    "duration": 7,
    "start_time": "2022-05-22T12:17:23.153Z"
   },
   {
    "duration": 8,
    "start_time": "2022-05-22T12:25:51.312Z"
   },
   {
    "duration": 4,
    "start_time": "2022-05-22T12:26:15.454Z"
   },
   {
    "duration": 1124,
    "start_time": "2022-05-22T12:31:00.385Z"
   },
   {
    "duration": 51,
    "start_time": "2022-05-22T12:33:53.511Z"
   },
   {
    "duration": 49,
    "start_time": "2022-05-22T12:34:30.206Z"
   },
   {
    "duration": 4,
    "start_time": "2022-05-22T12:35:51.154Z"
   },
   {
    "duration": 342,
    "start_time": "2022-05-22T12:35:52.758Z"
   },
   {
    "duration": 50,
    "start_time": "2022-05-22T12:36:06.018Z"
   },
   {
    "duration": 46,
    "start_time": "2022-05-22T12:36:39.517Z"
   },
   {
    "duration": 46,
    "start_time": "2022-05-22T12:39:54.993Z"
   },
   {
    "duration": 59,
    "start_time": "2022-05-22T12:44:06.563Z"
   },
   {
    "duration": 11,
    "start_time": "2022-05-22T12:44:11.263Z"
   },
   {
    "duration": 43,
    "start_time": "2022-05-22T12:44:47.701Z"
   },
   {
    "duration": 19,
    "start_time": "2022-05-22T12:44:53.663Z"
   },
   {
    "duration": 16,
    "start_time": "2022-05-22T12:45:10.234Z"
   },
   {
    "duration": 33,
    "start_time": "2022-05-22T12:45:23.090Z"
   },
   {
    "duration": 20,
    "start_time": "2022-05-22T12:45:51.724Z"
   },
   {
    "duration": 33,
    "start_time": "2022-05-22T12:46:07.980Z"
   },
   {
    "duration": 40,
    "start_time": "2022-05-22T12:47:44.408Z"
   },
   {
    "duration": 37,
    "start_time": "2022-05-22T12:48:15.995Z"
   },
   {
    "duration": 42,
    "start_time": "2022-05-22T12:50:59.231Z"
   },
   {
    "duration": 47,
    "start_time": "2022-05-22T12:51:52.806Z"
   },
   {
    "duration": 24,
    "start_time": "2022-05-22T12:52:15.622Z"
   },
   {
    "duration": 25,
    "start_time": "2022-05-22T12:52:21.778Z"
   },
   {
    "duration": 1193,
    "start_time": "2022-05-22T12:52:36.202Z"
   },
   {
    "duration": 631,
    "start_time": "2022-05-22T12:52:37.397Z"
   },
   {
    "duration": 117,
    "start_time": "2022-05-22T12:52:38.030Z"
   },
   {
    "duration": 101,
    "start_time": "2022-05-22T12:52:38.148Z"
   },
   {
    "duration": 376,
    "start_time": "2022-05-22T12:52:38.251Z"
   },
   {
    "duration": 359,
    "start_time": "2022-05-22T12:52:38.629Z"
   },
   {
    "duration": 176,
    "start_time": "2022-05-22T12:52:38.990Z"
   },
   {
    "duration": 13,
    "start_time": "2022-05-22T12:52:39.167Z"
   },
   {
    "duration": 22,
    "start_time": "2022-05-22T12:52:39.182Z"
   },
   {
    "duration": 26,
    "start_time": "2022-05-22T12:52:39.206Z"
   },
   {
    "duration": 43,
    "start_time": "2022-05-22T12:52:39.264Z"
   },
   {
    "duration": 26,
    "start_time": "2022-05-22T12:52:39.309Z"
   },
   {
    "duration": 7,
    "start_time": "2022-05-22T12:52:39.336Z"
   },
   {
    "duration": 28,
    "start_time": "2022-05-22T12:52:39.345Z"
   },
   {
    "duration": 5,
    "start_time": "2022-05-22T12:52:39.375Z"
   },
   {
    "duration": 17,
    "start_time": "2022-05-22T12:52:39.382Z"
   },
   {
    "duration": 18,
    "start_time": "2022-05-22T12:52:39.400Z"
   },
   {
    "duration": 201,
    "start_time": "2022-05-22T12:52:39.419Z"
   },
   {
    "duration": 163,
    "start_time": "2022-05-22T12:52:39.622Z"
   },
   {
    "duration": 20,
    "start_time": "2022-05-22T12:52:39.787Z"
   },
   {
    "duration": 346,
    "start_time": "2022-05-22T12:52:39.809Z"
   },
   {
    "duration": 245,
    "start_time": "2022-05-22T12:52:40.156Z"
   },
   {
    "duration": 6,
    "start_time": "2022-05-22T12:52:40.403Z"
   },
   {
    "duration": 0,
    "start_time": "2022-05-22T12:52:40.411Z"
   },
   {
    "duration": 0,
    "start_time": "2022-05-22T12:52:40.413Z"
   },
   {
    "duration": 0,
    "start_time": "2022-05-22T12:52:40.415Z"
   },
   {
    "duration": 0,
    "start_time": "2022-05-22T12:52:40.416Z"
   },
   {
    "duration": 0,
    "start_time": "2022-05-22T12:52:40.418Z"
   },
   {
    "duration": 0,
    "start_time": "2022-05-22T12:52:40.419Z"
   },
   {
    "duration": 0,
    "start_time": "2022-05-22T12:52:40.421Z"
   },
   {
    "duration": 0,
    "start_time": "2022-05-22T12:52:40.422Z"
   },
   {
    "duration": 0,
    "start_time": "2022-05-22T12:52:40.424Z"
   },
   {
    "duration": 0,
    "start_time": "2022-05-22T12:52:40.426Z"
   },
   {
    "duration": 0,
    "start_time": "2022-05-22T12:52:40.427Z"
   },
   {
    "duration": 4,
    "start_time": "2022-05-22T12:52:52.975Z"
   },
   {
    "duration": 646,
    "start_time": "2022-05-22T12:52:53.534Z"
   },
   {
    "duration": 135,
    "start_time": "2022-05-22T12:52:54.182Z"
   },
   {
    "duration": 80,
    "start_time": "2022-05-22T12:52:54.729Z"
   },
   {
    "duration": 350,
    "start_time": "2022-05-22T12:52:55.150Z"
   },
   {
    "duration": 344,
    "start_time": "2022-05-22T12:52:55.677Z"
   },
   {
    "duration": 145,
    "start_time": "2022-05-22T12:52:56.063Z"
   },
   {
    "duration": 14,
    "start_time": "2022-05-22T12:52:56.829Z"
   },
   {
    "duration": 23,
    "start_time": "2022-05-22T12:52:57.227Z"
   },
   {
    "duration": 28,
    "start_time": "2022-05-22T12:52:57.614Z"
   },
   {
    "duration": 45,
    "start_time": "2022-05-22T12:52:58.015Z"
   },
   {
    "duration": 27,
    "start_time": "2022-05-22T12:52:58.186Z"
   },
   {
    "duration": 8,
    "start_time": "2022-05-22T12:52:58.587Z"
   },
   {
    "duration": 18,
    "start_time": "2022-05-22T12:52:59.065Z"
   },
   {
    "duration": 13,
    "start_time": "2022-05-22T12:53:00.660Z"
   },
   {
    "duration": 15,
    "start_time": "2022-05-22T12:53:01.206Z"
   },
   {
    "duration": 24,
    "start_time": "2022-05-22T12:53:02.367Z"
   },
   {
    "duration": 214,
    "start_time": "2022-05-22T12:53:03.094Z"
   },
   {
    "duration": 100,
    "start_time": "2022-05-22T12:53:04.054Z"
   },
   {
    "duration": 19,
    "start_time": "2022-05-22T12:53:07.098Z"
   },
   {
    "duration": 318,
    "start_time": "2022-05-22T12:53:07.867Z"
   },
   {
    "duration": 243,
    "start_time": "2022-05-22T12:53:08.386Z"
   },
   {
    "duration": 7,
    "start_time": "2022-05-22T12:53:10.756Z"
   },
   {
    "duration": 9,
    "start_time": "2022-05-22T12:53:18.683Z"
   },
   {
    "duration": 353,
    "start_time": "2022-05-22T12:53:19.178Z"
   },
   {
    "duration": 1151,
    "start_time": "2022-05-22T12:53:19.758Z"
   },
   {
    "duration": 8,
    "start_time": "2022-05-22T12:53:22.023Z"
   },
   {
    "duration": 7,
    "start_time": "2022-05-22T12:53:22.983Z"
   },
   {
    "duration": 37,
    "start_time": "2022-05-22T12:53:35.926Z"
   },
   {
    "duration": 43,
    "start_time": "2022-05-22T12:54:28.256Z"
   },
   {
    "duration": 39,
    "start_time": "2022-05-22T12:54:35.481Z"
   },
   {
    "duration": 53,
    "start_time": "2022-05-22T12:57:42.960Z"
   },
   {
    "duration": 171,
    "start_time": "2022-05-22T12:57:50.206Z"
   },
   {
    "duration": 42,
    "start_time": "2022-05-22T12:58:07.558Z"
   },
   {
    "duration": 44,
    "start_time": "2022-05-22T12:58:51.000Z"
   },
   {
    "duration": 74,
    "start_time": "2022-05-22T12:59:07.422Z"
   },
   {
    "duration": 212,
    "start_time": "2022-05-22T13:00:45.317Z"
   },
   {
    "duration": 183,
    "start_time": "2022-05-22T13:00:54.656Z"
   },
   {
    "duration": 151,
    "start_time": "2022-05-22T13:01:50.357Z"
   },
   {
    "duration": 52,
    "start_time": "2022-05-22T13:01:59.455Z"
   },
   {
    "duration": 69,
    "start_time": "2022-05-22T13:02:11.185Z"
   },
   {
    "duration": 51,
    "start_time": "2022-05-22T13:03:55.352Z"
   },
   {
    "duration": 49,
    "start_time": "2022-05-22T13:05:57.082Z"
   },
   {
    "duration": 49,
    "start_time": "2022-05-22T13:08:08.753Z"
   },
   {
    "duration": 76,
    "start_time": "2022-05-22T13:14:44.166Z"
   },
   {
    "duration": 71,
    "start_time": "2022-05-22T13:14:52.328Z"
   },
   {
    "duration": 236,
    "start_time": "2022-05-22T13:15:23.965Z"
   },
   {
    "duration": 14,
    "start_time": "2022-05-22T13:29:26.083Z"
   },
   {
    "duration": 217,
    "start_time": "2022-05-22T13:32:40.103Z"
   },
   {
    "duration": 12,
    "start_time": "2022-05-22T13:32:41.983Z"
   },
   {
    "duration": 915,
    "start_time": "2022-05-22T13:32:43.350Z"
   },
   {
    "duration": 13,
    "start_time": "2022-05-22T13:40:45.465Z"
   },
   {
    "duration": 12,
    "start_time": "2022-05-22T13:53:59.383Z"
   },
   {
    "duration": 693,
    "start_time": "2022-05-22T14:03:07.931Z"
   },
   {
    "duration": 9,
    "start_time": "2022-05-22T14:03:23.081Z"
   },
   {
    "duration": 9,
    "start_time": "2022-05-22T14:03:59.007Z"
   },
   {
    "duration": 518,
    "start_time": "2022-05-22T14:03:59.904Z"
   },
   {
    "duration": 10,
    "start_time": "2022-05-22T14:09:45.839Z"
   },
   {
    "duration": 24,
    "start_time": "2022-05-22T14:09:49.394Z"
   },
   {
    "duration": 28,
    "start_time": "2022-05-22T14:17:29.210Z"
   },
   {
    "duration": 33,
    "start_time": "2022-05-22T14:18:03.539Z"
   },
   {
    "duration": 8,
    "start_time": "2022-05-22T14:20:05.502Z"
   },
   {
    "duration": 24,
    "start_time": "2022-05-22T14:20:07.133Z"
   },
   {
    "duration": 30,
    "start_time": "2022-05-22T14:20:08.323Z"
   },
   {
    "duration": 29,
    "start_time": "2022-05-22T14:20:08.692Z"
   },
   {
    "duration": 9,
    "start_time": "2022-05-22T14:30:00.904Z"
   },
   {
    "duration": 9,
    "start_time": "2022-05-22T14:32:13.399Z"
   },
   {
    "duration": 26,
    "start_time": "2022-05-22T14:32:13.854Z"
   },
   {
    "duration": 27,
    "start_time": "2022-05-22T14:32:14.654Z"
   },
   {
    "duration": 251,
    "start_time": "2022-05-22T14:33:28.654Z"
   },
   {
    "duration": 9,
    "start_time": "2022-05-22T14:34:43.845Z"
   },
   {
    "duration": 38,
    "start_time": "2022-05-22T14:34:44.285Z"
   },
   {
    "duration": 29,
    "start_time": "2022-05-22T14:34:44.755Z"
   },
   {
    "duration": 211,
    "start_time": "2022-05-22T14:34:45.314Z"
   },
   {
    "duration": 431,
    "start_time": "2022-05-22T14:34:46.288Z"
   },
   {
    "duration": 26,
    "start_time": "2022-05-22T14:38:56.795Z"
   },
   {
    "duration": 25,
    "start_time": "2022-05-22T14:38:58.187Z"
   },
   {
    "duration": 28,
    "start_time": "2022-05-22T14:38:59.256Z"
   },
   {
    "duration": 88,
    "start_time": "2022-05-22T14:46:44.779Z"
   },
   {
    "duration": 210,
    "start_time": "2022-05-22T14:46:46.119Z"
   },
   {
    "duration": 250,
    "start_time": "2022-05-22T14:46:47.364Z"
   },
   {
    "duration": 185,
    "start_time": "2022-05-22T14:46:48.895Z"
   },
   {
    "duration": 14,
    "start_time": "2022-05-22T14:47:54.275Z"
   },
   {
    "duration": 26,
    "start_time": "2022-05-22T14:47:55.135Z"
   },
   {
    "duration": 25,
    "start_time": "2022-05-22T14:47:56.620Z"
   },
   {
    "duration": 45,
    "start_time": "2022-05-22T14:47:58.174Z"
   },
   {
    "duration": 35,
    "start_time": "2022-05-22T14:47:59.030Z"
   },
   {
    "duration": 6,
    "start_time": "2022-05-22T14:48:00.664Z"
   },
   {
    "duration": 13,
    "start_time": "2022-05-22T14:48:02.299Z"
   },
   {
    "duration": 7,
    "start_time": "2022-05-22T14:48:03.985Z"
   },
   {
    "duration": 13,
    "start_time": "2022-05-22T14:48:04.739Z"
   },
   {
    "duration": 16,
    "start_time": "2022-05-22T14:48:06.214Z"
   },
   {
    "duration": 128,
    "start_time": "2022-05-22T14:48:06.985Z"
   },
   {
    "duration": 91,
    "start_time": "2022-05-22T14:48:08.095Z"
   },
   {
    "duration": 21,
    "start_time": "2022-05-22T15:04:03.052Z"
   },
   {
    "duration": 316,
    "start_time": "2022-05-22T15:04:03.791Z"
   },
   {
    "duration": 239,
    "start_time": "2022-05-22T15:04:04.856Z"
   },
   {
    "duration": 7,
    "start_time": "2022-05-22T15:04:07.107Z"
   },
   {
    "duration": 328,
    "start_time": "2022-05-22T15:04:08.171Z"
   },
   {
    "duration": 1113,
    "start_time": "2022-05-22T15:04:08.951Z"
   },
   {
    "duration": 9,
    "start_time": "2022-05-22T15:04:10.996Z"
   },
   {
    "duration": 7,
    "start_time": "2022-05-22T15:04:11.951Z"
   },
   {
    "duration": 777,
    "start_time": "2022-05-22T15:04:13.241Z"
   },
   {
    "duration": 13,
    "start_time": "2022-05-22T15:15:27.622Z"
   },
   {
    "duration": 13,
    "start_time": "2022-05-22T15:15:27.867Z"
   },
   {
    "duration": 26,
    "start_time": "2022-05-22T15:15:29.261Z"
   },
   {
    "duration": 23,
    "start_time": "2022-05-22T15:15:29.455Z"
   },
   {
    "duration": 23,
    "start_time": "2022-05-22T15:15:30.152Z"
   },
   {
    "duration": 10,
    "start_time": "2022-05-22T15:15:31.982Z"
   },
   {
    "duration": 27,
    "start_time": "2022-05-22T15:15:32.159Z"
   },
   {
    "duration": 23,
    "start_time": "2022-05-22T15:15:32.356Z"
   },
   {
    "duration": 162,
    "start_time": "2022-05-22T15:15:32.556Z"
   },
   {
    "duration": 283,
    "start_time": "2022-05-22T15:15:32.720Z"
   },
   {
    "duration": 29,
    "start_time": "2022-05-22T15:15:33.552Z"
   },
   {
    "duration": 26,
    "start_time": "2022-05-22T15:15:33.827Z"
   },
   {
    "duration": 36,
    "start_time": "2022-05-22T15:15:34.057Z"
   },
   {
    "duration": 1365,
    "start_time": "2022-05-23T18:02:02.910Z"
   },
   {
    "duration": 1034,
    "start_time": "2022-05-23T18:02:04.277Z"
   },
   {
    "duration": 0,
    "start_time": "2022-05-23T18:02:05.317Z"
   },
   {
    "duration": 0,
    "start_time": "2022-05-23T18:02:05.318Z"
   },
   {
    "duration": 0,
    "start_time": "2022-05-23T18:02:05.319Z"
   },
   {
    "duration": 0,
    "start_time": "2022-05-23T18:02:05.321Z"
   },
   {
    "duration": 0,
    "start_time": "2022-05-23T18:02:05.322Z"
   },
   {
    "duration": 0,
    "start_time": "2022-05-23T18:02:05.323Z"
   },
   {
    "duration": 0,
    "start_time": "2022-05-23T18:02:05.325Z"
   },
   {
    "duration": 0,
    "start_time": "2022-05-23T18:02:05.326Z"
   },
   {
    "duration": 1,
    "start_time": "2022-05-23T18:02:05.327Z"
   },
   {
    "duration": 0,
    "start_time": "2022-05-23T18:02:05.329Z"
   },
   {
    "duration": 0,
    "start_time": "2022-05-23T18:02:05.330Z"
   },
   {
    "duration": 0,
    "start_time": "2022-05-23T18:02:05.331Z"
   },
   {
    "duration": 0,
    "start_time": "2022-05-23T18:02:05.333Z"
   },
   {
    "duration": 0,
    "start_time": "2022-05-23T18:02:05.334Z"
   },
   {
    "duration": 0,
    "start_time": "2022-05-23T18:02:05.335Z"
   },
   {
    "duration": 0,
    "start_time": "2022-05-23T18:02:05.336Z"
   },
   {
    "duration": 0,
    "start_time": "2022-05-23T18:02:05.337Z"
   },
   {
    "duration": 0,
    "start_time": "2022-05-23T18:02:05.338Z"
   },
   {
    "duration": 0,
    "start_time": "2022-05-23T18:02:05.339Z"
   },
   {
    "duration": 0,
    "start_time": "2022-05-23T18:02:05.340Z"
   },
   {
    "duration": 0,
    "start_time": "2022-05-23T18:02:05.342Z"
   },
   {
    "duration": 0,
    "start_time": "2022-05-23T18:02:05.343Z"
   },
   {
    "duration": 0,
    "start_time": "2022-05-23T18:02:05.344Z"
   },
   {
    "duration": 0,
    "start_time": "2022-05-23T18:02:05.346Z"
   },
   {
    "duration": 0,
    "start_time": "2022-05-23T18:02:05.347Z"
   },
   {
    "duration": 0,
    "start_time": "2022-05-23T18:02:05.348Z"
   },
   {
    "duration": 0,
    "start_time": "2022-05-23T18:02:05.349Z"
   },
   {
    "duration": 0,
    "start_time": "2022-05-23T18:02:05.350Z"
   },
   {
    "duration": 0,
    "start_time": "2022-05-23T18:02:05.351Z"
   },
   {
    "duration": 0,
    "start_time": "2022-05-23T18:02:05.352Z"
   },
   {
    "duration": 0,
    "start_time": "2022-05-23T18:02:05.397Z"
   },
   {
    "duration": 0,
    "start_time": "2022-05-23T18:02:05.398Z"
   },
   {
    "duration": 0,
    "start_time": "2022-05-23T18:02:05.398Z"
   },
   {
    "duration": 0,
    "start_time": "2022-05-23T18:02:05.399Z"
   },
   {
    "duration": 0,
    "start_time": "2022-05-23T18:02:05.400Z"
   },
   {
    "duration": 0,
    "start_time": "2022-05-23T18:02:05.401Z"
   },
   {
    "duration": 0,
    "start_time": "2022-05-23T18:02:05.402Z"
   },
   {
    "duration": 0,
    "start_time": "2022-05-23T18:02:05.403Z"
   },
   {
    "duration": 0,
    "start_time": "2022-05-23T18:02:05.404Z"
   },
   {
    "duration": 600,
    "start_time": "2022-05-23T18:04:12.689Z"
   },
   {
    "duration": 621,
    "start_time": "2022-05-23T18:05:18.121Z"
   },
   {
    "duration": 56,
    "start_time": "2022-05-23T18:05:58.496Z"
   },
   {
    "duration": 1549,
    "start_time": "2022-05-23T18:21:21.329Z"
   },
   {
    "duration": 781,
    "start_time": "2022-05-23T18:21:22.884Z"
   },
   {
    "duration": 0,
    "start_time": "2022-05-23T18:21:23.669Z"
   },
   {
    "duration": 0,
    "start_time": "2022-05-23T18:21:23.671Z"
   },
   {
    "duration": 0,
    "start_time": "2022-05-23T18:21:23.673Z"
   },
   {
    "duration": 0,
    "start_time": "2022-05-23T18:21:23.674Z"
   },
   {
    "duration": 0,
    "start_time": "2022-05-23T18:21:23.676Z"
   },
   {
    "duration": 0,
    "start_time": "2022-05-23T18:21:23.677Z"
   },
   {
    "duration": 0,
    "start_time": "2022-05-23T18:21:23.694Z"
   },
   {
    "duration": 0,
    "start_time": "2022-05-23T18:21:23.697Z"
   },
   {
    "duration": 0,
    "start_time": "2022-05-23T18:21:23.698Z"
   },
   {
    "duration": 1,
    "start_time": "2022-05-23T18:21:23.699Z"
   },
   {
    "duration": 0,
    "start_time": "2022-05-23T18:21:23.700Z"
   },
   {
    "duration": 0,
    "start_time": "2022-05-23T18:21:23.702Z"
   },
   {
    "duration": 0,
    "start_time": "2022-05-23T18:21:23.703Z"
   },
   {
    "duration": 0,
    "start_time": "2022-05-23T18:21:23.704Z"
   },
   {
    "duration": 0,
    "start_time": "2022-05-23T18:21:23.705Z"
   },
   {
    "duration": 0,
    "start_time": "2022-05-23T18:21:23.706Z"
   },
   {
    "duration": 0,
    "start_time": "2022-05-23T18:21:23.707Z"
   },
   {
    "duration": 0,
    "start_time": "2022-05-23T18:21:23.708Z"
   },
   {
    "duration": 0,
    "start_time": "2022-05-23T18:21:23.709Z"
   },
   {
    "duration": 0,
    "start_time": "2022-05-23T18:21:23.710Z"
   },
   {
    "duration": 0,
    "start_time": "2022-05-23T18:21:23.711Z"
   },
   {
    "duration": 0,
    "start_time": "2022-05-23T18:21:23.712Z"
   },
   {
    "duration": 0,
    "start_time": "2022-05-23T18:21:23.714Z"
   },
   {
    "duration": 0,
    "start_time": "2022-05-23T18:21:23.716Z"
   },
   {
    "duration": 0,
    "start_time": "2022-05-23T18:21:23.717Z"
   },
   {
    "duration": 0,
    "start_time": "2022-05-23T18:21:23.718Z"
   },
   {
    "duration": 0,
    "start_time": "2022-05-23T18:21:23.719Z"
   },
   {
    "duration": 0,
    "start_time": "2022-05-23T18:21:23.720Z"
   },
   {
    "duration": 0,
    "start_time": "2022-05-23T18:21:23.721Z"
   },
   {
    "duration": 0,
    "start_time": "2022-05-23T18:21:23.722Z"
   },
   {
    "duration": 0,
    "start_time": "2022-05-23T18:21:23.723Z"
   },
   {
    "duration": 0,
    "start_time": "2022-05-23T18:21:23.724Z"
   },
   {
    "duration": 0,
    "start_time": "2022-05-23T18:21:23.726Z"
   },
   {
    "duration": 0,
    "start_time": "2022-05-23T18:21:23.727Z"
   },
   {
    "duration": 0,
    "start_time": "2022-05-23T18:21:23.729Z"
   },
   {
    "duration": 0,
    "start_time": "2022-05-23T18:21:23.730Z"
   },
   {
    "duration": 0,
    "start_time": "2022-05-23T18:21:23.732Z"
   },
   {
    "duration": 0,
    "start_time": "2022-05-23T18:21:23.734Z"
   },
   {
    "duration": 0,
    "start_time": "2022-05-23T18:21:23.735Z"
   },
   {
    "duration": 1595,
    "start_time": "2022-05-24T06:07:17.934Z"
   },
   {
    "duration": 1089,
    "start_time": "2022-05-24T06:07:33.123Z"
   },
   {
    "duration": 2,
    "start_time": "2022-05-24T06:24:33.986Z"
   },
   {
    "duration": 245,
    "start_time": "2022-05-24T06:25:28.750Z"
   },
   {
    "duration": 25,
    "start_time": "2022-05-24T06:26:19.706Z"
   },
   {
    "duration": 38,
    "start_time": "2022-05-24T06:29:14.327Z"
   },
   {
    "duration": 12,
    "start_time": "2022-05-24T06:29:39.923Z"
   },
   {
    "duration": 392,
    "start_time": "2022-05-24T06:30:27.263Z"
   },
   {
    "duration": 715,
    "start_time": "2022-05-24T06:34:36.772Z"
   },
   {
    "duration": 151,
    "start_time": "2022-05-24T06:34:46.782Z"
   },
   {
    "duration": 347,
    "start_time": "2022-05-24T06:34:48.151Z"
   },
   {
    "duration": 358,
    "start_time": "2022-05-24T06:34:48.581Z"
   },
   {
    "duration": 353,
    "start_time": "2022-05-24T06:34:48.971Z"
   },
   {
    "duration": 151,
    "start_time": "2022-05-24T06:34:49.351Z"
   },
   {
    "duration": 13,
    "start_time": "2022-05-24T06:34:50.191Z"
   },
   {
    "duration": 33,
    "start_time": "2022-05-24T06:34:50.584Z"
   },
   {
    "duration": 38,
    "start_time": "2022-05-24T06:34:50.991Z"
   },
   {
    "duration": 43,
    "start_time": "2022-05-24T06:34:51.372Z"
   },
   {
    "duration": 28,
    "start_time": "2022-05-24T06:34:51.547Z"
   },
   {
    "duration": 8,
    "start_time": "2022-05-24T06:34:51.962Z"
   },
   {
    "duration": 16,
    "start_time": "2022-05-24T06:34:52.383Z"
   },
   {
    "duration": 7,
    "start_time": "2022-05-24T06:34:52.792Z"
   },
   {
    "duration": 15,
    "start_time": "2022-05-24T06:34:52.990Z"
   },
   {
    "duration": 25,
    "start_time": "2022-05-24T06:34:53.423Z"
   },
   {
    "duration": 193,
    "start_time": "2022-05-24T06:34:53.596Z"
   },
   {
    "duration": 172,
    "start_time": "2022-05-24T06:34:53.792Z"
   },
   {
    "duration": 19,
    "start_time": "2022-05-24T06:34:54.611Z"
   },
   {
    "duration": 299,
    "start_time": "2022-05-24T06:34:54.804Z"
   },
   {
    "duration": 241,
    "start_time": "2022-05-24T06:34:55.105Z"
   },
   {
    "duration": 6,
    "start_time": "2022-05-24T06:34:55.711Z"
   },
   {
    "duration": 323,
    "start_time": "2022-05-24T06:34:55.883Z"
   },
   {
    "duration": 1003,
    "start_time": "2022-05-24T06:34:56.208Z"
   },
   {
    "duration": 7,
    "start_time": "2022-05-24T06:34:57.213Z"
   },
   {
    "duration": 10,
    "start_time": "2022-05-24T06:34:57.222Z"
   },
   {
    "duration": 937,
    "start_time": "2022-05-24T06:34:57.234Z"
   },
   {
    "duration": 18,
    "start_time": "2022-05-24T06:34:58.603Z"
   },
   {
    "duration": 8,
    "start_time": "2022-05-24T06:34:58.838Z"
   },
   {
    "duration": 21,
    "start_time": "2022-05-24T06:34:59.282Z"
   },
   {
    "duration": 29,
    "start_time": "2022-05-24T06:34:59.483Z"
   },
   {
    "duration": 24,
    "start_time": "2022-05-24T06:34:59.710Z"
   },
   {
    "duration": 8,
    "start_time": "2022-05-24T06:35:00.592Z"
   },
   {
    "duration": 22,
    "start_time": "2022-05-24T06:35:00.803Z"
   },
   {
    "duration": 21,
    "start_time": "2022-05-24T06:35:01.024Z"
   },
   {
    "duration": 239,
    "start_time": "2022-05-24T06:35:01.231Z"
   },
   {
    "duration": 301,
    "start_time": "2022-05-24T06:35:01.472Z"
   },
   {
    "duration": 32,
    "start_time": "2022-05-24T06:35:01.845Z"
   },
   {
    "duration": 22,
    "start_time": "2022-05-24T06:35:02.084Z"
   },
   {
    "duration": 35,
    "start_time": "2022-05-24T06:35:02.323Z"
   },
   {
    "duration": 3,
    "start_time": "2022-05-24T06:36:18.390Z"
   },
   {
    "duration": 2633,
    "start_time": "2022-05-24T06:46:18.410Z"
   },
   {
    "duration": 113,
    "start_time": "2022-05-24T06:46:26.231Z"
   },
   {
    "duration": 65,
    "start_time": "2022-05-24T06:46:28.382Z"
   },
   {
    "duration": 310,
    "start_time": "2022-05-24T06:46:29.111Z"
   },
   {
    "duration": 307,
    "start_time": "2022-05-24T06:46:30.398Z"
   },
   {
    "duration": 1363,
    "start_time": "2022-05-24T18:17:07.889Z"
   },
   {
    "duration": 2150,
    "start_time": "2022-05-24T18:17:09.254Z"
   },
   {
    "duration": 145,
    "start_time": "2022-05-24T18:17:11.406Z"
   },
   {
    "duration": 91,
    "start_time": "2022-05-24T18:17:11.553Z"
   },
   {
    "duration": 310,
    "start_time": "2022-05-24T18:17:11.646Z"
   },
   {
    "duration": 310,
    "start_time": "2022-05-24T18:17:11.958Z"
   },
   {
    "duration": 117,
    "start_time": "2022-05-24T18:17:12.270Z"
   },
   {
    "duration": 24,
    "start_time": "2022-05-24T18:17:12.389Z"
   },
   {
    "duration": 21,
    "start_time": "2022-05-24T18:17:12.414Z"
   },
   {
    "duration": 24,
    "start_time": "2022-05-24T18:17:12.439Z"
   },
   {
    "duration": 67,
    "start_time": "2022-05-24T18:17:12.465Z"
   },
   {
    "duration": 22,
    "start_time": "2022-05-24T18:17:12.534Z"
   },
   {
    "duration": 6,
    "start_time": "2022-05-24T18:17:12.558Z"
   },
   {
    "duration": 15,
    "start_time": "2022-05-24T18:17:12.565Z"
   },
   {
    "duration": 6,
    "start_time": "2022-05-24T18:17:12.581Z"
   },
   {
    "duration": 34,
    "start_time": "2022-05-24T18:17:12.588Z"
   },
   {
    "duration": 16,
    "start_time": "2022-05-24T18:17:12.624Z"
   },
   {
    "duration": 179,
    "start_time": "2022-05-24T18:17:12.641Z"
   },
   {
    "duration": 156,
    "start_time": "2022-05-24T18:17:12.822Z"
   },
   {
    "duration": 18,
    "start_time": "2022-05-24T18:17:12.979Z"
   },
   {
    "duration": 298,
    "start_time": "2022-05-24T18:17:12.999Z"
   },
   {
    "duration": 216,
    "start_time": "2022-05-24T18:17:13.298Z"
   },
   {
    "duration": 5,
    "start_time": "2022-05-24T18:17:13.516Z"
   },
   {
    "duration": 297,
    "start_time": "2022-05-24T18:17:13.523Z"
   },
   {
    "duration": 841,
    "start_time": "2022-05-24T18:17:13.822Z"
   },
   {
    "duration": 6,
    "start_time": "2022-05-24T18:17:14.665Z"
   },
   {
    "duration": 8,
    "start_time": "2022-05-24T18:17:14.672Z"
   },
   {
    "duration": 792,
    "start_time": "2022-05-24T18:17:14.683Z"
   },
   {
    "duration": 11,
    "start_time": "2022-05-24T18:17:15.477Z"
   },
   {
    "duration": 22,
    "start_time": "2022-05-24T18:17:15.490Z"
   },
   {
    "duration": 20,
    "start_time": "2022-05-24T18:17:15.514Z"
   },
   {
    "duration": 19,
    "start_time": "2022-05-24T18:17:15.535Z"
   },
   {
    "duration": 19,
    "start_time": "2022-05-24T18:17:15.556Z"
   },
   {
    "duration": 35,
    "start_time": "2022-05-24T18:17:15.577Z"
   },
   {
    "duration": 19,
    "start_time": "2022-05-24T18:17:15.614Z"
   },
   {
    "duration": 15,
    "start_time": "2022-05-24T18:17:15.635Z"
   },
   {
    "duration": 190,
    "start_time": "2022-05-24T18:17:15.651Z"
   },
   {
    "duration": 204,
    "start_time": "2022-05-24T18:17:15.843Z"
   },
   {
    "duration": 22,
    "start_time": "2022-05-24T18:17:16.049Z"
   },
   {
    "duration": 22,
    "start_time": "2022-05-24T18:17:16.073Z"
   },
   {
    "duration": 23,
    "start_time": "2022-05-24T18:17:16.112Z"
   },
   {
    "duration": 4,
    "start_time": "2022-05-24T19:00:27.091Z"
   },
   {
    "duration": 125,
    "start_time": "2022-05-24T19:01:27.216Z"
   },
   {
    "duration": 4,
    "start_time": "2022-05-24T19:01:35.393Z"
   },
   {
    "duration": 7,
    "start_time": "2022-05-24T19:02:12.794Z"
   },
   {
    "duration": 4,
    "start_time": "2022-05-24T19:02:14.924Z"
   },
   {
    "duration": 3,
    "start_time": "2022-05-24T19:02:37.819Z"
   },
   {
    "duration": 513,
    "start_time": "2022-05-24T19:02:37.825Z"
   },
   {
    "duration": 114,
    "start_time": "2022-05-24T19:02:38.340Z"
   },
   {
    "duration": 75,
    "start_time": "2022-05-24T19:02:38.456Z"
   },
   {
    "duration": 261,
    "start_time": "2022-05-24T19:02:38.533Z"
   },
   {
    "duration": 293,
    "start_time": "2022-05-24T19:02:38.796Z"
   },
   {
    "duration": 112,
    "start_time": "2022-05-24T19:02:39.091Z"
   },
   {
    "duration": 16,
    "start_time": "2022-05-24T19:02:39.205Z"
   },
   {
    "duration": 20,
    "start_time": "2022-05-24T19:02:39.223Z"
   },
   {
    "duration": 24,
    "start_time": "2022-05-24T19:02:39.245Z"
   },
   {
    "duration": 73,
    "start_time": "2022-05-24T19:02:39.271Z"
   },
   {
    "duration": 25,
    "start_time": "2022-05-24T19:02:39.345Z"
   },
   {
    "duration": 6,
    "start_time": "2022-05-24T19:02:39.371Z"
   },
   {
    "duration": 36,
    "start_time": "2022-05-24T19:02:39.378Z"
   },
   {
    "duration": 6,
    "start_time": "2022-05-24T19:02:46.405Z"
   },
   {
    "duration": 4,
    "start_time": "2022-05-24T19:02:49.243Z"
   },
   {
    "duration": 12,
    "start_time": "2022-05-24T19:09:42.376Z"
   },
   {
    "duration": 13,
    "start_time": "2022-05-24T19:43:29.398Z"
   },
   {
    "duration": 19,
    "start_time": "2022-05-24T19:43:35.365Z"
   },
   {
    "duration": 3,
    "start_time": "2022-05-24T19:43:45.470Z"
   },
   {
    "duration": 538,
    "start_time": "2022-05-24T19:43:45.475Z"
   },
   {
    "duration": 118,
    "start_time": "2022-05-24T19:43:46.014Z"
   },
   {
    "duration": 62,
    "start_time": "2022-05-24T19:43:46.134Z"
   },
   {
    "duration": 278,
    "start_time": "2022-05-24T19:43:46.211Z"
   },
   {
    "duration": 299,
    "start_time": "2022-05-24T19:43:46.490Z"
   },
   {
    "duration": 127,
    "start_time": "2022-05-24T19:43:46.791Z"
   },
   {
    "duration": 12,
    "start_time": "2022-05-24T19:43:46.919Z"
   },
   {
    "duration": 40,
    "start_time": "2022-05-24T19:43:46.934Z"
   },
   {
    "duration": 38,
    "start_time": "2022-05-24T19:43:46.976Z"
   },
   {
    "duration": 41,
    "start_time": "2022-05-24T19:43:47.016Z"
   },
   {
    "duration": 23,
    "start_time": "2022-05-24T19:43:47.059Z"
   },
   {
    "duration": 6,
    "start_time": "2022-05-24T19:43:47.084Z"
   },
   {
    "duration": 36,
    "start_time": "2022-05-24T19:43:47.091Z"
   },
   {
    "duration": 33,
    "start_time": "2022-05-24T19:43:47.128Z"
   },
   {
    "duration": 26,
    "start_time": "2022-05-24T19:43:47.162Z"
   },
   {
    "duration": 33,
    "start_time": "2022-05-24T19:43:47.190Z"
   },
   {
    "duration": 177,
    "start_time": "2022-05-24T19:43:47.225Z"
   },
   {
    "duration": 98,
    "start_time": "2022-05-24T19:43:47.403Z"
   },
   {
    "duration": 16,
    "start_time": "2022-05-24T19:43:50.092Z"
   },
   {
    "duration": 18,
    "start_time": "2022-05-24T19:44:17.937Z"
   },
   {
    "duration": 5,
    "start_time": "2022-05-24T19:50:21.615Z"
   },
   {
    "duration": 7,
    "start_time": "2022-05-24T20:33:27.312Z"
   },
   {
    "duration": 771,
    "start_time": "2022-05-24T20:33:29.605Z"
   },
   {
    "duration": 7,
    "start_time": "2022-05-24T20:41:01.243Z"
   },
   {
    "duration": 849,
    "start_time": "2022-05-24T20:41:03.668Z"
   },
   {
    "duration": 6,
    "start_time": "2022-05-24T20:42:54.164Z"
   },
   {
    "duration": 626,
    "start_time": "2022-05-24T20:42:56.326Z"
   },
   {
    "duration": 12,
    "start_time": "2022-05-24T21:06:15.653Z"
   },
   {
    "duration": 3,
    "start_time": "2022-05-24T21:06:24.950Z"
   },
   {
    "duration": 534,
    "start_time": "2022-05-24T21:06:24.955Z"
   },
   {
    "duration": 122,
    "start_time": "2022-05-24T21:06:25.490Z"
   },
   {
    "duration": 60,
    "start_time": "2022-05-24T21:06:25.613Z"
   },
   {
    "duration": 308,
    "start_time": "2022-05-24T21:06:25.675Z"
   },
   {
    "duration": 291,
    "start_time": "2022-05-24T21:06:25.985Z"
   },
   {
    "duration": 115,
    "start_time": "2022-05-24T21:06:26.278Z"
   },
   {
    "duration": 23,
    "start_time": "2022-05-24T21:06:26.394Z"
   },
   {
    "duration": 22,
    "start_time": "2022-05-24T21:06:26.419Z"
   },
   {
    "duration": 26,
    "start_time": "2022-05-24T21:06:26.442Z"
   },
   {
    "duration": 68,
    "start_time": "2022-05-24T21:06:26.470Z"
   },
   {
    "duration": 24,
    "start_time": "2022-05-24T21:06:26.540Z"
   },
   {
    "duration": 6,
    "start_time": "2022-05-24T21:06:26.566Z"
   },
   {
    "duration": 18,
    "start_time": "2022-05-24T21:06:26.574Z"
   },
   {
    "duration": 22,
    "start_time": "2022-05-24T21:06:26.594Z"
   },
   {
    "duration": 16,
    "start_time": "2022-05-24T21:06:26.618Z"
   },
   {
    "duration": 14,
    "start_time": "2022-05-24T21:06:28.786Z"
   },
   {
    "duration": 38,
    "start_time": "2022-05-24T21:06:47.971Z"
   },
   {
    "duration": 29,
    "start_time": "2022-05-24T21:07:37.183Z"
   },
   {
    "duration": 20,
    "start_time": "2022-05-24T21:07:54.922Z"
   },
   {
    "duration": 1194,
    "start_time": "2022-05-24T21:08:03.433Z"
   },
   {
    "duration": 558,
    "start_time": "2022-05-24T21:08:04.629Z"
   },
   {
    "duration": 124,
    "start_time": "2022-05-24T21:08:05.188Z"
   },
   {
    "duration": 77,
    "start_time": "2022-05-24T21:08:05.314Z"
   },
   {
    "duration": 319,
    "start_time": "2022-05-24T21:08:05.393Z"
   },
   {
    "duration": 301,
    "start_time": "2022-05-24T21:08:05.713Z"
   },
   {
    "duration": 127,
    "start_time": "2022-05-24T21:08:06.016Z"
   },
   {
    "duration": 12,
    "start_time": "2022-05-24T21:08:06.144Z"
   },
   {
    "duration": 21,
    "start_time": "2022-05-24T21:08:06.158Z"
   },
   {
    "duration": 45,
    "start_time": "2022-05-24T21:08:06.182Z"
   },
   {
    "duration": 37,
    "start_time": "2022-05-24T21:08:06.229Z"
   },
   {
    "duration": 45,
    "start_time": "2022-05-24T21:08:06.267Z"
   },
   {
    "duration": 7,
    "start_time": "2022-05-24T21:08:06.313Z"
   },
   {
    "duration": 15,
    "start_time": "2022-05-24T21:08:06.321Z"
   },
   {
    "duration": 6,
    "start_time": "2022-05-24T21:08:06.338Z"
   },
   {
    "duration": 13,
    "start_time": "2022-05-24T21:08:06.345Z"
   },
   {
    "duration": 11,
    "start_time": "2022-05-24T21:08:06.360Z"
   },
   {
    "duration": 202,
    "start_time": "2022-05-24T21:08:06.373Z"
   },
   {
    "duration": 447,
    "start_time": "2022-05-24T21:08:06.576Z"
   },
   {
    "duration": 35,
    "start_time": "2022-05-24T21:08:07.024Z"
   },
   {
    "duration": 394,
    "start_time": "2022-05-24T21:08:07.060Z"
   },
   {
    "duration": 297,
    "start_time": "2022-05-24T21:08:07.457Z"
   },
   {
    "duration": 6,
    "start_time": "2022-05-24T21:08:07.755Z"
   },
   {
    "duration": 335,
    "start_time": "2022-05-24T21:08:07.763Z"
   },
   {
    "duration": 964,
    "start_time": "2022-05-24T21:08:08.099Z"
   },
   {
    "duration": 6,
    "start_time": "2022-05-24T21:08:09.064Z"
   },
   {
    "duration": 10,
    "start_time": "2022-05-24T21:08:09.072Z"
   },
   {
    "duration": 723,
    "start_time": "2022-05-24T21:08:09.085Z"
   },
   {
    "duration": 11,
    "start_time": "2022-05-24T21:08:09.812Z"
   },
   {
    "duration": 8,
    "start_time": "2022-05-24T21:08:09.824Z"
   },
   {
    "duration": 29,
    "start_time": "2022-05-24T21:08:09.833Z"
   },
   {
    "duration": 50,
    "start_time": "2022-05-24T21:08:09.863Z"
   },
   {
    "duration": 31,
    "start_time": "2022-05-24T21:08:09.914Z"
   },
   {
    "duration": 8,
    "start_time": "2022-05-24T21:08:09.946Z"
   },
   {
    "duration": 20,
    "start_time": "2022-05-24T21:08:09.956Z"
   },
   {
    "duration": 43,
    "start_time": "2022-05-24T21:08:09.977Z"
   },
   {
    "duration": 197,
    "start_time": "2022-05-24T21:08:10.021Z"
   },
   {
    "duration": 287,
    "start_time": "2022-05-24T21:08:10.220Z"
   },
   {
    "duration": 24,
    "start_time": "2022-05-24T21:08:10.508Z"
   },
   {
    "duration": 22,
    "start_time": "2022-05-24T21:08:10.534Z"
   },
   {
    "duration": 22,
    "start_time": "2022-05-24T21:08:10.558Z"
   },
   {
    "duration": 1143,
    "start_time": "2022-05-24T21:10:57.329Z"
   },
   {
    "duration": 566,
    "start_time": "2022-05-24T21:10:58.474Z"
   },
   {
    "duration": 104,
    "start_time": "2022-05-24T21:10:59.041Z"
   },
   {
    "duration": 88,
    "start_time": "2022-05-24T21:10:59.147Z"
   },
   {
    "duration": 319,
    "start_time": "2022-05-24T21:10:59.237Z"
   },
   {
    "duration": 299,
    "start_time": "2022-05-24T21:10:59.558Z"
   },
   {
    "duration": 121,
    "start_time": "2022-05-24T21:10:59.859Z"
   },
   {
    "duration": 12,
    "start_time": "2022-05-24T21:10:59.982Z"
   },
   {
    "duration": 36,
    "start_time": "2022-05-24T21:10:59.995Z"
   },
   {
    "duration": 23,
    "start_time": "2022-05-24T21:11:00.034Z"
   },
   {
    "duration": 58,
    "start_time": "2022-05-24T21:11:00.059Z"
   },
   {
    "duration": 25,
    "start_time": "2022-05-24T21:11:00.119Z"
   },
   {
    "duration": 6,
    "start_time": "2022-05-24T21:11:00.145Z"
   },
   {
    "duration": 13,
    "start_time": "2022-05-24T21:11:00.153Z"
   },
   {
    "duration": 6,
    "start_time": "2022-05-24T21:11:00.168Z"
   },
   {
    "duration": 41,
    "start_time": "2022-05-24T21:11:00.175Z"
   },
   {
    "duration": 16,
    "start_time": "2022-05-24T21:11:00.217Z"
   },
   {
    "duration": 195,
    "start_time": "2022-05-24T21:11:00.235Z"
   },
   {
    "duration": 153,
    "start_time": "2022-05-24T21:11:00.431Z"
   },
   {
    "duration": 34,
    "start_time": "2022-05-24T21:11:00.585Z"
   },
   {
    "duration": 291,
    "start_time": "2022-05-24T21:11:00.621Z"
   },
   {
    "duration": 220,
    "start_time": "2022-05-24T21:11:00.913Z"
   },
   {
    "duration": 6,
    "start_time": "2022-05-24T21:11:01.135Z"
   },
   {
    "duration": 321,
    "start_time": "2022-05-24T21:11:01.143Z"
   },
   {
    "duration": 924,
    "start_time": "2022-05-24T21:11:01.466Z"
   },
   {
    "duration": 7,
    "start_time": "2022-05-24T21:11:02.392Z"
   },
   {
    "duration": 6,
    "start_time": "2022-05-24T21:11:02.412Z"
   },
   {
    "duration": 750,
    "start_time": "2022-05-24T21:11:02.420Z"
   },
   {
    "duration": 12,
    "start_time": "2022-05-24T21:11:03.172Z"
   },
   {
    "duration": 8,
    "start_time": "2022-05-24T21:11:03.185Z"
   },
   {
    "duration": 33,
    "start_time": "2022-05-24T21:11:03.195Z"
   },
   {
    "duration": 19,
    "start_time": "2022-05-24T21:11:03.229Z"
   },
   {
    "duration": 19,
    "start_time": "2022-05-24T21:11:03.249Z"
   },
   {
    "duration": 7,
    "start_time": "2022-05-24T21:11:03.269Z"
   },
   {
    "duration": 48,
    "start_time": "2022-05-24T21:11:03.277Z"
   },
   {
    "duration": 15,
    "start_time": "2022-05-24T21:11:03.327Z"
   },
   {
    "duration": 224,
    "start_time": "2022-05-24T21:11:03.344Z"
   },
   {
    "duration": 206,
    "start_time": "2022-05-24T21:11:03.570Z"
   },
   {
    "duration": 23,
    "start_time": "2022-05-24T21:11:03.778Z"
   },
   {
    "duration": 28,
    "start_time": "2022-05-24T21:11:03.802Z"
   },
   {
    "duration": 19,
    "start_time": "2022-05-24T21:11:03.832Z"
   },
   {
    "duration": 51,
    "start_time": "2022-05-24T21:13:18.958Z"
   },
   {
    "duration": 7,
    "start_time": "2022-05-24T21:13:33.870Z"
   },
   {
    "duration": 27,
    "start_time": "2022-05-24T21:13:36.513Z"
   },
   {
    "duration": 42,
    "start_time": "2022-05-24T21:14:22.256Z"
   },
   {
    "duration": 8,
    "start_time": "2022-05-24T21:14:28.761Z"
   },
   {
    "duration": 23,
    "start_time": "2022-05-24T21:14:32.083Z"
   },
   {
    "duration": 4,
    "start_time": "2022-05-24T21:15:41.264Z"
   },
   {
    "duration": 587,
    "start_time": "2022-05-24T21:15:41.269Z"
   },
   {
    "duration": 108,
    "start_time": "2022-05-24T21:15:41.857Z"
   },
   {
    "duration": 79,
    "start_time": "2022-05-24T21:15:41.967Z"
   },
   {
    "duration": 289,
    "start_time": "2022-05-24T21:15:42.048Z"
   },
   {
    "duration": 288,
    "start_time": "2022-05-24T21:15:42.338Z"
   },
   {
    "duration": 118,
    "start_time": "2022-05-24T21:15:42.627Z"
   },
   {
    "duration": 13,
    "start_time": "2022-05-24T21:15:42.746Z"
   },
   {
    "duration": 28,
    "start_time": "2022-05-24T21:15:42.762Z"
   },
   {
    "duration": 40,
    "start_time": "2022-05-24T21:15:42.792Z"
   },
   {
    "duration": 39,
    "start_time": "2022-05-24T21:15:42.834Z"
   },
   {
    "duration": 45,
    "start_time": "2022-05-24T21:15:42.874Z"
   },
   {
    "duration": 6,
    "start_time": "2022-05-24T21:15:42.920Z"
   },
   {
    "duration": 33,
    "start_time": "2022-05-24T21:15:42.927Z"
   },
   {
    "duration": 17,
    "start_time": "2022-05-24T21:15:42.962Z"
   },
   {
    "duration": 28,
    "start_time": "2022-05-24T21:15:42.980Z"
   },
   {
    "duration": 33,
    "start_time": "2022-05-24T21:15:43.009Z"
   },
   {
    "duration": 150,
    "start_time": "2022-05-24T21:15:43.043Z"
   },
   {
    "duration": 82,
    "start_time": "2022-05-24T21:15:43.194Z"
   },
   {
    "duration": 15,
    "start_time": "2022-05-24T21:15:43.278Z"
   },
   {
    "duration": 266,
    "start_time": "2022-05-24T21:15:43.312Z"
   },
   {
    "duration": 220,
    "start_time": "2022-05-24T21:15:43.580Z"
   },
   {
    "duration": 10,
    "start_time": "2022-05-24T21:15:43.802Z"
   },
   {
    "duration": 313,
    "start_time": "2022-05-24T21:15:43.815Z"
   },
   {
    "duration": 929,
    "start_time": "2022-05-24T21:15:44.130Z"
   },
   {
    "duration": 6,
    "start_time": "2022-05-24T21:15:45.061Z"
   },
   {
    "duration": 16,
    "start_time": "2022-05-24T21:15:45.068Z"
   },
   {
    "duration": 664,
    "start_time": "2022-05-24T21:15:45.086Z"
   },
   {
    "duration": 11,
    "start_time": "2022-05-24T21:15:45.752Z"
   },
   {
    "duration": 18,
    "start_time": "2022-05-24T21:15:45.765Z"
   },
   {
    "duration": 19,
    "start_time": "2022-05-24T21:15:50.394Z"
   },
   {
    "duration": 29,
    "start_time": "2022-05-24T21:15:59.898Z"
   },
   {
    "duration": 19,
    "start_time": "2022-05-24T21:16:02.372Z"
   },
   {
    "duration": 8,
    "start_time": "2022-05-24T21:16:36.903Z"
   },
   {
    "duration": 1170,
    "start_time": "2022-05-24T21:16:44.317Z"
   },
   {
    "duration": 575,
    "start_time": "2022-05-24T21:16:45.489Z"
   },
   {
    "duration": 106,
    "start_time": "2022-05-24T21:16:46.065Z"
   },
   {
    "duration": 96,
    "start_time": "2022-05-24T21:16:46.173Z"
   },
   {
    "duration": 336,
    "start_time": "2022-05-24T21:16:46.271Z"
   },
   {
    "duration": 298,
    "start_time": "2022-05-24T21:16:46.612Z"
   },
   {
    "duration": 138,
    "start_time": "2022-05-24T21:16:46.912Z"
   },
   {
    "duration": 13,
    "start_time": "2022-05-24T21:16:47.052Z"
   },
   {
    "duration": 19,
    "start_time": "2022-05-24T21:16:47.067Z"
   },
   {
    "duration": 46,
    "start_time": "2022-05-24T21:16:47.089Z"
   },
   {
    "duration": 45,
    "start_time": "2022-05-24T21:16:47.136Z"
   },
   {
    "duration": 45,
    "start_time": "2022-05-24T21:16:47.182Z"
   },
   {
    "duration": 8,
    "start_time": "2022-05-24T21:16:47.229Z"
   },
   {
    "duration": 19,
    "start_time": "2022-05-24T21:16:47.240Z"
   },
   {
    "duration": 12,
    "start_time": "2022-05-24T21:16:47.263Z"
   },
   {
    "duration": 15,
    "start_time": "2022-05-24T21:16:47.277Z"
   },
   {
    "duration": 32,
    "start_time": "2022-05-24T21:16:47.294Z"
   },
   {
    "duration": 192,
    "start_time": "2022-05-24T21:16:47.328Z"
   },
   {
    "duration": 151,
    "start_time": "2022-05-24T21:16:47.521Z"
   },
   {
    "duration": 17,
    "start_time": "2022-05-24T21:16:47.673Z"
   },
   {
    "duration": 294,
    "start_time": "2022-05-24T21:16:47.692Z"
   },
   {
    "duration": 214,
    "start_time": "2022-05-24T21:16:47.987Z"
   },
   {
    "duration": 9,
    "start_time": "2022-05-24T21:16:48.203Z"
   },
   {
    "duration": 299,
    "start_time": "2022-05-24T21:16:48.213Z"
   },
   {
    "duration": 830,
    "start_time": "2022-05-24T21:16:48.514Z"
   },
   {
    "duration": 6,
    "start_time": "2022-05-24T21:16:49.346Z"
   },
   {
    "duration": 10,
    "start_time": "2022-05-24T21:16:49.353Z"
   },
   {
    "duration": 731,
    "start_time": "2022-05-24T21:16:49.366Z"
   },
   {
    "duration": 15,
    "start_time": "2022-05-24T21:16:50.098Z"
   },
   {
    "duration": 8,
    "start_time": "2022-05-24T21:16:50.115Z"
   },
   {
    "duration": 25,
    "start_time": "2022-05-24T21:16:50.125Z"
   },
   {
    "duration": 22,
    "start_time": "2022-05-24T21:16:50.152Z"
   },
   {
    "duration": 41,
    "start_time": "2022-05-24T21:16:50.176Z"
   },
   {
    "duration": 6,
    "start_time": "2022-05-24T21:16:50.219Z"
   },
   {
    "duration": 17,
    "start_time": "2022-05-24T21:16:50.226Z"
   },
   {
    "duration": 14,
    "start_time": "2022-05-24T21:16:50.245Z"
   },
   {
    "duration": 217,
    "start_time": "2022-05-24T21:16:50.260Z"
   },
   {
    "duration": 199,
    "start_time": "2022-05-24T21:16:50.479Z"
   },
   {
    "duration": 20,
    "start_time": "2022-05-24T21:16:50.680Z"
   },
   {
    "duration": 27,
    "start_time": "2022-05-24T21:16:50.701Z"
   },
   {
    "duration": 19,
    "start_time": "2022-05-24T21:16:50.730Z"
   },
   {
    "duration": 68,
    "start_time": "2022-05-25T19:48:10.933Z"
   },
   {
    "duration": 1794,
    "start_time": "2022-05-25T19:48:15.651Z"
   },
   {
    "duration": 1123,
    "start_time": "2022-05-25T19:48:17.448Z"
   },
   {
    "duration": 123,
    "start_time": "2022-05-25T19:48:18.574Z"
   },
   {
    "duration": 106,
    "start_time": "2022-05-25T19:48:18.699Z"
   },
   {
    "duration": 412,
    "start_time": "2022-05-25T19:48:18.807Z"
   },
   {
    "duration": 569,
    "start_time": "2022-05-25T19:48:19.220Z"
   },
   {
    "duration": 285,
    "start_time": "2022-05-25T19:48:19.790Z"
   },
   {
    "duration": 12,
    "start_time": "2022-05-25T19:48:20.076Z"
   },
   {
    "duration": 25,
    "start_time": "2022-05-25T19:48:20.090Z"
   },
   {
    "duration": 67,
    "start_time": "2022-05-25T19:48:20.117Z"
   },
   {
    "duration": 34,
    "start_time": "2022-05-25T19:48:20.186Z"
   },
   {
    "duration": 7,
    "start_time": "2022-05-25T19:48:20.222Z"
   },
   {
    "duration": 9,
    "start_time": "2022-05-25T19:48:20.663Z"
   },
   {
    "duration": 93,
    "start_time": "2022-05-25T20:00:48.810Z"
   },
   {
    "duration": 3,
    "start_time": "2022-05-25T20:01:27.685Z"
   },
   {
    "duration": 584,
    "start_time": "2022-05-25T20:01:27.768Z"
   },
   {
    "duration": 140,
    "start_time": "2022-05-25T20:01:28.354Z"
   },
   {
    "duration": 83,
    "start_time": "2022-05-25T20:01:28.495Z"
   },
   {
    "duration": 334,
    "start_time": "2022-05-25T20:01:28.581Z"
   },
   {
    "duration": 377,
    "start_time": "2022-05-25T20:01:28.917Z"
   },
   {
    "duration": 134,
    "start_time": "2022-05-25T20:01:29.295Z"
   },
   {
    "duration": 13,
    "start_time": "2022-05-25T20:01:29.431Z"
   },
   {
    "duration": 40,
    "start_time": "2022-05-25T20:01:29.446Z"
   },
   {
    "duration": 26,
    "start_time": "2022-05-25T20:01:29.488Z"
   },
   {
    "duration": 57,
    "start_time": "2022-05-25T20:01:29.516Z"
   },
   {
    "duration": 20,
    "start_time": "2022-05-25T20:01:32.950Z"
   },
   {
    "duration": 13,
    "start_time": "2022-05-25T20:01:56.940Z"
   },
   {
    "duration": 15,
    "start_time": "2022-05-25T20:02:45.304Z"
   },
   {
    "duration": 41,
    "start_time": "2022-05-25T20:21:17.512Z"
   },
   {
    "duration": 10,
    "start_time": "2022-05-25T20:49:12.719Z"
   },
   {
    "duration": 20,
    "start_time": "2022-05-25T20:52:41.056Z"
   },
   {
    "duration": 26,
    "start_time": "2022-05-25T21:01:58.958Z"
   },
   {
    "duration": 6,
    "start_time": "2022-05-25T21:02:04.293Z"
   },
   {
    "duration": 14,
    "start_time": "2022-05-25T21:02:46.403Z"
   },
   {
    "duration": 27,
    "start_time": "2022-05-25T21:20:38.739Z"
   },
   {
    "duration": 19,
    "start_time": "2022-05-25T21:23:12.168Z"
   },
   {
    "duration": 8,
    "start_time": "2022-05-25T21:42:44.043Z"
   },
   {
    "duration": 35,
    "start_time": "2022-05-25T21:42:44.586Z"
   },
   {
    "duration": 3,
    "start_time": "2022-05-25T21:46:25.508Z"
   },
   {
    "duration": 562,
    "start_time": "2022-05-25T21:46:25.519Z"
   },
   {
    "duration": 114,
    "start_time": "2022-05-25T21:46:26.083Z"
   },
   {
    "duration": 84,
    "start_time": "2022-05-25T21:46:26.199Z"
   },
   {
    "duration": 288,
    "start_time": "2022-05-25T21:46:26.285Z"
   },
   {
    "duration": 307,
    "start_time": "2022-05-25T21:46:26.575Z"
   },
   {
    "duration": 120,
    "start_time": "2022-05-25T21:46:26.883Z"
   },
   {
    "duration": 13,
    "start_time": "2022-05-25T21:46:27.004Z"
   },
   {
    "duration": 26,
    "start_time": "2022-05-25T21:46:27.019Z"
   },
   {
    "duration": 25,
    "start_time": "2022-05-25T21:46:27.065Z"
   },
   {
    "duration": 33,
    "start_time": "2022-05-25T21:46:27.092Z"
   },
   {
    "duration": 13,
    "start_time": "2022-05-25T21:46:27.127Z"
   },
   {
    "duration": 34,
    "start_time": "2022-05-25T21:46:27.165Z"
   },
   {
    "duration": 6,
    "start_time": "2022-05-25T21:46:27.201Z"
   },
   {
    "duration": 23,
    "start_time": "2022-05-25T21:46:27.208Z"
   },
   {
    "duration": 11,
    "start_time": "2022-05-25T21:46:27.233Z"
   },
   {
    "duration": 33,
    "start_time": "2022-05-25T21:46:29.734Z"
   },
   {
    "duration": 7,
    "start_time": "2022-05-25T21:46:57.242Z"
   },
   {
    "duration": 21,
    "start_time": "2022-05-25T21:46:57.825Z"
   },
   {
    "duration": 25,
    "start_time": "2022-05-25T21:49:15.949Z"
   },
   {
    "duration": 28,
    "start_time": "2022-05-25T21:49:22.840Z"
   },
   {
    "duration": 32,
    "start_time": "2022-05-25T21:49:34.309Z"
   },
   {
    "duration": 24,
    "start_time": "2022-05-25T21:50:24.539Z"
   },
   {
    "duration": 30,
    "start_time": "2022-05-25T21:50:39.012Z"
   },
   {
    "duration": 151,
    "start_time": "2022-05-25T21:51:03.833Z"
   },
   {
    "duration": 444,
    "start_time": "2022-05-25T21:51:09.816Z"
   },
   {
    "duration": 32,
    "start_time": "2022-05-25T21:54:23.527Z"
   },
   {
    "duration": 14,
    "start_time": "2022-05-25T21:54:24.385Z"
   },
   {
    "duration": 28,
    "start_time": "2022-05-25T21:54:32.984Z"
   },
   {
    "duration": 6,
    "start_time": "2022-05-25T21:54:37.231Z"
   },
   {
    "duration": 11,
    "start_time": "2022-05-25T21:54:38.424Z"
   },
   {
    "duration": 7,
    "start_time": "2022-05-25T21:54:40.861Z"
   },
   {
    "duration": 18,
    "start_time": "2022-05-25T21:54:41.648Z"
   },
   {
    "duration": 31,
    "start_time": "2022-05-25T21:54:43.891Z"
   },
   {
    "duration": 162,
    "start_time": "2022-05-25T21:54:47.719Z"
   },
   {
    "duration": 494,
    "start_time": "2022-05-25T21:54:48.512Z"
   },
   {
    "duration": 17,
    "start_time": "2022-05-25T22:14:32.537Z"
   },
   {
    "duration": 3,
    "start_time": "2022-05-25T22:15:19.978Z"
   },
   {
    "duration": 11,
    "start_time": "2022-05-25T22:15:26.672Z"
   },
   {
    "duration": 32,
    "start_time": "2022-05-25T22:25:33.934Z"
   },
   {
    "duration": 452,
    "start_time": "2022-05-25T22:25:48.253Z"
   },
   {
    "duration": 118,
    "start_time": "2022-05-25T22:26:09.014Z"
   },
   {
    "duration": 588,
    "start_time": "2022-05-25T22:26:41.518Z"
   },
   {
    "duration": 1559,
    "start_time": "2022-05-25T22:27:15.200Z"
   },
   {
    "duration": 102,
    "start_time": "2022-05-25T22:29:30.389Z"
   },
   {
    "duration": 752,
    "start_time": "2022-05-25T22:29:51.052Z"
   },
   {
    "duration": 714,
    "start_time": "2022-05-25T22:30:13.496Z"
   },
   {
    "duration": 30,
    "start_time": "2022-05-25T22:34:09.216Z"
   },
   {
    "duration": 556,
    "start_time": "2022-05-25T22:34:17.135Z"
   },
   {
    "duration": 1347,
    "start_time": "2022-05-25T22:34:28.248Z"
   },
   {
    "duration": 13,
    "start_time": "2022-05-25T22:57:31.813Z"
   },
   {
    "duration": 18,
    "start_time": "2022-05-25T22:58:01.293Z"
   },
   {
    "duration": 381,
    "start_time": "2022-05-25T23:13:20.347Z"
   },
   {
    "duration": 625,
    "start_time": "2022-05-25T23:14:13.495Z"
   },
   {
    "duration": 14,
    "start_time": "2022-05-25T23:14:30.172Z"
   },
   {
    "duration": 399,
    "start_time": "2022-05-25T23:14:49.572Z"
   },
   {
    "duration": 452,
    "start_time": "2022-05-25T23:15:06.392Z"
   },
   {
    "duration": 29,
    "start_time": "2022-05-25T23:15:28.379Z"
   },
   {
    "duration": 435,
    "start_time": "2022-05-25T23:16:50.542Z"
   },
   {
    "duration": 28,
    "start_time": "2022-05-25T23:17:24.306Z"
   },
   {
    "duration": 14,
    "start_time": "2022-05-25T23:17:34.799Z"
   },
   {
    "duration": 16,
    "start_time": "2022-05-25T23:17:55.452Z"
   },
   {
    "duration": 22,
    "start_time": "2022-05-25T23:19:57.502Z"
   },
   {
    "duration": 23,
    "start_time": "2022-05-25T23:20:34.352Z"
   },
   {
    "duration": 18,
    "start_time": "2022-05-25T23:21:25.662Z"
   },
   {
    "duration": 23,
    "start_time": "2022-05-25T23:24:25.764Z"
   },
   {
    "duration": 26,
    "start_time": "2022-05-25T23:26:31.804Z"
   },
   {
    "duration": 22,
    "start_time": "2022-05-25T23:28:29.285Z"
   },
   {
    "duration": 17,
    "start_time": "2022-05-25T23:28:57.657Z"
   },
   {
    "duration": 17,
    "start_time": "2022-05-25T23:29:19.444Z"
   },
   {
    "duration": 29,
    "start_time": "2022-05-25T23:29:50.623Z"
   },
   {
    "duration": 18,
    "start_time": "2022-05-25T23:29:56.225Z"
   },
   {
    "duration": 39,
    "start_time": "2022-05-25T23:30:06.561Z"
   },
   {
    "duration": 19,
    "start_time": "2022-05-25T23:31:05.092Z"
   },
   {
    "duration": 18,
    "start_time": "2022-05-25T23:31:23.180Z"
   },
   {
    "duration": 127,
    "start_time": "2022-05-25T23:32:11.004Z"
   },
   {
    "duration": 23,
    "start_time": "2022-05-25T23:32:42.068Z"
   },
   {
    "duration": 22,
    "start_time": "2022-05-25T23:32:52.699Z"
   },
   {
    "duration": 26,
    "start_time": "2022-05-25T23:38:42.721Z"
   },
   {
    "duration": 27,
    "start_time": "2022-05-25T23:40:21.361Z"
   },
   {
    "duration": 28,
    "start_time": "2022-05-25T23:40:37.353Z"
   },
   {
    "duration": 17,
    "start_time": "2022-05-25T23:40:47.792Z"
   },
   {
    "duration": 26,
    "start_time": "2022-05-25T23:41:12.321Z"
   },
   {
    "duration": 603,
    "start_time": "2022-05-25T23:41:14.313Z"
   },
   {
    "duration": 4,
    "start_time": "2022-05-25T23:42:35.352Z"
   },
   {
    "duration": 565,
    "start_time": "2022-05-25T23:42:36.569Z"
   },
   {
    "duration": 115,
    "start_time": "2022-05-25T23:42:37.312Z"
   },
   {
    "duration": 107,
    "start_time": "2022-05-25T23:42:37.901Z"
   },
   {
    "duration": 70,
    "start_time": "2022-05-25T23:42:40.012Z"
   },
   {
    "duration": 294,
    "start_time": "2022-05-25T23:42:40.833Z"
   },
   {
    "duration": 323,
    "start_time": "2022-05-25T23:42:42.001Z"
   },
   {
    "duration": 126,
    "start_time": "2022-05-25T23:42:43.029Z"
   },
   {
    "duration": 13,
    "start_time": "2022-05-25T23:42:45.500Z"
   },
   {
    "duration": 23,
    "start_time": "2022-05-25T23:42:47.752Z"
   },
   {
    "duration": 26,
    "start_time": "2022-05-25T23:42:49.120Z"
   },
   {
    "duration": 33,
    "start_time": "2022-05-25T23:42:52.369Z"
   },
   {
    "duration": 14,
    "start_time": "2022-05-25T23:42:53.073Z"
   },
   {
    "duration": 29,
    "start_time": "2022-05-25T23:42:56.528Z"
   },
   {
    "duration": 9,
    "start_time": "2022-05-25T23:42:58.880Z"
   },
   {
    "duration": 12,
    "start_time": "2022-05-25T23:42:59.952Z"
   },
   {
    "duration": 7,
    "start_time": "2022-05-25T23:43:01.727Z"
   },
   {
    "duration": 20,
    "start_time": "2022-05-25T23:43:01.981Z"
   },
   {
    "duration": 33,
    "start_time": "2022-05-25T23:43:02.925Z"
   },
   {
    "duration": 193,
    "start_time": "2022-05-25T23:43:04.341Z"
   },
   {
    "duration": 480,
    "start_time": "2022-05-25T23:43:05.340Z"
   },
   {
    "duration": 33,
    "start_time": "2022-05-25T23:43:10.401Z"
   },
   {
    "duration": 355,
    "start_time": "2022-05-25T23:43:11.600Z"
   },
   {
    "duration": 270,
    "start_time": "2022-05-25T23:43:12.272Z"
   },
   {
    "duration": 7,
    "start_time": "2022-05-25T23:43:14.400Z"
   },
   {
    "duration": 313,
    "start_time": "2022-05-25T23:43:39.728Z"
   },
   {
    "duration": 999,
    "start_time": "2022-05-25T23:43:40.492Z"
   },
   {
    "duration": 11,
    "start_time": "2022-05-25T23:43:41.640Z"
   },
   {
    "duration": 23,
    "start_time": "2022-05-25T23:43:42.428Z"
   },
   {
    "duration": 1261,
    "start_time": "2022-05-25T23:43:43.120Z"
   },
   {
    "duration": 6,
    "start_time": "2022-05-25T23:43:49.141Z"
   },
   {
    "duration": 795,
    "start_time": "2022-05-25T23:43:50.052Z"
   },
   {
    "duration": 26,
    "start_time": "2022-05-25T23:43:52.060Z"
   },
   {
    "duration": 137,
    "start_time": "2022-05-25T23:43:53.012Z"
   },
   {
    "duration": 145,
    "start_time": "2022-05-25T23:49:20.868Z"
   },
   {
    "duration": 137,
    "start_time": "2022-05-25T23:49:55.318Z"
   },
   {
    "duration": 128,
    "start_time": "2022-05-25T23:50:48.509Z"
   },
   {
    "duration": 50,
    "start_time": "2022-05-25T23:50:57.789Z"
   },
   {
    "duration": 20,
    "start_time": "2022-05-25T23:51:06.300Z"
   },
   {
    "duration": 151,
    "start_time": "2022-05-25T23:51:17.717Z"
   },
   {
    "duration": 144,
    "start_time": "2022-05-25T23:51:31.549Z"
   },
   {
    "duration": 130,
    "start_time": "2022-05-25T23:51:48.908Z"
   },
   {
    "duration": 140,
    "start_time": "2022-05-25T23:51:55.657Z"
   },
   {
    "duration": 148,
    "start_time": "2022-05-25T23:52:20.609Z"
   },
   {
    "duration": 109,
    "start_time": "2022-05-26T00:03:19.741Z"
   },
   {
    "duration": 28,
    "start_time": "2022-05-26T00:06:23.190Z"
   },
   {
    "duration": 34,
    "start_time": "2022-05-26T00:07:16.726Z"
   },
   {
    "duration": 4,
    "start_time": "2022-05-26T00:09:32.560Z"
   },
   {
    "duration": 541,
    "start_time": "2022-05-26T00:09:32.569Z"
   },
   {
    "duration": 113,
    "start_time": "2022-05-26T00:09:33.112Z"
   },
   {
    "duration": 79,
    "start_time": "2022-05-26T00:09:33.227Z"
   },
   {
    "duration": 272,
    "start_time": "2022-05-26T00:09:33.308Z"
   },
   {
    "duration": 306,
    "start_time": "2022-05-26T00:09:33.582Z"
   },
   {
    "duration": 119,
    "start_time": "2022-05-26T00:09:33.890Z"
   },
   {
    "duration": 11,
    "start_time": "2022-05-26T00:09:34.011Z"
   },
   {
    "duration": 19,
    "start_time": "2022-05-26T00:09:34.023Z"
   },
   {
    "duration": 43,
    "start_time": "2022-05-26T00:09:34.043Z"
   },
   {
    "duration": 32,
    "start_time": "2022-05-26T00:09:34.087Z"
   },
   {
    "duration": 14,
    "start_time": "2022-05-26T00:09:34.120Z"
   },
   {
    "duration": 51,
    "start_time": "2022-05-26T00:09:34.135Z"
   },
   {
    "duration": 8,
    "start_time": "2022-05-26T00:09:34.188Z"
   },
   {
    "duration": 11,
    "start_time": "2022-05-26T00:09:34.200Z"
   },
   {
    "duration": 8,
    "start_time": "2022-05-26T00:09:34.214Z"
   },
   {
    "duration": 49,
    "start_time": "2022-05-26T00:09:34.223Z"
   },
   {
    "duration": 31,
    "start_time": "2022-05-26T00:09:34.274Z"
   },
   {
    "duration": 169,
    "start_time": "2022-05-26T00:09:34.307Z"
   },
   {
    "duration": 491,
    "start_time": "2022-05-26T00:09:34.478Z"
   },
   {
    "duration": 35,
    "start_time": "2022-05-26T00:09:34.971Z"
   },
   {
    "duration": 373,
    "start_time": "2022-05-26T00:09:35.008Z"
   },
   {
    "duration": 269,
    "start_time": "2022-05-26T00:09:35.383Z"
   },
   {
    "duration": 13,
    "start_time": "2022-05-26T00:09:35.653Z"
   },
   {
    "duration": 334,
    "start_time": "2022-05-26T00:09:35.667Z"
   },
   {
    "duration": 1024,
    "start_time": "2022-05-26T00:09:36.003Z"
   },
   {
    "duration": 11,
    "start_time": "2022-05-26T00:09:37.029Z"
   },
   {
    "duration": 26,
    "start_time": "2022-05-26T00:09:37.042Z"
   },
   {
    "duration": 0,
    "start_time": "2022-05-26T00:09:37.070Z"
   },
   {
    "duration": 0,
    "start_time": "2022-05-26T00:09:37.071Z"
   },
   {
    "duration": 0,
    "start_time": "2022-05-26T00:09:37.072Z"
   },
   {
    "duration": 0,
    "start_time": "2022-05-26T00:09:37.073Z"
   },
   {
    "duration": 0,
    "start_time": "2022-05-26T00:09:37.074Z"
   },
   {
    "duration": 0,
    "start_time": "2022-05-26T00:09:37.075Z"
   },
   {
    "duration": 0,
    "start_time": "2022-05-26T00:09:37.076Z"
   },
   {
    "duration": 0,
    "start_time": "2022-05-26T00:09:37.077Z"
   },
   {
    "duration": 0,
    "start_time": "2022-05-26T00:09:37.078Z"
   },
   {
    "duration": 0,
    "start_time": "2022-05-26T00:09:37.079Z"
   },
   {
    "duration": 0,
    "start_time": "2022-05-26T00:09:37.080Z"
   },
   {
    "duration": 0,
    "start_time": "2022-05-26T00:09:37.081Z"
   },
   {
    "duration": 0,
    "start_time": "2022-05-26T00:09:37.082Z"
   },
   {
    "duration": 0,
    "start_time": "2022-05-26T00:09:37.083Z"
   },
   {
    "duration": 0,
    "start_time": "2022-05-26T00:09:37.084Z"
   },
   {
    "duration": 0,
    "start_time": "2022-05-26T00:09:37.085Z"
   },
   {
    "duration": 0,
    "start_time": "2022-05-26T00:09:37.086Z"
   },
   {
    "duration": 0,
    "start_time": "2022-05-26T00:09:37.087Z"
   },
   {
    "duration": 55,
    "start_time": "2022-05-26T00:10:18.669Z"
   },
   {
    "duration": 32,
    "start_time": "2022-05-26T00:10:41.829Z"
   },
   {
    "duration": 143,
    "start_time": "2022-05-26T00:10:58.860Z"
   },
   {
    "duration": 139,
    "start_time": "2022-05-26T00:11:15.018Z"
   },
   {
    "duration": 3,
    "start_time": "2022-05-26T00:11:23.850Z"
   },
   {
    "duration": 531,
    "start_time": "2022-05-26T00:11:24.558Z"
   },
   {
    "duration": 110,
    "start_time": "2022-05-26T00:11:25.370Z"
   },
   {
    "duration": 60,
    "start_time": "2022-05-26T00:11:27.278Z"
   },
   {
    "duration": 271,
    "start_time": "2022-05-26T00:11:27.490Z"
   },
   {
    "duration": 296,
    "start_time": "2022-05-26T00:11:28.032Z"
   },
   {
    "duration": 115,
    "start_time": "2022-05-26T00:11:28.578Z"
   },
   {
    "duration": 12,
    "start_time": "2022-05-26T00:11:29.850Z"
   },
   {
    "duration": 23,
    "start_time": "2022-05-26T00:11:30.818Z"
   },
   {
    "duration": 28,
    "start_time": "2022-05-26T00:11:31.417Z"
   },
   {
    "duration": 34,
    "start_time": "2022-05-26T00:11:33.386Z"
   },
   {
    "duration": 13,
    "start_time": "2022-05-26T00:11:33.890Z"
   },
   {
    "duration": 28,
    "start_time": "2022-05-26T00:11:36.171Z"
   },
   {
    "duration": 7,
    "start_time": "2022-05-26T00:11:37.811Z"
   },
   {
    "duration": 11,
    "start_time": "2022-05-26T00:11:38.930Z"
   },
   {
    "duration": 8,
    "start_time": "2022-05-26T00:11:43.218Z"
   },
   {
    "duration": 20,
    "start_time": "2022-05-26T00:11:43.818Z"
   },
   {
    "duration": 31,
    "start_time": "2022-05-26T00:11:45.450Z"
   },
   {
    "duration": 144,
    "start_time": "2022-05-26T00:11:47.099Z"
   },
   {
    "duration": 377,
    "start_time": "2022-05-26T00:11:47.457Z"
   },
   {
    "duration": 35,
    "start_time": "2022-05-26T00:11:50.258Z"
   },
   {
    "duration": 454,
    "start_time": "2022-05-26T00:11:50.770Z"
   },
   {
    "duration": 268,
    "start_time": "2022-05-26T00:11:51.276Z"
   },
   {
    "duration": 6,
    "start_time": "2022-05-26T00:11:53.438Z"
   },
   {
    "duration": 311,
    "start_time": "2022-05-26T00:11:53.930Z"
   },
   {
    "duration": 918,
    "start_time": "2022-05-26T00:11:54.449Z"
   },
   {
    "duration": 11,
    "start_time": "2022-05-26T00:11:55.369Z"
   },
   {
    "duration": 15,
    "start_time": "2022-05-26T00:11:55.539Z"
   },
   {
    "duration": 1459,
    "start_time": "2022-05-26T00:11:56.245Z"
   },
   {
    "duration": 769,
    "start_time": "2022-05-26T00:12:55.436Z"
   },
   {
    "duration": 1439,
    "start_time": "2022-05-26T00:13:01.798Z"
   },
   {
    "duration": 7,
    "start_time": "2022-05-26T00:13:06.449Z"
   },
   {
    "duration": 715,
    "start_time": "2022-05-26T00:13:08.222Z"
   },
   {
    "duration": 33,
    "start_time": "2022-05-26T00:13:10.936Z"
   },
   {
    "duration": 142,
    "start_time": "2022-05-26T00:13:12.261Z"
   },
   {
    "duration": 127,
    "start_time": "2022-05-26T00:13:57.738Z"
   },
   {
    "duration": 4,
    "start_time": "2022-05-26T00:15:00.989Z"
   },
   {
    "duration": 565,
    "start_time": "2022-05-26T00:15:01.710Z"
   },
   {
    "duration": 113,
    "start_time": "2022-05-26T00:15:02.781Z"
   },
   {
    "duration": 62,
    "start_time": "2022-05-26T00:15:05.649Z"
   },
   {
    "duration": 277,
    "start_time": "2022-05-26T00:15:06.781Z"
   },
   {
    "duration": 286,
    "start_time": "2022-05-26T00:15:07.889Z"
   },
   {
    "duration": 118,
    "start_time": "2022-05-26T00:15:08.489Z"
   },
   {
    "duration": 12,
    "start_time": "2022-05-26T00:15:09.529Z"
   },
   {
    "duration": 22,
    "start_time": "2022-05-26T00:15:10.182Z"
   },
   {
    "duration": 26,
    "start_time": "2022-05-26T00:15:10.626Z"
   },
   {
    "duration": 33,
    "start_time": "2022-05-26T00:15:11.829Z"
   },
   {
    "duration": 15,
    "start_time": "2022-05-26T00:15:12.022Z"
   },
   {
    "duration": 29,
    "start_time": "2022-05-26T00:15:13.102Z"
   },
   {
    "duration": 7,
    "start_time": "2022-05-26T00:15:14.270Z"
   },
   {
    "duration": 12,
    "start_time": "2022-05-26T00:15:15.300Z"
   },
   {
    "duration": 8,
    "start_time": "2022-05-26T00:15:16.249Z"
   },
   {
    "duration": 22,
    "start_time": "2022-05-26T00:15:16.510Z"
   },
   {
    "duration": 34,
    "start_time": "2022-05-26T00:15:17.022Z"
   },
   {
    "duration": 163,
    "start_time": "2022-05-26T00:15:18.361Z"
   },
   {
    "duration": 501,
    "start_time": "2022-05-26T00:15:20.009Z"
   },
   {
    "duration": 33,
    "start_time": "2022-05-26T00:15:25.130Z"
   },
   {
    "duration": 360,
    "start_time": "2022-05-26T00:15:25.801Z"
   },
   {
    "duration": 277,
    "start_time": "2022-05-26T00:15:26.441Z"
   },
   {
    "duration": 7,
    "start_time": "2022-05-26T00:15:28.791Z"
   },
   {
    "duration": 332,
    "start_time": "2022-05-26T00:15:29.693Z"
   },
   {
    "duration": 1024,
    "start_time": "2022-05-26T00:15:41.781Z"
   },
   {
    "duration": 12,
    "start_time": "2022-05-26T00:15:42.807Z"
   },
   {
    "duration": 770,
    "start_time": "2022-05-26T00:15:42.839Z"
   },
   {
    "duration": 1425,
    "start_time": "2022-05-26T00:15:43.666Z"
   },
   {
    "duration": 7,
    "start_time": "2022-05-26T00:15:48.649Z"
   },
   {
    "duration": 687,
    "start_time": "2022-05-26T00:15:49.381Z"
   },
   {
    "duration": 33,
    "start_time": "2022-05-26T00:15:52.889Z"
   },
   {
    "duration": 127,
    "start_time": "2022-05-26T00:15:54.581Z"
   },
   {
    "duration": 1100,
    "start_time": "2022-05-26T00:18:59.621Z"
   },
   {
    "duration": 610,
    "start_time": "2022-05-26T00:19:00.723Z"
   },
   {
    "duration": 113,
    "start_time": "2022-05-26T00:19:01.335Z"
   },
   {
    "duration": 77,
    "start_time": "2022-05-26T00:19:01.450Z"
   },
   {
    "duration": 312,
    "start_time": "2022-05-26T00:19:01.529Z"
   },
   {
    "duration": 318,
    "start_time": "2022-05-26T00:19:01.843Z"
   },
   {
    "duration": 125,
    "start_time": "2022-05-26T00:19:02.162Z"
   },
   {
    "duration": 11,
    "start_time": "2022-05-26T00:19:02.289Z"
   },
   {
    "duration": 39,
    "start_time": "2022-05-26T00:19:02.301Z"
   },
   {
    "duration": 30,
    "start_time": "2022-05-26T00:19:02.343Z"
   },
   {
    "duration": 31,
    "start_time": "2022-05-26T00:19:02.375Z"
   },
   {
    "duration": 12,
    "start_time": "2022-05-26T00:19:02.408Z"
   },
   {
    "duration": 46,
    "start_time": "2022-05-26T00:19:02.422Z"
   },
   {
    "duration": 6,
    "start_time": "2022-05-26T00:19:02.470Z"
   },
   {
    "duration": 17,
    "start_time": "2022-05-26T00:19:02.478Z"
   },
   {
    "duration": 5,
    "start_time": "2022-05-26T00:19:02.497Z"
   },
   {
    "duration": 16,
    "start_time": "2022-05-26T00:19:02.504Z"
   },
   {
    "duration": 56,
    "start_time": "2022-05-26T00:19:02.522Z"
   },
   {
    "duration": 190,
    "start_time": "2022-05-26T00:19:02.580Z"
   },
   {
    "duration": 449,
    "start_time": "2022-05-26T00:19:02.772Z"
   },
   {
    "duration": 41,
    "start_time": "2022-05-26T00:19:03.223Z"
   },
   {
    "duration": 386,
    "start_time": "2022-05-26T00:19:03.266Z"
   },
   {
    "duration": 283,
    "start_time": "2022-05-26T00:19:03.654Z"
   },
   {
    "duration": 7,
    "start_time": "2022-05-26T00:19:03.939Z"
   },
   {
    "duration": 409,
    "start_time": "2022-05-26T00:19:03.948Z"
   },
   {
    "duration": 907,
    "start_time": "2022-05-26T00:19:04.359Z"
   },
   {
    "duration": 11,
    "start_time": "2022-05-26T00:19:05.268Z"
   },
   {
    "duration": 823,
    "start_time": "2022-05-26T00:19:05.283Z"
   },
   {
    "duration": 1384,
    "start_time": "2022-05-26T00:19:06.107Z"
   },
   {
    "duration": 6,
    "start_time": "2022-05-26T00:19:07.493Z"
   },
   {
    "duration": 689,
    "start_time": "2022-05-26T00:19:07.500Z"
   },
   {
    "duration": 32,
    "start_time": "2022-05-26T00:19:08.191Z"
   },
   {
    "duration": 293,
    "start_time": "2022-05-26T00:19:08.224Z"
   },
   {
    "duration": 48,
    "start_time": "2022-05-26T00:19:08.518Z"
   },
   {
    "duration": 8,
    "start_time": "2022-05-26T00:19:08.568Z"
   },
   {
    "duration": 29,
    "start_time": "2022-05-26T00:19:08.577Z"
   },
   {
    "duration": 22,
    "start_time": "2022-05-26T00:19:08.608Z"
   },
   {
    "duration": 46,
    "start_time": "2022-05-26T00:19:08.632Z"
   },
   {
    "duration": 7,
    "start_time": "2022-05-26T00:19:08.680Z"
   },
   {
    "duration": 118,
    "start_time": "2022-05-26T00:19:08.688Z"
   },
   {
    "duration": 0,
    "start_time": "2022-05-26T00:19:08.807Z"
   },
   {
    "duration": 0,
    "start_time": "2022-05-26T00:19:08.808Z"
   },
   {
    "duration": 0,
    "start_time": "2022-05-26T00:19:08.809Z"
   },
   {
    "duration": 0,
    "start_time": "2022-05-26T00:19:08.810Z"
   },
   {
    "duration": 0,
    "start_time": "2022-05-26T00:19:08.811Z"
   },
   {
    "duration": 0,
    "start_time": "2022-05-26T00:19:08.812Z"
   },
   {
    "duration": 12,
    "start_time": "2022-05-26T00:22:22.288Z"
   },
   {
    "duration": 34,
    "start_time": "2022-05-26T00:22:44.687Z"
   },
   {
    "duration": 29,
    "start_time": "2022-05-26T00:23:23.348Z"
   },
   {
    "duration": 28,
    "start_time": "2022-05-26T00:24:07.848Z"
   },
   {
    "duration": 33,
    "start_time": "2022-05-26T00:24:34.148Z"
   },
   {
    "duration": 37,
    "start_time": "2022-05-26T00:25:12.887Z"
   },
   {
    "duration": 10,
    "start_time": "2022-05-26T00:25:51.209Z"
   },
   {
    "duration": 9,
    "start_time": "2022-05-26T00:25:57.161Z"
   },
   {
    "duration": 30,
    "start_time": "2022-05-26T00:27:08.663Z"
   },
   {
    "duration": 32,
    "start_time": "2022-05-26T00:29:05.352Z"
   },
   {
    "duration": 9,
    "start_time": "2022-05-26T00:29:06.504Z"
   },
   {
    "duration": 888,
    "start_time": "2022-05-26T00:31:16.612Z"
   },
   {
    "duration": 460,
    "start_time": "2022-05-26T00:32:06.871Z"
   },
   {
    "duration": 33,
    "start_time": "2022-05-26T00:32:27.345Z"
   },
   {
    "duration": 1379,
    "start_time": "2022-05-26T06:41:42.391Z"
   },
   {
    "duration": 2038,
    "start_time": "2022-05-26T06:41:43.772Z"
   },
   {
    "duration": 158,
    "start_time": "2022-05-26T06:41:45.812Z"
   },
   {
    "duration": 105,
    "start_time": "2022-05-26T06:41:45.972Z"
   },
   {
    "duration": 397,
    "start_time": "2022-05-26T06:41:46.080Z"
   },
   {
    "duration": 400,
    "start_time": "2022-05-26T06:41:46.479Z"
   },
   {
    "duration": 157,
    "start_time": "2022-05-26T06:41:46.881Z"
   },
   {
    "duration": 24,
    "start_time": "2022-05-26T06:41:47.040Z"
   },
   {
    "duration": 45,
    "start_time": "2022-05-26T06:41:47.065Z"
   },
   {
    "duration": 31,
    "start_time": "2022-05-26T06:41:47.112Z"
   },
   {
    "duration": 51,
    "start_time": "2022-05-26T06:41:47.145Z"
   },
   {
    "duration": 13,
    "start_time": "2022-05-26T06:41:47.199Z"
   },
   {
    "duration": 56,
    "start_time": "2022-05-26T06:41:47.214Z"
   },
   {
    "duration": 42,
    "start_time": "2022-05-26T06:41:47.273Z"
   },
   {
    "duration": 50,
    "start_time": "2022-05-26T06:41:47.317Z"
   },
   {
    "duration": 59,
    "start_time": "2022-05-26T06:41:47.368Z"
   },
   {
    "duration": 73,
    "start_time": "2022-05-26T06:41:47.429Z"
   },
   {
    "duration": 69,
    "start_time": "2022-05-26T06:41:47.504Z"
   },
   {
    "duration": 207,
    "start_time": "2022-05-26T06:41:47.575Z"
   },
   {
    "duration": 524,
    "start_time": "2022-05-26T06:41:47.784Z"
   },
   {
    "duration": 51,
    "start_time": "2022-05-26T06:41:48.310Z"
   },
   {
    "duration": 401,
    "start_time": "2022-05-26T06:41:48.363Z"
   },
   {
    "duration": 284,
    "start_time": "2022-05-26T06:41:48.766Z"
   },
   {
    "duration": 6,
    "start_time": "2022-05-26T06:41:49.059Z"
   },
   {
    "duration": 455,
    "start_time": "2022-05-26T06:41:49.066Z"
   },
   {
    "duration": 944,
    "start_time": "2022-05-26T06:41:49.523Z"
   },
   {
    "duration": 12,
    "start_time": "2022-05-26T06:41:50.469Z"
   },
   {
    "duration": 974,
    "start_time": "2022-05-26T06:41:50.482Z"
   },
   {
    "duration": 1480,
    "start_time": "2022-05-26T06:41:51.460Z"
   },
   {
    "duration": 7,
    "start_time": "2022-05-26T06:41:52.942Z"
   },
   {
    "duration": 781,
    "start_time": "2022-05-26T06:41:52.951Z"
   },
   {
    "duration": 40,
    "start_time": "2022-05-26T06:41:53.733Z"
   },
   {
    "duration": 140,
    "start_time": "2022-05-26T06:41:53.775Z"
   },
   {
    "duration": 66,
    "start_time": "2022-05-26T06:41:53.917Z"
   },
   {
    "duration": 14,
    "start_time": "2022-05-26T06:41:53.984Z"
   },
   {
    "duration": 68,
    "start_time": "2022-05-26T06:41:54.000Z"
   },
   {
    "duration": 60,
    "start_time": "2022-05-26T06:41:54.070Z"
   },
   {
    "duration": 52,
    "start_time": "2022-05-26T06:41:54.131Z"
   },
   {
    "duration": 26,
    "start_time": "2022-05-26T06:41:54.185Z"
   },
   {
    "duration": 13,
    "start_time": "2022-05-26T06:56:07.040Z"
   },
   {
    "duration": 28,
    "start_time": "2022-05-26T07:08:09.509Z"
   },
   {
    "duration": 67,
    "start_time": "2022-05-26T07:13:20.220Z"
   },
   {
    "duration": 27,
    "start_time": "2022-05-26T07:13:27.117Z"
   },
   {
    "duration": 131,
    "start_time": "2022-05-26T07:14:50.189Z"
   },
   {
    "duration": 12,
    "start_time": "2022-05-26T07:16:06.103Z"
   },
   {
    "duration": 47,
    "start_time": "2022-05-26T07:17:04.749Z"
   },
   {
    "duration": 47,
    "start_time": "2022-05-26T07:24:45.990Z"
   },
   {
    "duration": 27,
    "start_time": "2022-05-26T07:26:02.453Z"
   },
   {
    "duration": 33,
    "start_time": "2022-05-26T07:30:07.650Z"
   },
   {
    "duration": 10,
    "start_time": "2022-05-26T07:30:39.610Z"
   },
   {
    "duration": 32,
    "start_time": "2022-05-26T07:30:51.444Z"
   },
   {
    "duration": 11,
    "start_time": "2022-05-26T07:35:24.890Z"
   },
   {
    "duration": 11,
    "start_time": "2022-05-26T07:35:27.851Z"
   },
   {
    "duration": 3,
    "start_time": "2022-05-26T07:35:31.171Z"
   },
   {
    "duration": 575,
    "start_time": "2022-05-26T07:35:31.831Z"
   },
   {
    "duration": 111,
    "start_time": "2022-05-26T07:35:32.508Z"
   },
   {
    "duration": 67,
    "start_time": "2022-05-26T07:35:33.682Z"
   },
   {
    "duration": 269,
    "start_time": "2022-05-26T07:35:34.122Z"
   },
   {
    "duration": 311,
    "start_time": "2022-05-26T07:35:35.050Z"
   },
   {
    "duration": 112,
    "start_time": "2022-05-26T07:35:35.485Z"
   },
   {
    "duration": 13,
    "start_time": "2022-05-26T07:35:36.522Z"
   },
   {
    "duration": 21,
    "start_time": "2022-05-26T07:35:37.182Z"
   },
   {
    "duration": 24,
    "start_time": "2022-05-26T07:35:37.650Z"
   },
   {
    "duration": 31,
    "start_time": "2022-05-26T07:35:38.691Z"
   },
   {
    "duration": 14,
    "start_time": "2022-05-26T07:35:38.902Z"
   },
   {
    "duration": 25,
    "start_time": "2022-05-26T07:35:40.271Z"
   },
   {
    "duration": 7,
    "start_time": "2022-05-26T07:35:41.363Z"
   },
   {
    "duration": 11,
    "start_time": "2022-05-26T07:35:41.787Z"
   },
   {
    "duration": 6,
    "start_time": "2022-05-26T07:35:43.102Z"
   },
   {
    "duration": 19,
    "start_time": "2022-05-26T07:35:43.330Z"
   },
   {
    "duration": 32,
    "start_time": "2022-05-26T07:35:43.961Z"
   },
   {
    "duration": 166,
    "start_time": "2022-05-26T07:35:44.786Z"
   },
   {
    "duration": 447,
    "start_time": "2022-05-26T07:35:45.267Z"
   },
   {
    "duration": 41,
    "start_time": "2022-05-26T07:35:47.814Z"
   },
   {
    "duration": 325,
    "start_time": "2022-05-26T07:35:48.066Z"
   },
   {
    "duration": 258,
    "start_time": "2022-05-26T07:35:48.394Z"
   },
   {
    "duration": 6,
    "start_time": "2022-05-26T07:35:50.112Z"
   },
   {
    "duration": 294,
    "start_time": "2022-05-26T07:35:50.550Z"
   },
   {
    "duration": 964,
    "start_time": "2022-05-26T07:35:51.046Z"
   },
   {
    "duration": 11,
    "start_time": "2022-05-26T07:35:52.013Z"
   },
   {
    "duration": 823,
    "start_time": "2022-05-26T07:35:52.091Z"
   },
   {
    "duration": 1444,
    "start_time": "2022-05-26T07:35:52.916Z"
   },
   {
    "duration": 27,
    "start_time": "2022-05-26T07:35:54.361Z"
   },
   {
    "duration": 6,
    "start_time": "2022-05-26T07:35:55.682Z"
   },
   {
    "duration": 644,
    "start_time": "2022-05-26T07:35:56.181Z"
   },
   {
    "duration": 29,
    "start_time": "2022-05-26T07:35:58.181Z"
   },
   {
    "duration": 8,
    "start_time": "2022-05-26T07:35:58.656Z"
   },
   {
    "duration": 30,
    "start_time": "2022-05-26T07:35:59.809Z"
   },
   {
    "duration": 10,
    "start_time": "2022-05-26T07:36:33.422Z"
   },
   {
    "duration": 7,
    "start_time": "2022-05-26T07:36:34.515Z"
   },
   {
    "duration": 25,
    "start_time": "2022-05-26T07:36:36.010Z"
   },
   {
    "duration": 25,
    "start_time": "2022-05-26T07:36:36.500Z"
   },
   {
    "duration": 26,
    "start_time": "2022-05-26T07:36:36.992Z"
   },
   {
    "duration": 25,
    "start_time": "2022-05-26T07:38:11.691Z"
   },
   {
    "duration": 24,
    "start_time": "2022-05-26T07:38:13.190Z"
   },
   {
    "duration": 25,
    "start_time": "2022-05-26T07:38:33.022Z"
   },
   {
    "duration": 24,
    "start_time": "2022-05-26T07:38:36.650Z"
   },
   {
    "duration": 25,
    "start_time": "2022-05-26T07:38:37.012Z"
   },
   {
    "duration": 26,
    "start_time": "2022-05-26T07:38:37.490Z"
   },
   {
    "duration": 1491,
    "start_time": "2022-05-26T18:40:22.218Z"
   },
   {
    "duration": 1073,
    "start_time": "2022-05-26T18:40:23.711Z"
   },
   {
    "duration": 107,
    "start_time": "2022-05-26T18:40:24.786Z"
   },
   {
    "duration": 89,
    "start_time": "2022-05-26T18:40:24.895Z"
   },
   {
    "duration": 364,
    "start_time": "2022-05-26T18:40:24.986Z"
   },
   {
    "duration": 360,
    "start_time": "2022-05-26T18:40:25.352Z"
   },
   {
    "duration": 121,
    "start_time": "2022-05-26T18:40:25.713Z"
   },
   {
    "duration": 24,
    "start_time": "2022-05-26T18:40:25.836Z"
   },
   {
    "duration": 21,
    "start_time": "2022-05-26T18:40:25.864Z"
   },
   {
    "duration": 24,
    "start_time": "2022-05-26T18:40:25.886Z"
   },
   {
    "duration": 63,
    "start_time": "2022-05-26T18:40:25.912Z"
   },
   {
    "duration": 13,
    "start_time": "2022-05-26T18:40:25.977Z"
   },
   {
    "duration": 26,
    "start_time": "2022-05-26T18:40:25.991Z"
   },
   {
    "duration": 6,
    "start_time": "2022-05-26T18:40:26.020Z"
   },
   {
    "duration": 41,
    "start_time": "2022-05-26T18:40:26.027Z"
   },
   {
    "duration": 6,
    "start_time": "2022-05-26T18:40:26.070Z"
   },
   {
    "duration": 19,
    "start_time": "2022-05-26T18:40:26.077Z"
   },
   {
    "duration": 55,
    "start_time": "2022-05-26T18:40:26.097Z"
   },
   {
    "duration": 173,
    "start_time": "2022-05-26T18:40:26.160Z"
   },
   {
    "duration": 486,
    "start_time": "2022-05-26T18:40:26.335Z"
   },
   {
    "duration": 50,
    "start_time": "2022-05-26T18:40:26.822Z"
   },
   {
    "duration": 393,
    "start_time": "2022-05-26T18:40:26.874Z"
   },
   {
    "duration": 287,
    "start_time": "2022-05-26T18:40:27.268Z"
   },
   {
    "duration": 12,
    "start_time": "2022-05-26T18:40:27.559Z"
   },
   {
    "duration": 446,
    "start_time": "2022-05-26T18:40:27.573Z"
   },
   {
    "duration": 1014,
    "start_time": "2022-05-26T18:40:28.022Z"
   },
   {
    "duration": 25,
    "start_time": "2022-05-26T18:40:29.037Z"
   },
   {
    "duration": 962,
    "start_time": "2022-05-26T18:40:29.064Z"
   },
   {
    "duration": 1548,
    "start_time": "2022-05-26T18:40:30.028Z"
   },
   {
    "duration": 32,
    "start_time": "2022-05-26T18:40:31.577Z"
   },
   {
    "duration": 8,
    "start_time": "2022-05-26T18:40:31.611Z"
   },
   {
    "duration": 812,
    "start_time": "2022-05-26T18:40:31.620Z"
   },
   {
    "duration": 46,
    "start_time": "2022-05-26T18:40:32.434Z"
   },
   {
    "duration": 252,
    "start_time": "2022-05-26T18:40:32.482Z"
   },
   {
    "duration": 59,
    "start_time": "2022-05-26T18:40:32.735Z"
   },
   {
    "duration": 64,
    "start_time": "2022-05-26T18:40:32.796Z"
   },
   {
    "duration": 13,
    "start_time": "2022-05-26T18:40:32.863Z"
   },
   {
    "duration": 32,
    "start_time": "2022-05-26T18:40:32.877Z"
   },
   {
    "duration": 71,
    "start_time": "2022-05-26T18:40:32.911Z"
   },
   {
    "duration": 28,
    "start_time": "2022-05-26T18:40:32.984Z"
   },
   {
    "duration": 54,
    "start_time": "2022-05-26T20:28:58.996Z"
   },
   {
    "duration": 10,
    "start_time": "2022-05-26T20:35:52.111Z"
   },
   {
    "duration": 1476,
    "start_time": "2022-05-26T20:36:01.079Z"
   },
   {
    "duration": 972,
    "start_time": "2022-05-26T20:36:02.557Z"
   },
   {
    "duration": 134,
    "start_time": "2022-05-26T20:36:03.532Z"
   },
   {
    "duration": 99,
    "start_time": "2022-05-26T20:36:03.668Z"
   },
   {
    "duration": 332,
    "start_time": "2022-05-26T20:36:03.769Z"
   },
   {
    "duration": 317,
    "start_time": "2022-05-26T20:36:04.102Z"
   },
   {
    "duration": 143,
    "start_time": "2022-05-26T20:36:04.421Z"
   },
   {
    "duration": 11,
    "start_time": "2022-05-26T20:36:04.566Z"
   },
   {
    "duration": 21,
    "start_time": "2022-05-26T20:36:04.578Z"
   },
   {
    "duration": 33,
    "start_time": "2022-05-26T20:36:04.626Z"
   },
   {
    "duration": 33,
    "start_time": "2022-05-26T20:36:04.660Z"
   },
   {
    "duration": 35,
    "start_time": "2022-05-26T20:36:04.695Z"
   },
   {
    "duration": 31,
    "start_time": "2022-05-26T20:36:04.732Z"
   },
   {
    "duration": 6,
    "start_time": "2022-05-26T20:36:04.765Z"
   },
   {
    "duration": 22,
    "start_time": "2022-05-26T20:36:04.773Z"
   },
   {
    "duration": 7,
    "start_time": "2022-05-26T20:36:04.797Z"
   },
   {
    "duration": 45,
    "start_time": "2022-05-26T20:36:04.807Z"
   },
   {
    "duration": 37,
    "start_time": "2022-05-26T20:36:04.854Z"
   },
   {
    "duration": 204,
    "start_time": "2022-05-26T20:36:04.893Z"
   },
   {
    "duration": 524,
    "start_time": "2022-05-26T20:36:05.099Z"
   },
   {
    "duration": 36,
    "start_time": "2022-05-26T20:36:05.627Z"
   },
   {
    "duration": 400,
    "start_time": "2022-05-26T20:36:05.665Z"
   },
   {
    "duration": 330,
    "start_time": "2022-05-26T20:36:06.067Z"
   },
   {
    "duration": 10,
    "start_time": "2022-05-26T20:36:06.399Z"
   },
   {
    "duration": 488,
    "start_time": "2022-05-26T20:36:06.411Z"
   },
   {
    "duration": 1001,
    "start_time": "2022-05-26T20:36:06.901Z"
   },
   {
    "duration": 12,
    "start_time": "2022-05-26T20:36:07.904Z"
   },
   {
    "duration": 884,
    "start_time": "2022-05-26T20:36:07.927Z"
   },
   {
    "duration": 1521,
    "start_time": "2022-05-26T20:36:08.814Z"
   },
   {
    "duration": 38,
    "start_time": "2022-05-26T20:36:10.337Z"
   },
   {
    "duration": 9,
    "start_time": "2022-05-26T20:36:10.377Z"
   },
   {
    "duration": 769,
    "start_time": "2022-05-26T20:36:10.388Z"
   },
   {
    "duration": 34,
    "start_time": "2022-05-26T20:36:11.158Z"
   },
   {
    "duration": 135,
    "start_time": "2022-05-26T20:36:11.194Z"
   },
   {
    "duration": 41,
    "start_time": "2022-05-26T20:36:11.331Z"
   },
   {
    "duration": 20,
    "start_time": "2022-05-26T20:36:11.427Z"
   },
   {
    "duration": 8,
    "start_time": "2022-05-26T20:36:11.449Z"
   },
   {
    "duration": 90,
    "start_time": "2022-05-26T20:36:11.459Z"
   },
   {
    "duration": 26,
    "start_time": "2022-05-26T20:36:11.551Z"
   },
   {
    "duration": 50,
    "start_time": "2022-05-26T20:36:11.578Z"
   },
   {
    "duration": 30,
    "start_time": "2022-05-26T20:36:54.264Z"
   },
   {
    "duration": 26,
    "start_time": "2022-05-26T21:09:44.085Z"
   },
   {
    "duration": 7,
    "start_time": "2022-05-26T21:11:07.165Z"
   },
   {
    "duration": 12,
    "start_time": "2022-05-26T21:25:26.628Z"
   },
   {
    "duration": 22,
    "start_time": "2022-05-26T21:29:41.127Z"
   },
   {
    "duration": 49,
    "start_time": "2022-05-26T21:31:04.310Z"
   },
   {
    "duration": 47,
    "start_time": "2022-05-26T21:32:16.856Z"
   },
   {
    "duration": 41,
    "start_time": "2022-05-26T21:34:10.172Z"
   },
   {
    "duration": 47,
    "start_time": "2022-05-26T21:34:25.736Z"
   },
   {
    "duration": 5,
    "start_time": "2022-05-26T21:53:33.368Z"
   },
   {
    "duration": 6,
    "start_time": "2022-05-26T21:54:34.580Z"
   },
   {
    "duration": 19,
    "start_time": "2022-05-26T21:56:09.570Z"
   },
   {
    "duration": 126,
    "start_time": "2022-05-26T21:57:53.597Z"
   },
   {
    "duration": 10,
    "start_time": "2022-05-26T21:58:22.505Z"
   },
   {
    "duration": 23,
    "start_time": "2022-05-26T22:05:22.468Z"
   },
   {
    "duration": 5,
    "start_time": "2022-05-26T22:05:43.504Z"
   },
   {
    "duration": 593,
    "start_time": "2022-05-26T22:05:43.511Z"
   },
   {
    "duration": 128,
    "start_time": "2022-05-26T22:05:44.106Z"
   },
   {
    "duration": 120,
    "start_time": "2022-05-26T22:05:44.238Z"
   },
   {
    "duration": 352,
    "start_time": "2022-05-26T22:05:44.360Z"
   },
   {
    "duration": 336,
    "start_time": "2022-05-26T22:05:44.714Z"
   },
   {
    "duration": 170,
    "start_time": "2022-05-26T22:05:45.052Z"
   },
   {
    "duration": 18,
    "start_time": "2022-05-26T22:05:45.228Z"
   },
   {
    "duration": 36,
    "start_time": "2022-05-26T22:05:45.248Z"
   },
   {
    "duration": 69,
    "start_time": "2022-05-26T22:05:45.288Z"
   },
   {
    "duration": 11,
    "start_time": "2022-05-26T22:05:45.360Z"
   },
   {
    "duration": 60,
    "start_time": "2022-05-26T22:05:45.373Z"
   },
   {
    "duration": 14,
    "start_time": "2022-05-26T22:05:45.436Z"
   },
   {
    "duration": 26,
    "start_time": "2022-05-26T22:05:49.334Z"
   },
   {
    "duration": 43,
    "start_time": "2022-05-26T22:06:09.637Z"
   },
   {
    "duration": 22,
    "start_time": "2022-05-26T22:06:35.687Z"
   },
   {
    "duration": 40,
    "start_time": "2022-05-26T22:10:13.023Z"
   },
   {
    "duration": 27,
    "start_time": "2022-05-26T22:10:21.975Z"
   },
   {
    "duration": 13,
    "start_time": "2022-05-26T22:11:07.151Z"
   },
   {
    "duration": 14,
    "start_time": "2022-05-26T22:12:28.632Z"
   },
   {
    "duration": 48,
    "start_time": "2022-05-26T22:15:19.514Z"
   },
   {
    "duration": 68,
    "start_time": "2022-05-26T22:15:52.696Z"
   },
   {
    "duration": 31,
    "start_time": "2022-05-26T22:16:04.960Z"
   },
   {
    "duration": 45,
    "start_time": "2022-05-26T22:16:05.964Z"
   },
   {
    "duration": 34,
    "start_time": "2022-05-26T22:42:30.163Z"
   },
   {
    "duration": 29,
    "start_time": "2022-05-26T22:42:31.359Z"
   },
   {
    "duration": 31,
    "start_time": "2022-05-26T22:43:21.304Z"
   },
   {
    "duration": 14,
    "start_time": "2022-05-26T22:43:59.489Z"
   },
   {
    "duration": 57,
    "start_time": "2022-05-27T17:22:26.065Z"
   },
   {
    "duration": 1653,
    "start_time": "2022-05-27T17:22:33.143Z"
   },
   {
    "duration": 998,
    "start_time": "2022-05-27T17:22:34.798Z"
   },
   {
    "duration": 122,
    "start_time": "2022-05-27T17:22:35.797Z"
   },
   {
    "duration": 92,
    "start_time": "2022-05-27T17:22:35.922Z"
   },
   {
    "duration": 382,
    "start_time": "2022-05-27T17:22:36.017Z"
   },
   {
    "duration": 330,
    "start_time": "2022-05-27T17:22:36.401Z"
   },
   {
    "duration": 142,
    "start_time": "2022-05-27T17:22:36.733Z"
   },
   {
    "duration": 23,
    "start_time": "2022-05-27T17:22:36.877Z"
   },
   {
    "duration": 33,
    "start_time": "2022-05-27T17:22:36.901Z"
   },
   {
    "duration": 29,
    "start_time": "2022-05-27T17:22:36.936Z"
   },
   {
    "duration": 30,
    "start_time": "2022-05-27T17:22:36.968Z"
   },
   {
    "duration": 67,
    "start_time": "2022-05-27T17:22:37.000Z"
   },
   {
    "duration": 14,
    "start_time": "2022-05-27T17:22:40.455Z"
   },
   {
    "duration": 4,
    "start_time": "2022-05-27T17:23:41.562Z"
   },
   {
    "duration": 5,
    "start_time": "2022-05-27T17:23:51.492Z"
   },
   {
    "duration": 1545,
    "start_time": "2022-05-27T17:46:07.966Z"
   },
   {
    "duration": 665,
    "start_time": "2022-05-27T17:46:09.513Z"
   },
   {
    "duration": 133,
    "start_time": "2022-05-27T17:46:10.182Z"
   },
   {
    "duration": 117,
    "start_time": "2022-05-27T17:46:10.317Z"
   },
   {
    "duration": 378,
    "start_time": "2022-05-27T17:46:10.436Z"
   },
   {
    "duration": 375,
    "start_time": "2022-05-27T17:46:10.816Z"
   },
   {
    "duration": 140,
    "start_time": "2022-05-27T17:46:11.193Z"
   },
   {
    "duration": 14,
    "start_time": "2022-05-27T17:46:11.335Z"
   },
   {
    "duration": 45,
    "start_time": "2022-05-27T17:46:11.351Z"
   },
   {
    "duration": 40,
    "start_time": "2022-05-27T17:46:11.397Z"
   },
   {
    "duration": 10,
    "start_time": "2022-05-27T17:46:11.439Z"
   },
   {
    "duration": 83,
    "start_time": "2022-05-27T17:46:11.451Z"
   },
   {
    "duration": 10,
    "start_time": "2022-05-27T17:46:11.536Z"
   },
   {
    "duration": 67,
    "start_time": "2022-05-27T17:46:11.549Z"
   },
   {
    "duration": 15,
    "start_time": "2022-05-27T17:46:11.618Z"
   },
   {
    "duration": 14,
    "start_time": "2022-05-27T17:46:11.635Z"
   },
   {
    "duration": 62,
    "start_time": "2022-05-27T17:46:11.651Z"
   },
   {
    "duration": 9,
    "start_time": "2022-05-27T17:46:11.715Z"
   },
   {
    "duration": 19,
    "start_time": "2022-05-27T17:46:11.726Z"
   },
   {
    "duration": 8,
    "start_time": "2022-05-27T17:46:11.747Z"
   },
   {
    "duration": 51,
    "start_time": "2022-05-27T17:46:11.757Z"
   },
   {
    "duration": 48,
    "start_time": "2022-05-27T17:46:11.810Z"
   },
   {
    "duration": 239,
    "start_time": "2022-05-27T17:46:11.860Z"
   },
   {
    "duration": 523,
    "start_time": "2022-05-27T17:46:12.101Z"
   },
   {
    "duration": 37,
    "start_time": "2022-05-27T17:46:12.625Z"
   },
   {
    "duration": 458,
    "start_time": "2022-05-27T17:46:12.664Z"
   },
   {
    "duration": 314,
    "start_time": "2022-05-27T17:46:13.124Z"
   },
   {
    "duration": 7,
    "start_time": "2022-05-27T17:46:13.440Z"
   },
   {
    "duration": 472,
    "start_time": "2022-05-27T17:46:13.449Z"
   },
   {
    "duration": 1055,
    "start_time": "2022-05-27T17:46:13.923Z"
   },
   {
    "duration": 24,
    "start_time": "2022-05-27T17:46:14.981Z"
   },
   {
    "duration": 977,
    "start_time": "2022-05-27T17:46:15.007Z"
   },
   {
    "duration": 1631,
    "start_time": "2022-05-27T17:46:15.986Z"
   },
   {
    "duration": 36,
    "start_time": "2022-05-27T17:46:17.620Z"
   },
   {
    "duration": 10,
    "start_time": "2022-05-27T17:46:17.658Z"
   },
   {
    "duration": 835,
    "start_time": "2022-05-27T17:46:17.670Z"
   },
   {
    "duration": 40,
    "start_time": "2022-05-27T17:46:18.507Z"
   },
   {
    "duration": 65,
    "start_time": "2022-05-27T17:46:18.549Z"
   },
   {
    "duration": 127,
    "start_time": "2022-05-27T17:46:18.617Z"
   },
   {
    "duration": 13,
    "start_time": "2022-05-27T17:46:18.746Z"
   },
   {
    "duration": 12,
    "start_time": "2022-05-27T17:46:18.795Z"
   },
   {
    "duration": 99,
    "start_time": "2022-05-27T17:46:18.810Z"
   },
   {
    "duration": 37,
    "start_time": "2022-05-27T17:46:18.911Z"
   },
   {
    "duration": 81,
    "start_time": "2022-05-27T17:46:18.950Z"
   },
   {
    "duration": 11,
    "start_time": "2022-05-27T17:50:51.825Z"
   },
   {
    "duration": 12,
    "start_time": "2022-05-27T17:54:37.977Z"
   },
   {
    "duration": 53,
    "start_time": "2022-09-12T19:22:17.350Z"
   },
   {
    "duration": 1523,
    "start_time": "2022-09-12T19:22:45.417Z"
   },
   {
    "duration": 997,
    "start_time": "2022-09-12T19:22:46.942Z"
   },
   {
    "duration": 112,
    "start_time": "2022-09-12T19:22:47.940Z"
   },
   {
    "duration": 97,
    "start_time": "2022-09-12T19:22:48.054Z"
   },
   {
    "duration": 290,
    "start_time": "2022-09-12T19:22:48.153Z"
   },
   {
    "duration": 317,
    "start_time": "2022-09-12T19:22:48.445Z"
   },
   {
    "duration": 122,
    "start_time": "2022-09-12T19:22:48.763Z"
   },
   {
    "duration": 22,
    "start_time": "2022-09-12T19:22:48.887Z"
   },
   {
    "duration": 34,
    "start_time": "2022-09-12T19:22:48.910Z"
   },
   {
    "duration": 25,
    "start_time": "2022-09-12T19:22:48.946Z"
   },
   {
    "duration": 7,
    "start_time": "2022-09-12T19:22:48.972Z"
   },
   {
    "duration": 56,
    "start_time": "2022-09-12T19:22:48.980Z"
   },
   {
    "duration": 0,
    "start_time": "2022-09-12T19:22:49.038Z"
   },
   {
    "duration": 0,
    "start_time": "2022-09-12T19:22:49.039Z"
   },
   {
    "duration": 0,
    "start_time": "2022-09-12T19:22:49.040Z"
   },
   {
    "duration": 0,
    "start_time": "2022-09-12T19:22:49.041Z"
   },
   {
    "duration": 0,
    "start_time": "2022-09-12T19:22:49.042Z"
   },
   {
    "duration": 0,
    "start_time": "2022-09-12T19:22:49.043Z"
   },
   {
    "duration": 0,
    "start_time": "2022-09-12T19:22:49.044Z"
   },
   {
    "duration": 0,
    "start_time": "2022-09-12T19:22:49.045Z"
   },
   {
    "duration": 0,
    "start_time": "2022-09-12T19:22:49.046Z"
   },
   {
    "duration": 0,
    "start_time": "2022-09-12T19:22:49.047Z"
   },
   {
    "duration": 0,
    "start_time": "2022-09-12T19:22:49.048Z"
   },
   {
    "duration": 0,
    "start_time": "2022-09-12T19:22:49.049Z"
   },
   {
    "duration": 0,
    "start_time": "2022-09-12T19:22:49.050Z"
   },
   {
    "duration": 0,
    "start_time": "2022-09-12T19:22:49.051Z"
   },
   {
    "duration": 0,
    "start_time": "2022-09-12T19:22:49.052Z"
   },
   {
    "duration": 0,
    "start_time": "2022-09-12T19:22:49.053Z"
   },
   {
    "duration": 0,
    "start_time": "2022-09-12T19:22:49.053Z"
   },
   {
    "duration": 0,
    "start_time": "2022-09-12T19:22:49.054Z"
   },
   {
    "duration": 0,
    "start_time": "2022-09-12T19:22:49.055Z"
   },
   {
    "duration": 0,
    "start_time": "2022-09-12T19:22:49.056Z"
   },
   {
    "duration": 0,
    "start_time": "2022-09-12T19:22:49.057Z"
   },
   {
    "duration": 0,
    "start_time": "2022-09-12T19:22:49.058Z"
   },
   {
    "duration": 0,
    "start_time": "2022-09-12T19:22:49.060Z"
   },
   {
    "duration": 0,
    "start_time": "2022-09-12T19:22:49.061Z"
   },
   {
    "duration": 0,
    "start_time": "2022-09-12T19:22:49.062Z"
   },
   {
    "duration": 0,
    "start_time": "2022-09-12T19:22:49.064Z"
   },
   {
    "duration": 0,
    "start_time": "2022-09-12T19:22:49.064Z"
   },
   {
    "duration": 0,
    "start_time": "2022-09-12T19:22:49.066Z"
   },
   {
    "duration": 0,
    "start_time": "2022-09-12T19:22:49.067Z"
   },
   {
    "duration": 0,
    "start_time": "2022-09-12T19:22:49.068Z"
   },
   {
    "duration": 0,
    "start_time": "2022-09-12T19:22:49.069Z"
   },
   {
    "duration": 0,
    "start_time": "2022-09-12T19:22:49.070Z"
   },
   {
    "duration": 1181,
    "start_time": "2022-09-12T19:23:20.242Z"
   },
   {
    "duration": 519,
    "start_time": "2022-09-12T19:23:21.424Z"
   },
   {
    "duration": 96,
    "start_time": "2022-09-12T19:23:21.945Z"
   },
   {
    "duration": 81,
    "start_time": "2022-09-12T19:23:22.043Z"
   },
   {
    "duration": 264,
    "start_time": "2022-09-12T19:23:22.125Z"
   },
   {
    "duration": 296,
    "start_time": "2022-09-12T19:23:22.390Z"
   },
   {
    "duration": 121,
    "start_time": "2022-09-12T19:23:22.688Z"
   },
   {
    "duration": 12,
    "start_time": "2022-09-12T19:23:22.810Z"
   },
   {
    "duration": 20,
    "start_time": "2022-09-12T19:23:22.824Z"
   },
   {
    "duration": 25,
    "start_time": "2022-09-12T19:23:22.847Z"
   },
   {
    "duration": 43,
    "start_time": "2022-09-12T19:23:22.873Z"
   },
   {
    "duration": 69,
    "start_time": "2022-09-12T19:23:22.918Z"
   },
   {
    "duration": 0,
    "start_time": "2022-09-12T19:23:22.988Z"
   },
   {
    "duration": 0,
    "start_time": "2022-09-12T19:23:22.990Z"
   },
   {
    "duration": 0,
    "start_time": "2022-09-12T19:23:22.991Z"
   },
   {
    "duration": 0,
    "start_time": "2022-09-12T19:23:22.992Z"
   },
   {
    "duration": 0,
    "start_time": "2022-09-12T19:23:22.993Z"
   },
   {
    "duration": 0,
    "start_time": "2022-09-12T19:23:22.994Z"
   },
   {
    "duration": 0,
    "start_time": "2022-09-12T19:23:22.995Z"
   },
   {
    "duration": 0,
    "start_time": "2022-09-12T19:23:22.996Z"
   },
   {
    "duration": 0,
    "start_time": "2022-09-12T19:23:22.997Z"
   },
   {
    "duration": 0,
    "start_time": "2022-09-12T19:23:22.998Z"
   },
   {
    "duration": 0,
    "start_time": "2022-09-12T19:23:22.999Z"
   },
   {
    "duration": 0,
    "start_time": "2022-09-12T19:23:23.000Z"
   },
   {
    "duration": 0,
    "start_time": "2022-09-12T19:23:23.001Z"
   },
   {
    "duration": 0,
    "start_time": "2022-09-12T19:23:23.002Z"
   },
   {
    "duration": 0,
    "start_time": "2022-09-12T19:23:23.003Z"
   },
   {
    "duration": 0,
    "start_time": "2022-09-12T19:23:23.004Z"
   },
   {
    "duration": 0,
    "start_time": "2022-09-12T19:23:23.004Z"
   },
   {
    "duration": 0,
    "start_time": "2022-09-12T19:23:23.005Z"
   },
   {
    "duration": 0,
    "start_time": "2022-09-12T19:23:23.006Z"
   },
   {
    "duration": 0,
    "start_time": "2022-09-12T19:23:23.007Z"
   },
   {
    "duration": 0,
    "start_time": "2022-09-12T19:23:23.008Z"
   },
   {
    "duration": 0,
    "start_time": "2022-09-12T19:23:23.009Z"
   },
   {
    "duration": 0,
    "start_time": "2022-09-12T19:23:23.010Z"
   },
   {
    "duration": 0,
    "start_time": "2022-09-12T19:23:23.011Z"
   },
   {
    "duration": 0,
    "start_time": "2022-09-12T19:23:23.012Z"
   },
   {
    "duration": 0,
    "start_time": "2022-09-12T19:23:23.013Z"
   },
   {
    "duration": 0,
    "start_time": "2022-09-12T19:23:23.014Z"
   },
   {
    "duration": 0,
    "start_time": "2022-09-12T19:23:23.015Z"
   },
   {
    "duration": 0,
    "start_time": "2022-09-12T19:23:23.016Z"
   },
   {
    "duration": 0,
    "start_time": "2022-09-12T19:23:23.017Z"
   },
   {
    "duration": 0,
    "start_time": "2022-09-12T19:23:23.018Z"
   },
   {
    "duration": 0,
    "start_time": "2022-09-12T19:23:23.018Z"
   },
   {
    "duration": 46,
    "start_time": "2022-09-12T19:24:21.730Z"
   },
   {
    "duration": 46,
    "start_time": "2022-09-12T19:24:34.010Z"
   },
   {
    "duration": 117,
    "start_time": "2022-09-12T19:24:57.977Z"
   },
   {
    "duration": 33,
    "start_time": "2022-09-12T19:26:01.387Z"
   },
   {
    "duration": 9,
    "start_time": "2022-09-12T19:27:08.461Z"
   },
   {
    "duration": 39,
    "start_time": "2022-09-12T19:27:09.293Z"
   },
   {
    "duration": 13,
    "start_time": "2022-09-12T19:27:09.979Z"
   },
   {
    "duration": 16,
    "start_time": "2022-09-12T19:27:10.683Z"
   },
   {
    "duration": 39,
    "start_time": "2022-09-12T19:43:03.190Z"
   },
   {
    "duration": 12,
    "start_time": "2022-09-12T19:49:50.635Z"
   },
   {
    "duration": 36,
    "start_time": "2022-09-12T19:51:03.291Z"
   },
   {
    "duration": 148,
    "start_time": "2022-09-12T19:51:04.741Z"
   },
   {
    "duration": 425,
    "start_time": "2022-09-12T19:51:08.242Z"
   },
   {
    "duration": 36,
    "start_time": "2022-09-12T19:52:28.956Z"
   },
   {
    "duration": 360,
    "start_time": "2022-09-12T19:52:30.751Z"
   },
   {
    "duration": 308,
    "start_time": "2022-09-12T19:52:32.910Z"
   },
   {
    "duration": 8,
    "start_time": "2022-09-12T21:08:26.253Z"
   },
   {
    "duration": 347,
    "start_time": "2022-09-12T21:08:27.067Z"
   },
   {
    "duration": 6,
    "start_time": "2022-09-12T21:08:32.840Z"
   },
   {
    "duration": 294,
    "start_time": "2022-09-12T21:08:33.592Z"
   },
   {
    "duration": 993,
    "start_time": "2022-09-12T21:08:34.265Z"
   },
   {
    "duration": 12,
    "start_time": "2022-09-12T21:08:35.836Z"
   },
   {
    "duration": 975,
    "start_time": "2022-09-12T21:08:37.455Z"
   },
   {
    "duration": 1228,
    "start_time": "2022-09-12T21:08:38.432Z"
   },
   {
    "duration": 35,
    "start_time": "2022-09-12T21:08:41.415Z"
   },
   {
    "duration": 6,
    "start_time": "2022-09-12T21:09:16.896Z"
   },
   {
    "duration": 738,
    "start_time": "2022-09-12T21:09:17.759Z"
   },
   {
    "duration": 8,
    "start_time": "2022-09-12T21:09:38.440Z"
   },
   {
    "duration": 644,
    "start_time": "2022-09-12T21:09:39.513Z"
   },
   {
    "duration": 33,
    "start_time": "2022-09-12T21:09:47.703Z"
   },
   {
    "duration": 31,
    "start_time": "2022-09-12T21:09:50.224Z"
   },
   {
    "duration": 219,
    "start_time": "2022-09-12T21:09:51.201Z"
   },
   {
    "duration": 10,
    "start_time": "2022-09-12T21:16:17.137Z"
   },
   {
    "duration": 9,
    "start_time": "2022-09-12T21:16:34.313Z"
   },
   {
    "duration": 10,
    "start_time": "2022-09-12T21:21:10.654Z"
   },
   {
    "duration": 23,
    "start_time": "2022-09-12T21:23:02.384Z"
   },
   {
    "duration": 55,
    "start_time": "2022-09-12T21:23:29.829Z"
   },
   {
    "duration": 10,
    "start_time": "2022-09-12T21:23:46.109Z"
   },
   {
    "duration": 10,
    "start_time": "2022-09-12T21:23:54.048Z"
   },
   {
    "duration": 10,
    "start_time": "2022-09-12T21:24:01.191Z"
   },
   {
    "duration": 12,
    "start_time": "2022-09-12T21:24:09.662Z"
   },
   {
    "duration": 30,
    "start_time": "2022-09-12T21:24:27.006Z"
   },
   {
    "duration": 11,
    "start_time": "2022-09-12T21:24:32.573Z"
   },
   {
    "duration": 19,
    "start_time": "2022-09-12T21:30:16.877Z"
   },
   {
    "duration": 10,
    "start_time": "2022-09-12T21:30:28.145Z"
   },
   {
    "duration": 13,
    "start_time": "2022-09-12T21:31:04.769Z"
   },
   {
    "duration": 11,
    "start_time": "2022-09-12T21:31:12.348Z"
   },
   {
    "duration": 12,
    "start_time": "2022-09-12T21:31:20.948Z"
   },
   {
    "duration": 12,
    "start_time": "2022-09-12T21:31:34.274Z"
   },
   {
    "duration": 53,
    "start_time": "2022-09-12T21:31:56.482Z"
   },
   {
    "duration": 49,
    "start_time": "2022-09-12T21:32:07.913Z"
   },
   {
    "duration": 11,
    "start_time": "2022-09-12T21:32:19.299Z"
   },
   {
    "duration": 13,
    "start_time": "2022-09-12T21:32:28.464Z"
   },
   {
    "duration": 12,
    "start_time": "2022-09-12T21:32:39.938Z"
   },
   {
    "duration": 12,
    "start_time": "2022-09-12T21:32:46.964Z"
   },
   {
    "duration": 19,
    "start_time": "2022-09-12T21:43:21.444Z"
   },
   {
    "duration": 30,
    "start_time": "2022-09-12T21:45:22.477Z"
   },
   {
    "duration": 12,
    "start_time": "2022-09-12T21:45:29.146Z"
   },
   {
    "duration": 10,
    "start_time": "2022-09-12T21:45:37.449Z"
   },
   {
    "duration": 10,
    "start_time": "2022-09-12T21:45:47.729Z"
   },
   {
    "duration": 15,
    "start_time": "2022-09-12T21:49:56.872Z"
   },
   {
    "duration": 14,
    "start_time": "2022-09-12T21:50:06.213Z"
   },
   {
    "duration": 17,
    "start_time": "2022-09-12T21:51:46.757Z"
   },
   {
    "duration": 19,
    "start_time": "2022-09-12T21:52:17.701Z"
   },
   {
    "duration": 10,
    "start_time": "2022-09-12T21:52:42.440Z"
   },
   {
    "duration": 16,
    "start_time": "2022-09-12T21:55:21.713Z"
   },
   {
    "duration": 15,
    "start_time": "2022-09-12T21:55:31.857Z"
   },
   {
    "duration": 13,
    "start_time": "2022-09-12T21:56:34.946Z"
   },
   {
    "duration": 22,
    "start_time": "2022-09-12T21:57:06.571Z"
   },
   {
    "duration": 19,
    "start_time": "2022-09-12T21:57:14.138Z"
   },
   {
    "duration": 10,
    "start_time": "2022-09-12T21:57:22.187Z"
   },
   {
    "duration": 11,
    "start_time": "2022-09-12T21:57:33.368Z"
   },
   {
    "duration": 10,
    "start_time": "2022-09-12T21:57:39.745Z"
   },
   {
    "duration": 11,
    "start_time": "2022-09-12T21:57:56.075Z"
   },
   {
    "duration": 12,
    "start_time": "2022-09-12T21:58:00.041Z"
   },
   {
    "duration": 11,
    "start_time": "2022-09-12T21:58:20.139Z"
   },
   {
    "duration": 11,
    "start_time": "2022-09-12T21:58:49.593Z"
   },
   {
    "duration": 10,
    "start_time": "2022-09-12T21:59:29.969Z"
   },
   {
    "duration": 51,
    "start_time": "2022-09-13T07:16:43.239Z"
   },
   {
    "duration": 1348,
    "start_time": "2022-09-13T07:16:51.630Z"
   },
   {
    "duration": 857,
    "start_time": "2022-09-13T07:16:52.980Z"
   },
   {
    "duration": 113,
    "start_time": "2022-09-13T07:16:53.838Z"
   },
   {
    "duration": 94,
    "start_time": "2022-09-13T07:16:53.953Z"
   },
   {
    "duration": 289,
    "start_time": "2022-09-13T07:16:54.049Z"
   },
   {
    "duration": 291,
    "start_time": "2022-09-13T07:16:54.340Z"
   },
   {
    "duration": 113,
    "start_time": "2022-09-13T07:16:54.633Z"
   },
   {
    "duration": 10,
    "start_time": "2022-09-13T07:16:54.748Z"
   },
   {
    "duration": 29,
    "start_time": "2022-09-13T07:16:54.759Z"
   },
   {
    "duration": 37,
    "start_time": "2022-09-13T07:16:54.790Z"
   },
   {
    "duration": 7,
    "start_time": "2022-09-13T07:16:54.829Z"
   },
   {
    "duration": 50,
    "start_time": "2022-09-13T07:16:54.837Z"
   },
   {
    "duration": 7,
    "start_time": "2022-09-13T07:16:54.889Z"
   },
   {
    "duration": 50,
    "start_time": "2022-09-13T07:16:54.898Z"
   },
   {
    "duration": 13,
    "start_time": "2022-09-13T07:16:54.949Z"
   },
   {
    "duration": 30,
    "start_time": "2022-09-13T07:16:54.963Z"
   },
   {
    "duration": 25,
    "start_time": "2022-09-13T07:16:54.995Z"
   },
   {
    "duration": 8,
    "start_time": "2022-09-13T07:16:55.021Z"
   },
   {
    "duration": 43,
    "start_time": "2022-09-13T07:16:55.030Z"
   },
   {
    "duration": 25,
    "start_time": "2022-09-13T07:16:55.074Z"
   },
   {
    "duration": 42,
    "start_time": "2022-09-13T07:16:55.101Z"
   },
   {
    "duration": 36,
    "start_time": "2022-09-13T07:16:55.145Z"
   },
   {
    "duration": 150,
    "start_time": "2022-09-13T07:16:55.183Z"
   },
   {
    "duration": 403,
    "start_time": "2022-09-13T07:16:55.334Z"
   },
   {
    "duration": 33,
    "start_time": "2022-09-13T07:16:55.738Z"
   },
   {
    "duration": 356,
    "start_time": "2022-09-13T07:16:55.772Z"
   },
   {
    "duration": 297,
    "start_time": "2022-09-13T07:16:56.129Z"
   },
   {
    "duration": 5,
    "start_time": "2022-09-13T07:16:56.429Z"
   },
   {
    "duration": 321,
    "start_time": "2022-09-13T07:16:56.436Z"
   },
   {
    "duration": 834,
    "start_time": "2022-09-13T07:16:56.759Z"
   },
   {
    "duration": 15,
    "start_time": "2022-09-13T07:16:57.594Z"
   },
   {
    "duration": 913,
    "start_time": "2022-09-13T07:16:57.610Z"
   },
   {
    "duration": 1173,
    "start_time": "2022-09-13T07:16:58.524Z"
   },
   {
    "duration": 28,
    "start_time": "2022-09-13T07:16:59.698Z"
   },
   {
    "duration": 6,
    "start_time": "2022-09-13T07:16:59.728Z"
   },
   {
    "duration": 668,
    "start_time": "2022-09-13T07:16:59.735Z"
   },
   {
    "duration": 122,
    "start_time": "2022-09-13T07:17:00.404Z"
   },
   {
    "duration": 25,
    "start_time": "2022-09-13T07:17:00.527Z"
   },
   {
    "duration": 145,
    "start_time": "2022-09-13T07:17:00.554Z"
   },
   {
    "duration": 11,
    "start_time": "2022-09-13T07:17:00.700Z"
   },
   {
    "duration": 41,
    "start_time": "2022-09-13T07:17:00.712Z"
   },
   {
    "duration": 71,
    "start_time": "2022-09-13T07:17:00.755Z"
   },
   {
    "duration": 25,
    "start_time": "2022-09-13T07:17:00.827Z"
   },
   {
    "duration": 28,
    "start_time": "2022-09-13T07:17:00.854Z"
   },
   {
    "duration": 7,
    "start_time": "2022-09-13T13:05:14.658Z"
   },
   {
    "duration": 3,
    "start_time": "2022-09-13T16:36:46.590Z"
   },
   {
    "duration": 480,
    "start_time": "2022-09-13T16:36:49.084Z"
   },
   {
    "duration": 108,
    "start_time": "2022-09-13T16:36:50.453Z"
   },
   {
    "duration": 57,
    "start_time": "2022-09-13T16:36:55.172Z"
   },
   {
    "duration": 248,
    "start_time": "2022-09-13T16:36:57.108Z"
   },
   {
    "duration": 275,
    "start_time": "2022-09-13T16:36:59.281Z"
   },
   {
    "duration": 115,
    "start_time": "2022-09-13T16:37:01.718Z"
   },
   {
    "duration": 12,
    "start_time": "2022-09-13T16:37:04.989Z"
   },
   {
    "duration": 21,
    "start_time": "2022-09-13T16:37:06.189Z"
   },
   {
    "duration": 27,
    "start_time": "2022-09-13T16:37:09.508Z"
   },
   {
    "duration": 8,
    "start_time": "2022-09-13T16:37:11.701Z"
   },
   {
    "duration": 34,
    "start_time": "2022-09-13T16:41:52.447Z"
   },
   {
    "duration": 10,
    "start_time": "2022-09-13T16:41:55.350Z"
   },
   {
    "duration": 40,
    "start_time": "2022-09-13T16:41:56.264Z"
   },
   {
    "duration": 13,
    "start_time": "2022-09-13T16:41:57.112Z"
   },
   {
    "duration": 13,
    "start_time": "2022-09-13T16:41:58.128Z"
   },
   {
    "duration": 28,
    "start_time": "2022-09-13T16:42:05.143Z"
   },
   {
    "duration": 6,
    "start_time": "2022-09-13T16:42:08.191Z"
   },
   {
    "duration": 10,
    "start_time": "2022-09-13T16:42:11.127Z"
   },
   {
    "duration": 7,
    "start_time": "2022-09-13T16:42:14.423Z"
   },
   {
    "duration": 18,
    "start_time": "2022-09-13T16:42:16.896Z"
   },
   {
    "duration": 30,
    "start_time": "2022-09-13T16:42:31.015Z"
   },
   {
    "duration": 164,
    "start_time": "2022-09-13T16:42:36.264Z"
   },
   {
    "duration": 400,
    "start_time": "2022-09-13T16:42:40.952Z"
   },
   {
    "duration": 35,
    "start_time": "2022-09-13T16:43:05.151Z"
   },
   {
    "duration": 319,
    "start_time": "2022-09-13T16:43:06.087Z"
   },
   {
    "duration": 324,
    "start_time": "2022-09-13T16:43:06.688Z"
   },
   {
    "duration": 6,
    "start_time": "2022-09-13T16:43:09.232Z"
   },
   {
    "duration": 294,
    "start_time": "2022-09-13T16:43:10.145Z"
   },
   {
    "duration": 854,
    "start_time": "2022-09-13T16:43:10.855Z"
   },
   {
    "duration": 11,
    "start_time": "2022-09-13T16:43:12.063Z"
   },
   {
    "duration": 744,
    "start_time": "2022-09-13T16:43:13.184Z"
   },
   {
    "duration": 1321,
    "start_time": "2022-09-13T16:43:13.986Z"
   },
   {
    "duration": 30,
    "start_time": "2022-09-13T16:43:16.656Z"
   },
   {
    "duration": 7,
    "start_time": "2022-09-13T16:43:19.103Z"
   },
   {
    "duration": 663,
    "start_time": "2022-09-13T16:43:20.986Z"
   },
   {
    "duration": 35,
    "start_time": "2022-09-13T16:43:22.177Z"
   },
   {
    "duration": 27,
    "start_time": "2022-09-13T16:43:23.432Z"
   },
   {
    "duration": 10,
    "start_time": "2022-09-13T16:43:26.888Z"
   },
   {
    "duration": 11,
    "start_time": "2022-09-13T16:43:39.681Z"
   },
   {
    "duration": 9,
    "start_time": "2022-09-13T16:43:40.681Z"
   },
   {
    "duration": 26,
    "start_time": "2022-09-13T16:43:45.255Z"
   },
   {
    "duration": 26,
    "start_time": "2022-09-13T16:43:46.312Z"
   },
   {
    "duration": 36,
    "start_time": "2022-09-13T16:43:47.120Z"
   }
  ],
  "kernelspec": {
   "display_name": "Python 3 (ipykernel)",
   "language": "python",
   "name": "python3"
  },
  "language_info": {
   "codemirror_mode": {
    "name": "ipython",
    "version": 3
   },
   "file_extension": ".py",
   "mimetype": "text/x-python",
   "name": "python",
   "nbconvert_exporter": "python",
   "pygments_lexer": "ipython3",
   "version": "3.9.5"
  },
  "toc": {
   "base_numbering": 1,
   "nav_menu": {},
   "number_sections": true,
   "sideBar": true,
   "skip_h1_title": true,
   "title_cell": "Table of Contents",
   "title_sidebar": "Contents",
   "toc_cell": false,
   "toc_position": {
    "height": "calc(100% - 180px)",
    "left": "10px",
    "top": "150px",
    "width": "165px"
   },
   "toc_section_display": true,
   "toc_window_display": false
  }
 },
 "nbformat": 4,
 "nbformat_minor": 5
}
