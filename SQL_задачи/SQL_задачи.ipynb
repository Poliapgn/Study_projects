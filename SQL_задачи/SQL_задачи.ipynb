{
 "cells": [
  {
   "cell_type": "markdown",
   "id": "24749ae8",
   "metadata": {},
   "source": [
    "# Проект по SQL\n",
    "- Задача — проанализировать базу данных. В ней — информация о книгах, издательствах, авторах, а также пользовательские обзоры - - книг. "
   ]
  },
  {
   "cell_type": "markdown",
   "id": "1d938582",
   "metadata": {},
   "source": [
    "# Задание\n",
    "- Посчитайте, сколько книг вышло после 1 января 2000 года;\n",
    "- Для каждой книги посчитайте количество обзоров и среднюю оценку;\n",
    "- Определите издательство, которое выпустило наибольшее число книг толще 50 страниц — так вы исключите из анализа брошюры;\n",
    "- Определите автора с самой высокой средней оценкой книг — учитывайте только книги с 50 и более оценками;\n",
    "- Посчитайте среднее количество обзоров от пользователей, которые поставили больше 50 оценок."
   ]
  },
  {
   "cell_type": "markdown",
   "id": "ba703a72",
   "metadata": {},
   "source": [
    "## Подключение к базе"
   ]
  },
  {
   "cell_type": "code",
   "execution_count": 17,
   "id": "8be1dd0d",
   "metadata": {},
   "outputs": [],
   "source": [
    "import pandas as pd\n",
    "from sqlalchemy import create_engine\n",
    "# устанавливаем параметры\n",
    "db_config = {'user': 'praktikum_student', # имя пользователя\n",
    "  'pwd': 'Sdf4$2;d-d30pp', # пароль\n",
    "  'host': 'rc1b-wcoijxj3yxfsf3fs.mdb.yandexcloud.net',\n",
    "  'port': 6432, # порт подключения\n",
    "  'db': 'data-analyst-final-project-db'} # название базы данных\n",
    "connection_string = 'postgresql://{}:{}@{}:{}/{}'.format(db_config['user'],\n",
    " db_config['pwd'],\n",
    " db_config['host'],\n",
    " db_config['port'],\n",
    " db_config['db'])\n",
    "# сохраняем коннектор\n",
    "engine = create_engine(connection_string, connect_args={'sslmode':'require'})\n"
   ]
  },
  {
   "cell_type": "markdown",
   "id": "a3cab79c",
   "metadata": {},
   "source": [
    "## Исследование таблиц"
   ]
  },
  {
   "cell_type": "markdown",
   "id": "58978d3c",
   "metadata": {},
   "source": [
    "### Исследуем таблицу books"
   ]
  },
  {
   "cell_type": "code",
   "execution_count": 18,
   "id": "18883cdd",
   "metadata": {
    "scrolled": true
   },
   "outputs": [
    {
     "data": {
      "text/html": [
       "<div>\n",
       "<style scoped>\n",
       "    .dataframe tbody tr th:only-of-type {\n",
       "        vertical-align: middle;\n",
       "    }\n",
       "\n",
       "    .dataframe tbody tr th {\n",
       "        vertical-align: top;\n",
       "    }\n",
       "\n",
       "    .dataframe thead th {\n",
       "        text-align: right;\n",
       "    }\n",
       "</style>\n",
       "<table border=\"1\" class=\"dataframe\">\n",
       "  <thead>\n",
       "    <tr style=\"text-align: right;\">\n",
       "      <th></th>\n",
       "      <th>book_id</th>\n",
       "      <th>author_id</th>\n",
       "      <th>title</th>\n",
       "      <th>num_pages</th>\n",
       "      <th>publication_date</th>\n",
       "      <th>publisher_id</th>\n",
       "    </tr>\n",
       "  </thead>\n",
       "  <tbody>\n",
       "    <tr>\n",
       "      <th>0</th>\n",
       "      <td>43</td>\n",
       "      <td>377</td>\n",
       "      <td>A Quick Bite (Argeneau #1)</td>\n",
       "      <td>360</td>\n",
       "      <td>2020-03-31</td>\n",
       "      <td>28</td>\n",
       "    </tr>\n",
       "    <tr>\n",
       "      <th>1</th>\n",
       "      <td>635</td>\n",
       "      <td>166</td>\n",
       "      <td>The Art of Loving</td>\n",
       "      <td>192</td>\n",
       "      <td>2019-08-06</td>\n",
       "      <td>130</td>\n",
       "    </tr>\n",
       "    <tr>\n",
       "      <th>2</th>\n",
       "      <td>445</td>\n",
       "      <td>612</td>\n",
       "      <td>Monster</td>\n",
       "      <td>281</td>\n",
       "      <td>2019-03-05</td>\n",
       "      <td>14</td>\n",
       "    </tr>\n",
       "    <tr>\n",
       "      <th>3</th>\n",
       "      <td>293</td>\n",
       "      <td>80</td>\n",
       "      <td>Ham on Rye</td>\n",
       "      <td>288</td>\n",
       "      <td>2014-07-29</td>\n",
       "      <td>99</td>\n",
       "    </tr>\n",
       "    <tr>\n",
       "      <th>4</th>\n",
       "      <td>993</td>\n",
       "      <td>80</td>\n",
       "      <td>Women</td>\n",
       "      <td>291</td>\n",
       "      <td>2014-07-29</td>\n",
       "      <td>99</td>\n",
       "    </tr>\n",
       "  </tbody>\n",
       "</table>\n",
       "</div>"
      ],
      "text/plain": [
       "   book_id  author_id                       title  num_pages publication_date  \\\n",
       "0       43        377  A Quick Bite (Argeneau #1)        360       2020-03-31   \n",
       "1      635        166           The Art of Loving        192       2019-08-06   \n",
       "2      445        612                     Monster        281       2019-03-05   \n",
       "3      293         80                  Ham on Rye        288       2014-07-29   \n",
       "4      993         80                       Women        291       2014-07-29   \n",
       "\n",
       "   publisher_id  \n",
       "0            28  \n",
       "1           130  \n",
       "2            14  \n",
       "3            99  \n",
       "4            99  "
      ]
     },
     "execution_count": 18,
     "metadata": {},
     "output_type": "execute_result"
    }
   ],
   "source": [
    "# Формируем sql-запрос.\n",
    "query = ''' SELECT *\n",
    "            FROM books\n",
    "            ORDER BY publication_date DESC\n",
    "            Limit 5\n",
    "        '''\n",
    "pd.io.sql.read_sql(query, con = engine) "
   ]
  },
  {
   "cell_type": "code",
   "execution_count": 19,
   "id": "3ac927c5",
   "metadata": {},
   "outputs": [
    {
     "name": "stdout",
     "output_type": "stream",
     "text": [
      "<class 'pandas.core.frame.DataFrame'>\n",
      "RangeIndex: 1000 entries, 0 to 999\n",
      "Data columns (total 6 columns):\n",
      " #   Column            Non-Null Count  Dtype \n",
      "---  ------            --------------  ----- \n",
      " 0   book_id           1000 non-null   int64 \n",
      " 1   author_id         1000 non-null   int64 \n",
      " 2   title             1000 non-null   object\n",
      " 3   num_pages         1000 non-null   int64 \n",
      " 4   publication_date  1000 non-null   object\n",
      " 5   publisher_id      1000 non-null   int64 \n",
      "dtypes: int64(4), object(2)\n",
      "memory usage: 47.0+ KB\n"
     ]
    }
   ],
   "source": [
    "# Формируем sql-запрос.\n",
    "query = ''' SELECT *\n",
    "            FROM books\n",
    "        '''\n",
    "books = pd.io.sql.read_sql(query, con = engine) \n",
    "books.info()"
   ]
  },
  {
   "cell_type": "markdown",
   "id": "3e9afb45",
   "metadata": {},
   "source": [
    "### Исследуем таблицу ratings"
   ]
  },
  {
   "cell_type": "code",
   "execution_count": 20,
   "id": "b80004ce",
   "metadata": {
    "scrolled": true
   },
   "outputs": [
    {
     "data": {
      "text/html": [
       "<div>\n",
       "<style scoped>\n",
       "    .dataframe tbody tr th:only-of-type {\n",
       "        vertical-align: middle;\n",
       "    }\n",
       "\n",
       "    .dataframe tbody tr th {\n",
       "        vertical-align: top;\n",
       "    }\n",
       "\n",
       "    .dataframe thead th {\n",
       "        text-align: right;\n",
       "    }\n",
       "</style>\n",
       "<table border=\"1\" class=\"dataframe\">\n",
       "  <thead>\n",
       "    <tr style=\"text-align: right;\">\n",
       "      <th></th>\n",
       "      <th>rating_id</th>\n",
       "      <th>book_id</th>\n",
       "      <th>username</th>\n",
       "      <th>rating</th>\n",
       "    </tr>\n",
       "  </thead>\n",
       "  <tbody>\n",
       "    <tr>\n",
       "      <th>0</th>\n",
       "      <td>1</td>\n",
       "      <td>1</td>\n",
       "      <td>ryanfranco</td>\n",
       "      <td>4</td>\n",
       "    </tr>\n",
       "    <tr>\n",
       "      <th>1</th>\n",
       "      <td>2</td>\n",
       "      <td>1</td>\n",
       "      <td>grantpatricia</td>\n",
       "      <td>2</td>\n",
       "    </tr>\n",
       "    <tr>\n",
       "      <th>2</th>\n",
       "      <td>3</td>\n",
       "      <td>1</td>\n",
       "      <td>brandtandrea</td>\n",
       "      <td>5</td>\n",
       "    </tr>\n",
       "    <tr>\n",
       "      <th>3</th>\n",
       "      <td>4</td>\n",
       "      <td>2</td>\n",
       "      <td>lorichen</td>\n",
       "      <td>3</td>\n",
       "    </tr>\n",
       "    <tr>\n",
       "      <th>4</th>\n",
       "      <td>5</td>\n",
       "      <td>2</td>\n",
       "      <td>mariokeller</td>\n",
       "      <td>2</td>\n",
       "    </tr>\n",
       "  </tbody>\n",
       "</table>\n",
       "</div>"
      ],
      "text/plain": [
       "   rating_id  book_id       username  rating\n",
       "0          1        1     ryanfranco       4\n",
       "1          2        1  grantpatricia       2\n",
       "2          3        1   brandtandrea       5\n",
       "3          4        2       lorichen       3\n",
       "4          5        2    mariokeller       2"
      ]
     },
     "execution_count": 20,
     "metadata": {},
     "output_type": "execute_result"
    }
   ],
   "source": [
    "# Формируем sql-запрос.\n",
    "query = ''' SELECT *\n",
    "            FROM ratings\n",
    "            Limit 5\n",
    "        '''\n",
    "pd.io.sql.read_sql(query, con = engine) "
   ]
  },
  {
   "cell_type": "code",
   "execution_count": 21,
   "id": "a9afb321",
   "metadata": {},
   "outputs": [
    {
     "name": "stdout",
     "output_type": "stream",
     "text": [
      "<class 'pandas.core.frame.DataFrame'>\n",
      "RangeIndex: 6456 entries, 0 to 6455\n",
      "Data columns (total 4 columns):\n",
      " #   Column     Non-Null Count  Dtype \n",
      "---  ------     --------------  ----- \n",
      " 0   rating_id  6456 non-null   int64 \n",
      " 1   book_id    6456 non-null   int64 \n",
      " 2   username   6456 non-null   object\n",
      " 3   rating     6456 non-null   int64 \n",
      "dtypes: int64(3), object(1)\n",
      "memory usage: 201.9+ KB\n"
     ]
    }
   ],
   "source": [
    "# Формируем sql-запрос.\n",
    "query = ''' SELECT *\n",
    "            FROM ratings\n",
    "        '''\n",
    "ratings = pd.io.sql.read_sql(query, con = engine) \n",
    "ratings.info()"
   ]
  },
  {
   "cell_type": "markdown",
   "id": "433d1e81",
   "metadata": {},
   "source": [
    "### Исследуем таблицу reviews"
   ]
  },
  {
   "cell_type": "code",
   "execution_count": 22,
   "id": "7c91d681",
   "metadata": {
    "scrolled": true
   },
   "outputs": [
    {
     "data": {
      "text/html": [
       "<div>\n",
       "<style scoped>\n",
       "    .dataframe tbody tr th:only-of-type {\n",
       "        vertical-align: middle;\n",
       "    }\n",
       "\n",
       "    .dataframe tbody tr th {\n",
       "        vertical-align: top;\n",
       "    }\n",
       "\n",
       "    .dataframe thead th {\n",
       "        text-align: right;\n",
       "    }\n",
       "</style>\n",
       "<table border=\"1\" class=\"dataframe\">\n",
       "  <thead>\n",
       "    <tr style=\"text-align: right;\">\n",
       "      <th></th>\n",
       "      <th>review_id</th>\n",
       "      <th>book_id</th>\n",
       "      <th>username</th>\n",
       "      <th>text</th>\n",
       "    </tr>\n",
       "  </thead>\n",
       "  <tbody>\n",
       "    <tr>\n",
       "      <th>0</th>\n",
       "      <td>1</td>\n",
       "      <td>1</td>\n",
       "      <td>brandtandrea</td>\n",
       "      <td>Mention society tell send professor analysis. ...</td>\n",
       "    </tr>\n",
       "    <tr>\n",
       "      <th>1</th>\n",
       "      <td>2</td>\n",
       "      <td>1</td>\n",
       "      <td>ryanfranco</td>\n",
       "      <td>Foot glass pretty audience hit themselves. Amo...</td>\n",
       "    </tr>\n",
       "    <tr>\n",
       "      <th>2</th>\n",
       "      <td>3</td>\n",
       "      <td>2</td>\n",
       "      <td>lorichen</td>\n",
       "      <td>Listen treat keep worry. Miss husband tax but ...</td>\n",
       "    </tr>\n",
       "    <tr>\n",
       "      <th>3</th>\n",
       "      <td>4</td>\n",
       "      <td>3</td>\n",
       "      <td>johnsonamanda</td>\n",
       "      <td>Finally month interesting blue could nature cu...</td>\n",
       "    </tr>\n",
       "    <tr>\n",
       "      <th>4</th>\n",
       "      <td>5</td>\n",
       "      <td>3</td>\n",
       "      <td>scotttamara</td>\n",
       "      <td>Nation purpose heavy give wait song will. List...</td>\n",
       "    </tr>\n",
       "  </tbody>\n",
       "</table>\n",
       "</div>"
      ],
      "text/plain": [
       "   review_id  book_id       username  \\\n",
       "0          1        1   brandtandrea   \n",
       "1          2        1     ryanfranco   \n",
       "2          3        2       lorichen   \n",
       "3          4        3  johnsonamanda   \n",
       "4          5        3    scotttamara   \n",
       "\n",
       "                                                text  \n",
       "0  Mention society tell send professor analysis. ...  \n",
       "1  Foot glass pretty audience hit themselves. Amo...  \n",
       "2  Listen treat keep worry. Miss husband tax but ...  \n",
       "3  Finally month interesting blue could nature cu...  \n",
       "4  Nation purpose heavy give wait song will. List...  "
      ]
     },
     "execution_count": 22,
     "metadata": {},
     "output_type": "execute_result"
    }
   ],
   "source": [
    "# Формируем sql-запрос.\n",
    "query = ''' SELECT *\n",
    "            FROM reviews\n",
    "            LIMIT 5\n",
    "        '''\n",
    "pd.io.sql.read_sql(query, con = engine) "
   ]
  },
  {
   "cell_type": "code",
   "execution_count": 23,
   "id": "b0fe2611",
   "metadata": {},
   "outputs": [
    {
     "name": "stdout",
     "output_type": "stream",
     "text": [
      "<class 'pandas.core.frame.DataFrame'>\n",
      "RangeIndex: 2793 entries, 0 to 2792\n",
      "Data columns (total 4 columns):\n",
      " #   Column     Non-Null Count  Dtype \n",
      "---  ------     --------------  ----- \n",
      " 0   review_id  2793 non-null   int64 \n",
      " 1   book_id    2793 non-null   int64 \n",
      " 2   username   2793 non-null   object\n",
      " 3   text       2793 non-null   object\n",
      "dtypes: int64(2), object(2)\n",
      "memory usage: 87.4+ KB\n"
     ]
    }
   ],
   "source": [
    "# Формируем sql-запрос.\n",
    "query = ''' SELECT *\n",
    "            FROM reviews\n",
    "        '''\n",
    "reviews = pd.io.sql.read_sql(query, con = engine) \n",
    "reviews.info()"
   ]
  },
  {
   "cell_type": "markdown",
   "id": "b6c20742",
   "metadata": {},
   "source": [
    "Проверяем, может ли приходится 2 автора на 1 ревью "
   ]
  },
  {
   "cell_type": "code",
   "execution_count": 24,
   "id": "047371d3",
   "metadata": {},
   "outputs": [
    {
     "data": {
      "text/html": [
       "<div>\n",
       "<style scoped>\n",
       "    .dataframe tbody tr th:only-of-type {\n",
       "        vertical-align: middle;\n",
       "    }\n",
       "\n",
       "    .dataframe tbody tr th {\n",
       "        vertical-align: top;\n",
       "    }\n",
       "\n",
       "    .dataframe thead th {\n",
       "        text-align: right;\n",
       "    }\n",
       "</style>\n",
       "<table border=\"1\" class=\"dataframe\">\n",
       "  <thead>\n",
       "    <tr style=\"text-align: right;\">\n",
       "      <th></th>\n",
       "      <th>review_id</th>\n",
       "      <th>count</th>\n",
       "    </tr>\n",
       "  </thead>\n",
       "  <tbody>\n",
       "  </tbody>\n",
       "</table>\n",
       "</div>"
      ],
      "text/plain": [
       "Empty DataFrame\n",
       "Columns: [review_id, count]\n",
       "Index: []"
      ]
     },
     "execution_count": 24,
     "metadata": {},
     "output_type": "execute_result"
    }
   ],
   "source": [
    "# Формируем sql-запрос.\n",
    "query = ''' SELECT review_id, count(username)\n",
    "            FROM reviews\n",
    "            group by review_id\n",
    "            HAVING count(username)>1\n",
    "            '''\n",
    "pd.io.sql.read_sql(query, con = engine) "
   ]
  },
  {
   "cell_type": "markdown",
   "id": "e8ab9d33",
   "metadata": {},
   "source": [
    "Проверяем, может ли приходится 1 автор на несколько ревью"
   ]
  },
  {
   "cell_type": "code",
   "execution_count": 25,
   "id": "8cb13e24",
   "metadata": {},
   "outputs": [
    {
     "data": {
      "text/html": [
       "<div>\n",
       "<style scoped>\n",
       "    .dataframe tbody tr th:only-of-type {\n",
       "        vertical-align: middle;\n",
       "    }\n",
       "\n",
       "    .dataframe tbody tr th {\n",
       "        vertical-align: top;\n",
       "    }\n",
       "\n",
       "    .dataframe thead th {\n",
       "        text-align: right;\n",
       "    }\n",
       "</style>\n",
       "<table border=\"1\" class=\"dataframe\">\n",
       "  <thead>\n",
       "    <tr style=\"text-align: right;\">\n",
       "      <th></th>\n",
       "      <th>username</th>\n",
       "      <th>count</th>\n",
       "    </tr>\n",
       "  </thead>\n",
       "  <tbody>\n",
       "    <tr>\n",
       "      <th>0</th>\n",
       "      <td>zjohnston</td>\n",
       "      <td>14</td>\n",
       "    </tr>\n",
       "    <tr>\n",
       "      <th>1</th>\n",
       "      <td>jnelson</td>\n",
       "      <td>21</td>\n",
       "    </tr>\n",
       "    <tr>\n",
       "      <th>2</th>\n",
       "      <td>lewisdesiree</td>\n",
       "      <td>19</td>\n",
       "    </tr>\n",
       "    <tr>\n",
       "      <th>3</th>\n",
       "      <td>patrickhudson</td>\n",
       "      <td>15</td>\n",
       "    </tr>\n",
       "    <tr>\n",
       "      <th>4</th>\n",
       "      <td>ulowe</td>\n",
       "      <td>16</td>\n",
       "    </tr>\n",
       "    <tr>\n",
       "      <th>...</th>\n",
       "      <td>...</td>\n",
       "      <td>...</td>\n",
       "    </tr>\n",
       "    <tr>\n",
       "      <th>155</th>\n",
       "      <td>shermannatalie</td>\n",
       "      <td>24</td>\n",
       "    </tr>\n",
       "    <tr>\n",
       "      <th>156</th>\n",
       "      <td>dmiller</td>\n",
       "      <td>18</td>\n",
       "    </tr>\n",
       "    <tr>\n",
       "      <th>157</th>\n",
       "      <td>charlesraymond</td>\n",
       "      <td>16</td>\n",
       "    </tr>\n",
       "    <tr>\n",
       "      <th>158</th>\n",
       "      <td>isaiahreyes</td>\n",
       "      <td>15</td>\n",
       "    </tr>\n",
       "    <tr>\n",
       "      <th>159</th>\n",
       "      <td>masonsara</td>\n",
       "      <td>14</td>\n",
       "    </tr>\n",
       "  </tbody>\n",
       "</table>\n",
       "<p>160 rows × 2 columns</p>\n",
       "</div>"
      ],
      "text/plain": [
       "           username  count\n",
       "0         zjohnston     14\n",
       "1           jnelson     21\n",
       "2      lewisdesiree     19\n",
       "3     patrickhudson     15\n",
       "4             ulowe     16\n",
       "..              ...    ...\n",
       "155  shermannatalie     24\n",
       "156         dmiller     18\n",
       "157  charlesraymond     16\n",
       "158     isaiahreyes     15\n",
       "159       masonsara     14\n",
       "\n",
       "[160 rows x 2 columns]"
      ]
     },
     "execution_count": 25,
     "metadata": {},
     "output_type": "execute_result"
    }
   ],
   "source": [
    "# Формируем sql-запрос.\n",
    "query = ''' SELECT username, count(review_id)\n",
    "            FROM reviews\n",
    "            group by username\n",
    "            HAVING count(review_id)>1\n",
    "            '''\n",
    "pd.io.sql.read_sql(query, con = engine) "
   ]
  },
  {
   "cell_type": "markdown",
   "id": "d50426aa",
   "metadata": {},
   "source": [
    "Проверяем, может ли приходится несколько ревью на 1 книгу"
   ]
  },
  {
   "cell_type": "code",
   "execution_count": 26,
   "id": "b50c85d6",
   "metadata": {},
   "outputs": [
    {
     "data": {
      "text/html": [
       "<div>\n",
       "<style scoped>\n",
       "    .dataframe tbody tr th:only-of-type {\n",
       "        vertical-align: middle;\n",
       "    }\n",
       "\n",
       "    .dataframe tbody tr th {\n",
       "        vertical-align: top;\n",
       "    }\n",
       "\n",
       "    .dataframe thead th {\n",
       "        text-align: right;\n",
       "    }\n",
       "</style>\n",
       "<table border=\"1\" class=\"dataframe\">\n",
       "  <thead>\n",
       "    <tr style=\"text-align: right;\">\n",
       "      <th></th>\n",
       "      <th>book_id</th>\n",
       "      <th>count</th>\n",
       "    </tr>\n",
       "  </thead>\n",
       "  <tbody>\n",
       "    <tr>\n",
       "      <th>0</th>\n",
       "      <td>652</td>\n",
       "      <td>2</td>\n",
       "    </tr>\n",
       "    <tr>\n",
       "      <th>1</th>\n",
       "      <td>273</td>\n",
       "      <td>2</td>\n",
       "    </tr>\n",
       "    <tr>\n",
       "      <th>2</th>\n",
       "      <td>51</td>\n",
       "      <td>5</td>\n",
       "    </tr>\n",
       "    <tr>\n",
       "      <th>3</th>\n",
       "      <td>951</td>\n",
       "      <td>2</td>\n",
       "    </tr>\n",
       "    <tr>\n",
       "      <th>4</th>\n",
       "      <td>839</td>\n",
       "      <td>4</td>\n",
       "    </tr>\n",
       "    <tr>\n",
       "      <th>...</th>\n",
       "      <td>...</td>\n",
       "      <td>...</td>\n",
       "    </tr>\n",
       "    <tr>\n",
       "      <th>952</th>\n",
       "      <td>64</td>\n",
       "      <td>4</td>\n",
       "    </tr>\n",
       "    <tr>\n",
       "      <th>953</th>\n",
       "      <td>55</td>\n",
       "      <td>2</td>\n",
       "    </tr>\n",
       "    <tr>\n",
       "      <th>954</th>\n",
       "      <td>148</td>\n",
       "      <td>3</td>\n",
       "    </tr>\n",
       "    <tr>\n",
       "      <th>955</th>\n",
       "      <td>790</td>\n",
       "      <td>2</td>\n",
       "    </tr>\n",
       "    <tr>\n",
       "      <th>956</th>\n",
       "      <td>828</td>\n",
       "      <td>2</td>\n",
       "    </tr>\n",
       "  </tbody>\n",
       "</table>\n",
       "<p>957 rows × 2 columns</p>\n",
       "</div>"
      ],
      "text/plain": [
       "     book_id  count\n",
       "0        652      2\n",
       "1        273      2\n",
       "2         51      5\n",
       "3        951      2\n",
       "4        839      4\n",
       "..       ...    ...\n",
       "952       64      4\n",
       "953       55      2\n",
       "954      148      3\n",
       "955      790      2\n",
       "956      828      2\n",
       "\n",
       "[957 rows x 2 columns]"
      ]
     },
     "execution_count": 26,
     "metadata": {},
     "output_type": "execute_result"
    }
   ],
   "source": [
    "# Формируем sql-запрос.\n",
    "query = ''' SELECT book_id, count(review_id)\n",
    "            FROM reviews\n",
    "            group by book_id\n",
    "            HAVING count(review_id)>1\n",
    "            '''\n",
    "pd.io.sql.read_sql(query, con = engine) "
   ]
  },
  {
   "cell_type": "markdown",
   "id": "c16f63a2",
   "metadata": {},
   "source": [
    "### Исследуем таблицу publishers"
   ]
  },
  {
   "cell_type": "code",
   "execution_count": 27,
   "id": "8b868020",
   "metadata": {
    "scrolled": false
   },
   "outputs": [
    {
     "data": {
      "text/html": [
       "<div>\n",
       "<style scoped>\n",
       "    .dataframe tbody tr th:only-of-type {\n",
       "        vertical-align: middle;\n",
       "    }\n",
       "\n",
       "    .dataframe tbody tr th {\n",
       "        vertical-align: top;\n",
       "    }\n",
       "\n",
       "    .dataframe thead th {\n",
       "        text-align: right;\n",
       "    }\n",
       "</style>\n",
       "<table border=\"1\" class=\"dataframe\">\n",
       "  <thead>\n",
       "    <tr style=\"text-align: right;\">\n",
       "      <th></th>\n",
       "      <th>publisher_id</th>\n",
       "      <th>publisher</th>\n",
       "    </tr>\n",
       "  </thead>\n",
       "  <tbody>\n",
       "    <tr>\n",
       "      <th>0</th>\n",
       "      <td>1</td>\n",
       "      <td>Ace</td>\n",
       "    </tr>\n",
       "    <tr>\n",
       "      <th>1</th>\n",
       "      <td>2</td>\n",
       "      <td>Ace Book</td>\n",
       "    </tr>\n",
       "    <tr>\n",
       "      <th>2</th>\n",
       "      <td>3</td>\n",
       "      <td>Ace Books</td>\n",
       "    </tr>\n",
       "    <tr>\n",
       "      <th>3</th>\n",
       "      <td>4</td>\n",
       "      <td>Ace Hardcover</td>\n",
       "    </tr>\n",
       "    <tr>\n",
       "      <th>4</th>\n",
       "      <td>5</td>\n",
       "      <td>Addison Wesley Publishing Company</td>\n",
       "    </tr>\n",
       "  </tbody>\n",
       "</table>\n",
       "</div>"
      ],
      "text/plain": [
       "   publisher_id                          publisher\n",
       "0             1                                Ace\n",
       "1             2                           Ace Book\n",
       "2             3                          Ace Books\n",
       "3             4                      Ace Hardcover\n",
       "4             5  Addison Wesley Publishing Company"
      ]
     },
     "execution_count": 27,
     "metadata": {},
     "output_type": "execute_result"
    }
   ],
   "source": [
    "query = ''' SELECT *\n",
    "            FROM publishers\n",
    "            Limit 5\n",
    "        '''\n",
    "pd.io.sql.read_sql(query, con = engine) "
   ]
  },
  {
   "cell_type": "code",
   "execution_count": 28,
   "id": "bc3005a6",
   "metadata": {},
   "outputs": [
    {
     "name": "stdout",
     "output_type": "stream",
     "text": [
      "<class 'pandas.core.frame.DataFrame'>\n",
      "RangeIndex: 340 entries, 0 to 339\n",
      "Data columns (total 2 columns):\n",
      " #   Column        Non-Null Count  Dtype \n",
      "---  ------        --------------  ----- \n",
      " 0   publisher_id  340 non-null    int64 \n",
      " 1   publisher     340 non-null    object\n",
      "dtypes: int64(1), object(1)\n",
      "memory usage: 5.4+ KB\n"
     ]
    }
   ],
   "source": [
    "# Формируем sql-запрос.\n",
    "query = ''' SELECT *\n",
    "            FROM publishers\n",
    "        '''\n",
    "publishers = pd.io.sql.read_sql(query, con = engine) \n",
    "publishers.info()"
   ]
  },
  {
   "cell_type": "markdown",
   "id": "8f38d9b0",
   "metadata": {},
   "source": [
    "### Исследуем таблицу authors"
   ]
  },
  {
   "cell_type": "code",
   "execution_count": 29,
   "id": "070948ce",
   "metadata": {},
   "outputs": [
    {
     "data": {
      "text/html": [
       "<div>\n",
       "<style scoped>\n",
       "    .dataframe tbody tr th:only-of-type {\n",
       "        vertical-align: middle;\n",
       "    }\n",
       "\n",
       "    .dataframe tbody tr th {\n",
       "        vertical-align: top;\n",
       "    }\n",
       "\n",
       "    .dataframe thead th {\n",
       "        text-align: right;\n",
       "    }\n",
       "</style>\n",
       "<table border=\"1\" class=\"dataframe\">\n",
       "  <thead>\n",
       "    <tr style=\"text-align: right;\">\n",
       "      <th></th>\n",
       "      <th>author_id</th>\n",
       "      <th>author</th>\n",
       "    </tr>\n",
       "  </thead>\n",
       "  <tbody>\n",
       "    <tr>\n",
       "      <th>0</th>\n",
       "      <td>1</td>\n",
       "      <td>A.S. Byatt</td>\n",
       "    </tr>\n",
       "    <tr>\n",
       "      <th>1</th>\n",
       "      <td>2</td>\n",
       "      <td>Aesop/Laura Harris/Laura Gibbs</td>\n",
       "    </tr>\n",
       "    <tr>\n",
       "      <th>2</th>\n",
       "      <td>3</td>\n",
       "      <td>Agatha Christie</td>\n",
       "    </tr>\n",
       "    <tr>\n",
       "      <th>3</th>\n",
       "      <td>4</td>\n",
       "      <td>Alan Brennert</td>\n",
       "    </tr>\n",
       "    <tr>\n",
       "      <th>4</th>\n",
       "      <td>5</td>\n",
       "      <td>Alan Moore/David   Lloyd</td>\n",
       "    </tr>\n",
       "  </tbody>\n",
       "</table>\n",
       "</div>"
      ],
      "text/plain": [
       "   author_id                          author\n",
       "0          1                      A.S. Byatt\n",
       "1          2  Aesop/Laura Harris/Laura Gibbs\n",
       "2          3                 Agatha Christie\n",
       "3          4                   Alan Brennert\n",
       "4          5        Alan Moore/David   Lloyd"
      ]
     },
     "execution_count": 29,
     "metadata": {},
     "output_type": "execute_result"
    }
   ],
   "source": [
    "query = ''' SELECT *\n",
    "            FROM authors\n",
    "            Limit 5\n",
    "        '''\n",
    "pd.io.sql.read_sql(query, con = engine) "
   ]
  },
  {
   "cell_type": "code",
   "execution_count": 30,
   "id": "48d174b2",
   "metadata": {},
   "outputs": [
    {
     "name": "stdout",
     "output_type": "stream",
     "text": [
      "<class 'pandas.core.frame.DataFrame'>\n",
      "RangeIndex: 636 entries, 0 to 635\n",
      "Data columns (total 2 columns):\n",
      " #   Column     Non-Null Count  Dtype \n",
      "---  ------     --------------  ----- \n",
      " 0   author_id  636 non-null    int64 \n",
      " 1   author     636 non-null    object\n",
      "dtypes: int64(1), object(1)\n",
      "memory usage: 10.1+ KB\n"
     ]
    }
   ],
   "source": [
    "# Формируем sql-запрос.\n",
    "query = ''' SELECT *\n",
    "            FROM authors\n",
    "        '''\n",
    "publishers = pd.io.sql.read_sql(query, con = engine) \n",
    "publishers.info()"
   ]
  },
  {
   "cell_type": "markdown",
   "id": "87c37fa8",
   "metadata": {},
   "source": [
    "## Задание"
   ]
  },
  {
   "cell_type": "markdown",
   "id": "2565f9bb",
   "metadata": {},
   "source": [
    "Посчитайте, сколько книг вышло после 1 января 2000 года;\n"
   ]
  },
  {
   "cell_type": "code",
   "execution_count": 31,
   "id": "2f1919e6",
   "metadata": {},
   "outputs": [
    {
     "data": {
      "text/html": [
       "<div>\n",
       "<style scoped>\n",
       "    .dataframe tbody tr th:only-of-type {\n",
       "        vertical-align: middle;\n",
       "    }\n",
       "\n",
       "    .dataframe tbody tr th {\n",
       "        vertical-align: top;\n",
       "    }\n",
       "\n",
       "    .dataframe thead th {\n",
       "        text-align: right;\n",
       "    }\n",
       "</style>\n",
       "<table border=\"1\" class=\"dataframe\">\n",
       "  <thead>\n",
       "    <tr style=\"text-align: right;\">\n",
       "      <th></th>\n",
       "      <th>count</th>\n",
       "    </tr>\n",
       "  </thead>\n",
       "  <tbody>\n",
       "    <tr>\n",
       "      <th>0</th>\n",
       "      <td>819</td>\n",
       "    </tr>\n",
       "  </tbody>\n",
       "</table>\n",
       "</div>"
      ],
      "text/plain": [
       "   count\n",
       "0    819"
      ]
     },
     "execution_count": 31,
     "metadata": {},
     "output_type": "execute_result"
    }
   ],
   "source": [
    "query = ''' SELECT count(book_id)\n",
    "            FROM books\n",
    "            Where publication_date >'2000-01-01'\n",
    "            '''\n",
    "\n",
    "pd.io.sql.read_sql(query, con = engine)\n"
   ]
  },
  {
   "cell_type": "markdown",
   "id": "1ce4d741",
   "metadata": {},
   "source": [
    "После 1 января 2000 года вышло 819 книг"
   ]
  },
  {
   "cell_type": "markdown",
   "id": "f346b4b2",
   "metadata": {},
   "source": [
    "Для каждой книги посчитайте количество обзоров и среднюю оценку"
   ]
  },
  {
   "cell_type": "code",
   "execution_count": 32,
   "id": "05f987bc",
   "metadata": {},
   "outputs": [
    {
     "data": {
      "text/html": [
       "<div>\n",
       "<style scoped>\n",
       "    .dataframe tbody tr th:only-of-type {\n",
       "        vertical-align: middle;\n",
       "    }\n",
       "\n",
       "    .dataframe tbody tr th {\n",
       "        vertical-align: top;\n",
       "    }\n",
       "\n",
       "    .dataframe thead th {\n",
       "        text-align: right;\n",
       "    }\n",
       "</style>\n",
       "<table border=\"1\" class=\"dataframe\">\n",
       "  <thead>\n",
       "    <tr style=\"text-align: right;\">\n",
       "      <th></th>\n",
       "      <th>book_id</th>\n",
       "      <th>review</th>\n",
       "      <th>rating</th>\n",
       "    </tr>\n",
       "  </thead>\n",
       "  <tbody>\n",
       "    <tr>\n",
       "      <th>0</th>\n",
       "      <td>948</td>\n",
       "      <td>7.0</td>\n",
       "      <td>3.662500</td>\n",
       "    </tr>\n",
       "    <tr>\n",
       "      <th>1</th>\n",
       "      <td>854</td>\n",
       "      <td>6.0</td>\n",
       "      <td>3.772727</td>\n",
       "    </tr>\n",
       "    <tr>\n",
       "      <th>2</th>\n",
       "      <td>627</td>\n",
       "      <td>6.0</td>\n",
       "      <td>3.789474</td>\n",
       "    </tr>\n",
       "    <tr>\n",
       "      <th>3</th>\n",
       "      <td>695</td>\n",
       "      <td>6.0</td>\n",
       "      <td>4.081081</td>\n",
       "    </tr>\n",
       "    <tr>\n",
       "      <th>4</th>\n",
       "      <td>733</td>\n",
       "      <td>6.0</td>\n",
       "      <td>3.750000</td>\n",
       "    </tr>\n",
       "    <tr>\n",
       "      <th>...</th>\n",
       "      <td>...</td>\n",
       "      <td>...</td>\n",
       "      <td>...</td>\n",
       "    </tr>\n",
       "    <tr>\n",
       "      <th>995</th>\n",
       "      <td>672</td>\n",
       "      <td>NaN</td>\n",
       "      <td>5.000000</td>\n",
       "    </tr>\n",
       "    <tr>\n",
       "      <th>996</th>\n",
       "      <td>191</td>\n",
       "      <td>NaN</td>\n",
       "      <td>4.000000</td>\n",
       "    </tr>\n",
       "    <tr>\n",
       "      <th>997</th>\n",
       "      <td>221</td>\n",
       "      <td>NaN</td>\n",
       "      <td>4.000000</td>\n",
       "    </tr>\n",
       "    <tr>\n",
       "      <th>998</th>\n",
       "      <td>83</td>\n",
       "      <td>NaN</td>\n",
       "      <td>3.666667</td>\n",
       "    </tr>\n",
       "    <tr>\n",
       "      <th>999</th>\n",
       "      <td>808</td>\n",
       "      <td>NaN</td>\n",
       "      <td>3.000000</td>\n",
       "    </tr>\n",
       "  </tbody>\n",
       "</table>\n",
       "<p>1000 rows × 3 columns</p>\n",
       "</div>"
      ],
      "text/plain": [
       "     book_id  review    rating\n",
       "0        948     7.0  3.662500\n",
       "1        854     6.0  3.772727\n",
       "2        627     6.0  3.789474\n",
       "3        695     6.0  4.081081\n",
       "4        733     6.0  3.750000\n",
       "..       ...     ...       ...\n",
       "995      672     NaN  5.000000\n",
       "996      191     NaN  4.000000\n",
       "997      221     NaN  4.000000\n",
       "998       83     NaN  3.666667\n",
       "999      808     NaN  3.000000\n",
       "\n",
       "[1000 rows x 3 columns]"
      ]
     },
     "execution_count": 32,
     "metadata": {},
     "output_type": "execute_result"
    }
   ],
   "source": [
    "query = ''' WITH\n",
    "            R AS (SELECT r.book_id as book, count(r.review_id) as review\n",
    "            FROM reviews as r\n",
    "            GROUP BY r.book_id),\n",
    "            \n",
    "            \n",
    "            RA AS (SELECT ra.book_id as book, AVG(ra.rating) as rating\n",
    "            FROM ratings as ra\n",
    "            GROUP BY ra.book_id)\n",
    "            \n",
    "            \n",
    "            SELECT b.book_id, R.review, RA.rating\n",
    "            FROM  books as b\n",
    "            LEFT JOIN R\n",
    "            ON b.book_id=R.book\n",
    "            LEFT JOIN RA\n",
    "            ON b.book_id=RA.book\n",
    "            ORDER BY R.review DESC NULLS LAST\n",
    "            \n",
    "       '''\n",
    "pd.io.sql.read_sql(query, con = engine)"
   ]
  },
  {
   "cell_type": "code",
   "execution_count": 33,
   "id": "8f544742",
   "metadata": {},
   "outputs": [
    {
     "data": {
      "text/html": [
       "<div>\n",
       "<style scoped>\n",
       "    .dataframe tbody tr th:only-of-type {\n",
       "        vertical-align: middle;\n",
       "    }\n",
       "\n",
       "    .dataframe tbody tr th {\n",
       "        vertical-align: top;\n",
       "    }\n",
       "\n",
       "    .dataframe thead th {\n",
       "        text-align: right;\n",
       "    }\n",
       "</style>\n",
       "<table border=\"1\" class=\"dataframe\">\n",
       "  <thead>\n",
       "    <tr style=\"text-align: right;\">\n",
       "      <th></th>\n",
       "      <th>count</th>\n",
       "    </tr>\n",
       "  </thead>\n",
       "  <tbody>\n",
       "    <tr>\n",
       "      <th>0</th>\n",
       "      <td>2793</td>\n",
       "    </tr>\n",
       "  </tbody>\n",
       "</table>\n",
       "</div>"
      ],
      "text/plain": [
       "   count\n",
       "0   2793"
      ]
     },
     "execution_count": 33,
     "metadata": {},
     "output_type": "execute_result"
    }
   ],
   "source": [
    "query = ''' SELECT COUNT(DISTINCT r.review_id) \n",
    "            FROM reviews as r\n",
    "           \n",
    "       '''\n",
    "pd.io.sql.read_sql(query, con = engine)"
   ]
  },
  {
   "cell_type": "code",
   "execution_count": 34,
   "id": "17f0478e",
   "metadata": {},
   "outputs": [
    {
     "data": {
      "text/html": [
       "<div>\n",
       "<style scoped>\n",
       "    .dataframe tbody tr th:only-of-type {\n",
       "        vertical-align: middle;\n",
       "    }\n",
       "\n",
       "    .dataframe tbody tr th {\n",
       "        vertical-align: top;\n",
       "    }\n",
       "\n",
       "    .dataframe thead th {\n",
       "        text-align: right;\n",
       "    }\n",
       "</style>\n",
       "<table border=\"1\" class=\"dataframe\">\n",
       "  <thead>\n",
       "    <tr style=\"text-align: right;\">\n",
       "      <th></th>\n",
       "      <th>count</th>\n",
       "    </tr>\n",
       "  </thead>\n",
       "  <tbody>\n",
       "    <tr>\n",
       "      <th>0</th>\n",
       "      <td>2793</td>\n",
       "    </tr>\n",
       "  </tbody>\n",
       "</table>\n",
       "</div>"
      ],
      "text/plain": [
       "   count\n",
       "0   2793"
      ]
     },
     "execution_count": 34,
     "metadata": {},
     "output_type": "execute_result"
    }
   ],
   "source": [
    "query = ''' SELECT COUNT(DISTINCT r.review_id) \n",
    "            FROM reviews as r\n",
    "           \n",
    "       '''\n",
    "pd.io.sql.read_sql(query, con = engine)"
   ]
  },
  {
   "cell_type": "markdown",
   "id": "932e6ed1",
   "metadata": {},
   "source": [
    "Посчитали кол-во обзоров для каждой книги. Максимальное кол-во=7, минимальное=1.Максимальная оценка=5, минимальная=1,5. Не на все книги есть информация об отзывах"
   ]
  },
  {
   "cell_type": "markdown",
   "id": "6a73634a",
   "metadata": {},
   "source": [
    "Определите издательство, которое выпустило наибольшее число книг толще\n",
    "50 страниц — так вы исключите из анализа брошюры;\n"
   ]
  },
  {
   "cell_type": "code",
   "execution_count": 148,
   "id": "11b0d4a1",
   "metadata": {},
   "outputs": [
    {
     "data": {
      "text/html": [
       "<div>\n",
       "<style scoped>\n",
       "    .dataframe tbody tr th:only-of-type {\n",
       "        vertical-align: middle;\n",
       "    }\n",
       "\n",
       "    .dataframe tbody tr th {\n",
       "        vertical-align: top;\n",
       "    }\n",
       "\n",
       "    .dataframe thead th {\n",
       "        text-align: right;\n",
       "    }\n",
       "</style>\n",
       "<table border=\"1\" class=\"dataframe\">\n",
       "  <thead>\n",
       "    <tr style=\"text-align: right;\">\n",
       "      <th></th>\n",
       "      <th>publisher</th>\n",
       "    </tr>\n",
       "  </thead>\n",
       "  <tbody>\n",
       "    <tr>\n",
       "      <th>0</th>\n",
       "      <td>Penguin Books</td>\n",
       "    </tr>\n",
       "  </tbody>\n",
       "</table>\n",
       "</div>"
      ],
      "text/plain": [
       "       publisher\n",
       "0  Penguin Books"
      ]
     },
     "execution_count": 148,
     "metadata": {},
     "output_type": "execute_result"
    }
   ],
   "source": [
    "query = '''WITH\n",
    "            H AS (SELECT p.publisher, count(b.book_id) as count\n",
    "            FROM publishers as p\n",
    "            LEFT OUTER JOIN books as b\n",
    "            ON p.publisher_id=b.publisher_id\n",
    "            WHERE b.num_pages>50\n",
    "            GROUP BY p.publisher_id)\n",
    "           \n",
    "           SELECT h.publisher\n",
    "           FROM H\n",
    "           WHERE count=(SELECT max(count) FROM H)\n",
    "           \n",
    "       '''\n",
    "pd.io.sql.read_sql(query, con = engine)"
   ]
  },
  {
   "cell_type": "markdown",
   "id": "fea890dc",
   "metadata": {},
   "source": [
    "Издательство, которое выпустило наибольшее число книг толще 50 страниц,- Penguin Books"
   ]
  },
  {
   "cell_type": "markdown",
   "id": "fdbb18a7",
   "metadata": {},
   "source": [
    "Определите автора с самой высокой средней оценкой книг — учитывайте\n",
    "только книги с 50 и более оценками;\n"
   ]
  },
  {
   "cell_type": "code",
   "execution_count": 149,
   "id": "9b20ee20",
   "metadata": {},
   "outputs": [
    {
     "data": {
      "text/html": [
       "<div>\n",
       "<style scoped>\n",
       "    .dataframe tbody tr th:only-of-type {\n",
       "        vertical-align: middle;\n",
       "    }\n",
       "\n",
       "    .dataframe tbody tr th {\n",
       "        vertical-align: top;\n",
       "    }\n",
       "\n",
       "    .dataframe thead th {\n",
       "        text-align: right;\n",
       "    }\n",
       "</style>\n",
       "<table border=\"1\" class=\"dataframe\">\n",
       "  <thead>\n",
       "    <tr style=\"text-align: right;\">\n",
       "      <th></th>\n",
       "      <th>author</th>\n",
       "    </tr>\n",
       "  </thead>\n",
       "  <tbody>\n",
       "    <tr>\n",
       "      <th>0</th>\n",
       "      <td>J.K. Rowling/Mary GrandPré</td>\n",
       "    </tr>\n",
       "  </tbody>\n",
       "</table>\n",
       "</div>"
      ],
      "text/plain": [
       "                       author\n",
       "0  J.K. Rowling/Mary GrandPré"
      ]
     },
     "execution_count": 149,
     "metadata": {},
     "output_type": "execute_result"
    }
   ],
   "source": [
    "query = '''WITH\n",
    "            B AS (SELECT b.book_id as book,\n",
    "            count(ra.username) as count\n",
    "            \n",
    "            FROM books as b\n",
    "            LEFT OUTER JOIN ratings as ra\n",
    "            ON b.book_id=ra.book_id\n",
    "            GROUP BY b.book_id\n",
    "            HAVING count(ra.username)>=50)\n",
    "            \n",
    "            SELECT a.author\n",
    "            FROM authors as a\n",
    "            INNER JOIN books as b\n",
    "            ON  a.author_id=b.author_id\n",
    "            INNER JOIN ratings as ra\n",
    "            ON b.book_id=ra.book_id\n",
    "            WHERE b.book_id in (SELECT B.book FROM B)\n",
    "            GROUP BY a.author\n",
    "            ORDER BY avg(ra.rating) desc\n",
    "            LIMIT 1\n",
    "            \n",
    "          \n",
    "       '''\n",
    "pd.io.sql.read_sql(query, con = engine)"
   ]
  },
  {
   "cell_type": "markdown",
   "id": "7dffe06d",
   "metadata": {},
   "source": [
    "Автор с самой высокой средней оценкой книг — учитывайте\n",
    "только книги с 50 и более оценками,-J.K. Rowling/Mary GrandPré\n"
   ]
  },
  {
   "cell_type": "markdown",
   "id": "0dfcb586",
   "metadata": {},
   "source": [
    "Посчитайте среднее количество обзоров от пользователей, которые поставили\n",
    "больше 50 оценок."
   ]
  },
  {
   "cell_type": "code",
   "execution_count": 150,
   "id": "10c53e5f",
   "metadata": {
    "scrolled": false
   },
   "outputs": [
    {
     "data": {
      "text/html": [
       "<div>\n",
       "<style scoped>\n",
       "    .dataframe tbody tr th:only-of-type {\n",
       "        vertical-align: middle;\n",
       "    }\n",
       "\n",
       "    .dataframe tbody tr th {\n",
       "        vertical-align: top;\n",
       "    }\n",
       "\n",
       "    .dataframe thead th {\n",
       "        text-align: right;\n",
       "    }\n",
       "</style>\n",
       "<table border=\"1\" class=\"dataframe\">\n",
       "  <thead>\n",
       "    <tr style=\"text-align: right;\">\n",
       "      <th></th>\n",
       "      <th>avg</th>\n",
       "    </tr>\n",
       "  </thead>\n",
       "  <tbody>\n",
       "    <tr>\n",
       "      <th>0</th>\n",
       "      <td>24.333333</td>\n",
       "    </tr>\n",
       "  </tbody>\n",
       "</table>\n",
       "</div>"
      ],
      "text/plain": [
       "         avg\n",
       "0  24.333333"
      ]
     },
     "execution_count": 150,
     "metadata": {},
     "output_type": "execute_result"
    }
   ],
   "source": [
    "query = '''WITH\n",
    "            N AS (SELECT ra.username as user,\n",
    "            count(ra.rating) as count\n",
    "            \n",
    "            FROM ratings as ra\n",
    "            GROUP BY ra.username\n",
    "            HAVING count(ra.rating)>50)\n",
    "            \n",
    "            SELECT AVG(M.count) \n",
    "            FROM\n",
    "            (SELECT r.username as user,COUNT(r.review_id) as count\n",
    "            FROM reviews as r\n",
    "            WHERE r.username in (SELECT N.user FROM N)\n",
    "            GROUP BY r.username) as M\n",
    "          \n",
    "       '''\n",
    "pd.io.sql.read_sql(query, con = engine)"
   ]
  },
  {
   "cell_type": "markdown",
   "id": "6befdc1f",
   "metadata": {},
   "source": [
    "Cреднее количество обзоров от пользователей, которые поставили\n",
    "больше 50 оценок,-24,3"
   ]
  },
  {
   "cell_type": "markdown",
   "id": "f2f929e8",
   "metadata": {},
   "source": [
    "# Вывод"
   ]
  },
  {
   "cell_type": "markdown",
   "id": "2753c1f9",
   "metadata": {},
   "source": [
    "- Мы имеем данные по следующим таблицам: books,review,ratings,authors,publishers\n",
    "- Из имеющихся данных мы знаем:\n",
    "- После 1 января 2000 года вышло 819 книг\n",
    "- кол-во обзоров для каждой книги и средний рейтинг. Максимальное кол-во=7, минимальное=1.Максимальная оценка=5, - - - - - -    - минимальная=1,5. Не на все книги есть информация об отзывах.\n",
    "- издательство, которое выпустило наибольшее число книг толще 50 страниц,- Penguin Books\n",
    "- автор с самой высокой средней оценкой книг — учитывайте\n",
    "- только книги с 50 и более оценками,-J.K. Rowling/Mary GrandPré\n",
    "- среднее количество обзоров от пользователей, которые поставили\n",
    "- больше 50 оценок,-24,3"
   ]
  }
 ],
 "metadata": {
  "ExecuteTimeLog": [
   {
    "duration": 38,
    "start_time": "2022-05-24T20:03:58.114Z"
   },
   {
    "duration": 923,
    "start_time": "2022-05-24T20:05:15.777Z"
   },
   {
    "duration": 68,
    "start_time": "2022-05-24T20:05:26.689Z"
   },
   {
    "duration": 32,
    "start_time": "2022-05-24T20:07:25.650Z"
   },
   {
    "duration": 42,
    "start_time": "2022-05-24T20:07:36.686Z"
   },
   {
    "duration": 144,
    "start_time": "2022-05-24T20:13:48.599Z"
   },
   {
    "duration": 15,
    "start_time": "2022-05-24T20:34:29.999Z"
   },
   {
    "duration": 18,
    "start_time": "2022-05-24T20:35:35.254Z"
   },
   {
    "duration": 3,
    "start_time": "2022-05-24T20:36:18.179Z"
   },
   {
    "duration": 3,
    "start_time": "2022-05-24T20:36:23.383Z"
   },
   {
    "duration": 15,
    "start_time": "2022-05-24T20:38:57.294Z"
   },
   {
    "duration": 11,
    "start_time": "2022-05-24T20:40:09.367Z"
   },
   {
    "duration": 13,
    "start_time": "2022-05-24T20:40:10.114Z"
   },
   {
    "duration": 3,
    "start_time": "2022-05-24T20:40:10.839Z"
   },
   {
    "duration": 13,
    "start_time": "2022-05-24T20:40:27.083Z"
   },
   {
    "duration": 13,
    "start_time": "2022-05-24T20:42:10.004Z"
   },
   {
    "duration": 11,
    "start_time": "2022-05-24T20:43:30.489Z"
   },
   {
    "duration": 26,
    "start_time": "2022-05-24T20:43:50.137Z"
   },
   {
    "duration": 19,
    "start_time": "2022-05-24T20:44:11.316Z"
   },
   {
    "duration": 26,
    "start_time": "2022-05-24T20:44:18.941Z"
   },
   {
    "duration": 18,
    "start_time": "2022-05-24T21:08:39.137Z"
   },
   {
    "duration": 22,
    "start_time": "2022-05-24T21:09:40.094Z"
   },
   {
    "duration": 82,
    "start_time": "2022-05-24T21:10:02.858Z"
   },
   {
    "duration": 54,
    "start_time": "2022-05-24T21:10:18.163Z"
   },
   {
    "duration": 71,
    "start_time": "2022-05-24T21:11:30.343Z"
   },
   {
    "duration": 18,
    "start_time": "2022-05-24T21:12:34.073Z"
   },
   {
    "duration": 12,
    "start_time": "2022-05-24T21:12:42.883Z"
   },
   {
    "duration": 14,
    "start_time": "2022-05-24T21:14:14.983Z"
   },
   {
    "duration": 16,
    "start_time": "2022-05-24T21:16:00.497Z"
   },
   {
    "duration": 14,
    "start_time": "2022-05-24T21:16:16.358Z"
   },
   {
    "duration": 58,
    "start_time": "2022-05-24T21:30:42.417Z"
   },
   {
    "duration": 66,
    "start_time": "2022-05-24T21:32:07.947Z"
   },
   {
    "duration": 14,
    "start_time": "2022-05-24T21:33:27.213Z"
   },
   {
    "duration": 21,
    "start_time": "2022-05-24T21:33:47.692Z"
   },
   {
    "duration": 14,
    "start_time": "2022-05-24T21:33:54.263Z"
   },
   {
    "duration": 14,
    "start_time": "2022-05-24T21:34:56.918Z"
   },
   {
    "duration": 61,
    "start_time": "2022-05-24T21:37:59.432Z"
   },
   {
    "duration": 24,
    "start_time": "2022-05-24T21:39:21.308Z"
   },
   {
    "duration": 26,
    "start_time": "2022-05-24T21:39:41.308Z"
   },
   {
    "duration": 26,
    "start_time": "2022-05-24T21:39:51.139Z"
   },
   {
    "duration": 22,
    "start_time": "2022-05-24T21:39:59.198Z"
   },
   {
    "duration": 47,
    "start_time": "2022-05-24T22:12:51.336Z"
   },
   {
    "duration": 44,
    "start_time": "2022-05-24T22:13:07.321Z"
   },
   {
    "duration": 56,
    "start_time": "2022-05-24T22:15:08.741Z"
   },
   {
    "duration": 67,
    "start_time": "2022-05-24T22:15:31.201Z"
   },
   {
    "duration": 50,
    "start_time": "2022-05-24T22:16:37.641Z"
   },
   {
    "duration": 77,
    "start_time": "2022-05-24T22:17:12.241Z"
   },
   {
    "duration": 17,
    "start_time": "2022-05-24T22:17:51.561Z"
   },
   {
    "duration": 10,
    "start_time": "2022-05-24T22:18:40.462Z"
   },
   {
    "duration": 14,
    "start_time": "2022-05-24T22:19:43.676Z"
   },
   {
    "duration": 22,
    "start_time": "2022-05-24T22:48:49.942Z"
   },
   {
    "duration": 23,
    "start_time": "2022-05-24T22:50:49.422Z"
   },
   {
    "duration": 23,
    "start_time": "2022-05-24T22:54:01.591Z"
   },
   {
    "duration": 16,
    "start_time": "2022-05-24T22:54:34.022Z"
   },
   {
    "duration": 61,
    "start_time": "2022-05-26T23:40:05.044Z"
   },
   {
    "duration": 633,
    "start_time": "2022-05-26T23:40:11.747Z"
   },
   {
    "duration": 0,
    "start_time": "2022-05-26T23:40:12.382Z"
   },
   {
    "duration": 0,
    "start_time": "2022-05-26T23:40:12.384Z"
   },
   {
    "duration": 0,
    "start_time": "2022-05-26T23:40:12.385Z"
   },
   {
    "duration": 0,
    "start_time": "2022-05-26T23:40:12.387Z"
   },
   {
    "duration": 0,
    "start_time": "2022-05-26T23:40:12.388Z"
   },
   {
    "duration": 0,
    "start_time": "2022-05-26T23:40:12.390Z"
   },
   {
    "duration": 0,
    "start_time": "2022-05-26T23:40:12.391Z"
   },
   {
    "duration": 0,
    "start_time": "2022-05-26T23:40:12.392Z"
   },
   {
    "duration": 0,
    "start_time": "2022-05-26T23:40:12.394Z"
   },
   {
    "duration": 1,
    "start_time": "2022-05-26T23:40:12.395Z"
   },
   {
    "duration": 0,
    "start_time": "2022-05-26T23:40:12.397Z"
   },
   {
    "duration": 272,
    "start_time": "2022-05-26T23:40:16.707Z"
   },
   {
    "duration": 74,
    "start_time": "2022-05-26T23:46:07.778Z"
   },
   {
    "duration": 78,
    "start_time": "2022-05-26T23:47:54.063Z"
   },
   {
    "duration": 68,
    "start_time": "2022-05-26T23:51:08.318Z"
   },
   {
    "duration": 70,
    "start_time": "2022-05-26T23:51:14.943Z"
   },
   {
    "duration": 73,
    "start_time": "2022-05-26T23:51:23.249Z"
   },
   {
    "duration": 68,
    "start_time": "2022-05-26T23:51:42.728Z"
   },
   {
    "duration": 67,
    "start_time": "2022-05-26T23:51:53.669Z"
   },
   {
    "duration": 111,
    "start_time": "2022-05-26T23:57:54.753Z"
   },
   {
    "duration": 119,
    "start_time": "2022-05-26T23:58:46.255Z"
   },
   {
    "duration": 112,
    "start_time": "2022-05-27T00:04:06.755Z"
   },
   {
    "duration": 124,
    "start_time": "2022-05-27T00:05:58.818Z"
   },
   {
    "duration": 106,
    "start_time": "2022-05-27T00:07:11.658Z"
   },
   {
    "duration": 81,
    "start_time": "2022-05-27T00:07:34.630Z"
   },
   {
    "duration": 573,
    "start_time": "2022-05-30T09:47:22.225Z"
   },
   {
    "duration": 0,
    "start_time": "2022-05-30T09:47:22.800Z"
   },
   {
    "duration": 0,
    "start_time": "2022-05-30T09:47:22.800Z"
   },
   {
    "duration": 0,
    "start_time": "2022-05-30T09:47:22.801Z"
   },
   {
    "duration": 0,
    "start_time": "2022-05-30T09:47:22.802Z"
   },
   {
    "duration": 0,
    "start_time": "2022-05-30T09:47:22.803Z"
   },
   {
    "duration": 0,
    "start_time": "2022-05-30T09:47:22.804Z"
   },
   {
    "duration": 0,
    "start_time": "2022-05-30T09:47:22.805Z"
   },
   {
    "duration": 0,
    "start_time": "2022-05-30T09:47:22.806Z"
   },
   {
    "duration": 0,
    "start_time": "2022-05-30T09:47:22.808Z"
   },
   {
    "duration": 0,
    "start_time": "2022-05-30T09:47:22.809Z"
   },
   {
    "duration": 0,
    "start_time": "2022-05-30T09:47:22.810Z"
   },
   {
    "duration": 0,
    "start_time": "2022-05-30T09:47:22.812Z"
   },
   {
    "duration": 10,
    "start_time": "2022-05-30T09:47:45.094Z"
   },
   {
    "duration": 4,
    "start_time": "2022-05-30T09:48:16.488Z"
   },
   {
    "duration": 85,
    "start_time": "2022-05-30T09:48:17.310Z"
   },
   {
    "duration": 12,
    "start_time": "2022-05-30T09:48:18.420Z"
   },
   {
    "duration": 13,
    "start_time": "2022-05-30T09:48:18.920Z"
   },
   {
    "duration": 12,
    "start_time": "2022-05-30T09:48:19.749Z"
   },
   {
    "duration": 14,
    "start_time": "2022-05-30T09:48:19.929Z"
   },
   {
    "duration": 13,
    "start_time": "2022-05-30T09:48:20.349Z"
   },
   {
    "duration": 10,
    "start_time": "2022-05-30T09:48:20.804Z"
   },
   {
    "duration": 14,
    "start_time": "2022-05-30T09:48:21.668Z"
   },
   {
    "duration": 26,
    "start_time": "2022-05-30T09:48:22.343Z"
   },
   {
    "duration": 11,
    "start_time": "2022-05-30T09:48:23.405Z"
   },
   {
    "duration": 16,
    "start_time": "2022-05-30T09:48:24.508Z"
   },
   {
    "duration": 13,
    "start_time": "2022-05-30T09:48:25.743Z"
   },
   {
    "duration": 13,
    "start_time": "2022-05-30T10:03:28.652Z"
   },
   {
    "duration": 11,
    "start_time": "2022-05-30T10:06:58.076Z"
   },
   {
    "duration": 14,
    "start_time": "2022-05-30T10:06:58.918Z"
   },
   {
    "duration": 16,
    "start_time": "2022-05-30T10:07:00.688Z"
   },
   {
    "duration": 14,
    "start_time": "2022-05-30T10:07:04.246Z"
   },
   {
    "duration": 15,
    "start_time": "2022-05-30T10:07:04.897Z"
   },
   {
    "duration": 10,
    "start_time": "2022-05-30T10:07:06.588Z"
   },
   {
    "duration": 25,
    "start_time": "2022-05-30T10:10:59.805Z"
   },
   {
    "duration": 24,
    "start_time": "2022-05-30T10:11:41.793Z"
   },
   {
    "duration": 22,
    "start_time": "2022-05-30T10:11:52.883Z"
   },
   {
    "duration": 26,
    "start_time": "2022-05-30T10:11:59.602Z"
   },
   {
    "duration": 36,
    "start_time": "2022-05-30T10:14:43.888Z"
   },
   {
    "duration": 18,
    "start_time": "2022-05-30T10:15:34.184Z"
   },
   {
    "duration": 500,
    "start_time": "2022-05-30T18:50:36.768Z"
   },
   {
    "duration": 333,
    "start_time": "2022-05-30T18:50:37.270Z"
   },
   {
    "duration": 85,
    "start_time": "2022-05-30T18:50:37.604Z"
   },
   {
    "duration": 76,
    "start_time": "2022-05-30T18:50:37.691Z"
   },
   {
    "duration": 85,
    "start_time": "2022-05-30T18:50:37.768Z"
   },
   {
    "duration": 83,
    "start_time": "2022-05-30T18:50:37.854Z"
   },
   {
    "duration": 77,
    "start_time": "2022-05-30T18:50:37.940Z"
   },
   {
    "duration": 80,
    "start_time": "2022-05-30T18:50:38.019Z"
   },
   {
    "duration": 75,
    "start_time": "2022-05-30T18:50:38.100Z"
   },
   {
    "duration": 99,
    "start_time": "2022-05-30T18:50:38.178Z"
   },
   {
    "duration": 75,
    "start_time": "2022-05-30T18:50:38.278Z"
   },
   {
    "duration": 83,
    "start_time": "2022-05-30T18:50:38.354Z"
   },
   {
    "duration": 79,
    "start_time": "2022-05-30T18:50:38.438Z"
   },
   {
    "duration": 78,
    "start_time": "2022-05-30T18:52:59.152Z"
   },
   {
    "duration": 81,
    "start_time": "2022-05-30T18:53:10.787Z"
   },
   {
    "duration": 79,
    "start_time": "2022-05-30T18:53:15.649Z"
   },
   {
    "duration": 97,
    "start_time": "2022-05-30T19:34:45.274Z"
   },
   {
    "duration": 15,
    "start_time": "2022-05-30T19:34:48.749Z"
   },
   {
    "duration": 1090,
    "start_time": "2022-05-30T19:34:54.212Z"
   },
   {
    "duration": 487,
    "start_time": "2022-05-30T19:34:55.305Z"
   },
   {
    "duration": 107,
    "start_time": "2022-05-30T19:34:55.794Z"
   },
   {
    "duration": 101,
    "start_time": "2022-05-30T19:34:55.902Z"
   },
   {
    "duration": 707,
    "start_time": "2022-05-30T19:34:56.005Z"
   },
   {
    "duration": 106,
    "start_time": "2022-05-30T19:34:56.715Z"
   },
   {
    "duration": 102,
    "start_time": "2022-05-30T19:34:56.823Z"
   },
   {
    "duration": 96,
    "start_time": "2022-05-30T19:34:56.927Z"
   },
   {
    "duration": 91,
    "start_time": "2022-05-30T19:34:57.025Z"
   },
   {
    "duration": 150,
    "start_time": "2022-05-30T19:35:00.152Z"
   },
   {
    "duration": 234,
    "start_time": "2022-05-30T19:38:56.123Z"
   },
   {
    "duration": 861,
    "start_time": "2022-05-30T19:41:27.604Z"
   },
   {
    "duration": 78,
    "start_time": "2022-05-30T19:43:29.184Z"
   },
   {
    "duration": 210,
    "start_time": "2022-05-30T19:43:32.179Z"
   },
   {
    "duration": 1278,
    "start_time": "2022-05-30T19:51:26.044Z"
   },
   {
    "duration": 221,
    "start_time": "2022-05-30T19:52:11.184Z"
   },
   {
    "duration": 85,
    "start_time": "2022-05-30T19:56:47.275Z"
   },
   {
    "duration": 228,
    "start_time": "2022-05-30T19:56:50.161Z"
   },
   {
    "duration": 153,
    "start_time": "2022-05-30T20:02:03.824Z"
   },
   {
    "duration": 102,
    "start_time": "2022-05-30T20:02:14.714Z"
   },
   {
    "duration": 93,
    "start_time": "2022-05-30T20:02:31.485Z"
   },
   {
    "duration": 3,
    "start_time": "2022-05-30T20:03:40.960Z"
   },
   {
    "duration": 250,
    "start_time": "2022-05-30T20:03:40.964Z"
   },
   {
    "duration": 75,
    "start_time": "2022-05-30T20:03:41.216Z"
   },
   {
    "duration": 69,
    "start_time": "2022-05-30T20:03:41.293Z"
   },
   {
    "duration": 62,
    "start_time": "2022-05-30T20:03:41.364Z"
   },
   {
    "duration": 69,
    "start_time": "2022-05-30T20:03:41.434Z"
   },
   {
    "duration": 70,
    "start_time": "2022-05-30T20:03:41.504Z"
   },
   {
    "duration": 67,
    "start_time": "2022-05-30T20:03:41.576Z"
   },
   {
    "duration": 61,
    "start_time": "2022-05-30T20:03:41.645Z"
   },
   {
    "duration": 72,
    "start_time": "2022-05-30T20:03:41.707Z"
   },
   {
    "duration": 70,
    "start_time": "2022-05-30T20:03:41.781Z"
   },
   {
    "duration": 133,
    "start_time": "2022-05-30T20:03:41.853Z"
   },
   {
    "duration": 64,
    "start_time": "2022-05-30T20:03:41.988Z"
   },
   {
    "duration": 67,
    "start_time": "2022-05-30T20:03:42.053Z"
   },
   {
    "duration": 71,
    "start_time": "2022-05-30T20:03:42.122Z"
   },
   {
    "duration": 106,
    "start_time": "2022-05-30T20:05:00.893Z"
   },
   {
    "duration": 70,
    "start_time": "2022-05-30T20:05:27.981Z"
   },
   {
    "duration": 77,
    "start_time": "2022-05-30T20:06:14.500Z"
   },
   {
    "duration": 8,
    "start_time": "2022-05-30T20:11:05.891Z"
   },
   {
    "duration": 9,
    "start_time": "2022-05-30T20:12:46.462Z"
   },
   {
    "duration": 34,
    "start_time": "2022-05-30T20:14:38.543Z"
   },
   {
    "duration": 108,
    "start_time": "2022-05-30T20:21:46.168Z"
   },
   {
    "duration": 60,
    "start_time": "2022-05-30T20:22:06.735Z"
   },
   {
    "duration": 70,
    "start_time": "2022-05-30T20:22:12.470Z"
   },
   {
    "duration": 142,
    "start_time": "2022-05-30T20:22:45.558Z"
   },
   {
    "duration": 153,
    "start_time": "2022-05-30T20:22:49.388Z"
   },
   {
    "duration": 152,
    "start_time": "2022-05-30T20:23:10.588Z"
   },
   {
    "duration": 90,
    "start_time": "2022-05-30T20:23:20.269Z"
   },
   {
    "duration": 66,
    "start_time": "2022-05-30T20:23:54.228Z"
   },
   {
    "duration": 23,
    "start_time": "2022-05-30T20:26:03.151Z"
   },
   {
    "duration": 72,
    "start_time": "2022-05-30T20:26:19.831Z"
   },
   {
    "duration": 197,
    "start_time": "2022-05-30T20:27:01.152Z"
   },
   {
    "duration": 32,
    "start_time": "2022-05-30T20:28:32.247Z"
   },
   {
    "duration": 10,
    "start_time": "2022-05-30T20:28:41.612Z"
   },
   {
    "duration": 7,
    "start_time": "2022-05-30T20:29:02.392Z"
   },
   {
    "duration": 8,
    "start_time": "2022-05-30T20:30:38.500Z"
   },
   {
    "duration": 180,
    "start_time": "2022-05-30T20:31:05.022Z"
   },
   {
    "duration": 72,
    "start_time": "2022-05-30T20:32:30.900Z"
   },
   {
    "duration": 102,
    "start_time": "2022-05-30T20:34:17.140Z"
   },
   {
    "duration": 74,
    "start_time": "2022-05-30T20:34:36.338Z"
   },
   {
    "duration": 195,
    "start_time": "2022-05-30T20:35:06.069Z"
   },
   {
    "duration": 68,
    "start_time": "2022-05-30T20:35:44.061Z"
   },
   {
    "duration": 115,
    "start_time": "2022-05-30T20:36:29.784Z"
   },
   {
    "duration": 70,
    "start_time": "2022-05-30T20:37:42.806Z"
   },
   {
    "duration": 65,
    "start_time": "2022-05-30T20:38:53.014Z"
   },
   {
    "duration": 93,
    "start_time": "2022-05-30T20:39:11.063Z"
   },
   {
    "duration": 106,
    "start_time": "2022-05-30T20:53:02.070Z"
   },
   {
    "duration": 118,
    "start_time": "2022-05-30T20:53:36.242Z"
   },
   {
    "duration": 113,
    "start_time": "2022-05-30T20:55:10.660Z"
   },
   {
    "duration": 109,
    "start_time": "2022-05-30T20:56:04.860Z"
   },
   {
    "duration": 94,
    "start_time": "2022-05-30T20:56:28.601Z"
   },
   {
    "duration": 107,
    "start_time": "2022-05-30T20:56:41.380Z"
   },
   {
    "duration": 88,
    "start_time": "2022-05-30T20:58:11.800Z"
   },
   {
    "duration": 6,
    "start_time": "2022-05-30T21:03:52.181Z"
   },
   {
    "duration": 225,
    "start_time": "2022-05-30T21:03:53.539Z"
   },
   {
    "duration": 94,
    "start_time": "2022-05-30T21:03:54.172Z"
   },
   {
    "duration": 77,
    "start_time": "2022-05-30T21:03:55.415Z"
   },
   {
    "duration": 130,
    "start_time": "2022-05-30T21:03:56.111Z"
   },
   {
    "duration": 75,
    "start_time": "2022-05-30T21:03:57.269Z"
   },
   {
    "duration": 125,
    "start_time": "2022-05-30T21:03:57.781Z"
   },
   {
    "duration": 65,
    "start_time": "2022-05-30T21:03:59.554Z"
   },
   {
    "duration": 73,
    "start_time": "2022-05-30T21:04:01.272Z"
   },
   {
    "duration": 89,
    "start_time": "2022-05-30T21:04:02.512Z"
   },
   {
    "duration": 72,
    "start_time": "2022-05-30T21:04:03.212Z"
   },
   {
    "duration": 77,
    "start_time": "2022-05-30T21:04:03.907Z"
   },
   {
    "duration": 64,
    "start_time": "2022-05-30T21:04:07.140Z"
   },
   {
    "duration": 111,
    "start_time": "2022-05-30T21:04:25.048Z"
   },
   {
    "duration": 135,
    "start_time": "2022-05-30T21:04:33.145Z"
   },
   {
    "duration": 94,
    "start_time": "2022-05-30T21:05:58.973Z"
   },
   {
    "duration": 68,
    "start_time": "2022-05-30T21:10:51.500Z"
   },
   {
    "duration": 96,
    "start_time": "2022-05-30T21:11:11.037Z"
   },
   {
    "duration": 83,
    "start_time": "2022-05-30T21:11:24.243Z"
   },
   {
    "duration": 88,
    "start_time": "2022-05-30T21:17:16.399Z"
   },
   {
    "duration": 84,
    "start_time": "2022-05-30T21:17:49.562Z"
   },
   {
    "duration": 87,
    "start_time": "2022-05-30T21:17:58.360Z"
   },
   {
    "duration": 86,
    "start_time": "2022-05-30T21:18:45.960Z"
   },
   {
    "duration": 81,
    "start_time": "2022-05-30T21:19:10.115Z"
   },
   {
    "duration": 5,
    "start_time": "2022-05-30T21:20:14.371Z"
   },
   {
    "duration": 210,
    "start_time": "2022-05-30T21:20:15.362Z"
   },
   {
    "duration": 85,
    "start_time": "2022-05-30T21:20:15.575Z"
   },
   {
    "duration": 64,
    "start_time": "2022-05-30T21:20:15.886Z"
   },
   {
    "duration": 100,
    "start_time": "2022-05-30T21:20:16.070Z"
   },
   {
    "duration": 65,
    "start_time": "2022-05-30T21:20:16.476Z"
   },
   {
    "duration": 80,
    "start_time": "2022-05-30T21:20:16.646Z"
   },
   {
    "duration": 64,
    "start_time": "2022-05-30T21:20:17.065Z"
   },
   {
    "duration": 67,
    "start_time": "2022-05-30T21:20:17.472Z"
   },
   {
    "duration": 75,
    "start_time": "2022-05-30T21:20:18.215Z"
   },
   {
    "duration": 63,
    "start_time": "2022-05-30T21:20:18.736Z"
   },
   {
    "duration": 66,
    "start_time": "2022-05-30T21:20:19.425Z"
   },
   {
    "duration": 65,
    "start_time": "2022-05-30T21:20:22.076Z"
   },
   {
    "duration": 86,
    "start_time": "2022-05-30T21:20:25.700Z"
   },
   {
    "duration": 65,
    "start_time": "2022-05-30T21:20:26.166Z"
   },
   {
    "duration": 62,
    "start_time": "2022-05-30T21:20:26.861Z"
   },
   {
    "duration": 196,
    "start_time": "2022-05-30T21:20:27.359Z"
   },
   {
    "duration": 64,
    "start_time": "2022-05-30T21:20:49.046Z"
   },
   {
    "duration": 70,
    "start_time": "2022-05-30T21:20:51.321Z"
   },
   {
    "duration": 65,
    "start_time": "2022-05-30T21:20:52.943Z"
   },
   {
    "duration": 63,
    "start_time": "2022-05-30T21:24:52.763Z"
   },
   {
    "duration": 69,
    "start_time": "2022-05-30T21:25:02.222Z"
   },
   {
    "duration": 76,
    "start_time": "2022-05-30T21:25:10.581Z"
   },
   {
    "duration": 111,
    "start_time": "2022-05-30T21:29:33.412Z"
   },
   {
    "duration": 64,
    "start_time": "2022-05-30T21:30:21.946Z"
   },
   {
    "duration": 4,
    "start_time": "2022-05-30T21:31:52.583Z"
   },
   {
    "duration": 227,
    "start_time": "2022-05-30T21:31:52.589Z"
   },
   {
    "duration": 91,
    "start_time": "2022-05-30T21:31:52.818Z"
   },
   {
    "duration": 66,
    "start_time": "2022-05-30T21:31:52.911Z"
   },
   {
    "duration": 97,
    "start_time": "2022-05-30T21:31:52.979Z"
   },
   {
    "duration": 69,
    "start_time": "2022-05-30T21:31:53.078Z"
   },
   {
    "duration": 85,
    "start_time": "2022-05-30T21:31:53.149Z"
   },
   {
    "duration": 67,
    "start_time": "2022-05-30T21:31:53.236Z"
   },
   {
    "duration": 73,
    "start_time": "2022-05-30T21:31:53.306Z"
   },
   {
    "duration": 72,
    "start_time": "2022-05-30T21:31:53.380Z"
   },
   {
    "duration": 67,
    "start_time": "2022-05-30T21:31:53.454Z"
   },
   {
    "duration": 69,
    "start_time": "2022-05-30T21:31:53.523Z"
   },
   {
    "duration": 67,
    "start_time": "2022-05-30T21:31:53.593Z"
   },
   {
    "duration": 69,
    "start_time": "2022-05-30T21:31:53.662Z"
   },
   {
    "duration": 67,
    "start_time": "2022-05-30T21:31:53.733Z"
   },
   {
    "duration": 81,
    "start_time": "2022-05-30T21:31:53.802Z"
   },
   {
    "duration": 66,
    "start_time": "2022-05-30T21:31:53.885Z"
   },
   {
    "duration": 66,
    "start_time": "2022-05-30T21:31:53.953Z"
   },
   {
    "duration": 167,
    "start_time": "2022-05-30T21:31:54.020Z"
   },
   {
    "duration": 68,
    "start_time": "2022-05-30T21:31:54.189Z"
   },
   {
    "duration": 72,
    "start_time": "2022-05-30T21:31:54.258Z"
   },
   {
    "duration": 69,
    "start_time": "2022-05-30T21:31:54.332Z"
   },
   {
    "duration": 55,
    "start_time": "2022-05-31T08:02:57.219Z"
   },
   {
    "duration": 4059,
    "start_time": "2022-05-31T08:03:03.747Z"
   },
   {
    "duration": 250,
    "start_time": "2022-05-31T08:03:07.808Z"
   },
   {
    "duration": 96,
    "start_time": "2022-05-31T08:03:08.059Z"
   },
   {
    "duration": 69,
    "start_time": "2022-05-31T08:03:08.157Z"
   },
   {
    "duration": 103,
    "start_time": "2022-05-31T08:03:08.229Z"
   },
   {
    "duration": 70,
    "start_time": "2022-05-31T08:03:08.334Z"
   },
   {
    "duration": 87,
    "start_time": "2022-05-31T08:03:08.406Z"
   },
   {
    "duration": 70,
    "start_time": "2022-05-31T08:03:08.494Z"
   },
   {
    "duration": 73,
    "start_time": "2022-05-31T08:03:08.566Z"
   },
   {
    "duration": 71,
    "start_time": "2022-05-31T08:03:08.640Z"
   },
   {
    "duration": 69,
    "start_time": "2022-05-31T08:03:08.713Z"
   },
   {
    "duration": 78,
    "start_time": "2022-05-31T08:03:08.784Z"
   },
   {
    "duration": 69,
    "start_time": "2022-05-31T08:03:08.864Z"
   },
   {
    "duration": 128,
    "start_time": "2022-05-31T08:03:08.935Z"
   },
   {
    "duration": 68,
    "start_time": "2022-05-31T08:03:13.911Z"
   },
   {
    "duration": 4,
    "start_time": "2022-05-31T08:17:49.775Z"
   },
   {
    "duration": 278,
    "start_time": "2022-05-31T08:17:51.027Z"
   },
   {
    "duration": 100,
    "start_time": "2022-05-31T08:17:51.487Z"
   },
   {
    "duration": 75,
    "start_time": "2022-05-31T08:17:52.835Z"
   },
   {
    "duration": 134,
    "start_time": "2022-05-31T08:17:53.287Z"
   },
   {
    "duration": 74,
    "start_time": "2022-05-31T08:17:54.266Z"
   },
   {
    "duration": 128,
    "start_time": "2022-05-31T08:17:54.915Z"
   },
   {
    "duration": 74,
    "start_time": "2022-05-31T08:17:56.047Z"
   },
   {
    "duration": 79,
    "start_time": "2022-05-31T08:17:57.335Z"
   },
   {
    "duration": 90,
    "start_time": "2022-05-31T08:17:58.756Z"
   },
   {
    "duration": 73,
    "start_time": "2022-05-31T08:18:00.330Z"
   },
   {
    "duration": 80,
    "start_time": "2022-05-31T08:18:00.992Z"
   },
   {
    "duration": 78,
    "start_time": "2022-05-31T08:20:46.716Z"
   },
   {
    "duration": 90,
    "start_time": "2022-05-31T08:20:49.647Z"
   },
   {
    "duration": 74,
    "start_time": "2022-05-31T08:20:53.007Z"
   },
   {
    "duration": 102,
    "start_time": "2022-05-31T08:21:03.837Z"
   },
   {
    "duration": 75,
    "start_time": "2022-05-31T08:21:04.557Z"
   },
   {
    "duration": 75,
    "start_time": "2022-05-31T08:21:05.526Z"
   },
   {
    "duration": 233,
    "start_time": "2022-05-31T08:21:06.327Z"
   },
   {
    "duration": 27,
    "start_time": "2022-05-31T08:25:53.741Z"
   }
  ],
  "kernelspec": {
   "display_name": "Python 3 (ipykernel)",
   "language": "python",
   "name": "python3"
  },
  "language_info": {
   "codemirror_mode": {
    "name": "ipython",
    "version": 3
   },
   "file_extension": ".py",
   "mimetype": "text/x-python",
   "name": "python",
   "nbconvert_exporter": "python",
   "pygments_lexer": "ipython3",
   "version": "3.9.5"
  },
  "toc": {
   "base_numbering": 1,
   "nav_menu": {},
   "number_sections": true,
   "sideBar": true,
   "skip_h1_title": true,
   "title_cell": "Table of Contents",
   "title_sidebar": "Contents",
   "toc_cell": false,
   "toc_position": {},
   "toc_section_display": true,
   "toc_window_display": false
  }
 },
 "nbformat": 4,
 "nbformat_minor": 5
}
