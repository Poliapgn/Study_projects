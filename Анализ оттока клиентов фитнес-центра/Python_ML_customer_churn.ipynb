{
 "cells": [
  {
   "cell_type": "markdown",
   "metadata": {},
   "source": [
    "# PROJECT DESCRIPTION\n",
    "The fitness network «Bodybilder» is working out a customer engagement strategy based on a client'sanalysis.The most common issue is customer churn. To tackle the problem, a customer service department of «Bodybilder» has transferred  a handful of clients' questionnaire to e-format. The main goal is to carry out analysis and prepare a plan on how to retain customers.\n",
    "We have data on clients for the month before the customer churn was checked:\n",
    " - 'gender'\n",
    " - 'Near_Location' — a place of residence or  a workplace in the environs of «Bodybilder»\n",
    " - 'Partner' — the employee of the partner company (a partnership with companies, whose employees can get discounts on subscriptions;«Bodybilder» has an data on clinets' employers);\n",
    " - 'Promo_friends' — the fact of an initial mark within the campaigh \"bring a friend\"(the client used promo_code received from a   friend for the first subscription);\n",
    " - 'Phone' \n",
    " - 'Age'\n",
    " - 'Lifetime' —the period since the first visit to «Bodybilder» (months)\n",
    "\n",
    "Data from visitor logs,purchases and a client's subscription status:\n",
    "- 'Contract_period' — the lenght of a current subscription (month, 6 month, year);\n",
    "- 'Month_to_end_contract' — the perios till the end of a current subscription(months);\n",
    "- 'Group_visits' — the fact of visiting groups' classes\n",
    "- 'Avg_class_frequency_total' — an average frequency of visits per week since the start of a subscription\n",
    "- 'Avg_class_frequency_current_month' — an average frequency of visits per week for a previous month\n",
    "- 'Avg_additional_charges_total' — total sales from incremental services: cafes, sport goods, massage parlor and beauty salon."
   ]
  },
  {
   "cell_type": "markdown",
   "metadata": {},
   "source": [
    "## Data preparation"
   ]
  },
  {
   "cell_type": "markdown",
   "metadata": {},
   "source": [
    "### Unloading data "
   ]
  },
  {
   "cell_type": "code",
   "execution_count": 14,
   "metadata": {},
   "outputs": [],
   "source": [
    "# download all libraries, required for future analysis\n",
    "import pandas as pd\n",
    "import numpy as np\n",
    "import matplotlib.pyplot as plt\n",
    "import seaborn as sns\n",
    "from numpy import median"
   ]
  },
  {
   "cell_type": "code",
   "execution_count": 15,
   "metadata": {},
   "outputs": [
    {
     "name": "stdout",
     "output_type": "stream",
     "text": [
      "(4000, 14)\n",
      "\n"
     ]
    },
    {
     "data": {
      "text/html": [
       "<div>\n",
       "<style scoped>\n",
       "    .dataframe tbody tr th:only-of-type {\n",
       "        vertical-align: middle;\n",
       "    }\n",
       "\n",
       "    .dataframe tbody tr th {\n",
       "        vertical-align: top;\n",
       "    }\n",
       "\n",
       "    .dataframe thead th {\n",
       "        text-align: right;\n",
       "    }\n",
       "</style>\n",
       "<table border=\"1\" class=\"dataframe\">\n",
       "  <thead>\n",
       "    <tr style=\"text-align: right;\">\n",
       "      <th></th>\n",
       "      <th>Values</th>\n",
       "      <th>Number of unique values</th>\n",
       "      <th>Q-ty NaN</th>\n",
       "      <th>% Nan</th>\n",
       "      <th>Type</th>\n",
       "    </tr>\n",
       "  </thead>\n",
       "  <tbody>\n",
       "    <tr>\n",
       "      <th>gender</th>\n",
       "      <td>[1, 0]</td>\n",
       "      <td>2</td>\n",
       "      <td>0</td>\n",
       "      <td>0.0</td>\n",
       "      <td>int64</td>\n",
       "    </tr>\n",
       "    <tr>\n",
       "      <th>Near_Location</th>\n",
       "      <td>[1, 0]</td>\n",
       "      <td>2</td>\n",
       "      <td>0</td>\n",
       "      <td>0.0</td>\n",
       "      <td>int64</td>\n",
       "    </tr>\n",
       "    <tr>\n",
       "      <th>Partner</th>\n",
       "      <td>[1, 0]</td>\n",
       "      <td>2</td>\n",
       "      <td>0</td>\n",
       "      <td>0.0</td>\n",
       "      <td>int64</td>\n",
       "    </tr>\n",
       "    <tr>\n",
       "      <th>Promo_friends</th>\n",
       "      <td>[1, 0]</td>\n",
       "      <td>2</td>\n",
       "      <td>0</td>\n",
       "      <td>0.0</td>\n",
       "      <td>int64</td>\n",
       "    </tr>\n",
       "    <tr>\n",
       "      <th>Phone</th>\n",
       "      <td>[0, 1]</td>\n",
       "      <td>2</td>\n",
       "      <td>0</td>\n",
       "      <td>0.0</td>\n",
       "      <td>int64</td>\n",
       "    </tr>\n",
       "    <tr>\n",
       "      <th>Group_visits</th>\n",
       "      <td>[1, 0]</td>\n",
       "      <td>2</td>\n",
       "      <td>0</td>\n",
       "      <td>0.0</td>\n",
       "      <td>int64</td>\n",
       "    </tr>\n",
       "    <tr>\n",
       "      <th>Churn</th>\n",
       "      <td>[0, 1]</td>\n",
       "      <td>2</td>\n",
       "      <td>0</td>\n",
       "      <td>0.0</td>\n",
       "      <td>int64</td>\n",
       "    </tr>\n",
       "    <tr>\n",
       "      <th>Contract_period</th>\n",
       "      <td>[6, 12, 1]</td>\n",
       "      <td>3</td>\n",
       "      <td>0</td>\n",
       "      <td>0.0</td>\n",
       "      <td>int64</td>\n",
       "    </tr>\n",
       "    <tr>\n",
       "      <th>Month_to_end_contract</th>\n",
       "      <td>[5.0, 12.0, 1.0, 6.0, 3.0, 10.0, 11.0, 9.0, 4....</td>\n",
       "      <td>12</td>\n",
       "      <td>0</td>\n",
       "      <td>0.0</td>\n",
       "      <td>float64</td>\n",
       "    </tr>\n",
       "    <tr>\n",
       "      <th>Age</th>\n",
       "      <td>[29, 31, 28, 33, 26, 34, 32, 30, 23, 27, 35, 2...</td>\n",
       "      <td>23</td>\n",
       "      <td>0</td>\n",
       "      <td>0.0</td>\n",
       "      <td>int64</td>\n",
       "    </tr>\n",
       "    <tr>\n",
       "      <th>Lifetime</th>\n",
       "      <td>[3, 7, 2, 0, 1, 11, 4, 8, 14, 6, 5, 15, 12, 21...</td>\n",
       "      <td>29</td>\n",
       "      <td>0</td>\n",
       "      <td>0.0</td>\n",
       "      <td>int64</td>\n",
       "    </tr>\n",
       "    <tr>\n",
       "      <th>Avg_class_frequency_current_month</th>\n",
       "      <td>[0.0, 1.9102435215196407, 1.7365018916344137, ...</td>\n",
       "      <td>3820</td>\n",
       "      <td>0</td>\n",
       "      <td>0.0</td>\n",
       "      <td>float64</td>\n",
       "    </tr>\n",
       "    <tr>\n",
       "      <th>Avg_class_frequency_total</th>\n",
       "      <td>[0.0203979476208577, 1.9229360550418195, 1.859...</td>\n",
       "      <td>3913</td>\n",
       "      <td>0</td>\n",
       "      <td>0.0</td>\n",
       "      <td>float64</td>\n",
       "    </tr>\n",
       "    <tr>\n",
       "      <th>Avg_additional_charges_total</th>\n",
       "      <td>[14.227470422861144, 113.2029376510582, 129.44...</td>\n",
       "      <td>4000</td>\n",
       "      <td>0</td>\n",
       "      <td>0.0</td>\n",
       "      <td>float64</td>\n",
       "    </tr>\n",
       "  </tbody>\n",
       "</table>\n",
       "</div>"
      ],
      "text/plain": [
       "                                                                              Values  \\\n",
       "gender                                                                        [1, 0]   \n",
       "Near_Location                                                                 [1, 0]   \n",
       "Partner                                                                       [1, 0]   \n",
       "Promo_friends                                                                 [1, 0]   \n",
       "Phone                                                                         [0, 1]   \n",
       "Group_visits                                                                  [1, 0]   \n",
       "Churn                                                                         [0, 1]   \n",
       "Contract_period                                                           [6, 12, 1]   \n",
       "Month_to_end_contract              [5.0, 12.0, 1.0, 6.0, 3.0, 10.0, 11.0, 9.0, 4....   \n",
       "Age                                [29, 31, 28, 33, 26, 34, 32, 30, 23, 27, 35, 2...   \n",
       "Lifetime                           [3, 7, 2, 0, 1, 11, 4, 8, 14, 6, 5, 15, 12, 21...   \n",
       "Avg_class_frequency_current_month  [0.0, 1.9102435215196407, 1.7365018916344137, ...   \n",
       "Avg_class_frequency_total          [0.0203979476208577, 1.9229360550418195, 1.859...   \n",
       "Avg_additional_charges_total       [14.227470422861144, 113.2029376510582, 129.44...   \n",
       "\n",
       "                                  Number of unique values Q-ty NaN % Nan  \\\n",
       "gender                                                  2        0   0.0   \n",
       "Near_Location                                           2        0   0.0   \n",
       "Partner                                                 2        0   0.0   \n",
       "Promo_friends                                           2        0   0.0   \n",
       "Phone                                                   2        0   0.0   \n",
       "Group_visits                                            2        0   0.0   \n",
       "Churn                                                   2        0   0.0   \n",
       "Contract_period                                         3        0   0.0   \n",
       "Month_to_end_contract                                  12        0   0.0   \n",
       "Age                                                    23        0   0.0   \n",
       "Lifetime                                               29        0   0.0   \n",
       "Avg_class_frequency_current_month                    3820        0   0.0   \n",
       "Avg_class_frequency_total                            3913        0   0.0   \n",
       "Avg_additional_charges_total                         4000        0   0.0   \n",
       "\n",
       "                                      Type  \n",
       "gender                               int64  \n",
       "Near_Location                        int64  \n",
       "Partner                              int64  \n",
       "Promo_friends                        int64  \n",
       "Phone                                int64  \n",
       "Group_visits                         int64  \n",
       "Churn                                int64  \n",
       "Contract_period                      int64  \n",
       "Month_to_end_contract              float64  \n",
       "Age                                  int64  \n",
       "Lifetime                             int64  \n",
       "Avg_class_frequency_current_month  float64  \n",
       "Avg_class_frequency_total          float64  \n",
       "Avg_additional_charges_total       float64  "
      ]
     },
     "metadata": {},
     "output_type": "display_data"
    },
    {
     "data": {
      "text/html": [
       "<div>\n",
       "<style scoped>\n",
       "    .dataframe tbody tr th:only-of-type {\n",
       "        vertical-align: middle;\n",
       "    }\n",
       "\n",
       "    .dataframe tbody tr th {\n",
       "        vertical-align: top;\n",
       "    }\n",
       "\n",
       "    .dataframe thead th {\n",
       "        text-align: right;\n",
       "    }\n",
       "</style>\n",
       "<table border=\"1\" class=\"dataframe\">\n",
       "  <thead>\n",
       "    <tr style=\"text-align: right;\">\n",
       "      <th></th>\n",
       "      <th>gender</th>\n",
       "      <th>near_location</th>\n",
       "      <th>partner</th>\n",
       "      <th>promo_friends</th>\n",
       "      <th>phone</th>\n",
       "      <th>contract_period</th>\n",
       "      <th>group_visits</th>\n",
       "      <th>age</th>\n",
       "      <th>avg_additional_charges_total</th>\n",
       "      <th>month_to_end_contract</th>\n",
       "      <th>lifetime</th>\n",
       "      <th>avg_class_frequency_total</th>\n",
       "      <th>avg_class_frequency_current_month</th>\n",
       "      <th>churn</th>\n",
       "    </tr>\n",
       "  </thead>\n",
       "  <tbody>\n",
       "    <tr>\n",
       "      <th>0</th>\n",
       "      <td>1</td>\n",
       "      <td>1</td>\n",
       "      <td>1</td>\n",
       "      <td>1</td>\n",
       "      <td>0</td>\n",
       "      <td>6</td>\n",
       "      <td>1</td>\n",
       "      <td>29</td>\n",
       "      <td>14.227470</td>\n",
       "      <td>5.0</td>\n",
       "      <td>3</td>\n",
       "      <td>0.020398</td>\n",
       "      <td>0.000000</td>\n",
       "      <td>0</td>\n",
       "    </tr>\n",
       "    <tr>\n",
       "      <th>1</th>\n",
       "      <td>0</td>\n",
       "      <td>1</td>\n",
       "      <td>0</td>\n",
       "      <td>0</td>\n",
       "      <td>1</td>\n",
       "      <td>12</td>\n",
       "      <td>1</td>\n",
       "      <td>31</td>\n",
       "      <td>113.202938</td>\n",
       "      <td>12.0</td>\n",
       "      <td>7</td>\n",
       "      <td>1.922936</td>\n",
       "      <td>1.910244</td>\n",
       "      <td>0</td>\n",
       "    </tr>\n",
       "    <tr>\n",
       "      <th>2</th>\n",
       "      <td>0</td>\n",
       "      <td>1</td>\n",
       "      <td>1</td>\n",
       "      <td>0</td>\n",
       "      <td>1</td>\n",
       "      <td>1</td>\n",
       "      <td>0</td>\n",
       "      <td>28</td>\n",
       "      <td>129.448479</td>\n",
       "      <td>1.0</td>\n",
       "      <td>2</td>\n",
       "      <td>1.859098</td>\n",
       "      <td>1.736502</td>\n",
       "      <td>0</td>\n",
       "    </tr>\n",
       "    <tr>\n",
       "      <th>3</th>\n",
       "      <td>0</td>\n",
       "      <td>1</td>\n",
       "      <td>1</td>\n",
       "      <td>1</td>\n",
       "      <td>1</td>\n",
       "      <td>12</td>\n",
       "      <td>1</td>\n",
       "      <td>33</td>\n",
       "      <td>62.669863</td>\n",
       "      <td>12.0</td>\n",
       "      <td>2</td>\n",
       "      <td>3.205633</td>\n",
       "      <td>3.357215</td>\n",
       "      <td>0</td>\n",
       "    </tr>\n",
       "    <tr>\n",
       "      <th>4</th>\n",
       "      <td>1</td>\n",
       "      <td>1</td>\n",
       "      <td>1</td>\n",
       "      <td>1</td>\n",
       "      <td>1</td>\n",
       "      <td>1</td>\n",
       "      <td>0</td>\n",
       "      <td>26</td>\n",
       "      <td>198.362265</td>\n",
       "      <td>1.0</td>\n",
       "      <td>3</td>\n",
       "      <td>1.113884</td>\n",
       "      <td>1.120078</td>\n",
       "      <td>0</td>\n",
       "    </tr>\n",
       "    <tr>\n",
       "      <th>5</th>\n",
       "      <td>1</td>\n",
       "      <td>1</td>\n",
       "      <td>0</td>\n",
       "      <td>0</td>\n",
       "      <td>1</td>\n",
       "      <td>1</td>\n",
       "      <td>1</td>\n",
       "      <td>34</td>\n",
       "      <td>450.743960</td>\n",
       "      <td>1.0</td>\n",
       "      <td>3</td>\n",
       "      <td>2.623477</td>\n",
       "      <td>2.637007</td>\n",
       "      <td>0</td>\n",
       "    </tr>\n",
       "    <tr>\n",
       "      <th>6</th>\n",
       "      <td>1</td>\n",
       "      <td>1</td>\n",
       "      <td>1</td>\n",
       "      <td>1</td>\n",
       "      <td>0</td>\n",
       "      <td>6</td>\n",
       "      <td>1</td>\n",
       "      <td>32</td>\n",
       "      <td>94.266389</td>\n",
       "      <td>6.0</td>\n",
       "      <td>2</td>\n",
       "      <td>1.138941</td>\n",
       "      <td>1.277242</td>\n",
       "      <td>0</td>\n",
       "    </tr>\n",
       "    <tr>\n",
       "      <th>7</th>\n",
       "      <td>0</td>\n",
       "      <td>1</td>\n",
       "      <td>0</td>\n",
       "      <td>0</td>\n",
       "      <td>1</td>\n",
       "      <td>1</td>\n",
       "      <td>0</td>\n",
       "      <td>30</td>\n",
       "      <td>217.786641</td>\n",
       "      <td>1.0</td>\n",
       "      <td>0</td>\n",
       "      <td>1.213502</td>\n",
       "      <td>1.049387</td>\n",
       "      <td>1</td>\n",
       "    </tr>\n",
       "    <tr>\n",
       "      <th>8</th>\n",
       "      <td>1</td>\n",
       "      <td>1</td>\n",
       "      <td>1</td>\n",
       "      <td>1</td>\n",
       "      <td>1</td>\n",
       "      <td>1</td>\n",
       "      <td>1</td>\n",
       "      <td>23</td>\n",
       "      <td>45.409909</td>\n",
       "      <td>1.0</td>\n",
       "      <td>1</td>\n",
       "      <td>1.106239</td>\n",
       "      <td>1.059333</td>\n",
       "      <td>0</td>\n",
       "    </tr>\n",
       "    <tr>\n",
       "      <th>9</th>\n",
       "      <td>0</td>\n",
       "      <td>1</td>\n",
       "      <td>0</td>\n",
       "      <td>0</td>\n",
       "      <td>1</td>\n",
       "      <td>1</td>\n",
       "      <td>0</td>\n",
       "      <td>31</td>\n",
       "      <td>65.310836</td>\n",
       "      <td>1.0</td>\n",
       "      <td>11</td>\n",
       "      <td>1.810852</td>\n",
       "      <td>1.951368</td>\n",
       "      <td>0</td>\n",
       "    </tr>\n",
       "  </tbody>\n",
       "</table>\n",
       "</div>"
      ],
      "text/plain": [
       "   gender  near_location  partner  promo_friends  phone  contract_period  \\\n",
       "0       1              1        1              1      0                6   \n",
       "1       0              1        0              0      1               12   \n",
       "2       0              1        1              0      1                1   \n",
       "3       0              1        1              1      1               12   \n",
       "4       1              1        1              1      1                1   \n",
       "5       1              1        0              0      1                1   \n",
       "6       1              1        1              1      0                6   \n",
       "7       0              1        0              0      1                1   \n",
       "8       1              1        1              1      1                1   \n",
       "9       0              1        0              0      1                1   \n",
       "\n",
       "   group_visits  age  avg_additional_charges_total  month_to_end_contract  \\\n",
       "0             1   29                     14.227470                    5.0   \n",
       "1             1   31                    113.202938                   12.0   \n",
       "2             0   28                    129.448479                    1.0   \n",
       "3             1   33                     62.669863                   12.0   \n",
       "4             0   26                    198.362265                    1.0   \n",
       "5             1   34                    450.743960                    1.0   \n",
       "6             1   32                     94.266389                    6.0   \n",
       "7             0   30                    217.786641                    1.0   \n",
       "8             1   23                     45.409909                    1.0   \n",
       "9             0   31                     65.310836                    1.0   \n",
       "\n",
       "   lifetime  avg_class_frequency_total  avg_class_frequency_current_month  \\\n",
       "0         3                   0.020398                           0.000000   \n",
       "1         7                   1.922936                           1.910244   \n",
       "2         2                   1.859098                           1.736502   \n",
       "3         2                   3.205633                           3.357215   \n",
       "4         3                   1.113884                           1.120078   \n",
       "5         3                   2.623477                           2.637007   \n",
       "6         2                   1.138941                           1.277242   \n",
       "7         0                   1.213502                           1.049387   \n",
       "8         1                   1.106239                           1.059333   \n",
       "9        11                   1.810852                           1.951368   \n",
       "\n",
       "   churn  \n",
       "0      0  \n",
       "1      0  \n",
       "2      0  \n",
       "3      0  \n",
       "4      0  \n",
       "5      0  \n",
       "6      0  \n",
       "7      1  \n",
       "8      0  \n",
       "9      0  "
      ]
     },
     "metadata": {},
     "output_type": "display_data"
    }
   ],
   "source": [
    "df = pd.read_csv('/datasets/gym_churn.csv')# import csv file with c client's data per month+his current status\n",
    "# subscription+visits and purchases log\n",
    "print(df.shape) # the size of dataframe\n",
    "print()\n",
    "\n",
    "# check the formats and gaps,discreteness/continuity\n",
    "def unique_values(df):\n",
    "    values = pd.DataFrame()\n",
    "    for col in df.columns:\n",
    "        values[col] = [df[col].unique(),df[col].nunique(),df[col].isna().sum(),\n",
    "                       round(df[col].isna().sum()*100/len(df),2),df[col].dtype.name]\n",
    "                      \n",
    "    return values.transpose().sort_values(by=1).rename({0:'Values',1:'Number of unique values',\n",
    "                                                        2:'Q-ty NaN', 3:'% Nan',4:'Type'},axis=1)\n",
    "display(unique_values(df))\n",
    "\n",
    "# conversion of the column names to lower case\n",
    "df.columns = df.columns.str.lower()\n",
    "\n",
    "display(df.head(10))# select top 10 rows\n"
   ]
  },
  {
   "cell_type": "markdown",
   "metadata": {},
   "source": [
    "#### Conclusion\n",
    "     - The dataset contains 4000 rows and 14 columns (13 attributes and \"churn\"- the fact of customer churn)\n",
    "     - There are no gaps in data\n",
    "     - The attributes comprise 5 continuous and 8 discrete ones\n"
   ]
  },
  {
   "cell_type": "markdown",
   "metadata": {},
   "source": [
    "### EDA"
   ]
  },
  {
   "cell_type": "code",
   "execution_count": 16,
   "metadata": {
    "scrolled": true
   },
   "outputs": [
    {
     "data": {
      "text/html": [
       "<div>\n",
       "<style scoped>\n",
       "    .dataframe tbody tr th:only-of-type {\n",
       "        vertical-align: middle;\n",
       "    }\n",
       "\n",
       "    .dataframe tbody tr th {\n",
       "        vertical-align: top;\n",
       "    }\n",
       "\n",
       "    .dataframe thead th {\n",
       "        text-align: right;\n",
       "    }\n",
       "</style>\n",
       "<table border=\"1\" class=\"dataframe\">\n",
       "  <thead>\n",
       "    <tr style=\"text-align: right;\">\n",
       "      <th></th>\n",
       "      <th>gender</th>\n",
       "      <th>near_location</th>\n",
       "      <th>partner</th>\n",
       "      <th>promo_friends</th>\n",
       "      <th>phone</th>\n",
       "      <th>contract_period</th>\n",
       "      <th>group_visits</th>\n",
       "      <th>age</th>\n",
       "      <th>avg_additional_charges_total</th>\n",
       "      <th>month_to_end_contract</th>\n",
       "      <th>lifetime</th>\n",
       "      <th>avg_class_frequency_total</th>\n",
       "      <th>avg_class_frequency_current_month</th>\n",
       "    </tr>\n",
       "  </thead>\n",
       "  <tbody>\n",
       "    <tr>\n",
       "      <th>count</th>\n",
       "      <td>4000.000000</td>\n",
       "      <td>4000.000000</td>\n",
       "      <td>4000.000000</td>\n",
       "      <td>4000.000000</td>\n",
       "      <td>4000.000000</td>\n",
       "      <td>4000.000000</td>\n",
       "      <td>4000.000000</td>\n",
       "      <td>4000.000000</td>\n",
       "      <td>4000.000000</td>\n",
       "      <td>4000.000000</td>\n",
       "      <td>4000.000000</td>\n",
       "      <td>4000.000000</td>\n",
       "      <td>4000.000000</td>\n",
       "    </tr>\n",
       "    <tr>\n",
       "      <th>mean</th>\n",
       "      <td>0.510250</td>\n",
       "      <td>0.845250</td>\n",
       "      <td>0.486750</td>\n",
       "      <td>0.308500</td>\n",
       "      <td>0.903500</td>\n",
       "      <td>4.681250</td>\n",
       "      <td>0.412250</td>\n",
       "      <td>29.184250</td>\n",
       "      <td>146.943728</td>\n",
       "      <td>4.322750</td>\n",
       "      <td>3.724750</td>\n",
       "      <td>1.879020</td>\n",
       "      <td>1.767052</td>\n",
       "    </tr>\n",
       "    <tr>\n",
       "      <th>std</th>\n",
       "      <td>0.499957</td>\n",
       "      <td>0.361711</td>\n",
       "      <td>0.499887</td>\n",
       "      <td>0.461932</td>\n",
       "      <td>0.295313</td>\n",
       "      <td>4.549706</td>\n",
       "      <td>0.492301</td>\n",
       "      <td>3.258367</td>\n",
       "      <td>96.355602</td>\n",
       "      <td>4.191297</td>\n",
       "      <td>3.749267</td>\n",
       "      <td>0.972245</td>\n",
       "      <td>1.052906</td>\n",
       "    </tr>\n",
       "    <tr>\n",
       "      <th>min</th>\n",
       "      <td>0.000000</td>\n",
       "      <td>0.000000</td>\n",
       "      <td>0.000000</td>\n",
       "      <td>0.000000</td>\n",
       "      <td>0.000000</td>\n",
       "      <td>1.000000</td>\n",
       "      <td>0.000000</td>\n",
       "      <td>18.000000</td>\n",
       "      <td>0.148205</td>\n",
       "      <td>1.000000</td>\n",
       "      <td>0.000000</td>\n",
       "      <td>0.000000</td>\n",
       "      <td>0.000000</td>\n",
       "    </tr>\n",
       "    <tr>\n",
       "      <th>25%</th>\n",
       "      <td>0.000000</td>\n",
       "      <td>1.000000</td>\n",
       "      <td>0.000000</td>\n",
       "      <td>0.000000</td>\n",
       "      <td>1.000000</td>\n",
       "      <td>1.000000</td>\n",
       "      <td>0.000000</td>\n",
       "      <td>27.000000</td>\n",
       "      <td>68.868830</td>\n",
       "      <td>1.000000</td>\n",
       "      <td>1.000000</td>\n",
       "      <td>1.180875</td>\n",
       "      <td>0.963003</td>\n",
       "    </tr>\n",
       "    <tr>\n",
       "      <th>50%</th>\n",
       "      <td>1.000000</td>\n",
       "      <td>1.000000</td>\n",
       "      <td>0.000000</td>\n",
       "      <td>0.000000</td>\n",
       "      <td>1.000000</td>\n",
       "      <td>1.000000</td>\n",
       "      <td>0.000000</td>\n",
       "      <td>29.000000</td>\n",
       "      <td>136.220159</td>\n",
       "      <td>1.000000</td>\n",
       "      <td>3.000000</td>\n",
       "      <td>1.832768</td>\n",
       "      <td>1.719574</td>\n",
       "    </tr>\n",
       "    <tr>\n",
       "      <th>75%</th>\n",
       "      <td>1.000000</td>\n",
       "      <td>1.000000</td>\n",
       "      <td>1.000000</td>\n",
       "      <td>1.000000</td>\n",
       "      <td>1.000000</td>\n",
       "      <td>6.000000</td>\n",
       "      <td>1.000000</td>\n",
       "      <td>31.000000</td>\n",
       "      <td>210.949625</td>\n",
       "      <td>6.000000</td>\n",
       "      <td>5.000000</td>\n",
       "      <td>2.536078</td>\n",
       "      <td>2.510336</td>\n",
       "    </tr>\n",
       "    <tr>\n",
       "      <th>max</th>\n",
       "      <td>1.000000</td>\n",
       "      <td>1.000000</td>\n",
       "      <td>1.000000</td>\n",
       "      <td>1.000000</td>\n",
       "      <td>1.000000</td>\n",
       "      <td>12.000000</td>\n",
       "      <td>1.000000</td>\n",
       "      <td>41.000000</td>\n",
       "      <td>552.590740</td>\n",
       "      <td>12.000000</td>\n",
       "      <td>31.000000</td>\n",
       "      <td>6.023668</td>\n",
       "      <td>6.146783</td>\n",
       "    </tr>\n",
       "  </tbody>\n",
       "</table>\n",
       "</div>"
      ],
      "text/plain": [
       "            gender  near_location      partner  promo_friends        phone  \\\n",
       "count  4000.000000    4000.000000  4000.000000    4000.000000  4000.000000   \n",
       "mean      0.510250       0.845250     0.486750       0.308500     0.903500   \n",
       "std       0.499957       0.361711     0.499887       0.461932     0.295313   \n",
       "min       0.000000       0.000000     0.000000       0.000000     0.000000   \n",
       "25%       0.000000       1.000000     0.000000       0.000000     1.000000   \n",
       "50%       1.000000       1.000000     0.000000       0.000000     1.000000   \n",
       "75%       1.000000       1.000000     1.000000       1.000000     1.000000   \n",
       "max       1.000000       1.000000     1.000000       1.000000     1.000000   \n",
       "\n",
       "       contract_period  group_visits          age  \\\n",
       "count      4000.000000   4000.000000  4000.000000   \n",
       "mean          4.681250      0.412250    29.184250   \n",
       "std           4.549706      0.492301     3.258367   \n",
       "min           1.000000      0.000000    18.000000   \n",
       "25%           1.000000      0.000000    27.000000   \n",
       "50%           1.000000      0.000000    29.000000   \n",
       "75%           6.000000      1.000000    31.000000   \n",
       "max          12.000000      1.000000    41.000000   \n",
       "\n",
       "       avg_additional_charges_total  month_to_end_contract     lifetime  \\\n",
       "count                   4000.000000            4000.000000  4000.000000   \n",
       "mean                     146.943728               4.322750     3.724750   \n",
       "std                       96.355602               4.191297     3.749267   \n",
       "min                        0.148205               1.000000     0.000000   \n",
       "25%                       68.868830               1.000000     1.000000   \n",
       "50%                      136.220159               1.000000     3.000000   \n",
       "75%                      210.949625               6.000000     5.000000   \n",
       "max                      552.590740              12.000000    31.000000   \n",
       "\n",
       "       avg_class_frequency_total  avg_class_frequency_current_month  \n",
       "count                4000.000000                        4000.000000  \n",
       "mean                    1.879020                           1.767052  \n",
       "std                     0.972245                           1.052906  \n",
       "min                     0.000000                           0.000000  \n",
       "25%                     1.180875                           0.963003  \n",
       "50%                     1.832768                           1.719574  \n",
       "75%                     2.536078                           2.510336  \n",
       "max                     6.023668                           6.146783  "
      ]
     },
     "execution_count": 16,
     "metadata": {},
     "output_type": "execute_result"
    }
   ],
   "source": [
    "# examine average values and bias\n",
    "df.drop('churn',axis=1).describe()\n"
   ]
  },
  {
   "cell_type": "code",
   "execution_count": 17,
   "metadata": {
    "scrolled": true
   },
   "outputs": [
    {
     "data": {
      "text/html": [
       "<div>\n",
       "<style scoped>\n",
       "    .dataframe tbody tr th:only-of-type {\n",
       "        vertical-align: middle;\n",
       "    }\n",
       "\n",
       "    .dataframe tbody tr th {\n",
       "        vertical-align: top;\n",
       "    }\n",
       "\n",
       "    .dataframe thead th {\n",
       "        text-align: right;\n",
       "    }\n",
       "</style>\n",
       "<table border=\"1\" class=\"dataframe\">\n",
       "  <thead>\n",
       "    <tr style=\"text-align: right;\">\n",
       "      <th></th>\n",
       "      <th>gender</th>\n",
       "      <th>near_location</th>\n",
       "      <th>partner</th>\n",
       "      <th>promo_friends</th>\n",
       "      <th>phone</th>\n",
       "      <th>contract_period</th>\n",
       "      <th>group_visits</th>\n",
       "      <th>age</th>\n",
       "      <th>avg_additional_charges_total</th>\n",
       "      <th>month_to_end_contract</th>\n",
       "      <th>lifetime</th>\n",
       "      <th>avg_class_frequency_total</th>\n",
       "      <th>avg_class_frequency_current_month</th>\n",
       "    </tr>\n",
       "    <tr>\n",
       "      <th>churn</th>\n",
       "      <th></th>\n",
       "      <th></th>\n",
       "      <th></th>\n",
       "      <th></th>\n",
       "      <th></th>\n",
       "      <th></th>\n",
       "      <th></th>\n",
       "      <th></th>\n",
       "      <th></th>\n",
       "      <th></th>\n",
       "      <th></th>\n",
       "      <th></th>\n",
       "      <th></th>\n",
       "    </tr>\n",
       "  </thead>\n",
       "  <tbody>\n",
       "    <tr>\n",
       "      <th>0</th>\n",
       "      <td>0.510037</td>\n",
       "      <td>0.873086</td>\n",
       "      <td>0.534195</td>\n",
       "      <td>0.353522</td>\n",
       "      <td>0.903709</td>\n",
       "      <td>5.747193</td>\n",
       "      <td>0.464103</td>\n",
       "      <td>29.976523</td>\n",
       "      <td>158.445715</td>\n",
       "      <td>5.283089</td>\n",
       "      <td>4.711807</td>\n",
       "      <td>2.024876</td>\n",
       "      <td>2.027882</td>\n",
       "    </tr>\n",
       "    <tr>\n",
       "      <th>1</th>\n",
       "      <td>0.510839</td>\n",
       "      <td>0.768143</td>\n",
       "      <td>0.355325</td>\n",
       "      <td>0.183789</td>\n",
       "      <td>0.902922</td>\n",
       "      <td>1.728558</td>\n",
       "      <td>0.268615</td>\n",
       "      <td>26.989632</td>\n",
       "      <td>115.082899</td>\n",
       "      <td>1.662582</td>\n",
       "      <td>0.990575</td>\n",
       "      <td>1.474995</td>\n",
       "      <td>1.044546</td>\n",
       "    </tr>\n",
       "  </tbody>\n",
       "</table>\n",
       "</div>"
      ],
      "text/plain": [
       "         gender  near_location   partner  promo_friends     phone  \\\n",
       "churn                                                               \n",
       "0      0.510037       0.873086  0.534195       0.353522  0.903709   \n",
       "1      0.510839       0.768143  0.355325       0.183789  0.902922   \n",
       "\n",
       "       contract_period  group_visits        age  avg_additional_charges_total  \\\n",
       "churn                                                                           \n",
       "0             5.747193      0.464103  29.976523                    158.445715   \n",
       "1             1.728558      0.268615  26.989632                    115.082899   \n",
       "\n",
       "       month_to_end_contract  lifetime  avg_class_frequency_total  \\\n",
       "churn                                                               \n",
       "0                   5.283089  4.711807                   2.024876   \n",
       "1                   1.662582  0.990575                   1.474995   \n",
       "\n",
       "       avg_class_frequency_current_month  \n",
       "churn                                     \n",
       "0                               2.027882  \n",
       "1                               1.044546  "
      ]
     },
     "metadata": {},
     "output_type": "display_data"
    }
   ],
   "source": [
    "# average values for both groups — those who left and who stayed\n",
    "groups = df.groupby('churn').mean()\n",
    "display(groups)"
   ]
  },
  {
   "cell_type": "code",
   "execution_count": 18,
   "metadata": {
    "scrolled": false
   },
   "outputs": [
    {
     "data": {
      "image/png": "[encoded data removed]",
      "text/plain": [
       "<Figure size 1080x504 with 5 Axes>"
      ]
     },
     "metadata": {
      "needs_background": "light"
     },
     "output_type": "display_data"
    }
   ],
   "source": [
    "# creations of histograms for attributes of both left and stayed customers\n",
    " # identifying continuous attributes\n",
    "continuous = ['age','avg_additional_charges_total','lifetime','avg_class_frequency_total','avg_class_frequency_current_month']\n",
    "\n",
    "col_count, row_count =3,3 #the q-ty of columns and rows in the graph\n",
    "plt.figure(figsize=(15, 7))\n",
    "\n",
    "for i, feature in enumerate(continuous):\n",
    "        sns.histplot(df,x=df[feature],hue='churn',kde=True,\n",
    "                   ax=plt.subplot(row_count,col_count,i+1))\n",
    "        plt.title(feature)\n",
    "plt.tight_layout()\n",
    "\n",
    "    "
   ]
  },
  {
   "cell_type": "code",
   "execution_count": 19,
   "metadata": {
    "scrolled": true
   },
   "outputs": [
    {
     "data": {
      "image/png": "[encoded data removed]",
      "text/plain": [
       "<Figure size 1224x648 with 8 Axes>"
      ]
     },
     "metadata": {
      "needs_background": "light"
     },
     "output_type": "display_data"
    }
   ],
   "source": [
    "# create bar charts for discrete attributes\n",
    "discrete = ['gender','near_location','partner','promo_friends','phone','contract_period','group_visits','month_to_end_contract']\n",
    "\n",
    "plt.figure(figsize=(17, 9))\n",
    "\n",
    "i=0\n",
    "for parametr in discrete:\n",
    "    parametres = df.pivot_table(index=parametr, columns='churn', values='lifetime',aggfunc='count')\n",
    "    parametres.plot(kind='bar',stacked=True,alpha=0.5, ax=plt.subplot(3,3,i+1))\n",
    "    i+=1\n"
   ]
  },
  {
   "cell_type": "code",
   "execution_count": 20,
   "metadata": {
    "scrolled": false
   },
   "outputs": [
    {
     "data": {
      "text/plain": [
       "<AxesSubplot:>"
      ]
     },
     "execution_count": 20,
     "metadata": {},
     "output_type": "execute_result"
    },
    {
     "data": {
      "image/png": "[encoded data removed]",
      "text/plain": [
       "<Figure size 1080x1080 with 2 Axes>"
      ]
     },
     "metadata": {
      "needs_background": "light"
     },
     "output_type": "display_data"
    }
   ],
   "source": [
    "# creation of a matrix of correlation beetween attribites\n",
    "cm = df.corr() \n",
    "plt.figure(figsize=(15, 15))\n",
    "sns.heatmap(cm,annot=True, square=True,vmin=-1,vmax=1, cmap='coolwarm')\n"
   ]
  },
  {
   "cell_type": "markdown",
   "metadata": {},
   "source": [
    "#### Conclusion"
   ]
  },
  {
   "cell_type": "markdown",
   "metadata": {},
   "source": [
    "- No influence on churn rate: gender, left phone\n",
    "\n",
    "- Attributes with influence on churn rate:\n",
    "\n",
    "- among discreet attributes:\n",
    "- the contract_period is inversely proportional to the possibility of customer churn (1 month- 50/50, 6 months- 25/75,     12 months-10/90)\n",
    "- month_to_end_contract (1 month to the end of contract the possibility of customer churn is 40%,\n",
    "  besides, 6 months is also a significant point,but the possibility is less or equal 10%)\n",
    "- group_visits decreases the possibility of customer churn\n",
    "- an initial visit through an offer \"bring friend\" reduce the possibility as well\n",
    "- near_location (the closer a client lives the lower the possibility of customer churn) \n",
    "- a partner discount reduces the possibility also\n",
    "\n",
    "- among continuous attributes:\n",
    "- the most typical age for leaving clients - 27, for staying-31\n",
    "- left clients have had a lower additional sales\n",
    "- the period since the first visit to \"Bodybuilder\" (clients leave \"Bodybuilder\" during the first 5 months after the first       visit. The longer period- the less customer churn)\n",
    "- avg_class_frequency of left clients-1,5, of stayed-2,3. Last month before the churn avg_class_frequencyis close to null.\n",
    "    "
   ]
  },
  {
   "cell_type": "markdown",
   "metadata": {},
   "source": [
    "### Model for customer churn forecasting"
   ]
  },
  {
   "cell_type": "code",
   "execution_count": 21,
   "metadata": {
    "scrolled": true
   },
   "outputs": [
    {
     "name": "stdout",
     "output_type": "stream",
     "text": [
      "LogisticRegression(random_state=0)\n",
      "\tAccuracy: 0.94 \tPrecision: 0.90 \tRecall: 0.85\n",
      "RandomForestClassifier(random_state=0)\n",
      "\tAccuracy: 0.92 \tPrecision: 0.88 \tRecall: 0.83\n"
     ]
    }
   ],
   "source": [
    "# binary classification model\n",
    "# target feature-the fact of customer churn\n",
    "from sklearn.model_selection import train_test_split\n",
    "from sklearn.linear_model import LogisticRegression \n",
    "from sklearn.ensemble import RandomForestClassifier # \n",
    "from sklearn.metrics import accuracy_score, precision_score, recall_score\n",
    "from sklearn.preprocessing import StandardScaler\n",
    "\n",
    "# the division of the data on features (matrix X) и target variable (y)\n",
    "X = df.drop('churn', axis = 1)\n",
    "y = df['churn']\n",
    "\n",
    "# the division of the data on training and validation samples\n",
    "X_train, X_test, y_train, y_test = train_test_split(X, y, test_size=0.2, random_state=0,stratify = y)\n",
    "\n",
    "# create an object with class StandardScaler and apply to the training sample\n",
    "scaler = StandardScaler()\n",
    "X_train_st = scaler.fit_transform(\n",
    "    X_train)\n",
    "\n",
    "# apply a standardization to the indicators matrix of the validation sample\n",
    "X_test_st = scaler.transform(X_test)\n",
    "\n",
    "# the list of models\n",
    "models = [\n",
    "    LogisticRegression(random_state=0),\n",
    "    RandomForestClassifier(n_estimators = 100,random_state=0),\n",
    "]\n",
    "\n",
    "# input a model and samples into the finctions to calculate quality metrics\n",
    "def make_prediction(m, X_train, y_train, X_test, y_test):\n",
    "    model = m\n",
    "    model.fit(X_train, y_train)\n",
    "    y_pred = model.predict(X_test)\n",
    "    print(\n",
    "        '\\tAccuracy: {:.2f} \\tPrecision: {:.2f} \\tRecall: {:.2f}'.format(\n",
    "            accuracy_score(y_test, y_pred),\n",
    "            precision_score(y_test, y_pred),\n",
    "            recall_score(y_test, y_pred)) \n",
    "        )\n",
    "   \n",
    "# the cycle for the each model from the list \"models\" to calculate quality metrics\n",
    "for i in models:\n",
    "    print(i)\n",
    "    make_prediction(i, X_train_st, y_train, X_test_st, y_test)\n",
    "\n"
   ]
  },
  {
   "cell_type": "markdown",
   "metadata": {},
   "source": [
    "#### Conclusions\n",
    "- The share of right results is almost equal for both models. Precision and recall are higher in case of                         LogisticRegression"
   ]
  },
  {
   "cell_type": "markdown",
   "metadata": {},
   "source": [
    "### Clients' clustering"
   ]
  },
  {
   "cell_type": "code",
   "execution_count": null,
   "metadata": {},
   "outputs": [],
   "source": [
    "from scipy.cluster.hierarchy import dendrogram, linkage \n",
    "scaler = StandardScaler() \n",
    "x_sc = scaler.fit_transform(df.drop(columns = ['churn'])) \n",
    "\n",
    "\n",
    "linked = linkage(x_sc, method = 'ward') \n",
    "\n",
    "# clusters' visualisation\n",
    "plt.figure(figsize=(15, 10))  \n",
    "dendrogram(linked, orientation='top')\n",
    "plt.title('Hierarchial clustering for GYM')\n",
    "plt.show()\n",
    "# We make an assumption of 4 clusters based on the dendrogramma"
   ]
  },
  {
   "cell_type": "code",
   "execution_count": null,
   "metadata": {
    "scrolled": true
   },
   "outputs": [],
   "source": [
    "# the forecast of a clusterisation model based on k-means algorithm\n",
    "from sklearn.cluster import KMeans\n",
    "import itertools \n",
    "\n",
    "# introduce the function of pair features visualisaton for clusters\n",
    "def show_clusters_on_plot(df, x_name, y_name, cluster_name):\n",
    "    plt.figure(figsize=(5, 5))\n",
    "    sns.scatterplot(\n",
    "        df[x_name], df[y_name], hue=df[cluster_name], palette='Paired'\n",
    "    )\n",
    "    plt.title('{} vs {}'.format(x_name, y_name))\n",
    "    plt.show()\n",
    "\n",
    "# k-means model with 4 clusters\n",
    "km = KMeans(n_clusters=4, random_state=0)\n",
    "\n",
    "# the forecast of clusters (the algorithm assigns marks from 0 to 4 to clusters)\n",
    "labels = km.fit_predict(x_sc)\n",
    "\n",
    "# save clusters' marks in our dataset\n",
    "df['cluster_km'] = labels\n",
    "\n",
    "\n",
    "# shoe average values of features for each cluster\n",
    "new= df.groupby('cluster_km').mean().reset_index()\n",
    "\n",
    "\n",
    "# the graphs with pair features with a breakdown of clusters\n",
    "col_pairs = list(itertools.combinations(new.drop('cluster_km', axis=1).columns, 2))\n",
    "for pair in col_pairs:\n",
    "    show_clusters_on_plot(new, pair[0], pair[1], 'cluster_km')\n",
    "    "
   ]
  },
  {
   "cell_type": "code",
   "execution_count": null,
   "metadata": {
    "scrolled": true
   },
   "outputs": [],
   "source": [
    "#  continuous feautures distibution with a breakdown of clusters\n",
    "\n",
    "continuous = ['age','avg_additional_charges_total','lifetime','avg_class_frequency_total','avg_class_frequency_current_month']\n",
    "\n",
    "col_count, row_count = 3,3 #число рядов и столбцов в сетке графиков\n",
    "plt.figure(figsize=(15, 10))\n",
    "\n",
    "for i, feature in enumerate(continuous):\n",
    "        \n",
    "        sns.histplot(df,x=df[feature],hue='cluster_km',kde=True,\n",
    "                   ax=plt.subplot(row_count,col_count,i+1),palette='hls')\n",
    "        plt.title(feature)\n",
    "plt.tight_layout()\n",
    "\n"
   ]
  },
  {
   "cell_type": "code",
   "execution_count": null,
   "metadata": {},
   "outputs": [],
   "source": [
    "# the share of customer churn for each cluster\n",
    "cluster_lost = df.groupby('cluster_km').agg({'churn':'mean'}).rename(columns={'churn':'lost'})\n",
    "cluster_lost['% lost'] = round(cluster_lost['lost']*100,2)\n",
    "cluster_lost['% lost'] = cluster_lost['% lost'].astype(str) + '%'\n",
    "print(cluster_lost)"
   ]
  },
  {
   "cell_type": "markdown",
   "metadata": {},
   "source": [
    "#### Conclusions\n",
    " - We have split clients' database on 4 clusters based on the dendrogram\n",
    " \n",
    "    \n",
    " - The highest customer churn is in the 1st cluster:\n",
    "    - the biggest one\n",
    "    - the prevaling share of women\n",
    "    - clients leaving far from \"Bodybuilder\"\n",
    "    - the share of clients_partners is small\n",
    "    - small periods of subscriptions\n",
    "    - clients with seldom group_visits\n",
    "    - the most common age among the clients is the the age prone to churn\n",
    "    - the lowest quantity of the clients started with \"bring a friend\"\n",
    "    - the clients with insignificant additional costs\n",
    "    - little time since the first visit\n",
    "    - the frequency of classes is low\n",
    "    - little time_to_end_of_contract left\n",
    "    \n",
    "    \n",
    "  - The second one in customer churn is cluster 0 with 27% \n",
    "    - the 2d in size\n",
    "    - the share of women is much less than in 1st cluster and less than in 3d cluster\n",
    "    - clients leaving not so far from \"Bodybuilder\" as the 1st cluster, almost on the 2d level, but far lower than the 3d one\n",
    "    - the share of clients_partners is bigger than in 1st cluster, but smaller than in 3d one\n",
    "    - small periods of subscriptions, but bigger than in 1st cluster and lower than in 3d one\n",
    "    - the q-ty of group_visits is bigger than in 1st cluster and smaller than in 3d one\n",
    "    - the most common age among the clients is closer to churn age but not so close as in 1st cluster and not so close to             loyalty age as in 3d one\n",
    "    - the bigger quantity of the clients started with \"bring a friend\" than in 1st cluster but smaller than in 3d one\n",
    "    - additional costs are bigger than in 1st cluster but smaller than in 3d one\n",
    "    - lifetime is bigger than in 1st one and smaller than in 3d one\n",
    "    - the frequency of classes is bigger than in 1st one and smaller than in 3d one\n",
    "    - time_to_end_of_contract is more than in 1st cluster but smaller than in 3d one\n",
    "    \n",
    "\n",
    " - The lowest customer churn is in the 3d cluster:\n",
    "   - the smallest one\n",
    "   - the highest rates of all features favoured to loyalty\n",
    "   - except for: age mix,gender and average_class_frequency. These features are the highest in the 2d cluster\n",
    "   \n",
    "   \n",
    " - The 2d cluster is almost on the same level as the 3d one; a loyal one. \n",
    " \n",
    " - why the 2d could be the most loyal like 3d one:\n",
    "  \n",
    "   - the prevailing share of men\n",
    "   - group_visits is almost as frequent as in 3d cluster\n",
    "   - an average age is closer to loyal age than 3d one\n",
    "   - additional charges is almost as huge as in 3d one\n",
    "   - the highest average_class_frequency\n",
    "   - lifetime is almost as long as in 3d one\n",
    "   \n",
    " - why the 2d could be the weakest:\n",
    "   - the share of clients_partners is the smallest one\n",
    "   - the quantity of the clients started with \"bring a friend\" is almost as small as in 1st cluster\n",
    "   - subscription period is almost as small as in 1st cluster\n",
    "   - month_to_end_contract is close to the period in 1st cluster, the weakest one\n",
    "   "
   ]
  },
  {
   "cell_type": "markdown",
   "metadata": {},
   "source": [
    "### Recommendations for work with clients"
   ]
  },
  {
   "cell_type": "markdown",
   "metadata": {},
   "source": [
    " Recommendations for cluster 1-the cluster with the highest possibility of customer churn\n",
    " \n",
    "   - actions targeted at favoured feautures to retain customers:\n",
    "    - group_visits (clients' engagement in group_trainings)\n",
    "    - avg_class_frequency_total (the system of cumulative points for days of visits, that could be spent on goods)\n",
    "    - increase in loyal age\n",
    "    - additional charges (the system of cumulative points for days of visits, that could be spent on goods)\n",
    "    - the share of men\n",
    "    - contract_period (more beneficial terms for long-term contracts)\n",
    "    - time since the first visit (special discounts on additional services since the 2st month of membership increasing               gradually)\n",
    "    - time_to_end_of_contract left (mailing with special offers for this segment)\n",
    "    \n",
    "    \n",
    "  - the main goal-to encourage the clients to overstep 1 month treshhold\n",
    "    - offering more beneficial long-term contracts in comparison with 1 month contract; a system of cumulative points,               that could be spent on goods and services of \"Bodybuilder\"\n",
    "    - forging ties between club members based on clients' interets search: an increase in group_visits, private events, signs         of belonging\n",
    "    \n",
    "    \n",
    "  - the model used for forecasting\n",
    "    - Logistic regression model shows the best results (high precision of 90% enables to identify the q-ty of prospective           customer churn. Marketing campaigns on retention cost a lot, high precision prevent business from waste of money.\n",
    "      Recall indicator of 85% is higher than in the model of random forest. A high recall indicator enables not to loose             clients,that are going to leave. \n",
    "  \n",
    "Recommendations for cluster 0- the second cluster after cluster 1 with 27% customer churn \n",
    "   -  as this cluster displays just a little better results on all the features in comparison with 1st cluster\n",
    "   -  we should apply the same recommendations as in cluster 1\n",
    "     \n",
    "Recommendations for cluster 2- the much more loyal than 1 and 2 and just a little worse than the strongest 3d one:  \n",
    "  - actions targeted at the feautures \"why the 2d could be the weakest\" from 1.4.1 Conclusions\n",
    "   - increase in a contract_period\n",
    "   - target at clients with few months till the end of the contract in order to retain\n"
   ]
  }
 ],
 "metadata": {
  "ExecuteTimeLog": [
   {
    "duration": 1648,
    "start_time": "2022-04-27T15:31:59.448Z"
   },
   {
    "duration": 66,
    "start_time": "2022-04-27T15:34:22.311Z"
   },
   {
    "duration": 141,
    "start_time": "2022-04-27T15:35:53.660Z"
   },
   {
    "duration": 70,
    "start_time": "2022-04-27T15:36:07.898Z"
   },
   {
    "duration": 34,
    "start_time": "2022-04-27T15:38:47.832Z"
   },
   {
    "duration": 36,
    "start_time": "2022-04-27T15:41:35.129Z"
   },
   {
    "duration": 43,
    "start_time": "2022-04-27T15:44:47.148Z"
   },
   {
    "duration": 16,
    "start_time": "2022-04-27T15:45:18.456Z"
   },
   {
    "duration": 43,
    "start_time": "2022-04-27T15:45:30.567Z"
   },
   {
    "duration": 6,
    "start_time": "2022-04-27T15:54:14.229Z"
   },
   {
    "duration": 17,
    "start_time": "2022-04-27T15:54:36.049Z"
   },
   {
    "duration": 37,
    "start_time": "2022-04-27T16:40:01.775Z"
   },
   {
    "duration": 37,
    "start_time": "2022-04-27T16:40:57.688Z"
   },
   {
    "duration": 73,
    "start_time": "2022-04-27T16:41:23.109Z"
   },
   {
    "duration": 58,
    "start_time": "2022-04-27T16:42:08.863Z"
   },
   {
    "duration": 64,
    "start_time": "2022-04-27T16:54:02.709Z"
   },
   {
    "duration": 12,
    "start_time": "2022-04-27T16:54:11.386Z"
   },
   {
    "duration": 11,
    "start_time": "2022-04-27T16:54:17.143Z"
   },
   {
    "duration": 13,
    "start_time": "2022-04-27T16:54:31.909Z"
   },
   {
    "duration": 57,
    "start_time": "2022-04-27T16:54:34.868Z"
   },
   {
    "duration": 11,
    "start_time": "2022-04-27T16:54:34.927Z"
   },
   {
    "duration": 0,
    "start_time": "2022-04-27T16:54:34.940Z"
   },
   {
    "duration": 0,
    "start_time": "2022-04-27T16:54:34.941Z"
   },
   {
    "duration": 1227,
    "start_time": "2022-04-27T16:54:47.699Z"
   },
   {
    "duration": 113,
    "start_time": "2022-04-27T16:54:48.928Z"
   },
   {
    "duration": 0,
    "start_time": "2022-04-27T16:54:49.043Z"
   },
   {
    "duration": 0,
    "start_time": "2022-04-27T16:54:49.044Z"
   },
   {
    "duration": 15,
    "start_time": "2022-04-27T16:55:13.162Z"
   },
   {
    "duration": 14,
    "start_time": "2022-04-27T16:55:25.883Z"
   },
   {
    "duration": 13,
    "start_time": "2022-04-27T16:55:37.489Z"
   },
   {
    "duration": 13,
    "start_time": "2022-04-27T16:55:53.604Z"
   },
   {
    "duration": 14,
    "start_time": "2022-04-27T16:56:03.383Z"
   },
   {
    "duration": 65,
    "start_time": "2022-04-27T16:56:14.274Z"
   },
   {
    "duration": 13,
    "start_time": "2022-04-27T16:56:14.341Z"
   },
   {
    "duration": 0,
    "start_time": "2022-04-27T16:56:14.356Z"
   },
   {
    "duration": 0,
    "start_time": "2022-04-27T16:56:14.357Z"
   },
   {
    "duration": 59,
    "start_time": "2022-04-27T16:56:45.697Z"
   },
   {
    "duration": 13,
    "start_time": "2022-04-27T16:56:45.758Z"
   },
   {
    "duration": 0,
    "start_time": "2022-04-27T16:56:45.772Z"
   },
   {
    "duration": 0,
    "start_time": "2022-04-27T16:56:45.774Z"
   },
   {
    "duration": 14,
    "start_time": "2022-04-27T16:57:02.896Z"
   },
   {
    "duration": 49,
    "start_time": "2022-04-27T16:57:07.755Z"
   },
   {
    "duration": 20,
    "start_time": "2022-04-27T20:29:32.041Z"
   },
   {
    "duration": 105,
    "start_time": "2022-04-27T20:30:01.252Z"
   },
   {
    "duration": 23,
    "start_time": "2022-04-27T20:30:10.647Z"
   },
   {
    "duration": 4127,
    "start_time": "2022-04-27T20:32:58.768Z"
   },
   {
    "duration": 1070,
    "start_time": "2022-04-27T20:34:22.898Z"
   },
   {
    "duration": 78,
    "start_time": "2022-04-29T17:43:34.031Z"
   },
   {
    "duration": 1850,
    "start_time": "2022-04-29T17:43:41.353Z"
   },
   {
    "duration": 80,
    "start_time": "2022-04-29T17:43:43.206Z"
   },
   {
    "duration": 24,
    "start_time": "2022-04-29T17:43:43.288Z"
   },
   {
    "duration": 2667,
    "start_time": "2022-04-29T17:43:43.314Z"
   },
   {
    "duration": 4811,
    "start_time": "2022-04-29T17:43:54.972Z"
   },
   {
    "duration": 121,
    "start_time": "2022-04-29T18:09:06.445Z"
   },
   {
    "duration": 22,
    "start_time": "2022-04-29T18:09:25.877Z"
   },
   {
    "duration": 32,
    "start_time": "2022-04-29T18:09:45.297Z"
   },
   {
    "duration": 25,
    "start_time": "2022-04-29T18:10:38.557Z"
   },
   {
    "duration": 33,
    "start_time": "2022-04-29T18:11:43.517Z"
   },
   {
    "duration": 690,
    "start_time": "2022-04-29T18:18:00.105Z"
   },
   {
    "duration": 695,
    "start_time": "2022-04-29T18:21:54.297Z"
   },
   {
    "duration": 675,
    "start_time": "2022-04-29T18:23:10.335Z"
   },
   {
    "duration": 715,
    "start_time": "2022-04-29T18:23:19.832Z"
   },
   {
    "duration": 824,
    "start_time": "2022-04-29T18:23:57.716Z"
   },
   {
    "duration": 753,
    "start_time": "2022-04-29T18:24:07.317Z"
   },
   {
    "duration": 4676,
    "start_time": "2022-04-29T19:20:32.400Z"
   },
   {
    "duration": 4073,
    "start_time": "2022-04-29T19:22:46.051Z"
   },
   {
    "duration": 4179,
    "start_time": "2022-04-29T19:23:27.309Z"
   },
   {
    "duration": 4323,
    "start_time": "2022-04-29T19:24:34.668Z"
   },
   {
    "duration": 7549,
    "start_time": "2022-04-29T19:25:11.526Z"
   },
   {
    "duration": 5149,
    "start_time": "2022-04-29T19:26:23.904Z"
   },
   {
    "duration": 5782,
    "start_time": "2022-04-29T19:27:07.954Z"
   },
   {
    "duration": 2110,
    "start_time": "2022-04-29T19:28:09.846Z"
   },
   {
    "duration": 2083,
    "start_time": "2022-04-29T19:28:29.370Z"
   },
   {
    "duration": 2528,
    "start_time": "2022-04-29T19:28:48.870Z"
   },
   {
    "duration": 110,
    "start_time": "2022-04-29T19:29:24.059Z"
   },
   {
    "duration": 5564,
    "start_time": "2022-04-29T19:30:00.850Z"
   },
   {
    "duration": 3659,
    "start_time": "2022-04-29T19:30:15.180Z"
   },
   {
    "duration": 4293,
    "start_time": "2022-04-29T19:30:45.198Z"
   },
   {
    "duration": 2702,
    "start_time": "2022-04-29T19:32:19.252Z"
   },
   {
    "duration": 671,
    "start_time": "2022-04-29T19:32:41.684Z"
   },
   {
    "duration": 758,
    "start_time": "2022-04-29T19:32:53.985Z"
   },
   {
    "duration": 773,
    "start_time": "2022-04-29T19:33:26.093Z"
   },
   {
    "duration": 139,
    "start_time": "2022-04-29T19:33:31.369Z"
   },
   {
    "duration": 117,
    "start_time": "2022-04-29T19:33:31.512Z"
   },
   {
    "duration": 36,
    "start_time": "2022-04-29T19:33:31.632Z"
   },
   {
    "duration": 780,
    "start_time": "2022-04-29T19:33:32.021Z"
   },
   {
    "duration": 532,
    "start_time": "2022-04-29T19:33:58.966Z"
   },
   {
    "duration": 276,
    "start_time": "2022-04-29T19:34:06.805Z"
   },
   {
    "duration": 65,
    "start_time": "2022-04-29T19:34:07.085Z"
   },
   {
    "duration": 59,
    "start_time": "2022-04-29T19:34:07.152Z"
   },
   {
    "duration": 530,
    "start_time": "2022-04-29T19:34:07.214Z"
   },
   {
    "duration": 1748,
    "start_time": "2022-04-29T19:34:31.010Z"
   },
   {
    "duration": 84,
    "start_time": "2022-04-29T19:34:32.763Z"
   },
   {
    "duration": 43,
    "start_time": "2022-04-29T19:34:32.849Z"
   },
   {
    "duration": 3137,
    "start_time": "2022-04-29T19:34:32.895Z"
   },
   {
    "duration": 101,
    "start_time": "2022-04-29T23:13:04.451Z"
   },
   {
    "duration": 312,
    "start_time": "2022-04-29T23:13:14.448Z"
   },
   {
    "duration": 269,
    "start_time": "2022-04-29T23:13:27.388Z"
   },
   {
    "duration": 180,
    "start_time": "2022-04-29T23:14:31.449Z"
   },
   {
    "duration": 64,
    "start_time": "2022-04-29T23:15:14.909Z"
   },
   {
    "duration": 59,
    "start_time": "2022-04-29T23:15:41.173Z"
   },
   {
    "duration": 184,
    "start_time": "2022-04-29T23:16:00.049Z"
   },
   {
    "duration": 46,
    "start_time": "2022-04-29T23:17:03.755Z"
   },
   {
    "duration": 42,
    "start_time": "2022-04-29T23:17:32.369Z"
   },
   {
    "duration": 98,
    "start_time": "2022-04-29T23:24:20.192Z"
   },
   {
    "duration": 38,
    "start_time": "2022-04-29T23:24:28.632Z"
   },
   {
    "duration": 93,
    "start_time": "2022-04-29T23:25:57.169Z"
   },
   {
    "duration": 75,
    "start_time": "2022-04-29T23:25:57.265Z"
   },
   {
    "duration": 43,
    "start_time": "2022-04-29T23:25:57.342Z"
   },
   {
    "duration": 2632,
    "start_time": "2022-04-29T23:25:57.387Z"
   },
   {
    "duration": 40,
    "start_time": "2022-04-29T23:26:00.023Z"
   },
   {
    "duration": 1535,
    "start_time": "2022-04-29T23:26:09.260Z"
   },
   {
    "duration": 66,
    "start_time": "2022-04-29T23:26:10.797Z"
   },
   {
    "duration": 23,
    "start_time": "2022-04-29T23:26:10.881Z"
   },
   {
    "duration": 2601,
    "start_time": "2022-04-29T23:26:10.907Z"
   },
   {
    "duration": 193,
    "start_time": "2022-04-29T23:26:13.510Z"
   },
   {
    "duration": 33,
    "start_time": "2022-04-29T23:26:30.838Z"
   },
   {
    "duration": 36,
    "start_time": "2022-04-29T23:27:24.358Z"
   },
   {
    "duration": 98,
    "start_time": "2022-04-29T23:28:00.928Z"
   },
   {
    "duration": 278,
    "start_time": "2022-04-29T23:28:07.159Z"
   },
   {
    "duration": 179,
    "start_time": "2022-04-29T23:28:32.518Z"
   },
   {
    "duration": 498,
    "start_time": "2022-04-29T23:28:52.899Z"
   },
   {
    "duration": 334,
    "start_time": "2022-04-29T23:29:41.059Z"
   },
   {
    "duration": 330,
    "start_time": "2022-04-29T23:30:09.595Z"
   },
   {
    "duration": 328,
    "start_time": "2022-04-29T23:30:40.225Z"
   },
   {
    "duration": 470,
    "start_time": "2022-04-29T23:31:23.627Z"
   },
   {
    "duration": 186,
    "start_time": "2022-04-29T23:31:54.656Z"
   },
   {
    "duration": 1533,
    "start_time": "2022-04-30T06:21:39.811Z"
   },
   {
    "duration": 41,
    "start_time": "2022-04-30T06:21:41.346Z"
   },
   {
    "duration": 16,
    "start_time": "2022-04-30T06:21:41.389Z"
   },
   {
    "duration": 1629,
    "start_time": "2022-04-30T06:21:41.406Z"
   },
   {
    "duration": 305,
    "start_time": "2022-04-30T06:21:43.038Z"
   },
   {
    "duration": 219,
    "start_time": "2022-04-30T06:30:53.996Z"
   },
   {
    "duration": 37,
    "start_time": "2022-04-30T06:31:11.528Z"
   },
   {
    "duration": 36,
    "start_time": "2022-04-30T06:31:57.636Z"
   },
   {
    "duration": 419,
    "start_time": "2022-04-30T06:32:38.236Z"
   },
   {
    "duration": 274,
    "start_time": "2022-04-30T06:33:07.736Z"
   },
   {
    "duration": 1243,
    "start_time": "2022-04-30T06:33:24.361Z"
   },
   {
    "duration": 48,
    "start_time": "2022-04-30T06:33:25.606Z"
   },
   {
    "duration": 15,
    "start_time": "2022-04-30T06:33:25.656Z"
   },
   {
    "duration": 1458,
    "start_time": "2022-04-30T06:33:25.673Z"
   },
   {
    "duration": 524,
    "start_time": "2022-04-30T06:33:27.133Z"
   },
   {
    "duration": 299,
    "start_time": "2022-04-30T06:34:56.438Z"
   },
   {
    "duration": 713,
    "start_time": "2022-04-30T06:36:08.697Z"
   },
   {
    "duration": 1285,
    "start_time": "2022-04-30T07:01:23.287Z"
   },
   {
    "duration": 1433,
    "start_time": "2022-04-30T07:01:30.321Z"
   },
   {
    "duration": 1314,
    "start_time": "2022-04-30T07:01:45.102Z"
   },
   {
    "duration": 1240,
    "start_time": "2022-04-30T07:02:10.362Z"
   },
   {
    "duration": 1164,
    "start_time": "2022-04-30T07:03:23.284Z"
   },
   {
    "duration": 1341,
    "start_time": "2022-04-30T07:03:39.383Z"
   },
   {
    "duration": 1223,
    "start_time": "2022-04-30T07:03:57.421Z"
   },
   {
    "duration": 1212,
    "start_time": "2022-04-30T07:04:08.395Z"
   },
   {
    "duration": 1422,
    "start_time": "2022-04-30T07:04:31.902Z"
   },
   {
    "duration": 1292,
    "start_time": "2022-04-30T07:04:44.962Z"
   },
   {
    "duration": 1359,
    "start_time": "2022-04-30T07:05:20.121Z"
   },
   {
    "duration": 1293,
    "start_time": "2022-04-30T07:05:28.342Z"
   },
   {
    "duration": 1437,
    "start_time": "2022-04-30T07:05:45.642Z"
   },
   {
    "duration": 1332,
    "start_time": "2022-04-30T07:06:04.563Z"
   },
   {
    "duration": 63,
    "start_time": "2022-04-30T08:29:08.364Z"
   },
   {
    "duration": 48,
    "start_time": "2022-04-30T08:29:08.429Z"
   },
   {
    "duration": 17,
    "start_time": "2022-04-30T08:29:08.479Z"
   },
   {
    "duration": 1672,
    "start_time": "2022-04-30T08:29:08.499Z"
   },
   {
    "duration": 992,
    "start_time": "2022-04-30T08:29:10.174Z"
   },
   {
    "duration": 2440,
    "start_time": "2022-04-30T08:29:11.168Z"
   },
   {
    "duration": 138,
    "start_time": "2022-04-30T08:29:13.610Z"
   },
   {
    "duration": 149,
    "start_time": "2022-04-30T08:55:27.773Z"
   },
   {
    "duration": 1222,
    "start_time": "2022-04-30T08:55:56.307Z"
   },
   {
    "duration": 57,
    "start_time": "2022-04-30T08:55:57.532Z"
   },
   {
    "duration": 20,
    "start_time": "2022-04-30T08:55:57.591Z"
   },
   {
    "duration": 2587,
    "start_time": "2022-04-30T08:55:57.614Z"
   },
   {
    "duration": 905,
    "start_time": "2022-04-30T08:56:00.204Z"
   },
   {
    "duration": 1410,
    "start_time": "2022-04-30T08:56:01.111Z"
   },
   {
    "duration": 155,
    "start_time": "2022-04-30T08:56:02.523Z"
   },
   {
    "duration": 325,
    "start_time": "2022-04-30T08:56:27.603Z"
   },
   {
    "duration": 188,
    "start_time": "2022-04-30T08:56:59.778Z"
   },
   {
    "duration": 144,
    "start_time": "2022-04-30T08:59:06.113Z"
   },
   {
    "duration": 144,
    "start_time": "2022-04-30T09:01:28.799Z"
   },
   {
    "duration": 180,
    "start_time": "2022-04-30T09:01:34.639Z"
   },
   {
    "duration": 58,
    "start_time": "2022-04-30T09:03:58.294Z"
   },
   {
    "duration": 36,
    "start_time": "2022-04-30T09:03:58.354Z"
   },
   {
    "duration": 14,
    "start_time": "2022-04-30T09:03:58.391Z"
   },
   {
    "duration": 1502,
    "start_time": "2022-04-30T09:03:58.406Z"
   },
   {
    "duration": 763,
    "start_time": "2022-04-30T09:03:59.910Z"
   },
   {
    "duration": 1286,
    "start_time": "2022-04-30T09:04:00.675Z"
   },
   {
    "duration": 157,
    "start_time": "2022-04-30T09:04:01.963Z"
   },
   {
    "duration": 162,
    "start_time": "2022-04-30T09:04:48.180Z"
   },
   {
    "duration": 626,
    "start_time": "2022-04-30T09:05:29.410Z"
   },
   {
    "duration": 13,
    "start_time": "2022-04-30T09:05:56.079Z"
   },
   {
    "duration": 249,
    "start_time": "2022-04-30T09:06:17.108Z"
   },
   {
    "duration": 149,
    "start_time": "2022-04-30T09:07:50.207Z"
   },
   {
    "duration": 723,
    "start_time": "2022-04-30T09:08:05.548Z"
   },
   {
    "duration": 562,
    "start_time": "2022-04-30T09:08:58.807Z"
   },
   {
    "duration": 16,
    "start_time": "2022-04-30T09:36:18.645Z"
   },
   {
    "duration": 94414,
    "start_time": "2022-04-30T09:38:01.573Z"
   },
   {
    "duration": 1258,
    "start_time": "2022-04-30T10:22:59.302Z"
   },
   {
    "duration": 1103,
    "start_time": "2022-04-30T10:46:23.304Z"
   },
   {
    "duration": 983,
    "start_time": "2022-04-30T10:47:34.793Z"
   },
   {
    "duration": 898,
    "start_time": "2022-04-30T10:49:57.773Z"
   },
   {
    "duration": 14,
    "start_time": "2022-04-30T10:52:46.493Z"
   },
   {
    "duration": 352,
    "start_time": "2022-04-30T10:52:55.530Z"
   },
   {
    "duration": 31,
    "start_time": "2022-04-30T10:53:56.515Z"
   },
   {
    "duration": 38,
    "start_time": "2022-04-30T10:54:11.181Z"
   },
   {
    "duration": 22857,
    "start_time": "2022-04-30T10:55:11.030Z"
   },
   {
    "duration": 267,
    "start_time": "2022-04-30T10:55:33.889Z"
   },
   {
    "duration": 1270,
    "start_time": "2022-04-30T10:58:10.325Z"
   },
   {
    "duration": 39,
    "start_time": "2022-04-30T10:58:11.597Z"
   },
   {
    "duration": 39,
    "start_time": "2022-04-30T10:58:11.637Z"
   },
   {
    "duration": 1650,
    "start_time": "2022-04-30T10:58:11.682Z"
   },
   {
    "duration": 972,
    "start_time": "2022-04-30T10:58:13.333Z"
   },
   {
    "duration": 1477,
    "start_time": "2022-04-30T10:58:14.307Z"
   },
   {
    "duration": 146,
    "start_time": "2022-04-30T10:58:15.786Z"
   },
   {
    "duration": 0,
    "start_time": "2022-04-30T10:58:15.934Z"
   },
   {
    "duration": 0,
    "start_time": "2022-04-30T10:58:15.935Z"
   },
   {
    "duration": 1326,
    "start_time": "2022-04-30T10:58:57.393Z"
   },
   {
    "duration": 122994,
    "start_time": "2022-04-30T10:59:06.697Z"
   },
   {
    "duration": 28015,
    "start_time": "2022-04-30T11:02:20.719Z"
   },
   {
    "duration": 25505,
    "start_time": "2022-04-30T11:04:12.582Z"
   },
   {
    "duration": 121,
    "start_time": "2022-04-30T11:56:32.354Z"
   },
   {
    "duration": 128,
    "start_time": "2022-04-30T11:56:40.270Z"
   },
   {
    "duration": 141,
    "start_time": "2022-04-30T11:56:46.975Z"
   },
   {
    "duration": 120,
    "start_time": "2022-04-30T11:56:54.394Z"
   },
   {
    "duration": 19,
    "start_time": "2022-04-30T11:57:24.533Z"
   },
   {
    "duration": 18,
    "start_time": "2022-04-30T12:00:07.415Z"
   },
   {
    "duration": 8,
    "start_time": "2022-04-30T12:00:24.935Z"
   },
   {
    "duration": 12,
    "start_time": "2022-04-30T12:00:33.655Z"
   },
   {
    "duration": 15,
    "start_time": "2022-04-30T12:00:45.376Z"
   },
   {
    "duration": 133,
    "start_time": "2022-04-30T12:10:06.271Z"
   },
   {
    "duration": 11,
    "start_time": "2022-04-30T12:10:39.974Z"
   },
   {
    "duration": 2369,
    "start_time": "2022-04-30T12:11:25.075Z"
   },
   {
    "duration": 2455,
    "start_time": "2022-04-30T12:12:46.215Z"
   },
   {
    "duration": 2507,
    "start_time": "2022-04-30T12:13:05.455Z"
   },
   {
    "duration": 2623,
    "start_time": "2022-04-30T12:13:19.014Z"
   },
   {
    "duration": 2788,
    "start_time": "2022-04-30T12:14:04.373Z"
   },
   {
    "duration": 175,
    "start_time": "2022-04-30T12:15:15.414Z"
   },
   {
    "duration": 2296,
    "start_time": "2022-04-30T12:15:27.735Z"
   },
   {
    "duration": 2534,
    "start_time": "2022-04-30T12:15:50.013Z"
   },
   {
    "duration": 2764,
    "start_time": "2022-04-30T12:16:48.106Z"
   },
   {
    "duration": 150,
    "start_time": "2022-04-30T12:18:00.694Z"
   },
   {
    "duration": 2454,
    "start_time": "2022-04-30T12:18:09.493Z"
   },
   {
    "duration": 2843,
    "start_time": "2022-04-30T12:22:39.414Z"
   },
   {
    "duration": 2518,
    "start_time": "2022-04-30T12:22:51.575Z"
   },
   {
    "duration": 3021,
    "start_time": "2022-04-30T12:23:02.182Z"
   },
   {
    "duration": 2572,
    "start_time": "2022-04-30T12:23:53.506Z"
   },
   {
    "duration": 10,
    "start_time": "2022-04-30T12:23:58.354Z"
   },
   {
    "duration": 2353,
    "start_time": "2022-04-30T12:24:06.915Z"
   },
   {
    "duration": 2364,
    "start_time": "2022-04-30T12:24:15.254Z"
   },
   {
    "duration": 20688,
    "start_time": "2022-04-30T12:24:21.132Z"
   },
   {
    "duration": 19,
    "start_time": "2022-04-30T12:24:44.242Z"
   },
   {
    "duration": 2703,
    "start_time": "2022-04-30T12:24:44.263Z"
   },
   {
    "duration": 2811,
    "start_time": "2022-04-30T12:31:02.446Z"
   },
   {
    "duration": 2775,
    "start_time": "2022-04-30T12:32:11.893Z"
   },
   {
    "duration": 2706,
    "start_time": "2022-04-30T12:33:34.775Z"
   },
   {
    "duration": 924,
    "start_time": "2022-04-30T13:18:02.409Z"
   },
   {
    "duration": 776,
    "start_time": "2022-04-30T13:18:11.067Z"
   },
   {
    "duration": 5,
    "start_time": "2022-04-30T16:39:14.710Z"
   },
   {
    "duration": 1699,
    "start_time": "2022-05-01T07:28:07.057Z"
   },
   {
    "duration": 78,
    "start_time": "2022-05-01T07:28:08.758Z"
   },
   {
    "duration": 24,
    "start_time": "2022-05-01T07:28:08.838Z"
   },
   {
    "duration": 2632,
    "start_time": "2022-05-01T07:28:08.864Z"
   },
   {
    "duration": 1620,
    "start_time": "2022-05-01T07:28:11.499Z"
   },
   {
    "duration": 2251,
    "start_time": "2022-05-01T07:28:13.122Z"
   },
   {
    "duration": 1534,
    "start_time": "2022-05-01T07:28:15.376Z"
   },
   {
    "duration": 163530,
    "start_time": "2022-05-01T07:28:16.913Z"
   },
   {
    "duration": 36174,
    "start_time": "2022-05-01T07:31:00.445Z"
   },
   {
    "duration": 4436,
    "start_time": "2022-05-01T07:31:36.625Z"
   },
   {
    "duration": 16,
    "start_time": "2022-05-01T07:31:41.063Z"
   },
   {
    "duration": 1632,
    "start_time": "2022-05-01T07:35:19.233Z"
   },
   {
    "duration": 83,
    "start_time": "2022-05-01T07:35:20.868Z"
   },
   {
    "duration": 25,
    "start_time": "2022-05-01T07:35:20.953Z"
   },
   {
    "duration": 2598,
    "start_time": "2022-05-01T07:35:20.981Z"
   },
   {
    "duration": 1590,
    "start_time": "2022-05-01T07:35:23.581Z"
   },
   {
    "duration": 2230,
    "start_time": "2022-05-01T07:35:25.173Z"
   },
   {
    "duration": 1527,
    "start_time": "2022-05-01T07:35:27.406Z"
   },
   {
    "duration": 244732,
    "start_time": "2022-05-01T07:35:28.936Z"
   },
   {
    "duration": 78935,
    "start_time": "2022-05-01T07:39:33.725Z"
   },
   {
    "duration": 9205,
    "start_time": "2022-05-01T07:40:52.663Z"
   },
   {
    "duration": 16,
    "start_time": "2022-05-01T07:41:01.926Z"
   },
   {
    "duration": 1604,
    "start_time": "2022-05-01T20:00:45.660Z"
   },
   {
    "duration": 44,
    "start_time": "2022-05-01T20:00:47.267Z"
   },
   {
    "duration": 22,
    "start_time": "2022-05-01T20:00:47.313Z"
   },
   {
    "duration": 2261,
    "start_time": "2022-05-01T20:00:47.338Z"
   },
   {
    "duration": 1013,
    "start_time": "2022-05-01T20:00:49.601Z"
   },
   {
    "duration": 1432,
    "start_time": "2022-05-01T20:00:57.322Z"
   },
   {
    "duration": 168,
    "start_time": "2022-05-01T20:03:05.832Z"
   },
   {
    "duration": 1384,
    "start_time": "2022-05-01T20:03:20.507Z"
   },
   {
    "duration": 1748,
    "start_time": "2022-05-01T20:04:14.609Z"
   },
   {
    "duration": 71,
    "start_time": "2022-05-01T20:05:01.389Z"
   },
   {
    "duration": 55,
    "start_time": "2022-05-01T20:05:01.463Z"
   },
   {
    "duration": 15,
    "start_time": "2022-05-01T20:05:01.520Z"
   },
   {
    "duration": 2010,
    "start_time": "2022-05-01T20:05:01.537Z"
   },
   {
    "duration": 993,
    "start_time": "2022-05-01T20:05:03.548Z"
   },
   {
    "duration": 1467,
    "start_time": "2022-05-01T20:05:09.729Z"
   },
   {
    "duration": 1537,
    "start_time": "2022-05-01T20:05:33.458Z"
   },
   {
    "duration": 83,
    "start_time": "2022-05-01T20:05:36.837Z"
   },
   {
    "duration": 55,
    "start_time": "2022-05-01T20:05:36.922Z"
   },
   {
    "duration": 16,
    "start_time": "2022-05-01T20:05:36.978Z"
   },
   {
    "duration": 2130,
    "start_time": "2022-05-01T20:05:36.996Z"
   },
   {
    "duration": 1255,
    "start_time": "2022-05-01T20:05:39.129Z"
   },
   {
    "duration": 2229,
    "start_time": "2022-05-01T20:05:40.387Z"
   },
   {
    "duration": 1343,
    "start_time": "2022-05-01T20:05:44.672Z"
   },
   {
    "duration": 59,
    "start_time": "2022-05-01T20:05:50.590Z"
   },
   {
    "duration": 45,
    "start_time": "2022-05-01T20:05:50.651Z"
   },
   {
    "duration": 15,
    "start_time": "2022-05-01T20:05:50.698Z"
   },
   {
    "duration": 1928,
    "start_time": "2022-05-01T20:05:50.715Z"
   },
   {
    "duration": 1312,
    "start_time": "2022-05-01T20:05:52.646Z"
   },
   {
    "duration": 1398,
    "start_time": "2022-05-01T20:05:59.560Z"
   },
   {
    "duration": 712,
    "start_time": "2022-05-01T20:06:13.676Z"
   },
   {
    "duration": 58,
    "start_time": "2022-05-01T20:07:59.375Z"
   },
   {
    "duration": 47,
    "start_time": "2022-05-01T20:07:59.435Z"
   },
   {
    "duration": 15,
    "start_time": "2022-05-01T20:07:59.484Z"
   },
   {
    "duration": 2389,
    "start_time": "2022-05-01T20:07:59.501Z"
   },
   {
    "duration": 859,
    "start_time": "2022-05-01T20:08:01.892Z"
   },
   {
    "duration": 1432,
    "start_time": "2022-05-01T20:08:02.755Z"
   },
   {
    "duration": 869,
    "start_time": "2022-05-01T20:08:04.188Z"
   },
   {
    "duration": 142,
    "start_time": "2022-05-01T20:08:05.059Z"
   },
   {
    "duration": 0,
    "start_time": "2022-05-01T20:08:05.204Z"
   },
   {
    "duration": 0,
    "start_time": "2022-05-01T20:08:05.206Z"
   },
   {
    "duration": 0,
    "start_time": "2022-05-01T20:08:05.207Z"
   },
   {
    "duration": 0,
    "start_time": "2022-05-01T20:08:05.209Z"
   },
   {
    "duration": 1195,
    "start_time": "2022-05-01T20:08:58.791Z"
   },
   {
    "duration": 803,
    "start_time": "2022-05-01T20:12:58.992Z"
   },
   {
    "duration": 136320,
    "start_time": "2022-05-01T20:15:36.236Z"
   },
   {
    "duration": 18415,
    "start_time": "2022-05-01T20:21:35.990Z"
   },
   {
    "duration": 772,
    "start_time": "2022-05-01T20:22:05.512Z"
   },
   {
    "duration": 120216,
    "start_time": "2022-05-01T20:22:11.073Z"
   },
   {
    "duration": 19545,
    "start_time": "2022-05-01T20:24:11.291Z"
   },
   {
    "duration": 4981,
    "start_time": "2022-05-01T20:25:55.760Z"
   },
   {
    "duration": 3033,
    "start_time": "2022-05-01T20:26:18.057Z"
   },
   {
    "duration": 2230,
    "start_time": "2022-05-01T20:26:22.079Z"
   },
   {
    "duration": 2318,
    "start_time": "2022-05-01T20:27:06.685Z"
   },
   {
    "duration": 13,
    "start_time": "2022-05-01T20:27:26.839Z"
   },
   {
    "duration": 1647,
    "start_time": "2022-05-01T20:28:31.545Z"
   },
   {
    "duration": 978,
    "start_time": "2022-05-01T20:28:42.519Z"
   },
   {
    "duration": 129135,
    "start_time": "2022-05-01T20:29:05.272Z"
   },
   {
    "duration": 3,
    "start_time": "2022-05-01T20:31:14.410Z"
   },
   {
    "duration": 147,
    "start_time": "2022-05-01T20:31:14.415Z"
   },
   {
    "duration": 137,
    "start_time": "2022-05-01T20:33:48.903Z"
   },
   {
    "duration": 4,
    "start_time": "2022-05-01T20:34:07.800Z"
   },
   {
    "duration": 90,
    "start_time": "2022-05-01T20:34:07.806Z"
   },
   {
    "duration": 86,
    "start_time": "2022-05-01T20:34:07.898Z"
   },
   {
    "duration": 18,
    "start_time": "2022-05-01T20:34:07.986Z"
   },
   {
    "duration": 2398,
    "start_time": "2022-05-01T20:34:08.006Z"
   },
   {
    "duration": 1863,
    "start_time": "2022-05-01T20:34:10.406Z"
   },
   {
    "duration": 2151,
    "start_time": "2022-05-01T20:34:12.271Z"
   },
   {
    "duration": 786,
    "start_time": "2022-05-01T20:34:14.424Z"
   },
   {
    "duration": 137934,
    "start_time": "2022-05-01T20:34:15.214Z"
   },
   {
    "duration": 26524,
    "start_time": "2022-05-01T20:36:33.153Z"
   },
   {
    "duration": 2807,
    "start_time": "2022-05-01T20:36:59.679Z"
   },
   {
    "duration": 11,
    "start_time": "2022-05-01T20:37:02.488Z"
   },
   {
    "duration": 163,
    "start_time": "2022-05-01T20:37:02.501Z"
   },
   {
    "duration": 2076,
    "start_time": "2022-05-01T20:38:12.092Z"
   },
   {
    "duration": 657,
    "start_time": "2022-05-01T20:38:22.736Z"
   },
   {
    "duration": 1300,
    "start_time": "2022-05-01T20:38:37.309Z"
   },
   {
    "duration": 4,
    "start_time": "2022-05-01T20:38:41.290Z"
   },
   {
    "duration": 90,
    "start_time": "2022-05-01T20:38:41.313Z"
   },
   {
    "duration": 81,
    "start_time": "2022-05-01T20:38:41.406Z"
   },
   {
    "duration": 19,
    "start_time": "2022-05-01T20:38:41.490Z"
   },
   {
    "duration": 2372,
    "start_time": "2022-05-01T20:38:41.512Z"
   },
   {
    "duration": 903,
    "start_time": "2022-05-01T20:38:43.887Z"
   },
   {
    "duration": 1802,
    "start_time": "2022-05-01T20:38:44.792Z"
   },
   {
    "duration": 1650,
    "start_time": "2022-05-01T20:38:51.525Z"
   },
   {
    "duration": 4,
    "start_time": "2022-05-01T20:38:58.838Z"
   },
   {
    "duration": 84,
    "start_time": "2022-05-01T20:38:58.844Z"
   },
   {
    "duration": 66,
    "start_time": "2022-05-01T20:38:58.930Z"
   },
   {
    "duration": 15,
    "start_time": "2022-05-01T20:38:58.999Z"
   },
   {
    "duration": 1631,
    "start_time": "2022-05-01T20:38:59.017Z"
   },
   {
    "duration": 1045,
    "start_time": "2022-05-01T20:39:00.654Z"
   },
   {
    "duration": 1501,
    "start_time": "2022-05-01T20:39:01.701Z"
   },
   {
    "duration": 1294,
    "start_time": "2022-05-01T20:39:08.946Z"
   },
   {
    "duration": 3,
    "start_time": "2022-05-01T20:39:27.898Z"
   },
   {
    "duration": 69,
    "start_time": "2022-05-01T20:39:27.912Z"
   },
   {
    "duration": 57,
    "start_time": "2022-05-01T20:39:27.984Z"
   },
   {
    "duration": 21,
    "start_time": "2022-05-01T20:39:28.044Z"
   },
   {
    "duration": 1767,
    "start_time": "2022-05-01T20:39:28.069Z"
   },
   {
    "duration": 1296,
    "start_time": "2022-05-01T20:39:29.839Z"
   },
   {
    "duration": 1951,
    "start_time": "2022-05-01T20:39:31.138Z"
   },
   {
    "duration": 967,
    "start_time": "2022-05-01T20:39:33.091Z"
   },
   {
    "duration": 132534,
    "start_time": "2022-05-01T20:39:34.060Z"
   },
   {
    "duration": 18698,
    "start_time": "2022-05-01T20:41:46.597Z"
   },
   {
    "duration": 2365,
    "start_time": "2022-05-01T20:42:05.297Z"
   },
   {
    "duration": 12,
    "start_time": "2022-05-01T20:42:07.664Z"
   },
   {
    "duration": 164,
    "start_time": "2022-05-01T20:42:07.678Z"
   },
   {
    "duration": 1591,
    "start_time": "2022-05-01T20:49:12.942Z"
   },
   {
    "duration": 3,
    "start_time": "2022-05-01T20:49:16.119Z"
   },
   {
    "duration": 270,
    "start_time": "2022-05-01T20:49:16.124Z"
   },
   {
    "duration": 67,
    "start_time": "2022-05-01T20:49:16.396Z"
   },
   {
    "duration": 19,
    "start_time": "2022-05-01T20:49:16.466Z"
   },
   {
    "duration": 1614,
    "start_time": "2022-05-01T20:49:16.486Z"
   },
   {
    "duration": 856,
    "start_time": "2022-05-01T20:49:18.102Z"
   },
   {
    "duration": 1591,
    "start_time": "2022-05-01T20:49:18.959Z"
   },
   {
    "duration": 947,
    "start_time": "2022-05-01T20:49:20.555Z"
   },
   {
    "duration": 1252,
    "start_time": "2022-05-01T20:50:52.567Z"
   },
   {
    "duration": 95,
    "start_time": "2022-05-01T20:50:53.824Z"
   },
   {
    "duration": 64,
    "start_time": "2022-05-01T20:50:53.921Z"
   },
   {
    "duration": 15,
    "start_time": "2022-05-01T20:50:53.988Z"
   },
   {
    "duration": 1958,
    "start_time": "2022-05-01T20:50:54.005Z"
   },
   {
    "duration": 973,
    "start_time": "2022-05-01T20:50:55.965Z"
   },
   {
    "duration": 1720,
    "start_time": "2022-05-01T20:50:56.940Z"
   },
   {
    "duration": 1240,
    "start_time": "2022-05-01T20:50:58.662Z"
   },
   {
    "duration": 126261,
    "start_time": "2022-05-01T20:50:59.904Z"
   },
   {
    "duration": 27016,
    "start_time": "2022-05-01T20:53:06.168Z"
   },
   {
    "duration": 4885,
    "start_time": "2022-05-01T20:53:33.186Z"
   },
   {
    "duration": 13,
    "start_time": "2022-05-01T20:53:38.073Z"
   },
   {
    "duration": 148,
    "start_time": "2022-05-01T20:53:38.088Z"
   },
   {
    "duration": 115,
    "start_time": "2022-05-02T04:01:40.842Z"
   },
   {
    "duration": 1400,
    "start_time": "2023-02-16T16:44:57.526Z"
   },
   {
    "duration": 123,
    "start_time": "2023-02-16T16:53:54.431Z"
   },
   {
    "duration": 47,
    "start_time": "2023-02-16T16:59:11.573Z"
   },
   {
    "duration": 45,
    "start_time": "2023-02-16T17:00:51.996Z"
   },
   {
    "duration": 25,
    "start_time": "2023-02-16T17:00:56.180Z"
   },
   {
    "duration": 1872,
    "start_time": "2023-02-16T17:31:01.633Z"
   },
   {
    "duration": 1722,
    "start_time": "2023-02-16T17:32:22.145Z"
   },
   {
    "duration": 982,
    "start_time": "2023-02-16T17:32:23.869Z"
   },
   {
    "duration": 1075,
    "start_time": "2023-02-16T17:49:44.335Z"
   },
   {
    "duration": 887,
    "start_time": "2023-02-16T17:50:25.701Z"
   },
   {
    "duration": 1137,
    "start_time": "2023-02-18T13:08:31.157Z"
   },
   {
    "duration": 616,
    "start_time": "2023-02-18T13:08:49.979Z"
   },
   {
    "duration": 129,
    "start_time": "2023-02-18T13:08:50.597Z"
   },
   {
    "duration": 44,
    "start_time": "2023-02-18T13:08:50.727Z"
   },
   {
    "duration": 35,
    "start_time": "2023-02-18T13:08:50.773Z"
   },
   {
    "duration": 1911,
    "start_time": "2023-02-18T13:08:50.809Z"
   },
   {
    "duration": 952,
    "start_time": "2023-02-18T13:08:52.722Z"
   },
   {
    "duration": 1735,
    "start_time": "2023-02-18T13:08:53.676Z"
   },
   {
    "duration": 732,
    "start_time": "2023-02-18T13:08:55.413Z"
   },
   {
    "duration": 115466,
    "start_time": "2023-02-18T13:08:56.147Z"
   },
   {
    "duration": 24115,
    "start_time": "2023-02-18T13:10:51.615Z"
   },
   {
    "duration": 2818,
    "start_time": "2023-02-18T13:11:15.732Z"
   },
   {
    "duration": 11,
    "start_time": "2023-02-18T13:11:18.552Z"
   },
   {
    "duration": 31995,
    "start_time": "2023-02-18T19:27:42.355Z"
   },
   {
    "duration": 870,
    "start_time": "2023-02-18T19:29:12.578Z"
   },
   {
    "duration": 888,
    "start_time": "2023-02-18T19:29:22.874Z"
   },
   {
    "duration": 32877,
    "start_time": "2023-02-18T19:29:30.390Z"
   },
   {
    "duration": 183,
    "start_time": "2023-02-18T19:30:29.216Z"
   },
   {
    "duration": 1447,
    "start_time": "2023-02-18T19:30:51.651Z"
   },
   {
    "duration": 30241,
    "start_time": "2023-02-18T19:31:55.759Z"
   },
   {
    "duration": 1299,
    "start_time": "2023-02-19T10:37:27.607Z"
   },
   {
    "duration": 191,
    "start_time": "2023-02-19T10:37:28.908Z"
   },
   {
    "duration": 44,
    "start_time": "2023-02-19T10:37:29.101Z"
   },
   {
    "duration": 15,
    "start_time": "2023-02-19T10:37:29.147Z"
   },
   {
    "duration": 1873,
    "start_time": "2023-02-19T10:37:29.164Z"
   },
   {
    "duration": 1030,
    "start_time": "2023-02-19T10:37:31.039Z"
   },
   {
    "duration": 1504,
    "start_time": "2023-02-19T10:37:32.071Z"
   },
   {
    "duration": 1239,
    "start_time": "2023-02-19T10:37:33.578Z"
   },
   {
    "duration": 113880,
    "start_time": "2023-02-19T10:37:34.819Z"
   },
   {
    "duration": 24844,
    "start_time": "2023-02-19T10:39:28.701Z"
   },
   {
    "duration": 3145,
    "start_time": "2023-02-19T10:39:53.546Z"
   },
   {
    "duration": 10,
    "start_time": "2023-02-19T10:39:56.707Z"
   },
   {
    "duration": 4,
    "start_time": "2023-02-19T10:41:48.084Z"
   },
   {
    "duration": 107,
    "start_time": "2023-02-19T10:41:48.093Z"
   },
   {
    "duration": 55,
    "start_time": "2023-02-19T10:41:48.203Z"
   },
   {
    "duration": 37,
    "start_time": "2023-02-19T10:41:48.260Z"
   },
   {
    "duration": 1947,
    "start_time": "2023-02-19T10:41:48.299Z"
   },
   {
    "duration": 931,
    "start_time": "2023-02-19T10:41:50.248Z"
   },
   {
    "duration": 1618,
    "start_time": "2023-02-19T10:41:51.181Z"
   },
   {
    "duration": 828,
    "start_time": "2023-02-19T10:41:52.801Z"
   }
  ],
  "kernelspec": {
   "display_name": "Python 3 (ipykernel)",
   "language": "python",
   "name": "python3"
  },
  "language_info": {
   "codemirror_mode": {
    "name": "ipython",
    "version": 3
   },
   "file_extension": ".py",
   "mimetype": "text/x-python",
   "name": "python",
   "nbconvert_exporter": "python",
   "pygments_lexer": "ipython3",
   "version": "3.9.5"
  },
  "toc": {
   "base_numbering": 1,
   "nav_menu": {},
   "number_sections": true,
   "sideBar": true,
   "skip_h1_title": true,
   "title_cell": "Table of Contents",
   "title_sidebar": "Contents",
   "toc_cell": false,
   "toc_position": {
    "height": "calc(100% - 180px)",
    "left": "10px",
    "top": "150px",
    "width": "165.087px"
   },
   "toc_section_display": true,
   "toc_window_display": true
  }
 },
 "nbformat": 4,
 "nbformat_minor": 2
}
