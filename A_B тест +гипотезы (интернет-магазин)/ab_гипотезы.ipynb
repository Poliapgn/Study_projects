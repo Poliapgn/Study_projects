{
 "cells": [
  {
   "cell_type": "markdown",
   "metadata": {},
   "source": [
    "# Контекст\n",
    "Вы — аналитик крупного интернет-магазина. Вместе с отделом маркетинга вы подготовили список гипотез для увеличения выручки.\n",
    "Приоритизируйте гипотезы, запустите A/B-тест и проанализируйте результаты"
   ]
  },
  {
   "cell_type": "markdown",
   "metadata": {},
   "source": [
    "## Приоритизация гипотез"
   ]
  },
  {
   "cell_type": "code",
   "execution_count": 35,
   "metadata": {},
   "outputs": [
    {
     "data": {
      "text/html": [
       "<div>\n",
       "<style scoped>\n",
       "    .dataframe tbody tr th:only-of-type {\n",
       "        vertical-align: middle;\n",
       "    }\n",
       "\n",
       "    .dataframe tbody tr th {\n",
       "        vertical-align: top;\n",
       "    }\n",
       "\n",
       "    .dataframe thead th {\n",
       "        text-align: right;\n",
       "    }\n",
       "</style>\n",
       "<table border=\"1\" class=\"dataframe\">\n",
       "  <thead>\n",
       "    <tr style=\"text-align: right;\">\n",
       "      <th></th>\n",
       "      <th>hypothesis</th>\n",
       "      <th>reach</th>\n",
       "      <th>impact</th>\n",
       "      <th>confidence</th>\n",
       "      <th>efforts</th>\n",
       "    </tr>\n",
       "  </thead>\n",
       "  <tbody>\n",
       "    <tr>\n",
       "      <th>0</th>\n",
       "      <td>Добавить два новых канала привлечения трафика, что позволит привлекать на 30% больше пользователей</td>\n",
       "      <td>3</td>\n",
       "      <td>10</td>\n",
       "      <td>8</td>\n",
       "      <td>6</td>\n",
       "    </tr>\n",
       "    <tr>\n",
       "      <th>1</th>\n",
       "      <td>Запустить собственную службу доставки, что сократит срок доставки заказов</td>\n",
       "      <td>2</td>\n",
       "      <td>5</td>\n",
       "      <td>4</td>\n",
       "      <td>10</td>\n",
       "    </tr>\n",
       "    <tr>\n",
       "      <th>2</th>\n",
       "      <td>Добавить блоки рекомендаций товаров на сайт интернет магазина, чтобы повысить конверсию и средний чек заказа</td>\n",
       "      <td>8</td>\n",
       "      <td>3</td>\n",
       "      <td>7</td>\n",
       "      <td>3</td>\n",
       "    </tr>\n",
       "    <tr>\n",
       "      <th>3</th>\n",
       "      <td>Изменить структура категорий, что увеличит конверсию, т.к. пользователи быстрее найдут нужный товар</td>\n",
       "      <td>8</td>\n",
       "      <td>3</td>\n",
       "      <td>3</td>\n",
       "      <td>8</td>\n",
       "    </tr>\n",
       "    <tr>\n",
       "      <th>4</th>\n",
       "      <td>Изменить цвет фона главной страницы, чтобы увеличить вовлеченность пользователей</td>\n",
       "      <td>3</td>\n",
       "      <td>1</td>\n",
       "      <td>1</td>\n",
       "      <td>1</td>\n",
       "    </tr>\n",
       "    <tr>\n",
       "      <th>5</th>\n",
       "      <td>Добавить страницу отзывов клиентов о магазине, что позволит увеличить количество заказов</td>\n",
       "      <td>3</td>\n",
       "      <td>2</td>\n",
       "      <td>2</td>\n",
       "      <td>3</td>\n",
       "    </tr>\n",
       "    <tr>\n",
       "      <th>6</th>\n",
       "      <td>Показать на главной странице баннеры с актуальными акциями и распродажами, чтобы увеличить конверсию</td>\n",
       "      <td>5</td>\n",
       "      <td>3</td>\n",
       "      <td>8</td>\n",
       "      <td>3</td>\n",
       "    </tr>\n",
       "    <tr>\n",
       "      <th>7</th>\n",
       "      <td>Добавить форму подписки на все основные страницы, чтобы собрать базу клиентов для email-рассылок</td>\n",
       "      <td>10</td>\n",
       "      <td>7</td>\n",
       "      <td>8</td>\n",
       "      <td>5</td>\n",
       "    </tr>\n",
       "    <tr>\n",
       "      <th>8</th>\n",
       "      <td>Запустить акцию, дающую скидку на товар в день рождения</td>\n",
       "      <td>1</td>\n",
       "      <td>9</td>\n",
       "      <td>9</td>\n",
       "      <td>5</td>\n",
       "    </tr>\n",
       "  </tbody>\n",
       "</table>\n",
       "</div>"
      ],
      "text/plain": [
       "                                                                                                     hypothesis  \\\n",
       "0            Добавить два новых канала привлечения трафика, что позволит привлекать на 30% больше пользователей   \n",
       "1                                     Запустить собственную службу доставки, что сократит срок доставки заказов   \n",
       "2  Добавить блоки рекомендаций товаров на сайт интернет магазина, чтобы повысить конверсию и средний чек заказа   \n",
       "3           Изменить структура категорий, что увеличит конверсию, т.к. пользователи быстрее найдут нужный товар   \n",
       "4                              Изменить цвет фона главной страницы, чтобы увеличить вовлеченность пользователей   \n",
       "5                      Добавить страницу отзывов клиентов о магазине, что позволит увеличить количество заказов   \n",
       "6          Показать на главной странице баннеры с актуальными акциями и распродажами, чтобы увеличить конверсию   \n",
       "7              Добавить форму подписки на все основные страницы, чтобы собрать базу клиентов для email-рассылок   \n",
       "8                                                       Запустить акцию, дающую скидку на товар в день рождения   \n",
       "\n",
       "   reach  impact  confidence  efforts  \n",
       "0      3      10           8        6  \n",
       "1      2       5           4       10  \n",
       "2      8       3           7        3  \n",
       "3      8       3           3        8  \n",
       "4      3       1           1        1  \n",
       "5      3       2           2        3  \n",
       "6      5       3           8        3  \n",
       "7     10       7           8        5  \n",
       "8      1       9           9        5  "
      ]
     },
     "metadata": {},
     "output_type": "display_data"
    }
   ],
   "source": [
    "# загружаем все библиотеки, нужные дял дальнейшей работы \n",
    "import pandas as pd\n",
    "import scipy.stats as stats\n",
    "import datetime as dt\n",
    "import numpy as np\n",
    "\n",
    "hypothesis = pd.read_csv('/datasets/hypothesis.csv') #импортируем файл csv с гипотезами\n",
    "\n",
    "hypothesis.columns = [x.lower() for x in hypothesis.columns] # перевожу в нижний регистр все названия заголовков\n",
    "\n",
    "display(hypothesis)"
   ]
  },
  {
   "cell_type": "code",
   "execution_count": 3,
   "metadata": {},
   "outputs": [
    {
     "data": {
      "text/html": [
       "<div>\n",
       "<style scoped>\n",
       "    .dataframe tbody tr th:only-of-type {\n",
       "        vertical-align: middle;\n",
       "    }\n",
       "\n",
       "    .dataframe tbody tr th {\n",
       "        vertical-align: top;\n",
       "    }\n",
       "\n",
       "    .dataframe thead th {\n",
       "        text-align: right;\n",
       "    }\n",
       "</style>\n",
       "<table border=\"1\" class=\"dataframe\">\n",
       "  <thead>\n",
       "    <tr style=\"text-align: right;\">\n",
       "      <th></th>\n",
       "      <th>hypothesis</th>\n",
       "      <th>reach</th>\n",
       "      <th>impact</th>\n",
       "      <th>confidence</th>\n",
       "      <th>efforts</th>\n",
       "      <th>ICE</th>\n",
       "      <th>RICE</th>\n",
       "    </tr>\n",
       "  </thead>\n",
       "  <tbody>\n",
       "    <tr>\n",
       "      <th>8</th>\n",
       "      <td>Запустить акцию, дающую скидку на товар в день...</td>\n",
       "      <td>1</td>\n",
       "      <td>9</td>\n",
       "      <td>9</td>\n",
       "      <td>5</td>\n",
       "      <td>16.200000</td>\n",
       "      <td>16.2</td>\n",
       "    </tr>\n",
       "    <tr>\n",
       "      <th>0</th>\n",
       "      <td>Добавить два новых канала привлечения трафика,...</td>\n",
       "      <td>3</td>\n",
       "      <td>10</td>\n",
       "      <td>8</td>\n",
       "      <td>6</td>\n",
       "      <td>13.333333</td>\n",
       "      <td>40.0</td>\n",
       "    </tr>\n",
       "    <tr>\n",
       "      <th>7</th>\n",
       "      <td>Добавить форму подписки на все основные страни...</td>\n",
       "      <td>10</td>\n",
       "      <td>7</td>\n",
       "      <td>8</td>\n",
       "      <td>5</td>\n",
       "      <td>11.200000</td>\n",
       "      <td>112.0</td>\n",
       "    </tr>\n",
       "    <tr>\n",
       "      <th>6</th>\n",
       "      <td>Показать на главной странице баннеры с актуаль...</td>\n",
       "      <td>5</td>\n",
       "      <td>3</td>\n",
       "      <td>8</td>\n",
       "      <td>3</td>\n",
       "      <td>8.000000</td>\n",
       "      <td>40.0</td>\n",
       "    </tr>\n",
       "    <tr>\n",
       "      <th>2</th>\n",
       "      <td>Добавить блоки рекомендаций товаров на сайт ин...</td>\n",
       "      <td>8</td>\n",
       "      <td>3</td>\n",
       "      <td>7</td>\n",
       "      <td>3</td>\n",
       "      <td>7.000000</td>\n",
       "      <td>56.0</td>\n",
       "    </tr>\n",
       "    <tr>\n",
       "      <th>1</th>\n",
       "      <td>Запустить собственную службу доставки, что сок...</td>\n",
       "      <td>2</td>\n",
       "      <td>5</td>\n",
       "      <td>4</td>\n",
       "      <td>10</td>\n",
       "      <td>2.000000</td>\n",
       "      <td>4.0</td>\n",
       "    </tr>\n",
       "    <tr>\n",
       "      <th>5</th>\n",
       "      <td>Добавить страницу отзывов клиентов о магазине,...</td>\n",
       "      <td>3</td>\n",
       "      <td>2</td>\n",
       "      <td>2</td>\n",
       "      <td>3</td>\n",
       "      <td>1.333333</td>\n",
       "      <td>4.0</td>\n",
       "    </tr>\n",
       "    <tr>\n",
       "      <th>3</th>\n",
       "      <td>Изменить структура категорий, что увеличит кон...</td>\n",
       "      <td>8</td>\n",
       "      <td>3</td>\n",
       "      <td>3</td>\n",
       "      <td>8</td>\n",
       "      <td>1.125000</td>\n",
       "      <td>9.0</td>\n",
       "    </tr>\n",
       "    <tr>\n",
       "      <th>4</th>\n",
       "      <td>Изменить цвет фона главной страницы, чтобы уве...</td>\n",
       "      <td>3</td>\n",
       "      <td>1</td>\n",
       "      <td>1</td>\n",
       "      <td>1</td>\n",
       "      <td>1.000000</td>\n",
       "      <td>3.0</td>\n",
       "    </tr>\n",
       "  </tbody>\n",
       "</table>\n",
       "</div>"
      ],
      "text/plain": [
       "                                          hypothesis  reach  impact  \\\n",
       "8  Запустить акцию, дающую скидку на товар в день...      1       9   \n",
       "0  Добавить два новых канала привлечения трафика,...      3      10   \n",
       "7  Добавить форму подписки на все основные страни...     10       7   \n",
       "6  Показать на главной странице баннеры с актуаль...      5       3   \n",
       "2  Добавить блоки рекомендаций товаров на сайт ин...      8       3   \n",
       "1  Запустить собственную службу доставки, что сок...      2       5   \n",
       "5  Добавить страницу отзывов клиентов о магазине,...      3       2   \n",
       "3  Изменить структура категорий, что увеличит кон...      8       3   \n",
       "4  Изменить цвет фона главной страницы, чтобы уве...      3       1   \n",
       "\n",
       "   confidence  efforts        ICE   RICE  \n",
       "8           9        5  16.200000   16.2  \n",
       "0           8        6  13.333333   40.0  \n",
       "7           8        5  11.200000  112.0  \n",
       "6           8        3   8.000000   40.0  \n",
       "2           7        3   7.000000   56.0  \n",
       "1           4       10   2.000000    4.0  \n",
       "5           2        3   1.333333    4.0  \n",
       "3           3        8   1.125000    9.0  \n",
       "4           1        1   1.000000    3.0  "
      ]
     },
     "metadata": {},
     "output_type": "display_data"
    },
    {
     "data": {
      "text/html": [
       "<div>\n",
       "<style scoped>\n",
       "    .dataframe tbody tr th:only-of-type {\n",
       "        vertical-align: middle;\n",
       "    }\n",
       "\n",
       "    .dataframe tbody tr th {\n",
       "        vertical-align: top;\n",
       "    }\n",
       "\n",
       "    .dataframe thead th {\n",
       "        text-align: right;\n",
       "    }\n",
       "</style>\n",
       "<table border=\"1\" class=\"dataframe\">\n",
       "  <thead>\n",
       "    <tr style=\"text-align: right;\">\n",
       "      <th></th>\n",
       "      <th>hypothesis</th>\n",
       "      <th>reach</th>\n",
       "      <th>impact</th>\n",
       "      <th>confidence</th>\n",
       "      <th>efforts</th>\n",
       "      <th>ICE</th>\n",
       "      <th>RICE</th>\n",
       "    </tr>\n",
       "  </thead>\n",
       "  <tbody>\n",
       "    <tr>\n",
       "      <th>7</th>\n",
       "      <td>Добавить форму подписки на все основные страни...</td>\n",
       "      <td>10</td>\n",
       "      <td>7</td>\n",
       "      <td>8</td>\n",
       "      <td>5</td>\n",
       "      <td>11.200000</td>\n",
       "      <td>112.0</td>\n",
       "    </tr>\n",
       "    <tr>\n",
       "      <th>2</th>\n",
       "      <td>Добавить блоки рекомендаций товаров на сайт ин...</td>\n",
       "      <td>8</td>\n",
       "      <td>3</td>\n",
       "      <td>7</td>\n",
       "      <td>3</td>\n",
       "      <td>7.000000</td>\n",
       "      <td>56.0</td>\n",
       "    </tr>\n",
       "    <tr>\n",
       "      <th>0</th>\n",
       "      <td>Добавить два новых канала привлечения трафика,...</td>\n",
       "      <td>3</td>\n",
       "      <td>10</td>\n",
       "      <td>8</td>\n",
       "      <td>6</td>\n",
       "      <td>13.333333</td>\n",
       "      <td>40.0</td>\n",
       "    </tr>\n",
       "    <tr>\n",
       "      <th>6</th>\n",
       "      <td>Показать на главной странице баннеры с актуаль...</td>\n",
       "      <td>5</td>\n",
       "      <td>3</td>\n",
       "      <td>8</td>\n",
       "      <td>3</td>\n",
       "      <td>8.000000</td>\n",
       "      <td>40.0</td>\n",
       "    </tr>\n",
       "    <tr>\n",
       "      <th>8</th>\n",
       "      <td>Запустить акцию, дающую скидку на товар в день...</td>\n",
       "      <td>1</td>\n",
       "      <td>9</td>\n",
       "      <td>9</td>\n",
       "      <td>5</td>\n",
       "      <td>16.200000</td>\n",
       "      <td>16.2</td>\n",
       "    </tr>\n",
       "    <tr>\n",
       "      <th>3</th>\n",
       "      <td>Изменить структура категорий, что увеличит кон...</td>\n",
       "      <td>8</td>\n",
       "      <td>3</td>\n",
       "      <td>3</td>\n",
       "      <td>8</td>\n",
       "      <td>1.125000</td>\n",
       "      <td>9.0</td>\n",
       "    </tr>\n",
       "    <tr>\n",
       "      <th>1</th>\n",
       "      <td>Запустить собственную службу доставки, что сок...</td>\n",
       "      <td>2</td>\n",
       "      <td>5</td>\n",
       "      <td>4</td>\n",
       "      <td>10</td>\n",
       "      <td>2.000000</td>\n",
       "      <td>4.0</td>\n",
       "    </tr>\n",
       "    <tr>\n",
       "      <th>5</th>\n",
       "      <td>Добавить страницу отзывов клиентов о магазине,...</td>\n",
       "      <td>3</td>\n",
       "      <td>2</td>\n",
       "      <td>2</td>\n",
       "      <td>3</td>\n",
       "      <td>1.333333</td>\n",
       "      <td>4.0</td>\n",
       "    </tr>\n",
       "    <tr>\n",
       "      <th>4</th>\n",
       "      <td>Изменить цвет фона главной страницы, чтобы уве...</td>\n",
       "      <td>3</td>\n",
       "      <td>1</td>\n",
       "      <td>1</td>\n",
       "      <td>1</td>\n",
       "      <td>1.000000</td>\n",
       "      <td>3.0</td>\n",
       "    </tr>\n",
       "  </tbody>\n",
       "</table>\n",
       "</div>"
      ],
      "text/plain": [
       "                                          hypothesis  reach  impact  \\\n",
       "7  Добавить форму подписки на все основные страни...     10       7   \n",
       "2  Добавить блоки рекомендаций товаров на сайт ин...      8       3   \n",
       "0  Добавить два новых канала привлечения трафика,...      3      10   \n",
       "6  Показать на главной странице баннеры с актуаль...      5       3   \n",
       "8  Запустить акцию, дающую скидку на товар в день...      1       9   \n",
       "3  Изменить структура категорий, что увеличит кон...      8       3   \n",
       "1  Запустить собственную службу доставки, что сок...      2       5   \n",
       "5  Добавить страницу отзывов клиентов о магазине,...      3       2   \n",
       "4  Изменить цвет фона главной страницы, чтобы уве...      3       1   \n",
       "\n",
       "   confidence  efforts        ICE   RICE  \n",
       "7           8        5  11.200000  112.0  \n",
       "2           7        3   7.000000   56.0  \n",
       "0           8        6  13.333333   40.0  \n",
       "6           8        3   8.000000   40.0  \n",
       "8           9        5  16.200000   16.2  \n",
       "3           3        8   1.125000    9.0  \n",
       "1           4       10   2.000000    4.0  \n",
       "5           2        3   1.333333    4.0  \n",
       "4           1        1   1.000000    3.0  "
      ]
     },
     "metadata": {},
     "output_type": "display_data"
    }
   ],
   "source": [
    "# применяем метод ICE для приоритизация гипотез\n",
    "hypothesis['ICE'] = hypothesis['impact']*hypothesis['confidence']/hypothesis['efforts']\n",
    "\n",
    "# применяем метод RICE для приоритизация гипотез\n",
    "hypothesis['RICE'] = hypothesis['reach']*hypothesis['impact']*hypothesis['confidence']/hypothesis['efforts']\n",
    "\n",
    "display(hypothesis.sort_values(by='ICE',ascending=False))\n",
    "\n",
    "display(hypothesis.sort_values(by='RICE',ascending=False))\n",
    "\n",
    "pd.set_option('max_colwidth', 300) # расширяем столбцы, чтобы видеть полное наименование гипотез\n"
   ]
  },
  {
   "cell_type": "markdown",
   "metadata": {},
   "source": [
    "### Вывод\n",
    "   - мы импортировали все необходимые библитеки\n",
    "   - загрузили данные по существующим гипотезам и их компонентам (R,I,C,E)\n",
    "   - использовали два метода для оценки приоритизации гипотез ICE, RICE\n",
    "   - При методе ICE  в приоритете оказались гипотезы: 8,0,7,6. При методе RICE  в приоритете оказались гипотезы: 7,2,0,6\n",
    "    8 гипотезы потерялала приоритет из-за очень низконо охвата аудитории(1),2 появилась благодаря высокому охвату в 8, хотя         влияние, затронувшее 3х пользователей явно невысокое.\n",
    "   "
   ]
  },
  {
   "cell_type": "markdown",
   "metadata": {},
   "source": [
    "##  Анализ A/B-теста"
   ]
  },
  {
   "cell_type": "code",
   "execution_count": 4,
   "metadata": {
    "scrolled": true
   },
   "outputs": [
    {
     "name": "stdout",
     "output_type": "stream",
     "text": [
      "<class 'pandas.core.frame.DataFrame'>\n",
      "RangeIndex: 1197 entries, 0 to 1196\n",
      "Data columns (total 5 columns):\n",
      " #   Column         Non-Null Count  Dtype \n",
      "---  ------         --------------  ----- \n",
      " 0   transactionId  1197 non-null   int64 \n",
      " 1   visitorId      1197 non-null   int64 \n",
      " 2   date           1197 non-null   object\n",
      " 3   revenue        1197 non-null   int64 \n",
      " 4   group          1197 non-null   object\n",
      "dtypes: int64(3), object(2)\n",
      "memory usage: 46.9+ KB\n",
      "\n",
      "<class 'pandas.core.frame.DataFrame'>\n",
      "RangeIndex: 62 entries, 0 to 61\n",
      "Data columns (total 3 columns):\n",
      " #   Column    Non-Null Count  Dtype \n",
      "---  ------    --------------  ----- \n",
      " 0   date      62 non-null     object\n",
      " 1   group     62 non-null     object\n",
      " 2   visitors  62 non-null     int64 \n",
      "dtypes: int64(1), object(2)\n",
      "memory usage: 1.6+ KB\n",
      "\n",
      "Кол-во дубликатов:  0\n",
      "Кол-во дубликатов:  0\n",
      "['B' 'A']\n",
      "['A' 'B']\n"
     ]
    },
    {
     "data": {
      "text/html": [
       "<div>\n",
       "<style scoped>\n",
       "    .dataframe tbody tr th:only-of-type {\n",
       "        vertical-align: middle;\n",
       "    }\n",
       "\n",
       "    .dataframe tbody tr th {\n",
       "        vertical-align: top;\n",
       "    }\n",
       "\n",
       "    .dataframe thead th {\n",
       "        text-align: right;\n",
       "    }\n",
       "</style>\n",
       "<table border=\"1\" class=\"dataframe\">\n",
       "  <thead>\n",
       "    <tr style=\"text-align: right;\">\n",
       "      <th></th>\n",
       "      <th>transactionId</th>\n",
       "      <th>visitorId</th>\n",
       "      <th>date</th>\n",
       "      <th>revenue</th>\n",
       "      <th>group</th>\n",
       "    </tr>\n",
       "  </thead>\n",
       "  <tbody>\n",
       "    <tr>\n",
       "      <th>0</th>\n",
       "      <td>3667963787</td>\n",
       "      <td>3312258926</td>\n",
       "      <td>2019-08-15</td>\n",
       "      <td>1650</td>\n",
       "      <td>B</td>\n",
       "    </tr>\n",
       "    <tr>\n",
       "      <th>1</th>\n",
       "      <td>2804400009</td>\n",
       "      <td>3642806036</td>\n",
       "      <td>2019-08-15</td>\n",
       "      <td>730</td>\n",
       "      <td>B</td>\n",
       "    </tr>\n",
       "    <tr>\n",
       "      <th>2</th>\n",
       "      <td>2961555356</td>\n",
       "      <td>4069496402</td>\n",
       "      <td>2019-08-15</td>\n",
       "      <td>400</td>\n",
       "      <td>A</td>\n",
       "    </tr>\n",
       "    <tr>\n",
       "      <th>3</th>\n",
       "      <td>3797467345</td>\n",
       "      <td>1196621759</td>\n",
       "      <td>2019-08-15</td>\n",
       "      <td>9759</td>\n",
       "      <td>B</td>\n",
       "    </tr>\n",
       "    <tr>\n",
       "      <th>4</th>\n",
       "      <td>2282983706</td>\n",
       "      <td>2322279887</td>\n",
       "      <td>2019-08-15</td>\n",
       "      <td>2308</td>\n",
       "      <td>B</td>\n",
       "    </tr>\n",
       "  </tbody>\n",
       "</table>\n",
       "</div>"
      ],
      "text/plain": [
       "   transactionId   visitorId       date  revenue group\n",
       "0     3667963787  3312258926 2019-08-15     1650     B\n",
       "1     2804400009  3642806036 2019-08-15      730     B\n",
       "2     2961555356  4069496402 2019-08-15      400     A\n",
       "3     3797467345  1196621759 2019-08-15     9759     B\n",
       "4     2282983706  2322279887 2019-08-15     2308     B"
      ]
     },
     "metadata": {},
     "output_type": "display_data"
    },
    {
     "name": "stdout",
     "output_type": "stream",
     "text": [
      "\n"
     ]
    },
    {
     "data": {
      "text/html": [
       "<div>\n",
       "<style scoped>\n",
       "    .dataframe tbody tr th:only-of-type {\n",
       "        vertical-align: middle;\n",
       "    }\n",
       "\n",
       "    .dataframe tbody tr th {\n",
       "        vertical-align: top;\n",
       "    }\n",
       "\n",
       "    .dataframe thead th {\n",
       "        text-align: right;\n",
       "    }\n",
       "</style>\n",
       "<table border=\"1\" class=\"dataframe\">\n",
       "  <thead>\n",
       "    <tr style=\"text-align: right;\">\n",
       "      <th></th>\n",
       "      <th>date</th>\n",
       "      <th>group</th>\n",
       "      <th>visitors</th>\n",
       "    </tr>\n",
       "  </thead>\n",
       "  <tbody>\n",
       "    <tr>\n",
       "      <th>0</th>\n",
       "      <td>2019-08-01</td>\n",
       "      <td>A</td>\n",
       "      <td>719</td>\n",
       "    </tr>\n",
       "    <tr>\n",
       "      <th>1</th>\n",
       "      <td>2019-08-02</td>\n",
       "      <td>A</td>\n",
       "      <td>619</td>\n",
       "    </tr>\n",
       "    <tr>\n",
       "      <th>2</th>\n",
       "      <td>2019-08-03</td>\n",
       "      <td>A</td>\n",
       "      <td>507</td>\n",
       "    </tr>\n",
       "    <tr>\n",
       "      <th>3</th>\n",
       "      <td>2019-08-04</td>\n",
       "      <td>A</td>\n",
       "      <td>717</td>\n",
       "    </tr>\n",
       "    <tr>\n",
       "      <th>4</th>\n",
       "      <td>2019-08-05</td>\n",
       "      <td>A</td>\n",
       "      <td>756</td>\n",
       "    </tr>\n",
       "  </tbody>\n",
       "</table>\n",
       "</div>"
      ],
      "text/plain": [
       "        date group  visitors\n",
       "0 2019-08-01     A       719\n",
       "1 2019-08-02     A       619\n",
       "2 2019-08-03     A       507\n",
       "3 2019-08-04     A       717\n",
       "4 2019-08-05     A       756"
      ]
     },
     "metadata": {},
     "output_type": "display_data"
    }
   ],
   "source": [
    "# выгружаем данные по заказам пользоваталей и информацию о посетителях магазина\n",
    "\n",
    "orders = pd.read_csv('/datasets/orders.csv')\n",
    "visitors = pd.read_csv('/datasets/visitors.csv')\n",
    "\n",
    "# проверяем данные на форматы\n",
    "orders.info()\n",
    "print()\n",
    "visitors.info()\n",
    "\n",
    "dfs = [orders,visitors]\n",
    "\n",
    "# переводи данные столбца \"date\" в нужный формат\n",
    "for df in dfs:\n",
    "    df['date'] = df['date'].map(\n",
    "    lambda x: dt.datetime.strptime(x, '%Y-%m-%d')\n",
    "     )\n",
    "\n",
    "\n",
    "# проверяем на наличие отрицательных значений\n",
    "\n",
    "def find_num_cols(df):\n",
    "    numerical_columns = [c for c in df.columns if df[c].dtype.name =='int64'] # выбираем только столбцы с количественными данными\t\n",
    "    return numerical_columns\n",
    "\n",
    "for df in dfs:\n",
    "    numeric = find_num_cols(df)# список столбцов с количественными данными присваивается переменной 'numeric'\n",
    "    for i in numeric:\n",
    "        df[i] = df[i].abs()\n",
    "print()\n",
    "        \n",
    "# проверка на дубликаты\n",
    "for df in dfs:\n",
    "    print('Кол-во дубликатов: ',df.duplicated().sum())\n",
    "\n",
    "# проверяем категориальные столбцы на неочевидные пропукси и дубликаты\n",
    "def find_cat_cols(df):\n",
    "    categorial_columns = [c for c in df.columns if df[c].dtype.name == 'object'] #выбираем только столбцы с категориальными данными\n",
    "    return categorial_columns\n",
    "\n",
    "for df in dfs:\n",
    "    categorial = find_cat_cols(df)\n",
    "    for i in categorial:\n",
    "        print(df[i].unique())      \n",
    "        \n",
    "display(orders.head(5))\n",
    "print()\n",
    "display(visitors.head(5))"
   ]
  },
  {
   "cell_type": "code",
   "execution_count": 5,
   "metadata": {},
   "outputs": [
    {
     "name": "stdout",
     "output_type": "stream",
     "text": [
      "visitorId    1148\n",
      "dtype: int64\n",
      "1031\n"
     ]
    }
   ],
   "source": [
    "\n",
    "orders_a = orders.groupby('date').agg({'visitorId':'nunique'}).sum()\n",
    "print(orders_a)\n",
    "orders_b= len(orders['visitorId'].unique())\n",
    "print(orders_b)\n"
   ]
  },
  {
   "cell_type": "markdown",
   "metadata": {},
   "source": [
    "### График кумулятивной выручки по группам"
   ]
  },
  {
   "cell_type": "markdown",
   "metadata": {},
   "source": []
  },
  {
   "cell_type": "code",
   "execution_count": 6,
   "metadata": {
    "scrolled": false
   },
   "outputs": [
    {
     "name": "stdout",
     "output_type": "stream",
     "text": [
      "[8300375, 199603092, 232979603, 237748145, 276558944, 351125977, 393266494, 457167155, 471551937, 477780734, 818047933, 963407295, 1230306981, 1294878855, 1316129916, 1333886533, 1404934699, 1602967004, 1614305549, 1648269707, 1668030113, 1738359350, 1801183820, 1959144690, 2038680547, 2044997962, 2378935119, 2458001652, 2579882178, 2587333274, 2600415354, 2654030115, 2686716486, 2712142231, 2716752286, 2780786433, 2927087541, 2949041841, 2954449915, 3062433592, 3202540741, 3234906277, 3656415546, 3717692402, 3766097110, 3803269165, 3891541246, 3941795274, 3951559397, 3957174400, 3963646447, 3972127743, 3984495233, 4069496402, 4120364173, 4186807279, 4256040402, 4266935830]\n",
      "<class 'pandas.core.frame.DataFrame'>\n",
      "Int64Index: 1016 entries, 0 to 1196\n",
      "Data columns (total 5 columns):\n",
      " #   Column         Non-Null Count  Dtype         \n",
      "---  ------         --------------  -----         \n",
      " 0   transactionId  1016 non-null   int64         \n",
      " 1   visitorId      1016 non-null   int64         \n",
      " 2   date           1016 non-null   datetime64[ns]\n",
      " 3   revenue        1016 non-null   int64         \n",
      " 4   group          1016 non-null   object        \n",
      "dtypes: datetime64[ns](1), int64(3), object(1)\n",
      "memory usage: 47.6+ KB\n"
     ]
    }
   ],
   "source": [
    "# проверим на наличие пользователей попавших в обе группы\n",
    "\n",
    "usersA = orders[orders['group']==\"A\"].groupby('visitorId').agg({'visitorId':'first'})\n",
    "usersA.columns=['id']\n",
    "usersB = orders[orders['group']==\"B\"].groupby('visitorId').agg({'visitorId':'first'})\n",
    "usersB.columns=['id']\n",
    "\n",
    "abusers = (pd.concat([usersA,usersB],axis=0))# кол-во общих пользователей на 2 группы\n",
    "abusers = abusers[abusers.duplicated()]['id'].tolist()\n",
    "print(abusers)\n",
    "orders = orders.query('visitorId not in @abusers')\n",
    "orders.info()"
   ]
  },
  {
   "cell_type": "code",
   "execution_count": 7,
   "metadata": {},
   "outputs": [
    {
     "name": "stdout",
     "output_type": "stream",
     "text": [
      "         date group\n",
      "0  2019-08-15     B\n",
      "7  2019-08-15     A\n",
      "45 2019-08-16     A\n",
      "47 2019-08-16     B\n",
      "55 2019-08-01     A\n"
     ]
    }
   ],
   "source": [
    "import matplotlib.pyplot as plt #импортируем библиотеку для построения графиков\n",
    "\n",
    "# строим по сырым данным\n",
    "\n",
    "datesGroups = orders[['date','group']].drop_duplicates() \n",
    "\n",
    "# кумулятивные данные по заказам\n",
    "ordersAggregated = datesGroups.apply(lambda x: orders[np.logical_and(orders['date'] <= x['date'], orders['group'] == x['group'])]\n",
    ".agg({'date' : 'max', 'group' : 'max', 'transactionId' : 'nunique', 'visitorId' : 'nunique', 'revenue' : 'sum'}), axis=1).sort_values(by=['date','group']) \n",
    "\n",
    "# кумулятивные данные по посетителям\n",
    "visitorsAggregated = datesGroups.apply(lambda x: visitors[np.logical_and(visitors['date'] <= x['date'], visitors['group'] == x['group'])].agg({'date' : 'max', 'group' : 'max', 'visitors' : 'sum'}), axis=1).sort_values(by=['date','group'])\n",
    "\n",
    "# объединяем кумулятивные данные в одной таблице и присваиваем ее столбцам понятные названия\n",
    "cumulativeData = ordersAggregated.merge(visitorsAggregated, left_on=['date', 'group'], right_on=['date', 'group'])\n",
    "cumulativeData.columns = ['date', 'group', 'orders', 'buyers', 'revenue', 'visitors']\n",
    "\n",
    "print(datesGroups.head(5)) \n"
   ]
  },
  {
   "cell_type": "code",
   "execution_count": 9,
   "metadata": {
    "scrolled": false
   },
   "outputs": [
    {
     "data": {
      "text/plain": [
       "<matplotlib.legend.Legend at 0x7f58113c2fa0>"
      ]
     },
     "execution_count": 9,
     "metadata": {},
     "output_type": "execute_result"
    },
    {
     "data": {
      "image/png": "[encoded data removed]",
      "text/plain": [
       "<Figure size 936x360 with 1 Axes>"
      ]
     },
     "metadata": {
      "needs_background": "light"
     },
     "output_type": "display_data"
    }
   ],
   "source": [
    "# датафрейм с кумулятивным количеством заказов и кумулятивной выручкой по дням в группе А\n",
    "cumulativeRevenueA = cumulativeData[cumulativeData['group']=='A'][['date','revenue', 'orders']]\n",
    "\n",
    "# датафрейм с кумулятивным количеством заказов и кумулятивной выручкой по дням в группе B\n",
    "cumulativeRevenueB = cumulativeData[cumulativeData['group']=='B'][['date','revenue', 'orders']]\n",
    "\n",
    "# Строим график выручки группы А\n",
    "plt.plot(cumulativeRevenueA['date'], cumulativeRevenueA['revenue'], label='A')\n",
    "\n",
    "# Строим график выручки группы B\n",
    "plt.plot(cumulativeRevenueB['date'], cumulativeRevenueB['revenue'], label='B')\n",
    "plt.rcParams['figure.figsize'] = (13,5)\n",
    "\n",
    "plt.legend() "
   ]
  },
  {
   "cell_type": "markdown",
   "metadata": {},
   "source": [
    "#### Выводы\n",
    "    - Судя по графику кумулятивной выручки, выручки в обеих группа увеличиваются в течение всего периода\n",
    "    - Выручка в группе B изначально растет равномерно и превосходит выручку А незначительно, но примерно на середине периода       - наблюдается резкий скачок (резкий рост заказов или(и) среднего чека) после чего выручка группы B вырывается в лидеры с       - заметным отрывом"
   ]
  },
  {
   "cell_type": "markdown",
   "metadata": {},
   "source": [
    "###  График кумулятивного среднего чека по группам"
   ]
  },
  {
   "cell_type": "code",
   "execution_count": 10,
   "metadata": {},
   "outputs": [
    {
     "data": {
      "text/plain": [
       "<matplotlib.legend.Legend at 0x7f581136cbb0>"
      ]
     },
     "execution_count": 10,
     "metadata": {},
     "output_type": "execute_result"
    },
    {
     "data": {
      "image/png": "[encoded data removed]",
      "text/plain": [
       "<Figure size 936x360 with 1 Axes>"
      ]
     },
     "metadata": {
      "needs_background": "light"
     },
     "output_type": "display_data"
    }
   ],
   "source": [
    "plt.plot(cumulativeRevenueA['date'], cumulativeRevenueA['revenue']/cumulativeRevenueA['orders'], label='A')\n",
    "plt.plot(cumulativeRevenueB['date'], cumulativeRevenueB['revenue']/cumulativeRevenueB['orders'], label='B')\n",
    "plt.legend() "
   ]
  },
  {
   "cell_type": "markdown",
   "metadata": {},
   "source": [
    "#### Выводы\n",
    "     - Средние чеки на первый взгляд стабилизировались и следуют по схожим траекториям, ближе в концу теста,но\n",
    "     - где-то в середине периода в группе B наблюдается значимое увеличение среднего чека, чье влияние значительно, \n",
    "     - данные еще далеки от стабилизации,\n",
    "     - делать вывод рано"
   ]
  },
  {
   "cell_type": "markdown",
   "metadata": {},
   "source": [
    "### График относительного изменения кумулятивного среднего чека группы B к группе A. "
   ]
  },
  {
   "cell_type": "code",
   "execution_count": 11,
   "metadata": {},
   "outputs": [
    {
     "data": {
      "text/plain": [
       "<matplotlib.lines.Line2D at 0x7f581130c880>"
      ]
     },
     "execution_count": 11,
     "metadata": {},
     "output_type": "execute_result"
    },
    {
     "data": {
      "image/png": "[encoded data removed]",
      "text/plain": [
       "<Figure size 936x360 with 1 Axes>"
      ]
     },
     "metadata": {
      "needs_background": "light"
     },
     "output_type": "display_data"
    }
   ],
   "source": [
    "# собираем данные в одном датафрейме\n",
    "mergedCumulativeRevenue = cumulativeRevenueA.merge(cumulativeRevenueB, left_on='date', right_on='date', how='left', suffixes=['A', 'B'])\n",
    "\n",
    "# cтроим отношение средних чеков\n",
    "plt.plot(mergedCumulativeRevenue['date'], (mergedCumulativeRevenue['revenueB']/mergedCumulativeRevenue['ordersB'])/(mergedCumulativeRevenue['revenueA']/mergedCumulativeRevenue['ordersA'])-1)\n",
    "\n",
    "# добавляем ось X\n",
    "plt.axhline(y=0, color='black', linestyle='--') "
   ]
  },
  {
   "cell_type": "markdown",
   "metadata": {},
   "source": [
    "#### Вывод\n",
    "     - пока сложно сделать выводы о среднем чеке, так как на графике данные колеблются, а резкие скачки скорее \n",
    "     - свидетельствуют о каких-то крупных заказах"
   ]
  },
  {
   "cell_type": "markdown",
   "metadata": {},
   "source": [
    "### Постройте график кумулятивной конверсии по группам"
   ]
  },
  {
   "cell_type": "code",
   "execution_count": 20,
   "metadata": {},
   "outputs": [
    {
     "data": {
      "text/plain": [
       "<matplotlib.legend.Legend at 0x7f5810f3e760>"
      ]
     },
     "execution_count": 20,
     "metadata": {},
     "output_type": "execute_result"
    },
    {
     "data": {
      "image/png": "[encoded data removed]",
      "text/plain": [
       "<Figure size 936x360 with 1 Axes>"
      ]
     },
     "metadata": {
      "needs_background": "light"
     },
     "output_type": "display_data"
    }
   ],
   "source": [
    "# считаем кумулятивную конверсию\n",
    "cumulativeData['conversion'] = cumulativeData['orders']/cumulativeData['visitors']\n",
    "\n",
    "# отделяем данные по группе A\n",
    "cumulativeDataA = cumulativeData[cumulativeData['group']=='A']\n",
    "\n",
    "# отделяем данные по группе B\n",
    "cumulativeDataB = cumulativeData[cumulativeData['group']=='B']\n",
    "\n",
    "# строим графики\n",
    "plt.plot(cumulativeDataA['date'], cumulativeDataA['conversion'], label='A')\n",
    "plt.plot(cumulativeDataB['date'], cumulativeDataB['conversion'], label='B')\n",
    "plt.legend()\n"
   ]
  },
  {
   "cell_type": "markdown",
   "metadata": {},
   "source": [
    "#### Выводы\n",
    "- В начале теста конверсия еще не установилась, далее с существенным отрывом вперед вырвалась группа B и конверсия установилась\n",
    "  на фиксированном уровне.\n",
    "- Очевидно превосходство группы В, со стабильным установившимя отрывом от группы А. Есть  тренд на снижение ближе к концу теста,\n",
    "- но, судя по графику, он объясняется небольшой цикличностью, присущей обеим группам."
   ]
  },
  {
   "cell_type": "markdown",
   "metadata": {},
   "source": [
    "### Постройте график относительного изменения кумулятивной конверсии группы B к группе A "
   ]
  },
  {
   "cell_type": "code",
   "execution_count": 25,
   "metadata": {},
   "outputs": [
    {
     "data": {
      "text/plain": [
       "<matplotlib.lines.Line2D at 0x7f5810e2a7f0>"
      ]
     },
     "execution_count": 25,
     "metadata": {},
     "output_type": "execute_result"
    },
    {
     "data": {
      "image/png": "[encoded data removed]",
      "text/plain": [
       "<Figure size 936x360 with 1 Axes>"
      ]
     },
     "metadata": {
      "needs_background": "light"
     },
     "output_type": "display_data"
    }
   ],
   "source": [
    "mergedCumulativeConversions = cumulativeDataA[['date','conversion']].merge(cumulativeDataB[['date','conversion']], left_on='date', right_on='date', how='left', suffixes=['A', 'B'])\n",
    "\n",
    "plt.plot(mergedCumulativeConversions['date'], mergedCumulativeConversions['conversionB']/mergedCumulativeConversions['conversionA']-1, label=\"Относительный прирост конверсии группы B относительно группы A\")\n",
    "plt.legend()\n",
    "\n",
    "plt.axhline(y=0, color='black', linestyle='--')\n",
    "plt.axhline(y=-0.1, color='grey', linestyle='--')"
   ]
  },
  {
   "cell_type": "markdown",
   "metadata": {},
   "source": [
    "#### Вывод\n",
    "     - С середины теста отличие конверсии группы B относительно конверсии группы A снижается и, возможно,\n",
    "     - уже стабилизировалось."
   ]
  },
  {
   "cell_type": "markdown",
   "metadata": {},
   "source": [
    "### Постройте точечные графики количества заказов и стоимости заказа по пользователям. Определите 95 и 99 перцентили для подсчета границы"
   ]
  },
  {
   "cell_type": "code",
   "execution_count": 26,
   "metadata": {},
   "outputs": [
    {
     "data": {
      "text/plain": [
       "(0.0, 8.0)"
      ]
     },
     "execution_count": 26,
     "metadata": {},
     "output_type": "execute_result"
    },
    {
     "data": {
      "image/png": "[encoded data removed]",
      "text/plain": [
       "<Figure size 936x360 with 1 Axes>"
      ]
     },
     "metadata": {
      "needs_background": "light"
     },
     "output_type": "display_data"
    }
   ],
   "source": [
    "# оценим кол-во заказов на пользователя\n",
    "\n",
    "orders_per_user = orders.groupby('visitorId', as_index=False).agg({'transactionId':pd.Series.nunique})\n",
    "orders_per_user.columns = ['buyers','orders']\n",
    "orders_per_user.sort_values(by='orders')\n",
    "\n",
    "x_values = pd.Series(range(0,len(orders_per_user['orders'])))\n",
    "plt.scatter(x_values, orders_per_user['orders']) \n",
    "plt.grid() # добавили сетку\n",
    "plt.ylim(0,8)"
   ]
  },
  {
   "cell_type": "code",
   "execution_count": 27,
   "metadata": {},
   "outputs": [
    {
     "name": "stdout",
     "output_type": "stream",
     "text": [
      "[1. 2.]\n"
     ]
    }
   ],
   "source": [
    "# так как принято убирать 1-5% наблюдений с крайними значениями, то посчитаем перцентили\n",
    "\n",
    "print(np.percentile(orders_per_user['orders'],[95,99]))"
   ]
  },
  {
   "cell_type": "code",
   "execution_count": 28,
   "metadata": {},
   "outputs": [
    {
     "data": {
      "text/plain": [
       "(0.0, 200000.0)"
      ]
     },
     "execution_count": 28,
     "metadata": {},
     "output_type": "execute_result"
    },
    {
     "data": {
      "image/png": "[encoded data removed]",
      "text/plain": [
       "<Figure size 936x360 with 1 Axes>"
      ]
     },
     "metadata": {
      "needs_background": "light"
     },
     "output_type": "display_data"
    }
   ],
   "source": [
    "# оценим стоимость заказов на пользователя\n",
    "\n",
    "x_values = pd.Series(range(0,len(orders['revenue'])))\n",
    "plt.scatter(x_values, orders['revenue']) \n",
    "plt.grid() # добавили сетку\n",
    "plt.ylim(0,200000)\n"
   ]
  },
  {
   "cell_type": "code",
   "execution_count": 29,
   "metadata": {},
   "outputs": [
    {
     "name": "stdout",
     "output_type": "stream",
     "text": [
      "[26785. 53904.]\n"
     ]
    }
   ],
   "source": [
    "# так как принято убирать 1-5% наблюдений с крайними значениями, то посчитаем перцентили\n",
    "\n",
    "print(np.percentile(orders['revenue'],[95,99]))"
   ]
  },
  {
   "cell_type": "markdown",
   "metadata": {},
   "source": [
    "#### Выводы\n",
    "- судя по точечному графику основная масса заказов на одного пользователя расположена в районе до 4 заказов\n",
    "- посчитаем более точно и посмотрим перцентили 95 и 99 - 1 и 2 заказа соответственно. Не более 5% пользователей\n",
    "- размещали более 1 заказов и не более 1% 2 заказа. Выберем границу в 2 заказа, а остальные отсеем.\n",
    "\n",
    "- судя по точечному графику в основном стоимость заказов на одного пользователя расположена в диапозоне до 100000\n",
    "- среди нескольких дорогих заказов два экстремально дорогих, один из которых на миллион\n",
    "- посчитаем более точно и посмотрим перцентили 95 и 99 - 28 000 и 58 233 соответственно. Не более 5% пользователей\n",
    "- размещали заказаы на сумму больше 27 000 и не более 1% - на сумму 54 000. Выберем границу в 30 000, а остальные отсеем.\n"
   ]
  },
  {
   "cell_type": "markdown",
   "metadata": {},
   "source": [
    "### Посчитайте статистическую значимость различий в конверсии между группами по «сырым» данным"
   ]
  },
  {
   "cell_type": "code",
   "execution_count": 30,
   "metadata": {},
   "outputs": [
    {
     "ename": "ValueError",
     "evalue": "No objects to concatenate",
     "output_type": "error",
     "traceback": [
      "\u001b[0;31m---------------------------------------------------------------------------\u001b[0m",
      "\u001b[0;31mValueError\u001b[0m                                Traceback (most recent call last)",
      "\u001b[0;32m/tmp/ipykernel_104/720253032.py\u001b[0m in \u001b[0;36m<module>\u001b[0;34m\u001b[0m\n\u001b[1;32m     24\u001b[0m \u001b[0mvisitorsBCummulative\u001b[0m\u001b[0;34m.\u001b[0m\u001b[0mcolumns\u001b[0m \u001b[0;34m=\u001b[0m \u001b[0;34m[\u001b[0m\u001b[0;34m'date'\u001b[0m\u001b[0;34m,\u001b[0m \u001b[0;34m'visitorsCummulativeB'\u001b[0m\u001b[0;34m]\u001b[0m\u001b[0;34m\u001b[0m\u001b[0;34m\u001b[0m\u001b[0m\n\u001b[1;32m     25\u001b[0m \u001b[0;34m\u001b[0m\u001b[0m\n\u001b[0;32m---> 26\u001b[0;31m \u001b[0mvisitorsADaily\u001b[0m \u001b[0;34m=\u001b[0m \u001b[0mvisitorsADaily\u001b[0m\u001b[0;34m.\u001b[0m\u001b[0mgroupby\u001b[0m\u001b[0;34m(\u001b[0m\u001b[0;34m'date'\u001b[0m\u001b[0;34m)\u001b[0m\u001b[0;34m.\u001b[0m\u001b[0magg\u001b[0m\u001b[0;34m(\u001b[0m\u001b[0;34m{\u001b[0m\u001b[0;34m}\u001b[0m\u001b[0;34m)\u001b[0m\u001b[0;34m\u001b[0m\u001b[0;34m\u001b[0m\u001b[0m\n\u001b[0m",
      "\u001b[0;32m/opt/conda/lib/python3.9/site-packages/pandas/core/groupby/generic.py\u001b[0m in \u001b[0;36maggregate\u001b[0;34m(self, func, engine, engine_kwargs, *args, **kwargs)\u001b[0m\n\u001b[1;32m    943\u001b[0m         \u001b[0mfunc\u001b[0m \u001b[0;34m=\u001b[0m \u001b[0mmaybe_mangle_lambdas\u001b[0m\u001b[0;34m(\u001b[0m\u001b[0mfunc\u001b[0m\u001b[0;34m)\u001b[0m\u001b[0;34m\u001b[0m\u001b[0;34m\u001b[0m\u001b[0m\n\u001b[1;32m    944\u001b[0m \u001b[0;34m\u001b[0m\u001b[0m\n\u001b[0;32m--> 945\u001b[0;31m         \u001b[0mresult\u001b[0m\u001b[0;34m,\u001b[0m \u001b[0mhow\u001b[0m \u001b[0;34m=\u001b[0m \u001b[0maggregate\u001b[0m\u001b[0;34m(\u001b[0m\u001b[0mself\u001b[0m\u001b[0;34m,\u001b[0m \u001b[0mfunc\u001b[0m\u001b[0;34m,\u001b[0m \u001b[0;34m*\u001b[0m\u001b[0margs\u001b[0m\u001b[0;34m,\u001b[0m \u001b[0;34m**\u001b[0m\u001b[0mkwargs\u001b[0m\u001b[0;34m)\u001b[0m\u001b[0;34m\u001b[0m\u001b[0;34m\u001b[0m\u001b[0m\n\u001b[0m\u001b[1;32m    946\u001b[0m         \u001b[0;32mif\u001b[0m \u001b[0mhow\u001b[0m \u001b[0;32mis\u001b[0m \u001b[0;32mNone\u001b[0m\u001b[0;34m:\u001b[0m\u001b[0;34m\u001b[0m\u001b[0;34m\u001b[0m\u001b[0m\n\u001b[1;32m    947\u001b[0m             \u001b[0;32mreturn\u001b[0m \u001b[0mresult\u001b[0m\u001b[0;34m\u001b[0m\u001b[0;34m\u001b[0m\u001b[0m\n",
      "\u001b[0;32m/opt/conda/lib/python3.9/site-packages/pandas/core/aggregation.py\u001b[0m in \u001b[0;36maggregate\u001b[0;34m(obj, arg, *args, **kwargs)\u001b[0m\n\u001b[1;32m    580\u001b[0m     \u001b[0;32melif\u001b[0m \u001b[0mis_dict_like\u001b[0m\u001b[0;34m(\u001b[0m\u001b[0marg\u001b[0m\u001b[0;34m)\u001b[0m\u001b[0;34m:\u001b[0m\u001b[0;34m\u001b[0m\u001b[0;34m\u001b[0m\u001b[0m\n\u001b[1;32m    581\u001b[0m         \u001b[0marg\u001b[0m \u001b[0;34m=\u001b[0m \u001b[0mcast\u001b[0m\u001b[0;34m(\u001b[0m\u001b[0mAggFuncTypeDict\u001b[0m\u001b[0;34m,\u001b[0m \u001b[0marg\u001b[0m\u001b[0;34m)\u001b[0m\u001b[0;34m\u001b[0m\u001b[0;34m\u001b[0m\u001b[0m\n\u001b[0;32m--> 582\u001b[0;31m         \u001b[0;32mreturn\u001b[0m \u001b[0magg_dict_like\u001b[0m\u001b[0;34m(\u001b[0m\u001b[0mobj\u001b[0m\u001b[0;34m,\u001b[0m \u001b[0marg\u001b[0m\u001b[0;34m,\u001b[0m \u001b[0m_axis\u001b[0m\u001b[0;34m)\u001b[0m\u001b[0;34m,\u001b[0m \u001b[0;32mTrue\u001b[0m\u001b[0;34m\u001b[0m\u001b[0;34m\u001b[0m\u001b[0m\n\u001b[0m\u001b[1;32m    583\u001b[0m     \u001b[0;32melif\u001b[0m \u001b[0mis_list_like\u001b[0m\u001b[0;34m(\u001b[0m\u001b[0marg\u001b[0m\u001b[0;34m)\u001b[0m\u001b[0;34m:\u001b[0m\u001b[0;34m\u001b[0m\u001b[0;34m\u001b[0m\u001b[0m\n\u001b[1;32m    584\u001b[0m         \u001b[0;31m# we require a list, but not an 'str'\u001b[0m\u001b[0;34m\u001b[0m\u001b[0;34m\u001b[0m\u001b[0;34m\u001b[0m\u001b[0m\n",
      "\u001b[0;32m/opt/conda/lib/python3.9/site-packages/pandas/core/aggregation.py\u001b[0m in \u001b[0;36magg_dict_like\u001b[0;34m(obj, arg, _axis)\u001b[0m\n\u001b[1;32m    780\u001b[0m         \u001b[0mkeys_to_use\u001b[0m \u001b[0;34m=\u001b[0m \u001b[0mkeys_to_use\u001b[0m \u001b[0;32mif\u001b[0m \u001b[0mkeys_to_use\u001b[0m \u001b[0;34m!=\u001b[0m \u001b[0;34m[\u001b[0m\u001b[0;34m]\u001b[0m \u001b[0;32melse\u001b[0m \u001b[0mkeys\u001b[0m\u001b[0;34m\u001b[0m\u001b[0;34m\u001b[0m\u001b[0m\n\u001b[1;32m    781\u001b[0m         \u001b[0maxis\u001b[0m \u001b[0;34m=\u001b[0m \u001b[0;36m0\u001b[0m \u001b[0;32mif\u001b[0m \u001b[0misinstance\u001b[0m\u001b[0;34m(\u001b[0m\u001b[0mobj\u001b[0m\u001b[0;34m,\u001b[0m \u001b[0mABCSeries\u001b[0m\u001b[0;34m)\u001b[0m \u001b[0;32melse\u001b[0m \u001b[0;36m1\u001b[0m\u001b[0;34m\u001b[0m\u001b[0;34m\u001b[0m\u001b[0m\n\u001b[0;32m--> 782\u001b[0;31m         \u001b[0mresult\u001b[0m \u001b[0;34m=\u001b[0m \u001b[0mconcat\u001b[0m\u001b[0;34m(\u001b[0m\u001b[0;34m{\u001b[0m\u001b[0mk\u001b[0m\u001b[0;34m:\u001b[0m \u001b[0mresults\u001b[0m\u001b[0;34m[\u001b[0m\u001b[0mk\u001b[0m\u001b[0;34m]\u001b[0m \u001b[0;32mfor\u001b[0m \u001b[0mk\u001b[0m \u001b[0;32min\u001b[0m \u001b[0mkeys_to_use\u001b[0m\u001b[0;34m}\u001b[0m\u001b[0;34m,\u001b[0m \u001b[0maxis\u001b[0m\u001b[0;34m=\u001b[0m\u001b[0maxis\u001b[0m\u001b[0;34m)\u001b[0m\u001b[0;34m\u001b[0m\u001b[0;34m\u001b[0m\u001b[0m\n\u001b[0m\u001b[1;32m    783\u001b[0m     \u001b[0;32melif\u001b[0m \u001b[0many\u001b[0m\u001b[0;34m(\u001b[0m\u001b[0mis_ndframe\u001b[0m\u001b[0;34m)\u001b[0m\u001b[0;34m:\u001b[0m\u001b[0;34m\u001b[0m\u001b[0;34m\u001b[0m\u001b[0m\n\u001b[1;32m    784\u001b[0m         \u001b[0;31m# There is a mix of NDFrames and scalars\u001b[0m\u001b[0;34m\u001b[0m\u001b[0;34m\u001b[0m\u001b[0;34m\u001b[0m\u001b[0m\n",
      "\u001b[0;32m/opt/conda/lib/python3.9/site-packages/pandas/core/reshape/concat.py\u001b[0m in \u001b[0;36mconcat\u001b[0;34m(objs, axis, join, ignore_index, keys, levels, names, verify_integrity, sort, copy)\u001b[0m\n\u001b[1;32m    283\u001b[0m     \u001b[0mValueError\u001b[0m\u001b[0;34m:\u001b[0m \u001b[0mIndexes\u001b[0m \u001b[0mhave\u001b[0m \u001b[0moverlapping\u001b[0m \u001b[0mvalues\u001b[0m\u001b[0;34m:\u001b[0m \u001b[0;34m[\u001b[0m\u001b[0;34m'a'\u001b[0m\u001b[0;34m]\u001b[0m\u001b[0;34m\u001b[0m\u001b[0;34m\u001b[0m\u001b[0m\n\u001b[1;32m    284\u001b[0m     \"\"\"\n\u001b[0;32m--> 285\u001b[0;31m     op = _Concatenator(\n\u001b[0m\u001b[1;32m    286\u001b[0m         \u001b[0mobjs\u001b[0m\u001b[0;34m,\u001b[0m\u001b[0;34m\u001b[0m\u001b[0;34m\u001b[0m\u001b[0m\n\u001b[1;32m    287\u001b[0m         \u001b[0maxis\u001b[0m\u001b[0;34m=\u001b[0m\u001b[0maxis\u001b[0m\u001b[0;34m,\u001b[0m\u001b[0;34m\u001b[0m\u001b[0;34m\u001b[0m\u001b[0m\n",
      "\u001b[0;32m/opt/conda/lib/python3.9/site-packages/pandas/core/reshape/concat.py\u001b[0m in \u001b[0;36m__init__\u001b[0;34m(self, objs, axis, join, keys, levels, names, ignore_index, verify_integrity, copy, sort)\u001b[0m\n\u001b[1;32m    340\u001b[0m \u001b[0;34m\u001b[0m\u001b[0m\n\u001b[1;32m    341\u001b[0m         \u001b[0;32mif\u001b[0m \u001b[0mlen\u001b[0m\u001b[0;34m(\u001b[0m\u001b[0mobjs\u001b[0m\u001b[0;34m)\u001b[0m \u001b[0;34m==\u001b[0m \u001b[0;36m0\u001b[0m\u001b[0;34m:\u001b[0m\u001b[0;34m\u001b[0m\u001b[0;34m\u001b[0m\u001b[0m\n\u001b[0;32m--> 342\u001b[0;31m             \u001b[0;32mraise\u001b[0m \u001b[0mValueError\u001b[0m\u001b[0;34m(\u001b[0m\u001b[0;34m\"No objects to concatenate\"\u001b[0m\u001b[0;34m)\u001b[0m\u001b[0;34m\u001b[0m\u001b[0;34m\u001b[0m\u001b[0m\n\u001b[0m\u001b[1;32m    343\u001b[0m \u001b[0;34m\u001b[0m\u001b[0m\n\u001b[1;32m    344\u001b[0m         \u001b[0;32mif\u001b[0m \u001b[0mkeys\u001b[0m \u001b[0;32mis\u001b[0m \u001b[0;32mNone\u001b[0m\u001b[0;34m:\u001b[0m\u001b[0;34m\u001b[0m\u001b[0;34m\u001b[0m\u001b[0m\n",
      "\u001b[0;31mValueError\u001b[0m: No objects to concatenate"
     ]
    }
   ],
   "source": [
    "# подготовим исходные данные\n",
    "\n",
    "# просчитаем кумулятивное кол-во посетителей по дням для каждой из групп\n",
    "visitorsADaily = visitors[visitors['group'] == 'A'][['date', 'visitors']]\n",
    "visitorsADaily.columns = ['date', 'visitorsPerDateA']\n",
    "\n",
    "visitorsACummulative = visitorsADaily.apply(\n",
    "    lambda x: visitorsADaily[visitorsADaily['date'] <= x['date']].agg(\n",
    "        {'date': 'max', 'visitorsPerDateA': 'sum'}\n",
    "    ),\n",
    "    axis=1,\n",
    ")\n",
    "visitorsACummulative.columns = ['date', 'visitorsCummulativeA']\n",
    "\n",
    "visitorsBDaily = visitors[visitors['group'] == 'B'][['date', 'visitors']]\n",
    "visitorsBDaily.columns = ['date', 'visitorsPerDateB']\n",
    "\n",
    "visitorsBCummulative = visitorsBDaily.apply(\n",
    "    lambda x: visitorsBDaily[visitorsBDaily['date'] <= x['date']].agg(\n",
    "        {'date': 'max', 'visitorsPerDateB': 'sum'}\n",
    "    ),\n",
    "    axis=1,\n",
    ")\n",
    "visitorsBCummulative.columns = ['date', 'visitorsCummulativeB']\n",
    "\n",
    "visitorsADaily = visitorsADaily.groupby('date').agg({})"
   ]
  },
  {
   "cell_type": "code",
   "execution_count": 31,
   "metadata": {},
   "outputs": [],
   "source": [
    "# посчитаем кумулятивное кол-во заказов для каждой из групп\n",
    "\n",
    "ordersADaily = (\n",
    "    orders[orders['group'] == 'A'][['date', 'transactionId', 'visitorId', 'revenue']]\n",
    "    .groupby('date', as_index=False)\n",
    "    .agg({'transactionId': pd.Series.nunique, 'revenue': 'sum'})\n",
    ")\n",
    "ordersADaily.columns = ['date', 'ordersPerDateA', 'revenuePerDateA']\n",
    "\n",
    "ordersACummulative = ordersADaily.apply(\n",
    "    lambda x: ordersADaily[ordersADaily['date'] <= x['date']].agg(\n",
    "        {'date': 'max', 'ordersPerDateA': 'sum', 'revenuePerDateA': 'sum'}\n",
    "    ),\n",
    "    axis=1,\n",
    ").sort_values(by=['date'])\n",
    "ordersACummulative.columns = [\n",
    "    'date',\n",
    "    'ordersCummulativeA',\n",
    "    'revenueCummulativeA',\n",
    "]\n",
    "\n",
    "ordersBDaily = (\n",
    "    orders[orders['group'] == 'B'][['date', 'transactionId', 'visitorId', 'revenue']]\n",
    "    .groupby('date', as_index=False)\n",
    "    .agg({'transactionId': pd.Series.nunique, 'revenue': 'sum'})\n",
    ")\n",
    "ordersBDaily.columns = ['date', 'ordersPerDateB', 'revenuePerDateB']\n",
    "\n",
    "ordersBCummulative = ordersBDaily.apply(\n",
    "    lambda x: ordersBDaily[ordersBDaily['date'] <= x['date']].agg(\n",
    "        {'date': 'max', 'ordersPerDateB': 'sum', 'revenuePerDateB': 'sum'}\n",
    "    ),\n",
    "    axis=1,\n",
    ").sort_values(by=['date'])\n",
    "ordersBCummulative.columns = [\n",
    "    'date',\n",
    "    'ordersCummulativeB',\n",
    "    'revenueCummulativeB',\n",
    "]"
   ]
  },
  {
   "cell_type": "code",
   "execution_count": 32,
   "metadata": {},
   "outputs": [
    {
     "data": {
      "text/html": [
       "<div>\n",
       "<style scoped>\n",
       "    .dataframe tbody tr th:only-of-type {\n",
       "        vertical-align: middle;\n",
       "    }\n",
       "\n",
       "    .dataframe tbody tr th {\n",
       "        vertical-align: top;\n",
       "    }\n",
       "\n",
       "    .dataframe thead th {\n",
       "        text-align: right;\n",
       "    }\n",
       "</style>\n",
       "<table border=\"1\" class=\"dataframe\">\n",
       "  <thead>\n",
       "    <tr style=\"text-align: right;\">\n",
       "      <th></th>\n",
       "      <th>date</th>\n",
       "      <th>ordersPerDateA</th>\n",
       "      <th>revenuePerDateA</th>\n",
       "      <th>ordersPerDateB</th>\n",
       "      <th>revenuePerDateB</th>\n",
       "      <th>ordersCummulativeA</th>\n",
       "      <th>revenueCummulativeA</th>\n",
       "      <th>ordersCummulativeB</th>\n",
       "      <th>revenueCummulativeB</th>\n",
       "      <th>visitorsPerDateA</th>\n",
       "      <th>visitorsPerDateB</th>\n",
       "      <th>visitorsCummulativeA</th>\n",
       "      <th>visitorsCummulativeB</th>\n",
       "    </tr>\n",
       "  </thead>\n",
       "  <tbody>\n",
       "    <tr>\n",
       "      <th>0</th>\n",
       "      <td>2019-08-01</td>\n",
       "      <td>23</td>\n",
       "      <td>142779</td>\n",
       "      <td>17</td>\n",
       "      <td>59758</td>\n",
       "      <td>23</td>\n",
       "      <td>142779</td>\n",
       "      <td>17</td>\n",
       "      <td>59758</td>\n",
       "      <td>719</td>\n",
       "      <td>713</td>\n",
       "      <td>719</td>\n",
       "      <td>713</td>\n",
       "    </tr>\n",
       "    <tr>\n",
       "      <th>1</th>\n",
       "      <td>2019-08-02</td>\n",
       "      <td>19</td>\n",
       "      <td>91602</td>\n",
       "      <td>23</td>\n",
       "      <td>162043</td>\n",
       "      <td>42</td>\n",
       "      <td>234381</td>\n",
       "      <td>40</td>\n",
       "      <td>221801</td>\n",
       "      <td>619</td>\n",
       "      <td>581</td>\n",
       "      <td>1338</td>\n",
       "      <td>1294</td>\n",
       "    </tr>\n",
       "    <tr>\n",
       "      <th>2</th>\n",
       "      <td>2019-08-03</td>\n",
       "      <td>24</td>\n",
       "      <td>112473</td>\n",
       "      <td>14</td>\n",
       "      <td>67049</td>\n",
       "      <td>66</td>\n",
       "      <td>346854</td>\n",
       "      <td>54</td>\n",
       "      <td>288850</td>\n",
       "      <td>507</td>\n",
       "      <td>509</td>\n",
       "      <td>1845</td>\n",
       "      <td>1803</td>\n",
       "    </tr>\n",
       "    <tr>\n",
       "      <th>3</th>\n",
       "      <td>2019-08-04</td>\n",
       "      <td>11</td>\n",
       "      <td>41176</td>\n",
       "      <td>14</td>\n",
       "      <td>96890</td>\n",
       "      <td>77</td>\n",
       "      <td>388030</td>\n",
       "      <td>68</td>\n",
       "      <td>385740</td>\n",
       "      <td>717</td>\n",
       "      <td>770</td>\n",
       "      <td>2562</td>\n",
       "      <td>2573</td>\n",
       "    </tr>\n",
       "    <tr>\n",
       "      <th>4</th>\n",
       "      <td>2019-08-05</td>\n",
       "      <td>22</td>\n",
       "      <td>86383</td>\n",
       "      <td>21</td>\n",
       "      <td>89908</td>\n",
       "      <td>99</td>\n",
       "      <td>474413</td>\n",
       "      <td>89</td>\n",
       "      <td>475648</td>\n",
       "      <td>756</td>\n",
       "      <td>707</td>\n",
       "      <td>3318</td>\n",
       "      <td>3280</td>\n",
       "    </tr>\n",
       "  </tbody>\n",
       "</table>\n",
       "</div>"
      ],
      "text/plain": [
       "        date  ordersPerDateA  revenuePerDateA  ordersPerDateB  \\\n",
       "0 2019-08-01              23           142779              17   \n",
       "1 2019-08-02              19            91602              23   \n",
       "2 2019-08-03              24           112473              14   \n",
       "3 2019-08-04              11            41176              14   \n",
       "4 2019-08-05              22            86383              21   \n",
       "\n",
       "   revenuePerDateB  ordersCummulativeA  revenueCummulativeA  \\\n",
       "0            59758                  23               142779   \n",
       "1           162043                  42               234381   \n",
       "2            67049                  66               346854   \n",
       "3            96890                  77               388030   \n",
       "4            89908                  99               474413   \n",
       "\n",
       "   ordersCummulativeB  revenueCummulativeB  visitorsPerDateA  \\\n",
       "0                  17                59758               719   \n",
       "1                  40               221801               619   \n",
       "2                  54               288850               507   \n",
       "3                  68               385740               717   \n",
       "4                  89               475648               756   \n",
       "\n",
       "   visitorsPerDateB  visitorsCummulativeA  visitorsCummulativeB  \n",
       "0               713                   719                   713  \n",
       "1               581                  1338                  1294  \n",
       "2               509                  1845                  1803  \n",
       "3               770                  2562                  2573  \n",
       "4               707                  3318                  3280  "
      ]
     },
     "metadata": {},
     "output_type": "display_data"
    }
   ],
   "source": [
    "# делаем общую таблицу по всем ранее полученнм данным с кумулятивными метриками\n",
    "\n",
    "data = (\n",
    "    ordersADaily.merge(\n",
    "        ordersBDaily, left_on='date', right_on='date', how='left'\n",
    "    )\n",
    "    .merge(ordersACummulative, left_on='date', right_on='date', how='left')\n",
    "    .merge(ordersBCummulative, left_on='date', right_on='date', how='left')\n",
    "    .merge(visitorsADaily, left_on='date', right_on='date', how='left')\n",
    "    .merge(visitorsBDaily, left_on='date', right_on='date', how='left')\n",
    "    .merge(visitorsACummulative, left_on='date', right_on='date', how='left')\n",
    "    .merge(visitorsBCummulative, left_on='date', right_on='date', how='left')\n",
    ")\n",
    "\n",
    "display(data.head(5)) "
   ]
  },
  {
   "cell_type": "code",
   "execution_count": 33,
   "metadata": {},
   "outputs": [
    {
     "data": {
      "text/html": [
       "<div>\n",
       "<style scoped>\n",
       "    .dataframe tbody tr th:only-of-type {\n",
       "        vertical-align: middle;\n",
       "    }\n",
       "\n",
       "    .dataframe tbody tr th {\n",
       "        vertical-align: top;\n",
       "    }\n",
       "\n",
       "    .dataframe thead th {\n",
       "        text-align: right;\n",
       "    }\n",
       "</style>\n",
       "<table border=\"1\" class=\"dataframe\">\n",
       "  <thead>\n",
       "    <tr style=\"text-align: right;\">\n",
       "      <th></th>\n",
       "      <th>userId</th>\n",
       "      <th>orders</th>\n",
       "    </tr>\n",
       "  </thead>\n",
       "  <tbody>\n",
       "    <tr>\n",
       "      <th>0</th>\n",
       "      <td>5114589</td>\n",
       "      <td>1</td>\n",
       "    </tr>\n",
       "    <tr>\n",
       "      <th>1</th>\n",
       "      <td>6958315</td>\n",
       "      <td>1</td>\n",
       "    </tr>\n",
       "    <tr>\n",
       "      <th>2</th>\n",
       "      <td>39475350</td>\n",
       "      <td>1</td>\n",
       "    </tr>\n",
       "    <tr>\n",
       "      <th>3</th>\n",
       "      <td>47206413</td>\n",
       "      <td>1</td>\n",
       "    </tr>\n",
       "    <tr>\n",
       "      <th>4</th>\n",
       "      <td>48147722</td>\n",
       "      <td>1</td>\n",
       "    </tr>\n",
       "    <tr>\n",
       "      <th>...</th>\n",
       "      <td>...</td>\n",
       "      <td>...</td>\n",
       "    </tr>\n",
       "    <tr>\n",
       "      <th>523</th>\n",
       "      <td>4251115836</td>\n",
       "      <td>1</td>\n",
       "    </tr>\n",
       "    <tr>\n",
       "      <th>524</th>\n",
       "      <td>4258103007</td>\n",
       "      <td>1</td>\n",
       "    </tr>\n",
       "    <tr>\n",
       "      <th>525</th>\n",
       "      <td>4279090005</td>\n",
       "      <td>1</td>\n",
       "    </tr>\n",
       "    <tr>\n",
       "      <th>526</th>\n",
       "      <td>4281247801</td>\n",
       "      <td>1</td>\n",
       "    </tr>\n",
       "    <tr>\n",
       "      <th>527</th>\n",
       "      <td>4283872382</td>\n",
       "      <td>1</td>\n",
       "    </tr>\n",
       "  </tbody>\n",
       "</table>\n",
       "<p>528 rows × 2 columns</p>\n",
       "</div>"
      ],
      "text/plain": [
       "         userId  orders\n",
       "0       5114589       1\n",
       "1       6958315       1\n",
       "2      39475350       1\n",
       "3      47206413       1\n",
       "4      48147722       1\n",
       "..          ...     ...\n",
       "523  4251115836       1\n",
       "524  4258103007       1\n",
       "525  4279090005       1\n",
       "526  4281247801       1\n",
       "527  4283872382       1\n",
       "\n",
       "[528 rows x 2 columns]"
      ]
     },
     "metadata": {},
     "output_type": "display_data"
    }
   ],
   "source": [
    "# считаем кол-во заказов на пользователя каждой группы\n",
    "ordersByUsersA = (\n",
    "    orders[orders['group'] == 'A']\n",
    "    .groupby('visitorId', as_index=False)\n",
    "    .agg({'transactionId': pd.Series.nunique})\n",
    ")\n",
    "ordersByUsersA.columns = ['userId', 'orders']\n",
    "\n",
    "ordersByUsersB = (\n",
    "    orders[orders['group'] == 'B']\n",
    "    .groupby('visitorId', as_index=False)\n",
    "    .agg({'transactionId': pd.Series.nunique})\n",
    ")\n",
    "ordersByUsersB.columns = ['userId', 'orders'] \n",
    "display(ordersByUsersB)"
   ]
  },
  {
   "cell_type": "code",
   "execution_count": 34,
   "metadata": {},
   "outputs": [],
   "source": [
    "# зададим переменные для дальнейшего расчета конверсии, т. е помимо кол-ва пользователей мы добавляем кол-во посетителей\n",
    "# c нулевыми заказами\n",
    "\n",
    "sampleA = pd.concat([ordersByUsersA['orders'],pd.Series(0, index=np.arange(data['visitorsPerDateA'].sum() - len(ordersByUsersA['orders'])), name='orders')],axis=0)\n",
    "\n",
    "sampleB = pd.concat([ordersByUsersB['orders'],pd.Series(0, index=np.arange(data['visitorsPerDateB'].sum() - len(ordersByUsersB['orders'])), name='orders')],axis=0) "
   ]
  },
  {
   "cell_type": "code",
   "execution_count": 36,
   "metadata": {},
   "outputs": [
    {
     "name": "stdout",
     "output_type": "stream",
     "text": [
      "p-значение: 0.011\n",
      "Отвергаем нулевую гипотезу: разница статистически значима\n",
      "Относительная разница конверсий группы B по отношению к А: 0.160\n"
     ]
    }
   ],
   "source": [
    "# применим U-критерий Манна-Уитни для выборок распределенных ненормально (т. е потенциально с выбросами). Пока данные сырые, от \n",
    "# крайних значений неочищены\n",
    "\n",
    "# выдвинем нулевую гипотезу о равенсте конверсий в обеих группах, альтернативная гипотеза - конверсии в группах отличаются\n",
    "\n",
    "alpha = 0.05  # критический уровень статистической значимости\n",
    "\n",
    "pvalue = stats.mannwhitneyu(sampleA, sampleB)[1]\n",
    "\n",
    "print('p-значение: {0:.3f}'.format(pvalue))\n",
    "\n",
    "if pvalue < alpha:\n",
    "    print('Отвергаем нулевую гипотезу: разница статистически значима')\n",
    "else:\n",
    "    print(\n",
    "        'Не получилось отвергнуть нулевую гипотезу, вывод о различии сделать нельзя'\n",
    "    ) \n",
    "\n",
    "\n",
    "\n",
    "print('Относительная разница конверсий группы B по отношению к А: {0:.3f}'.format(sampleB.mean() / sampleA.mean() - 1))"
   ]
  },
  {
   "cell_type": "markdown",
   "metadata": {},
   "source": [
    "#### Выводы\n",
    "     - расхождение почти в 16% в конверсии в пользу группы В подтверждается pvalue 0.006 меньше статистически значимых 5%.\n",
    "     - т. е мы отвергаем гипотезу о равенстве конверсий, вероятность того, что мы получим такие цифры по конверсии при               - равенстве групп менее 5%\n",
    "     "
   ]
  },
  {
   "cell_type": "markdown",
   "metadata": {},
   "source": [
    "### Посчитайте статистическую значимость различий в среднем чеке заказа между группами по «сырым» данным"
   ]
  },
  {
   "cell_type": "code",
   "execution_count": 37,
   "metadata": {},
   "outputs": [
    {
     "name": "stdout",
     "output_type": "stream",
     "text": [
      "p-значение: 0.829\n",
      "Не получилось отвергнуть нулевую гипотезу, вывод о различии сделать нельзя\n",
      "Относительная разница средних чеков группы B по отношению к А: 0.287\n"
     ]
    }
   ],
   "source": [
    "# выдвинем нулевую гипотезу о равенсте средних чеков в обеих группах\n",
    "\n",
    "alpha = 0.05  # критический уровень статистической значимости\n",
    "\n",
    "pvalue = stats.mannwhitneyu(orders[orders['group']=='A']['revenue'], orders[orders['group']=='B']['revenue'])[1]\n",
    "\n",
    "print('p-значение: {0:.3f}'.format(pvalue))\n",
    "\n",
    "if pvalue < alpha:\n",
    "    print('Отвергаем нулевую гипотезу: разница статистически значима')\n",
    "else:\n",
    "    print(\n",
    "        'Не получилось отвергнуть нулевую гипотезу, вывод о различии сделать нельзя'\n",
    "    ) \n",
    "\n",
    "\n",
    "\n",
    "print('Относительная разница средних чеков группы B по отношению к А: {0:.3f}'.format(orders[orders['group']=='B']['revenue'].mean()/orders[orders['group']=='A']['revenue'].mean()-1))\n",
    "\n"
   ]
  },
  {
   "cell_type": "markdown",
   "metadata": {},
   "source": [
    "#### Выводы\n",
    "    - Средний чек группы B значительно выше среднего чека группы А на 28.7%, но p-value 0.415 значительно выше 0.05, следовательно причин считать, что есть различия в чеках нет. Возможно, это ложнонегативный результат, обусловленный выбросами (внезапным скачком среднего чека в тесте, который еще не стабилизироваля. Очистим данные от крайних значений, чтобы можно было сделать более надежные выводы\n",
    "    "
   ]
  },
  {
   "cell_type": "markdown",
   "metadata": {},
   "source": [
    "### Посчитайте статистическую значимость различий в конверсии  и среднем чеке между группами по «очищенным» данным"
   ]
  },
  {
   "cell_type": "code",
   "execution_count": 38,
   "metadata": {},
   "outputs": [
    {
     "name": "stdout",
     "output_type": "stream",
     "text": [
      "1099    148427295\n",
      "33      249864742\n",
      "58      611059232\n",
      "949     887908475\n",
      "744     888512513\n",
      "dtype: int64\n",
      "(16,)\n",
      "445\n",
      "528\n"
     ]
    }
   ],
   "source": [
    "# посчитаем статистическую значимость сначала для конверсии\n",
    "\n",
    "# создаем таблицу с абнормальными данными по 2-м признакам( т. е теми, что содержат крайние значения по конверсии и среднему чеку,\n",
    "# границы мы определили  в главе 2.6.1)\n",
    "\n",
    "usersWithManyOrders = pd.concat(\n",
    "    [\n",
    "        ordersByUsersA[ordersByUsersA['orders'] > 2]['userId'],\n",
    "        ordersByUsersB[ordersByUsersB['orders'] > 2]['userId'],\n",
    "    ],\n",
    "    axis=0,\n",
    ")\n",
    "usersWithExpensiveOrders = orders[orders['revenue'] > 54000]['visitorId']\n",
    "abnormalUsers = (\n",
    "    pd.concat([usersWithManyOrders, usersWithExpensiveOrders], axis=0)\n",
    "    .drop_duplicates()\n",
    "    .sort_values()\n",
    ")\n",
    "print(abnormalUsers.head(5))\n",
    "print(abnormalUsers.shape) \n",
    "\n",
    "print(len(ordersByUsersA))# границы были определены в пункте 2.6.1 . Берем 99 перцентилей для среднего чека и аналогично для конверсии\n",
    "\n",
    "print(len(ordersByUsersB))"
   ]
  },
  {
   "cell_type": "code",
   "execution_count": 39,
   "metadata": {},
   "outputs": [],
   "source": [
    "# очищаем ранее полученные данные для анализа коневрсии от абнормальных юзеров для расчета конверсии\n",
    "\n",
    "\n",
    "\n",
    "sampleAFiltered = pd.concat(\n",
    "    [\n",
    "        ordersByUsersA[\n",
    "            np.logical_not(ordersByUsersA['userId'].isin(abnormalUsers))\n",
    "        ]['orders'],\n",
    "        pd.Series(\n",
    "            0,\n",
    "            index=np.arange(\n",
    "                data['visitorsPerDateA'].sum() - len(ordersByUsersA['orders'])\n",
    "            ),\n",
    "            name='orders',\n",
    "        ),\n",
    "    ],\n",
    "    axis=0,\n",
    ")\n",
    "\n",
    "sampleBFiltered = pd.concat(\n",
    "    [\n",
    "        ordersByUsersB[\n",
    "            np.logical_not(ordersByUsersB['userId'].isin(abnormalUsers))\n",
    "        ]['orders'],\n",
    "        pd.Series(\n",
    "            0,\n",
    "            index=np.arange(\n",
    "                data['visitorsPerDateB'].sum() - len(ordersByUsersB['orders'])\n",
    "            ),\n",
    "            name='orders',\n",
    "        ),\n",
    "    ],\n",
    "    axis=0,\n",
    ") "
   ]
  },
  {
   "cell_type": "code",
   "execution_count": 40,
   "metadata": {},
   "outputs": [
    {
     "name": "stdout",
     "output_type": "stream",
     "text": [
      "p-значение: 0.007\n",
      "Отвергаем нулевую гипотезу: разница статистически значима\n",
      "Относительная разница конверсий группы B по отношению к А: 0.189\n"
     ]
    }
   ],
   "source": [
    "# применим статистический критерий Манна-Уитни к полученным выборкам для оценки равенства конверсий по очищенным данным\n",
    "# выдвинем нулевую гипотезу о равенсте конверсий в обеих группах\n",
    "\n",
    "alpha = 0.05  # критический уровень статистической значимости\n",
    "\n",
    "pvalue = stats.mannwhitneyu(sampleAFiltered, sampleBFiltered)[1]\n",
    "\n",
    "print('p-значение: {0:.3f}'.format(pvalue))\n",
    "\n",
    "if pvalue < alpha:\n",
    "    print('Отвергаем нулевую гипотезу: разница статистически значима')\n",
    "else:\n",
    "    print(\n",
    "        'Не получилось отвергнуть нулевую гипотезу, вывод о различии сделать нельзя'\n",
    "    ) \n",
    "\n",
    "\n",
    "\n",
    "print('Относительная разница конверсий группы B по отношению к А: {0:.3f}'.format(sampleBFiltered.mean()/sampleAFiltered.mean()-1)) \n",
    "\n"
   ]
  },
  {
   "cell_type": "code",
   "execution_count": 41,
   "metadata": {},
   "outputs": [
    {
     "name": "stdout",
     "output_type": "stream",
     "text": [
      "p-значение: 0.788\n",
      "Не получилось отвергнуть нулевую гипотезу, вывод о различии сделать нельзя\n",
      "Относительная разница средних чеков группы B по отношению к А: -0.032\n"
     ]
    }
   ],
   "source": [
    "# применим статистический критерий Манна-Уитни к полученным выборкам для оценки равенства средних чеков по очищенным данным\n",
    "\n",
    "# выдвинем нулевую гипотезу о равенсте средних чеков в обеих группах\n",
    "\n",
    "alpha = 0.05  # критический уровень статистической значимости\n",
    "\n",
    "pvalue =(\n",
    "        stats.mannwhitneyu(\n",
    "            orders[\n",
    "                np.logical_and(\n",
    "                    orders['group'] == 'A',\n",
    "                    np.logical_not(orders['visitorId'].isin(abnormalUsers)),\n",
    "                )\n",
    "            ]['revenue'],\n",
    "            orders[\n",
    "                np.logical_and(\n",
    "                    orders['group'] == 'B',\n",
    "                    np.logical_not(orders['visitorId'].isin(abnormalUsers)),\n",
    "                )\n",
    "            ]['revenue'],\n",
    "        )[1]\n",
    ")\n",
    "    \n",
    "\n",
    "print('p-значение: {0:.3f}'.format(pvalue))\n",
    "\n",
    "if pvalue < alpha:\n",
    "    print('Отвергаем нулевую гипотезу: разница статистически значима')\n",
    "else:\n",
    "    print(\n",
    "        'Не получилось отвергнуть нулевую гипотезу, вывод о различии сделать нельзя'\n",
    "    ) \n",
    "\n",
    "    \n",
    "print('Относительная разница средних чеков группы B по отношению к А: {0:.3f}'.format(\n",
    "        orders[\n",
    "            np.logical_and(\n",
    "                orders['group'] == 'B',\n",
    "                np.logical_not(orders['visitorId'].isin(abnormalUsers)),\n",
    "            )\n",
    "        ]['revenue'].mean()\n",
    "        / orders[\n",
    "            np.logical_and(\n",
    "                orders['group'] == 'A',\n",
    "                np.logical_not(orders['visitorId'].isin(abnormalUsers)),\n",
    "            )\n",
    "        ]['revenue'].mean()\n",
    "        - 1\n",
    ")\n",
    "     )\n",
    "    "
   ]
  },
  {
   "cell_type": "markdown",
   "metadata": {},
   "source": [
    "#### Выводы\n",
    "     - относительная разница в конверсии группы B перманентно лучше на протяжении всего теста. Разница в 18.9% достаточно               большая. по очищенным данным pvalue = 0.004 значительно ниже уровня статистической значимости 0.05, что дает основание отвергнуть гипотезу о равенстве\n",
    "     - после того, как мы удалили даже незначительные выбросы по верхней границе в 54 000 (т. е выбрав 99 перцентилей) и аналогично по границе 4 заказа уже минимизировали ту разницу, что мы наблюдали ранее в средних чеках (было 28.7% - стало -3%, вероятность гипотезы о равенстве стала чуть меньше с 41.5% до 39.4%\n",
    "     - судя по графику и критериям значимости до и после очищения данных, а также минимальной относительной разницы после очистки, я бы сказала, что однозначно делать выводы о среднем чеке нельзя.\n",
    "     "
   ]
  },
  {
   "cell_type": "markdown",
   "metadata": {},
   "source": [
    "## Вывод\n",
    "   - Судя по графику кумулятивной выручки, выручки в обеих группа увеличиваются в течение всего периода\n",
    "   - Выручка в группе B изначально растет равномерно и превосходит выручку А незначительно, но примерно на середине периода        - наблюдается резкий скачок (резкий рост заказов или(и) среднего чека) после чего выручка группы B вырывается в лидеры с        - заметным отрывом\n",
    "   - Средние чеки на первый взгляд стабилизировались и следуют по схожим траекторим, ближе в концу теста,но\n",
    "   - Где-то в середине периода в группу B наблюдается значимое увеличение среднего чека, чье влияние может значительное влияние    на среднее, еще не показывающее реальный результат после скачка \n",
    "   - В начале теста конверсия еще не установилась, далее с существенным отрывом вперед вырвалась группа B и конверсия              установилась на фиксированном уровне.\n",
    "   - Очевидно превосходство группы В, со стабильным установившимя отрывом от группы А. Есть  тренд на снижение ближе к концу      теста, но, судя по графику, он объясняется небольшой цикличностью, присущей обеим группам.\n",
    "   \n",
    "   \n",
    "   - По сырым данным расхождение почти в 16% в конверсии в пользу группы В подтверждается pvalue 0.006 меньше статистически        значимых 5%.\n",
    "   - т. е мы отвергаем гипотезу о равенстве конверсий, вероятность того, что мы получим такие цифры по конверсии при равенсте      групп менее 5%\n",
    "   - Средний чек группы B значительно выше среднего чека группы А на 28.7%, но p-value 0.415 значительно выше 0.05, следовательно    причин считать, что есть различия в чеках нет. Возможно, это ложнонегативный результат, обусловленный выбросами (внезапным      скачком среднего чека в тесте, который еще не стабилизироваля. Очистим данные от крайних значений, чтобы можно было сделать    более надежные выводы\n",
    "   \n",
    "   \n",
    "  - Далее мы очистили данные,удалив даже незначительные выбросы по верхней границе в 54 000 для среднего чека      (т. е         выбрав 99 перцентилей) и  по границе в 2 заказа для заказов на пользователя\n",
    "  - По очищенным данным мы наблюдаем разницу по среднему чеку только в -3% (было 28.7%), вероятность гипотезы о равенстве         стала с 41.5% до 39.4%\n",
    "  - судя по графику и критериям значимости до и после очищения данных, а также минимальной относительной разницы после           очистки, я бы сказала, что однозначно делать выводы о среднем чеке нельзя.\n",
    "  - относительная разница в конверсии группы B перманентно лучше на протяжении всего теста. Разница в 19%(было 16%) достаточно   большая. по очищенным данным pvalue = 0.004(было 0.006) значительно ниже уровня статистической значимости 0.05, что дает       основание отвергнуть гипотезу о равенстве.\n",
    "  \n",
    "  \n",
    "  - Рекомендации: остановить тест, так как результаты группы B лучше\n",
    "  -а) результаты теста стабилизировались,судя по стабилизации конверсии\n",
    "  -б) результаты группы B гораздо лучше по одной из метрик-конверсии\n",
    "  -в) результаты конверсии группы B лучше на 19% с высокой степенью вероятности \n",
    "  -г) средний чек по очищенным данным незначительно хуже 3%, но такое небольшое падение в среднем чеке копменсируется значительным превосходством в конверсии\n",
    "   "
   ]
  }
 ],
 "metadata": {
  "ExecuteTimeLog": [
   {
    "duration": 3,
    "start_time": "2022-01-29T10:53:51.120Z"
   },
   {
    "duration": 365,
    "start_time": "2022-01-29T10:56:00.507Z"
   },
   {
    "duration": 3487,
    "start_time": "2022-01-29T10:56:50.311Z"
   },
   {
    "duration": 16,
    "start_time": "2022-01-29T10:57:04.366Z"
   },
   {
    "duration": 26,
    "start_time": "2022-01-29T10:57:28.300Z"
   },
   {
    "duration": 8208,
    "start_time": "2022-01-29T11:09:56.128Z"
   },
   {
    "duration": 332,
    "start_time": "2022-01-29T11:10:39.305Z"
   },
   {
    "duration": 20,
    "start_time": "2022-01-29T11:11:27.583Z"
   },
   {
    "duration": 20,
    "start_time": "2022-01-29T11:12:03.818Z"
   },
   {
    "duration": 27,
    "start_time": "2022-01-29T11:12:09.118Z"
   },
   {
    "duration": 20,
    "start_time": "2022-01-29T11:14:58.850Z"
   },
   {
    "duration": 18,
    "start_time": "2022-01-29T11:15:29.250Z"
   },
   {
    "duration": 16,
    "start_time": "2022-01-29T11:16:09.211Z"
   },
   {
    "duration": 47,
    "start_time": "2022-01-29T12:07:20.394Z"
   },
   {
    "duration": 55,
    "start_time": "2022-01-29T12:09:24.341Z"
   },
   {
    "duration": 986,
    "start_time": "2022-01-29T12:15:58.446Z"
   },
   {
    "duration": 59,
    "start_time": "2022-01-29T12:17:14.135Z"
   },
   {
    "duration": 60,
    "start_time": "2022-01-29T12:17:34.205Z"
   },
   {
    "duration": 428,
    "start_time": "2022-01-29T12:20:29.092Z"
   },
   {
    "duration": 378,
    "start_time": "2022-01-29T12:20:50.938Z"
   },
   {
    "duration": 386,
    "start_time": "2022-01-29T12:21:18.864Z"
   },
   {
    "duration": 378,
    "start_time": "2022-01-29T12:22:47.512Z"
   },
   {
    "duration": 402,
    "start_time": "2022-01-29T12:22:57.180Z"
   },
   {
    "duration": 382,
    "start_time": "2022-01-29T12:23:54.210Z"
   },
   {
    "duration": 1535,
    "start_time": "2022-01-29T12:24:52.864Z"
   },
   {
    "duration": 376,
    "start_time": "2022-01-29T12:25:56.495Z"
   },
   {
    "duration": 420,
    "start_time": "2022-01-29T12:28:55.605Z"
   },
   {
    "duration": 925,
    "start_time": "2022-01-29T12:29:25.544Z"
   },
   {
    "duration": 20,
    "start_time": "2022-01-29T12:29:26.471Z"
   },
   {
    "duration": 438,
    "start_time": "2022-01-29T12:29:26.493Z"
   },
   {
    "duration": 20,
    "start_time": "2022-01-29T12:30:11.230Z"
   },
   {
    "duration": 19,
    "start_time": "2022-01-29T12:30:11.252Z"
   },
   {
    "duration": 392,
    "start_time": "2022-01-29T12:30:14.773Z"
   },
   {
    "duration": 61,
    "start_time": "2022-01-29T12:32:34.841Z"
   },
   {
    "duration": 1571,
    "start_time": "2022-01-29T12:33:43.963Z"
   },
   {
    "duration": 408,
    "start_time": "2022-01-29T12:34:15.618Z"
   },
   {
    "duration": 1580,
    "start_time": "2022-01-29T12:34:43.109Z"
   },
   {
    "duration": 59,
    "start_time": "2022-01-29T12:35:57.503Z"
   },
   {
    "duration": 20,
    "start_time": "2022-01-29T12:40:22.721Z"
   },
   {
    "duration": 22,
    "start_time": "2022-01-29T12:40:22.742Z"
   },
   {
    "duration": 2063,
    "start_time": "2022-01-29T12:40:22.766Z"
   },
   {
    "duration": 477,
    "start_time": "2022-01-29T12:42:31.916Z"
   },
   {
    "duration": 389,
    "start_time": "2022-01-29T12:44:56.273Z"
   },
   {
    "duration": 372,
    "start_time": "2022-01-29T12:45:20.537Z"
   },
   {
    "duration": 464,
    "start_time": "2022-01-29T13:16:48.198Z"
   },
   {
    "duration": 65,
    "start_time": "2022-01-29T13:17:02.694Z"
   },
   {
    "duration": 66,
    "start_time": "2022-01-29T13:19:48.927Z"
   },
   {
    "duration": 64,
    "start_time": "2022-01-29T13:19:57.251Z"
   },
   {
    "duration": 355,
    "start_time": "2022-01-29T13:20:37.965Z"
   },
   {
    "duration": 116,
    "start_time": "2022-01-29T13:26:03.983Z"
   },
   {
    "duration": 68,
    "start_time": "2022-01-29T13:26:14.701Z"
   },
   {
    "duration": 10254,
    "start_time": "2022-01-29T13:34:13.760Z"
   },
   {
    "duration": 101,
    "start_time": "2022-01-29T13:34:49.872Z"
   },
   {
    "duration": 29327,
    "start_time": "2022-01-29T13:35:12.351Z"
   },
   {
    "duration": 74,
    "start_time": "2022-01-29T13:36:45.215Z"
   },
   {
    "duration": 75,
    "start_time": "2022-01-29T13:37:23.789Z"
   },
   {
    "duration": 77,
    "start_time": "2022-01-29T13:37:42.674Z"
   },
   {
    "duration": 302,
    "start_time": "2022-01-29T13:39:33.936Z"
   },
   {
    "duration": 182,
    "start_time": "2022-01-29T13:39:58.505Z"
   },
   {
    "duration": 488,
    "start_time": "2022-01-29T13:49:47.227Z"
   },
   {
    "duration": 187,
    "start_time": "2022-01-29T13:53:24.326Z"
   },
   {
    "duration": 353,
    "start_time": "2022-01-29T13:53:35.569Z"
   },
   {
    "duration": 427,
    "start_time": "2022-01-29T13:53:45.021Z"
   },
   {
    "duration": 414,
    "start_time": "2022-01-29T13:53:54.669Z"
   },
   {
    "duration": 249,
    "start_time": "2022-01-29T13:54:03.585Z"
   },
   {
    "duration": 250,
    "start_time": "2022-01-29T13:54:13.349Z"
   },
   {
    "duration": 186,
    "start_time": "2022-01-29T13:54:21.354Z"
   },
   {
    "duration": 185,
    "start_time": "2022-01-29T13:54:25.590Z"
   },
   {
    "duration": 188,
    "start_time": "2022-01-29T13:54:34.362Z"
   },
   {
    "duration": 195,
    "start_time": "2022-01-29T13:54:39.446Z"
   },
   {
    "duration": 186,
    "start_time": "2022-01-29T14:04:44.609Z"
   },
   {
    "duration": 274,
    "start_time": "2022-01-29T14:12:06.058Z"
   },
   {
    "duration": 196,
    "start_time": "2022-01-29T14:15:40.152Z"
   },
   {
    "duration": 540,
    "start_time": "2022-01-29T14:16:09.913Z"
   },
   {
    "duration": 194,
    "start_time": "2022-01-29T14:17:14.426Z"
   },
   {
    "duration": 21,
    "start_time": "2022-01-29T16:53:52.671Z"
   },
   {
    "duration": 20,
    "start_time": "2022-01-29T16:53:52.694Z"
   },
   {
    "duration": 106,
    "start_time": "2022-01-29T16:53:52.716Z"
   },
   {
    "duration": 365,
    "start_time": "2022-01-29T16:53:52.824Z"
   },
   {
    "duration": 253,
    "start_time": "2022-01-29T16:53:53.191Z"
   },
   {
    "duration": 311,
    "start_time": "2022-01-29T16:53:53.446Z"
   },
   {
    "duration": 306,
    "start_time": "2022-01-29T16:53:53.759Z"
   },
   {
    "duration": 306,
    "start_time": "2022-01-29T16:53:54.067Z"
   },
   {
    "duration": 354,
    "start_time": "2022-01-29T16:55:40.466Z"
   },
   {
    "duration": 196,
    "start_time": "2022-01-29T16:58:22.148Z"
   },
   {
    "duration": 134,
    "start_time": "2022-01-29T17:03:33.261Z"
   },
   {
    "duration": 24,
    "start_time": "2022-01-29T17:53:59.526Z"
   },
   {
    "duration": 27,
    "start_time": "2022-01-29T17:53:59.552Z"
   },
   {
    "duration": 231,
    "start_time": "2022-01-29T17:53:59.581Z"
   },
   {
    "duration": 465,
    "start_time": "2022-01-29T17:53:59.815Z"
   },
   {
    "duration": 308,
    "start_time": "2022-01-29T17:54:00.282Z"
   },
   {
    "duration": 302,
    "start_time": "2022-01-29T17:54:00.592Z"
   },
   {
    "duration": 412,
    "start_time": "2022-01-29T17:54:00.896Z"
   },
   {
    "duration": 322,
    "start_time": "2022-01-29T17:54:01.310Z"
   },
   {
    "duration": 170,
    "start_time": "2022-01-29T17:54:01.635Z"
   },
   {
    "duration": -1053,
    "start_time": "2022-01-29T17:54:02.860Z"
   },
   {
    "duration": 413,
    "start_time": "2022-01-29T17:54:17.392Z"
   },
   {
    "duration": 4,
    "start_time": "2022-01-29T17:57:20.439Z"
   },
   {
    "duration": 21,
    "start_time": "2022-01-29T18:18:08.401Z"
   },
   {
    "duration": 37,
    "start_time": "2022-01-29T18:18:08.423Z"
   },
   {
    "duration": 104,
    "start_time": "2022-01-29T18:18:08.463Z"
   },
   {
    "duration": 349,
    "start_time": "2022-01-29T18:18:08.570Z"
   },
   {
    "duration": 226,
    "start_time": "2022-01-29T18:18:08.921Z"
   },
   {
    "duration": 218,
    "start_time": "2022-01-29T18:18:09.148Z"
   },
   {
    "duration": 297,
    "start_time": "2022-01-29T18:18:09.368Z"
   },
   {
    "duration": 222,
    "start_time": "2022-01-29T18:18:09.667Z"
   },
   {
    "duration": 116,
    "start_time": "2022-01-29T18:18:09.892Z"
   },
   {
    "duration": -1163,
    "start_time": "2022-01-29T18:18:11.173Z"
   },
   {
    "duration": -1164,
    "start_time": "2022-01-29T18:18:11.175Z"
   },
   {
    "duration": -1163,
    "start_time": "2022-01-29T18:18:11.175Z"
   },
   {
    "duration": -1163,
    "start_time": "2022-01-29T18:18:11.176Z"
   },
   {
    "duration": -1163,
    "start_time": "2022-01-29T18:18:11.177Z"
   },
   {
    "duration": 901,
    "start_time": "2022-01-29T18:18:22.696Z"
   },
   {
    "duration": 18,
    "start_time": "2022-01-29T18:18:23.598Z"
   },
   {
    "duration": 88,
    "start_time": "2022-01-29T18:18:23.618Z"
   },
   {
    "duration": 419,
    "start_time": "2022-01-29T18:18:23.708Z"
   },
   {
    "duration": 200,
    "start_time": "2022-01-29T18:18:24.129Z"
   },
   {
    "duration": 235,
    "start_time": "2022-01-29T18:18:24.330Z"
   },
   {
    "duration": 341,
    "start_time": "2022-01-29T18:18:24.567Z"
   },
   {
    "duration": 210,
    "start_time": "2022-01-29T18:18:24.910Z"
   },
   {
    "duration": 552,
    "start_time": "2022-01-29T18:18:25.122Z"
   },
   {
    "duration": -1148,
    "start_time": "2022-01-29T18:18:26.824Z"
   },
   {
    "duration": -1151,
    "start_time": "2022-01-29T18:18:26.828Z"
   },
   {
    "duration": -1152,
    "start_time": "2022-01-29T18:18:26.830Z"
   },
   {
    "duration": -1154,
    "start_time": "2022-01-29T18:18:26.832Z"
   },
   {
    "duration": -1154,
    "start_time": "2022-01-29T18:18:26.833Z"
   },
   {
    "duration": 323,
    "start_time": "2022-01-29T18:19:19.341Z"
   },
   {
    "duration": 4,
    "start_time": "2022-01-29T18:19:35.662Z"
   },
   {
    "duration": 20,
    "start_time": "2022-01-29T18:30:41.605Z"
   },
   {
    "duration": 19,
    "start_time": "2022-01-29T18:30:41.627Z"
   },
   {
    "duration": 80,
    "start_time": "2022-01-29T18:30:41.648Z"
   },
   {
    "duration": 317,
    "start_time": "2022-01-29T18:30:41.730Z"
   },
   {
    "duration": 234,
    "start_time": "2022-01-29T18:30:42.049Z"
   },
   {
    "duration": 218,
    "start_time": "2022-01-29T18:30:42.285Z"
   },
   {
    "duration": 342,
    "start_time": "2022-01-29T18:30:42.504Z"
   },
   {
    "duration": 284,
    "start_time": "2022-01-29T18:30:42.848Z"
   },
   {
    "duration": 329,
    "start_time": "2022-01-29T18:30:43.135Z"
   },
   {
    "duration": 377,
    "start_time": "2022-01-29T18:30:43.466Z"
   },
   {
    "duration": 4,
    "start_time": "2022-01-29T18:30:43.845Z"
   },
   {
    "duration": 308,
    "start_time": "2022-01-29T18:30:43.850Z"
   },
   {
    "duration": 3,
    "start_time": "2022-01-29T18:30:44.160Z"
   },
   {
    "duration": 63,
    "start_time": "2022-01-29T18:30:44.165Z"
   },
   {
    "duration": 113,
    "start_time": "2022-01-29T18:31:16.637Z"
   },
   {
    "duration": 100,
    "start_time": "2022-01-29T18:31:32.640Z"
   },
   {
    "duration": 557,
    "start_time": "2022-01-29T18:34:29.921Z"
   },
   {
    "duration": 127,
    "start_time": "2022-01-29T18:35:17.600Z"
   },
   {
    "duration": 25,
    "start_time": "2022-01-29T18:36:31.865Z"
   },
   {
    "duration": 27,
    "start_time": "2022-01-29T18:36:47.202Z"
   },
   {
    "duration": 101,
    "start_time": "2022-01-29T18:43:40.638Z"
   },
   {
    "duration": 6,
    "start_time": "2022-01-29T18:46:11.512Z"
   },
   {
    "duration": 8,
    "start_time": "2022-01-29T18:48:01.378Z"
   },
   {
    "duration": 957,
    "start_time": "2022-01-30T15:32:53.722Z"
   },
   {
    "duration": 24,
    "start_time": "2022-01-30T15:32:54.681Z"
   },
   {
    "duration": 91,
    "start_time": "2022-01-30T15:32:54.707Z"
   },
   {
    "duration": 498,
    "start_time": "2022-01-30T15:32:54.801Z"
   },
   {
    "duration": 266,
    "start_time": "2022-01-30T15:32:55.301Z"
   },
   {
    "duration": 258,
    "start_time": "2022-01-30T15:32:55.568Z"
   },
   {
    "duration": 356,
    "start_time": "2022-01-30T15:32:55.828Z"
   },
   {
    "duration": 272,
    "start_time": "2022-01-30T15:32:56.186Z"
   },
   {
    "duration": 403,
    "start_time": "2022-01-30T15:32:56.461Z"
   },
   {
    "duration": 442,
    "start_time": "2022-01-30T15:32:56.866Z"
   },
   {
    "duration": 5,
    "start_time": "2022-01-30T15:32:57.310Z"
   },
   {
    "duration": 376,
    "start_time": "2022-01-30T15:32:57.317Z"
   },
   {
    "duration": 6,
    "start_time": "2022-01-30T15:32:57.694Z"
   },
   {
    "duration": 133,
    "start_time": "2022-01-30T15:32:57.702Z"
   },
   {
    "duration": 147,
    "start_time": "2022-01-30T15:32:57.836Z"
   },
   {
    "duration": 39,
    "start_time": "2022-01-30T15:32:57.985Z"
   },
   {
    "duration": 138,
    "start_time": "2022-01-30T15:32:58.026Z"
   },
   {
    "duration": 6,
    "start_time": "2022-01-30T15:32:58.166Z"
   },
   {
    "duration": 9,
    "start_time": "2022-01-30T15:32:58.174Z"
   },
   {
    "duration": 11,
    "start_time": "2022-01-30T15:35:34.968Z"
   },
   {
    "duration": 153,
    "start_time": "2022-01-30T16:24:26.327Z"
   },
   {
    "duration": 35,
    "start_time": "2022-01-30T16:24:28.916Z"
   },
   {
    "duration": 132,
    "start_time": "2022-01-30T16:24:31.268Z"
   },
   {
    "duration": 6,
    "start_time": "2022-01-30T16:24:31.750Z"
   },
   {
    "duration": 7,
    "start_time": "2022-01-30T16:24:32.253Z"
   },
   {
    "duration": -2558,
    "start_time": "2022-01-30T16:26:09.157Z"
   },
   {
    "duration": 8236,
    "start_time": "2022-01-30T16:26:09.682Z"
   },
   {
    "duration": 26,
    "start_time": "2022-01-30T16:26:40.968Z"
   },
   {
    "duration": 25,
    "start_time": "2022-01-30T16:26:40.996Z"
   },
   {
    "duration": 98,
    "start_time": "2022-01-30T16:26:41.024Z"
   },
   {
    "duration": 374,
    "start_time": "2022-01-30T16:26:41.124Z"
   },
   {
    "duration": 327,
    "start_time": "2022-01-30T16:26:41.500Z"
   },
   {
    "duration": 271,
    "start_time": "2022-01-30T16:26:41.829Z"
   },
   {
    "duration": 379,
    "start_time": "2022-01-30T16:26:42.102Z"
   },
   {
    "duration": 288,
    "start_time": "2022-01-30T16:26:42.484Z"
   },
   {
    "duration": 394,
    "start_time": "2022-01-30T16:26:42.776Z"
   },
   {
    "duration": 465,
    "start_time": "2022-01-30T16:26:43.173Z"
   },
   {
    "duration": 4,
    "start_time": "2022-01-30T16:26:43.640Z"
   },
   {
    "duration": 371,
    "start_time": "2022-01-30T16:26:43.645Z"
   },
   {
    "duration": 5,
    "start_time": "2022-01-30T16:26:44.018Z"
   },
   {
    "duration": 140,
    "start_time": "2022-01-30T16:26:44.025Z"
   },
   {
    "duration": 159,
    "start_time": "2022-01-30T16:26:44.167Z"
   },
   {
    "duration": 34,
    "start_time": "2022-01-30T16:26:44.328Z"
   },
   {
    "duration": 139,
    "start_time": "2022-01-30T16:26:44.364Z"
   },
   {
    "duration": 6,
    "start_time": "2022-01-30T16:26:44.505Z"
   },
   {
    "duration": 9,
    "start_time": "2022-01-30T16:26:44.513Z"
   },
   {
    "duration": 11,
    "start_time": "2022-01-30T16:26:44.524Z"
   },
   {
    "duration": 6936,
    "start_time": "2022-01-30T16:27:17.113Z"
   },
   {
    "duration": 11,
    "start_time": "2022-01-30T16:28:37.403Z"
   },
   {
    "duration": 290,
    "start_time": "2022-01-30T16:31:04.453Z"
   },
   {
    "duration": 16,
    "start_time": "2022-01-30T16:31:21.710Z"
   },
   {
    "duration": 11,
    "start_time": "2022-01-30T16:31:37.596Z"
   },
   {
    "duration": 11,
    "start_time": "2022-01-30T16:32:57.630Z"
   },
   {
    "duration": 11,
    "start_time": "2022-01-30T16:33:33.574Z"
   },
   {
    "duration": 13,
    "start_time": "2022-01-30T16:33:40.717Z"
   },
   {
    "duration": 12,
    "start_time": "2022-01-30T16:34:15.059Z"
   },
   {
    "duration": 16,
    "start_time": "2022-01-30T16:42:06.228Z"
   },
   {
    "duration": 1385,
    "start_time": "2022-01-31T14:36:29.465Z"
   },
   {
    "duration": 38,
    "start_time": "2022-01-31T14:36:30.856Z"
   },
   {
    "duration": 132,
    "start_time": "2022-01-31T14:36:30.898Z"
   },
   {
    "duration": 829,
    "start_time": "2022-01-31T14:36:31.033Z"
   },
   {
    "duration": 390,
    "start_time": "2022-01-31T14:36:31.865Z"
   },
   {
    "duration": 415,
    "start_time": "2022-01-31T14:36:32.258Z"
   },
   {
    "duration": 523,
    "start_time": "2022-01-31T14:36:32.676Z"
   },
   {
    "duration": 456,
    "start_time": "2022-01-31T14:36:33.203Z"
   },
   {
    "duration": 640,
    "start_time": "2022-01-31T14:36:33.662Z"
   },
   {
    "duration": 757,
    "start_time": "2022-01-31T14:36:34.304Z"
   },
   {
    "duration": 9,
    "start_time": "2022-01-31T14:36:35.064Z"
   },
   {
    "duration": 549,
    "start_time": "2022-01-31T14:36:35.076Z"
   },
   {
    "duration": 6,
    "start_time": "2022-01-31T14:36:35.632Z"
   },
   {
    "duration": 256,
    "start_time": "2022-01-31T14:36:35.641Z"
   },
   {
    "duration": 283,
    "start_time": "2022-01-31T14:36:35.900Z"
   },
   {
    "duration": 77,
    "start_time": "2022-01-31T14:36:36.186Z"
   },
   {
    "duration": 289,
    "start_time": "2022-01-31T14:36:36.266Z"
   },
   {
    "duration": 9,
    "start_time": "2022-01-31T14:36:36.557Z"
   },
   {
    "duration": 21,
    "start_time": "2022-01-31T14:36:36.570Z"
   },
   {
    "duration": 42,
    "start_time": "2022-01-31T14:36:36.594Z"
   },
   {
    "duration": 17,
    "start_time": "2022-01-31T14:36:36.639Z"
   },
   {
    "duration": 13,
    "start_time": "2022-01-31T14:36:36.659Z"
   },
   {
    "duration": 15,
    "start_time": "2022-01-31T14:36:36.677Z"
   },
   {
    "duration": 26,
    "start_time": "2022-01-31T14:36:36.725Z"
   },
   {
    "duration": 430,
    "start_time": "2022-01-31T17:18:59.942Z"
   },
   {
    "duration": 1118,
    "start_time": "2022-01-31T17:19:04.109Z"
   },
   {
    "duration": 28,
    "start_time": "2022-01-31T17:19:05.230Z"
   },
   {
    "duration": 98,
    "start_time": "2022-01-31T17:19:05.260Z"
   },
   {
    "duration": 521,
    "start_time": "2022-01-31T17:19:05.360Z"
   },
   {
    "duration": 270,
    "start_time": "2022-01-31T17:19:05.884Z"
   },
   {
    "duration": 259,
    "start_time": "2022-01-31T17:19:06.156Z"
   },
   {
    "duration": 354,
    "start_time": "2022-01-31T17:19:06.417Z"
   },
   {
    "duration": 269,
    "start_time": "2022-01-31T17:19:06.774Z"
   },
   {
    "duration": 339,
    "start_time": "2022-01-31T17:19:07.045Z"
   },
   {
    "duration": 451,
    "start_time": "2022-01-31T17:19:07.386Z"
   },
   {
    "duration": 4,
    "start_time": "2022-01-31T17:19:07.839Z"
   },
   {
    "duration": 336,
    "start_time": "2022-01-31T17:19:07.845Z"
   },
   {
    "duration": 4,
    "start_time": "2022-01-31T17:19:08.183Z"
   },
   {
    "duration": 192,
    "start_time": "2022-01-31T17:19:08.190Z"
   },
   {
    "duration": 169,
    "start_time": "2022-01-31T17:19:08.385Z"
   },
   {
    "duration": 34,
    "start_time": "2022-01-31T17:19:08.556Z"
   },
   {
    "duration": 150,
    "start_time": "2022-01-31T17:19:08.592Z"
   },
   {
    "duration": 7,
    "start_time": "2022-01-31T17:19:08.744Z"
   },
   {
    "duration": 12,
    "start_time": "2022-01-31T17:19:08.753Z"
   },
   {
    "duration": 12,
    "start_time": "2022-01-31T17:19:08.767Z"
   },
   {
    "duration": 11,
    "start_time": "2022-01-31T17:19:08.807Z"
   },
   {
    "duration": 11,
    "start_time": "2022-01-31T17:19:08.821Z"
   },
   {
    "duration": 10,
    "start_time": "2022-01-31T17:19:08.835Z"
   },
   {
    "duration": 21,
    "start_time": "2022-01-31T17:19:08.847Z"
   },
   {
    "duration": 1131,
    "start_time": "2022-01-31T17:19:42.882Z"
   },
   {
    "duration": 29,
    "start_time": "2022-01-31T17:19:44.016Z"
   },
   {
    "duration": 108,
    "start_time": "2022-01-31T17:19:44.048Z"
   },
   {
    "duration": 570,
    "start_time": "2022-01-31T17:19:44.158Z"
   },
   {
    "duration": 272,
    "start_time": "2022-01-31T17:19:44.730Z"
   },
   {
    "duration": 288,
    "start_time": "2022-01-31T17:19:45.008Z"
   },
   {
    "duration": 383,
    "start_time": "2022-01-31T17:19:45.298Z"
   },
   {
    "duration": 292,
    "start_time": "2022-01-31T17:19:45.684Z"
   },
   {
    "duration": 431,
    "start_time": "2022-01-31T17:19:45.979Z"
   },
   {
    "duration": 517,
    "start_time": "2022-01-31T17:19:46.413Z"
   },
   {
    "duration": 5,
    "start_time": "2022-01-31T17:19:46.933Z"
   },
   {
    "duration": 393,
    "start_time": "2022-01-31T17:19:46.940Z"
   },
   {
    "duration": 6,
    "start_time": "2022-01-31T17:19:47.335Z"
   },
   {
    "duration": 146,
    "start_time": "2022-01-31T17:19:47.343Z"
   },
   {
    "duration": 174,
    "start_time": "2022-01-31T17:19:47.491Z"
   },
   {
    "duration": 51,
    "start_time": "2022-01-31T17:19:47.667Z"
   },
   {
    "duration": 195,
    "start_time": "2022-01-31T17:19:47.720Z"
   },
   {
    "duration": 8,
    "start_time": "2022-01-31T17:19:47.918Z"
   },
   {
    "duration": 18,
    "start_time": "2022-01-31T17:19:47.928Z"
   },
   {
    "duration": 16,
    "start_time": "2022-01-31T17:19:47.948Z"
   },
   {
    "duration": 12,
    "start_time": "2022-01-31T17:19:47.966Z"
   },
   {
    "duration": 10,
    "start_time": "2022-01-31T17:19:48.007Z"
   },
   {
    "duration": 16,
    "start_time": "2022-01-31T17:19:48.021Z"
   },
   {
    "duration": 19,
    "start_time": "2022-01-31T17:19:48.039Z"
   },
   {
    "duration": 263,
    "start_time": "2022-01-31T17:19:55.232Z"
   },
   {
    "duration": 327,
    "start_time": "2022-01-31T17:21:33.657Z"
   },
   {
    "duration": 257,
    "start_time": "2022-01-31T17:21:40.794Z"
   },
   {
    "duration": 269,
    "start_time": "2022-01-31T17:21:49.245Z"
   },
   {
    "duration": 292,
    "start_time": "2022-01-31T17:21:59.565Z"
   },
   {
    "duration": 260,
    "start_time": "2022-01-31T17:22:15.206Z"
   },
   {
    "duration": 275,
    "start_time": "2022-01-31T17:32:30.976Z"
   },
   {
    "duration": 276,
    "start_time": "2022-01-31T17:32:40.877Z"
   },
   {
    "duration": 87,
    "start_time": "2022-01-31T18:36:19.113Z"
   },
   {
    "duration": 138,
    "start_time": "2022-01-31T18:37:50.421Z"
   },
   {
    "duration": 159,
    "start_time": "2022-01-31T18:38:40.608Z"
   },
   {
    "duration": 25,
    "start_time": "2022-01-31T18:39:32.481Z"
   },
   {
    "duration": 29,
    "start_time": "2022-01-31T18:39:32.508Z"
   },
   {
    "duration": 97,
    "start_time": "2022-01-31T18:39:32.539Z"
   },
   {
    "duration": 121,
    "start_time": "2022-01-31T18:39:34.864Z"
   },
   {
    "duration": 350,
    "start_time": "2022-01-31T18:39:35.158Z"
   },
   {
    "duration": 126,
    "start_time": "2022-01-31T18:39:42.049Z"
   },
   {
    "duration": 131,
    "start_time": "2022-01-31T18:40:32.805Z"
   },
   {
    "duration": 125,
    "start_time": "2022-01-31T18:40:36.338Z"
   },
   {
    "duration": 159,
    "start_time": "2022-01-31T18:40:38.922Z"
   },
   {
    "duration": 998,
    "start_time": "2022-01-31T18:40:51.600Z"
   },
   {
    "duration": 24,
    "start_time": "2022-01-31T18:40:52.600Z"
   },
   {
    "duration": 95,
    "start_time": "2022-01-31T18:40:52.626Z"
   },
   {
    "duration": 157,
    "start_time": "2022-01-31T18:40:52.724Z"
   },
   {
    "duration": 514,
    "start_time": "2022-01-31T18:40:52.883Z"
   },
   {
    "duration": 240,
    "start_time": "2022-01-31T18:40:53.407Z"
   },
   {
    "duration": 77,
    "start_time": "2022-01-31T18:40:53.649Z"
   },
   {
    "duration": -801,
    "start_time": "2022-01-31T18:40:54.530Z"
   },
   {
    "duration": -801,
    "start_time": "2022-01-31T18:40:54.532Z"
   },
   {
    "duration": -801,
    "start_time": "2022-01-31T18:40:54.533Z"
   },
   {
    "duration": -800,
    "start_time": "2022-01-31T18:40:54.534Z"
   },
   {
    "duration": -805,
    "start_time": "2022-01-31T18:40:54.540Z"
   },
   {
    "duration": -804,
    "start_time": "2022-01-31T18:40:54.541Z"
   },
   {
    "duration": -805,
    "start_time": "2022-01-31T18:40:54.543Z"
   },
   {
    "duration": -804,
    "start_time": "2022-01-31T18:40:54.544Z"
   },
   {
    "duration": -805,
    "start_time": "2022-01-31T18:40:54.546Z"
   },
   {
    "duration": -807,
    "start_time": "2022-01-31T18:40:54.550Z"
   },
   {
    "duration": -810,
    "start_time": "2022-01-31T18:40:54.555Z"
   },
   {
    "duration": -813,
    "start_time": "2022-01-31T18:40:54.559Z"
   },
   {
    "duration": -816,
    "start_time": "2022-01-31T18:40:54.563Z"
   },
   {
    "duration": -818,
    "start_time": "2022-01-31T18:40:54.566Z"
   },
   {
    "duration": -817,
    "start_time": "2022-01-31T18:40:54.567Z"
   },
   {
    "duration": -826,
    "start_time": "2022-01-31T18:40:54.577Z"
   },
   {
    "duration": -827,
    "start_time": "2022-01-31T18:40:54.579Z"
   },
   {
    "duration": -828,
    "start_time": "2022-01-31T18:40:54.581Z"
   },
   {
    "duration": -829,
    "start_time": "2022-01-31T18:40:54.583Z"
   },
   {
    "duration": 126,
    "start_time": "2022-01-31T18:41:02.584Z"
   },
   {
    "duration": 122,
    "start_time": "2022-01-31T18:41:09.864Z"
   },
   {
    "duration": 388,
    "start_time": "2022-01-31T18:41:34.938Z"
   },
   {
    "duration": 27,
    "start_time": "2022-01-31T18:41:40.222Z"
   },
   {
    "duration": 25,
    "start_time": "2022-01-31T18:41:40.251Z"
   },
   {
    "duration": 96,
    "start_time": "2022-01-31T18:41:40.278Z"
   },
   {
    "duration": 135,
    "start_time": "2022-01-31T18:41:40.376Z"
   },
   {
    "duration": 391,
    "start_time": "2022-01-31T18:41:40.513Z"
   },
   {
    "duration": 269,
    "start_time": "2022-01-31T18:41:40.906Z"
   },
   {
    "duration": 87,
    "start_time": "2022-01-31T18:41:41.177Z"
   },
   {
    "duration": -807,
    "start_time": "2022-01-31T18:41:42.074Z"
   },
   {
    "duration": -808,
    "start_time": "2022-01-31T18:41:42.076Z"
   },
   {
    "duration": -808,
    "start_time": "2022-01-31T18:41:42.077Z"
   },
   {
    "duration": -808,
    "start_time": "2022-01-31T18:41:42.078Z"
   },
   {
    "duration": -809,
    "start_time": "2022-01-31T18:41:42.080Z"
   },
   {
    "duration": -813,
    "start_time": "2022-01-31T18:41:42.085Z"
   },
   {
    "duration": -814,
    "start_time": "2022-01-31T18:41:42.087Z"
   },
   {
    "duration": -814,
    "start_time": "2022-01-31T18:41:42.088Z"
   },
   {
    "duration": -814,
    "start_time": "2022-01-31T18:41:42.089Z"
   },
   {
    "duration": -815,
    "start_time": "2022-01-31T18:41:42.091Z"
   },
   {
    "duration": -815,
    "start_time": "2022-01-31T18:41:42.092Z"
   },
   {
    "duration": -815,
    "start_time": "2022-01-31T18:41:42.093Z"
   },
   {
    "duration": -814,
    "start_time": "2022-01-31T18:41:42.094Z"
   },
   {
    "duration": -815,
    "start_time": "2022-01-31T18:41:42.096Z"
   },
   {
    "duration": -815,
    "start_time": "2022-01-31T18:41:42.097Z"
   },
   {
    "duration": -816,
    "start_time": "2022-01-31T18:41:42.099Z"
   },
   {
    "duration": -816,
    "start_time": "2022-01-31T18:41:42.100Z"
   },
   {
    "duration": -823,
    "start_time": "2022-01-31T18:41:42.108Z"
   },
   {
    "duration": -824,
    "start_time": "2022-01-31T18:41:42.110Z"
   },
   {
    "duration": 298,
    "start_time": "2022-01-31T18:41:51.227Z"
   },
   {
    "duration": 144,
    "start_time": "2022-01-31T18:41:59.695Z"
   },
   {
    "duration": 10,
    "start_time": "2022-01-31T18:42:11.821Z"
   },
   {
    "duration": 123,
    "start_time": "2022-01-31T18:44:39.221Z"
   },
   {
    "duration": 11,
    "start_time": "2022-01-31T18:46:38.560Z"
   },
   {
    "duration": 127,
    "start_time": "2022-01-31T18:47:27.261Z"
   },
   {
    "duration": 246,
    "start_time": "2022-01-31T18:50:16.495Z"
   },
   {
    "duration": 139,
    "start_time": "2022-01-31T18:50:25.575Z"
   },
   {
    "duration": 141,
    "start_time": "2022-01-31T18:54:56.782Z"
   },
   {
    "duration": 132,
    "start_time": "2022-01-31T18:55:18.913Z"
   },
   {
    "duration": 122,
    "start_time": "2022-01-31T18:59:32.401Z"
   },
   {
    "duration": 90,
    "start_time": "2022-01-31T19:11:18.077Z"
   },
   {
    "duration": 249,
    "start_time": "2022-01-31T19:11:27.891Z"
   },
   {
    "duration": 186,
    "start_time": "2022-01-31T19:11:40.565Z"
   },
   {
    "duration": 193,
    "start_time": "2022-01-31T19:13:06.414Z"
   },
   {
    "duration": 262,
    "start_time": "2022-01-31T19:17:01.165Z"
   },
   {
    "duration": 208,
    "start_time": "2022-01-31T19:17:17.762Z"
   },
   {
    "duration": 123,
    "start_time": "2022-01-31T19:19:09.075Z"
   },
   {
    "duration": 9,
    "start_time": "2022-01-31T19:19:14.459Z"
   },
   {
    "duration": 10,
    "start_time": "2022-01-31T19:19:32.149Z"
   },
   {
    "duration": 161,
    "start_time": "2022-01-31T19:28:52.678Z"
   },
   {
    "duration": 516,
    "start_time": "2022-01-31T19:29:23.384Z"
   },
   {
    "duration": 1279,
    "start_time": "2022-01-31T19:29:30.456Z"
   },
   {
    "duration": 1256,
    "start_time": "2022-01-31T19:31:35.463Z"
   },
   {
    "duration": 1120,
    "start_time": "2022-01-31T19:32:21.261Z"
   },
   {
    "duration": 271,
    "start_time": "2022-01-31T19:34:25.320Z"
   },
   {
    "duration": 282,
    "start_time": "2022-01-31T19:34:35.770Z"
   },
   {
    "duration": 269,
    "start_time": "2022-01-31T19:35:05.379Z"
   },
   {
    "duration": 102,
    "start_time": "2022-01-31T19:36:20.311Z"
   },
   {
    "duration": 84,
    "start_time": "2022-01-31T19:36:30.911Z"
   },
   {
    "duration": 626,
    "start_time": "2022-01-31T19:36:47.303Z"
   },
   {
    "duration": 106,
    "start_time": "2022-01-31T19:46:08.934Z"
   },
   {
    "duration": 109,
    "start_time": "2022-01-31T19:46:28.479Z"
   },
   {
    "duration": 64,
    "start_time": "2022-01-31T19:49:01.346Z"
   },
   {
    "duration": 78,
    "start_time": "2022-01-31T20:01:47.035Z"
   },
   {
    "duration": 71,
    "start_time": "2022-01-31T20:02:05.738Z"
   },
   {
    "duration": 85,
    "start_time": "2022-01-31T20:03:13.474Z"
   },
   {
    "duration": 73,
    "start_time": "2022-01-31T20:03:19.416Z"
   },
   {
    "duration": 248,
    "start_time": "2022-01-31T20:05:17.228Z"
   },
   {
    "duration": 283,
    "start_time": "2022-01-31T20:05:25.310Z"
   },
   {
    "duration": 1044,
    "start_time": "2022-01-31T20:06:40.774Z"
   },
   {
    "duration": 6956,
    "start_time": "2022-01-31T20:07:38.268Z"
   },
   {
    "duration": 7281,
    "start_time": "2022-01-31T20:07:50.645Z"
   },
   {
    "duration": 9,
    "start_time": "2022-01-31T20:08:06.550Z"
   },
   {
    "duration": 14,
    "start_time": "2022-01-31T20:08:53.739Z"
   },
   {
    "duration": 1135,
    "start_time": "2022-01-31T20:10:02.586Z"
   },
   {
    "duration": 1468,
    "start_time": "2022-01-31T20:10:43.271Z"
   },
   {
    "duration": 87,
    "start_time": "2022-01-31T20:13:03.797Z"
   },
   {
    "duration": 620,
    "start_time": "2022-01-31T20:13:12.619Z"
   },
   {
    "duration": 76,
    "start_time": "2022-01-31T20:14:13.565Z"
   },
   {
    "duration": 80,
    "start_time": "2022-01-31T20:14:35.203Z"
   },
   {
    "duration": 1026,
    "start_time": "2022-01-31T20:19:33.542Z"
   },
   {
    "duration": 64,
    "start_time": "2022-01-31T20:20:29.137Z"
   },
   {
    "duration": 305,
    "start_time": "2022-01-31T20:23:41.027Z"
   },
   {
    "duration": 542,
    "start_time": "2022-01-31T20:25:08.849Z"
   },
   {
    "duration": 73,
    "start_time": "2022-01-31T20:28:41.735Z"
   },
   {
    "duration": 79,
    "start_time": "2022-01-31T20:29:02.530Z"
   },
   {
    "duration": 76,
    "start_time": "2022-01-31T20:29:32.258Z"
   },
   {
    "duration": 68,
    "start_time": "2022-01-31T20:29:36.027Z"
   },
   {
    "duration": 66,
    "start_time": "2022-01-31T20:29:40.123Z"
   },
   {
    "duration": 295,
    "start_time": "2022-01-31T20:29:54.080Z"
   },
   {
    "duration": 78,
    "start_time": "2022-01-31T20:30:01.713Z"
   },
   {
    "duration": 319,
    "start_time": "2022-01-31T20:30:32.538Z"
   },
   {
    "duration": 64,
    "start_time": "2022-01-31T20:30:43.503Z"
   },
   {
    "duration": 71,
    "start_time": "2022-01-31T20:30:53.949Z"
   },
   {
    "duration": 78,
    "start_time": "2022-01-31T20:32:14.108Z"
   },
   {
    "duration": 63,
    "start_time": "2022-01-31T20:34:44.544Z"
   },
   {
    "duration": 372,
    "start_time": "2022-01-31T20:35:25.624Z"
   },
   {
    "duration": 359,
    "start_time": "2022-01-31T20:35:35.940Z"
   },
   {
    "duration": 67,
    "start_time": "2022-01-31T20:35:58.000Z"
   },
   {
    "duration": 73,
    "start_time": "2022-01-31T20:38:47.538Z"
   },
   {
    "duration": 363,
    "start_time": "2022-01-31T20:38:58.517Z"
   },
   {
    "duration": 69,
    "start_time": "2022-01-31T20:39:17.157Z"
   },
   {
    "duration": 71,
    "start_time": "2022-01-31T20:40:16.739Z"
   },
   {
    "duration": 314,
    "start_time": "2022-01-31T20:41:40.295Z"
   },
   {
    "duration": 315,
    "start_time": "2022-01-31T20:42:52.050Z"
   },
   {
    "duration": 1081,
    "start_time": "2022-01-31T20:43:58.096Z"
   },
   {
    "duration": 424,
    "start_time": "2022-01-31T20:44:41.648Z"
   },
   {
    "duration": 70,
    "start_time": "2022-01-31T20:44:55.989Z"
   },
   {
    "duration": 75,
    "start_time": "2022-01-31T20:45:13.727Z"
   },
   {
    "duration": 87,
    "start_time": "2022-01-31T20:46:11.429Z"
   },
   {
    "duration": 323,
    "start_time": "2022-01-31T20:46:47.366Z"
   },
   {
    "duration": 77,
    "start_time": "2022-01-31T20:47:13.475Z"
   },
   {
    "duration": 86,
    "start_time": "2022-01-31T20:48:02.635Z"
   },
   {
    "duration": 79,
    "start_time": "2022-01-31T20:48:10.838Z"
   },
   {
    "duration": 18,
    "start_time": "2022-01-31T20:50:10.067Z"
   },
   {
    "duration": 17,
    "start_time": "2022-01-31T20:51:28.627Z"
   },
   {
    "duration": 15,
    "start_time": "2022-01-31T20:52:09.127Z"
   },
   {
    "duration": 16,
    "start_time": "2022-01-31T20:57:00.063Z"
   },
   {
    "duration": 15,
    "start_time": "2022-01-31T21:01:28.432Z"
   },
   {
    "duration": 19,
    "start_time": "2022-01-31T21:02:03.010Z"
   },
   {
    "duration": 19,
    "start_time": "2022-01-31T21:03:10.704Z"
   },
   {
    "duration": 19,
    "start_time": "2022-01-31T21:03:22.191Z"
   },
   {
    "duration": 20,
    "start_time": "2022-01-31T21:04:47.255Z"
   },
   {
    "duration": 377,
    "start_time": "2022-01-31T21:04:48.946Z"
   },
   {
    "duration": 285,
    "start_time": "2022-01-31T21:04:49.325Z"
   },
   {
    "duration": 281,
    "start_time": "2022-01-31T21:05:28.793Z"
   },
   {
    "duration": 3554,
    "start_time": "2022-01-31T21:07:47.890Z"
   },
   {
    "duration": 3304,
    "start_time": "2022-01-31T21:08:08.677Z"
   },
   {
    "duration": 3746,
    "start_time": "2022-01-31T21:08:14.627Z"
   },
   {
    "duration": 24,
    "start_time": "2022-01-31T21:08:54.122Z"
   },
   {
    "duration": 24,
    "start_time": "2022-01-31T21:08:54.148Z"
   },
   {
    "duration": 100,
    "start_time": "2022-01-31T21:08:54.174Z"
   },
   {
    "duration": 17,
    "start_time": "2022-01-31T21:08:54.276Z"
   },
   {
    "duration": 1099,
    "start_time": "2022-01-31T21:08:54.295Z"
   },
   {
    "duration": -969,
    "start_time": "2022-01-31T21:08:56.366Z"
   },
   {
    "duration": -974,
    "start_time": "2022-01-31T21:08:56.372Z"
   },
   {
    "duration": -975,
    "start_time": "2022-01-31T21:08:56.374Z"
   },
   {
    "duration": -975,
    "start_time": "2022-01-31T21:08:56.375Z"
   },
   {
    "duration": -976,
    "start_time": "2022-01-31T21:08:56.377Z"
   },
   {
    "duration": -976,
    "start_time": "2022-01-31T21:08:56.378Z"
   },
   {
    "duration": -981,
    "start_time": "2022-01-31T21:08:56.384Z"
   },
   {
    "duration": -982,
    "start_time": "2022-01-31T21:08:56.386Z"
   },
   {
    "duration": -982,
    "start_time": "2022-01-31T21:08:56.388Z"
   },
   {
    "duration": -986,
    "start_time": "2022-01-31T21:08:56.393Z"
   },
   {
    "duration": -986,
    "start_time": "2022-01-31T21:08:56.394Z"
   },
   {
    "duration": -986,
    "start_time": "2022-01-31T21:08:56.395Z"
   },
   {
    "duration": -986,
    "start_time": "2022-01-31T21:08:56.396Z"
   },
   {
    "duration": -986,
    "start_time": "2022-01-31T21:08:56.397Z"
   },
   {
    "duration": -987,
    "start_time": "2022-01-31T21:08:56.399Z"
   },
   {
    "duration": -987,
    "start_time": "2022-01-31T21:08:56.400Z"
   },
   {
    "duration": -987,
    "start_time": "2022-01-31T21:08:56.401Z"
   },
   {
    "duration": -995,
    "start_time": "2022-01-31T21:08:56.410Z"
   },
   {
    "duration": -995,
    "start_time": "2022-01-31T21:08:56.411Z"
   },
   {
    "duration": -995,
    "start_time": "2022-01-31T21:08:56.412Z"
   },
   {
    "duration": 17,
    "start_time": "2022-01-31T21:13:25.549Z"
   },
   {
    "duration": 16,
    "start_time": "2022-01-31T21:13:50.769Z"
   },
   {
    "duration": 12,
    "start_time": "2022-01-31T21:14:53.135Z"
   },
   {
    "duration": 259,
    "start_time": "2022-01-31T21:17:20.975Z"
   },
   {
    "duration": 17,
    "start_time": "2022-01-31T21:17:40.050Z"
   },
   {
    "duration": 84,
    "start_time": "2022-01-31T21:17:50.448Z"
   },
   {
    "duration": 7063,
    "start_time": "2022-01-31T21:18:51.431Z"
   },
   {
    "duration": 20,
    "start_time": "2022-01-31T21:19:51.692Z"
   },
   {
    "duration": 16,
    "start_time": "2022-01-31T21:20:07.562Z"
   },
   {
    "duration": 17,
    "start_time": "2022-01-31T21:20:11.242Z"
   },
   {
    "duration": 1136,
    "start_time": "2022-01-31T21:20:33.859Z"
   },
   {
    "duration": 24,
    "start_time": "2022-01-31T21:20:34.997Z"
   },
   {
    "duration": 97,
    "start_time": "2022-01-31T21:20:35.023Z"
   },
   {
    "duration": 20,
    "start_time": "2022-01-31T21:20:35.123Z"
   },
   {
    "duration": 511,
    "start_time": "2022-01-31T21:20:35.145Z"
   },
   {
    "duration": 240,
    "start_time": "2022-01-31T21:20:35.658Z"
   },
   {
    "duration": 267,
    "start_time": "2022-01-31T21:20:35.899Z"
   },
   {
    "duration": 399,
    "start_time": "2022-01-31T21:20:36.169Z"
   },
   {
    "duration": 294,
    "start_time": "2022-01-31T21:20:36.570Z"
   },
   {
    "duration": 432,
    "start_time": "2022-01-31T21:20:36.866Z"
   },
   {
    "duration": 485,
    "start_time": "2022-01-31T21:20:37.300Z"
   },
   {
    "duration": 4,
    "start_time": "2022-01-31T21:20:37.787Z"
   },
   {
    "duration": 449,
    "start_time": "2022-01-31T21:20:37.793Z"
   },
   {
    "duration": 4,
    "start_time": "2022-01-31T21:20:38.245Z"
   },
   {
    "duration": 174,
    "start_time": "2022-01-31T21:20:38.252Z"
   },
   {
    "duration": 174,
    "start_time": "2022-01-31T21:20:38.428Z"
   },
   {
    "duration": 36,
    "start_time": "2022-01-31T21:20:38.604Z"
   },
   {
    "duration": 140,
    "start_time": "2022-01-31T21:20:38.641Z"
   },
   {
    "duration": 7,
    "start_time": "2022-01-31T21:20:38.783Z"
   },
   {
    "duration": 25,
    "start_time": "2022-01-31T21:20:38.792Z"
   },
   {
    "duration": 12,
    "start_time": "2022-01-31T21:20:38.819Z"
   },
   {
    "duration": 12,
    "start_time": "2022-01-31T21:20:38.833Z"
   },
   {
    "duration": 14,
    "start_time": "2022-01-31T21:20:38.847Z"
   },
   {
    "duration": 13,
    "start_time": "2022-01-31T21:20:38.863Z"
   },
   {
    "duration": 40,
    "start_time": "2022-01-31T21:20:38.878Z"
   },
   {
    "duration": 19,
    "start_time": "2022-01-31T21:21:16.254Z"
   },
   {
    "duration": 20,
    "start_time": "2022-01-31T21:22:10.377Z"
   },
   {
    "duration": 1119,
    "start_time": "2022-01-31T21:22:14.672Z"
   },
   {
    "duration": 17,
    "start_time": "2022-01-31T21:23:24.518Z"
   },
   {
    "duration": 17,
    "start_time": "2022-01-31T21:23:40.746Z"
   },
   {
    "duration": 20,
    "start_time": "2022-01-31T21:23:57.196Z"
   },
   {
    "duration": 14,
    "start_time": "2022-01-31T21:24:13.554Z"
   },
   {
    "duration": 27,
    "start_time": "2022-01-31T21:24:26.406Z"
   },
   {
    "duration": 41,
    "start_time": "2022-01-31T21:24:26.435Z"
   },
   {
    "duration": 101,
    "start_time": "2022-01-31T21:24:26.478Z"
   },
   {
    "duration": 16,
    "start_time": "2022-01-31T21:24:26.581Z"
   },
   {
    "duration": 411,
    "start_time": "2022-01-31T21:24:26.599Z"
   },
   {
    "duration": 345,
    "start_time": "2022-01-31T21:24:27.012Z"
   },
   {
    "duration": 259,
    "start_time": "2022-01-31T21:24:27.359Z"
   },
   {
    "duration": 352,
    "start_time": "2022-01-31T21:24:27.621Z"
   },
   {
    "duration": 280,
    "start_time": "2022-01-31T21:24:27.976Z"
   },
   {
    "duration": 376,
    "start_time": "2022-01-31T21:24:28.258Z"
   },
   {
    "duration": 462,
    "start_time": "2022-01-31T21:24:28.636Z"
   },
   {
    "duration": 9,
    "start_time": "2022-01-31T21:24:29.100Z"
   },
   {
    "duration": 537,
    "start_time": "2022-01-31T21:24:29.111Z"
   },
   {
    "duration": 59,
    "start_time": "2022-01-31T21:24:29.651Z"
   },
   {
    "duration": 258,
    "start_time": "2022-01-31T21:24:29.712Z"
   },
   {
    "duration": 193,
    "start_time": "2022-01-31T21:24:29.972Z"
   },
   {
    "duration": 50,
    "start_time": "2022-01-31T21:24:30.167Z"
   },
   {
    "duration": 126,
    "start_time": "2022-01-31T21:24:30.219Z"
   },
   {
    "duration": 7,
    "start_time": "2022-01-31T21:24:30.348Z"
   },
   {
    "duration": 20,
    "start_time": "2022-01-31T21:24:30.357Z"
   },
   {
    "duration": 22,
    "start_time": "2022-01-31T21:24:30.379Z"
   },
   {
    "duration": 12,
    "start_time": "2022-01-31T21:24:30.411Z"
   },
   {
    "duration": 29,
    "start_time": "2022-01-31T21:24:30.427Z"
   },
   {
    "duration": 19,
    "start_time": "2022-01-31T21:24:30.458Z"
   },
   {
    "duration": 26,
    "start_time": "2022-01-31T21:24:30.479Z"
   },
   {
    "duration": 28,
    "start_time": "2022-01-31T21:25:51.137Z"
   },
   {
    "duration": 272,
    "start_time": "2022-01-31T21:26:01.408Z"
   },
   {
    "duration": 21,
    "start_time": "2022-01-31T21:26:08.208Z"
   },
   {
    "duration": 125,
    "start_time": "2022-01-31T21:27:31.260Z"
   },
   {
    "duration": 84,
    "start_time": "2022-01-31T21:27:40.236Z"
   },
   {
    "duration": 321,
    "start_time": "2022-01-31T21:27:47.734Z"
   },
   {
    "duration": 25,
    "start_time": "2022-01-31T21:28:39.142Z"
   },
   {
    "duration": 29,
    "start_time": "2022-01-31T21:28:39.169Z"
   },
   {
    "duration": 97,
    "start_time": "2022-01-31T21:28:39.200Z"
   },
   {
    "duration": 284,
    "start_time": "2022-01-31T21:28:39.300Z"
   },
   {
    "duration": -1036,
    "start_time": "2022-01-31T21:28:40.622Z"
   },
   {
    "duration": -1042,
    "start_time": "2022-01-31T21:28:40.629Z"
   },
   {
    "duration": -1042,
    "start_time": "2022-01-31T21:28:40.630Z"
   },
   {
    "duration": -1042,
    "start_time": "2022-01-31T21:28:40.631Z"
   },
   {
    "duration": -1043,
    "start_time": "2022-01-31T21:28:40.633Z"
   },
   {
    "duration": -1043,
    "start_time": "2022-01-31T21:28:40.634Z"
   },
   {
    "duration": -1043,
    "start_time": "2022-01-31T21:28:40.635Z"
   },
   {
    "duration": -1044,
    "start_time": "2022-01-31T21:28:40.637Z"
   },
   {
    "duration": -1044,
    "start_time": "2022-01-31T21:28:40.638Z"
   },
   {
    "duration": -1044,
    "start_time": "2022-01-31T21:28:40.639Z"
   },
   {
    "duration": -1045,
    "start_time": "2022-01-31T21:28:40.641Z"
   },
   {
    "duration": -1046,
    "start_time": "2022-01-31T21:28:40.643Z"
   },
   {
    "duration": -1063,
    "start_time": "2022-01-31T21:28:40.661Z"
   },
   {
    "duration": -1064,
    "start_time": "2022-01-31T21:28:40.663Z"
   },
   {
    "duration": -1065,
    "start_time": "2022-01-31T21:28:40.665Z"
   },
   {
    "duration": -1065,
    "start_time": "2022-01-31T21:28:40.666Z"
   },
   {
    "duration": -1067,
    "start_time": "2022-01-31T21:28:40.668Z"
   },
   {
    "duration": -1067,
    "start_time": "2022-01-31T21:28:40.670Z"
   },
   {
    "duration": -1069,
    "start_time": "2022-01-31T21:28:40.672Z"
   },
   {
    "duration": -1071,
    "start_time": "2022-01-31T21:28:40.675Z"
   },
   {
    "duration": -1072,
    "start_time": "2022-01-31T21:28:40.677Z"
   },
   {
    "duration": 427,
    "start_time": "2022-01-31T21:28:48.967Z"
   },
   {
    "duration": 254,
    "start_time": "2022-01-31T21:29:21.352Z"
   },
   {
    "duration": 300,
    "start_time": "2022-01-31T21:29:35.745Z"
   },
   {
    "duration": 20,
    "start_time": "2022-01-31T21:29:55.317Z"
   },
   {
    "duration": 367,
    "start_time": "2022-01-31T21:30:11.832Z"
   },
   {
    "duration": 263,
    "start_time": "2022-01-31T21:30:13.409Z"
   },
   {
    "duration": 257,
    "start_time": "2022-01-31T21:30:23.285Z"
   },
   {
    "duration": 358,
    "start_time": "2022-01-31T21:30:32.529Z"
   },
   {
    "duration": 263,
    "start_time": "2022-01-31T21:30:37.390Z"
   },
   {
    "duration": 470,
    "start_time": "2022-01-31T21:30:49.292Z"
   },
   {
    "duration": 490,
    "start_time": "2022-01-31T21:30:59.068Z"
   },
   {
    "duration": 5,
    "start_time": "2022-01-31T21:30:59.749Z"
   },
   {
    "duration": 458,
    "start_time": "2022-01-31T21:31:47.561Z"
   },
   {
    "duration": 5,
    "start_time": "2022-01-31T21:41:37.142Z"
   },
   {
    "duration": 373,
    "start_time": "2022-01-31T21:41:52.193Z"
   },
   {
    "duration": 5,
    "start_time": "2022-01-31T21:41:58.423Z"
   },
   {
    "duration": 379,
    "start_time": "2022-01-31T21:42:16.003Z"
   },
   {
    "duration": 388,
    "start_time": "2022-01-31T21:42:26.109Z"
   },
   {
    "duration": 128,
    "start_time": "2022-01-31T21:43:40.146Z"
   },
   {
    "duration": 181,
    "start_time": "2022-01-31T21:43:40.276Z"
   },
   {
    "duration": 51,
    "start_time": "2022-01-31T21:43:40.459Z"
   },
   {
    "duration": 114,
    "start_time": "2022-01-31T21:43:40.793Z"
   },
   {
    "duration": 7,
    "start_time": "2022-01-31T21:43:43.896Z"
   },
   {
    "duration": 10,
    "start_time": "2022-01-31T21:43:44.717Z"
   },
   {
    "duration": 127,
    "start_time": "2022-01-31T21:44:21.254Z"
   },
   {
    "duration": 147,
    "start_time": "2022-01-31T21:44:21.864Z"
   },
   {
    "duration": 271,
    "start_time": "2022-01-31T21:51:37.537Z"
   },
   {
    "duration": 9,
    "start_time": "2022-01-31T21:53:25.132Z"
   },
   {
    "duration": 16,
    "start_time": "2022-01-31T21:53:55.927Z"
   },
   {
    "duration": 10,
    "start_time": "2022-01-31T21:55:14.763Z"
   },
   {
    "duration": 9,
    "start_time": "2022-01-31T21:56:27.065Z"
   },
   {
    "duration": 242,
    "start_time": "2022-01-31T21:58:21.650Z"
   },
   {
    "duration": 5,
    "start_time": "2022-01-31T21:58:37.284Z"
   },
   {
    "duration": 13,
    "start_time": "2022-01-31T21:59:46.657Z"
   },
   {
    "duration": 12,
    "start_time": "2022-01-31T22:00:37.216Z"
   },
   {
    "duration": 9,
    "start_time": "2022-01-31T22:00:38.339Z"
   },
   {
    "duration": 12,
    "start_time": "2022-01-31T22:02:03.064Z"
   },
   {
    "duration": 12,
    "start_time": "2022-01-31T22:03:10.708Z"
   },
   {
    "duration": 9,
    "start_time": "2022-01-31T22:03:18.097Z"
   },
   {
    "duration": 8,
    "start_time": "2022-01-31T22:03:21.110Z"
   },
   {
    "duration": 88,
    "start_time": "2022-01-31T22:07:46.154Z"
   },
   {
    "duration": 17,
    "start_time": "2022-01-31T22:08:09.697Z"
   },
   {
    "duration": 16,
    "start_time": "2022-01-31T22:09:27.547Z"
   },
   {
    "duration": 79,
    "start_time": "2022-01-31T22:10:28.102Z"
   },
   {
    "duration": 13,
    "start_time": "2022-01-31T22:11:04.470Z"
   },
   {
    "duration": 249,
    "start_time": "2022-01-31T22:14:36.607Z"
   },
   {
    "duration": 8,
    "start_time": "2022-01-31T22:15:05.516Z"
   },
   {
    "duration": 16,
    "start_time": "2022-01-31T22:15:27.985Z"
   },
   {
    "duration": 15,
    "start_time": "2022-01-31T22:16:37.174Z"
   },
   {
    "duration": 16,
    "start_time": "2022-01-31T22:19:29.964Z"
   },
   {
    "duration": 15,
    "start_time": "2022-01-31T22:29:07.280Z"
   },
   {
    "duration": 923,
    "start_time": "2022-02-22T21:37:24.870Z"
   },
   {
    "duration": 811,
    "start_time": "2022-02-22T21:37:33.478Z"
   },
   {
    "duration": 37,
    "start_time": "2022-02-22T21:37:34.292Z"
   },
   {
    "duration": 125,
    "start_time": "2022-02-22T21:37:34.333Z"
   },
   {
    "duration": 30,
    "start_time": "2022-02-22T21:37:34.461Z"
   },
   {
    "duration": 629,
    "start_time": "2022-02-22T21:37:34.494Z"
   },
   {
    "duration": 378,
    "start_time": "2022-02-22T21:37:35.126Z"
   },
   {
    "duration": 428,
    "start_time": "2022-02-22T21:37:35.507Z"
   },
   {
    "duration": 482,
    "start_time": "2022-02-22T21:37:35.949Z"
   },
   {
    "duration": 426,
    "start_time": "2022-02-22T21:37:36.434Z"
   },
   {
    "duration": 521,
    "start_time": "2022-02-22T21:37:36.863Z"
   },
   {
    "duration": 644,
    "start_time": "2022-02-22T21:37:37.386Z"
   },
   {
    "duration": 19,
    "start_time": "2022-02-22T21:37:38.033Z"
   },
   {
    "duration": 485,
    "start_time": "2022-02-22T21:37:38.055Z"
   },
   {
    "duration": 7,
    "start_time": "2022-02-22T21:37:38.548Z"
   },
   {
    "duration": 229,
    "start_time": "2022-02-22T21:37:38.558Z"
   },
   {
    "duration": 260,
    "start_time": "2022-02-22T21:37:38.789Z"
   },
   {
    "duration": 57,
    "start_time": "2022-02-22T21:37:39.052Z"
   },
   {
    "duration": 245,
    "start_time": "2022-02-22T21:37:39.113Z"
   },
   {
    "duration": 89,
    "start_time": "2022-02-22T21:37:39.361Z"
   },
   {
    "duration": -2629,
    "start_time": "2022-02-22T21:37:42.082Z"
   },
   {
    "duration": -2651,
    "start_time": "2022-02-22T21:37:42.105Z"
   },
   {
    "duration": -2655,
    "start_time": "2022-02-22T21:37:42.111Z"
   },
   {
    "duration": -2657,
    "start_time": "2022-02-22T21:37:42.115Z"
   },
   {
    "duration": -2658,
    "start_time": "2022-02-22T21:37:42.119Z"
   },
   {
    "duration": -2667,
    "start_time": "2022-02-22T21:37:42.131Z"
   },
   {
    "duration": -2669,
    "start_time": "2022-02-22T21:37:42.135Z"
   },
   {
    "duration": 103,
    "start_time": "2022-02-22T21:45:05.462Z"
   },
   {
    "duration": 577,
    "start_time": "2022-02-22T21:50:20.587Z"
   },
   {
    "duration": 417,
    "start_time": "2022-02-22T21:53:01.801Z"
   },
   {
    "duration": 466,
    "start_time": "2022-02-22T21:58:45.264Z"
   },
   {
    "duration": 604,
    "start_time": "2022-03-01T20:37:08.397Z"
   },
   {
    "duration": 624,
    "start_time": "2022-03-01T20:37:14.529Z"
   },
   {
    "duration": 21,
    "start_time": "2022-03-01T20:37:15.155Z"
   },
   {
    "duration": 100,
    "start_time": "2022-03-01T20:37:15.178Z"
   },
   {
    "duration": 17,
    "start_time": "2022-03-01T20:37:15.279Z"
   },
   {
    "duration": 324,
    "start_time": "2022-03-01T20:37:15.297Z"
   },
   {
    "duration": 195,
    "start_time": "2022-03-01T20:37:15.623Z"
   },
   {
    "duration": 239,
    "start_time": "2022-03-01T20:37:15.819Z"
   },
   {
    "duration": 320,
    "start_time": "2022-03-01T20:37:16.060Z"
   },
   {
    "duration": 242,
    "start_time": "2022-03-01T20:37:16.381Z"
   },
   {
    "duration": 358,
    "start_time": "2022-03-01T20:37:16.625Z"
   },
   {
    "duration": 412,
    "start_time": "2022-03-01T20:37:16.984Z"
   },
   {
    "duration": 4,
    "start_time": "2022-03-01T20:37:17.398Z"
   },
   {
    "duration": 328,
    "start_time": "2022-03-01T20:37:17.403Z"
   },
   {
    "duration": 6,
    "start_time": "2022-03-01T20:37:17.733Z"
   },
   {
    "duration": 122,
    "start_time": "2022-03-01T20:37:17.741Z"
   },
   {
    "duration": 142,
    "start_time": "2022-03-01T20:37:17.865Z"
   },
   {
    "duration": 32,
    "start_time": "2022-03-01T20:37:18.009Z"
   },
   {
    "duration": 115,
    "start_time": "2022-03-01T20:37:18.042Z"
   },
   {
    "duration": 55,
    "start_time": "2022-03-01T20:37:18.158Z"
   },
   {
    "duration": -598,
    "start_time": "2022-03-01T20:37:18.813Z"
   },
   {
    "duration": -601,
    "start_time": "2022-03-01T20:37:18.818Z"
   },
   {
    "duration": -606,
    "start_time": "2022-03-01T20:37:18.824Z"
   },
   {
    "duration": -610,
    "start_time": "2022-03-01T20:37:18.830Z"
   },
   {
    "duration": -616,
    "start_time": "2022-03-01T20:37:18.837Z"
   },
   {
    "duration": -621,
    "start_time": "2022-03-01T20:37:18.843Z"
   },
   {
    "duration": -630,
    "start_time": "2022-03-01T20:37:18.854Z"
   },
   {
    "duration": 107,
    "start_time": "2022-03-02T21:49:55.055Z"
   },
   {
    "duration": 7,
    "start_time": "2022-03-02T22:22:42.100Z"
   },
   {
    "duration": 12,
    "start_time": "2022-03-02T22:24:30.287Z"
   },
   {
    "duration": 10,
    "start_time": "2022-03-02T22:24:47.799Z"
   },
   {
    "duration": 1219,
    "start_time": "2022-05-20T18:18:42.638Z"
   },
   {
    "duration": 32,
    "start_time": "2022-05-20T18:18:43.859Z"
   },
   {
    "duration": 137,
    "start_time": "2022-05-20T18:18:43.893Z"
   },
   {
    "duration": 9,
    "start_time": "2022-05-20T18:18:44.031Z"
   },
   {
    "duration": 26,
    "start_time": "2022-05-20T18:18:44.043Z"
   },
   {
    "duration": 793,
    "start_time": "2022-05-20T18:18:44.074Z"
   },
   {
    "duration": 342,
    "start_time": "2022-05-20T18:18:44.869Z"
   },
   {
    "duration": 319,
    "start_time": "2022-05-20T18:18:45.212Z"
   },
   {
    "duration": 379,
    "start_time": "2022-05-20T18:18:45.533Z"
   },
   {
    "duration": 372,
    "start_time": "2022-05-20T18:18:45.915Z"
   },
   {
    "duration": 0,
    "start_time": "2022-05-20T18:18:46.289Z"
   },
   {
    "duration": 0,
    "start_time": "2022-05-20T18:18:46.291Z"
   },
   {
    "duration": 0,
    "start_time": "2022-05-20T18:18:46.292Z"
   },
   {
    "duration": 0,
    "start_time": "2022-05-20T18:18:46.294Z"
   },
   {
    "duration": 0,
    "start_time": "2022-05-20T18:18:46.295Z"
   },
   {
    "duration": 0,
    "start_time": "2022-05-20T18:18:46.296Z"
   },
   {
    "duration": 0,
    "start_time": "2022-05-20T18:18:46.297Z"
   },
   {
    "duration": 0,
    "start_time": "2022-05-20T18:18:46.299Z"
   },
   {
    "duration": 0,
    "start_time": "2022-05-20T18:18:46.300Z"
   },
   {
    "duration": 0,
    "start_time": "2022-05-20T18:18:46.301Z"
   },
   {
    "duration": 0,
    "start_time": "2022-05-20T18:18:46.302Z"
   },
   {
    "duration": 0,
    "start_time": "2022-05-20T18:18:46.304Z"
   },
   {
    "duration": 0,
    "start_time": "2022-05-20T18:18:46.305Z"
   },
   {
    "duration": 0,
    "start_time": "2022-05-20T18:18:46.306Z"
   },
   {
    "duration": 0,
    "start_time": "2022-05-20T18:18:46.307Z"
   },
   {
    "duration": 0,
    "start_time": "2022-05-20T18:18:46.309Z"
   },
   {
    "duration": 0,
    "start_time": "2022-05-20T18:18:46.310Z"
   },
   {
    "duration": 352,
    "start_time": "2022-05-20T18:19:25.449Z"
   },
   {
    "duration": 1148,
    "start_time": "2022-05-20T18:20:02.045Z"
   },
   {
    "duration": 490,
    "start_time": "2022-05-20T18:20:34.665Z"
   },
   {
    "duration": 197,
    "start_time": "2022-05-20T18:47:15.284Z"
   },
   {
    "duration": 301,
    "start_time": "2022-05-20T20:44:26.099Z"
   },
   {
    "duration": 312,
    "start_time": "2022-05-20T20:44:35.319Z"
   },
   {
    "duration": 46,
    "start_time": "2022-05-21T06:53:45.216Z"
   },
   {
    "duration": 26,
    "start_time": "2022-05-21T06:53:45.265Z"
   },
   {
    "duration": 135,
    "start_time": "2022-05-21T06:53:45.293Z"
   },
   {
    "duration": 9,
    "start_time": "2022-05-21T06:53:45.429Z"
   },
   {
    "duration": 23,
    "start_time": "2022-05-21T06:53:45.440Z"
   },
   {
    "duration": 317,
    "start_time": "2022-05-21T06:53:45.464Z"
   },
   {
    "duration": 224,
    "start_time": "2022-05-21T06:53:45.783Z"
   },
   {
    "duration": 227,
    "start_time": "2022-05-21T06:53:46.009Z"
   },
   {
    "duration": 418,
    "start_time": "2022-05-21T06:53:46.238Z"
   },
   {
    "duration": 228,
    "start_time": "2022-05-21T06:53:46.665Z"
   },
   {
    "duration": 0,
    "start_time": "2022-05-21T06:53:46.895Z"
   },
   {
    "duration": 0,
    "start_time": "2022-05-21T06:53:46.897Z"
   },
   {
    "duration": 0,
    "start_time": "2022-05-21T06:53:46.898Z"
   },
   {
    "duration": 0,
    "start_time": "2022-05-21T06:53:46.900Z"
   },
   {
    "duration": 0,
    "start_time": "2022-05-21T06:53:46.901Z"
   },
   {
    "duration": 0,
    "start_time": "2022-05-21T06:53:46.902Z"
   },
   {
    "duration": 0,
    "start_time": "2022-05-21T06:53:46.903Z"
   },
   {
    "duration": 0,
    "start_time": "2022-05-21T06:53:46.905Z"
   },
   {
    "duration": 0,
    "start_time": "2022-05-21T06:53:46.906Z"
   },
   {
    "duration": 0,
    "start_time": "2022-05-21T06:53:46.907Z"
   },
   {
    "duration": 0,
    "start_time": "2022-05-21T06:53:46.909Z"
   },
   {
    "duration": 0,
    "start_time": "2022-05-21T06:53:46.910Z"
   },
   {
    "duration": 0,
    "start_time": "2022-05-21T06:53:46.911Z"
   },
   {
    "duration": 0,
    "start_time": "2022-05-21T06:53:46.912Z"
   },
   {
    "duration": 0,
    "start_time": "2022-05-21T06:53:46.914Z"
   },
   {
    "duration": 0,
    "start_time": "2022-05-21T06:53:46.914Z"
   },
   {
    "duration": 0,
    "start_time": "2022-05-21T06:53:46.916Z"
   },
   {
    "duration": 181,
    "start_time": "2022-05-21T08:17:20.665Z"
   },
   {
    "duration": 59,
    "start_time": "2022-09-13T18:11:41.594Z"
   },
   {
    "duration": 850,
    "start_time": "2022-09-13T18:13:40.037Z"
   },
   {
    "duration": 26,
    "start_time": "2022-09-13T18:13:51.312Z"
   },
   {
    "duration": 219,
    "start_time": "2022-09-13T18:13:56.496Z"
   },
   {
    "duration": 7,
    "start_time": "2022-09-13T18:13:57.920Z"
   },
   {
    "duration": 20,
    "start_time": "2022-09-13T18:14:00.000Z"
   },
   {
    "duration": 478,
    "start_time": "2022-09-13T18:14:00.837Z"
   },
   {
    "duration": 228,
    "start_time": "2022-09-13T18:14:01.533Z"
   },
   {
    "duration": 165,
    "start_time": "2022-09-13T18:14:05.464Z"
   },
   {
    "duration": 170,
    "start_time": "2022-09-13T18:14:10.591Z"
   },
   {
    "duration": 227,
    "start_time": "2022-09-13T18:14:14.255Z"
   },
   {
    "duration": 238,
    "start_time": "2022-09-13T18:14:18.337Z"
   },
   {
    "duration": 265,
    "start_time": "2022-09-13T18:14:46.608Z"
   },
   {
    "duration": 211,
    "start_time": "2022-09-13T18:15:17.808Z"
   },
   {
    "duration": 202,
    "start_time": "2022-09-13T18:15:24.401Z"
   },
   {
    "duration": 186,
    "start_time": "2022-09-13T18:15:47.081Z"
   },
   {
    "duration": 5,
    "start_time": "2022-09-13T18:16:09.266Z"
   },
   {
    "duration": 168,
    "start_time": "2022-09-13T18:16:23.473Z"
   },
   {
    "duration": 244,
    "start_time": "2022-09-13T18:16:33.233Z"
   },
   {
    "duration": 167,
    "start_time": "2022-09-13T18:16:49.397Z"
   },
   {
    "duration": 283,
    "start_time": "2022-09-13T18:17:11.168Z"
   },
   {
    "duration": 251,
    "start_time": "2022-09-13T18:17:31.644Z"
   },
   {
    "duration": 324,
    "start_time": "2022-09-13T18:17:38.817Z"
   },
   {
    "duration": 313,
    "start_time": "2022-09-13T18:17:51.649Z"
   },
   {
    "duration": 256,
    "start_time": "2022-09-13T18:17:58.747Z"
   },
   {
    "duration": 241,
    "start_time": "2022-09-13T18:18:16.946Z"
   },
   {
    "duration": 4,
    "start_time": "2022-09-13T18:18:18.345Z"
   },
   {
    "duration": 156,
    "start_time": "2022-09-13T18:18:19.897Z"
   },
   {
    "duration": 4,
    "start_time": "2022-09-13T18:18:20.865Z"
   },
   {
    "duration": 109,
    "start_time": "2022-09-13T18:18:25.241Z"
   },
   {
    "duration": 101,
    "start_time": "2022-09-13T18:18:26.545Z"
   },
   {
    "duration": 30,
    "start_time": "2022-09-13T18:18:27.561Z"
   },
   {
    "duration": 120,
    "start_time": "2022-09-13T18:18:28.347Z"
   },
   {
    "duration": 8,
    "start_time": "2022-09-13T18:18:37.142Z"
   },
   {
    "duration": 32,
    "start_time": "2022-09-13T18:19:00.306Z"
   },
   {
    "duration": 24,
    "start_time": "2022-09-13T18:19:16.186Z"
   },
   {
    "duration": 12,
    "start_time": "2022-09-13T18:19:32.993Z"
   },
   {
    "duration": 9,
    "start_time": "2022-09-13T18:19:36.523Z"
   },
   {
    "duration": 7,
    "start_time": "2022-09-13T18:19:37.267Z"
   },
   {
    "duration": 22,
    "start_time": "2022-09-13T18:19:38.121Z"
   },
   {
    "duration": 13,
    "start_time": "2022-09-13T18:19:39.242Z"
   }
  ],
  "kernelspec": {
   "display_name": "Python 3 (ipykernel)",
   "language": "python",
   "name": "python3"
  },
  "language_info": {
   "codemirror_mode": {
    "name": "ipython",
    "version": 3
   },
   "file_extension": ".py",
   "mimetype": "text/x-python",
   "name": "python",
   "nbconvert_exporter": "python",
   "pygments_lexer": "ipython3",
   "version": "3.9.5"
  },
  "toc": {
   "base_numbering": 1,
   "nav_menu": {},
   "number_sections": true,
   "sideBar": true,
   "skip_h1_title": true,
   "title_cell": "Table of Contents",
   "title_sidebar": "Contents",
   "toc_cell": false,
   "toc_position": {
    "height": "calc(100% - 180px)",
    "left": "10px",
    "top": "150px",
    "width": "165px"
   },
   "toc_section_display": true,
   "toc_window_display": true
  }
 },
 "nbformat": 4,
 "nbformat_minor": 2
}
