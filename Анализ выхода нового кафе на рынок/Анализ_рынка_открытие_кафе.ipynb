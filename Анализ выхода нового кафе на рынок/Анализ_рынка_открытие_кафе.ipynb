{
 "cells": [
  {
   "cell_type": "markdown",
   "metadata": {},
   "source": [
    "\n",
    "# Описание проекта\n",
    "Вы решили открыть небольшое кафе \n",
    "в Москве. Оно оригинальное — гостей должны обслуживать роботы. Проект многообещающий, но дорогой. Вместе с партнёрами вы решились обратиться к инвесторам. Их интересует текущее положение дел на рынке — сможете ли вы снискать популярность на долгое время, когда все зеваки насмотрятся на роботов-официантов.\n",
    "За исходные мы принимаем как данность пожелание заказчика :\n",
    "- фиксированный тип(рынок) - кафе\n",
    "- фиксированный формат - несетевой"
   ]
  },
  {
   "cell_type": "markdown",
   "metadata": {},
   "source": [
    "## Подготовка данных к анализу"
   ]
  },
  {
   "cell_type": "markdown",
   "metadata": {},
   "source": [
    "### Выгрузка данных"
   ]
  },
  {
   "cell_type": "code",
   "execution_count": 1,
   "metadata": {
    "scrolled": true
   },
   "outputs": [
    {
     "name": "stdout",
     "output_type": "stream",
     "text": [
      "<class 'pandas.core.frame.DataFrame'>\n",
      "RangeIndex: 15366 entries, 0 to 15365\n",
      "Data columns (total 6 columns):\n",
      " #   Column       Non-Null Count  Dtype \n",
      "---  ------       --------------  ----- \n",
      " 0   id           15366 non-null  int64 \n",
      " 1   object_name  15366 non-null  object\n",
      " 2   chain        15366 non-null  object\n",
      " 3   object_type  15366 non-null  object\n",
      " 4   address      15366 non-null  object\n",
      " 5   number       15366 non-null  int64 \n",
      "dtypes: int64(2), object(4)\n",
      "memory usage: 720.4+ KB\n"
     ]
    },
    {
     "data": {
      "text/html": [
       "<div>\n",
       "<style scoped>\n",
       "    .dataframe tbody tr th:only-of-type {\n",
       "        vertical-align: middle;\n",
       "    }\n",
       "\n",
       "    .dataframe tbody tr th {\n",
       "        vertical-align: top;\n",
       "    }\n",
       "\n",
       "    .dataframe thead th {\n",
       "        text-align: right;\n",
       "    }\n",
       "</style>\n",
       "<table border=\"1\" class=\"dataframe\">\n",
       "  <thead>\n",
       "    <tr style=\"text-align: right;\">\n",
       "      <th></th>\n",
       "      <th>id</th>\n",
       "      <th>object_name</th>\n",
       "      <th>chain</th>\n",
       "      <th>object_type</th>\n",
       "      <th>address</th>\n",
       "      <th>number</th>\n",
       "    </tr>\n",
       "  </thead>\n",
       "  <tbody>\n",
       "    <tr>\n",
       "      <th>0</th>\n",
       "      <td>151635</td>\n",
       "      <td>СМЕТАНА</td>\n",
       "      <td>нет</td>\n",
       "      <td>кафе</td>\n",
       "      <td>город Москва, улица Егора Абакумова, дом 9</td>\n",
       "      <td>48</td>\n",
       "    </tr>\n",
       "    <tr>\n",
       "      <th>1</th>\n",
       "      <td>77874</td>\n",
       "      <td>Родник</td>\n",
       "      <td>нет</td>\n",
       "      <td>кафе</td>\n",
       "      <td>город Москва, улица Талалихина, дом 2/1, корпус 1</td>\n",
       "      <td>35</td>\n",
       "    </tr>\n",
       "    <tr>\n",
       "      <th>2</th>\n",
       "      <td>24309</td>\n",
       "      <td>Кафе «Академия»</td>\n",
       "      <td>нет</td>\n",
       "      <td>кафе</td>\n",
       "      <td>город Москва, Абельмановская улица, дом 6</td>\n",
       "      <td>95</td>\n",
       "    </tr>\n",
       "    <tr>\n",
       "      <th>3</th>\n",
       "      <td>21894</td>\n",
       "      <td>ПИЦЦЕТОРИЯ</td>\n",
       "      <td>да</td>\n",
       "      <td>кафе</td>\n",
       "      <td>город Москва, Абрамцевская улица, дом 1</td>\n",
       "      <td>40</td>\n",
       "    </tr>\n",
       "    <tr>\n",
       "      <th>4</th>\n",
       "      <td>119365</td>\n",
       "      <td>Кафе «Вишневая метель»</td>\n",
       "      <td>нет</td>\n",
       "      <td>кафе</td>\n",
       "      <td>город Москва, Абрамцевская улица, дом 9, корпус 1</td>\n",
       "      <td>50</td>\n",
       "    </tr>\n",
       "  </tbody>\n",
       "</table>\n",
       "</div>"
      ],
      "text/plain": [
       "       id             object_name chain object_type  \\\n",
       "0  151635                 СМЕТАНА   нет        кафе   \n",
       "1   77874                  Родник   нет        кафе   \n",
       "2   24309         Кафе «Академия»   нет        кафе   \n",
       "3   21894              ПИЦЦЕТОРИЯ    да        кафе   \n",
       "4  119365  Кафе «Вишневая метель»   нет        кафе   \n",
       "\n",
       "                                             address  number  \n",
       "0         город Москва, улица Егора Абакумова, дом 9      48  \n",
       "1  город Москва, улица Талалихина, дом 2/1, корпус 1      35  \n",
       "2          город Москва, Абельмановская улица, дом 6      95  \n",
       "3            город Москва, Абрамцевская улица, дом 1      40  \n",
       "4  город Москва, Абрамцевская улица, дом 9, корпус 1      50  "
      ]
     },
     "metadata": {},
     "output_type": "display_data"
    }
   ],
   "source": [
    "# загружаем все библиотеки, нужные дял дальнейшей работы \n",
    "import pandas as pd\n",
    "import numpy as np\n",
    "import matplotlib.pyplot as plt\n",
    "import seaborn as sns\n",
    "import plotly.express as px\n",
    "from numpy import median\n",
    "\n",
    "df = pd.read_csv('/datasets/rest_data.csv')# импортируем файл csv c заведениями общественного питания Москвы\n",
    "df.info()# проверяем данные на форматы\n",
    "display(df.head())# выводим 5 топ строк\n"
   ]
  },
  {
   "cell_type": "markdown",
   "metadata": {},
   "source": [
    "#### Вывод\n",
    "     - выгрузила данные по заведениям общественного питания Москвы\n",
    "     - проверила заголовки и форматы"
   ]
  },
  {
   "cell_type": "markdown",
   "metadata": {},
   "source": [
    "### Проверка форматов, дубликатов и ошибок в данных"
   ]
  },
  {
   "cell_type": "code",
   "execution_count": 2,
   "metadata": {
    "scrolled": false
   },
   "outputs": [
    {
     "name": "stdout",
     "output_type": "stream",
     "text": [
      "\n",
      "Кол-во дубликатов:  0\n",
      "['СМЕТАНА' 'Родник' 'Кафе «Академия»' ... 'Бар Мята Lounge'\n",
      " 'Мята Lounge Октябрьская' 'Кальянная «Мята Lounge»']\n",
      "['нет' 'да']\n",
      "['кафе' 'столовая' 'закусочная' 'предприятие быстрого обслуживания'\n",
      " 'ресторан' 'кафетерий' 'буфет' 'бар' 'магазин (отдел кулинарии)']\n",
      "['город Москва, улица Егора Абакумова, дом 9'\n",
      " 'город Москва, улица Талалихина, дом 2/1, корпус 1'\n",
      " 'город Москва, Абельмановская улица, дом 6' ...\n",
      " 'город Москва, Салтыковская улица, дом 7Г'\n",
      " 'город Москва, Осенний бульвар, дом 9'\n",
      " 'город Москва, улица Новый Арбат, дом 13']\n"
     ]
    },
    {
     "data": {
      "text/plain": [
       "array(['СМЕТАНА', 'Родник', 'Кафе «Академия»', ..., 'Бар Мята Lounge',\n",
       "       'Мята Lounge Октябрьская', 'Кальянная «Мята Lounge»'], dtype=object)"
      ]
     },
     "metadata": {},
     "output_type": "display_data"
    }
   ],
   "source": [
    "# проверяем на наличие отрицательных значений\n",
    "\n",
    "def find_num_cols(df):\n",
    "    numerical_columns = [c for c in df.columns if df[c].dtype.name =='int64'] # выбираем только столбцы с количественными данными\t\n",
    "    return numerical_columns\n",
    "\n",
    "numeric = find_num_cols(df)# список столбцов с количественными данными присваивается переменной 'numeric'\n",
    "for i in numeric:\n",
    "    df[i] = df[i].abs()\n",
    "print()\n",
    "        \n",
    "# проверка на дубликаты\n",
    "print('Кол-во дубликатов: ',df.duplicated().sum())\n",
    "\n",
    "# проверяем категориальные столбцы на неочевидные пропукси и дубликаты\n",
    "def find_cat_cols(df):\n",
    "    categorial_columns = [c for c in df.columns if df[c].dtype.name == 'object'] #выбираем только столбцы с категориальными данными\n",
    "    return categorial_columns\n",
    "\n",
    "categorial = find_cat_cols(df)\n",
    "for i in categorial:\n",
    "    print(df[i].unique())      \n",
    "display(df['object_name'].unique())        "
   ]
  },
  {
   "cell_type": "markdown",
   "metadata": {},
   "source": [
    "#### Вывод\n",
    "     - проверка на дубликаты\n",
    "     - проверяем количественные данные на наличие отрицательных значений\n",
    "     - проверяем категориальные данные на наличие неочевидных  пропусков в дубликаты"
   ]
  },
  {
   "cell_type": "markdown",
   "metadata": {},
   "source": [
    "### Проверка на наличие выбросов и очистка данных"
   ]
  },
  {
   "cell_type": "code",
   "execution_count": 3,
   "metadata": {
    "scrolled": true
   },
   "outputs": [
    {
     "data": {
      "image/png": "[encoded data removed]",
      "text/plain": [
       "<Figure size 1440x1440 with 1 Axes>"
      ]
     },
     "metadata": {},
     "output_type": "display_data"
    }
   ],
   "source": [
    "# проверка на наличие выбросов\n",
    "# создаем boxplots по видам общественного питания\n",
    "plt.style.use('ggplot')\n",
    "plt.figure(figsize=(20,20))\n",
    "sns.boxplot(x='number',y='object_type',data=df, hue='chain')\n",
    "plt.xlim(0,400)\n",
    "plt.minorticks_on()\n",
    "plt.grid('both',which='major',\n",
    "        color = 'k', \n",
    "        linewidth = 0.5)\n",
    "plt.grid('both',which='minor', \n",
    "        color = 'k', \n",
    "        linestyle = ':')\n",
    "\n",
    "# судя по графикам,некоторые виды общественного питания обходятся без посадочных мест, это вполне возможно\n",
    "# причин рассматривать их как ошибки или выбросы нет\n"
   ]
  },
  {
   "cell_type": "code",
   "execution_count": 4,
   "metadata": {
    "scrolled": true
   },
   "outputs": [
    {
     "name": "stderr",
     "output_type": "stream",
     "text": [
      "/tmp/ipykernel_98/2638874023.py:23: SettingWithCopyWarning: \n",
      "A value is trying to be set on a copy of a slice from a DataFrame.\n",
      "Try using .loc[row_indexer,col_indexer] = value instead\n",
      "\n",
      "See the caveats in the documentation: https://pandas.pydata.org/pandas-docs/stable/user_guide/indexing.html#returning-a-view-versus-a-copy\n",
      "  df_nochain['slicer'] = df_nochain.apply(slice_nochain,axis=1)\n",
      "/tmp/ipykernel_98/2638874023.py:24: SettingWithCopyWarning: \n",
      "A value is trying to be set on a copy of a slice from a DataFrame.\n",
      "Try using .loc[row_indexer,col_indexer] = value instead\n",
      "\n",
      "See the caveats in the documentation: https://pandas.pydata.org/pandas-docs/stable/user_guide/indexing.html#returning-a-view-versus-a-copy\n",
      "  df_chain['slicer'] = df_chain.apply(slice_chain,axis=1)\n"
     ]
    },
    {
     "data": {
      "text/html": [
       "<div>\n",
       "<style scoped>\n",
       "    .dataframe tbody tr th:only-of-type {\n",
       "        vertical-align: middle;\n",
       "    }\n",
       "\n",
       "    .dataframe tbody tr th {\n",
       "        vertical-align: top;\n",
       "    }\n",
       "\n",
       "    .dataframe thead th {\n",
       "        text-align: right;\n",
       "    }\n",
       "</style>\n",
       "<table border=\"1\" class=\"dataframe\">\n",
       "  <thead>\n",
       "    <tr style=\"text-align: right;\">\n",
       "      <th></th>\n",
       "      <th>id</th>\n",
       "      <th>object_name</th>\n",
       "      <th>chain</th>\n",
       "      <th>object_type</th>\n",
       "      <th>address</th>\n",
       "      <th>number</th>\n",
       "    </tr>\n",
       "  </thead>\n",
       "  <tbody>\n",
       "    <tr>\n",
       "      <th>0</th>\n",
       "      <td>151635</td>\n",
       "      <td>СМЕТАНА</td>\n",
       "      <td>нет</td>\n",
       "      <td>кафе</td>\n",
       "      <td>город Москва, улица Егора Абакумова, дом 9</td>\n",
       "      <td>48</td>\n",
       "    </tr>\n",
       "    <tr>\n",
       "      <th>1</th>\n",
       "      <td>77874</td>\n",
       "      <td>Родник</td>\n",
       "      <td>нет</td>\n",
       "      <td>кафе</td>\n",
       "      <td>город Москва, улица Талалихина, дом 2/1, корпус 1</td>\n",
       "      <td>35</td>\n",
       "    </tr>\n",
       "    <tr>\n",
       "      <th>2</th>\n",
       "      <td>24309</td>\n",
       "      <td>Кафе «Академия»</td>\n",
       "      <td>нет</td>\n",
       "      <td>кафе</td>\n",
       "      <td>город Москва, Абельмановская улица, дом 6</td>\n",
       "      <td>95</td>\n",
       "    </tr>\n",
       "    <tr>\n",
       "      <th>4</th>\n",
       "      <td>119365</td>\n",
       "      <td>Кафе «Вишневая метель»</td>\n",
       "      <td>нет</td>\n",
       "      <td>кафе</td>\n",
       "      <td>город Москва, Абрамцевская улица, дом 9, корпус 1</td>\n",
       "      <td>50</td>\n",
       "    </tr>\n",
       "    <tr>\n",
       "      <th>5</th>\n",
       "      <td>27429</td>\n",
       "      <td>СТОЛ. ПРИ ГОУ СОШ № 1051</td>\n",
       "      <td>нет</td>\n",
       "      <td>столовая</td>\n",
       "      <td>город Москва, Абрамцевская улица, дом 15, корп...</td>\n",
       "      <td>240</td>\n",
       "    </tr>\n",
       "  </tbody>\n",
       "</table>\n",
       "</div>"
      ],
      "text/plain": [
       "       id               object_name chain object_type  \\\n",
       "0  151635                   СМЕТАНА   нет        кафе   \n",
       "1   77874                    Родник   нет        кафе   \n",
       "2   24309           Кафе «Академия»   нет        кафе   \n",
       "4  119365    Кафе «Вишневая метель»   нет        кафе   \n",
       "5   27429  СТОЛ. ПРИ ГОУ СОШ № 1051   нет    столовая   \n",
       "\n",
       "                                             address  number  \n",
       "0         город Москва, улица Егора Абакумова, дом 9      48  \n",
       "1  город Москва, улица Талалихина, дом 2/1, корпус 1      35  \n",
       "2          город Москва, Абельмановская улица, дом 6      95  \n",
       "4  город Москва, Абрамцевская улица, дом 9, корпус 1      50  \n",
       "5  город Москва, Абрамцевская улица, дом 15, корп...     240  "
      ]
     },
     "metadata": {},
     "output_type": "display_data"
    }
   ],
   "source": [
    "# очищаем данные от выбросов:\n",
    "# для несетей\n",
    "limits_nochain ={\"кафе\":95,\"столовая\":395,\"закусочная\":20,\"предприятие быстрого обслуживания\":18,\"ресторан\":180,\n",
    "                 \"кафетерий\":25,\"буфет\":170 ,\"бар\":95,\"магазин (отдел кулинарии)\":10}\n",
    "def slice_nochain(row):\n",
    "    for key in limits_nochain:\n",
    "        if row['object_type']== key:\n",
    "            if row['number']<=limits_nochain[key]:\n",
    "                return 'ok'\n",
    "            \n",
    "# для сетей           \n",
    "limits_chain ={\"кафе\":120,\"столовая\":160,\"закусочная\":60,\"предприятие быстрого обслуживания\":118,\"ресторан\":265,\n",
    "                  \"кафетерий\":35,\"буфет\":20 ,\"бар\":150,\"магазин (отдел кулинарии)\":30}\n",
    "def slice_chain(row):\n",
    "    for key in limits_chain:\n",
    "        if row['object_type']== key:\n",
    "            if row['number']<=limits_chain[key]:\n",
    "                return 'ok' \n",
    "\n",
    "# создание срезов,очищенных от выбросов \n",
    "df_nochain = df.query('chain==\"нет\"')\n",
    "df_chain = df.query('chain==\"да\"')\n",
    "df_nochain['slicer'] = df_nochain.apply(slice_nochain,axis=1)    \n",
    "df_chain['slicer'] = df_chain.apply(slice_chain,axis=1)\n",
    "\n",
    "frames = [df_nochain,df_chain]\n",
    "df_actual = pd.concat(frames)\n",
    "df_actual = df_actual.query('slicer==\"ok\"')\n",
    "df_actual = df_actual.drop(columns=['slicer'])\n",
    "display(df_actual.head())"
   ]
  },
  {
   "cell_type": "markdown",
   "metadata": {},
   "source": [
    "#### Вывод\n",
    "     - проверили исходные данные на наличие выбросов при помощи ящика с усами в  разрезе типов общественного питания\n",
    "     - произвели очистку"
   ]
  },
  {
   "cell_type": "markdown",
   "metadata": {},
   "source": [
    "## Анализ данных"
   ]
  },
  {
   "cell_type": "markdown",
   "metadata": {},
   "source": [
    "### Соотношение видов объектов общественного питания по количеству"
   ]
  },
  {
   "cell_type": "code",
   "execution_count": 5,
   "metadata": {
    "scrolled": false
   },
   "outputs": [
    {
     "data": {
      "text/plain": [
       "<AxesSubplot:title={'center':'Соотношение видов объектов общественного питания по количеству'}>"
      ]
     },
     "execution_count": 5,
     "metadata": {},
     "output_type": "execute_result"
    },
    {
     "data": {
      "image/png": "[encoded data removed]",
      "text/plain": [
       "<Figure size 864x864 with 1 Axes>"
      ]
     },
     "metadata": {},
     "output_type": "display_data"
    }
   ],
   "source": [
    "# соотношение видов объектов общественного питания по количеству\n",
    "df_actual['object_type'].value_counts().sort_values().plot(kind='barh',figsize=(12,12),title='Соотношение видов объектов общественного питания по количеству')\n"
   ]
  },
  {
   "cell_type": "markdown",
   "metadata": {},
   "source": [
    "#### Вывод\n",
    "     - Самый распространенный вид общественного питания - кафе. Далее идут в порядке убывания с значительным отрывом:\n",
    "     - столовые, рестораны, предприятиы быстрого обслуживания"
   ]
  },
  {
   "cell_type": "markdown",
   "metadata": {},
   "source": [
    "### Cоотношение сетевых и несетевых заведений по количеству"
   ]
  },
  {
   "cell_type": "code",
   "execution_count": 6,
   "metadata": {},
   "outputs": [
    {
     "data": {
      "text/plain": [
       "<matplotlib.legend.Legend at 0x7fe01ac79b80>"
      ]
     },
     "execution_count": 6,
     "metadata": {},
     "output_type": "execute_result"
    },
    {
     "data": {
      "image/png": "[encoded data removed]",
      "text/plain": [
       "<Figure size 864x864 with 1 Axes>"
      ]
     },
     "metadata": {},
     "output_type": "display_data"
    }
   ],
   "source": [
    "# соотношение сетевых и несетевых заведений по количеству\n",
    "plt.style.use('ggplot') # выбираем стиль из библиотеки matplotlip\n",
    "\n",
    "# строим кругову диаграмму с долями сетевых и нет заведений\n",
    "df_actual['chain'].value_counts().plot(kind='pie',figsize=(12,12),autopct='%1.1f%%',title='Соотношение сетевых и несетевых заведений')\n",
    "plt.legend()"
   ]
  },
  {
   "cell_type": "markdown",
   "metadata": {},
   "source": [
    "#### Вывод\n",
    "     - Сетевые заведения занимают лишь 19% от общего числа заведений Москвы."
   ]
  },
  {
   "cell_type": "markdown",
   "metadata": {},
   "source": [
    "### Для какого вида объекта общественного питания характерно сетевое распространение"
   ]
  },
  {
   "cell_type": "code",
   "execution_count": 7,
   "metadata": {
    "scrolled": false
   },
   "outputs": [
    {
     "data": {
      "text/plain": [
       "<AxesSubplot:title={'center':'Доля сетевых и несетевых заведений по каждому типу общественного питания'}, xlabel='object_type'>"
      ]
     },
     "execution_count": 7,
     "metadata": {},
     "output_type": "execute_result"
    },
    {
     "data": {
      "image/png": "[encoded data removed]",
      "text/plain": [
       "<Figure size 1080x432 with 1 Axes>"
      ]
     },
     "metadata": {},
     "output_type": "display_data"
    }
   ],
   "source": [
    "# для какого вида объекта общественного питания характерно сетевое распространение\n",
    "\n",
    "# cтроим сводную таблицу с данными доли сети и несетей от общего кол-ва точек по каждому виду\n",
    "non_chain = df_actual.pivot_table(index='object_type',columns=['chain'],values='id',aggfunc='count').reset_index()\n",
    "\n",
    "non_chain.columns = ['object_type','chain','nonchain']\n",
    "non_chain['total'] = non_chain['chain']  + non_chain['nonchain']\n",
    "non_chain['nonchain_share'] = round(non_chain['nonchain']/non_chain['total']*100,2)\n",
    "non_chain['chain_share'] = round(non_chain['chain']/non_chain['total']*100,2)\n",
    "\n",
    "non_chain_shares = non_chain[['object_type','nonchain_share','chain_share',]]\n",
    "# строим барплот с данными по доли сетей для каждого вида общественного питания\n",
    "non_chain_shares.plot.bar(x='object_type',rot=45,figsize=(15,6),title='Доля сетевых и несетевых заведений по каждому типу общественного питания')\n"
   ]
  },
  {
   "cell_type": "markdown",
   "metadata": {},
   "source": [
    "#### Вывод\n",
    "     Сетевое распространение характерно для предприятий быстрого обслуживания, далее с небольшим отличие по доли сетей идут          магазины(отдел кулинария),ресторанов и кафе"
   ]
  },
  {
   "cell_type": "markdown",
   "metadata": {},
   "source": [
    "### Сетевые заведения: много заведений с небольшим числом посадочных мест в каждом или мало заведений с большим количеством посадочных мест?"
   ]
  },
  {
   "cell_type": "code",
   "execution_count": 8,
   "metadata": {
    "scrolled": false
   },
   "outputs": [
    {
     "data": {
      "text/plain": [
       "Text(0.5, 1.0, 'Среднее число посадочных мест в сетевых и несетевых форматах')"
      ]
     },
     "execution_count": 8,
     "metadata": {},
     "output_type": "execute_result"
    },
    {
     "data": {
      "image/png": "[encoded data removed]",
      "text/plain": [
       "<Figure size 720x576 with 1 Axes>"
      ]
     },
     "metadata": {},
     "output_type": "display_data"
    }
   ],
   "source": [
    "# Выбираем для анализа  рынки(типы объектов общественного питания)схожие по качеству с целевым (кафе) рынком:\n",
    "\n",
    "# 1.востребованности объектов питания (пункт 2.1). Кроме того,совсем маленькие рынки не будет показательны для соотношения.\n",
    "# 2.миксу сетевых и несетевых форматов (пункт 2.2) с кафе.\n",
    "\n",
    "# Анализируем соотношение параметра-среднее кол-во посадочных мест для 2-х форматов сетевых и несетевых на примере выбранных\n",
    "# рынков(типов) отдельно для каждого типа.Важно убедиться, что на соотношение не оказала специфика параметра \n",
    "# для данного типа общественного питания. Например, 1 тип имеют очень высокие значения данного параметра, а прочие\n",
    "# два типа-нет. Тогда если данный тип будет в большей мере представлен в одном из форматов нежели в другом, то это исказит распределение.\n",
    "# + нам нужно убедиться на нескольких рынках, что соотношение обусловлено именно форматом(сетевой/нет) и сохраняется для всех рынков.\n",
    "\n",
    "# фильтруем исходные данные по выбранным рынкам\n",
    "df_actual_type = df_actual.query('object_type in (\"кафе\",\"ресторан\")')\n",
    "\n",
    "# строим бохплоты\n",
    "plt.figure(figsize=(10,8))\n",
    "plt.grid()\n",
    "plt.minorticks_on()\n",
    "plt.grid('both',which='major',\n",
    "        color = 'k', \n",
    "        linewidth = 0.5)\n",
    "plt.grid('both',which='minor', \n",
    "        color = 'k', \n",
    "        linestyle = ':')\n",
    "\n",
    "plt.xlim(0,400)\n",
    "\n",
    "sns.boxplot(x='number',y='object_type', data=df_actual_type, hue='chain').set_title('Среднее число посадочных мест в сетевых и несетевых форматах')"
   ]
  },
  {
   "cell_type": "code",
   "execution_count": 9,
   "metadata": {},
   "outputs": [
    {
     "data": {
      "image/png": "[encoded data removed]",
      "text/plain": [
       "<Figure size 720x432 with 1 Axes>"
      ]
     },
     "metadata": {},
     "output_type": "display_data"
    },
    {
     "data": {
      "image/png": "[encoded data removed]",
      "text/plain": [
       "<Figure size 720x432 with 1 Axes>"
      ]
     },
     "metadata": {},
     "output_type": "display_data"
    }
   ],
   "source": [
    "\n",
    "parametres= df_actual['object_type'].unique()\n",
    "parametres = ['кафе','ресторан'] # выделяем виды общественного питания, где представлены сети\n",
    "\n",
    "# строим гистограммы по 3-м видам общественного питания в сравнении сетевых и несетевых точек\n",
    "for parametr in parametres:\n",
    "    df_number = df_actual[df_actual['object_type']==parametr].pivot_table(index=['id','chain'], values='number',aggfunc='median').reset_index(1)\n",
    "    df_number_chain = df_number[df_number['chain']=='да']\n",
    "    df_number_nochain = df_number[df_number['chain']=='нет']\n",
    "    ax1=df_number_nochain.plot(kind='hist',y='number',alpha=0.5,bins=10,label='Среднее вместимость заведения по Несетям')\n",
    "    df_number_chain.plot(kind='hist',y='number',alpha=0.5,bins=10,figsize=(10,6),label='Среднее вместимость заведения по сетям',ax=ax1)\n",
    "    plt.title(parametr)\n",
    "    plt.show()\n"
   ]
  },
  {
   "cell_type": "markdown",
   "metadata": {},
   "source": [
    "#### Вывод\n",
    "     - Проведенный анализ позволяет сделать вывод, сетевой формат представлен меньшим кол-вом заведений с большим кол-вом            посадочных мест нежели несетевой"
   ]
  },
  {
   "cell_type": "markdown",
   "metadata": {},
   "source": [
    "### Среднее кол-во посадочных мест по каждому виду общественного  питания"
   ]
  },
  {
   "cell_type": "code",
   "execution_count": 10,
   "metadata": {
    "scrolled": false
   },
   "outputs": [
    {
     "data": {
      "text/plain": [
       "Text(0.5, 1.0, 'Среднее кол-во посадочных мест по типам общественного питания')"
      ]
     },
     "execution_count": 10,
     "metadata": {},
     "output_type": "execute_result"
    },
    {
     "data": {
      "image/png": "[encoded data removed]",
      "text/plain": [
       "<Figure size 720x360 with 1 Axes>"
      ]
     },
     "metadata": {},
     "output_type": "display_data"
    }
   ],
   "source": [
    "# среднее кол-во посадочных мест для каждого вида общественного питания\n",
    "\n",
    "#wo_number = len(df[(df['object_type']=='закусочная')&(df['number']==0)])\n",
    "#all_number = len(df[df['object_type']=='закусочная'])\n",
    "#print(wo_number/all_number)# почти 50% закусочных без мест\n",
    "\n",
    "# строим график распределения среднего кол-ва посадочных мест\n",
    "plt.figure(figsize=(10,5))\n",
    "plt.xlim=(0,100)\n",
    "plt.grid()\n",
    "df_actual = df_actual.sort_values(by='number',ascending=False)\n",
    "sns.barplot(x='number', y='object_type',data=df_actual,hue='chain', estimator=median).set_title('Среднее кол-во посадочных мест по типам общественного питания')\n",
    "\n"
   ]
  },
  {
   "cell_type": "markdown",
   "metadata": {},
   "source": [
    "#### Выводы\n",
    "    - Среднее кол-во посадочных мест в несетевых  кофейнях 30 против 35 в сетевых\n",
    "    - По кафе наименьший разрыв между сетевыми и нет заведениями\n",
    "    - Наибольшее кол-во посадочных мест среди на заведение предоставляют столовые.\n",
    "    - Причем, в этом сегменте по кол-ву посадочных мест лидирует именно несетевой вормат, так как данный формат является           господствующим для этого типа, а сетевой фактически не представлен.\n",
    "    -Это лишний раз подтверждает влияние доли на соотношение характеристик форматов."
   ]
  },
  {
   "cell_type": "markdown",
   "metadata": {},
   "source": [
    "### Выделение информации об улице из address"
   ]
  },
  {
   "cell_type": "code",
   "execution_count": 11,
   "metadata": {},
   "outputs": [
    {
     "data": {
      "text/html": [
       "<div>\n",
       "<style scoped>\n",
       "    .dataframe tbody tr th:only-of-type {\n",
       "        vertical-align: middle;\n",
       "    }\n",
       "\n",
       "    .dataframe tbody tr th {\n",
       "        vertical-align: top;\n",
       "    }\n",
       "\n",
       "    .dataframe thead th {\n",
       "        text-align: right;\n",
       "    }\n",
       "</style>\n",
       "<table border=\"1\" class=\"dataframe\">\n",
       "  <thead>\n",
       "    <tr style=\"text-align: right;\">\n",
       "      <th></th>\n",
       "      <th>id</th>\n",
       "      <th>object_name</th>\n",
       "      <th>chain</th>\n",
       "      <th>object_type</th>\n",
       "      <th>address</th>\n",
       "      <th>number</th>\n",
       "      <th>street</th>\n",
       "      <th>street_new</th>\n",
       "    </tr>\n",
       "  </thead>\n",
       "  <tbody>\n",
       "    <tr>\n",
       "      <th>2446</th>\n",
       "      <td>28677</td>\n",
       "      <td>ГП КП МГАИ</td>\n",
       "      <td>нет</td>\n",
       "      <td>столовая</td>\n",
       "      <td>город Москва, улица Константина Царёва, дом 16</td>\n",
       "      <td>395</td>\n",
       "      <td>[город Москва,  улица Константина Царёва,  дом 16]</td>\n",
       "      <td>улица Константина Царёва</td>\n",
       "    </tr>\n",
       "    <tr>\n",
       "      <th>8568</th>\n",
       "      <td>136431</td>\n",
       "      <td>Столовая на базе ГБОУ Школа № 2083. ДО «Журавушка»</td>\n",
       "      <td>нет</td>\n",
       "      <td>столовая</td>\n",
       "      <td>город Москва, поселение Рязановское, посёлок Фабрики имени 1 Мая, дом 45А</td>\n",
       "      <td>371</td>\n",
       "      <td>[город Москва,  поселение Рязановское,  посёлок Фабрики имени 1 Мая,  дом 45А]</td>\n",
       "      <td>None</td>\n",
       "    </tr>\n",
       "    <tr>\n",
       "      <th>6228</th>\n",
       "      <td>29451</td>\n",
       "      <td>ГОУ ЦО № 2006</td>\n",
       "      <td>нет</td>\n",
       "      <td>столовая</td>\n",
       "      <td>город Москва, улица Грина, дом 18, корпус 3, строение 1</td>\n",
       "      <td>362</td>\n",
       "      <td>[город Москва,  улица Грина,  дом 18,  корпус 3,  строение 1]</td>\n",
       "      <td>улица Грина</td>\n",
       "    </tr>\n",
       "    <tr>\n",
       "      <th>7353</th>\n",
       "      <td>28989</td>\n",
       "      <td>Столовая «Школа 983 КДП»</td>\n",
       "      <td>нет</td>\n",
       "      <td>столовая</td>\n",
       "      <td>город Москва, Кантемировская улица, дом 22, корпус 4</td>\n",
       "      <td>360</td>\n",
       "      <td>[город Москва,  Кантемировская улица,  дом 22,  корпус 4]</td>\n",
       "      <td>Кантемировская улица</td>\n",
       "    </tr>\n",
       "    <tr>\n",
       "      <th>4790</th>\n",
       "      <td>28912</td>\n",
       "      <td>СТОЛОВАЯ ПРИ ГОУ СОШ № 1040</td>\n",
       "      <td>нет</td>\n",
       "      <td>столовая</td>\n",
       "      <td>город Москва, Батайский проезд, дом 47</td>\n",
       "      <td>360</td>\n",
       "      <td>[город Москва,  Батайский проезд,  дом 47]</td>\n",
       "      <td>Батайский проезд</td>\n",
       "    </tr>\n",
       "  </tbody>\n",
       "</table>\n",
       "</div>"
      ],
      "text/plain": [
       "          id                                         object_name chain  \\\n",
       "2446   28677                                          ГП КП МГАИ   нет   \n",
       "8568  136431  Столовая на базе ГБОУ Школа № 2083. ДО «Журавушка»   нет   \n",
       "6228   29451                                       ГОУ ЦО № 2006   нет   \n",
       "7353   28989                            Столовая «Школа 983 КДП»   нет   \n",
       "4790   28912                         СТОЛОВАЯ ПРИ ГОУ СОШ № 1040   нет   \n",
       "\n",
       "     object_type  \\\n",
       "2446    столовая   \n",
       "8568    столовая   \n",
       "6228    столовая   \n",
       "7353    столовая   \n",
       "4790    столовая   \n",
       "\n",
       "                                                                        address  \\\n",
       "2446                             город Москва, улица Константина Царёва, дом 16   \n",
       "8568  город Москва, поселение Рязановское, посёлок Фабрики имени 1 Мая, дом 45А   \n",
       "6228                    город Москва, улица Грина, дом 18, корпус 3, строение 1   \n",
       "7353                       город Москва, Кантемировская улица, дом 22, корпус 4   \n",
       "4790                                     город Москва, Батайский проезд, дом 47   \n",
       "\n",
       "      number  \\\n",
       "2446     395   \n",
       "8568     371   \n",
       "6228     362   \n",
       "7353     360   \n",
       "4790     360   \n",
       "\n",
       "                                                                              street  \\\n",
       "2446                              [город Москва,  улица Константина Царёва,  дом 16]   \n",
       "8568  [город Москва,  поселение Рязановское,  посёлок Фабрики имени 1 Мая,  дом 45А]   \n",
       "6228                   [город Москва,  улица Грина,  дом 18,  корпус 3,  строение 1]   \n",
       "7353                       [город Москва,  Кантемировская улица,  дом 22,  корпус 4]   \n",
       "4790                                      [город Москва,  Батайский проезд,  дом 47]   \n",
       "\n",
       "                     street_new  \n",
       "2446   улица Константина Царёва  \n",
       "8568                       None  \n",
       "6228                улица Грина  \n",
       "7353       Кантемировская улица  \n",
       "4790           Батайский проезд  "
      ]
     },
     "metadata": {},
     "output_type": "display_data"
    }
   ],
   "source": [
    "# выделите в отдельный столбец информацию об улице из столбца address \n",
    "df_actual['street'] = df_actual['address'].str.split(',')\n",
    "marks= ['улица','шоссе','набережная','проспект','проезд']\n",
    "def check(x):\n",
    "    for i in range(len(x)):\n",
    "        try:\n",
    "            for j in range(len(marks)):\n",
    "                if marks[j] in  x[i]:\n",
    "                    return x[i]\n",
    "        except:\n",
    "            pass\n",
    "        \n",
    "df_actual['street_new'] = df_actual['street'].apply(check)\n",
    "\n",
    "pd.set_option('max_colwidth', 300)# сипользуем, чтобы расширить столбцы и увидеть первоначальный адрес улицы\n",
    "display(df_actual.head())\n"
   ]
  },
  {
   "cell_type": "code",
   "execution_count": 12,
   "metadata": {},
   "outputs": [
    {
     "data": {
      "text/plain": [
       " Профсоюзная улица           173\n",
       " проспект Мира               170\n",
       " Ленинградский проспект      163\n",
       " Пресненская набережная      155\n",
       " Варшавское шоссе            150\n",
       "                            ... \n",
       " улица Крутицкий Вал           1\n",
       " Стрелецкая улица              1\n",
       " Стандартная улица             1\n",
       " Карельский бульвар            1\n",
       " 1-й Люсиновский переулок      1\n",
       "Name: street_clean, Length: 2114, dtype: int64"
      ]
     },
     "metadata": {},
     "output_type": "display_data"
    }
   ],
   "source": [
    "# выделите в отдельный столбец информацию об улице из столбца address \n",
    "df_actual['street'] = df_actual['address'].str.split(',')\n",
    "df_actual['street_x'] = df_actual['street'].str[1]\n",
    "df_actual['street_y'] = df_actual['street'].str[2]\n",
    "\n",
    "#display(df_actual['street_x'].value_counts())# смотрим полученные улицы,обнаруживаем оставшийся город\n",
    "\n",
    "# проверка, почему выпадает Зеленоград в адресах\n",
    "#for i in range(len(df)):\n",
    "    #if 'Зеленоград' in df['address'][i]:\n",
    "       # print(df['address'][i])\n",
    "        \n",
    "# прописываем функцию, чтобы сравнить адреса в двух столбцах и выбрать тот, что без города\n",
    "def clean(row):\n",
    "    if 'город' in row['street_x']:\n",
    "        return row['street_y']\n",
    "    elif 'поселение' in row['street_x']:\n",
    "        return row['street_y']\n",
    "    else:\n",
    "        return row['street_x']\n",
    "    \n",
    "df_actual['street_clean'] = df_actual.apply(clean,axis=1)\n",
    "\n",
    "df_actual = df_actual.drop(columns=['street_x','street','street_y'])\n",
    "\n",
    "display(df_actual['street_clean'].value_counts())\n"
   ]
  },
  {
   "cell_type": "markdown",
   "metadata": {},
   "source": [
    "Комментарии к выбранному методу:\n",
    "\n",
    "Исходим из того, что нам в дальнейшем нужно будет определить топовые улицы либо улицы с 1 заведением.\n",
    "    \n",
    "Первые я просмотрела,последние, единичные, вряд ли туда попадет целый город или поселок. Чтобы выделить слова-маркеры тоже нужно понять-какие именно. По факту нас интересует не только улица с названием \"улица\". В целом таких маркеров предположительно меньше, чем маркеров с адресами(улицами).\n",
    "    \n",
    "Для случаев, что я обнаружила, просмотрев те, что с большим числов заведенийгде-то до 45 штук, таких как Зеленоград и поселок, я использовала apply. \n"
   ]
  },
  {
   "cell_type": "markdown",
   "metadata": {},
   "source": [
    "#### Вывод\n",
    "  - Данные об улице расположения заведения общественного питания выделены в отдельный столбец и отсортированы по убыванию"
   ]
  },
  {
   "cell_type": "markdown",
   "metadata": {},
   "source": [
    "### Топ-10 улиц по количеству объектов общественного питания"
   ]
  },
  {
   "cell_type": "code",
   "execution_count": 13,
   "metadata": {},
   "outputs": [
    {
     "data": {
      "text/html": [
       "<div>\n",
       "<style scoped>\n",
       "    .dataframe tbody tr th:only-of-type {\n",
       "        vertical-align: middle;\n",
       "    }\n",
       "\n",
       "    .dataframe tbody tr th {\n",
       "        vertical-align: top;\n",
       "    }\n",
       "\n",
       "    .dataframe thead th {\n",
       "        text-align: right;\n",
       "    }\n",
       "</style>\n",
       "<table border=\"1\" class=\"dataframe\">\n",
       "  <thead>\n",
       "    <tr style=\"text-align: right;\">\n",
       "      <th></th>\n",
       "      <th>street_clean</th>\n",
       "      <th>count</th>\n",
       "    </tr>\n",
       "  </thead>\n",
       "  <tbody>\n",
       "    <tr>\n",
       "      <th>0</th>\n",
       "      <td>Профсоюзная улица</td>\n",
       "      <td>173</td>\n",
       "    </tr>\n",
       "    <tr>\n",
       "      <th>1</th>\n",
       "      <td>проспект Мира</td>\n",
       "      <td>170</td>\n",
       "    </tr>\n",
       "    <tr>\n",
       "      <th>2</th>\n",
       "      <td>Ленинградский проспект</td>\n",
       "      <td>163</td>\n",
       "    </tr>\n",
       "    <tr>\n",
       "      <th>3</th>\n",
       "      <td>Пресненская набережная</td>\n",
       "      <td>155</td>\n",
       "    </tr>\n",
       "    <tr>\n",
       "      <th>4</th>\n",
       "      <td>Варшавское шоссе</td>\n",
       "      <td>150</td>\n",
       "    </tr>\n",
       "    <tr>\n",
       "      <th>5</th>\n",
       "      <td>Ленинский проспект</td>\n",
       "      <td>137</td>\n",
       "    </tr>\n",
       "    <tr>\n",
       "      <th>6</th>\n",
       "      <td>проспект Вернадского</td>\n",
       "      <td>120</td>\n",
       "    </tr>\n",
       "    <tr>\n",
       "      <th>7</th>\n",
       "      <td>Кутузовский проспект</td>\n",
       "      <td>102</td>\n",
       "    </tr>\n",
       "    <tr>\n",
       "      <th>8</th>\n",
       "      <td>Каширское шоссе</td>\n",
       "      <td>101</td>\n",
       "    </tr>\n",
       "    <tr>\n",
       "      <th>9</th>\n",
       "      <td>Ходынский бульвар</td>\n",
       "      <td>100</td>\n",
       "    </tr>\n",
       "  </tbody>\n",
       "</table>\n",
       "</div>"
      ],
      "text/plain": [
       "             street_clean  count\n",
       "0       Профсоюзная улица    173\n",
       "1           проспект Мира    170\n",
       "2  Ленинградский проспект    163\n",
       "3  Пресненская набережная    155\n",
       "4        Варшавское шоссе    150\n",
       "5      Ленинский проспект    137\n",
       "6    проспект Вернадского    120\n",
       "7    Кутузовский проспект    102\n",
       "8         Каширское шоссе    101\n",
       "9       Ходынский бульвар    100"
      ]
     },
     "metadata": {},
     "output_type": "display_data"
    }
   ],
   "source": [
    "# воспользуйтесь внешней информацией и ответьте на вопрос — в каких районах Москвы находятся эти улицы\n",
    "\n",
    "# топ 10 улиц по кол-ву объектов общественного питания\n",
    "df_street_top = df_actual['street_clean'].value_counts().head(10).reset_index()\n",
    "df_street_top.columns = ['street_clean','count'] # переименовываем столбцы\n",
    "df_street_top['street_clean'] = df_street_top['street_clean'].str.lstrip()# удаляем ненужные пропусков\n",
    "display(df_street_top)\n"
   ]
  },
  {
   "cell_type": "code",
   "execution_count": 14,
   "metadata": {},
   "outputs": [
    {
     "data": {
      "text/html": [
       "<div>\n",
       "<style scoped>\n",
       "    .dataframe tbody tr th:only-of-type {\n",
       "        vertical-align: middle;\n",
       "    }\n",
       "\n",
       "    .dataframe tbody tr th {\n",
       "        vertical-align: top;\n",
       "    }\n",
       "\n",
       "    .dataframe thead th {\n",
       "        text-align: right;\n",
       "    }\n",
       "</style>\n",
       "<table border=\"1\" class=\"dataframe\">\n",
       "  <thead>\n",
       "    <tr style=\"text-align: right;\">\n",
       "      <th></th>\n",
       "      <th>street_clean</th>\n",
       "      <th>area</th>\n",
       "    </tr>\n",
       "  </thead>\n",
       "  <tbody>\n",
       "    <tr>\n",
       "      <th>0</th>\n",
       "      <td>Выставочный переулок</td>\n",
       "      <td>Пресненский район</td>\n",
       "    </tr>\n",
       "    <tr>\n",
       "      <th>1</th>\n",
       "      <td>улица Гашека</td>\n",
       "      <td>Пресненский район</td>\n",
       "    </tr>\n",
       "    <tr>\n",
       "      <th>2</th>\n",
       "      <td>Большая Никитская улица</td>\n",
       "      <td>Пресненский район</td>\n",
       "    </tr>\n",
       "    <tr>\n",
       "      <th>3</th>\n",
       "      <td>Глубокий переулок</td>\n",
       "      <td>Пресненский район</td>\n",
       "    </tr>\n",
       "    <tr>\n",
       "      <th>4</th>\n",
       "      <td>Большой Гнездниковский переулок</td>\n",
       "      <td>Пресненский район</td>\n",
       "    </tr>\n",
       "    <tr>\n",
       "      <th>...</th>\n",
       "      <td>...</td>\n",
       "      <td>...</td>\n",
       "    </tr>\n",
       "    <tr>\n",
       "      <th>4393</th>\n",
       "      <td>Вознесенский проезд</td>\n",
       "      <td>Пресненский район</td>\n",
       "    </tr>\n",
       "    <tr>\n",
       "      <th>4394</th>\n",
       "      <td>Волков переулок</td>\n",
       "      <td>Пресненский район</td>\n",
       "    </tr>\n",
       "    <tr>\n",
       "      <th>4395</th>\n",
       "      <td>Поварская улица</td>\n",
       "      <td>Пресненский район</td>\n",
       "    </tr>\n",
       "    <tr>\n",
       "      <th>4396</th>\n",
       "      <td>Кудринская площадь</td>\n",
       "      <td>Пресненский район</td>\n",
       "    </tr>\n",
       "    <tr>\n",
       "      <th>4397</th>\n",
       "      <td>Вспольный переулок</td>\n",
       "      <td>Пресненский район</td>\n",
       "    </tr>\n",
       "  </tbody>\n",
       "</table>\n",
       "<p>4398 rows × 2 columns</p>\n",
       "</div>"
      ],
      "text/plain": [
       "                         street_clean               area\n",
       "0                Выставочный переулок  Пресненский район\n",
       "1                        улица Гашека  Пресненский район\n",
       "2             Большая Никитская улица  Пресненский район\n",
       "3                   Глубокий переулок  Пресненский район\n",
       "4     Большой Гнездниковский переулок  Пресненский район\n",
       "...                               ...                ...\n",
       "4393              Вознесенский проезд  Пресненский район\n",
       "4394                  Волков переулок  Пресненский район\n",
       "4395                  Поварская улица  Пресненский район\n",
       "4396               Кудринская площадь  Пресненский район\n",
       "4397               Вспольный переулок  Пресненский район\n",
       "\n",
       "[4398 rows x 2 columns]"
      ]
     },
     "metadata": {},
     "output_type": "display_data"
    }
   ],
   "source": [
    "# выгружаем файл из внешнего источника\n",
    "dictionary = pd.read_csv('https://drive.google.com/uc?export=download&id=10HNxLhllKVu0QFP0QlUsdFDvd-h0dqGK')\n",
    "#display(dictionary)\n",
    "\n",
    "# преобразуем заголовки столбцов\n",
    "dictionary = dictionary.rename(columns={'streetname':'street_clean'})\n",
    "dictionary = dictionary[['street_clean','area']]\n",
    "display(dictionary)\n"
   ]
  },
  {
   "cell_type": "code",
   "execution_count": 15,
   "metadata": {
    "scrolled": true
   },
   "outputs": [
    {
     "data": {
      "text/html": [
       "<div>\n",
       "<style scoped>\n",
       "    .dataframe tbody tr th:only-of-type {\n",
       "        vertical-align: middle;\n",
       "    }\n",
       "\n",
       "    .dataframe tbody tr th {\n",
       "        vertical-align: top;\n",
       "    }\n",
       "\n",
       "    .dataframe thead th {\n",
       "        text-align: right;\n",
       "    }\n",
       "</style>\n",
       "<table border=\"1\" class=\"dataframe\">\n",
       "  <thead>\n",
       "    <tr style=\"text-align: right;\">\n",
       "      <th></th>\n",
       "      <th>street_clean</th>\n",
       "      <th>count</th>\n",
       "      <th>area</th>\n",
       "    </tr>\n",
       "  </thead>\n",
       "  <tbody>\n",
       "    <tr>\n",
       "      <th>0</th>\n",
       "      <td>Профсоюзная улица</td>\n",
       "      <td>173</td>\n",
       "      <td>Академический район</td>\n",
       "    </tr>\n",
       "    <tr>\n",
       "      <th>1</th>\n",
       "      <td>Профсоюзная улица</td>\n",
       "      <td>173</td>\n",
       "      <td>Район Черемушки</td>\n",
       "    </tr>\n",
       "    <tr>\n",
       "      <th>2</th>\n",
       "      <td>Профсоюзная улица</td>\n",
       "      <td>173</td>\n",
       "      <td>Район Ясенево</td>\n",
       "    </tr>\n",
       "    <tr>\n",
       "      <th>3</th>\n",
       "      <td>Профсоюзная улица</td>\n",
       "      <td>173</td>\n",
       "      <td>Район Коньково</td>\n",
       "    </tr>\n",
       "    <tr>\n",
       "      <th>4</th>\n",
       "      <td>Профсоюзная улица</td>\n",
       "      <td>173</td>\n",
       "      <td>Обручевский район</td>\n",
       "    </tr>\n",
       "    <tr>\n",
       "      <th>5</th>\n",
       "      <td>Профсоюзная улица</td>\n",
       "      <td>173</td>\n",
       "      <td>Район Теплый Стан</td>\n",
       "    </tr>\n",
       "    <tr>\n",
       "      <th>6</th>\n",
       "      <td>проспект Мира</td>\n",
       "      <td>170</td>\n",
       "      <td>Алексеевский район</td>\n",
       "    </tr>\n",
       "    <tr>\n",
       "      <th>7</th>\n",
       "      <td>проспект Мира</td>\n",
       "      <td>170</td>\n",
       "      <td>Ярославский Район</td>\n",
       "    </tr>\n",
       "    <tr>\n",
       "      <th>8</th>\n",
       "      <td>проспект Мира</td>\n",
       "      <td>170</td>\n",
       "      <td>Район Марьина роща</td>\n",
       "    </tr>\n",
       "    <tr>\n",
       "      <th>9</th>\n",
       "      <td>проспект Мира</td>\n",
       "      <td>170</td>\n",
       "      <td>Останкинский район</td>\n",
       "    </tr>\n",
       "    <tr>\n",
       "      <th>10</th>\n",
       "      <td>проспект Мира</td>\n",
       "      <td>170</td>\n",
       "      <td>Район Ростокино</td>\n",
       "    </tr>\n",
       "    <tr>\n",
       "      <th>11</th>\n",
       "      <td>проспект Мира</td>\n",
       "      <td>170</td>\n",
       "      <td>Район Свиблово</td>\n",
       "    </tr>\n",
       "    <tr>\n",
       "      <th>12</th>\n",
       "      <td>проспект Мира</td>\n",
       "      <td>170</td>\n",
       "      <td>Мещанский район</td>\n",
       "    </tr>\n",
       "    <tr>\n",
       "      <th>13</th>\n",
       "      <td>Ленинградский проспект</td>\n",
       "      <td>163</td>\n",
       "      <td>Район Аэропорт</td>\n",
       "    </tr>\n",
       "    <tr>\n",
       "      <th>14</th>\n",
       "      <td>Ленинградский проспект</td>\n",
       "      <td>163</td>\n",
       "      <td>Район Беговой</td>\n",
       "    </tr>\n",
       "    <tr>\n",
       "      <th>15</th>\n",
       "      <td>Ленинградский проспект</td>\n",
       "      <td>163</td>\n",
       "      <td>Хорошевский район</td>\n",
       "    </tr>\n",
       "    <tr>\n",
       "      <th>16</th>\n",
       "      <td>Ленинградский проспект</td>\n",
       "      <td>163</td>\n",
       "      <td>Район Сокол</td>\n",
       "    </tr>\n",
       "    <tr>\n",
       "      <th>17</th>\n",
       "      <td>Пресненская набережная</td>\n",
       "      <td>155</td>\n",
       "      <td>Пресненский район</td>\n",
       "    </tr>\n",
       "    <tr>\n",
       "      <th>18</th>\n",
       "      <td>Варшавское шоссе</td>\n",
       "      <td>150</td>\n",
       "      <td>Район Чертаново Центральное</td>\n",
       "    </tr>\n",
       "    <tr>\n",
       "      <th>19</th>\n",
       "      <td>Варшавское шоссе</td>\n",
       "      <td>150</td>\n",
       "      <td>Район Чертаново Северное</td>\n",
       "    </tr>\n",
       "    <tr>\n",
       "      <th>20</th>\n",
       "      <td>Варшавское шоссе</td>\n",
       "      <td>150</td>\n",
       "      <td>Район Чертаново Южное</td>\n",
       "    </tr>\n",
       "    <tr>\n",
       "      <th>21</th>\n",
       "      <td>Варшавское шоссе</td>\n",
       "      <td>150</td>\n",
       "      <td>Донской район</td>\n",
       "    </tr>\n",
       "    <tr>\n",
       "      <th>22</th>\n",
       "      <td>Варшавское шоссе</td>\n",
       "      <td>150</td>\n",
       "      <td>Район Нагатино-Садовники</td>\n",
       "    </tr>\n",
       "    <tr>\n",
       "      <th>23</th>\n",
       "      <td>Варшавское шоссе</td>\n",
       "      <td>150</td>\n",
       "      <td>Нагорный район</td>\n",
       "    </tr>\n",
       "    <tr>\n",
       "      <th>24</th>\n",
       "      <td>Варшавское шоссе</td>\n",
       "      <td>150</td>\n",
       "      <td>Район Северное Бутово</td>\n",
       "    </tr>\n",
       "    <tr>\n",
       "      <th>25</th>\n",
       "      <td>Варшавское шоссе</td>\n",
       "      <td>150</td>\n",
       "      <td>Район Южное Бутово</td>\n",
       "    </tr>\n",
       "    <tr>\n",
       "      <th>26</th>\n",
       "      <td>Ленинский проспект</td>\n",
       "      <td>137</td>\n",
       "      <td>Район Проспект Вернадского</td>\n",
       "    </tr>\n",
       "    <tr>\n",
       "      <th>27</th>\n",
       "      <td>Ленинский проспект</td>\n",
       "      <td>137</td>\n",
       "      <td>Район Тропарево-Никулино</td>\n",
       "    </tr>\n",
       "    <tr>\n",
       "      <th>28</th>\n",
       "      <td>Ленинский проспект</td>\n",
       "      <td>137</td>\n",
       "      <td>Донской район</td>\n",
       "    </tr>\n",
       "    <tr>\n",
       "      <th>29</th>\n",
       "      <td>Ленинский проспект</td>\n",
       "      <td>137</td>\n",
       "      <td>Район Гагаринский</td>\n",
       "    </tr>\n",
       "    <tr>\n",
       "      <th>30</th>\n",
       "      <td>Ленинский проспект</td>\n",
       "      <td>137</td>\n",
       "      <td>Ломоносовский район</td>\n",
       "    </tr>\n",
       "    <tr>\n",
       "      <th>31</th>\n",
       "      <td>Ленинский проспект</td>\n",
       "      <td>137</td>\n",
       "      <td>Обручевский район</td>\n",
       "    </tr>\n",
       "    <tr>\n",
       "      <th>32</th>\n",
       "      <td>Ленинский проспект</td>\n",
       "      <td>137</td>\n",
       "      <td>Район Теплый Стан</td>\n",
       "    </tr>\n",
       "    <tr>\n",
       "      <th>33</th>\n",
       "      <td>Ленинский проспект</td>\n",
       "      <td>137</td>\n",
       "      <td>Район Якиманка</td>\n",
       "    </tr>\n",
       "    <tr>\n",
       "      <th>34</th>\n",
       "      <td>проспект Вернадского</td>\n",
       "      <td>120</td>\n",
       "      <td>Район Проспект Вернадского</td>\n",
       "    </tr>\n",
       "    <tr>\n",
       "      <th>35</th>\n",
       "      <td>проспект Вернадского</td>\n",
       "      <td>120</td>\n",
       "      <td>Район Раменки</td>\n",
       "    </tr>\n",
       "    <tr>\n",
       "      <th>36</th>\n",
       "      <td>проспект Вернадского</td>\n",
       "      <td>120</td>\n",
       "      <td>Район Тропарево-Никулино</td>\n",
       "    </tr>\n",
       "    <tr>\n",
       "      <th>37</th>\n",
       "      <td>проспект Вернадского</td>\n",
       "      <td>120</td>\n",
       "      <td>Район Гагаринский</td>\n",
       "    </tr>\n",
       "    <tr>\n",
       "      <th>38</th>\n",
       "      <td>проспект Вернадского</td>\n",
       "      <td>120</td>\n",
       "      <td>Ломоносовский район</td>\n",
       "    </tr>\n",
       "    <tr>\n",
       "      <th>39</th>\n",
       "      <td>Кутузовский проспект</td>\n",
       "      <td>102</td>\n",
       "      <td>Район Дорогомилово</td>\n",
       "    </tr>\n",
       "    <tr>\n",
       "      <th>40</th>\n",
       "      <td>Кутузовский проспект</td>\n",
       "      <td>102</td>\n",
       "      <td>Район Фили-Давыдково</td>\n",
       "    </tr>\n",
       "    <tr>\n",
       "      <th>41</th>\n",
       "      <td>Каширское шоссе</td>\n",
       "      <td>101</td>\n",
       "      <td>Район Москворечье-Сабурово</td>\n",
       "    </tr>\n",
       "    <tr>\n",
       "      <th>42</th>\n",
       "      <td>Каширское шоссе</td>\n",
       "      <td>101</td>\n",
       "      <td>Район Нагатино-Садовники</td>\n",
       "    </tr>\n",
       "    <tr>\n",
       "      <th>43</th>\n",
       "      <td>Каширское шоссе</td>\n",
       "      <td>101</td>\n",
       "      <td>Район Орехово-Борисово Южное</td>\n",
       "    </tr>\n",
       "    <tr>\n",
       "      <th>44</th>\n",
       "      <td>Каширское шоссе</td>\n",
       "      <td>101</td>\n",
       "      <td>Район Орехово-Борисово Северное</td>\n",
       "    </tr>\n",
       "    <tr>\n",
       "      <th>45</th>\n",
       "      <td>Ходынский бульвар</td>\n",
       "      <td>100</td>\n",
       "      <td>Хорошевский район</td>\n",
       "    </tr>\n",
       "  </tbody>\n",
       "</table>\n",
       "</div>"
      ],
      "text/plain": [
       "              street_clean  count                             area\n",
       "0        Профсоюзная улица    173              Академический район\n",
       "1        Профсоюзная улица    173                  Район Черемушки\n",
       "2        Профсоюзная улица    173                    Район Ясенево\n",
       "3        Профсоюзная улица    173                   Район Коньково\n",
       "4        Профсоюзная улица    173                Обручевский район\n",
       "5        Профсоюзная улица    173                Район Теплый Стан\n",
       "6            проспект Мира    170               Алексеевский район\n",
       "7            проспект Мира    170                Ярославский Район\n",
       "8            проспект Мира    170               Район Марьина роща\n",
       "9            проспект Мира    170               Останкинский район\n",
       "10           проспект Мира    170                  Район Ростокино\n",
       "11           проспект Мира    170                   Район Свиблово\n",
       "12           проспект Мира    170                  Мещанский район\n",
       "13  Ленинградский проспект    163                   Район Аэропорт\n",
       "14  Ленинградский проспект    163                    Район Беговой\n",
       "15  Ленинградский проспект    163                Хорошевский район\n",
       "16  Ленинградский проспект    163                      Район Сокол\n",
       "17  Пресненская набережная    155                Пресненский район\n",
       "18        Варшавское шоссе    150      Район Чертаново Центральное\n",
       "19        Варшавское шоссе    150         Район Чертаново Северное\n",
       "20        Варшавское шоссе    150            Район Чертаново Южное\n",
       "21        Варшавское шоссе    150                    Донской район\n",
       "22        Варшавское шоссе    150         Район Нагатино-Садовники\n",
       "23        Варшавское шоссе    150                   Нагорный район\n",
       "24        Варшавское шоссе    150            Район Северное Бутово\n",
       "25        Варшавское шоссе    150               Район Южное Бутово\n",
       "26      Ленинский проспект    137       Район Проспект Вернадского\n",
       "27      Ленинский проспект    137         Район Тропарево-Никулино\n",
       "28      Ленинский проспект    137                    Донской район\n",
       "29      Ленинский проспект    137                Район Гагаринский\n",
       "30      Ленинский проспект    137              Ломоносовский район\n",
       "31      Ленинский проспект    137                Обручевский район\n",
       "32      Ленинский проспект    137                Район Теплый Стан\n",
       "33      Ленинский проспект    137                   Район Якиманка\n",
       "34    проспект Вернадского    120       Район Проспект Вернадского\n",
       "35    проспект Вернадского    120                    Район Раменки\n",
       "36    проспект Вернадского    120         Район Тропарево-Никулино\n",
       "37    проспект Вернадского    120                Район Гагаринский\n",
       "38    проспект Вернадского    120              Ломоносовский район\n",
       "39    Кутузовский проспект    102               Район Дорогомилово\n",
       "40    Кутузовский проспект    102             Район Фили-Давыдково\n",
       "41         Каширское шоссе    101       Район Москворечье-Сабурово\n",
       "42         Каширское шоссе    101         Район Нагатино-Садовники\n",
       "43         Каширское шоссе    101     Район Орехово-Борисово Южное\n",
       "44         Каширское шоссе    101  Район Орехово-Борисово Северное\n",
       "45       Ходынский бульвар    100                Хорошевский район"
      ]
     },
     "metadata": {},
     "output_type": "display_data"
    }
   ],
   "source": [
    "# объединяем фреймы с данными по топовым улицам и соотвктствующим регионом\n",
    "df_street_top_region = df_street_top.merge(dictionary,on='street_clean',how='left',suffixes=('street_clean','street_clean'))\n",
    "display(df_street_top_region)\n"
   ]
  },
  {
   "cell_type": "code",
   "execution_count": 16,
   "metadata": {
    "scrolled": true
   },
   "outputs": [
    {
     "data": {
      "text/html": [
       "<div>\n",
       "<style scoped>\n",
       "    .dataframe tbody tr th:only-of-type {\n",
       "        vertical-align: middle;\n",
       "    }\n",
       "\n",
       "    .dataframe tbody tr th {\n",
       "        vertical-align: top;\n",
       "    }\n",
       "\n",
       "    .dataframe thead th {\n",
       "        text-align: right;\n",
       "    }\n",
       "</style>\n",
       "<table border=\"1\" class=\"dataframe\">\n",
       "  <thead>\n",
       "    <tr style=\"text-align: right;\">\n",
       "      <th></th>\n",
       "      <th>id</th>\n",
       "      <th>object_name</th>\n",
       "      <th>chain</th>\n",
       "      <th>object_type</th>\n",
       "      <th>address</th>\n",
       "      <th>number</th>\n",
       "      <th>street_new</th>\n",
       "      <th>street_clean</th>\n",
       "      <th>area</th>\n",
       "    </tr>\n",
       "  </thead>\n",
       "  <tbody>\n",
       "    <tr>\n",
       "      <th>0</th>\n",
       "      <td>19720</td>\n",
       "      <td>Столовая</td>\n",
       "      <td>нет</td>\n",
       "      <td>столовая</td>\n",
       "      <td>город Москва, проспект Вернадского, дом 82, строение 1</td>\n",
       "      <td>328</td>\n",
       "      <td>проспект Вернадского</td>\n",
       "      <td>проспект Вернадского</td>\n",
       "      <td>Район Проспект Вернадского</td>\n",
       "    </tr>\n",
       "    <tr>\n",
       "      <th>1</th>\n",
       "      <td>19720</td>\n",
       "      <td>Столовая</td>\n",
       "      <td>нет</td>\n",
       "      <td>столовая</td>\n",
       "      <td>город Москва, проспект Вернадского, дом 82, строение 1</td>\n",
       "      <td>328</td>\n",
       "      <td>проспект Вернадского</td>\n",
       "      <td>проспект Вернадского</td>\n",
       "      <td>Район Раменки</td>\n",
       "    </tr>\n",
       "    <tr>\n",
       "      <th>2</th>\n",
       "      <td>19720</td>\n",
       "      <td>Столовая</td>\n",
       "      <td>нет</td>\n",
       "      <td>столовая</td>\n",
       "      <td>город Москва, проспект Вернадского, дом 82, строение 1</td>\n",
       "      <td>328</td>\n",
       "      <td>проспект Вернадского</td>\n",
       "      <td>проспект Вернадского</td>\n",
       "      <td>Район Тропарево-Никулино</td>\n",
       "    </tr>\n",
       "    <tr>\n",
       "      <th>3</th>\n",
       "      <td>19720</td>\n",
       "      <td>Столовая</td>\n",
       "      <td>нет</td>\n",
       "      <td>столовая</td>\n",
       "      <td>город Москва, проспект Вернадского, дом 82, строение 1</td>\n",
       "      <td>328</td>\n",
       "      <td>проспект Вернадского</td>\n",
       "      <td>проспект Вернадского</td>\n",
       "      <td>Район Гагаринский</td>\n",
       "    </tr>\n",
       "    <tr>\n",
       "      <th>4</th>\n",
       "      <td>19720</td>\n",
       "      <td>Столовая</td>\n",
       "      <td>нет</td>\n",
       "      <td>столовая</td>\n",
       "      <td>город Москва, проспект Вернадского, дом 82, строение 1</td>\n",
       "      <td>328</td>\n",
       "      <td>проспект Вернадского</td>\n",
       "      <td>проспект Вернадского</td>\n",
       "      <td>Ломоносовский район</td>\n",
       "    </tr>\n",
       "    <tr>\n",
       "      <th>...</th>\n",
       "      <td>...</td>\n",
       "      <td>...</td>\n",
       "      <td>...</td>\n",
       "      <td>...</td>\n",
       "      <td>...</td>\n",
       "      <td>...</td>\n",
       "      <td>...</td>\n",
       "      <td>...</td>\n",
       "      <td>...</td>\n",
       "    </tr>\n",
       "    <tr>\n",
       "      <th>6634</th>\n",
       "      <td>203845</td>\n",
       "      <td>БАК БО</td>\n",
       "      <td>нет</td>\n",
       "      <td>кафе</td>\n",
       "      <td>город Москва, Ленинский проспект, дом 109</td>\n",
       "      <td>0</td>\n",
       "      <td>Ленинский проспект</td>\n",
       "      <td>Ленинский проспект</td>\n",
       "      <td>Район Якиманка</td>\n",
       "    </tr>\n",
       "    <tr>\n",
       "      <th>6635</th>\n",
       "      <td>221385</td>\n",
       "      <td>МИЛТИ готовые блюда для здорового питания</td>\n",
       "      <td>нет</td>\n",
       "      <td>кафетерий</td>\n",
       "      <td>город Москва, Каширское шоссе, дом 3, корпус 2, строение 9</td>\n",
       "      <td>0</td>\n",
       "      <td>Каширское шоссе</td>\n",
       "      <td>Каширское шоссе</td>\n",
       "      <td>Район Москворечье-Сабурово</td>\n",
       "    </tr>\n",
       "    <tr>\n",
       "      <th>6636</th>\n",
       "      <td>221385</td>\n",
       "      <td>МИЛТИ готовые блюда для здорового питания</td>\n",
       "      <td>нет</td>\n",
       "      <td>кафетерий</td>\n",
       "      <td>город Москва, Каширское шоссе, дом 3, корпус 2, строение 9</td>\n",
       "      <td>0</td>\n",
       "      <td>Каширское шоссе</td>\n",
       "      <td>Каширское шоссе</td>\n",
       "      <td>Район Нагатино-Садовники</td>\n",
       "    </tr>\n",
       "    <tr>\n",
       "      <th>6637</th>\n",
       "      <td>221385</td>\n",
       "      <td>МИЛТИ готовые блюда для здорового питания</td>\n",
       "      <td>нет</td>\n",
       "      <td>кафетерий</td>\n",
       "      <td>город Москва, Каширское шоссе, дом 3, корпус 2, строение 9</td>\n",
       "      <td>0</td>\n",
       "      <td>Каширское шоссе</td>\n",
       "      <td>Каширское шоссе</td>\n",
       "      <td>Район Орехово-Борисово Южное</td>\n",
       "    </tr>\n",
       "    <tr>\n",
       "      <th>6638</th>\n",
       "      <td>221385</td>\n",
       "      <td>МИЛТИ готовые блюда для здорового питания</td>\n",
       "      <td>нет</td>\n",
       "      <td>кафетерий</td>\n",
       "      <td>город Москва, Каширское шоссе, дом 3, корпус 2, строение 9</td>\n",
       "      <td>0</td>\n",
       "      <td>Каширское шоссе</td>\n",
       "      <td>Каширское шоссе</td>\n",
       "      <td>Район Орехово-Борисово Северное</td>\n",
       "    </tr>\n",
       "  </tbody>\n",
       "</table>\n",
       "<p>6639 rows × 9 columns</p>\n",
       "</div>"
      ],
      "text/plain": [
       "          id                                object_name chain object_type  \\\n",
       "0      19720                                   Столовая   нет    столовая   \n",
       "1      19720                                   Столовая   нет    столовая   \n",
       "2      19720                                   Столовая   нет    столовая   \n",
       "3      19720                                   Столовая   нет    столовая   \n",
       "4      19720                                   Столовая   нет    столовая   \n",
       "...      ...                                        ...   ...         ...   \n",
       "6634  203845                                     БАК БО   нет        кафе   \n",
       "6635  221385  МИЛТИ готовые блюда для здорового питания   нет   кафетерий   \n",
       "6636  221385  МИЛТИ готовые блюда для здорового питания   нет   кафетерий   \n",
       "6637  221385  МИЛТИ готовые блюда для здорового питания   нет   кафетерий   \n",
       "6638  221385  МИЛТИ готовые блюда для здорового питания   нет   кафетерий   \n",
       "\n",
       "                                                         address  number  \\\n",
       "0         город Москва, проспект Вернадского, дом 82, строение 1     328   \n",
       "1         город Москва, проспект Вернадского, дом 82, строение 1     328   \n",
       "2         город Москва, проспект Вернадского, дом 82, строение 1     328   \n",
       "3         город Москва, проспект Вернадского, дом 82, строение 1     328   \n",
       "4         город Москва, проспект Вернадского, дом 82, строение 1     328   \n",
       "...                                                          ...     ...   \n",
       "6634                   город Москва, Ленинский проспект, дом 109       0   \n",
       "6635  город Москва, Каширское шоссе, дом 3, корпус 2, строение 9       0   \n",
       "6636  город Москва, Каширское шоссе, дом 3, корпус 2, строение 9       0   \n",
       "6637  город Москва, Каширское шоссе, дом 3, корпус 2, строение 9       0   \n",
       "6638  город Москва, Каширское шоссе, дом 3, корпус 2, строение 9       0   \n",
       "\n",
       "                 street_new          street_clean  \\\n",
       "0      проспект Вернадского  проспект Вернадского   \n",
       "1      проспект Вернадского  проспект Вернадского   \n",
       "2      проспект Вернадского  проспект Вернадского   \n",
       "3      проспект Вернадского  проспект Вернадского   \n",
       "4      проспект Вернадского  проспект Вернадского   \n",
       "...                     ...                   ...   \n",
       "6634     Ленинский проспект    Ленинский проспект   \n",
       "6635        Каширское шоссе       Каширское шоссе   \n",
       "6636        Каширское шоссе       Каширское шоссе   \n",
       "6637        Каширское шоссе       Каширское шоссе   \n",
       "6638        Каширское шоссе       Каширское шоссе   \n",
       "\n",
       "                                 area  \n",
       "0          Район Проспект Вернадского  \n",
       "1                       Район Раменки  \n",
       "2            Район Тропарево-Никулино  \n",
       "3                   Район Гагаринский  \n",
       "4                 Ломоносовский район  \n",
       "...                               ...  \n",
       "6634                   Район Якиманка  \n",
       "6635       Район Москворечье-Сабурово  \n",
       "6636         Район Нагатино-Садовники  \n",
       "6637     Район Орехово-Борисово Южное  \n",
       "6638  Район Орехово-Борисово Северное  \n",
       "\n",
       "[6639 rows x 9 columns]"
      ]
     },
     "metadata": {},
     "output_type": "display_data"
    }
   ],
   "source": [
    "# делаем срез только по топовым улицам на общем датафрейме\n",
    "df_actual['street_clean'] = df_actual['street_clean'].str.lstrip()\n",
    "df_actual_top = df_actual[df_actual['street_clean'].isin(df_street_top_region['street_clean'])]\n",
    "df_actual_top = df_actual_top.merge(df_street_top_region,on='street_clean',how='left',suffixes=('street_clean','street_clean'))\n",
    "df_actual_top = df_actual_top.drop(columns=['count'])\n",
    "display(df_actual_top)"
   ]
  },
  {
   "cell_type": "markdown",
   "metadata": {},
   "source": [
    "#### Вывод\n",
    "   - Выделили улицы Москвы с наибольшим кол-во заведений общественного питания и соответствующие им регионы\n",
    "   \n"
   ]
  },
  {
   "cell_type": "markdown",
   "metadata": {},
   "source": [
    "### Число улиц с одним объектом общественного питания. "
   ]
  },
  {
   "cell_type": "code",
   "execution_count": 27,
   "metadata": {
    "scrolled": false
   },
   "outputs": [
    {
     "name": "stdout",
     "output_type": "stream",
     "text": [
      "Число улиц с 1-м объектом общественного питания равно: 719\n"
     ]
    },
    {
     "data": {
      "text/html": [
       "<div>\n",
       "<style scoped>\n",
       "    .dataframe tbody tr th:only-of-type {\n",
       "        vertical-align: middle;\n",
       "    }\n",
       "\n",
       "    .dataframe tbody tr th {\n",
       "        vertical-align: top;\n",
       "    }\n",
       "\n",
       "    .dataframe thead th {\n",
       "        text-align: right;\n",
       "    }\n",
       "</style>\n",
       "<table border=\"1\" class=\"dataframe\">\n",
       "  <thead>\n",
       "    <tr style=\"text-align: right;\">\n",
       "      <th></th>\n",
       "      <th>street_clean</th>\n",
       "      <th>count</th>\n",
       "    </tr>\n",
       "  </thead>\n",
       "  <tbody>\n",
       "    <tr>\n",
       "      <th>0</th>\n",
       "      <td>1-й Балтийский переулок</td>\n",
       "      <td>1</td>\n",
       "    </tr>\n",
       "    <tr>\n",
       "      <th>1</th>\n",
       "      <td>1-й Басманный переулок</td>\n",
       "      <td>1</td>\n",
       "    </tr>\n",
       "    <tr>\n",
       "      <th>2</th>\n",
       "      <td>1-й Ботанический проезд</td>\n",
       "      <td>1</td>\n",
       "    </tr>\n",
       "    <tr>\n",
       "      <th>3</th>\n",
       "      <td>1-й Вешняковский проезд</td>\n",
       "      <td>1</td>\n",
       "    </tr>\n",
       "    <tr>\n",
       "      <th>4</th>\n",
       "      <td>1-й Голутвинский переулок</td>\n",
       "      <td>1</td>\n",
       "    </tr>\n",
       "    <tr>\n",
       "      <th>...</th>\n",
       "      <td>...</td>\n",
       "      <td>...</td>\n",
       "    </tr>\n",
       "    <tr>\n",
       "      <th>714</th>\n",
       "      <td>улица Шеногина</td>\n",
       "      <td>1</td>\n",
       "    </tr>\n",
       "    <tr>\n",
       "      <th>715</th>\n",
       "      <td>улица Шумилова</td>\n",
       "      <td>1</td>\n",
       "    </tr>\n",
       "    <tr>\n",
       "      <th>716</th>\n",
       "      <td>улица Шумкина</td>\n",
       "      <td>1</td>\n",
       "    </tr>\n",
       "    <tr>\n",
       "      <th>717</th>\n",
       "      <td>улица Щорса</td>\n",
       "      <td>1</td>\n",
       "    </tr>\n",
       "    <tr>\n",
       "      <th>718</th>\n",
       "      <td>шоссе Фрезер</td>\n",
       "      <td>1</td>\n",
       "    </tr>\n",
       "  </tbody>\n",
       "</table>\n",
       "<p>719 rows × 2 columns</p>\n",
       "</div>"
      ],
      "text/plain": [
       "                  street_clean  count\n",
       "0      1-й Балтийский переулок      1\n",
       "1       1-й Басманный переулок      1\n",
       "2      1-й Ботанический проезд      1\n",
       "3      1-й Вешняковский проезд      1\n",
       "4    1-й Голутвинский переулок      1\n",
       "..                         ...    ...\n",
       "714             улица Шеногина      1\n",
       "715             улица Шумилова      1\n",
       "716              улица Шумкина      1\n",
       "717                улица Щорса      1\n",
       "718               шоссе Фрезер      1\n",
       "\n",
       "[719 rows x 2 columns]"
      ]
     },
     "metadata": {},
     "output_type": "display_data"
    }
   ],
   "source": [
    "# выделяем число улиц с 1 объектом общественного питания\n",
    "df_actual_street = df_actual.groupby('street_clean').agg({'street_clean':'count'})\n",
    "df_actual_street.columns = ['count']\n",
    "one_per_street = df_actual_street[df_actual_street['count']==1].reset_index()\n",
    "one_per_street_len = len(one_per_street)\n",
    "\n",
    "print('Число улиц с 1-м объектом общественного питания равно: {}'.format(one_per_street_len))\n",
    "display(one_per_street)"
   ]
  },
  {
   "cell_type": "code",
   "execution_count": 28,
   "metadata": {},
   "outputs": [
    {
     "data": {
      "text/html": [
       "<div>\n",
       "<style scoped>\n",
       "    .dataframe tbody tr th:only-of-type {\n",
       "        vertical-align: middle;\n",
       "    }\n",
       "\n",
       "    .dataframe tbody tr th {\n",
       "        vertical-align: top;\n",
       "    }\n",
       "\n",
       "    .dataframe thead th {\n",
       "        text-align: right;\n",
       "    }\n",
       "</style>\n",
       "<table border=\"1\" class=\"dataframe\">\n",
       "  <thead>\n",
       "    <tr style=\"text-align: right;\">\n",
       "      <th></th>\n",
       "      <th>street_clean</th>\n",
       "      <th>count</th>\n",
       "      <th>area</th>\n",
       "    </tr>\n",
       "  </thead>\n",
       "  <tbody>\n",
       "    <tr>\n",
       "      <th>0</th>\n",
       "      <td>1-й Балтийский переулок</td>\n",
       "      <td>1</td>\n",
       "      <td>Район Аэропорт</td>\n",
       "    </tr>\n",
       "    <tr>\n",
       "      <th>1</th>\n",
       "      <td>1-й Басманный переулок</td>\n",
       "      <td>1</td>\n",
       "      <td>Басманный район</td>\n",
       "    </tr>\n",
       "    <tr>\n",
       "      <th>2</th>\n",
       "      <td>1-й Басманный переулок</td>\n",
       "      <td>1</td>\n",
       "      <td>Красносельский район</td>\n",
       "    </tr>\n",
       "    <tr>\n",
       "      <th>3</th>\n",
       "      <td>1-й Ботанический проезд</td>\n",
       "      <td>1</td>\n",
       "      <td>Район Свиблово</td>\n",
       "    </tr>\n",
       "    <tr>\n",
       "      <th>4</th>\n",
       "      <td>1-й Вешняковский проезд</td>\n",
       "      <td>1</td>\n",
       "      <td>Рязанский район</td>\n",
       "    </tr>\n",
       "    <tr>\n",
       "      <th>...</th>\n",
       "      <td>...</td>\n",
       "      <td>...</td>\n",
       "      <td>...</td>\n",
       "    </tr>\n",
       "    <tr>\n",
       "      <th>762</th>\n",
       "      <td>улица Шеногина</td>\n",
       "      <td>1</td>\n",
       "      <td>Район Хорошево-Мневники</td>\n",
       "    </tr>\n",
       "    <tr>\n",
       "      <th>763</th>\n",
       "      <td>улица Шумилова</td>\n",
       "      <td>1</td>\n",
       "      <td>Район Кузьминки</td>\n",
       "    </tr>\n",
       "    <tr>\n",
       "      <th>764</th>\n",
       "      <td>улица Шумкина</td>\n",
       "      <td>1</td>\n",
       "      <td>Район Сокольники</td>\n",
       "    </tr>\n",
       "    <tr>\n",
       "      <th>765</th>\n",
       "      <td>улица Щорса</td>\n",
       "      <td>1</td>\n",
       "      <td>Район Солнцево</td>\n",
       "    </tr>\n",
       "    <tr>\n",
       "      <th>766</th>\n",
       "      <td>шоссе Фрезер</td>\n",
       "      <td>1</td>\n",
       "      <td>Нижегородский район</td>\n",
       "    </tr>\n",
       "  </tbody>\n",
       "</table>\n",
       "<p>767 rows × 3 columns</p>\n",
       "</div>"
      ],
      "text/plain": [
       "                street_clean  count                     area\n",
       "0    1-й Балтийский переулок      1           Район Аэропорт\n",
       "1     1-й Басманный переулок      1          Басманный район\n",
       "2     1-й Басманный переулок      1     Красносельский район\n",
       "3    1-й Ботанический проезд      1           Район Свиблово\n",
       "4    1-й Вешняковский проезд      1          Рязанский район\n",
       "..                       ...    ...                      ...\n",
       "762           улица Шеногина      1  Район Хорошево-Мневники\n",
       "763           улица Шумилова      1          Район Кузьминки\n",
       "764            улица Шумкина      1         Район Сокольники\n",
       "765              улица Щорса      1           Район Солнцево\n",
       "766             шоссе Фрезер      1      Нижегородский район\n",
       "\n",
       "[767 rows x 3 columns]"
      ]
     },
     "metadata": {},
     "output_type": "display_data"
    }
   ],
   "source": [
    "# объединяем фреймы с данными по свободным улицам и соответствующим регионом\n",
    "df_street_bottom_region = one_per_street.merge(dictionary,on='street_clean',how='left',suffixes=('street_clean','street_clean'))\n",
    "display(df_street_bottom_region)\n"
   ]
  },
  {
   "cell_type": "code",
   "execution_count": 29,
   "metadata": {},
   "outputs": [
    {
     "data": {
      "text/html": [
       "<div>\n",
       "<style scoped>\n",
       "    .dataframe tbody tr th:only-of-type {\n",
       "        vertical-align: middle;\n",
       "    }\n",
       "\n",
       "    .dataframe tbody tr th {\n",
       "        vertical-align: top;\n",
       "    }\n",
       "\n",
       "    .dataframe thead th {\n",
       "        text-align: right;\n",
       "    }\n",
       "</style>\n",
       "<table border=\"1\" class=\"dataframe\">\n",
       "  <thead>\n",
       "    <tr style=\"text-align: right;\">\n",
       "      <th></th>\n",
       "      <th>id</th>\n",
       "      <th>object_name</th>\n",
       "      <th>chain</th>\n",
       "      <th>object_type</th>\n",
       "      <th>address</th>\n",
       "      <th>number</th>\n",
       "      <th>street_new</th>\n",
       "      <th>street_clean</th>\n",
       "      <th>area</th>\n",
       "    </tr>\n",
       "  </thead>\n",
       "  <tbody>\n",
       "    <tr>\n",
       "      <th>0</th>\n",
       "      <td>144426</td>\n",
       "      <td>ГБОУ Школа № 1499</td>\n",
       "      <td>нет</td>\n",
       "      <td>столовая</td>\n",
       "      <td>город Москва, Ростокинская улица, дом 3</td>\n",
       "      <td>330</td>\n",
       "      <td>Ростокинская улица</td>\n",
       "      <td>Ростокинская улица</td>\n",
       "      <td>Район Ростокино</td>\n",
       "    </tr>\n",
       "    <tr>\n",
       "      <th>1</th>\n",
       "      <td>23669</td>\n",
       "      <td>Школа 1012</td>\n",
       "      <td>нет</td>\n",
       "      <td>столовая</td>\n",
       "      <td>город Москва, Родниковая улица, дом 20, корпус 1</td>\n",
       "      <td>320</td>\n",
       "      <td>Родниковая улица</td>\n",
       "      <td>Родниковая улица</td>\n",
       "      <td>Район Солнцево</td>\n",
       "    </tr>\n",
       "    <tr>\n",
       "      <th>2</th>\n",
       "      <td>27436</td>\n",
       "      <td>ШКОЛА 1381</td>\n",
       "      <td>нет</td>\n",
       "      <td>столовая</td>\n",
       "      <td>город Москва, Янтарный проезд, дом 2</td>\n",
       "      <td>300</td>\n",
       "      <td>Янтарный проезд</td>\n",
       "      <td>Янтарный проезд</td>\n",
       "      <td>Лосиноостровский район</td>\n",
       "    </tr>\n",
       "    <tr>\n",
       "      <th>4</th>\n",
       "      <td>29008</td>\n",
       "      <td>ЦО №1450 «КОМБИНАТ ДОШКОЛЬНОГО ПИТАНИЯ»</td>\n",
       "      <td>нет</td>\n",
       "      <td>столовая</td>\n",
       "      <td>город Москва, Фруктовая улица, дом 9</td>\n",
       "      <td>300</td>\n",
       "      <td>Фруктовая улица</td>\n",
       "      <td>Фруктовая улица</td>\n",
       "      <td>Нагорный район</td>\n",
       "    </tr>\n",
       "    <tr>\n",
       "      <th>5</th>\n",
       "      <td>29008</td>\n",
       "      <td>ЦО №1450 «КОМБИНАТ ДОШКОЛЬНОГО ПИТАНИЯ»</td>\n",
       "      <td>нет</td>\n",
       "      <td>столовая</td>\n",
       "      <td>город Москва, Фруктовая улица, дом 9</td>\n",
       "      <td>300</td>\n",
       "      <td>Фруктовая улица</td>\n",
       "      <td>Фруктовая улица</td>\n",
       "      <td>Район Зюзино</td>\n",
       "    </tr>\n",
       "    <tr>\n",
       "      <th>...</th>\n",
       "      <td>...</td>\n",
       "      <td>...</td>\n",
       "      <td>...</td>\n",
       "      <td>...</td>\n",
       "      <td>...</td>\n",
       "      <td>...</td>\n",
       "      <td>...</td>\n",
       "      <td>...</td>\n",
       "      <td>...</td>\n",
       "    </tr>\n",
       "    <tr>\n",
       "      <th>759</th>\n",
       "      <td>179098</td>\n",
       "      <td>Выпечка</td>\n",
       "      <td>нет</td>\n",
       "      <td>магазин (отдел кулинарии)</td>\n",
       "      <td>город Москва, 4-я Гражданская улица, дом 43, корпус 2</td>\n",
       "      <td>0</td>\n",
       "      <td>4-я Гражданская улица</td>\n",
       "      <td>4-я Гражданская улица</td>\n",
       "      <td>Район Богородское</td>\n",
       "    </tr>\n",
       "    <tr>\n",
       "      <th>760</th>\n",
       "      <td>184359</td>\n",
       "      <td>Донер Кебаб</td>\n",
       "      <td>нет</td>\n",
       "      <td>предприятие быстрого обслуживания</td>\n",
       "      <td>город Москва, улица Медиков, дом 16</td>\n",
       "      <td>0</td>\n",
       "      <td>улица Медиков</td>\n",
       "      <td>улица Медиков</td>\n",
       "      <td>Район Царицыно</td>\n",
       "    </tr>\n",
       "    <tr>\n",
       "      <th>762</th>\n",
       "      <td>189611</td>\n",
       "      <td>Выпечка,шаурма</td>\n",
       "      <td>нет</td>\n",
       "      <td>предприятие быстрого обслуживания</td>\n",
       "      <td>город Москва, улица Академика Комарова, дом 5А</td>\n",
       "      <td>0</td>\n",
       "      <td>улица Академика Комарова</td>\n",
       "      <td>улица Академика Комарова</td>\n",
       "      <td>Район Марфино</td>\n",
       "    </tr>\n",
       "    <tr>\n",
       "      <th>764</th>\n",
       "      <td>150823</td>\n",
       "      <td>ГБОУ Школа №480 им.В.В. Талалихина</td>\n",
       "      <td>нет</td>\n",
       "      <td>столовая</td>\n",
       "      <td>город Москва, Стройковская улица, дом 5</td>\n",
       "      <td>0</td>\n",
       "      <td>Стройковская улица</td>\n",
       "      <td>Стройковская улица</td>\n",
       "      <td>Таганский район</td>\n",
       "    </tr>\n",
       "    <tr>\n",
       "      <th>765</th>\n",
       "      <td>174488</td>\n",
       "      <td>Предприятие быстрого обслуживания «Шаурма»</td>\n",
       "      <td>нет</td>\n",
       "      <td>предприятие быстрого обслуживания</td>\n",
       "      <td>город Москва, Сумская улица, дом 2/12</td>\n",
       "      <td>0</td>\n",
       "      <td>Сумская улица</td>\n",
       "      <td>Сумская улица</td>\n",
       "      <td>Район Чертаново Северное</td>\n",
       "    </tr>\n",
       "  </tbody>\n",
       "</table>\n",
       "<p>373 rows × 9 columns</p>\n",
       "</div>"
      ],
      "text/plain": [
       "         id                                 object_name chain  \\\n",
       "0    144426                           ГБОУ Школа № 1499   нет   \n",
       "1     23669                                  Школа 1012   нет   \n",
       "2     27436                                  ШКОЛА 1381   нет   \n",
       "4     29008     ЦО №1450 «КОМБИНАТ ДОШКОЛЬНОГО ПИТАНИЯ»   нет   \n",
       "5     29008     ЦО №1450 «КОМБИНАТ ДОШКОЛЬНОГО ПИТАНИЯ»   нет   \n",
       "..      ...                                         ...   ...   \n",
       "759  179098                                     Выпечка   нет   \n",
       "760  184359                                 Донер Кебаб   нет   \n",
       "762  189611                              Выпечка,шаурма   нет   \n",
       "764  150823          ГБОУ Школа №480 им.В.В. Талалихина   нет   \n",
       "765  174488  Предприятие быстрого обслуживания «Шаурма»   нет   \n",
       "\n",
       "                           object_type  \\\n",
       "0                             столовая   \n",
       "1                             столовая   \n",
       "2                             столовая   \n",
       "4                             столовая   \n",
       "5                             столовая   \n",
       "..                                 ...   \n",
       "759          магазин (отдел кулинарии)   \n",
       "760  предприятие быстрого обслуживания   \n",
       "762  предприятие быстрого обслуживания   \n",
       "764                           столовая   \n",
       "765  предприятие быстрого обслуживания   \n",
       "\n",
       "                                                   address  number  \\\n",
       "0                  город Москва, Ростокинская улица, дом 3     330   \n",
       "1         город Москва, Родниковая улица, дом 20, корпус 1     320   \n",
       "2                     город Москва, Янтарный проезд, дом 2     300   \n",
       "4                     город Москва, Фруктовая улица, дом 9     300   \n",
       "5                     город Москва, Фруктовая улица, дом 9     300   \n",
       "..                                                     ...     ...   \n",
       "759  город Москва, 4-я Гражданская улица, дом 43, корпус 2       0   \n",
       "760                    город Москва, улица Медиков, дом 16       0   \n",
       "762         город Москва, улица Академика Комарова, дом 5А       0   \n",
       "764                город Москва, Стройковская улица, дом 5       0   \n",
       "765                  город Москва, Сумская улица, дом 2/12       0   \n",
       "\n",
       "                    street_new              street_clean  \\\n",
       "0           Ростокинская улица        Ростокинская улица   \n",
       "1             Родниковая улица          Родниковая улица   \n",
       "2              Янтарный проезд           Янтарный проезд   \n",
       "4              Фруктовая улица           Фруктовая улица   \n",
       "5              Фруктовая улица           Фруктовая улица   \n",
       "..                         ...                       ...   \n",
       "759      4-я Гражданская улица     4-я Гражданская улица   \n",
       "760              улица Медиков             улица Медиков   \n",
       "762   улица Академика Комарова  улица Академика Комарова   \n",
       "764         Стройковская улица        Стройковская улица   \n",
       "765              Сумская улица             Сумская улица   \n",
       "\n",
       "                         area  \n",
       "0             Район Ростокино  \n",
       "1              Район Солнцево  \n",
       "2      Лосиноостровский район  \n",
       "4              Нагорный район  \n",
       "5                Район Зюзино  \n",
       "..                        ...  \n",
       "759         Район Богородское  \n",
       "760            Район Царицыно  \n",
       "762             Район Марфино  \n",
       "764           Таганский район  \n",
       "765  Район Чертаново Северное  \n",
       "\n",
       "[373 rows x 9 columns]"
      ]
     },
     "metadata": {},
     "output_type": "display_data"
    }
   ],
   "source": [
    "# делаем срез только по свободным улицам на общем датафрейме\n",
    "df_actual_bottom = df_actual[df_actual['street_clean'].isin(df_street_bottom_region['street_clean'])]\n",
    "df_actual_bottom = df_actual_bottom.merge(df_street_bottom_region,on='street_clean',how='left',suffixes=('street_clean','street_clean'))\n",
    "df_actual_bottom = df_actual_bottom.drop(columns=['count']).dropna()\n",
    "display(df_actual_bottom)"
   ]
  },
  {
   "cell_type": "markdown",
   "metadata": {},
   "source": [
    "#### Вывод\n",
    "    = Выделили улицы Москвы с 1 заведением общественного питания и соответствующие им регионы"
   ]
  },
  {
   "cell_type": "markdown",
   "metadata": {},
   "source": [
    "### Распределение количества посадочных мест для улиц с большим количеством объектов общественного питания"
   ]
  },
  {
   "cell_type": "code",
   "execution_count": 30,
   "metadata": {},
   "outputs": [
    {
     "data": {
      "image/png": "[encoded data removed]",
      "text/plain": [
       "<Figure size 864x432 with 1 Axes>"
      ]
     },
     "metadata": {},
     "output_type": "display_data"
    },
    {
     "data": {
      "image/png": "[encoded data removed]",
      "text/plain": [
       "<Figure size 864x432 with 1 Axes>"
      ]
     },
     "metadata": {},
     "output_type": "display_data"
    }
   ],
   "source": [
    "# строим гистограммы распределению кол-ва посадочных мест в заведениях топовых улиц и пустых улиц\n",
    "\n",
    "# добавляем столбец со статусом улицы\n",
    "df_actual_top['top'] = 'top'\n",
    "df_actual_bottom['top'] = 'bottom'\n",
    "\n",
    "\n",
    "# объединяем заполненные и пустые улицы\n",
    "frames = [df_actual_top,df_actual_bottom]\n",
    "df_actual_top_bottom = pd.concat(frames)\n",
    "\n",
    "types = ['top','bottom']\n",
    "\n",
    "for type in types:\n",
    "   \n",
    "    df_non_chain = df_actual_top_bottom[df_actual_top_bottom['chain']=='нет'].pivot_table(index=['id','top','object_type'], values='number',aggfunc='median').reset_index()\n",
    "    df_chain = df_actual_top_bottom[df_actual_top_bottom['chain']=='да'].pivot_table(index=['id','top','object_type'], values='number',aggfunc='median').reset_index()\n",
    "    df_non_chain = df_non_chain[df_non_chain['top']==type]\n",
    "    df_chain = df_chain[df_chain['top']==type]\n",
    "    \n",
    "    ax1= df_non_chain.plot(kind='hist',y='number',alpha=0.5,bins=20,figsize=(12,6),label='Среднее вместимость заведения по Несетям')\n",
    "    df_chain.plot(kind='hist',y='number',alpha=0.5,bins=20,figsize=(12,6),label='Среднее вместимость заведения по сетям',ax=ax1)\n",
    "    plt.title(type)\n",
    "    plt.show()\n",
    "    \n"
   ]
  },
  {
   "cell_type": "code",
   "execution_count": 31,
   "metadata": {},
   "outputs": [
    {
     "data": {
      "image/png": "[encoded data removed]",
      "text/plain": [
       "<Figure size 864x432 with 1 Axes>"
      ]
     },
     "metadata": {},
     "output_type": "display_data"
    },
    {
     "data": {
      "image/png": "[encoded data removed]",
      "text/plain": [
       "<Figure size 864x432 with 1 Axes>"
      ]
     },
     "metadata": {},
     "output_type": "display_data"
    }
   ],
   "source": [
    "cats = ['top','bottom']\n",
    "\n",
    "for cat in cats:\n",
    "   \n",
    "    df_actual_top_bottom_type = df_actual_top_bottom[df_actual_top_bottom['top']==cat].groupby(['object_type','chain']).agg({'number':'count'}).reset_index()\n",
    "    df_actual_top_bottom_type.columns=['object_type','chain','count']\n",
    "    df_actual_top_bottom_type= df_actual_top_bottom_type.sort_values(by='count',ascending=False)\n",
    "    plt.figure(figsize=(12,6))\n",
    "     \n",
    "    sns.barplot(x='count', y='object_type',data=df_actual_top_bottom_type,hue='chain').set_title(cat)\n",
    "    #df_actual_top_bottom_type['chain'] = pd.Series(['M','F','M','F'])\n",
    "    plt.show()"
   ]
  },
  {
   "cell_type": "markdown",
   "metadata": {},
   "source": [
    "#### Вывод\n",
    "     - Для улиц с большим кол-вом объектов заведений характерно:\n",
    "     - наиболее часто встречающиеся заведение небольшого формата, вто время как  на пустых улицах вектор направлен в сторону          заведений большей вместимости\n",
    "     - процент заведений сетевого формата выше\n",
    "     - отличие в миксе, больший процент присутствия небольших по площади заведений:\n",
    "       лидирующие позиции в миксе на топовых улицах у кафе, на свободных- у столовых;\n",
    "       предприятия быстрого питания бытсрого обслуживания, уступающие по площади барам и буфетам\n",
    "       представлены в большей степени нежели на свободных улицах, где они как раз идут после"
   ]
  },
  {
   "cell_type": "markdown",
   "metadata": {},
   "source": [
    "### Презентация\n",
    "https://drive.google.com/file/d/1lSvPYhxUwVTXMpl518DPyvxY1_yyOEy6/view?usp=sharing"
   ]
  },
  {
   "cell_type": "markdown",
   "metadata": {},
   "source": [
    "## Вывод"
   ]
  },
  {
   "cell_type": "markdown",
   "metadata": {},
   "source": [
    "- Выбранный вид заведения \"кафе\" несетевого формата является потенциально привлекательным по ряду причин:\n",
    "    - это самый популярный вид заведения общественного питания\n",
    "    - несетевой формат гораздо в большей степени представлен нежели сетевой\n",
    "    - в среднем заведения несетового формата меньше по кол-ву посадочных мест, что означает меньшие вложения\n",
    "    - заведение типа кафе в среднем по рынку рассчитаны на небольшое кол-во посадочных мест,30-для несетового формата, 35-для сеетвого\n",
    "    - процентное соотношение сетевыз и несетевых форматов для типа кафе ведет к незначительному различию в кол-ве посадочных мест,\n",
    "      следовательно к дальнейшем к более простому переходу на формат сети\n",
    "   \n",
    "- Возможность перехода на сетевой формат оптимальна:\n",
    "    - данный тип заведения представлен значительной долей сетевых форматов, несмотря на приоритет несетевых\n",
    "    - нет огромной разницы в средней вместимости сетевых и нет форматов\n",
    "    \n",
    "- Рекомендации по размещению:\n",
    "    - данный вид наиболее востребован на улицах с большим кол-вом объектов общественного питания\n",
    "    - в целом в данных районах более популярны заведения небольшие по площади\n",
    "    - популярность сетевого формата на улицах с большим скоплением заведений нежели на свободных улицах также говорит в пользу становления сетью\n",
    "        "
   ]
  }
 ],
 "metadata": {
  "ExecuteTimeLog": [
   {
    "duration": 1039,
    "start_time": "2022-02-07T14:40:05.765Z"
   },
   {
    "duration": 62,
    "start_time": "2022-02-07T14:40:24.057Z"
   },
   {
    "duration": 76,
    "start_time": "2022-02-07T14:40:41.594Z"
   },
   {
    "duration": 73,
    "start_time": "2022-02-07T14:44:30.367Z"
   },
   {
    "duration": 443,
    "start_time": "2022-02-07T14:44:56.214Z"
   },
   {
    "duration": 40,
    "start_time": "2022-02-07T14:46:39.026Z"
   },
   {
    "duration": 78,
    "start_time": "2022-02-07T14:49:08.545Z"
   },
   {
    "duration": 40,
    "start_time": "2022-02-07T14:50:14.102Z"
   },
   {
    "duration": 50,
    "start_time": "2022-02-07T14:51:51.801Z"
   },
   {
    "duration": 35,
    "start_time": "2022-02-07T14:52:21.398Z"
   },
   {
    "duration": 57,
    "start_time": "2022-02-07T14:53:12.882Z"
   },
   {
    "duration": 12,
    "start_time": "2022-02-07T16:32:14.253Z"
   },
   {
    "duration": 355,
    "start_time": "2022-02-07T16:32:32.777Z"
   },
   {
    "duration": 10,
    "start_time": "2022-02-07T16:33:16.300Z"
   },
   {
    "duration": 394,
    "start_time": "2022-02-07T16:35:26.481Z"
   },
   {
    "duration": 294,
    "start_time": "2022-02-07T16:35:58.684Z"
   },
   {
    "duration": 1013,
    "start_time": "2022-02-07T20:15:31.691Z"
   },
   {
    "duration": 1013,
    "start_time": "2022-02-07T20:15:44.600Z"
   },
   {
    "duration": 30,
    "start_time": "2022-02-07T20:15:45.615Z"
   },
   {
    "duration": 196,
    "start_time": "2022-02-07T20:15:45.647Z"
   },
   {
    "duration": 174,
    "start_time": "2022-02-07T20:15:48.503Z"
   },
   {
    "duration": 345,
    "start_time": "2022-02-07T20:16:05.479Z"
   },
   {
    "duration": 75,
    "start_time": "2022-02-07T20:17:51.992Z"
   },
   {
    "duration": 761,
    "start_time": "2022-02-07T20:23:55.106Z"
   },
   {
    "duration": 745,
    "start_time": "2022-02-07T20:24:49.084Z"
   },
   {
    "duration": 714,
    "start_time": "2022-02-07T20:24:58.316Z"
   },
   {
    "duration": 11,
    "start_time": "2022-02-07T20:25:32.035Z"
   },
   {
    "duration": 7,
    "start_time": "2022-02-07T20:25:57.612Z"
   },
   {
    "duration": 7,
    "start_time": "2022-02-07T20:26:07.507Z"
   },
   {
    "duration": 187,
    "start_time": "2022-02-07T20:26:12.628Z"
   },
   {
    "duration": 186,
    "start_time": "2022-02-07T20:27:26.572Z"
   },
   {
    "duration": 216,
    "start_time": "2022-02-07T20:27:34.316Z"
   },
   {
    "duration": 7,
    "start_time": "2022-02-07T20:27:52.516Z"
   },
   {
    "duration": 6268,
    "start_time": "2022-02-07T20:29:14.885Z"
   },
   {
    "duration": 6,
    "start_time": "2022-02-07T20:30:31.886Z"
   },
   {
    "duration": 61,
    "start_time": "2022-02-07T20:30:41.975Z"
   },
   {
    "duration": 30,
    "start_time": "2022-02-07T20:30:42.039Z"
   },
   {
    "duration": 181,
    "start_time": "2022-02-07T20:30:42.071Z"
   },
   {
    "duration": 7,
    "start_time": "2022-02-07T20:30:44.718Z"
   },
   {
    "duration": 6,
    "start_time": "2022-02-07T20:30:58.878Z"
   },
   {
    "duration": 6,
    "start_time": "2022-02-07T20:31:22.215Z"
   },
   {
    "duration": 7,
    "start_time": "2022-02-07T20:31:54.087Z"
   },
   {
    "duration": 897,
    "start_time": "2022-02-07T20:32:39.502Z"
   },
   {
    "duration": 7,
    "start_time": "2022-02-07T20:33:09.023Z"
   },
   {
    "duration": 252,
    "start_time": "2022-02-07T20:34:08.480Z"
   },
   {
    "duration": 595,
    "start_time": "2022-02-07T20:34:19.560Z"
   },
   {
    "duration": 161,
    "start_time": "2022-02-07T20:34:39.239Z"
   },
   {
    "duration": 940,
    "start_time": "2022-02-08T12:41:04.957Z"
   },
   {
    "duration": 891,
    "start_time": "2022-02-08T12:41:15.076Z"
   },
   {
    "duration": 27,
    "start_time": "2022-02-08T12:41:15.969Z"
   },
   {
    "duration": 174,
    "start_time": "2022-02-08T12:41:15.998Z"
   },
   {
    "duration": 473,
    "start_time": "2022-02-08T12:41:16.174Z"
   },
   {
    "duration": 107,
    "start_time": "2022-02-08T17:32:54.655Z"
   },
   {
    "duration": 151,
    "start_time": "2022-02-08T17:33:07.338Z"
   },
   {
    "duration": 69,
    "start_time": "2022-02-08T17:33:23.460Z"
   },
   {
    "duration": 1940,
    "start_time": "2022-02-08T17:52:50.635Z"
   },
   {
    "duration": 17,
    "start_time": "2022-02-08T17:58:39.049Z"
   },
   {
    "duration": 14,
    "start_time": "2022-02-08T17:59:16.591Z"
   },
   {
    "duration": 465,
    "start_time": "2022-02-08T18:06:05.320Z"
   },
   {
    "duration": 289,
    "start_time": "2022-02-08T18:06:14.370Z"
   },
   {
    "duration": 310,
    "start_time": "2022-02-08T18:06:45.769Z"
   },
   {
    "duration": 14,
    "start_time": "2022-02-08T18:08:23.347Z"
   },
   {
    "duration": 1128,
    "start_time": "2022-02-08T18:09:07.409Z"
   },
   {
    "duration": 309,
    "start_time": "2022-02-08T18:10:03.834Z"
   },
   {
    "duration": 1096,
    "start_time": "2022-02-08T18:13:24.416Z"
   },
   {
    "duration": 14,
    "start_time": "2022-02-08T18:13:50.900Z"
   },
   {
    "duration": 311,
    "start_time": "2022-02-08T18:14:05.249Z"
   },
   {
    "duration": 552,
    "start_time": "2022-02-08T18:15:59.493Z"
   },
   {
    "duration": 310,
    "start_time": "2022-02-08T18:16:10.084Z"
   },
   {
    "duration": 1688,
    "start_time": "2022-02-08T18:16:24.604Z"
   },
   {
    "duration": 295,
    "start_time": "2022-02-08T18:17:51.901Z"
   },
   {
    "duration": 362,
    "start_time": "2022-02-08T18:19:57.222Z"
   },
   {
    "duration": 391,
    "start_time": "2022-02-08T18:22:22.296Z"
   },
   {
    "duration": 23,
    "start_time": "2022-02-08T18:23:36.634Z"
   },
   {
    "duration": 29,
    "start_time": "2022-02-08T18:23:53.815Z"
   },
   {
    "duration": 24,
    "start_time": "2022-02-08T18:24:54.514Z"
   },
   {
    "duration": 1358,
    "start_time": "2022-02-08T18:25:41.113Z"
   },
   {
    "duration": 709,
    "start_time": "2022-02-08T18:27:09.574Z"
   },
   {
    "duration": 780,
    "start_time": "2022-02-08T18:27:36.313Z"
   },
   {
    "duration": 519,
    "start_time": "2022-02-08T18:31:24.484Z"
   },
   {
    "duration": 730,
    "start_time": "2022-02-08T18:35:13.736Z"
   },
   {
    "duration": 375,
    "start_time": "2022-02-08T18:35:36.990Z"
   },
   {
    "duration": 144,
    "start_time": "2022-02-08T18:58:52.672Z"
   },
   {
    "duration": 714,
    "start_time": "2022-02-08T19:03:25.834Z"
   },
   {
    "duration": 510,
    "start_time": "2022-02-08T19:03:44.921Z"
   },
   {
    "duration": 34,
    "start_time": "2022-02-08T19:04:50.641Z"
   },
   {
    "duration": 53,
    "start_time": "2022-02-08T19:05:07.944Z"
   },
   {
    "duration": 64,
    "start_time": "2022-02-08T19:05:28.273Z"
   },
   {
    "duration": 2145,
    "start_time": "2022-02-09T20:07:09.262Z"
   },
   {
    "duration": 62,
    "start_time": "2022-02-09T20:07:11.411Z"
   },
   {
    "duration": 308,
    "start_time": "2022-02-09T20:07:11.479Z"
   },
   {
    "duration": 155,
    "start_time": "2022-02-09T20:07:11.792Z"
   },
   {
    "duration": 763,
    "start_time": "2022-02-09T20:07:11.949Z"
   },
   {
    "duration": 859,
    "start_time": "2022-02-09T20:07:12.716Z"
   },
   {
    "duration": 49,
    "start_time": "2022-02-09T20:07:13.579Z"
   },
   {
    "duration": 2156,
    "start_time": "2022-02-10T06:50:42.009Z"
   },
   {
    "duration": 33,
    "start_time": "2022-02-10T06:50:44.167Z"
   },
   {
    "duration": 209,
    "start_time": "2022-02-10T06:50:44.202Z"
   },
   {
    "duration": 93,
    "start_time": "2022-02-10T06:50:44.412Z"
   },
   {
    "duration": 553,
    "start_time": "2022-02-10T06:50:44.507Z"
   },
   {
    "duration": 423,
    "start_time": "2022-02-10T06:50:45.062Z"
   },
   {
    "duration": 590,
    "start_time": "2022-02-10T06:50:45.487Z"
   },
   {
    "duration": 838,
    "start_time": "2022-02-10T13:25:28.328Z"
   },
   {
    "duration": 635,
    "start_time": "2022-02-10T13:32:17.019Z"
   },
   {
    "duration": 873,
    "start_time": "2022-02-10T13:32:29.554Z"
   },
   {
    "duration": 928,
    "start_time": "2022-02-10T13:33:54.499Z"
   },
   {
    "duration": 860,
    "start_time": "2022-02-10T13:35:08.235Z"
   },
   {
    "duration": 723,
    "start_time": "2022-02-10T13:35:17.156Z"
   },
   {
    "duration": 746,
    "start_time": "2022-02-10T13:35:25.635Z"
   },
   {
    "duration": 866,
    "start_time": "2022-02-10T13:37:47.990Z"
   },
   {
    "duration": 1003,
    "start_time": "2022-02-10T13:39:21.830Z"
   },
   {
    "duration": 789,
    "start_time": "2022-02-10T13:43:33.210Z"
   },
   {
    "duration": 1274,
    "start_time": "2022-02-10T13:43:58.207Z"
   },
   {
    "duration": 1100,
    "start_time": "2022-02-10T13:44:21.575Z"
   },
   {
    "duration": 1077,
    "start_time": "2022-02-10T13:47:32.169Z"
   },
   {
    "duration": 1090,
    "start_time": "2022-02-10T13:47:42.530Z"
   },
   {
    "duration": 1196,
    "start_time": "2022-02-10T13:47:51.553Z"
   },
   {
    "duration": 1050,
    "start_time": "2022-02-10T13:48:51.202Z"
   },
   {
    "duration": 876,
    "start_time": "2022-02-10T13:48:58.721Z"
   },
   {
    "duration": 898,
    "start_time": "2022-02-10T13:49:14.266Z"
   },
   {
    "duration": 998,
    "start_time": "2022-02-10T13:51:04.875Z"
   },
   {
    "duration": 891,
    "start_time": "2022-02-10T13:51:16.563Z"
   },
   {
    "duration": 1231,
    "start_time": "2022-02-10T13:52:16.548Z"
   },
   {
    "duration": 1028,
    "start_time": "2022-02-10T13:52:26.676Z"
   },
   {
    "duration": 868,
    "start_time": "2022-02-10T13:53:51.108Z"
   },
   {
    "duration": 831,
    "start_time": "2022-02-10T13:54:04.459Z"
   },
   {
    "duration": 843,
    "start_time": "2022-02-10T13:54:12.243Z"
   },
   {
    "duration": 434,
    "start_time": "2022-02-10T14:33:56.688Z"
   },
   {
    "duration": 437,
    "start_time": "2022-02-10T14:34:49.043Z"
   },
   {
    "duration": 453,
    "start_time": "2022-02-10T14:35:03.011Z"
   },
   {
    "duration": 938,
    "start_time": "2022-02-10T14:35:26.748Z"
   },
   {
    "duration": 56,
    "start_time": "2022-02-10T14:41:12.761Z"
   },
   {
    "duration": 28,
    "start_time": "2022-02-10T14:41:12.819Z"
   },
   {
    "duration": 176,
    "start_time": "2022-02-10T14:41:12.849Z"
   },
   {
    "duration": 85,
    "start_time": "2022-02-10T14:41:13.027Z"
   },
   {
    "duration": 113,
    "start_time": "2022-02-10T14:41:13.114Z"
   },
   {
    "duration": 384,
    "start_time": "2022-02-10T14:41:13.228Z"
   },
   {
    "duration": 328,
    "start_time": "2022-02-10T14:41:13.614Z"
   },
   {
    "duration": 323,
    "start_time": "2022-02-10T14:41:22.888Z"
   },
   {
    "duration": 324,
    "start_time": "2022-02-10T14:42:58.039Z"
   },
   {
    "duration": 914,
    "start_time": "2022-02-10T14:44:02.880Z"
   },
   {
    "duration": 321,
    "start_time": "2022-02-10T14:50:48.202Z"
   },
   {
    "duration": 431,
    "start_time": "2022-02-10T14:50:58.732Z"
   },
   {
    "duration": 531,
    "start_time": "2022-02-10T14:52:23.563Z"
   },
   {
    "duration": 532,
    "start_time": "2022-02-10T14:52:30.243Z"
   },
   {
    "duration": 4374,
    "start_time": "2022-02-10T15:07:01.401Z"
   },
   {
    "duration": 332,
    "start_time": "2022-02-10T15:56:51.957Z"
   },
   {
    "duration": 3,
    "start_time": "2022-02-10T15:57:56.268Z"
   },
   {
    "duration": 8,
    "start_time": "2022-02-10T15:58:07.148Z"
   },
   {
    "duration": 378,
    "start_time": "2022-02-10T15:58:23.293Z"
   },
   {
    "duration": 4,
    "start_time": "2022-02-10T15:58:36.260Z"
   },
   {
    "duration": 345,
    "start_time": "2022-02-10T15:58:44.733Z"
   },
   {
    "duration": 4366,
    "start_time": "2022-02-10T15:59:48.006Z"
   },
   {
    "duration": 7618,
    "start_time": "2022-02-10T19:13:45.452Z"
   },
   {
    "duration": 54,
    "start_time": "2022-02-10T19:14:30.006Z"
   },
   {
    "duration": 31,
    "start_time": "2022-02-10T19:14:30.062Z"
   },
   {
    "duration": 172,
    "start_time": "2022-02-10T19:14:30.095Z"
   },
   {
    "duration": 80,
    "start_time": "2022-02-10T19:14:30.272Z"
   },
   {
    "duration": 125,
    "start_time": "2022-02-10T19:14:30.353Z"
   },
   {
    "duration": 232,
    "start_time": "2022-02-10T19:14:30.480Z"
   },
   {
    "duration": 924,
    "start_time": "2022-02-10T19:14:30.714Z"
   },
   {
    "duration": 4326,
    "start_time": "2022-02-10T19:14:31.641Z"
   },
   {
    "duration": 8326,
    "start_time": "2022-02-10T19:14:35.972Z"
   },
   {
    "duration": 7594,
    "start_time": "2022-02-10T19:15:38.295Z"
   },
   {
    "duration": 14,
    "start_time": "2022-02-10T19:23:52.432Z"
   },
   {
    "duration": 16,
    "start_time": "2022-02-10T19:24:49.337Z"
   },
   {
    "duration": 7738,
    "start_time": "2022-02-10T19:25:02.528Z"
   },
   {
    "duration": 17,
    "start_time": "2022-02-10T19:25:46.497Z"
   },
   {
    "duration": 15,
    "start_time": "2022-02-10T19:27:09.609Z"
   },
   {
    "duration": 17,
    "start_time": "2022-02-10T19:28:38.476Z"
   },
   {
    "duration": 15,
    "start_time": "2022-02-10T19:28:46.817Z"
   },
   {
    "duration": 14,
    "start_time": "2022-02-10T19:29:17.634Z"
   },
   {
    "duration": 346,
    "start_time": "2022-02-10T19:29:50.002Z"
   },
   {
    "duration": 189,
    "start_time": "2022-02-10T19:30:07.418Z"
   },
   {
    "duration": 185,
    "start_time": "2022-02-10T19:30:45.379Z"
   },
   {
    "duration": 195,
    "start_time": "2022-02-10T19:31:29.218Z"
   },
   {
    "duration": 205,
    "start_time": "2022-02-10T19:33:14.659Z"
   },
   {
    "duration": 175,
    "start_time": "2022-02-10T19:33:54.948Z"
   },
   {
    "duration": 324,
    "start_time": "2022-02-10T19:49:14.939Z"
   },
   {
    "duration": 940,
    "start_time": "2022-02-10T19:49:32.218Z"
   },
   {
    "duration": 876,
    "start_time": "2022-02-10T19:50:46.682Z"
   },
   {
    "duration": 865,
    "start_time": "2022-02-10T19:51:10.754Z"
   },
   {
    "duration": 861,
    "start_time": "2022-02-10T19:51:25.501Z"
   },
   {
    "duration": 1167,
    "start_time": "2022-02-10T19:52:31.747Z"
   },
   {
    "duration": 1181,
    "start_time": "2022-02-10T19:52:52.411Z"
   },
   {
    "duration": 1395,
    "start_time": "2022-02-10T19:57:21.525Z"
   },
   {
    "duration": 896,
    "start_time": "2022-02-10T20:05:35.057Z"
   },
   {
    "duration": 429,
    "start_time": "2022-02-10T20:08:33.689Z"
   },
   {
    "duration": 329,
    "start_time": "2022-02-10T20:09:12.195Z"
   },
   {
    "duration": 567,
    "start_time": "2022-02-10T20:09:29.426Z"
   },
   {
    "duration": 466,
    "start_time": "2022-02-10T20:09:41.987Z"
   },
   {
    "duration": 450,
    "start_time": "2022-02-10T20:09:51.866Z"
   },
   {
    "duration": 481,
    "start_time": "2022-02-10T20:10:02.883Z"
   },
   {
    "duration": 747,
    "start_time": "2022-02-10T20:10:35.411Z"
   },
   {
    "duration": 579,
    "start_time": "2022-02-10T20:11:10.354Z"
   },
   {
    "duration": 613,
    "start_time": "2022-02-10T20:11:22.638Z"
   },
   {
    "duration": 912,
    "start_time": "2022-02-10T21:05:06.376Z"
   },
   {
    "duration": 796,
    "start_time": "2022-02-10T21:05:24.064Z"
   },
   {
    "duration": 717,
    "start_time": "2022-02-10T21:05:38.968Z"
   },
   {
    "duration": 965,
    "start_time": "2022-02-10T21:06:05.072Z"
   },
   {
    "duration": 800,
    "start_time": "2022-02-10T21:06:59.880Z"
   },
   {
    "duration": 753,
    "start_time": "2022-02-10T21:07:17.873Z"
   },
   {
    "duration": 766,
    "start_time": "2022-02-10T21:07:34.032Z"
   },
   {
    "duration": 746,
    "start_time": "2022-02-10T21:07:44.208Z"
   },
   {
    "duration": 749,
    "start_time": "2022-02-10T21:08:06.848Z"
   },
   {
    "duration": 734,
    "start_time": "2022-02-10T21:08:47.459Z"
   },
   {
    "duration": 1024,
    "start_time": "2022-02-10T21:09:15.562Z"
   },
   {
    "duration": 765,
    "start_time": "2022-02-10T21:09:35.915Z"
   },
   {
    "duration": 753,
    "start_time": "2022-02-10T21:09:56.289Z"
   },
   {
    "duration": 738,
    "start_time": "2022-02-10T21:13:26.318Z"
   },
   {
    "duration": 748,
    "start_time": "2022-02-10T21:13:53.123Z"
   },
   {
    "duration": 732,
    "start_time": "2022-02-10T21:14:16.915Z"
   },
   {
    "duration": 288,
    "start_time": "2022-02-10T21:16:23.357Z"
   },
   {
    "duration": 619,
    "start_time": "2022-02-10T21:17:41.430Z"
   },
   {
    "duration": 1030,
    "start_time": "2022-02-10T21:18:54.429Z"
   },
   {
    "duration": 639,
    "start_time": "2022-02-10T21:20:10.254Z"
   },
   {
    "duration": 310,
    "start_time": "2022-02-10T21:20:27.125Z"
   },
   {
    "duration": 283,
    "start_time": "2022-02-10T21:21:02.416Z"
   },
   {
    "duration": 1476,
    "start_time": "2022-02-11T18:38:08.350Z"
   },
   {
    "duration": 37,
    "start_time": "2022-02-11T18:38:09.828Z"
   },
   {
    "duration": 231,
    "start_time": "2022-02-11T18:38:09.867Z"
   },
   {
    "duration": 105,
    "start_time": "2022-02-11T18:38:10.100Z"
   },
   {
    "duration": 545,
    "start_time": "2022-02-11T18:38:10.207Z"
   },
   {
    "duration": 470,
    "start_time": "2022-02-11T18:38:10.754Z"
   },
   {
    "duration": 1065,
    "start_time": "2022-02-11T18:38:11.225Z"
   },
   {
    "duration": 5393,
    "start_time": "2022-02-11T18:38:12.292Z"
   },
   {
    "duration": 231,
    "start_time": "2022-02-11T18:38:17.687Z"
   },
   {
    "duration": 360,
    "start_time": "2022-02-11T18:38:17.920Z"
   },
   {
    "duration": 1058,
    "start_time": "2022-02-11T18:38:18.282Z"
   },
   {
    "duration": 9,
    "start_time": "2022-02-11T18:40:20.524Z"
   },
   {
    "duration": 486,
    "start_time": "2022-02-11T18:41:10.492Z"
   },
   {
    "duration": 14,
    "start_time": "2022-02-11T18:41:17.443Z"
   },
   {
    "duration": 271,
    "start_time": "2022-02-11T18:43:06.478Z"
   },
   {
    "duration": 24,
    "start_time": "2022-02-11T18:44:03.055Z"
   },
   {
    "duration": 30,
    "start_time": "2022-02-11T18:44:19.549Z"
   },
   {
    "duration": 34,
    "start_time": "2022-02-11T19:07:17.082Z"
   },
   {
    "duration": 30,
    "start_time": "2022-02-11T19:07:30.858Z"
   },
   {
    "duration": 230,
    "start_time": "2022-02-11T19:07:59.184Z"
   },
   {
    "duration": 29,
    "start_time": "2022-02-11T19:09:07.977Z"
   },
   {
    "duration": 30,
    "start_time": "2022-02-11T19:09:26.033Z"
   },
   {
    "duration": 21,
    "start_time": "2022-02-11T19:09:35.984Z"
   },
   {
    "duration": 22,
    "start_time": "2022-02-11T19:10:21.162Z"
   },
   {
    "duration": 33,
    "start_time": "2022-02-11T19:11:19.698Z"
   },
   {
    "duration": 43,
    "start_time": "2022-02-11T19:11:31.242Z"
   },
   {
    "duration": 132,
    "start_time": "2022-02-11T19:12:08.986Z"
   },
   {
    "duration": 681,
    "start_time": "2022-02-11T19:58:03.999Z"
   },
   {
    "duration": 307,
    "start_time": "2022-02-11T20:03:15.577Z"
   },
   {
    "duration": 1620,
    "start_time": "2022-02-11T20:03:25.322Z"
   },
   {
    "duration": 36,
    "start_time": "2022-02-11T20:03:26.944Z"
   },
   {
    "duration": 228,
    "start_time": "2022-02-11T20:03:26.982Z"
   },
   {
    "duration": 96,
    "start_time": "2022-02-11T20:03:27.212Z"
   },
   {
    "duration": 566,
    "start_time": "2022-02-11T20:03:27.310Z"
   },
   {
    "duration": 476,
    "start_time": "2022-02-11T20:03:27.898Z"
   },
   {
    "duration": 1058,
    "start_time": "2022-02-11T20:03:28.376Z"
   },
   {
    "duration": 5491,
    "start_time": "2022-02-11T20:03:29.436Z"
   },
   {
    "duration": 240,
    "start_time": "2022-02-11T20:03:34.929Z"
   },
   {
    "duration": 837,
    "start_time": "2022-02-11T20:03:35.171Z"
   },
   {
    "duration": 1017,
    "start_time": "2022-02-11T20:03:36.010Z"
   },
   {
    "duration": 412,
    "start_time": "2022-02-11T20:03:37.028Z"
   },
   {
    "duration": 291,
    "start_time": "2022-02-11T20:11:31.092Z"
   },
   {
    "duration": 1523,
    "start_time": "2022-02-11T20:58:10.731Z"
   },
   {
    "duration": 43,
    "start_time": "2022-02-11T20:58:12.257Z"
   },
   {
    "duration": 245,
    "start_time": "2022-02-11T20:58:12.305Z"
   },
   {
    "duration": 106,
    "start_time": "2022-02-11T20:58:12.552Z"
   },
   {
    "duration": 570,
    "start_time": "2022-02-11T20:58:12.660Z"
   },
   {
    "duration": 505,
    "start_time": "2022-02-11T20:58:13.232Z"
   },
   {
    "duration": 1094,
    "start_time": "2022-02-11T20:58:13.740Z"
   },
   {
    "duration": 5559,
    "start_time": "2022-02-11T20:58:14.836Z"
   },
   {
    "duration": 247,
    "start_time": "2022-02-11T20:58:20.398Z"
   },
   {
    "duration": 875,
    "start_time": "2022-02-11T20:58:20.647Z"
   },
   {
    "duration": 1042,
    "start_time": "2022-02-11T20:58:21.523Z"
   },
   {
    "duration": 354,
    "start_time": "2022-02-11T21:02:22.805Z"
   },
   {
    "duration": 1641,
    "start_time": "2022-02-11T21:02:27.111Z"
   },
   {
    "duration": 46,
    "start_time": "2022-02-11T21:02:28.754Z"
   },
   {
    "duration": 237,
    "start_time": "2022-02-11T21:02:28.802Z"
   },
   {
    "duration": 114,
    "start_time": "2022-02-11T21:02:29.041Z"
   },
   {
    "duration": 566,
    "start_time": "2022-02-11T21:02:29.157Z"
   },
   {
    "duration": 508,
    "start_time": "2022-02-11T21:02:29.726Z"
   },
   {
    "duration": 1104,
    "start_time": "2022-02-11T21:02:30.236Z"
   },
   {
    "duration": 5682,
    "start_time": "2022-02-11T21:02:31.342Z"
   },
   {
    "duration": 246,
    "start_time": "2022-02-11T21:02:37.028Z"
   },
   {
    "duration": 866,
    "start_time": "2022-02-11T21:02:37.277Z"
   },
   {
    "duration": 1074,
    "start_time": "2022-02-11T21:02:38.145Z"
   },
   {
    "duration": 7110,
    "start_time": "2022-02-11T21:02:39.221Z"
   },
   {
    "duration": 8073,
    "start_time": "2022-02-11T21:04:16.603Z"
   },
   {
    "duration": -714,
    "start_time": "2022-02-11T21:12:59.115Z"
   },
   {
    "duration": 543,
    "start_time": "2022-02-11T21:13:01.984Z"
   },
   {
    "duration": 41,
    "start_time": "2022-02-11T21:13:22.119Z"
   },
   {
    "duration": 42,
    "start_time": "2022-02-11T21:13:29.694Z"
   },
   {
    "duration": 25,
    "start_time": "2022-02-11T21:14:04.241Z"
   },
   {
    "duration": 301,
    "start_time": "2022-02-11T23:06:42.465Z"
   },
   {
    "duration": 414,
    "start_time": "2022-02-11T23:06:54.495Z"
   },
   {
    "duration": 365,
    "start_time": "2022-02-12T09:46:13.846Z"
   },
   {
    "duration": 1551,
    "start_time": "2022-02-12T09:46:19.194Z"
   },
   {
    "duration": 28,
    "start_time": "2022-02-12T09:46:20.748Z"
   },
   {
    "duration": 173,
    "start_time": "2022-02-12T09:46:20.779Z"
   },
   {
    "duration": 78,
    "start_time": "2022-02-12T09:46:20.954Z"
   },
   {
    "duration": 457,
    "start_time": "2022-02-12T09:46:21.033Z"
   },
   {
    "duration": 500,
    "start_time": "2022-02-12T09:46:21.491Z"
   },
   {
    "duration": 859,
    "start_time": "2022-02-12T09:46:21.993Z"
   },
   {
    "duration": 4053,
    "start_time": "2022-02-12T09:46:22.854Z"
   },
   {
    "duration": 180,
    "start_time": "2022-02-12T09:46:26.909Z"
   },
   {
    "duration": 723,
    "start_time": "2022-02-12T09:46:27.092Z"
   },
   {
    "duration": 845,
    "start_time": "2022-02-12T09:46:27.817Z"
   },
   {
    "duration": 445,
    "start_time": "2022-02-12T09:46:28.664Z"
   },
   {
    "duration": 772,
    "start_time": "2022-02-12T09:46:57.512Z"
   },
   {
    "duration": 915,
    "start_time": "2022-02-12T09:47:37.590Z"
   },
   {
    "duration": 1193,
    "start_time": "2022-02-12T09:48:25.255Z"
   },
   {
    "duration": 848,
    "start_time": "2022-02-12T09:48:56.742Z"
   },
   {
    "duration": 1156,
    "start_time": "2022-02-12T09:49:03.254Z"
   },
   {
    "duration": 979,
    "start_time": "2022-02-12T09:49:31.964Z"
   },
   {
    "duration": 4,
    "start_time": "2022-02-12T11:57:35.817Z"
   },
   {
    "duration": 11591,
    "start_time": "2022-02-12T11:57:49.883Z"
   },
   {
    "duration": 8961,
    "start_time": "2022-02-12T11:58:38.726Z"
   },
   {
    "duration": 1049,
    "start_time": "2022-02-12T11:59:06.106Z"
   },
   {
    "duration": 837,
    "start_time": "2022-02-12T11:59:56.334Z"
   },
   {
    "duration": 334,
    "start_time": "2022-02-12T12:01:05.680Z"
   },
   {
    "duration": 337,
    "start_time": "2022-02-12T12:09:17.539Z"
   },
   {
    "duration": 474,
    "start_time": "2022-02-12T12:09:58.311Z"
   },
   {
    "duration": 408,
    "start_time": "2022-02-12T12:10:41.786Z"
   },
   {
    "duration": 422,
    "start_time": "2022-02-12T12:11:01.116Z"
   },
   {
    "duration": 451,
    "start_time": "2022-02-12T12:11:08.164Z"
   },
   {
    "duration": 433,
    "start_time": "2022-02-12T12:11:23.204Z"
   },
   {
    "duration": 450,
    "start_time": "2022-02-12T12:11:31.071Z"
   },
   {
    "duration": 861,
    "start_time": "2022-02-12T12:13:08.310Z"
   },
   {
    "duration": 1399,
    "start_time": "2022-02-12T12:50:11.623Z"
   },
   {
    "duration": 819,
    "start_time": "2022-02-12T12:50:20.324Z"
   },
   {
    "duration": 54,
    "start_time": "2022-02-12T12:51:00.022Z"
   },
   {
    "duration": 30,
    "start_time": "2022-02-12T12:51:00.078Z"
   },
   {
    "duration": 171,
    "start_time": "2022-02-12T12:51:00.110Z"
   },
   {
    "duration": 83,
    "start_time": "2022-02-12T12:51:00.283Z"
   },
   {
    "duration": 104,
    "start_time": "2022-02-12T12:51:00.367Z"
   },
   {
    "duration": 370,
    "start_time": "2022-02-12T12:51:00.472Z"
   },
   {
    "duration": 873,
    "start_time": "2022-02-12T12:51:00.844Z"
   },
   {
    "duration": 3909,
    "start_time": "2022-02-12T12:51:01.718Z"
   },
   {
    "duration": 175,
    "start_time": "2022-02-12T12:51:05.629Z"
   },
   {
    "duration": 1037,
    "start_time": "2022-02-12T12:51:05.806Z"
   },
   {
    "duration": -1462,
    "start_time": "2022-02-12T12:51:08.307Z"
   },
   {
    "duration": -1464,
    "start_time": "2022-02-12T12:51:08.309Z"
   },
   {
    "duration": -1464,
    "start_time": "2022-02-12T12:51:08.310Z"
   },
   {
    "duration": 996,
    "start_time": "2022-02-12T12:51:19.052Z"
   },
   {
    "duration": 911,
    "start_time": "2022-02-12T12:51:25.189Z"
   },
   {
    "duration": 886,
    "start_time": "2022-02-12T12:51:36.820Z"
   },
   {
    "duration": 838,
    "start_time": "2022-02-12T12:51:45.016Z"
   },
   {
    "duration": 437,
    "start_time": "2022-02-12T12:52:26.472Z"
   },
   {
    "duration": 10,
    "start_time": "2022-02-12T12:53:25.152Z"
   },
   {
    "duration": 817,
    "start_time": "2022-02-12T12:56:29.539Z"
   },
   {
    "duration": 883,
    "start_time": "2022-02-12T12:56:58.063Z"
   },
   {
    "duration": 117,
    "start_time": "2022-02-12T12:59:03.654Z"
   },
   {
    "duration": 8,
    "start_time": "2022-02-12T12:59:20.184Z"
   },
   {
    "duration": 8,
    "start_time": "2022-02-12T12:59:28.759Z"
   },
   {
    "duration": 847,
    "start_time": "2022-02-12T13:00:29.811Z"
   },
   {
    "duration": 870,
    "start_time": "2022-02-12T13:18:57.471Z"
   },
   {
    "duration": 479,
    "start_time": "2022-02-12T13:19:21.446Z"
   },
   {
    "duration": 1060,
    "start_time": "2022-02-12T13:19:37.761Z"
   },
   {
    "duration": 16,
    "start_time": "2022-02-12T13:33:16.083Z"
   },
   {
    "duration": 328,
    "start_time": "2022-02-12T13:33:44.416Z"
   },
   {
    "duration": 120,
    "start_time": "2022-02-12T13:33:51.235Z"
   },
   {
    "duration": 353,
    "start_time": "2022-02-12T13:34:27.464Z"
   },
   {
    "duration": 17,
    "start_time": "2022-02-12T13:35:37.855Z"
   },
   {
    "duration": 32,
    "start_time": "2022-02-12T13:38:25.372Z"
   },
   {
    "duration": 112,
    "start_time": "2022-02-12T14:20:39.404Z"
   },
   {
    "duration": 350,
    "start_time": "2022-02-12T14:20:47.553Z"
   },
   {
    "duration": 332,
    "start_time": "2022-02-12T14:22:12.059Z"
   },
   {
    "duration": 536,
    "start_time": "2022-02-12T14:22:29.515Z"
   },
   {
    "duration": 27045,
    "start_time": "2022-02-12T14:41:29.584Z"
   },
   {
    "duration": 30189,
    "start_time": "2022-02-12T14:42:36.950Z"
   },
   {
    "duration": 26376,
    "start_time": "2022-02-12T14:44:19.752Z"
   },
   {
    "duration": 17,
    "start_time": "2022-02-12T14:45:41.649Z"
   },
   {
    "duration": 17,
    "start_time": "2022-02-12T14:46:04.937Z"
   },
   {
    "duration": 29188,
    "start_time": "2022-02-12T14:47:10.928Z"
   },
   {
    "duration": 27169,
    "start_time": "2022-02-12T15:00:18.505Z"
   },
   {
    "duration": 29362,
    "start_time": "2022-02-12T15:03:18.822Z"
   },
   {
    "duration": 18,
    "start_time": "2022-02-12T15:04:16.770Z"
   },
   {
    "duration": 21,
    "start_time": "2022-02-12T15:04:51.329Z"
   },
   {
    "duration": 21,
    "start_time": "2022-02-12T15:04:58.649Z"
   },
   {
    "duration": 125,
    "start_time": "2022-02-12T15:05:38.737Z"
   },
   {
    "duration": 22,
    "start_time": "2022-02-12T15:06:25.257Z"
   },
   {
    "duration": 21,
    "start_time": "2022-02-12T15:06:33.872Z"
   },
   {
    "duration": 20,
    "start_time": "2022-02-12T15:08:41.404Z"
   },
   {
    "duration": 21,
    "start_time": "2022-02-12T15:09:03.272Z"
   },
   {
    "duration": 20,
    "start_time": "2022-02-12T15:09:18.259Z"
   },
   {
    "duration": 608,
    "start_time": "2022-02-12T15:10:52.605Z"
   },
   {
    "duration": 27324,
    "start_time": "2022-02-12T15:11:19.560Z"
   },
   {
    "duration": 4163,
    "start_time": "2022-02-12T20:45:03.264Z"
   },
   {
    "duration": 385,
    "start_time": "2022-02-12T20:45:15.939Z"
   },
   {
    "duration": 433,
    "start_time": "2022-02-12T20:45:29.346Z"
   },
   {
    "duration": 58,
    "start_time": "2022-02-12T20:45:31.246Z"
   },
   {
    "duration": 28,
    "start_time": "2022-02-12T20:45:31.305Z"
   },
   {
    "duration": 158,
    "start_time": "2022-02-12T20:45:31.335Z"
   },
   {
    "duration": 82,
    "start_time": "2022-02-12T20:45:31.495Z"
   },
   {
    "duration": 105,
    "start_time": "2022-02-12T20:45:31.579Z"
   },
   {
    "duration": 243,
    "start_time": "2022-02-12T20:45:31.686Z"
   },
   {
    "duration": 869,
    "start_time": "2022-02-12T20:45:31.931Z"
   },
   {
    "duration": 4165,
    "start_time": "2022-02-12T20:45:32.802Z"
   },
   {
    "duration": 175,
    "start_time": "2022-02-12T20:45:36.969Z"
   },
   {
    "duration": 1162,
    "start_time": "2022-02-12T20:45:37.145Z"
   },
   {
    "duration": -75,
    "start_time": "2022-02-12T20:45:38.384Z"
   },
   {
    "duration": -76,
    "start_time": "2022-02-12T20:45:38.386Z"
   },
   {
    "duration": -77,
    "start_time": "2022-02-12T20:45:38.388Z"
   },
   {
    "duration": -78,
    "start_time": "2022-02-12T20:45:38.389Z"
   },
   {
    "duration": 334,
    "start_time": "2022-02-12T20:45:56.332Z"
   },
   {
    "duration": 334,
    "start_time": "2022-02-12T20:45:59.243Z"
   },
   {
    "duration": 341,
    "start_time": "2022-02-12T20:46:02.116Z"
   },
   {
    "duration": 585,
    "start_time": "2022-02-12T20:46:15.913Z"
   },
   {
    "duration": 236,
    "start_time": "2022-02-12T20:47:00.360Z"
   },
   {
    "duration": 20,
    "start_time": "2022-02-12T20:48:42.695Z"
   },
   {
    "duration": 32,
    "start_time": "2022-02-12T20:49:38.379Z"
   },
   {
    "duration": 334,
    "start_time": "2022-02-12T20:49:56.885Z"
   },
   {
    "duration": 28,
    "start_time": "2022-02-12T20:50:03.357Z"
   },
   {
    "duration": 28,
    "start_time": "2022-02-12T20:50:11.353Z"
   },
   {
    "duration": 439,
    "start_time": "2022-02-12T20:50:53.331Z"
   },
   {
    "duration": 405,
    "start_time": "2022-02-12T20:52:00.758Z"
   },
   {
    "duration": 361,
    "start_time": "2022-02-12T20:54:27.753Z"
   },
   {
    "duration": 7,
    "start_time": "2022-02-12T20:55:07.571Z"
   },
   {
    "duration": 116,
    "start_time": "2022-02-12T20:55:46.996Z"
   },
   {
    "duration": 54,
    "start_time": "2022-02-12T20:56:02.296Z"
   },
   {
    "duration": 29,
    "start_time": "2022-02-12T20:56:02.352Z"
   },
   {
    "duration": 165,
    "start_time": "2022-02-12T20:56:02.383Z"
   },
   {
    "duration": 86,
    "start_time": "2022-02-12T20:56:02.550Z"
   },
   {
    "duration": 104,
    "start_time": "2022-02-12T20:56:02.637Z"
   },
   {
    "duration": 353,
    "start_time": "2022-02-12T20:56:02.743Z"
   },
   {
    "duration": 866,
    "start_time": "2022-02-12T20:56:03.098Z"
   },
   {
    "duration": 3878,
    "start_time": "2022-02-12T20:56:03.966Z"
   },
   {
    "duration": 178,
    "start_time": "2022-02-12T20:56:07.846Z"
   },
   {
    "duration": 1049,
    "start_time": "2022-02-12T20:56:08.028Z"
   },
   {
    "duration": -68,
    "start_time": "2022-02-12T20:56:09.147Z"
   },
   {
    "duration": -68,
    "start_time": "2022-02-12T20:56:09.149Z"
   },
   {
    "duration": 8197,
    "start_time": "2022-02-12T20:56:15.064Z"
   },
   {
    "duration": 8341,
    "start_time": "2022-02-12T20:56:40.734Z"
   },
   {
    "duration": 315,
    "start_time": "2022-02-12T20:56:51.946Z"
   },
   {
    "duration": 336,
    "start_time": "2022-02-12T20:57:11.268Z"
   },
   {
    "duration": 103,
    "start_time": "2022-02-12T20:57:24.498Z"
   },
   {
    "duration": 234,
    "start_time": "2022-02-12T20:57:38.329Z"
   },
   {
    "duration": 321,
    "start_time": "2022-02-12T20:58:16.300Z"
   },
   {
    "duration": 328,
    "start_time": "2022-02-12T20:58:53.760Z"
   },
   {
    "duration": 23,
    "start_time": "2022-02-12T21:00:32.100Z"
   },
   {
    "duration": 19,
    "start_time": "2022-02-12T21:01:00.964Z"
   },
   {
    "duration": 24,
    "start_time": "2022-02-12T21:01:56.112Z"
   },
   {
    "duration": 134,
    "start_time": "2022-02-12T21:02:25.690Z"
   },
   {
    "duration": 341,
    "start_time": "2022-02-12T21:02:42.946Z"
   },
   {
    "duration": 22,
    "start_time": "2022-02-12T21:04:35.707Z"
   },
   {
    "duration": 38,
    "start_time": "2022-02-12T21:04:54.237Z"
   },
   {
    "duration": 22,
    "start_time": "2022-02-12T21:05:05.242Z"
   },
   {
    "duration": 3874,
    "start_time": "2022-02-12T21:07:52.188Z"
   },
   {
    "duration": 4394,
    "start_time": "2022-02-12T21:07:58.356Z"
   },
   {
    "duration": 3956,
    "start_time": "2022-02-12T21:08:14.957Z"
   },
   {
    "duration": 3942,
    "start_time": "2022-02-12T21:12:29.766Z"
   },
   {
    "duration": 3828,
    "start_time": "2022-02-12T21:13:14.058Z"
   },
   {
    "duration": 391,
    "start_time": "2022-02-12T21:16:02.065Z"
   },
   {
    "duration": 24,
    "start_time": "2022-02-12T21:16:11.047Z"
   },
   {
    "duration": 6,
    "start_time": "2022-02-12T21:16:28.801Z"
   },
   {
    "duration": 52,
    "start_time": "2022-02-12T21:16:33.798Z"
   },
   {
    "duration": 29,
    "start_time": "2022-02-12T21:16:33.851Z"
   },
   {
    "duration": 281,
    "start_time": "2022-02-12T21:16:33.882Z"
   },
   {
    "duration": 85,
    "start_time": "2022-02-12T21:16:34.165Z"
   },
   {
    "duration": 115,
    "start_time": "2022-02-12T21:16:34.252Z"
   },
   {
    "duration": 230,
    "start_time": "2022-02-12T21:16:34.369Z"
   },
   {
    "duration": 958,
    "start_time": "2022-02-12T21:16:34.601Z"
   },
   {
    "duration": 4059,
    "start_time": "2022-02-12T21:16:35.561Z"
   },
   {
    "duration": 175,
    "start_time": "2022-02-12T21:16:39.622Z"
   },
   {
    "duration": 1060,
    "start_time": "2022-02-12T21:16:39.799Z"
   },
   {
    "duration": -67,
    "start_time": "2022-02-12T21:16:40.928Z"
   },
   {
    "duration": -68,
    "start_time": "2022-02-12T21:16:40.930Z"
   },
   {
    "duration": 7,
    "start_time": "2022-02-12T21:16:48.749Z"
   },
   {
    "duration": 7,
    "start_time": "2022-02-12T21:27:30.736Z"
   },
   {
    "duration": 6,
    "start_time": "2022-02-12T21:30:38.497Z"
   },
   {
    "duration": 7,
    "start_time": "2022-02-12T21:32:24.532Z"
   },
   {
    "duration": 7969,
    "start_time": "2022-02-12T21:34:35.882Z"
   },
   {
    "duration": 7919,
    "start_time": "2022-02-12T21:34:44.365Z"
   },
   {
    "duration": 8712,
    "start_time": "2022-02-12T21:34:53.331Z"
   },
   {
    "duration": 3751,
    "start_time": "2022-02-12T21:35:25.399Z"
   },
   {
    "duration": 4057,
    "start_time": "2022-02-12T21:36:40.945Z"
   },
   {
    "duration": 533,
    "start_time": "2022-02-12T21:37:09.561Z"
   },
   {
    "duration": 572,
    "start_time": "2022-02-12T21:37:24.028Z"
   },
   {
    "duration": 3666,
    "start_time": "2022-02-12T21:37:41.968Z"
   },
   {
    "duration": 4183,
    "start_time": "2022-02-12T21:38:12.860Z"
   },
   {
    "duration": 3902,
    "start_time": "2022-02-12T21:38:45.909Z"
   },
   {
    "duration": 947,
    "start_time": "2022-02-12T21:58:32.052Z"
   },
   {
    "duration": 3976,
    "start_time": "2022-02-12T21:58:48.780Z"
   },
   {
    "duration": 3859,
    "start_time": "2022-02-12T21:59:26.936Z"
   },
   {
    "duration": 4106,
    "start_time": "2022-02-12T22:00:08.554Z"
   },
   {
    "duration": 3982,
    "start_time": "2022-02-12T22:00:21.846Z"
   },
   {
    "duration": 53,
    "start_time": "2022-02-12T22:00:32.520Z"
   },
   {
    "duration": 29,
    "start_time": "2022-02-12T22:00:32.574Z"
   },
   {
    "duration": 159,
    "start_time": "2022-02-12T22:00:32.605Z"
   },
   {
    "duration": 77,
    "start_time": "2022-02-12T22:00:32.766Z"
   },
   {
    "duration": 106,
    "start_time": "2022-02-12T22:00:32.845Z"
   },
   {
    "duration": 383,
    "start_time": "2022-02-12T22:00:32.952Z"
   },
   {
    "duration": 971,
    "start_time": "2022-02-12T22:00:33.343Z"
   },
   {
    "duration": 4101,
    "start_time": "2022-02-12T22:00:34.317Z"
   },
   {
    "duration": 175,
    "start_time": "2022-02-12T22:00:38.428Z"
   },
   {
    "duration": 1076,
    "start_time": "2022-02-12T22:00:38.604Z"
   },
   {
    "duration": -61,
    "start_time": "2022-02-12T22:00:39.742Z"
   },
   {
    "duration": -66,
    "start_time": "2022-02-12T22:00:39.748Z"
   },
   {
    "duration": 3640,
    "start_time": "2022-02-12T22:00:42.359Z"
   },
   {
    "duration": 3881,
    "start_time": "2022-02-12T22:00:59.137Z"
   },
   {
    "duration": 9100,
    "start_time": "2022-02-12T22:02:15.176Z"
   },
   {
    "duration": 9118,
    "start_time": "2022-02-12T22:03:17.720Z"
   },
   {
    "duration": 9427,
    "start_time": "2022-02-12T22:05:05.687Z"
   },
   {
    "duration": 298,
    "start_time": "2022-02-13T05:28:00.431Z"
   },
   {
    "duration": 1555,
    "start_time": "2022-02-13T05:28:06.246Z"
   },
   {
    "duration": 31,
    "start_time": "2022-02-13T05:28:07.802Z"
   },
   {
    "duration": 188,
    "start_time": "2022-02-13T05:28:07.835Z"
   },
   {
    "duration": 76,
    "start_time": "2022-02-13T05:28:08.025Z"
   },
   {
    "duration": 527,
    "start_time": "2022-02-13T05:28:08.118Z"
   },
   {
    "duration": 479,
    "start_time": "2022-02-13T05:28:08.647Z"
   },
   {
    "duration": 942,
    "start_time": "2022-02-13T05:28:09.128Z"
   },
   {
    "duration": 4540,
    "start_time": "2022-02-13T05:28:10.072Z"
   },
   {
    "duration": 191,
    "start_time": "2022-02-13T05:28:14.618Z"
   },
   {
    "duration": 1087,
    "start_time": "2022-02-13T05:28:14.812Z"
   },
   {
    "duration": 500,
    "start_time": "2022-02-13T05:28:15.900Z"
   },
   {
    "duration": 1066,
    "start_time": "2022-02-13T05:28:16.402Z"
   },
   {
    "duration": 8104,
    "start_time": "2022-02-13T05:28:17.470Z"
   },
   {
    "duration": 2754,
    "start_time": "2022-02-13T05:37:13.872Z"
   },
   {
    "duration": 3229,
    "start_time": "2022-02-13T05:43:47.469Z"
   },
   {
    "duration": 9551,
    "start_time": "2022-02-13T05:44:09.437Z"
   },
   {
    "duration": 9028,
    "start_time": "2022-02-13T05:49:02.566Z"
   },
   {
    "duration": 6172,
    "start_time": "2022-02-13T05:54:19.276Z"
   },
   {
    "duration": 3919,
    "start_time": "2022-02-13T05:55:55.522Z"
   },
   {
    "duration": 77,
    "start_time": "2022-02-13T06:06:51.049Z"
   },
   {
    "duration": 69,
    "start_time": "2022-02-13T06:07:22.600Z"
   },
   {
    "duration": 71,
    "start_time": "2022-02-13T06:08:25.483Z"
   },
   {
    "duration": 195,
    "start_time": "2022-02-13T06:10:35.362Z"
   },
   {
    "duration": 6945,
    "start_time": "2022-02-13T06:17:49.228Z"
   },
   {
    "duration": 6896,
    "start_time": "2022-02-13T06:18:01.968Z"
   },
   {
    "duration": 70,
    "start_time": "2022-02-13T06:19:11.137Z"
   },
   {
    "duration": 105,
    "start_time": "2022-02-13T06:20:45.102Z"
   },
   {
    "duration": 328,
    "start_time": "2022-02-13T06:22:41.984Z"
   },
   {
    "duration": 196,
    "start_time": "2022-02-13T06:22:51.742Z"
   },
   {
    "duration": 348,
    "start_time": "2022-02-13T06:23:33.347Z"
   },
   {
    "duration": 570,
    "start_time": "2022-02-13T06:23:38.170Z"
   },
   {
    "duration": 332,
    "start_time": "2022-02-13T06:23:56.803Z"
   },
   {
    "duration": 73,
    "start_time": "2022-02-13T06:26:10.480Z"
   },
   {
    "duration": 167,
    "start_time": "2022-02-13T06:27:09.289Z"
   },
   {
    "duration": 78,
    "start_time": "2022-02-13T06:27:26.458Z"
   },
   {
    "duration": 118,
    "start_time": "2022-02-13T06:27:39.612Z"
   },
   {
    "duration": 207,
    "start_time": "2022-02-13T06:27:50.100Z"
   },
   {
    "duration": 73,
    "start_time": "2022-02-13T06:29:06.296Z"
   },
   {
    "duration": 79,
    "start_time": "2022-02-13T10:01:46.198Z"
   },
   {
    "duration": 71,
    "start_time": "2022-02-13T10:02:07.076Z"
   },
   {
    "duration": 74,
    "start_time": "2022-02-13T10:03:05.166Z"
   },
   {
    "duration": 350,
    "start_time": "2022-02-13T10:04:45.783Z"
   },
   {
    "duration": 204,
    "start_time": "2022-02-13T10:05:40.531Z"
   },
   {
    "duration": 338,
    "start_time": "2022-02-13T10:05:56.011Z"
   },
   {
    "duration": 421,
    "start_time": "2022-02-13T10:06:02.476Z"
   },
   {
    "duration": 73,
    "start_time": "2022-02-13T10:09:20.046Z"
   },
   {
    "duration": 72,
    "start_time": "2022-02-13T10:09:34.629Z"
   },
   {
    "duration": 84,
    "start_time": "2022-02-13T10:10:10.698Z"
   },
   {
    "duration": 224,
    "start_time": "2022-02-13T10:10:22.813Z"
   },
   {
    "duration": 78,
    "start_time": "2022-02-13T10:10:54.417Z"
   },
   {
    "duration": 74,
    "start_time": "2022-02-13T10:11:29.547Z"
   },
   {
    "duration": 73,
    "start_time": "2022-02-13T10:34:32.738Z"
   },
   {
    "duration": 447,
    "start_time": "2022-02-13T10:53:29.811Z"
   },
   {
    "duration": 73,
    "start_time": "2022-02-13T10:53:42.194Z"
   },
   {
    "duration": 201,
    "start_time": "2022-02-13T10:57:56.458Z"
   },
   {
    "duration": 405,
    "start_time": "2022-02-13T10:58:32.937Z"
   },
   {
    "duration": 970,
    "start_time": "2022-02-13T11:32:27.213Z"
   },
   {
    "duration": 107,
    "start_time": "2022-02-13T11:32:51.349Z"
   },
   {
    "duration": 78,
    "start_time": "2022-02-13T11:32:57.797Z"
   },
   {
    "duration": 387,
    "start_time": "2022-02-13T11:33:11.201Z"
   },
   {
    "duration": 1602,
    "start_time": "2022-02-13T11:33:16.612Z"
   },
   {
    "duration": 33,
    "start_time": "2022-02-13T11:33:18.216Z"
   },
   {
    "duration": 200,
    "start_time": "2022-02-13T11:33:18.252Z"
   },
   {
    "duration": 99,
    "start_time": "2022-02-13T11:33:18.454Z"
   },
   {
    "duration": 542,
    "start_time": "2022-02-13T11:33:18.555Z"
   },
   {
    "duration": 574,
    "start_time": "2022-02-13T11:33:19.099Z"
   },
   {
    "duration": 1121,
    "start_time": "2022-02-13T11:33:19.674Z"
   },
   {
    "duration": 5302,
    "start_time": "2022-02-13T11:33:20.797Z"
   },
   {
    "duration": 218,
    "start_time": "2022-02-13T11:33:26.102Z"
   },
   {
    "duration": 1090,
    "start_time": "2022-02-13T11:33:26.323Z"
   },
   {
    "duration": 497,
    "start_time": "2022-02-13T11:33:27.419Z"
   },
   {
    "duration": 1086,
    "start_time": "2022-02-13T11:33:27.918Z"
   },
   {
    "duration": 73,
    "start_time": "2022-02-13T11:33:29.006Z"
   },
   {
    "duration": 740,
    "start_time": "2022-02-13T13:01:59.657Z"
   },
   {
    "duration": 129,
    "start_time": "2022-02-13T13:02:19.716Z"
   },
   {
    "duration": 407,
    "start_time": "2022-02-13T13:23:19.985Z"
   },
   {
    "duration": 399,
    "start_time": "2022-02-13T13:23:53.311Z"
   },
   {
    "duration": 363,
    "start_time": "2022-02-13T13:24:13.407Z"
   },
   {
    "duration": 74,
    "start_time": "2022-02-13T13:25:06.695Z"
   },
   {
    "duration": 76,
    "start_time": "2022-02-13T13:25:20.780Z"
   },
   {
    "duration": 530,
    "start_time": "2022-02-13T13:31:52.463Z"
   },
   {
    "duration": 583,
    "start_time": "2022-02-13T13:32:28.283Z"
   },
   {
    "duration": 462,
    "start_time": "2022-02-13T13:33:12.792Z"
   },
   {
    "duration": 487,
    "start_time": "2022-02-13T13:33:47.604Z"
   },
   {
    "duration": 99,
    "start_time": "2022-02-13T13:34:16.652Z"
   },
   {
    "duration": 66,
    "start_time": "2022-02-13T13:34:25.612Z"
   },
   {
    "duration": 75,
    "start_time": "2022-02-13T13:54:10.231Z"
   },
   {
    "duration": 664,
    "start_time": "2022-02-13T14:13:16.865Z"
   },
   {
    "duration": 70,
    "start_time": "2022-02-13T14:13:26.337Z"
   },
   {
    "duration": 3304,
    "start_time": "2022-02-13T14:24:02.647Z"
   },
   {
    "duration": 5555,
    "start_time": "2022-02-13T14:24:23.529Z"
   },
   {
    "duration": 59,
    "start_time": "2022-02-13T14:26:52.696Z"
   },
   {
    "duration": 34,
    "start_time": "2022-02-13T14:26:52.757Z"
   },
   {
    "duration": 207,
    "start_time": "2022-02-13T14:26:52.793Z"
   },
   {
    "duration": 92,
    "start_time": "2022-02-13T14:26:53.002Z"
   },
   {
    "duration": 135,
    "start_time": "2022-02-13T14:26:53.096Z"
   },
   {
    "duration": 414,
    "start_time": "2022-02-13T14:26:53.233Z"
   },
   {
    "duration": 1028,
    "start_time": "2022-02-13T14:26:53.649Z"
   },
   {
    "duration": 4767,
    "start_time": "2022-02-13T14:26:54.680Z"
   },
   {
    "duration": 211,
    "start_time": "2022-02-13T14:26:59.449Z"
   },
   {
    "duration": 1249,
    "start_time": "2022-02-13T14:26:59.662Z"
   },
   {
    "duration": 734,
    "start_time": "2022-02-13T14:27:00.178Z"
   },
   {
    "duration": 734,
    "start_time": "2022-02-13T14:27:00.180Z"
   },
   {
    "duration": 4932,
    "start_time": "2022-02-13T15:02:36.294Z"
   },
   {
    "duration": 54,
    "start_time": "2022-02-13T15:02:57.121Z"
   },
   {
    "duration": 45,
    "start_time": "2022-02-13T15:02:57.177Z"
   },
   {
    "duration": 185,
    "start_time": "2022-02-13T15:02:57.224Z"
   },
   {
    "duration": 100,
    "start_time": "2022-02-13T15:02:57.418Z"
   },
   {
    "duration": 125,
    "start_time": "2022-02-13T15:02:57.520Z"
   },
   {
    "duration": 580,
    "start_time": "2022-02-13T15:02:57.646Z"
   },
   {
    "duration": 984,
    "start_time": "2022-02-13T15:02:58.228Z"
   },
   {
    "duration": 4925,
    "start_time": "2022-02-13T15:02:59.218Z"
   },
   {
    "duration": 213,
    "start_time": "2022-02-13T15:03:04.145Z"
   },
   {
    "duration": 1429,
    "start_time": "2022-02-13T15:03:04.360Z"
   },
   {
    "duration": 780,
    "start_time": "2022-02-13T15:03:05.010Z"
   },
   {
    "duration": 780,
    "start_time": "2022-02-13T15:03:05.012Z"
   },
   {
    "duration": 778,
    "start_time": "2022-02-13T15:03:05.014Z"
   },
   {
    "duration": 778,
    "start_time": "2022-02-13T15:03:05.015Z"
   },
   {
    "duration": 340,
    "start_time": "2022-02-13T15:04:10.684Z"
   },
   {
    "duration": 55,
    "start_time": "2022-02-13T15:04:19.797Z"
   },
   {
    "duration": 33,
    "start_time": "2022-02-13T15:04:19.853Z"
   },
   {
    "duration": 203,
    "start_time": "2022-02-13T15:04:19.889Z"
   },
   {
    "duration": 104,
    "start_time": "2022-02-13T15:04:20.094Z"
   },
   {
    "duration": 433,
    "start_time": "2022-02-13T15:04:20.200Z"
   },
   {
    "duration": 270,
    "start_time": "2022-02-13T15:04:20.638Z"
   },
   {
    "duration": 998,
    "start_time": "2022-02-13T15:04:20.909Z"
   },
   {
    "duration": 4926,
    "start_time": "2022-02-13T15:04:21.910Z"
   },
   {
    "duration": 211,
    "start_time": "2022-02-13T15:04:26.839Z"
   },
   {
    "duration": 1130,
    "start_time": "2022-02-13T15:04:27.052Z"
   },
   {
    "duration": 790,
    "start_time": "2022-02-13T15:04:27.394Z"
   },
   {
    "duration": 789,
    "start_time": "2022-02-13T15:04:27.396Z"
   },
   {
    "duration": 788,
    "start_time": "2022-02-13T15:04:27.398Z"
   },
   {
    "duration": 788,
    "start_time": "2022-02-13T15:04:27.399Z"
   },
   {
    "duration": 57,
    "start_time": "2022-02-13T15:05:46.980Z"
   },
   {
    "duration": 33,
    "start_time": "2022-02-13T15:05:47.039Z"
   },
   {
    "duration": 189,
    "start_time": "2022-02-13T15:05:47.075Z"
   },
   {
    "duration": 96,
    "start_time": "2022-02-13T15:05:47.266Z"
   },
   {
    "duration": 127,
    "start_time": "2022-02-13T15:05:47.363Z"
   },
   {
    "duration": 267,
    "start_time": "2022-02-13T15:05:47.492Z"
   },
   {
    "duration": 1011,
    "start_time": "2022-02-13T15:05:47.761Z"
   },
   {
    "duration": 5087,
    "start_time": "2022-02-13T15:05:48.775Z"
   },
   {
    "duration": 207,
    "start_time": "2022-02-13T15:05:53.864Z"
   },
   {
    "duration": 1148,
    "start_time": "2022-02-13T15:05:54.073Z"
   },
   {
    "duration": 803,
    "start_time": "2022-02-13T15:05:54.420Z"
   },
   {
    "duration": 802,
    "start_time": "2022-02-13T15:05:54.422Z"
   },
   {
    "duration": 801,
    "start_time": "2022-02-13T15:05:54.424Z"
   },
   {
    "duration": 800,
    "start_time": "2022-02-13T15:05:54.426Z"
   },
   {
    "duration": 1678,
    "start_time": "2022-02-13T15:06:29.040Z"
   },
   {
    "duration": 37,
    "start_time": "2022-02-13T15:06:30.720Z"
   },
   {
    "duration": 221,
    "start_time": "2022-02-13T15:06:30.759Z"
   },
   {
    "duration": 101,
    "start_time": "2022-02-13T15:06:30.983Z"
   },
   {
    "duration": 556,
    "start_time": "2022-02-13T15:06:31.086Z"
   },
   {
    "duration": 513,
    "start_time": "2022-02-13T15:06:31.644Z"
   },
   {
    "duration": 959,
    "start_time": "2022-02-13T15:06:32.159Z"
   },
   {
    "duration": 4870,
    "start_time": "2022-02-13T15:06:33.120Z"
   },
   {
    "duration": 211,
    "start_time": "2022-02-13T15:06:37.992Z"
   },
   {
    "duration": 1117,
    "start_time": "2022-02-13T15:06:38.205Z"
   },
   {
    "duration": 509,
    "start_time": "2022-02-13T15:06:39.324Z"
   },
   {
    "duration": 1114,
    "start_time": "2022-02-13T15:06:39.835Z"
   },
   {
    "duration": 481,
    "start_time": "2022-02-13T15:06:40.950Z"
   },
   {
    "duration": 812,
    "start_time": "2022-02-13T15:06:40.621Z"
   },
   {
    "duration": 371,
    "start_time": "2022-02-13T15:09:02.414Z"
   },
   {
    "duration": 74,
    "start_time": "2022-02-13T15:10:37.084Z"
   },
   {
    "duration": 319,
    "start_time": "2022-02-13T15:10:54.734Z"
   },
   {
    "duration": 127,
    "start_time": "2022-02-13T15:11:59.056Z"
   },
   {
    "duration": 326,
    "start_time": "2022-02-13T15:12:07.116Z"
   },
   {
    "duration": 319,
    "start_time": "2022-02-13T15:13:28.215Z"
   },
   {
    "duration": 328,
    "start_time": "2022-02-13T15:13:40.830Z"
   },
   {
    "duration": 314,
    "start_time": "2022-02-13T15:14:57.652Z"
   },
   {
    "duration": 84,
    "start_time": "2022-02-13T15:15:36.358Z"
   },
   {
    "duration": 344,
    "start_time": "2022-02-13T15:20:15.402Z"
   },
   {
    "duration": 348,
    "start_time": "2022-02-13T15:22:22.324Z"
   },
   {
    "duration": 445,
    "start_time": "2022-02-13T15:22:43.447Z"
   },
   {
    "duration": 103,
    "start_time": "2022-02-13T15:23:13.983Z"
   },
   {
    "duration": 155,
    "start_time": "2022-02-13T15:23:47.058Z"
   },
   {
    "duration": 693,
    "start_time": "2022-02-13T15:23:58.541Z"
   },
   {
    "duration": 1758,
    "start_time": "2022-02-13T15:26:04.220Z"
   },
   {
    "duration": 39,
    "start_time": "2022-02-13T15:26:05.980Z"
   },
   {
    "duration": 199,
    "start_time": "2022-02-13T15:26:06.021Z"
   },
   {
    "duration": 82,
    "start_time": "2022-02-13T15:26:06.221Z"
   },
   {
    "duration": 559,
    "start_time": "2022-02-13T15:26:06.304Z"
   },
   {
    "duration": 512,
    "start_time": "2022-02-13T15:26:06.864Z"
   },
   {
    "duration": 1084,
    "start_time": "2022-02-13T15:26:07.377Z"
   },
   {
    "duration": 4969,
    "start_time": "2022-02-13T15:26:08.462Z"
   },
   {
    "duration": 215,
    "start_time": "2022-02-13T15:26:13.434Z"
   },
   {
    "duration": 1158,
    "start_time": "2022-02-13T15:26:13.652Z"
   },
   {
    "duration": 510,
    "start_time": "2022-02-13T15:26:14.818Z"
   },
   {
    "duration": 1119,
    "start_time": "2022-02-13T15:26:15.331Z"
   },
   {
    "duration": 657,
    "start_time": "2022-02-13T15:26:16.452Z"
   },
   {
    "duration": 799,
    "start_time": "2022-02-13T15:26:16.312Z"
   },
   {
    "duration": 822,
    "start_time": "2022-02-13T15:26:39.359Z"
   },
   {
    "duration": 573,
    "start_time": "2022-02-13T15:29:08.160Z"
   },
   {
    "duration": 1254,
    "start_time": "2022-02-13T15:30:34.084Z"
   },
   {
    "duration": 316,
    "start_time": "2022-02-13T15:31:33.040Z"
   },
   {
    "duration": 850,
    "start_time": "2022-02-13T15:31:57.842Z"
   },
   {
    "duration": 424,
    "start_time": "2022-02-13T15:34:21.216Z"
   },
   {
    "duration": 324,
    "start_time": "2022-02-13T15:34:45.127Z"
   },
   {
    "duration": 1282,
    "start_time": "2022-02-13T15:35:11.198Z"
   },
   {
    "duration": 1084,
    "start_time": "2022-02-13T15:36:00.416Z"
   },
   {
    "duration": 54,
    "start_time": "2022-02-13T15:36:38.341Z"
   },
   {
    "duration": 32,
    "start_time": "2022-02-13T15:36:38.397Z"
   },
   {
    "duration": 190,
    "start_time": "2022-02-13T15:36:38.431Z"
   },
   {
    "duration": 98,
    "start_time": "2022-02-13T15:36:38.622Z"
   },
   {
    "duration": 252,
    "start_time": "2022-02-13T15:36:38.721Z"
   },
   {
    "duration": 270,
    "start_time": "2022-02-13T15:36:38.975Z"
   },
   {
    "duration": 1005,
    "start_time": "2022-02-13T15:36:39.247Z"
   },
   {
    "duration": 4706,
    "start_time": "2022-02-13T15:36:40.254Z"
   },
   {
    "duration": 250,
    "start_time": "2022-02-13T15:36:44.963Z"
   },
   {
    "duration": 1118,
    "start_time": "2022-02-13T15:36:45.218Z"
   },
   {
    "duration": 815,
    "start_time": "2022-02-13T15:36:45.523Z"
   },
   {
    "duration": 814,
    "start_time": "2022-02-13T15:36:45.525Z"
   },
   {
    "duration": 813,
    "start_time": "2022-02-13T15:36:45.527Z"
   },
   {
    "duration": 812,
    "start_time": "2022-02-13T15:36:45.529Z"
   },
   {
    "duration": 1079,
    "start_time": "2022-02-13T15:36:57.452Z"
   },
   {
    "duration": 1600,
    "start_time": "2022-02-13T15:37:15.490Z"
   },
   {
    "duration": 31,
    "start_time": "2022-02-13T15:37:17.092Z"
   },
   {
    "duration": 193,
    "start_time": "2022-02-13T15:37:17.125Z"
   },
   {
    "duration": 98,
    "start_time": "2022-02-13T15:37:17.320Z"
   },
   {
    "duration": 538,
    "start_time": "2022-02-13T15:37:17.420Z"
   },
   {
    "duration": 502,
    "start_time": "2022-02-13T15:37:17.960Z"
   },
   {
    "duration": 1032,
    "start_time": "2022-02-13T15:37:18.464Z"
   },
   {
    "duration": 4912,
    "start_time": "2022-02-13T15:37:19.500Z"
   },
   {
    "duration": 210,
    "start_time": "2022-02-13T15:37:24.414Z"
   },
   {
    "duration": 1132,
    "start_time": "2022-02-13T15:37:24.626Z"
   },
   {
    "duration": 495,
    "start_time": "2022-02-13T15:37:25.760Z"
   },
   {
    "duration": 1105,
    "start_time": "2022-02-13T15:37:26.257Z"
   },
   {
    "duration": 1202,
    "start_time": "2022-02-13T15:37:27.364Z"
   },
   {
    "duration": 844,
    "start_time": "2022-02-13T15:37:27.724Z"
   },
   {
    "duration": 75,
    "start_time": "2022-02-13T15:37:46.294Z"
   },
   {
    "duration": 1518,
    "start_time": "2022-02-13T15:38:01.474Z"
   },
   {
    "duration": 34,
    "start_time": "2022-02-13T15:38:02.994Z"
   },
   {
    "duration": 197,
    "start_time": "2022-02-13T15:38:03.030Z"
   },
   {
    "duration": 97,
    "start_time": "2022-02-13T15:38:03.229Z"
   },
   {
    "duration": 548,
    "start_time": "2022-02-13T15:38:03.328Z"
   },
   {
    "duration": 499,
    "start_time": "2022-02-13T15:38:03.877Z"
   },
   {
    "duration": 1143,
    "start_time": "2022-02-13T15:38:04.378Z"
   },
   {
    "duration": 4922,
    "start_time": "2022-02-13T15:38:05.523Z"
   },
   {
    "duration": 210,
    "start_time": "2022-02-13T15:38:10.447Z"
   },
   {
    "duration": 1111,
    "start_time": "2022-02-13T15:38:10.659Z"
   },
   {
    "duration": 499,
    "start_time": "2022-02-13T15:38:11.772Z"
   },
   {
    "duration": 1092,
    "start_time": "2022-02-13T15:38:12.272Z"
   },
   {
    "duration": 92,
    "start_time": "2022-02-13T15:38:13.365Z"
   },
   {
    "duration": 2,
    "start_time": "2022-02-13T15:38:13.459Z"
   },
   {
    "duration": 79,
    "start_time": "2022-02-13T15:38:32.919Z"
   },
   {
    "duration": 80,
    "start_time": "2022-02-13T15:45:14.374Z"
   },
   {
    "duration": 502,
    "start_time": "2022-02-13T15:45:36.799Z"
   },
   {
    "duration": 1576,
    "start_time": "2022-02-13T15:45:58.057Z"
   },
   {
    "duration": 1536,
    "start_time": "2022-02-13T15:46:09.668Z"
   },
   {
    "duration": 85,
    "start_time": "2022-02-13T15:46:27.982Z"
   },
   {
    "duration": 91,
    "start_time": "2022-02-13T15:47:19.228Z"
   },
   {
    "duration": 221,
    "start_time": "2022-02-13T15:47:33.532Z"
   },
   {
    "duration": 88,
    "start_time": "2022-02-13T15:47:38.072Z"
   },
   {
    "duration": 85,
    "start_time": "2022-02-13T15:47:47.538Z"
   },
   {
    "duration": 223,
    "start_time": "2022-02-13T15:48:30.895Z"
   },
   {
    "duration": 97,
    "start_time": "2022-02-13T15:54:15.642Z"
   },
   {
    "duration": 91,
    "start_time": "2022-02-13T15:55:26.681Z"
   },
   {
    "duration": 221,
    "start_time": "2022-02-13T15:56:06.586Z"
   },
   {
    "duration": 103,
    "start_time": "2022-02-13T15:56:13.424Z"
   },
   {
    "duration": 105,
    "start_time": "2022-02-13T15:59:46.734Z"
   },
   {
    "duration": 1585,
    "start_time": "2022-02-13T16:00:05.551Z"
   },
   {
    "duration": 228,
    "start_time": "2022-02-13T16:00:51.454Z"
   },
   {
    "duration": 96,
    "start_time": "2022-02-13T16:00:59.354Z"
   },
   {
    "duration": 106,
    "start_time": "2022-02-13T16:01:13.623Z"
   },
   {
    "duration": 238,
    "start_time": "2022-02-13T16:01:44.068Z"
   },
   {
    "duration": 96,
    "start_time": "2022-02-13T16:02:23.422Z"
   },
   {
    "duration": 97,
    "start_time": "2022-02-13T16:03:15.879Z"
   },
   {
    "duration": 108,
    "start_time": "2022-02-13T16:03:35.616Z"
   },
   {
    "duration": 243,
    "start_time": "2022-02-13T16:03:55.631Z"
   },
   {
    "duration": 106,
    "start_time": "2022-02-13T16:04:05.212Z"
   },
   {
    "duration": 4600,
    "start_time": "2022-02-13T16:04:24.867Z"
   },
   {
    "duration": 5111,
    "start_time": "2022-02-13T16:06:06.958Z"
   },
   {
    "duration": 217,
    "start_time": "2022-02-13T16:07:33.742Z"
   },
   {
    "duration": 269,
    "start_time": "2022-02-13T16:08:01.600Z"
   },
   {
    "duration": 111,
    "start_time": "2022-02-13T16:08:40.591Z"
   },
   {
    "duration": 245,
    "start_time": "2022-02-13T16:09:21.475Z"
   },
   {
    "duration": 131,
    "start_time": "2022-02-13T16:10:30.515Z"
   },
   {
    "duration": 244,
    "start_time": "2022-02-13T16:11:41.951Z"
   },
   {
    "duration": 121,
    "start_time": "2022-02-13T16:11:51.716Z"
   },
   {
    "duration": 245,
    "start_time": "2022-02-13T16:12:13.761Z"
   },
   {
    "duration": 123,
    "start_time": "2022-02-13T16:12:20.305Z"
   },
   {
    "duration": 235,
    "start_time": "2022-02-13T16:12:34.764Z"
   },
   {
    "duration": 2808,
    "start_time": "2022-02-13T16:12:58.886Z"
   },
   {
    "duration": 35,
    "start_time": "2022-02-13T16:13:01.697Z"
   },
   {
    "duration": 196,
    "start_time": "2022-02-13T16:13:01.734Z"
   },
   {
    "duration": 97,
    "start_time": "2022-02-13T16:13:01.932Z"
   },
   {
    "duration": 1382,
    "start_time": "2022-02-13T16:13:02.031Z"
   },
   {
    "duration": 562,
    "start_time": "2022-02-13T16:13:03.415Z"
   },
   {
    "duration": 992,
    "start_time": "2022-02-13T16:13:03.979Z"
   },
   {
    "duration": 5116,
    "start_time": "2022-02-13T16:13:04.974Z"
   },
   {
    "duration": 213,
    "start_time": "2022-02-13T16:13:10.092Z"
   },
   {
    "duration": 1263,
    "start_time": "2022-02-13T16:13:10.307Z"
   },
   {
    "duration": 520,
    "start_time": "2022-02-13T16:13:11.572Z"
   },
   {
    "duration": 1190,
    "start_time": "2022-02-13T16:13:12.093Z"
   },
   {
    "duration": 123,
    "start_time": "2022-02-13T16:13:13.285Z"
   },
   {
    "duration": 9,
    "start_time": "2022-02-13T16:13:13.409Z"
   },
   {
    "duration": 398,
    "start_time": "2022-02-13T16:13:31.386Z"
   },
   {
    "duration": 112,
    "start_time": "2022-02-13T16:14:44.663Z"
   },
   {
    "duration": 246,
    "start_time": "2022-02-13T16:14:58.553Z"
   },
   {
    "duration": 61,
    "start_time": "2022-02-13T16:19:18.952Z"
   },
   {
    "duration": 462,
    "start_time": "2022-02-13T16:21:41.070Z"
   },
   {
    "duration": 118,
    "start_time": "2022-02-13T16:21:52.906Z"
   },
   {
    "duration": 259,
    "start_time": "2022-02-13T16:22:21.832Z"
   },
   {
    "duration": 113,
    "start_time": "2022-02-13T16:22:52.182Z"
   },
   {
    "duration": 106,
    "start_time": "2022-02-13T16:24:16.457Z"
   },
   {
    "duration": 298,
    "start_time": "2022-02-13T16:24:38.269Z"
   },
   {
    "duration": 333,
    "start_time": "2022-02-13T16:25:01.057Z"
   },
   {
    "duration": 68,
    "start_time": "2022-02-13T16:25:13.502Z"
   },
   {
    "duration": 6457,
    "start_time": "2022-02-13T16:28:02.924Z"
   },
   {
    "duration": 1636,
    "start_time": "2022-02-13T16:28:14.498Z"
   },
   {
    "duration": 1630,
    "start_time": "2022-02-13T16:28:22.246Z"
   },
   {
    "duration": 342,
    "start_time": "2022-02-13T16:32:07.317Z"
   },
   {
    "duration": 430,
    "start_time": "2022-02-13T16:32:20.957Z"
   },
   {
    "duration": 238,
    "start_time": "2022-02-13T16:33:01.788Z"
   },
   {
    "duration": 7688,
    "start_time": "2022-02-13T16:36:28.013Z"
   },
   {
    "duration": 4531,
    "start_time": "2022-02-13T16:36:38.010Z"
   },
   {
    "duration": 4354,
    "start_time": "2022-02-13T16:40:21.908Z"
   },
   {
    "duration": 4525,
    "start_time": "2022-02-13T16:41:00.994Z"
   },
   {
    "duration": 260,
    "start_time": "2022-02-13T16:41:42.085Z"
   },
   {
    "duration": 131,
    "start_time": "2022-02-13T16:42:25.405Z"
   },
   {
    "duration": 1586,
    "start_time": "2022-02-13T16:42:48.825Z"
   },
   {
    "duration": 33,
    "start_time": "2022-02-13T16:42:50.413Z"
   },
   {
    "duration": 215,
    "start_time": "2022-02-13T16:42:50.451Z"
   },
   {
    "duration": 92,
    "start_time": "2022-02-13T16:42:50.668Z"
   },
   {
    "duration": 563,
    "start_time": "2022-02-13T16:42:50.761Z"
   },
   {
    "duration": 499,
    "start_time": "2022-02-13T16:42:51.327Z"
   },
   {
    "duration": 982,
    "start_time": "2022-02-13T16:42:51.828Z"
   },
   {
    "duration": 4922,
    "start_time": "2022-02-13T16:42:52.813Z"
   },
   {
    "duration": 201,
    "start_time": "2022-02-13T16:42:57.738Z"
   },
   {
    "duration": 1101,
    "start_time": "2022-02-13T16:42:57.941Z"
   },
   {
    "duration": 520,
    "start_time": "2022-02-13T16:42:59.043Z"
   },
   {
    "duration": 1153,
    "start_time": "2022-02-13T16:42:59.565Z"
   },
   {
    "duration": 133,
    "start_time": "2022-02-13T16:43:00.721Z"
   },
   {
    "duration": 2,
    "start_time": "2022-02-13T16:43:00.856Z"
   },
   {
    "duration": 379,
    "start_time": "2022-02-13T16:43:28.571Z"
   },
   {
    "duration": 121,
    "start_time": "2022-02-13T16:43:37.038Z"
   },
   {
    "duration": 5064,
    "start_time": "2022-02-13T16:48:17.347Z"
   },
   {
    "duration": 130,
    "start_time": "2022-02-13T16:48:43.465Z"
   },
   {
    "duration": 262,
    "start_time": "2022-02-13T16:49:32.641Z"
   },
   {
    "duration": 135,
    "start_time": "2022-02-13T16:49:47.724Z"
   },
   {
    "duration": 259,
    "start_time": "2022-02-13T16:50:47.906Z"
   },
   {
    "duration": 42,
    "start_time": "2022-02-13T16:51:13.150Z"
   },
   {
    "duration": 111,
    "start_time": "2022-02-13T16:51:59.623Z"
   },
   {
    "duration": 822,
    "start_time": "2022-02-13T16:53:14.251Z"
   },
   {
    "duration": 115,
    "start_time": "2022-02-13T16:53:23.057Z"
   },
   {
    "duration": 115,
    "start_time": "2022-02-13T16:53:32.125Z"
   },
   {
    "duration": 291,
    "start_time": "2022-02-13T17:20:37.235Z"
   },
   {
    "duration": 287,
    "start_time": "2022-02-13T17:20:54.884Z"
   },
   {
    "duration": 106,
    "start_time": "2022-02-13T17:21:41.036Z"
   },
   {
    "duration": 254,
    "start_time": "2022-02-13T17:22:15.510Z"
   },
   {
    "duration": 1280,
    "start_time": "2022-02-13T17:25:29.583Z"
   },
   {
    "duration": 85,
    "start_time": "2022-02-13T17:25:47.791Z"
   },
   {
    "duration": 103,
    "start_time": "2022-02-13T17:25:59.573Z"
   },
   {
    "duration": 114,
    "start_time": "2022-02-13T17:26:23.661Z"
   },
   {
    "duration": 265,
    "start_time": "2022-02-13T17:26:32.831Z"
   },
   {
    "duration": 131,
    "start_time": "2022-02-13T17:26:54.831Z"
   },
   {
    "duration": 273,
    "start_time": "2022-02-13T17:27:10.308Z"
   },
   {
    "duration": 242,
    "start_time": "2022-02-13T17:28:41.792Z"
   },
   {
    "duration": 258,
    "start_time": "2022-02-13T17:30:08.115Z"
   },
   {
    "duration": 128,
    "start_time": "2022-02-13T17:30:22.660Z"
   },
   {
    "duration": 276,
    "start_time": "2022-02-13T17:30:36.603Z"
   },
   {
    "duration": 82,
    "start_time": "2022-02-13T17:31:36.656Z"
   },
   {
    "duration": 145,
    "start_time": "2022-02-13T17:32:34.178Z"
   },
   {
    "duration": 253,
    "start_time": "2022-02-13T17:32:55.529Z"
   },
   {
    "duration": 112,
    "start_time": "2022-02-13T17:33:39.921Z"
   },
   {
    "duration": 438,
    "start_time": "2022-02-13T17:37:00.069Z"
   },
   {
    "duration": 1214,
    "start_time": "2022-02-13T17:37:36.981Z"
   },
   {
    "duration": 113,
    "start_time": "2022-02-13T17:37:51.165Z"
   },
   {
    "duration": 5,
    "start_time": "2022-02-13T17:45:24.818Z"
   },
   {
    "duration": 10,
    "start_time": "2022-02-13T17:45:39.943Z"
   },
   {
    "duration": 2835,
    "start_time": "2022-02-13T17:45:59.105Z"
   },
   {
    "duration": 37,
    "start_time": "2022-02-13T17:46:01.943Z"
   },
   {
    "duration": 244,
    "start_time": "2022-02-13T17:46:01.982Z"
   },
   {
    "duration": 102,
    "start_time": "2022-02-13T17:46:02.229Z"
   },
   {
    "duration": 1651,
    "start_time": "2022-02-13T17:46:02.333Z"
   },
   {
    "duration": 532,
    "start_time": "2022-02-13T17:46:03.986Z"
   },
   {
    "duration": 1074,
    "start_time": "2022-02-13T17:46:04.520Z"
   },
   {
    "duration": 5591,
    "start_time": "2022-02-13T17:46:05.596Z"
   },
   {
    "duration": 295,
    "start_time": "2022-02-13T17:46:11.189Z"
   },
   {
    "duration": 1570,
    "start_time": "2022-02-13T17:46:11.486Z"
   },
   {
    "duration": 863,
    "start_time": "2022-02-13T17:46:13.058Z"
   },
   {
    "duration": 1139,
    "start_time": "2022-02-13T17:46:13.923Z"
   },
   {
    "duration": 3965,
    "start_time": "2022-02-13T17:46:15.064Z"
   },
   {
    "duration": 3922,
    "start_time": "2022-02-13T17:46:19.031Z"
   },
   {
    "duration": 3458,
    "start_time": "2022-02-13T17:47:28.867Z"
   },
   {
    "duration": 437,
    "start_time": "2022-02-13T17:48:00.635Z"
   },
   {
    "duration": 1156,
    "start_time": "2022-02-13T17:48:16.039Z"
   },
   {
    "duration": 1612,
    "start_time": "2022-02-13T17:48:48.787Z"
   },
   {
    "duration": 33,
    "start_time": "2022-02-13T17:48:50.401Z"
   },
   {
    "duration": 201,
    "start_time": "2022-02-13T17:48:50.436Z"
   },
   {
    "duration": 97,
    "start_time": "2022-02-13T17:48:50.639Z"
   },
   {
    "duration": 549,
    "start_time": "2022-02-13T17:48:50.738Z"
   },
   {
    "duration": 502,
    "start_time": "2022-02-13T17:48:51.289Z"
   },
   {
    "duration": 1004,
    "start_time": "2022-02-13T17:48:51.793Z"
   },
   {
    "duration": 4862,
    "start_time": "2022-02-13T17:48:52.800Z"
   },
   {
    "duration": 208,
    "start_time": "2022-02-13T17:48:57.665Z"
   },
   {
    "duration": 1091,
    "start_time": "2022-02-13T17:48:57.875Z"
   },
   {
    "duration": 499,
    "start_time": "2022-02-13T17:48:58.968Z"
   },
   {
    "duration": 1113,
    "start_time": "2022-02-13T17:48:59.468Z"
   },
   {
    "duration": 3726,
    "start_time": "2022-02-13T17:49:00.583Z"
   },
   {
    "duration": 3641,
    "start_time": "2022-02-13T17:49:04.318Z"
   },
   {
    "duration": 280,
    "start_time": "2022-02-13T17:49:37.688Z"
   },
   {
    "duration": 112,
    "start_time": "2022-02-13T17:50:01.855Z"
   },
   {
    "duration": 1566,
    "start_time": "2022-02-13T17:50:32.069Z"
   },
   {
    "duration": 33,
    "start_time": "2022-02-13T17:50:33.637Z"
   },
   {
    "duration": 209,
    "start_time": "2022-02-13T17:50:33.672Z"
   },
   {
    "duration": 94,
    "start_time": "2022-02-13T17:50:33.883Z"
   },
   {
    "duration": 561,
    "start_time": "2022-02-13T17:50:33.979Z"
   },
   {
    "duration": 520,
    "start_time": "2022-02-13T17:50:34.542Z"
   },
   {
    "duration": 1012,
    "start_time": "2022-02-13T17:50:35.064Z"
   },
   {
    "duration": 4790,
    "start_time": "2022-02-13T17:50:36.079Z"
   },
   {
    "duration": 212,
    "start_time": "2022-02-13T17:50:40.872Z"
   },
   {
    "duration": 1118,
    "start_time": "2022-02-13T17:50:41.087Z"
   },
   {
    "duration": 529,
    "start_time": "2022-02-13T17:50:42.208Z"
   },
   {
    "duration": 1133,
    "start_time": "2022-02-13T17:50:42.739Z"
   },
   {
    "duration": 3959,
    "start_time": "2022-02-13T17:50:43.874Z"
   },
   {
    "duration": 32,
    "start_time": "2022-02-13T17:50:47.835Z"
   },
   {
    "duration": 361,
    "start_time": "2022-02-13T17:51:23.052Z"
   },
   {
    "duration": 1570,
    "start_time": "2022-02-13T17:51:42.304Z"
   },
   {
    "duration": 30,
    "start_time": "2022-02-13T17:51:43.876Z"
   },
   {
    "duration": 199,
    "start_time": "2022-02-13T17:51:43.909Z"
   },
   {
    "duration": 84,
    "start_time": "2022-02-13T17:51:44.110Z"
   },
   {
    "duration": 559,
    "start_time": "2022-02-13T17:51:44.196Z"
   },
   {
    "duration": 493,
    "start_time": "2022-02-13T17:51:44.757Z"
   },
   {
    "duration": 1039,
    "start_time": "2022-02-13T17:51:45.252Z"
   },
   {
    "duration": 4993,
    "start_time": "2022-02-13T17:51:46.294Z"
   },
   {
    "duration": 211,
    "start_time": "2022-02-13T17:51:51.289Z"
   },
   {
    "duration": 1159,
    "start_time": "2022-02-13T17:51:51.502Z"
   },
   {
    "duration": 497,
    "start_time": "2022-02-13T17:51:52.663Z"
   },
   {
    "duration": 1197,
    "start_time": "2022-02-13T17:51:53.163Z"
   },
   {
    "duration": 3592,
    "start_time": "2022-02-13T17:51:54.362Z"
   },
   {
    "duration": 32,
    "start_time": "2022-02-13T17:51:57.956Z"
   },
   {
    "duration": 6095,
    "start_time": "2022-02-13T17:53:57.259Z"
   },
   {
    "duration": 1628,
    "start_time": "2022-02-13T17:54:44.029Z"
   },
   {
    "duration": 34,
    "start_time": "2022-02-13T17:54:45.659Z"
   },
   {
    "duration": 214,
    "start_time": "2022-02-13T17:54:45.697Z"
   },
   {
    "duration": 88,
    "start_time": "2022-02-13T17:54:45.913Z"
   },
   {
    "duration": 535,
    "start_time": "2022-02-13T17:54:46.018Z"
   },
   {
    "duration": 501,
    "start_time": "2022-02-13T17:54:46.555Z"
   },
   {
    "duration": 1005,
    "start_time": "2022-02-13T17:54:47.059Z"
   },
   {
    "duration": 4984,
    "start_time": "2022-02-13T17:54:48.066Z"
   },
   {
    "duration": 210,
    "start_time": "2022-02-13T17:54:53.052Z"
   },
   {
    "duration": 1108,
    "start_time": "2022-02-13T17:54:53.264Z"
   },
   {
    "duration": 511,
    "start_time": "2022-02-13T17:54:54.374Z"
   },
   {
    "duration": 1186,
    "start_time": "2022-02-13T17:54:54.887Z"
   },
   {
    "duration": 4360,
    "start_time": "2022-02-13T17:54:56.076Z"
   },
   {
    "duration": 2,
    "start_time": "2022-02-13T17:55:00.438Z"
   },
   {
    "duration": 81,
    "start_time": "2022-02-13T17:56:45.783Z"
   },
   {
    "duration": 1542,
    "start_time": "2022-02-13T17:57:49.542Z"
   },
   {
    "duration": 33,
    "start_time": "2022-02-13T17:57:51.086Z"
   },
   {
    "duration": 195,
    "start_time": "2022-02-13T17:57:51.123Z"
   },
   {
    "duration": 98,
    "start_time": "2022-02-13T17:57:51.320Z"
   },
   {
    "duration": 528,
    "start_time": "2022-02-13T17:57:51.420Z"
   },
   {
    "duration": 482,
    "start_time": "2022-02-13T17:57:51.949Z"
   },
   {
    "duration": 1000,
    "start_time": "2022-02-13T17:57:52.434Z"
   },
   {
    "duration": 4807,
    "start_time": "2022-02-13T17:57:53.436Z"
   },
   {
    "duration": 201,
    "start_time": "2022-02-13T17:57:58.245Z"
   },
   {
    "duration": 1171,
    "start_time": "2022-02-13T17:57:58.448Z"
   },
   {
    "duration": 534,
    "start_time": "2022-02-13T17:57:59.621Z"
   },
   {
    "duration": 1581,
    "start_time": "2022-02-13T17:58:00.157Z"
   },
   {
    "duration": 89,
    "start_time": "2022-02-13T17:58:01.741Z"
   },
   {
    "duration": 1015,
    "start_time": "2022-02-13T17:58:00.817Z"
   },
   {
    "duration": 4153,
    "start_time": "2022-02-13T17:58:08.782Z"
   },
   {
    "duration": 384,
    "start_time": "2022-02-13T17:58:44.911Z"
   },
   {
    "duration": 1618,
    "start_time": "2022-02-13T17:58:55.167Z"
   },
   {
    "duration": 34,
    "start_time": "2022-02-13T17:58:56.788Z"
   },
   {
    "duration": 203,
    "start_time": "2022-02-13T17:58:56.825Z"
   },
   {
    "duration": 99,
    "start_time": "2022-02-13T17:58:57.031Z"
   },
   {
    "duration": 526,
    "start_time": "2022-02-13T17:58:57.131Z"
   },
   {
    "duration": 511,
    "start_time": "2022-02-13T17:58:57.659Z"
   },
   {
    "duration": 976,
    "start_time": "2022-02-13T17:58:58.171Z"
   },
   {
    "duration": 4921,
    "start_time": "2022-02-13T17:58:59.149Z"
   },
   {
    "duration": 206,
    "start_time": "2022-02-13T17:59:04.072Z"
   },
   {
    "duration": 1114,
    "start_time": "2022-02-13T17:59:04.280Z"
   },
   {
    "duration": 508,
    "start_time": "2022-02-13T17:59:05.396Z"
   },
   {
    "duration": 1199,
    "start_time": "2022-02-13T17:59:05.905Z"
   },
   {
    "duration": 112,
    "start_time": "2022-02-13T17:59:07.106Z"
   },
   {
    "duration": 2,
    "start_time": "2022-02-13T17:59:07.220Z"
   },
   {
    "duration": 1503,
    "start_time": "2022-02-13T17:59:28.742Z"
   },
   {
    "duration": 1568,
    "start_time": "2022-02-13T18:00:27.556Z"
   },
   {
    "duration": 37,
    "start_time": "2022-02-13T18:00:29.126Z"
   },
   {
    "duration": 214,
    "start_time": "2022-02-13T18:00:29.165Z"
   },
   {
    "duration": 95,
    "start_time": "2022-02-13T18:00:29.381Z"
   },
   {
    "duration": 564,
    "start_time": "2022-02-13T18:00:29.478Z"
   },
   {
    "duration": 528,
    "start_time": "2022-02-13T18:00:30.044Z"
   },
   {
    "duration": 1151,
    "start_time": "2022-02-13T18:00:30.574Z"
   },
   {
    "duration": 4866,
    "start_time": "2022-02-13T18:00:31.728Z"
   },
   {
    "duration": 224,
    "start_time": "2022-02-13T18:00:36.596Z"
   },
   {
    "duration": 1191,
    "start_time": "2022-02-13T18:00:36.822Z"
   },
   {
    "duration": 537,
    "start_time": "2022-02-13T18:00:38.018Z"
   },
   {
    "duration": 1168,
    "start_time": "2022-02-13T18:00:38.556Z"
   },
   {
    "duration": 6806,
    "start_time": "2022-02-13T18:00:39.725Z"
   },
   {
    "duration": 1013,
    "start_time": "2022-02-13T18:00:45.520Z"
   },
   {
    "duration": 1514,
    "start_time": "2022-02-13T18:01:06.355Z"
   },
   {
    "duration": 32,
    "start_time": "2022-02-13T18:01:07.870Z"
   },
   {
    "duration": 205,
    "start_time": "2022-02-13T18:01:07.904Z"
   },
   {
    "duration": 82,
    "start_time": "2022-02-13T18:01:08.111Z"
   },
   {
    "duration": 543,
    "start_time": "2022-02-13T18:01:08.195Z"
   },
   {
    "duration": 493,
    "start_time": "2022-02-13T18:01:08.740Z"
   },
   {
    "duration": 1065,
    "start_time": "2022-02-13T18:01:09.235Z"
   },
   {
    "duration": 4854,
    "start_time": "2022-02-13T18:01:10.304Z"
   },
   {
    "duration": 219,
    "start_time": "2022-02-13T18:01:15.160Z"
   },
   {
    "duration": 1138,
    "start_time": "2022-02-13T18:01:15.380Z"
   },
   {
    "duration": 517,
    "start_time": "2022-02-13T18:01:16.520Z"
   },
   {
    "duration": 1192,
    "start_time": "2022-02-13T18:01:17.039Z"
   },
   {
    "duration": 109,
    "start_time": "2022-02-13T18:01:18.233Z"
   },
   {
    "duration": 2,
    "start_time": "2022-02-13T18:01:18.344Z"
   },
   {
    "duration": 3758,
    "start_time": "2022-02-13T18:03:13.261Z"
   },
   {
    "duration": 1689,
    "start_time": "2022-02-13T18:03:45.991Z"
   },
   {
    "duration": 38,
    "start_time": "2022-02-13T18:03:47.682Z"
   },
   {
    "duration": 196,
    "start_time": "2022-02-13T18:03:47.722Z"
   },
   {
    "duration": 84,
    "start_time": "2022-02-13T18:03:47.920Z"
   },
   {
    "duration": 530,
    "start_time": "2022-02-13T18:03:48.017Z"
   },
   {
    "duration": 490,
    "start_time": "2022-02-13T18:03:48.549Z"
   },
   {
    "duration": 985,
    "start_time": "2022-02-13T18:03:49.041Z"
   },
   {
    "duration": 4910,
    "start_time": "2022-02-13T18:03:50.029Z"
   },
   {
    "duration": 204,
    "start_time": "2022-02-13T18:03:54.941Z"
   },
   {
    "duration": 1125,
    "start_time": "2022-02-13T18:03:55.147Z"
   },
   {
    "duration": 514,
    "start_time": "2022-02-13T18:03:56.274Z"
   },
   {
    "duration": 1084,
    "start_time": "2022-02-13T18:03:56.789Z"
   },
   {
    "duration": 101,
    "start_time": "2022-02-13T18:03:57.875Z"
   },
   {
    "duration": 2,
    "start_time": "2022-02-13T18:03:57.978Z"
   },
   {
    "duration": 119,
    "start_time": "2022-02-13T18:04:10.557Z"
   },
   {
    "duration": 4798,
    "start_time": "2022-02-13T18:05:26.178Z"
   },
   {
    "duration": 1925,
    "start_time": "2022-02-13T18:05:38.103Z"
   },
   {
    "duration": 35,
    "start_time": "2022-02-13T18:05:40.030Z"
   },
   {
    "duration": 270,
    "start_time": "2022-02-13T18:05:40.068Z"
   },
   {
    "duration": 106,
    "start_time": "2022-02-13T18:05:40.340Z"
   },
   {
    "duration": 1605,
    "start_time": "2022-02-13T18:05:40.448Z"
   },
   {
    "duration": 508,
    "start_time": "2022-02-13T18:05:42.054Z"
   },
   {
    "duration": 1020,
    "start_time": "2022-02-13T18:05:42.563Z"
   },
   {
    "duration": 4853,
    "start_time": "2022-02-13T18:05:43.585Z"
   },
   {
    "duration": 200,
    "start_time": "2022-02-13T18:05:48.441Z"
   },
   {
    "duration": 1095,
    "start_time": "2022-02-13T18:05:48.643Z"
   },
   {
    "duration": 494,
    "start_time": "2022-02-13T18:05:49.740Z"
   },
   {
    "duration": 1084,
    "start_time": "2022-02-13T18:05:50.236Z"
   },
   {
    "duration": 104,
    "start_time": "2022-02-13T18:05:51.321Z"
   },
   {
    "duration": 2,
    "start_time": "2022-02-13T18:05:51.427Z"
   },
   {
    "duration": 344,
    "start_time": "2022-02-13T18:23:45.341Z"
   },
   {
    "duration": 861,
    "start_time": "2022-02-13T18:24:46.275Z"
   },
   {
    "duration": 1032,
    "start_time": "2022-02-13T18:25:08.727Z"
   },
   {
    "duration": 336,
    "start_time": "2022-02-13T18:36:37.172Z"
   },
   {
    "duration": 3186,
    "start_time": "2022-02-13T18:37:08.074Z"
   },
   {
    "duration": 2020,
    "start_time": "2022-02-13T18:37:37.310Z"
   },
   {
    "duration": 44,
    "start_time": "2022-02-13T18:37:39.333Z"
   },
   {
    "duration": 264,
    "start_time": "2022-02-13T18:37:39.382Z"
   },
   {
    "duration": 135,
    "start_time": "2022-02-13T18:37:39.648Z"
   },
   {
    "duration": 767,
    "start_time": "2022-02-13T18:37:39.785Z"
   },
   {
    "duration": 590,
    "start_time": "2022-02-13T18:37:40.555Z"
   },
   {
    "duration": 1006,
    "start_time": "2022-02-13T18:37:41.148Z"
   },
   {
    "duration": 4858,
    "start_time": "2022-02-13T18:37:42.156Z"
   },
   {
    "duration": 216,
    "start_time": "2022-02-13T18:37:47.018Z"
   },
   {
    "duration": 1107,
    "start_time": "2022-02-13T18:37:47.236Z"
   },
   {
    "duration": 509,
    "start_time": "2022-02-13T18:37:48.346Z"
   },
   {
    "duration": 1125,
    "start_time": "2022-02-13T18:37:48.856Z"
   },
   {
    "duration": 546,
    "start_time": "2022-02-13T18:37:49.983Z"
   },
   {
    "duration": 2,
    "start_time": "2022-02-13T18:37:50.531Z"
   },
   {
    "duration": 11,
    "start_time": "2022-02-13T18:45:20.213Z"
   },
   {
    "duration": 430,
    "start_time": "2022-02-13T19:19:15.210Z"
   },
   {
    "duration": 85,
    "start_time": "2022-02-13T19:19:21.952Z"
   },
   {
    "duration": 10,
    "start_time": "2022-02-13T19:19:29.359Z"
   },
   {
    "duration": 14,
    "start_time": "2022-02-13T19:26:22.942Z"
   },
   {
    "duration": 444,
    "start_time": "2022-02-13T19:29:20.505Z"
   },
   {
    "duration": 15,
    "start_time": "2022-02-13T19:29:23.131Z"
   },
   {
    "duration": 5,
    "start_time": "2022-02-13T19:29:25.427Z"
   },
   {
    "duration": 7,
    "start_time": "2022-02-13T19:29:47.513Z"
   },
   {
    "duration": 81,
    "start_time": "2022-02-13T19:37:47.569Z"
   },
   {
    "duration": 291,
    "start_time": "2022-02-13T19:38:58.190Z"
   },
   {
    "duration": 19,
    "start_time": "2022-02-13T19:39:27.040Z"
   },
   {
    "duration": 24,
    "start_time": "2022-02-13T19:50:06.097Z"
   },
   {
    "duration": 10,
    "start_time": "2022-02-13T19:57:56.108Z"
   },
   {
    "duration": 110,
    "start_time": "2022-02-13T20:10:45.921Z"
   },
   {
    "duration": 78,
    "start_time": "2022-02-13T20:15:05.915Z"
   },
   {
    "duration": 85,
    "start_time": "2022-02-13T20:15:51.752Z"
   },
   {
    "duration": 2277,
    "start_time": "2022-02-13T20:16:24.677Z"
   },
   {
    "duration": 32,
    "start_time": "2022-02-13T20:16:26.956Z"
   },
   {
    "duration": 210,
    "start_time": "2022-02-13T20:16:26.992Z"
   },
   {
    "duration": 89,
    "start_time": "2022-02-13T20:16:27.204Z"
   },
   {
    "duration": 565,
    "start_time": "2022-02-13T20:16:27.295Z"
   },
   {
    "duration": 577,
    "start_time": "2022-02-13T20:16:27.861Z"
   },
   {
    "duration": 1237,
    "start_time": "2022-02-13T20:16:28.441Z"
   },
   {
    "duration": 4767,
    "start_time": "2022-02-13T20:16:29.681Z"
   },
   {
    "duration": 205,
    "start_time": "2022-02-13T20:16:34.450Z"
   },
   {
    "duration": 1092,
    "start_time": "2022-02-13T20:16:34.657Z"
   },
   {
    "duration": 512,
    "start_time": "2022-02-13T20:16:35.751Z"
   },
   {
    "duration": 1135,
    "start_time": "2022-02-13T20:16:36.265Z"
   },
   {
    "duration": 477,
    "start_time": "2022-02-13T20:16:37.402Z"
   },
   {
    "duration": 14,
    "start_time": "2022-02-13T20:16:37.881Z"
   },
   {
    "duration": 103,
    "start_time": "2022-02-13T20:16:37.897Z"
   },
   {
    "duration": 85,
    "start_time": "2022-02-13T20:17:29.040Z"
   },
   {
    "duration": 83,
    "start_time": "2022-02-13T20:18:07.376Z"
   },
   {
    "duration": 84,
    "start_time": "2022-02-13T20:18:15.942Z"
   },
   {
    "duration": 86,
    "start_time": "2022-02-13T20:19:47.637Z"
   },
   {
    "duration": 8,
    "start_time": "2022-02-13T20:20:03.308Z"
   },
   {
    "duration": 14,
    "start_time": "2022-02-13T20:20:15.087Z"
   },
   {
    "duration": 25,
    "start_time": "2022-02-13T20:21:55.137Z"
   },
   {
    "duration": 18,
    "start_time": "2022-02-13T20:22:43.376Z"
   },
   {
    "duration": 37,
    "start_time": "2022-02-13T20:23:56.491Z"
   },
   {
    "duration": 82,
    "start_time": "2022-02-13T20:24:01.616Z"
   },
   {
    "duration": 57,
    "start_time": "2022-02-13T20:24:01.700Z"
   },
   {
    "duration": 238,
    "start_time": "2022-02-13T20:24:01.760Z"
   },
   {
    "duration": 125,
    "start_time": "2022-02-13T20:24:02.000Z"
   },
   {
    "duration": 150,
    "start_time": "2022-02-13T20:24:02.128Z"
   },
   {
    "duration": 664,
    "start_time": "2022-02-13T20:24:02.280Z"
   },
   {
    "duration": 1119,
    "start_time": "2022-02-13T20:24:02.946Z"
   },
   {
    "duration": 4777,
    "start_time": "2022-02-13T20:24:04.067Z"
   },
   {
    "duration": 209,
    "start_time": "2022-02-13T20:24:08.847Z"
   },
   {
    "duration": 1260,
    "start_time": "2022-02-13T20:24:09.058Z"
   },
   {
    "duration": 1167,
    "start_time": "2022-02-13T20:24:09.153Z"
   },
   {
    "duration": 1166,
    "start_time": "2022-02-13T20:24:09.155Z"
   },
   {
    "duration": 1159,
    "start_time": "2022-02-13T20:24:09.163Z"
   },
   {
    "duration": 1157,
    "start_time": "2022-02-13T20:24:09.166Z"
   },
   {
    "duration": 1157,
    "start_time": "2022-02-13T20:24:09.167Z"
   },
   {
    "duration": 1619,
    "start_time": "2022-02-13T20:24:45.857Z"
   },
   {
    "duration": 33,
    "start_time": "2022-02-13T20:24:47.478Z"
   },
   {
    "duration": 189,
    "start_time": "2022-02-13T20:24:47.517Z"
   },
   {
    "duration": 91,
    "start_time": "2022-02-13T20:24:47.708Z"
   },
   {
    "duration": 546,
    "start_time": "2022-02-13T20:24:47.801Z"
   },
   {
    "duration": 490,
    "start_time": "2022-02-13T20:24:48.349Z"
   },
   {
    "duration": 982,
    "start_time": "2022-02-13T20:24:48.841Z"
   },
   {
    "duration": 4872,
    "start_time": "2022-02-13T20:24:49.825Z"
   },
   {
    "duration": 266,
    "start_time": "2022-02-13T20:24:54.700Z"
   },
   {
    "duration": 1106,
    "start_time": "2022-02-13T20:24:54.968Z"
   },
   {
    "duration": 496,
    "start_time": "2022-02-13T20:24:56.076Z"
   },
   {
    "duration": 1078,
    "start_time": "2022-02-13T20:24:56.574Z"
   },
   {
    "duration": 414,
    "start_time": "2022-02-13T20:24:57.654Z"
   },
   {
    "duration": 11,
    "start_time": "2022-02-13T20:24:58.070Z"
   },
   {
    "duration": 38,
    "start_time": "2022-02-13T20:24:58.083Z"
   },
   {
    "duration": 22,
    "start_time": "2022-02-13T20:25:40.364Z"
   },
   {
    "duration": 26,
    "start_time": "2022-02-13T20:25:56.752Z"
   },
   {
    "duration": 93,
    "start_time": "2022-02-13T20:29:15.832Z"
   },
   {
    "duration": 26,
    "start_time": "2022-02-13T20:29:25.669Z"
   },
   {
    "duration": 27,
    "start_time": "2022-02-13T20:30:24.343Z"
   },
   {
    "duration": 29,
    "start_time": "2022-02-13T20:31:09.915Z"
   },
   {
    "duration": 30,
    "start_time": "2022-02-13T20:32:59.376Z"
   },
   {
    "duration": 27,
    "start_time": "2022-02-13T20:33:07.573Z"
   },
   {
    "duration": 29,
    "start_time": "2022-02-13T20:33:21.182Z"
   },
   {
    "duration": 1676,
    "start_time": "2022-02-13T20:33:28.934Z"
   },
   {
    "duration": 33,
    "start_time": "2022-02-13T20:33:30.612Z"
   },
   {
    "duration": 202,
    "start_time": "2022-02-13T20:33:30.648Z"
   },
   {
    "duration": 102,
    "start_time": "2022-02-13T20:33:30.852Z"
   },
   {
    "duration": 565,
    "start_time": "2022-02-13T20:33:30.956Z"
   },
   {
    "duration": 520,
    "start_time": "2022-02-13T20:33:31.523Z"
   },
   {
    "duration": 1027,
    "start_time": "2022-02-13T20:33:32.044Z"
   },
   {
    "duration": 5328,
    "start_time": "2022-02-13T20:33:33.074Z"
   },
   {
    "duration": 196,
    "start_time": "2022-02-13T20:33:38.404Z"
   },
   {
    "duration": 1120,
    "start_time": "2022-02-13T20:33:38.602Z"
   },
   {
    "duration": 535,
    "start_time": "2022-02-13T20:33:39.723Z"
   },
   {
    "duration": 1112,
    "start_time": "2022-02-13T20:33:40.260Z"
   },
   {
    "duration": 444,
    "start_time": "2022-02-13T20:33:41.374Z"
   },
   {
    "duration": 16,
    "start_time": "2022-02-13T20:33:41.820Z"
   },
   {
    "duration": 33,
    "start_time": "2022-02-13T20:33:41.838Z"
   },
   {
    "duration": 31,
    "start_time": "2022-02-13T20:35:24.523Z"
   },
   {
    "duration": 29,
    "start_time": "2022-02-13T20:36:20.550Z"
   },
   {
    "duration": 30,
    "start_time": "2022-02-13T20:37:11.241Z"
   },
   {
    "duration": 30,
    "start_time": "2022-02-13T20:37:52.057Z"
   },
   {
    "duration": 31,
    "start_time": "2022-02-13T20:38:30.018Z"
   },
   {
    "duration": 420,
    "start_time": "2022-02-13T20:39:17.474Z"
   },
   {
    "duration": 88,
    "start_time": "2022-02-13T20:39:27.477Z"
   },
   {
    "duration": 248,
    "start_time": "2022-02-13T20:39:38.115Z"
   },
   {
    "duration": 29,
    "start_time": "2022-02-13T20:39:57.640Z"
   },
   {
    "duration": 29,
    "start_time": "2022-02-13T20:43:22.126Z"
   },
   {
    "duration": 30,
    "start_time": "2022-02-13T20:44:44.789Z"
   },
   {
    "duration": 26,
    "start_time": "2022-02-13T20:45:09.111Z"
   },
   {
    "duration": 14,
    "start_time": "2022-02-13T21:00:07.717Z"
   },
   {
    "duration": 15,
    "start_time": "2022-02-13T21:01:51.346Z"
   },
   {
    "duration": 1045,
    "start_time": "2022-02-13T21:02:29.682Z"
   },
   {
    "duration": 11,
    "start_time": "2022-02-13T21:03:23.551Z"
   },
   {
    "duration": 16,
    "start_time": "2022-02-13T21:04:12.199Z"
   },
   {
    "duration": 15,
    "start_time": "2022-02-13T21:04:47.734Z"
   },
   {
    "duration": 81,
    "start_time": "2022-02-13T21:05:37.555Z"
   },
   {
    "duration": 18,
    "start_time": "2022-02-13T21:06:47.992Z"
   },
   {
    "duration": 96,
    "start_time": "2022-02-13T21:07:31.344Z"
   },
   {
    "duration": 17,
    "start_time": "2022-02-13T21:07:55.352Z"
   },
   {
    "duration": 14,
    "start_time": "2022-02-13T21:08:06.260Z"
   },
   {
    "duration": 15,
    "start_time": "2022-02-13T21:09:03.131Z"
   },
   {
    "duration": 733,
    "start_time": "2022-02-13T21:09:11.289Z"
   },
   {
    "duration": 14,
    "start_time": "2022-02-13T21:09:24.334Z"
   },
   {
    "duration": 15,
    "start_time": "2022-02-13T21:09:47.842Z"
   },
   {
    "duration": 15,
    "start_time": "2022-02-13T21:10:27.072Z"
   },
   {
    "duration": 13,
    "start_time": "2022-02-13T21:10:48.211Z"
   },
   {
    "duration": 13,
    "start_time": "2022-02-13T21:10:54.337Z"
   },
   {
    "duration": 19,
    "start_time": "2022-02-13T21:14:43.701Z"
   },
   {
    "duration": 1196,
    "start_time": "2022-02-13T21:19:30.599Z"
   },
   {
    "duration": 947,
    "start_time": "2022-02-13T21:19:36.853Z"
   },
   {
    "duration": 948,
    "start_time": "2022-02-13T21:19:51.753Z"
   },
   {
    "duration": 263,
    "start_time": "2022-02-13T21:28:03.978Z"
   },
   {
    "duration": 22,
    "start_time": "2022-02-13T21:28:14.486Z"
   },
   {
    "duration": 7,
    "start_time": "2022-02-13T21:28:23.045Z"
   },
   {
    "duration": 22,
    "start_time": "2022-02-13T21:29:39.526Z"
   },
   {
    "duration": 516,
    "start_time": "2022-02-13T21:32:00.817Z"
   },
   {
    "duration": 12,
    "start_time": "2022-02-13T21:32:34.679Z"
   },
   {
    "duration": 11,
    "start_time": "2022-02-13T21:32:56.523Z"
   },
   {
    "duration": 9,
    "start_time": "2022-02-13T21:33:36.431Z"
   },
   {
    "duration": 10,
    "start_time": "2022-02-13T21:33:46.078Z"
   },
   {
    "duration": 18,
    "start_time": "2022-02-13T21:34:02.697Z"
   },
   {
    "duration": 21,
    "start_time": "2022-02-13T21:36:40.315Z"
   },
   {
    "duration": 22,
    "start_time": "2022-02-13T21:36:46.896Z"
   },
   {
    "duration": 1551,
    "start_time": "2022-02-13T21:37:04.222Z"
   },
   {
    "duration": 33,
    "start_time": "2022-02-13T21:37:05.775Z"
   },
   {
    "duration": 196,
    "start_time": "2022-02-13T21:37:05.819Z"
   },
   {
    "duration": 85,
    "start_time": "2022-02-13T21:37:06.017Z"
   },
   {
    "duration": 528,
    "start_time": "2022-02-13T21:37:06.119Z"
   },
   {
    "duration": 546,
    "start_time": "2022-02-13T21:37:06.649Z"
   },
   {
    "duration": 1066,
    "start_time": "2022-02-13T21:37:07.197Z"
   },
   {
    "duration": 4902,
    "start_time": "2022-02-13T21:37:08.266Z"
   },
   {
    "duration": 210,
    "start_time": "2022-02-13T21:37:13.171Z"
   },
   {
    "duration": 1143,
    "start_time": "2022-02-13T21:37:13.384Z"
   },
   {
    "duration": 520,
    "start_time": "2022-02-13T21:37:14.529Z"
   },
   {
    "duration": 1127,
    "start_time": "2022-02-13T21:37:15.051Z"
   },
   {
    "duration": 658,
    "start_time": "2022-02-13T21:37:16.180Z"
   },
   {
    "duration": 37,
    "start_time": "2022-02-13T21:37:16.845Z"
   },
   {
    "duration": 70,
    "start_time": "2022-02-13T21:37:16.891Z"
   },
   {
    "duration": 23,
    "start_time": "2022-02-13T21:37:16.963Z"
   },
   {
    "duration": 1182,
    "start_time": "2022-02-13T21:37:16.988Z"
   },
   {
    "duration": 14,
    "start_time": "2022-02-13T21:37:18.171Z"
   },
   {
    "duration": 18,
    "start_time": "2022-02-13T21:42:20.446Z"
   },
   {
    "duration": 407,
    "start_time": "2022-02-13T21:44:20.534Z"
   },
   {
    "duration": 20,
    "start_time": "2022-02-13T21:44:31.001Z"
   },
   {
    "duration": 19,
    "start_time": "2022-02-13T21:45:07.305Z"
   },
   {
    "duration": 19,
    "start_time": "2022-02-13T21:45:36.719Z"
   },
   {
    "duration": 21,
    "start_time": "2022-02-13T21:46:20.447Z"
   },
   {
    "duration": 1634,
    "start_time": "2022-02-13T21:46:40.756Z"
   },
   {
    "duration": 31,
    "start_time": "2022-02-13T21:46:42.392Z"
   },
   {
    "duration": 186,
    "start_time": "2022-02-13T21:46:42.425Z"
   },
   {
    "duration": 84,
    "start_time": "2022-02-13T21:46:42.613Z"
   },
   {
    "duration": 536,
    "start_time": "2022-02-13T21:46:42.718Z"
   },
   {
    "duration": 490,
    "start_time": "2022-02-13T21:46:43.256Z"
   },
   {
    "duration": 975,
    "start_time": "2022-02-13T21:46:43.748Z"
   },
   {
    "duration": 4594,
    "start_time": "2022-02-13T21:46:44.726Z"
   },
   {
    "duration": 196,
    "start_time": "2022-02-13T21:46:49.323Z"
   },
   {
    "duration": 1098,
    "start_time": "2022-02-13T21:46:49.521Z"
   },
   {
    "duration": 498,
    "start_time": "2022-02-13T21:46:50.620Z"
   },
   {
    "duration": 1082,
    "start_time": "2022-02-13T21:46:51.119Z"
   },
   {
    "duration": 402,
    "start_time": "2022-02-13T21:46:52.203Z"
   },
   {
    "duration": 17,
    "start_time": "2022-02-13T21:46:52.607Z"
   },
   {
    "duration": 29,
    "start_time": "2022-02-13T21:46:52.626Z"
   },
   {
    "duration": 21,
    "start_time": "2022-02-13T21:46:52.657Z"
   },
   {
    "duration": 970,
    "start_time": "2022-02-13T21:46:52.680Z"
   },
   {
    "duration": 15,
    "start_time": "2022-02-13T21:46:53.652Z"
   },
   {
    "duration": 206,
    "start_time": "2022-02-13T22:29:13.597Z"
   },
   {
    "duration": 422,
    "start_time": "2022-02-13T22:35:07.296Z"
   },
   {
    "duration": 303,
    "start_time": "2022-02-13T22:35:44.560Z"
   },
   {
    "duration": 269,
    "start_time": "2022-02-13T22:37:53.303Z"
   },
   {
    "duration": 277,
    "start_time": "2022-02-13T22:38:14.313Z"
   },
   {
    "duration": 323,
    "start_time": "2022-02-13T22:39:35.356Z"
   },
   {
    "duration": 340,
    "start_time": "2022-02-13T22:39:52.962Z"
   },
   {
    "duration": 1495,
    "start_time": "2022-02-13T22:40:08.474Z"
   },
   {
    "duration": 31,
    "start_time": "2022-02-13T22:40:09.971Z"
   },
   {
    "duration": 199,
    "start_time": "2022-02-13T22:40:10.005Z"
   },
   {
    "duration": 88,
    "start_time": "2022-02-13T22:40:10.205Z"
   },
   {
    "duration": 548,
    "start_time": "2022-02-13T22:40:10.295Z"
   },
   {
    "duration": 515,
    "start_time": "2022-02-13T22:40:10.845Z"
   },
   {
    "duration": 1119,
    "start_time": "2022-02-13T22:40:11.362Z"
   },
   {
    "duration": 4878,
    "start_time": "2022-02-13T22:40:12.483Z"
   },
   {
    "duration": 441,
    "start_time": "2022-02-13T22:40:17.363Z"
   },
   {
    "duration": 88,
    "start_time": "2022-02-13T22:40:17.718Z"
   },
   {
    "duration": 85,
    "start_time": "2022-02-13T22:40:17.722Z"
   },
   {
    "duration": 82,
    "start_time": "2022-02-13T22:40:17.726Z"
   },
   {
    "duration": 80,
    "start_time": "2022-02-13T22:40:17.729Z"
   },
   {
    "duration": 65,
    "start_time": "2022-02-13T22:40:17.745Z"
   },
   {
    "duration": 60,
    "start_time": "2022-02-13T22:40:17.751Z"
   },
   {
    "duration": 55,
    "start_time": "2022-02-13T22:40:17.757Z"
   },
   {
    "duration": 53,
    "start_time": "2022-02-13T22:40:17.760Z"
   },
   {
    "duration": 52,
    "start_time": "2022-02-13T22:40:17.762Z"
   },
   {
    "duration": 50,
    "start_time": "2022-02-13T22:40:17.765Z"
   },
   {
    "duration": 903,
    "start_time": "2022-02-13T22:58:41.518Z"
   },
   {
    "duration": 805,
    "start_time": "2022-02-13T22:59:42.247Z"
   },
   {
    "duration": 763,
    "start_time": "2022-02-13T22:59:57.604Z"
   },
   {
    "duration": 904,
    "start_time": "2022-02-13T23:00:49.802Z"
   },
   {
    "duration": 867,
    "start_time": "2022-02-13T23:01:16.242Z"
   },
   {
    "duration": 711,
    "start_time": "2022-02-13T23:06:07.258Z"
   },
   {
    "duration": 770,
    "start_time": "2022-02-13T23:06:27.979Z"
   },
   {
    "duration": 731,
    "start_time": "2022-02-13T23:06:41.456Z"
   },
   {
    "duration": 726,
    "start_time": "2022-02-13T23:06:58.955Z"
   },
   {
    "duration": 478,
    "start_time": "2022-02-13T23:07:27.504Z"
   },
   {
    "duration": 1056,
    "start_time": "2022-02-13T23:07:51.494Z"
   },
   {
    "duration": 589,
    "start_time": "2022-02-13T23:11:50.026Z"
   },
   {
    "duration": 566,
    "start_time": "2022-02-13T23:12:38.123Z"
   },
   {
    "duration": 481,
    "start_time": "2022-02-13T23:13:07.626Z"
   },
   {
    "duration": 1089,
    "start_time": "2022-02-13T23:13:14.830Z"
   },
   {
    "duration": 1120,
    "start_time": "2022-02-13T23:14:20.479Z"
   },
   {
    "duration": 1234,
    "start_time": "2022-02-13T23:15:33.734Z"
   },
   {
    "duration": 944,
    "start_time": "2022-02-13T23:15:46.833Z"
   },
   {
    "duration": 1024,
    "start_time": "2022-02-13T23:16:20.894Z"
   },
   {
    "duration": 998,
    "start_time": "2022-02-13T23:16:31.703Z"
   },
   {
    "duration": 1135,
    "start_time": "2022-02-13T23:16:46.008Z"
   },
   {
    "duration": 1054,
    "start_time": "2022-02-13T23:17:25.506Z"
   },
   {
    "duration": 853,
    "start_time": "2022-02-13T23:33:37.670Z"
   },
   {
    "duration": 1046,
    "start_time": "2022-02-13T23:34:04.921Z"
   },
   {
    "duration": 1554,
    "start_time": "2022-02-13T23:36:04.307Z"
   },
   {
    "duration": 30,
    "start_time": "2022-02-13T23:36:05.864Z"
   },
   {
    "duration": 200,
    "start_time": "2022-02-13T23:36:05.898Z"
   },
   {
    "duration": 80,
    "start_time": "2022-02-13T23:36:06.099Z"
   },
   {
    "duration": 628,
    "start_time": "2022-02-13T23:36:06.181Z"
   },
   {
    "duration": 558,
    "start_time": "2022-02-13T23:36:06.819Z"
   },
   {
    "duration": 930,
    "start_time": "2022-02-13T23:36:07.380Z"
   },
   {
    "duration": 932,
    "start_time": "2022-02-13T23:36:08.312Z"
   },
   {
    "duration": 896,
    "start_time": "2022-02-13T23:36:09.245Z"
   },
   {
    "duration": 4513,
    "start_time": "2022-02-13T23:36:10.143Z"
   },
   {
    "duration": 434,
    "start_time": "2022-02-13T23:36:14.658Z"
   },
   {
    "duration": 175,
    "start_time": "2022-02-13T23:36:14.919Z"
   },
   {
    "duration": 174,
    "start_time": "2022-02-13T23:36:14.921Z"
   },
   {
    "duration": 173,
    "start_time": "2022-02-13T23:36:14.923Z"
   },
   {
    "duration": 172,
    "start_time": "2022-02-13T23:36:14.925Z"
   },
   {
    "duration": 171,
    "start_time": "2022-02-13T23:36:14.927Z"
   },
   {
    "duration": 170,
    "start_time": "2022-02-13T23:36:14.929Z"
   },
   {
    "duration": 165,
    "start_time": "2022-02-13T23:36:14.935Z"
   },
   {
    "duration": 163,
    "start_time": "2022-02-13T23:36:14.937Z"
   },
   {
    "duration": 162,
    "start_time": "2022-02-13T23:36:14.939Z"
   },
   {
    "duration": 161,
    "start_time": "2022-02-13T23:36:14.941Z"
   },
   {
    "duration": 80,
    "start_time": "2022-02-13T23:38:24.855Z"
   },
   {
    "duration": 729,
    "start_time": "2022-02-13T23:38:31.156Z"
   },
   {
    "duration": 1038,
    "start_time": "2022-02-13T23:38:51.137Z"
   },
   {
    "duration": 475,
    "start_time": "2022-02-13T23:39:08.680Z"
   },
   {
    "duration": 469,
    "start_time": "2022-02-13T23:39:39.095Z"
   },
   {
    "duration": 2,
    "start_time": "2022-02-13T23:42:12.616Z"
   },
   {
    "duration": 1051,
    "start_time": "2022-02-13T23:45:32.413Z"
   },
   {
    "duration": 464,
    "start_time": "2022-02-13T23:46:05.550Z"
   },
   {
    "duration": 436,
    "start_time": "2022-02-13T23:49:07.930Z"
   },
   {
    "duration": 117,
    "start_time": "2022-02-13T23:49:15.509Z"
   },
   {
    "duration": 113,
    "start_time": "2022-02-13T23:49:27.736Z"
   },
   {
    "duration": 113,
    "start_time": "2022-02-13T23:49:35.355Z"
   },
   {
    "duration": 3,
    "start_time": "2022-02-13T23:49:56.199Z"
   },
   {
    "duration": 2,
    "start_time": "2022-02-13T23:58:20.359Z"
   },
   {
    "duration": 112,
    "start_time": "2022-02-14T00:04:05.326Z"
   },
   {
    "duration": 312,
    "start_time": "2022-02-14T00:05:01.281Z"
   },
   {
    "duration": 113,
    "start_time": "2022-02-14T00:05:08.969Z"
   },
   {
    "duration": 112,
    "start_time": "2022-02-14T00:06:15.625Z"
   },
   {
    "duration": 118,
    "start_time": "2022-02-14T00:06:23.756Z"
   },
   {
    "duration": 304,
    "start_time": "2022-02-14T00:06:43.843Z"
   },
   {
    "duration": 282,
    "start_time": "2022-02-14T00:15:21.958Z"
   },
   {
    "duration": 451,
    "start_time": "2022-02-14T00:15:53.918Z"
   },
   {
    "duration": 296,
    "start_time": "2022-02-14T00:16:04.322Z"
   },
   {
    "duration": 445,
    "start_time": "2022-02-14T00:16:19.365Z"
   },
   {
    "duration": 344,
    "start_time": "2022-02-14T00:17:50.975Z"
   },
   {
    "duration": 1511,
    "start_time": "2022-02-14T00:21:01.462Z"
   },
   {
    "duration": 33,
    "start_time": "2022-02-14T00:21:02.975Z"
   },
   {
    "duration": 1091,
    "start_time": "2022-02-14T00:21:03.010Z"
   },
   {
    "duration": 483,
    "start_time": "2022-02-14T00:21:04.103Z"
   },
   {
    "duration": 175,
    "start_time": "2022-02-14T00:21:04.588Z"
   },
   {
    "duration": 91,
    "start_time": "2022-02-14T00:21:04.765Z"
   },
   {
    "duration": 718,
    "start_time": "2022-02-14T00:21:04.857Z"
   },
   {
    "duration": 380,
    "start_time": "2022-02-14T00:21:05.578Z"
   },
   {
    "duration": 919,
    "start_time": "2022-02-14T00:21:05.960Z"
   },
   {
    "duration": 1056,
    "start_time": "2022-02-14T00:21:06.880Z"
   },
   {
    "duration": 891,
    "start_time": "2022-02-14T00:21:07.939Z"
   },
   {
    "duration": 4397,
    "start_time": "2022-02-14T00:21:08.832Z"
   },
   {
    "duration": 505,
    "start_time": "2022-02-14T00:21:13.231Z"
   },
   {
    "duration": 226,
    "start_time": "2022-02-14T00:21:13.513Z"
   },
   {
    "duration": 225,
    "start_time": "2022-02-14T00:21:13.515Z"
   },
   {
    "duration": 223,
    "start_time": "2022-02-14T00:21:13.517Z"
   },
   {
    "duration": 220,
    "start_time": "2022-02-14T00:21:13.521Z"
   },
   {
    "duration": 219,
    "start_time": "2022-02-14T00:21:13.523Z"
   },
   {
    "duration": 217,
    "start_time": "2022-02-14T00:21:13.526Z"
   },
   {
    "duration": 216,
    "start_time": "2022-02-14T00:21:13.528Z"
   },
   {
    "duration": 215,
    "start_time": "2022-02-14T00:21:13.530Z"
   },
   {
    "duration": 924,
    "start_time": "2022-02-14T00:26:39.532Z"
   },
   {
    "duration": 1166,
    "start_time": "2022-02-14T00:26:54.386Z"
   },
   {
    "duration": 885,
    "start_time": "2022-02-14T00:27:43.524Z"
   },
   {
    "duration": 673,
    "start_time": "2022-02-14T00:28:06.571Z"
   },
   {
    "duration": 908,
    "start_time": "2022-02-14T00:28:17.204Z"
   },
   {
    "duration": 903,
    "start_time": "2022-02-14T00:28:25.753Z"
   },
   {
    "duration": 974,
    "start_time": "2022-02-14T00:29:18.247Z"
   },
   {
    "duration": 978,
    "start_time": "2022-02-14T00:29:22.964Z"
   },
   {
    "duration": 979,
    "start_time": "2022-02-14T00:31:49.748Z"
   },
   {
    "duration": 975,
    "start_time": "2022-02-14T00:31:59.399Z"
   },
   {
    "duration": 961,
    "start_time": "2022-02-14T00:32:22.620Z"
   },
   {
    "duration": 983,
    "start_time": "2022-02-14T00:32:33.340Z"
   },
   {
    "duration": 964,
    "start_time": "2022-02-14T00:34:51.405Z"
   },
   {
    "duration": 1155,
    "start_time": "2022-02-14T00:35:07.622Z"
   },
   {
    "duration": 1355,
    "start_time": "2022-02-14T00:35:24.553Z"
   },
   {
    "duration": 1111,
    "start_time": "2022-02-14T00:35:47.011Z"
   },
   {
    "duration": 1206,
    "start_time": "2022-02-14T00:35:56.245Z"
   },
   {
    "duration": 1371,
    "start_time": "2022-02-14T12:04:38.098Z"
   },
   {
    "duration": 30,
    "start_time": "2022-02-14T12:04:39.471Z"
   },
   {
    "duration": 1162,
    "start_time": "2022-02-14T12:04:39.505Z"
   },
   {
    "duration": 475,
    "start_time": "2022-02-14T12:04:40.668Z"
   },
   {
    "duration": 187,
    "start_time": "2022-02-14T12:04:41.144Z"
   },
   {
    "duration": 90,
    "start_time": "2022-02-14T12:04:41.333Z"
   },
   {
    "duration": 712,
    "start_time": "2022-02-14T12:04:41.426Z"
   },
   {
    "duration": 358,
    "start_time": "2022-02-14T12:04:42.140Z"
   },
   {
    "duration": 919,
    "start_time": "2022-02-14T12:04:42.499Z"
   },
   {
    "duration": 1101,
    "start_time": "2022-02-14T12:04:43.420Z"
   },
   {
    "duration": 970,
    "start_time": "2022-02-14T12:04:44.523Z"
   },
   {
    "duration": 4642,
    "start_time": "2022-02-14T12:04:45.495Z"
   },
   {
    "duration": 842,
    "start_time": "2022-02-14T12:04:50.139Z"
   },
   {
    "duration": -229,
    "start_time": "2022-02-14T12:04:51.212Z"
   },
   {
    "duration": -233,
    "start_time": "2022-02-14T12:04:51.217Z"
   },
   {
    "duration": -234,
    "start_time": "2022-02-14T12:04:51.219Z"
   },
   {
    "duration": -238,
    "start_time": "2022-02-14T12:04:51.223Z"
   },
   {
    "duration": -240,
    "start_time": "2022-02-14T12:04:51.226Z"
   },
   {
    "duration": -241,
    "start_time": "2022-02-14T12:04:51.228Z"
   },
   {
    "duration": -243,
    "start_time": "2022-02-14T12:04:51.231Z"
   },
   {
    "duration": -245,
    "start_time": "2022-02-14T12:04:51.234Z"
   },
   {
    "duration": 181,
    "start_time": "2022-02-14T12:26:10.642Z"
   },
   {
    "duration": 54,
    "start_time": "2022-02-14T12:26:16.742Z"
   },
   {
    "duration": 31,
    "start_time": "2022-02-14T12:26:16.798Z"
   },
   {
    "duration": 1138,
    "start_time": "2022-02-14T12:26:16.832Z"
   },
   {
    "duration": 489,
    "start_time": "2022-02-14T12:26:17.971Z"
   },
   {
    "duration": 189,
    "start_time": "2022-02-14T12:26:18.462Z"
   },
   {
    "duration": 85,
    "start_time": "2022-02-14T12:26:18.653Z"
   },
   {
    "duration": 214,
    "start_time": "2022-02-14T12:26:18.740Z"
   },
   {
    "duration": 402,
    "start_time": "2022-02-14T12:26:18.960Z"
   },
   {
    "duration": 930,
    "start_time": "2022-02-14T12:26:19.364Z"
   },
   {
    "duration": 1060,
    "start_time": "2022-02-14T12:26:20.295Z"
   },
   {
    "duration": 1026,
    "start_time": "2022-02-14T12:26:21.358Z"
   },
   {
    "duration": 4850,
    "start_time": "2022-02-14T12:26:22.386Z"
   },
   {
    "duration": 208,
    "start_time": "2022-02-14T12:26:27.238Z"
   },
   {
    "duration": -183,
    "start_time": "2022-02-14T12:26:27.631Z"
   },
   {
    "duration": -184,
    "start_time": "2022-02-14T12:26:27.633Z"
   },
   {
    "duration": -185,
    "start_time": "2022-02-14T12:26:27.635Z"
   },
   {
    "duration": -188,
    "start_time": "2022-02-14T12:26:27.638Z"
   },
   {
    "duration": -189,
    "start_time": "2022-02-14T12:26:27.640Z"
   },
   {
    "duration": -192,
    "start_time": "2022-02-14T12:26:27.644Z"
   },
   {
    "duration": -196,
    "start_time": "2022-02-14T12:26:27.649Z"
   },
   {
    "duration": -198,
    "start_time": "2022-02-14T12:26:27.652Z"
   },
   {
    "duration": 59,
    "start_time": "2022-02-14T12:36:34.406Z"
   },
   {
    "duration": 190,
    "start_time": "2022-02-14T12:37:01.142Z"
   },
   {
    "duration": 50,
    "start_time": "2022-02-14T12:37:14.778Z"
   },
   {
    "duration": 31,
    "start_time": "2022-02-14T12:37:14.829Z"
   },
   {
    "duration": 1085,
    "start_time": "2022-02-14T12:37:14.862Z"
   },
   {
    "duration": 470,
    "start_time": "2022-02-14T12:37:15.949Z"
   },
   {
    "duration": 184,
    "start_time": "2022-02-14T12:37:16.420Z"
   },
   {
    "duration": 88,
    "start_time": "2022-02-14T12:37:16.606Z"
   },
   {
    "duration": 206,
    "start_time": "2022-02-14T12:37:16.696Z"
   },
   {
    "duration": 264,
    "start_time": "2022-02-14T12:37:16.905Z"
   },
   {
    "duration": 1193,
    "start_time": "2022-02-14T12:37:17.171Z"
   },
   {
    "duration": 949,
    "start_time": "2022-02-14T12:37:18.365Z"
   },
   {
    "duration": 905,
    "start_time": "2022-02-14T12:37:19.315Z"
   },
   {
    "duration": 4554,
    "start_time": "2022-02-14T12:37:20.221Z"
   },
   {
    "duration": 224,
    "start_time": "2022-02-14T12:37:24.777Z"
   },
   {
    "duration": -154,
    "start_time": "2022-02-14T12:37:25.157Z"
   },
   {
    "duration": -162,
    "start_time": "2022-02-14T12:37:25.166Z"
   },
   {
    "duration": -165,
    "start_time": "2022-02-14T12:37:25.170Z"
   },
   {
    "duration": -167,
    "start_time": "2022-02-14T12:37:25.173Z"
   },
   {
    "duration": -168,
    "start_time": "2022-02-14T12:37:25.175Z"
   },
   {
    "duration": -170,
    "start_time": "2022-02-14T12:37:25.178Z"
   },
   {
    "duration": -171,
    "start_time": "2022-02-14T12:37:25.180Z"
   },
   {
    "duration": -173,
    "start_time": "2022-02-14T12:37:25.183Z"
   },
   {
    "duration": 368,
    "start_time": "2022-02-14T12:39:11.279Z"
   },
   {
    "duration": 1494,
    "start_time": "2022-02-14T12:39:34.091Z"
   },
   {
    "duration": 30,
    "start_time": "2022-02-14T12:39:35.587Z"
   },
   {
    "duration": 1092,
    "start_time": "2022-02-14T12:39:35.620Z"
   },
   {
    "duration": 459,
    "start_time": "2022-02-14T12:39:36.714Z"
   },
   {
    "duration": 192,
    "start_time": "2022-02-14T12:39:37.174Z"
   },
   {
    "duration": 76,
    "start_time": "2022-02-14T12:39:37.368Z"
   },
   {
    "duration": 702,
    "start_time": "2022-02-14T12:39:37.458Z"
   },
   {
    "duration": 350,
    "start_time": "2022-02-14T12:39:38.162Z"
   },
   {
    "duration": 900,
    "start_time": "2022-02-14T12:39:38.514Z"
   },
   {
    "duration": 1154,
    "start_time": "2022-02-14T12:39:39.416Z"
   },
   {
    "duration": 1065,
    "start_time": "2022-02-14T12:39:40.572Z"
   },
   {
    "duration": 4393,
    "start_time": "2022-02-14T12:39:41.638Z"
   },
   {
    "duration": 708,
    "start_time": "2022-02-14T12:39:46.033Z"
   },
   {
    "duration": -172,
    "start_time": "2022-02-14T12:39:46.915Z"
   },
   {
    "duration": -174,
    "start_time": "2022-02-14T12:39:46.918Z"
   },
   {
    "duration": -175,
    "start_time": "2022-02-14T12:39:46.920Z"
   },
   {
    "duration": -176,
    "start_time": "2022-02-14T12:39:46.922Z"
   },
   {
    "duration": -177,
    "start_time": "2022-02-14T12:39:46.924Z"
   },
   {
    "duration": -180,
    "start_time": "2022-02-14T12:39:46.928Z"
   },
   {
    "duration": -182,
    "start_time": "2022-02-14T12:39:46.931Z"
   },
   {
    "duration": -183,
    "start_time": "2022-02-14T12:39:46.933Z"
   },
   {
    "duration": 179,
    "start_time": "2022-02-14T12:40:02.250Z"
   },
   {
    "duration": 52,
    "start_time": "2022-02-14T12:40:09.034Z"
   },
   {
    "duration": 32,
    "start_time": "2022-02-14T12:40:10.522Z"
   },
   {
    "duration": 1118,
    "start_time": "2022-02-14T12:40:11.945Z"
   },
   {
    "duration": 471,
    "start_time": "2022-02-14T12:40:13.064Z"
   },
   {
    "duration": 199,
    "start_time": "2022-02-14T12:40:13.537Z"
   },
   {
    "duration": 88,
    "start_time": "2022-02-14T12:40:14.459Z"
   },
   {
    "duration": 198,
    "start_time": "2022-02-14T12:40:14.770Z"
   },
   {
    "duration": 442,
    "start_time": "2022-02-14T12:40:15.402Z"
   },
   {
    "duration": 985,
    "start_time": "2022-02-14T12:40:16.394Z"
   },
   {
    "duration": 1087,
    "start_time": "2022-02-14T12:40:17.381Z"
   },
   {
    "duration": 954,
    "start_time": "2022-02-14T12:40:18.470Z"
   },
   {
    "duration": 4850,
    "start_time": "2022-02-14T12:40:19.426Z"
   },
   {
    "duration": 190,
    "start_time": "2022-02-14T12:40:24.277Z"
   },
   {
    "duration": -371,
    "start_time": "2022-02-14T12:40:24.840Z"
   },
   {
    "duration": 404,
    "start_time": "2022-02-14T12:40:24.687Z"
   },
   {
    "duration": 12,
    "start_time": "2022-02-14T12:40:25.094Z"
   },
   {
    "duration": 32,
    "start_time": "2022-02-14T12:40:25.108Z"
   },
   {
    "duration": 24,
    "start_time": "2022-02-14T12:40:26.113Z"
   },
   {
    "duration": 1096,
    "start_time": "2022-02-14T12:40:26.577Z"
   },
   {
    "duration": 15,
    "start_time": "2022-02-14T12:40:27.675Z"
   },
   {
    "duration": 704,
    "start_time": "2022-02-14T12:40:28.857Z"
   },
   {
    "duration": 905,
    "start_time": "2022-02-14T12:41:22.235Z"
   },
   {
    "duration": 882,
    "start_time": "2022-02-14T12:42:50.595Z"
   },
   {
    "duration": 1134,
    "start_time": "2022-02-14T12:43:08.627Z"
   },
   {
    "duration": 57,
    "start_time": "2022-02-14T12:54:36.973Z"
   },
   {
    "duration": 55,
    "start_time": "2022-02-14T12:55:19.306Z"
   },
   {
    "duration": 9,
    "start_time": "2022-02-14T12:55:47.795Z"
   },
   {
    "duration": 17,
    "start_time": "2022-02-14T12:56:03.595Z"
   },
   {
    "duration": 17,
    "start_time": "2022-02-14T12:56:24.108Z"
   },
   {
    "duration": 20,
    "start_time": "2022-02-14T12:57:02.731Z"
   },
   {
    "duration": 21,
    "start_time": "2022-02-14T12:57:45.635Z"
   },
   {
    "duration": 1058,
    "start_time": "2022-02-14T13:01:49.246Z"
   },
   {
    "duration": 23,
    "start_time": "2022-02-14T13:03:35.623Z"
   },
   {
    "duration": 25,
    "start_time": "2022-02-14T13:05:07.975Z"
   },
   {
    "duration": 193,
    "start_time": "2022-02-14T13:06:52.168Z"
   },
   {
    "duration": 211,
    "start_time": "2022-02-14T13:07:10.729Z"
   },
   {
    "duration": 205,
    "start_time": "2022-02-14T13:40:16.155Z"
   },
   {
    "duration": 208,
    "start_time": "2022-02-14T13:43:04.686Z"
   },
   {
    "duration": 212,
    "start_time": "2022-02-14T13:43:20.389Z"
   },
   {
    "duration": 216,
    "start_time": "2022-02-14T13:44:03.062Z"
   },
   {
    "duration": 214,
    "start_time": "2022-02-14T13:45:54.552Z"
   },
   {
    "duration": 276,
    "start_time": "2022-02-14T13:46:55.135Z"
   },
   {
    "duration": 226,
    "start_time": "2022-02-14T13:47:08.392Z"
   },
   {
    "duration": 221,
    "start_time": "2022-02-14T13:47:22.039Z"
   },
   {
    "duration": 343,
    "start_time": "2022-02-14T13:47:56.727Z"
   },
   {
    "duration": 350,
    "start_time": "2022-02-14T13:48:22.874Z"
   },
   {
    "duration": 673,
    "start_time": "2022-02-14T13:48:49.450Z"
   },
   {
    "duration": 392,
    "start_time": "2022-02-14T13:49:47.417Z"
   },
   {
    "duration": 413,
    "start_time": "2022-02-14T13:50:01.642Z"
   },
   {
    "duration": 513,
    "start_time": "2022-02-14T13:50:17.504Z"
   },
   {
    "duration": 514,
    "start_time": "2022-02-14T13:54:43.282Z"
   },
   {
    "duration": 585,
    "start_time": "2022-02-14T13:55:07.139Z"
   },
   {
    "duration": 358,
    "start_time": "2022-02-14T13:55:30.756Z"
   },
   {
    "duration": 555,
    "start_time": "2022-02-14T14:01:35.598Z"
   },
   {
    "duration": 81,
    "start_time": "2022-02-14T14:02:28.711Z"
   },
   {
    "duration": 82,
    "start_time": "2022-02-14T14:05:41.224Z"
   },
   {
    "duration": 455,
    "start_time": "2022-02-14T14:05:56.961Z"
   },
   {
    "duration": 434,
    "start_time": "2022-02-14T14:06:03.610Z"
   },
   {
    "duration": 95,
    "start_time": "2022-02-14T14:06:19.721Z"
   },
   {
    "duration": 262,
    "start_time": "2022-02-14T14:06:38.264Z"
   },
   {
    "duration": 280,
    "start_time": "2022-02-14T14:06:52.684Z"
   },
   {
    "duration": 100,
    "start_time": "2022-02-14T14:07:58.083Z"
   },
   {
    "duration": 95,
    "start_time": "2022-02-14T14:08:03.552Z"
   },
   {
    "duration": 100,
    "start_time": "2022-02-14T14:08:18.585Z"
   },
   {
    "duration": 96,
    "start_time": "2022-02-14T14:08:57.490Z"
   },
   {
    "duration": 98,
    "start_time": "2022-02-14T14:09:15.313Z"
   },
   {
    "duration": 96,
    "start_time": "2022-02-14T14:09:26.467Z"
   },
   {
    "duration": 98,
    "start_time": "2022-02-14T14:09:52.889Z"
   },
   {
    "duration": 97,
    "start_time": "2022-02-14T14:10:15.963Z"
   },
   {
    "duration": 235,
    "start_time": "2022-02-14T14:10:39.882Z"
   },
   {
    "duration": 99,
    "start_time": "2022-02-14T14:11:32.212Z"
   },
   {
    "duration": 100,
    "start_time": "2022-02-14T14:11:48.202Z"
   },
   {
    "duration": 350,
    "start_time": "2022-02-14T14:12:15.580Z"
   },
   {
    "duration": 98,
    "start_time": "2022-02-14T14:12:27.186Z"
   },
   {
    "duration": 94,
    "start_time": "2022-02-14T14:12:39.883Z"
   },
   {
    "duration": 91,
    "start_time": "2022-02-14T14:12:54.251Z"
   },
   {
    "duration": 107,
    "start_time": "2022-02-14T14:13:19.867Z"
   },
   {
    "duration": 107,
    "start_time": "2022-02-14T14:13:35.756Z"
   },
   {
    "duration": 1463,
    "start_time": "2022-02-14T14:13:53.241Z"
   },
   {
    "duration": 37,
    "start_time": "2022-02-14T14:13:54.706Z"
   },
   {
    "duration": 1163,
    "start_time": "2022-02-14T14:13:54.767Z"
   },
   {
    "duration": 491,
    "start_time": "2022-02-14T14:13:55.932Z"
   },
   {
    "duration": 197,
    "start_time": "2022-02-14T14:13:56.425Z"
   },
   {
    "duration": 112,
    "start_time": "2022-02-14T14:13:56.624Z"
   },
   {
    "duration": 729,
    "start_time": "2022-02-14T14:13:56.739Z"
   },
   {
    "duration": 348,
    "start_time": "2022-02-14T14:13:57.470Z"
   },
   {
    "duration": 976,
    "start_time": "2022-02-14T14:13:57.820Z"
   },
   {
    "duration": 1266,
    "start_time": "2022-02-14T14:13:58.798Z"
   },
   {
    "duration": 1005,
    "start_time": "2022-02-14T14:14:00.066Z"
   },
   {
    "duration": 4711,
    "start_time": "2022-02-14T14:14:01.073Z"
   },
   {
    "duration": 594,
    "start_time": "2022-02-14T14:14:05.786Z"
   },
   {
    "duration": -43,
    "start_time": "2022-02-14T14:14:06.425Z"
   },
   {
    "duration": -46,
    "start_time": "2022-02-14T14:14:06.430Z"
   },
   {
    "duration": -48,
    "start_time": "2022-02-14T14:14:06.433Z"
   },
   {
    "duration": -50,
    "start_time": "2022-02-14T14:14:06.435Z"
   },
   {
    "duration": -53,
    "start_time": "2022-02-14T14:14:06.439Z"
   },
   {
    "duration": -54,
    "start_time": "2022-02-14T14:14:06.442Z"
   },
   {
    "duration": -56,
    "start_time": "2022-02-14T14:14:06.444Z"
   },
   {
    "duration": -57,
    "start_time": "2022-02-14T14:14:06.446Z"
   },
   {
    "duration": -60,
    "start_time": "2022-02-14T14:14:06.450Z"
   },
   {
    "duration": 132,
    "start_time": "2022-02-14T14:15:58.802Z"
   },
   {
    "duration": 1126,
    "start_time": "2022-02-14T14:17:11.755Z"
   },
   {
    "duration": 971,
    "start_time": "2022-02-14T15:17:27.543Z"
   },
   {
    "duration": 947,
    "start_time": "2022-02-14T15:17:40.759Z"
   },
   {
    "duration": 475,
    "start_time": "2022-02-14T15:18:55.255Z"
   },
   {
    "duration": 397,
    "start_time": "2022-02-14T15:19:04.470Z"
   },
   {
    "duration": 243,
    "start_time": "2022-02-14T15:19:31.598Z"
   },
   {
    "duration": 939,
    "start_time": "2022-02-14T15:20:46.802Z"
   },
   {
    "duration": 827,
    "start_time": "2022-02-14T15:21:07.340Z"
   },
   {
    "duration": 757,
    "start_time": "2022-02-14T15:21:22.145Z"
   },
   {
    "duration": 67,
    "start_time": "2022-02-14T15:23:30.092Z"
   },
   {
    "duration": 732,
    "start_time": "2022-02-14T15:23:42.582Z"
   },
   {
    "duration": 948,
    "start_time": "2022-02-14T15:23:55.273Z"
   },
   {
    "duration": 1739,
    "start_time": "2022-02-14T15:30:47.572Z"
   },
   {
    "duration": 206,
    "start_time": "2022-02-14T15:49:21.090Z"
   },
   {
    "duration": 1051,
    "start_time": "2022-02-14T15:50:17.591Z"
   },
   {
    "duration": 1054,
    "start_time": "2022-02-14T15:50:52.008Z"
   },
   {
    "duration": 1276,
    "start_time": "2022-02-14T15:51:31.312Z"
   },
   {
    "duration": 1152,
    "start_time": "2022-02-14T16:01:25.471Z"
   },
   {
    "duration": 1376,
    "start_time": "2022-02-14T16:01:33.116Z"
   },
   {
    "duration": 1284,
    "start_time": "2022-02-14T16:04:23.195Z"
   },
   {
    "duration": 1278,
    "start_time": "2022-02-14T16:04:32.264Z"
   },
   {
    "duration": 1514,
    "start_time": "2022-02-14T16:11:22.725Z"
   },
   {
    "duration": 1326,
    "start_time": "2022-02-14T16:11:35.839Z"
   },
   {
    "duration": 1384,
    "start_time": "2022-02-14T16:12:01.809Z"
   },
   {
    "duration": 1576,
    "start_time": "2022-02-14T16:12:13.209Z"
   },
   {
    "duration": 1344,
    "start_time": "2022-02-14T16:12:34.881Z"
   },
   {
    "duration": 1532,
    "start_time": "2022-02-14T16:12:58.609Z"
   },
   {
    "duration": 1321,
    "start_time": "2022-02-14T16:13:15.585Z"
   },
   {
    "duration": 1308,
    "start_time": "2022-02-14T16:13:46.032Z"
   },
   {
    "duration": 184,
    "start_time": "2022-02-14T16:15:59.571Z"
   },
   {
    "duration": 56,
    "start_time": "2022-02-14T16:16:26.998Z"
   },
   {
    "duration": 57,
    "start_time": "2022-02-14T16:16:39.058Z"
   },
   {
    "duration": 1714,
    "start_time": "2022-02-14T16:16:57.393Z"
   },
   {
    "duration": 910,
    "start_time": "2022-02-14T16:17:26.525Z"
   },
   {
    "duration": 587,
    "start_time": "2022-02-14T16:17:36.520Z"
   },
   {
    "duration": 1276,
    "start_time": "2022-02-14T17:19:40.169Z"
   },
   {
    "duration": 1492,
    "start_time": "2022-02-14T17:25:54.028Z"
   },
   {
    "duration": 1243,
    "start_time": "2022-02-14T17:26:01.510Z"
   },
   {
    "duration": 433,
    "start_time": "2022-02-14T18:13:34.241Z"
   },
   {
    "duration": 184,
    "start_time": "2022-02-14T18:15:23.722Z"
   },
   {
    "duration": 180,
    "start_time": "2022-02-14T18:15:29.270Z"
   },
   {
    "duration": 28,
    "start_time": "2022-02-14T18:15:35.785Z"
   },
   {
    "duration": 1087,
    "start_time": "2022-02-14T18:15:37.509Z"
   },
   {
    "duration": 475,
    "start_time": "2022-02-14T18:15:38.597Z"
   },
   {
    "duration": 181,
    "start_time": "2022-02-14T18:15:40.204Z"
   },
   {
    "duration": 324,
    "start_time": "2022-02-14T18:15:42.896Z"
   },
   {
    "duration": 249,
    "start_time": "2022-02-14T18:15:44.861Z"
   },
   {
    "duration": 803,
    "start_time": "2022-02-14T18:15:46.714Z"
   },
   {
    "duration": 453,
    "start_time": "2022-02-14T18:15:47.520Z"
   },
   {
    "duration": 1241,
    "start_time": "2022-02-14T18:15:48.344Z"
   },
   {
    "duration": 1744,
    "start_time": "2022-02-14T18:15:49.823Z"
   },
   {
    "duration": 1033,
    "start_time": "2022-02-14T18:15:58.672Z"
   },
   {
    "duration": 1015,
    "start_time": "2022-02-14T18:16:42.958Z"
   },
   {
    "duration": 1043,
    "start_time": "2022-02-14T18:18:40.817Z"
   },
   {
    "duration": 187,
    "start_time": "2022-02-14T18:19:05.166Z"
   },
   {
    "duration": 185,
    "start_time": "2022-02-14T18:19:12.519Z"
   },
   {
    "duration": 1042,
    "start_time": "2022-02-14T18:19:24.340Z"
   },
   {
    "duration": 1059,
    "start_time": "2022-02-14T18:20:41.226Z"
   },
   {
    "duration": 380,
    "start_time": "2022-02-14T18:20:49.365Z"
   },
   {
    "duration": 16,
    "start_time": "2022-02-14T18:20:51.329Z"
   },
   {
    "duration": 26,
    "start_time": "2022-02-14T18:20:55.041Z"
   },
   {
    "duration": 22,
    "start_time": "2022-02-14T18:20:56.957Z"
   },
   {
    "duration": 1022,
    "start_time": "2022-02-14T18:20:57.508Z"
   },
   {
    "duration": 24,
    "start_time": "2022-02-14T18:20:58.532Z"
   },
   {
    "duration": 1310,
    "start_time": "2022-02-14T18:21:01.151Z"
   },
   {
    "duration": 593,
    "start_time": "2022-02-14T18:21:04.761Z"
   },
   {
    "duration": 4868,
    "start_time": "2022-02-14T18:28:39.767Z"
   },
   {
    "duration": 4377,
    "start_time": "2022-02-14T18:29:47.573Z"
   },
   {
    "duration": 52,
    "start_time": "2022-02-14T18:30:05.585Z"
   },
   {
    "duration": 34,
    "start_time": "2022-02-14T18:30:06.264Z"
   },
   {
    "duration": 1082,
    "start_time": "2022-02-14T18:30:07.028Z"
   },
   {
    "duration": 288,
    "start_time": "2022-02-14T18:30:07.824Z"
   },
   {
    "duration": 190,
    "start_time": "2022-02-14T18:30:08.847Z"
   },
   {
    "duration": 145,
    "start_time": "2022-02-14T18:30:09.841Z"
   },
   {
    "duration": 238,
    "start_time": "2022-02-14T18:30:11.220Z"
   },
   {
    "duration": 1051,
    "start_time": "2022-02-14T18:30:12.859Z"
   },
   {
    "duration": 295,
    "start_time": "2022-02-14T18:30:13.617Z"
   },
   {
    "duration": 293,
    "start_time": "2022-02-14T18:30:13.620Z"
   },
   {
    "duration": 1076,
    "start_time": "2022-02-14T18:30:14.885Z"
   },
   {
    "duration": 394,
    "start_time": "2022-02-14T18:30:16.555Z"
   },
   {
    "duration": 15,
    "start_time": "2022-02-14T18:30:18.319Z"
   },
   {
    "duration": 26,
    "start_time": "2022-02-14T18:30:19.014Z"
   },
   {
    "duration": 23,
    "start_time": "2022-02-14T18:30:21.123Z"
   },
   {
    "duration": 1043,
    "start_time": "2022-02-14T18:30:21.699Z"
   },
   {
    "duration": 24,
    "start_time": "2022-02-14T18:30:23.419Z"
   },
   {
    "duration": 1287,
    "start_time": "2022-02-14T18:30:24.429Z"
   },
   {
    "duration": 344,
    "start_time": "2022-02-14T18:30:25.374Z"
   },
   {
    "duration": 8723,
    "start_time": "2022-02-14T18:30:37.631Z"
   },
   {
    "duration": 4940,
    "start_time": "2022-02-14T18:33:01.818Z"
   },
   {
    "duration": 1263,
    "start_time": "2022-02-14T18:33:51.457Z"
   },
   {
    "duration": 1062,
    "start_time": "2022-02-14T18:34:14.398Z"
   },
   {
    "duration": 343,
    "start_time": "2022-02-14T18:34:17.331Z"
   },
   {
    "duration": 15,
    "start_time": "2022-02-14T18:34:20.497Z"
   },
   {
    "duration": 24,
    "start_time": "2022-02-14T18:34:21.594Z"
   },
   {
    "duration": 22,
    "start_time": "2022-02-14T18:34:24.032Z"
   },
   {
    "duration": 1035,
    "start_time": "2022-02-14T18:34:25.683Z"
   },
   {
    "duration": 26,
    "start_time": "2022-02-14T18:34:26.719Z"
   },
   {
    "duration": 1389,
    "start_time": "2022-02-14T18:34:29.703Z"
   },
   {
    "duration": 347,
    "start_time": "2022-02-14T18:34:30.747Z"
   },
   {
    "duration": 4978,
    "start_time": "2022-02-14T18:36:25.969Z"
   },
   {
    "duration": 1297,
    "start_time": "2022-02-14T18:37:34.973Z"
   },
   {
    "duration": 730,
    "start_time": "2022-02-14T18:37:45.528Z"
   },
   {
    "duration": 487,
    "start_time": "2022-02-14T18:38:03.295Z"
   },
   {
    "duration": 4845,
    "start_time": "2022-02-14T18:38:45.954Z"
   },
   {
    "duration": 54,
    "start_time": "2022-02-14T18:39:42.448Z"
   },
   {
    "duration": 33,
    "start_time": "2022-02-14T18:39:45.644Z"
   },
   {
    "duration": 1029,
    "start_time": "2022-02-14T18:39:49.597Z"
   },
   {
    "duration": 1489,
    "start_time": "2022-02-14T18:40:03.052Z"
   },
   {
    "duration": 32,
    "start_time": "2022-02-14T18:40:04.543Z"
   },
   {
    "duration": 1118,
    "start_time": "2022-02-14T18:40:04.579Z"
   },
   {
    "duration": 484,
    "start_time": "2022-02-14T18:40:05.699Z"
   },
   {
    "duration": 198,
    "start_time": "2022-02-14T18:40:06.185Z"
   },
   {
    "duration": 145,
    "start_time": "2022-02-14T18:40:06.385Z"
   },
   {
    "duration": 762,
    "start_time": "2022-02-14T18:40:06.533Z"
   },
   {
    "duration": 969,
    "start_time": "2022-02-14T18:40:07.297Z"
   },
   {
    "duration": 468,
    "start_time": "2022-02-14T18:40:08.268Z"
   },
   {
    "duration": 1399,
    "start_time": "2022-02-14T18:40:08.738Z"
   },
   {
    "duration": 1057,
    "start_time": "2022-02-14T18:40:10.138Z"
   },
   {
    "duration": 341,
    "start_time": "2022-02-14T18:40:11.197Z"
   },
   {
    "duration": 11,
    "start_time": "2022-02-14T18:40:11.540Z"
   },
   {
    "duration": 25,
    "start_time": "2022-02-14T18:40:11.559Z"
   },
   {
    "duration": 22,
    "start_time": "2022-02-14T18:40:11.585Z"
   },
   {
    "duration": 1140,
    "start_time": "2022-02-14T18:40:11.608Z"
   },
   {
    "duration": 20,
    "start_time": "2022-02-14T18:40:12.750Z"
   },
   {
    "duration": 1514,
    "start_time": "2022-02-14T18:40:12.772Z"
   },
   {
    "duration": 358,
    "start_time": "2022-02-14T18:40:13.930Z"
   },
   {
    "duration": 5012,
    "start_time": "2022-02-14T18:40:28.612Z"
   },
   {
    "duration": 1449,
    "start_time": "2022-02-14T18:41:41.746Z"
   },
   {
    "duration": 31,
    "start_time": "2022-02-14T18:41:43.199Z"
   },
   {
    "duration": 1133,
    "start_time": "2022-02-14T18:41:43.232Z"
   },
   {
    "duration": 470,
    "start_time": "2022-02-14T18:41:44.366Z"
   },
   {
    "duration": 190,
    "start_time": "2022-02-14T18:41:44.838Z"
   },
   {
    "duration": 152,
    "start_time": "2022-02-14T18:41:45.030Z"
   },
   {
    "duration": 739,
    "start_time": "2022-02-14T18:41:45.184Z"
   },
   {
    "duration": 912,
    "start_time": "2022-02-14T18:41:45.925Z"
   },
   {
    "duration": 482,
    "start_time": "2022-02-14T18:41:46.839Z"
   },
   {
    "duration": 1371,
    "start_time": "2022-02-14T18:41:47.323Z"
   },
   {
    "duration": 1042,
    "start_time": "2022-02-14T18:41:48.695Z"
   },
   {
    "duration": 356,
    "start_time": "2022-02-14T18:41:49.739Z"
   },
   {
    "duration": 12,
    "start_time": "2022-02-14T18:41:50.097Z"
   },
   {
    "duration": 24,
    "start_time": "2022-02-14T18:41:50.110Z"
   },
   {
    "duration": 45,
    "start_time": "2022-02-14T18:41:50.137Z"
   },
   {
    "duration": 933,
    "start_time": "2022-02-14T18:41:50.184Z"
   },
   {
    "duration": 22,
    "start_time": "2022-02-14T18:41:51.119Z"
   },
   {
    "duration": 1437,
    "start_time": "2022-02-14T18:41:51.142Z"
   },
   {
    "duration": 361,
    "start_time": "2022-02-14T18:41:52.220Z"
   },
   {
    "duration": 4618,
    "start_time": "2022-02-14T18:43:21.457Z"
   },
   {
    "duration": 4226,
    "start_time": "2022-02-14T18:43:49.060Z"
   },
   {
    "duration": 4447,
    "start_time": "2022-02-14T18:45:03.607Z"
   },
   {
    "duration": 5184,
    "start_time": "2022-02-14T18:45:11.850Z"
   },
   {
    "duration": 53,
    "start_time": "2022-02-14T18:45:23.385Z"
   },
   {
    "duration": 31,
    "start_time": "2022-02-14T18:45:23.440Z"
   },
   {
    "duration": 1002,
    "start_time": "2022-02-14T18:45:23.473Z"
   },
   {
    "duration": 315,
    "start_time": "2022-02-14T18:45:24.162Z"
   },
   {
    "duration": 313,
    "start_time": "2022-02-14T18:45:24.165Z"
   },
   {
    "duration": 312,
    "start_time": "2022-02-14T18:45:24.167Z"
   },
   {
    "duration": 311,
    "start_time": "2022-02-14T18:45:24.169Z"
   },
   {
    "duration": 310,
    "start_time": "2022-02-14T18:45:24.171Z"
   },
   {
    "duration": 307,
    "start_time": "2022-02-14T18:45:24.175Z"
   },
   {
    "duration": 305,
    "start_time": "2022-02-14T18:45:24.178Z"
   },
   {
    "duration": 303,
    "start_time": "2022-02-14T18:45:24.181Z"
   },
   {
    "duration": 301,
    "start_time": "2022-02-14T18:45:24.183Z"
   },
   {
    "duration": 300,
    "start_time": "2022-02-14T18:45:24.185Z"
   },
   {
    "duration": 299,
    "start_time": "2022-02-14T18:45:24.187Z"
   },
   {
    "duration": 297,
    "start_time": "2022-02-14T18:45:24.190Z"
   },
   {
    "duration": 296,
    "start_time": "2022-02-14T18:45:24.192Z"
   },
   {
    "duration": 295,
    "start_time": "2022-02-14T18:45:24.194Z"
   },
   {
    "duration": 5207,
    "start_time": "2022-02-14T18:46:02.849Z"
   },
   {
    "duration": 1332,
    "start_time": "2022-02-14T18:47:41.902Z"
   },
   {
    "duration": 31,
    "start_time": "2022-02-14T18:49:17.908Z"
   },
   {
    "duration": 1130,
    "start_time": "2022-02-14T18:49:27.378Z"
   },
   {
    "duration": 480,
    "start_time": "2022-02-14T18:49:35.291Z"
   },
   {
    "duration": 183,
    "start_time": "2022-02-14T18:49:41.420Z"
   },
   {
    "duration": 138,
    "start_time": "2022-02-14T18:49:44.667Z"
   },
   {
    "duration": 729,
    "start_time": "2022-02-14T18:49:49.017Z"
   },
   {
    "duration": 882,
    "start_time": "2022-02-14T18:49:54.768Z"
   },
   {
    "duration": 450,
    "start_time": "2022-02-14T18:49:58.003Z"
   },
   {
    "duration": 1390,
    "start_time": "2022-02-14T18:50:01.558Z"
   },
   {
    "duration": 1192,
    "start_time": "2022-02-14T18:50:55.212Z"
   },
   {
    "duration": 1052,
    "start_time": "2022-02-14T18:51:01.496Z"
   },
   {
    "duration": 356,
    "start_time": "2022-02-14T18:51:10.956Z"
   },
   {
    "duration": 13,
    "start_time": "2022-02-14T18:51:20.847Z"
   },
   {
    "duration": 24,
    "start_time": "2022-02-14T18:51:23.987Z"
   },
   {
    "duration": 22,
    "start_time": "2022-02-14T18:51:43.748Z"
   },
   {
    "duration": 1093,
    "start_time": "2022-02-14T18:51:47.192Z"
   },
   {
    "duration": 25,
    "start_time": "2022-02-14T18:51:52.865Z"
   },
   {
    "duration": 4817,
    "start_time": "2022-02-14T18:52:18.880Z"
   },
   {
    "duration": 366,
    "start_time": "2022-02-14T18:56:21.581Z"
   },
   {
    "duration": 4752,
    "start_time": "2022-02-14T18:58:34.924Z"
   },
   {
    "duration": 5236,
    "start_time": "2022-02-14T18:59:06.236Z"
   },
   {
    "duration": 4856,
    "start_time": "2022-02-14T19:00:54.851Z"
   },
   {
    "duration": 4639,
    "start_time": "2022-02-14T19:01:45.292Z"
   },
   {
    "duration": 1199,
    "start_time": "2022-02-14T19:03:27.148Z"
   },
   {
    "duration": 1235,
    "start_time": "2022-02-14T19:03:55.747Z"
   },
   {
    "duration": 54,
    "start_time": "2022-02-14T19:04:45.791Z"
   },
   {
    "duration": 33,
    "start_time": "2022-02-14T19:04:48.418Z"
   },
   {
    "duration": 1164,
    "start_time": "2022-02-14T19:04:51.022Z"
   },
   {
    "duration": 276,
    "start_time": "2022-02-14T19:04:51.912Z"
   },
   {
    "duration": 183,
    "start_time": "2022-02-14T19:04:57.553Z"
   },
   {
    "duration": 131,
    "start_time": "2022-02-14T19:05:00.685Z"
   },
   {
    "duration": 258,
    "start_time": "2022-02-14T19:05:05.082Z"
   },
   {
    "duration": 933,
    "start_time": "2022-02-14T19:05:12.034Z"
   },
   {
    "duration": 886,
    "start_time": "2022-02-14T19:05:24.668Z"
   },
   {
    "duration": 765,
    "start_time": "2022-02-14T19:05:46.487Z"
   },
   {
    "duration": 2282,
    "start_time": "2022-02-14T19:06:10.963Z"
   },
   {
    "duration": 32,
    "start_time": "2022-02-14T19:06:16.514Z"
   },
   {
    "duration": 1102,
    "start_time": "2022-02-14T19:06:20.262Z"
   },
   {
    "duration": 491,
    "start_time": "2022-02-14T19:06:24.440Z"
   },
   {
    "duration": 179,
    "start_time": "2022-02-14T19:06:33.282Z"
   },
   {
    "duration": 140,
    "start_time": "2022-02-14T19:06:38.551Z"
   },
   {
    "duration": 720,
    "start_time": "2022-02-14T19:06:42.816Z"
   },
   {
    "duration": 785,
    "start_time": "2022-02-14T19:07:20.594Z"
   },
   {
    "duration": 508,
    "start_time": "2022-02-14T19:07:31.743Z"
   },
   {
    "duration": 1387,
    "start_time": "2022-02-14T19:07:33.333Z"
   },
   {
    "duration": 1102,
    "start_time": "2022-02-14T19:07:56.312Z"
   },
   {
    "duration": 900,
    "start_time": "2022-02-14T19:09:04.049Z"
   },
   {
    "duration": 1149,
    "start_time": "2022-02-14T19:09:50.335Z"
   },
   {
    "duration": 377,
    "start_time": "2022-02-14T19:09:56.040Z"
   },
   {
    "duration": 16,
    "start_time": "2022-02-14T19:10:01.139Z"
   },
   {
    "duration": 22,
    "start_time": "2022-02-14T19:10:10.531Z"
   },
   {
    "duration": 24,
    "start_time": "2022-02-14T19:10:17.593Z"
   },
   {
    "duration": 1122,
    "start_time": "2022-02-14T19:10:19.581Z"
   },
   {
    "duration": 24,
    "start_time": "2022-02-14T19:10:46.257Z"
   },
   {
    "duration": 23,
    "start_time": "2022-02-14T19:10:54.501Z"
   },
   {
    "duration": 47,
    "start_time": "2022-02-14T19:11:35.656Z"
   },
   {
    "duration": 1250,
    "start_time": "2022-02-14T20:25:06.878Z"
   },
   {
    "duration": 1061,
    "start_time": "2022-02-14T20:25:25.378Z"
   },
   {
    "duration": 917,
    "start_time": "2022-02-14T20:28:33.563Z"
   },
   {
    "duration": 647,
    "start_time": "2022-02-14T20:30:43.971Z"
   },
   {
    "duration": 196,
    "start_time": "2022-02-14T20:31:25.937Z"
   },
   {
    "duration": 3,
    "start_time": "2022-02-14T20:31:53.189Z"
   },
   {
    "duration": 3,
    "start_time": "2022-02-14T20:32:15.775Z"
   },
   {
    "duration": 184,
    "start_time": "2022-02-14T20:33:40.233Z"
   },
   {
    "duration": 259,
    "start_time": "2022-02-14T20:36:32.872Z"
   },
   {
    "duration": 54,
    "start_time": "2022-02-14T20:43:52.762Z"
   },
   {
    "duration": 48,
    "start_time": "2022-02-14T20:43:52.818Z"
   },
   {
    "duration": 1031,
    "start_time": "2022-02-14T20:43:52.869Z"
   },
   {
    "duration": 473,
    "start_time": "2022-02-14T20:43:53.430Z"
   },
   {
    "duration": 471,
    "start_time": "2022-02-14T20:43:53.433Z"
   },
   {
    "duration": 469,
    "start_time": "2022-02-14T20:43:53.436Z"
   },
   {
    "duration": 466,
    "start_time": "2022-02-14T20:43:53.440Z"
   },
   {
    "duration": 463,
    "start_time": "2022-02-14T20:43:53.444Z"
   },
   {
    "duration": 462,
    "start_time": "2022-02-14T20:43:53.446Z"
   },
   {
    "duration": 460,
    "start_time": "2022-02-14T20:43:53.449Z"
   },
   {
    "duration": 456,
    "start_time": "2022-02-14T20:43:53.454Z"
   },
   {
    "duration": 443,
    "start_time": "2022-02-14T20:43:53.468Z"
   },
   {
    "duration": 438,
    "start_time": "2022-02-14T20:43:53.474Z"
   },
   {
    "duration": 436,
    "start_time": "2022-02-14T20:43:53.477Z"
   },
   {
    "duration": 434,
    "start_time": "2022-02-14T20:43:53.480Z"
   },
   {
    "duration": 257,
    "start_time": "2022-02-14T20:43:53.658Z"
   },
   {
    "duration": 250,
    "start_time": "2022-02-14T20:43:53.666Z"
   },
   {
    "duration": 247,
    "start_time": "2022-02-14T20:43:53.670Z"
   },
   {
    "duration": 244,
    "start_time": "2022-02-14T20:43:53.674Z"
   },
   {
    "duration": 1453,
    "start_time": "2022-02-14T20:44:07.476Z"
   },
   {
    "duration": 31,
    "start_time": "2022-02-14T20:44:08.932Z"
   },
   {
    "duration": 1151,
    "start_time": "2022-02-14T20:44:08.965Z"
   },
   {
    "duration": 479,
    "start_time": "2022-02-14T20:44:10.118Z"
   },
   {
    "duration": 199,
    "start_time": "2022-02-14T20:44:10.598Z"
   },
   {
    "duration": 144,
    "start_time": "2022-02-14T20:44:10.799Z"
   },
   {
    "duration": 782,
    "start_time": "2022-02-14T20:44:10.945Z"
   },
   {
    "duration": 1018,
    "start_time": "2022-02-14T20:44:11.730Z"
   },
   {
    "duration": 468,
    "start_time": "2022-02-14T20:44:12.750Z"
   },
   {
    "duration": 890,
    "start_time": "2022-02-14T20:44:13.220Z"
   },
   {
    "duration": 1195,
    "start_time": "2022-02-14T20:44:14.112Z"
   },
   {
    "duration": 353,
    "start_time": "2022-02-14T20:44:15.309Z"
   },
   {
    "duration": 11,
    "start_time": "2022-02-14T20:44:15.664Z"
   },
   {
    "duration": 24,
    "start_time": "2022-02-14T20:44:15.676Z"
   },
   {
    "duration": 23,
    "start_time": "2022-02-14T20:44:15.702Z"
   },
   {
    "duration": 918,
    "start_time": "2022-02-14T20:44:15.727Z"
   },
   {
    "duration": 22,
    "start_time": "2022-02-14T20:44:16.647Z"
   },
   {
    "duration": 926,
    "start_time": "2022-02-14T20:44:16.671Z"
   },
   {
    "duration": 262,
    "start_time": "2022-02-14T20:44:17.599Z"
   },
   {
    "duration": 974,
    "start_time": "2022-02-14T20:45:08.145Z"
   },
   {
    "duration": 929,
    "start_time": "2022-02-14T20:45:40.936Z"
   },
   {
    "duration": 1006,
    "start_time": "2022-02-14T20:46:13.644Z"
   },
   {
    "duration": 858,
    "start_time": "2022-02-14T20:48:13.001Z"
   },
   {
    "duration": 895,
    "start_time": "2022-02-14T20:51:51.611Z"
   },
   {
    "duration": 903,
    "start_time": "2022-02-14T20:52:13.189Z"
   },
   {
    "duration": 858,
    "start_time": "2022-02-14T20:52:53.395Z"
   },
   {
    "duration": 356,
    "start_time": "2022-02-14T21:11:05.718Z"
   },
   {
    "duration": 437,
    "start_time": "2022-02-14T21:11:46.640Z"
   },
   {
    "duration": 193,
    "start_time": "2022-02-14T21:14:27.559Z"
   },
   {
    "duration": 269,
    "start_time": "2022-02-14T21:14:51.723Z"
   },
   {
    "duration": 294,
    "start_time": "2022-02-14T21:26:11.987Z"
   },
   {
    "duration": 504,
    "start_time": "2022-02-14T21:26:35.889Z"
   },
   {
    "duration": 302,
    "start_time": "2022-02-14T21:27:49.115Z"
   },
   {
    "duration": 660,
    "start_time": "2022-02-14T21:36:16.683Z"
   },
   {
    "duration": 891,
    "start_time": "2022-02-14T21:36:43.994Z"
   },
   {
    "duration": 654,
    "start_time": "2022-02-14T21:38:13.920Z"
   },
   {
    "duration": 1398,
    "start_time": "2022-02-14T21:47:38.608Z"
   },
   {
    "duration": 191,
    "start_time": "2022-02-14T21:59:59.150Z"
   },
   {
    "duration": 355,
    "start_time": "2022-02-14T22:00:30.802Z"
   },
   {
    "duration": 257,
    "start_time": "2022-02-14T22:02:15.694Z"
   },
   {
    "duration": 266,
    "start_time": "2022-02-14T22:02:47.559Z"
   },
   {
    "duration": 340,
    "start_time": "2022-02-14T22:04:26.804Z"
   },
   {
    "duration": 347,
    "start_time": "2022-02-14T22:06:28.612Z"
   },
   {
    "duration": 362,
    "start_time": "2022-02-14T22:07:38.111Z"
   },
   {
    "duration": 335,
    "start_time": "2022-02-14T22:10:34.526Z"
   },
   {
    "duration": 412,
    "start_time": "2022-02-14T22:11:38.671Z"
   },
   {
    "duration": 898,
    "start_time": "2022-02-14T22:12:44.136Z"
   },
   {
    "duration": 555,
    "start_time": "2022-02-14T22:12:54.257Z"
   },
   {
    "duration": 854,
    "start_time": "2022-02-14T22:12:54.858Z"
   },
   {
    "duration": 1276,
    "start_time": "2022-02-14T22:12:57.706Z"
   },
   {
    "duration": 53,
    "start_time": "2022-02-14T22:14:22.578Z"
   },
   {
    "duration": 31,
    "start_time": "2022-02-14T22:14:24.480Z"
   },
   {
    "duration": 986,
    "start_time": "2022-02-14T22:14:26.468Z"
   },
   {
    "duration": 641,
    "start_time": "2022-02-14T22:14:26.815Z"
   },
   {
    "duration": 184,
    "start_time": "2022-02-14T22:14:31.090Z"
   },
   {
    "duration": 131,
    "start_time": "2022-02-14T22:14:43.330Z"
   },
   {
    "duration": 431,
    "start_time": "2022-02-14T22:15:25.185Z"
   },
   {
    "duration": 238,
    "start_time": "2022-02-14T22:15:41.967Z"
   },
   {
    "duration": 195,
    "start_time": "2022-02-14T22:16:59.409Z"
   },
   {
    "duration": 456,
    "start_time": "2022-02-14T22:17:10.395Z"
   },
   {
    "duration": 238,
    "start_time": "2022-02-14T22:17:54.175Z"
   },
   {
    "duration": 872,
    "start_time": "2022-02-14T22:20:35.819Z"
   },
   {
    "duration": 506,
    "start_time": "2022-02-14T22:20:43.731Z"
   },
   {
    "duration": 853,
    "start_time": "2022-02-14T22:20:45.839Z"
   },
   {
    "duration": 497,
    "start_time": "2022-02-14T22:21:29.345Z"
   },
   {
    "duration": 1594,
    "start_time": "2022-02-14T22:21:55.505Z"
   },
   {
    "duration": 32,
    "start_time": "2022-02-14T22:21:57.101Z"
   },
   {
    "duration": 1118,
    "start_time": "2022-02-14T22:21:57.135Z"
   },
   {
    "duration": 465,
    "start_time": "2022-02-14T22:21:58.254Z"
   },
   {
    "duration": 191,
    "start_time": "2022-02-14T22:21:58.721Z"
   },
   {
    "duration": 150,
    "start_time": "2022-02-14T22:21:58.914Z"
   },
   {
    "duration": 741,
    "start_time": "2022-02-14T22:21:59.065Z"
   },
   {
    "duration": 891,
    "start_time": "2022-02-14T22:21:59.809Z"
   },
   {
    "duration": 495,
    "start_time": "2022-02-14T22:22:00.703Z"
   },
   {
    "duration": 908,
    "start_time": "2022-02-14T22:22:01.200Z"
   },
   {
    "duration": 1293,
    "start_time": "2022-02-14T22:22:02.110Z"
   },
   {
    "duration": 492,
    "start_time": "2022-02-14T22:22:03.405Z"
   },
   {
    "duration": 13,
    "start_time": "2022-02-14T22:22:03.898Z"
   },
   {
    "duration": 27,
    "start_time": "2022-02-14T22:22:03.912Z"
   },
   {
    "duration": 40,
    "start_time": "2022-02-14T22:22:03.941Z"
   },
   {
    "duration": 1033,
    "start_time": "2022-02-14T22:22:03.983Z"
   },
   {
    "duration": 24,
    "start_time": "2022-02-14T22:22:05.018Z"
   },
   {
    "duration": 637,
    "start_time": "2022-02-14T22:22:05.044Z"
   },
   {
    "duration": 289,
    "start_time": "2022-02-14T22:22:05.683Z"
   },
   {
    "duration": 1506,
    "start_time": "2022-02-15T16:17:28.039Z"
   },
   {
    "duration": 30,
    "start_time": "2022-02-15T16:17:29.547Z"
   },
   {
    "duration": 1016,
    "start_time": "2022-02-15T16:17:29.579Z"
   },
   {
    "duration": 487,
    "start_time": "2022-02-15T16:17:30.597Z"
   },
   {
    "duration": 176,
    "start_time": "2022-02-15T16:17:31.085Z"
   },
   {
    "duration": 133,
    "start_time": "2022-02-15T16:17:31.263Z"
   },
   {
    "duration": 700,
    "start_time": "2022-02-15T16:17:31.398Z"
   },
   {
    "duration": 795,
    "start_time": "2022-02-15T16:17:32.101Z"
   },
   {
    "duration": 417,
    "start_time": "2022-02-15T16:17:32.897Z"
   },
   {
    "duration": 790,
    "start_time": "2022-02-15T16:17:33.316Z"
   },
   {
    "duration": 1288,
    "start_time": "2022-02-15T16:17:34.108Z"
   },
   {
    "duration": 463,
    "start_time": "2022-02-15T16:17:35.398Z"
   },
   {
    "duration": 10,
    "start_time": "2022-02-15T16:17:35.863Z"
   },
   {
    "duration": 22,
    "start_time": "2022-02-15T16:17:35.875Z"
   },
   {
    "duration": 17,
    "start_time": "2022-02-15T16:17:35.898Z"
   },
   {
    "duration": 1311,
    "start_time": "2022-02-15T16:17:35.917Z"
   },
   {
    "duration": 28,
    "start_time": "2022-02-15T16:17:37.230Z"
   },
   {
    "duration": 581,
    "start_time": "2022-02-15T16:17:37.259Z"
   },
   {
    "duration": 252,
    "start_time": "2022-02-15T16:17:37.842Z"
   },
   {
    "duration": 121,
    "start_time": "2022-02-15T16:32:36.652Z"
   },
   {
    "duration": 23,
    "start_time": "2022-02-15T16:32:44.527Z"
   },
   {
    "duration": 17,
    "start_time": "2022-02-15T16:32:59.707Z"
   },
   {
    "duration": 14,
    "start_time": "2022-02-15T16:35:12.294Z"
   },
   {
    "duration": 16,
    "start_time": "2022-02-15T16:36:26.336Z"
   },
   {
    "duration": 16,
    "start_time": "2022-02-15T16:37:17.074Z"
   },
   {
    "duration": 279,
    "start_time": "2022-02-15T16:49:44.734Z"
   },
   {
    "duration": 233,
    "start_time": "2022-02-15T16:49:54.900Z"
   },
   {
    "duration": 253,
    "start_time": "2022-02-15T16:50:00.065Z"
   },
   {
    "duration": 248,
    "start_time": "2022-02-15T16:50:07.656Z"
   },
   {
    "duration": 876,
    "start_time": "2022-02-15T16:50:39.348Z"
   },
   {
    "duration": 249,
    "start_time": "2022-02-15T16:50:48.466Z"
   },
   {
    "duration": 262,
    "start_time": "2022-02-15T16:51:07.652Z"
   },
   {
    "duration": 271,
    "start_time": "2022-02-15T17:06:33.438Z"
   },
   {
    "duration": 263,
    "start_time": "2022-02-15T17:11:18.978Z"
   },
   {
    "duration": 252,
    "start_time": "2022-02-15T17:13:11.408Z"
   },
   {
    "duration": 254,
    "start_time": "2022-02-15T17:13:49.594Z"
   },
   {
    "duration": 266,
    "start_time": "2022-02-15T17:15:27.682Z"
   },
   {
    "duration": 266,
    "start_time": "2022-02-15T17:16:12.208Z"
   },
   {
    "duration": 280,
    "start_time": "2022-02-15T17:16:26.290Z"
   },
   {
    "duration": 583,
    "start_time": "2022-02-15T17:16:36.693Z"
   },
   {
    "duration": 267,
    "start_time": "2022-02-15T17:16:44.246Z"
   },
   {
    "duration": 262,
    "start_time": "2022-02-15T17:16:51.133Z"
   },
   {
    "duration": 279,
    "start_time": "2022-02-15T17:17:04.741Z"
   },
   {
    "duration": 274,
    "start_time": "2022-02-15T17:17:11.742Z"
   },
   {
    "duration": 266,
    "start_time": "2022-02-15T17:17:22.945Z"
   },
   {
    "duration": 262,
    "start_time": "2022-02-15T17:18:19.701Z"
   },
   {
    "duration": 272,
    "start_time": "2022-02-15T17:19:38.335Z"
   },
   {
    "duration": 271,
    "start_time": "2022-02-15T17:23:57.823Z"
   },
   {
    "duration": 266,
    "start_time": "2022-02-15T17:24:31.162Z"
   },
   {
    "duration": 294,
    "start_time": "2022-02-15T17:27:33.828Z"
   },
   {
    "duration": 805,
    "start_time": "2022-02-15T19:05:25.625Z"
   },
   {
    "duration": 614,
    "start_time": "2022-02-15T19:05:33.858Z"
   },
   {
    "duration": 71,
    "start_time": "2022-02-15T19:05:38.982Z"
   },
   {
    "duration": 30,
    "start_time": "2022-02-15T19:05:40.881Z"
   },
   {
    "duration": 1139,
    "start_time": "2022-02-15T19:05:44.635Z"
   },
   {
    "duration": 499,
    "start_time": "2022-02-15T19:05:45.277Z"
   },
   {
    "duration": 201,
    "start_time": "2022-02-15T19:05:48.479Z"
   },
   {
    "duration": 116,
    "start_time": "2022-02-15T19:05:51.554Z"
   },
   {
    "duration": 284,
    "start_time": "2022-02-15T19:05:54.556Z"
   },
   {
    "duration": 598,
    "start_time": "2022-02-15T19:05:58.836Z"
   },
   {
    "duration": 634,
    "start_time": "2022-02-15T19:06:18.931Z"
   },
   {
    "duration": 282,
    "start_time": "2022-02-15T19:06:26.024Z"
   },
   {
    "duration": 609,
    "start_time": "2022-02-15T19:06:29.110Z"
   },
   {
    "duration": 632,
    "start_time": "2022-02-15T19:07:35.560Z"
   },
   {
    "duration": 743,
    "start_time": "2022-02-15T19:07:53.662Z"
   },
   {
    "duration": 643,
    "start_time": "2022-02-15T19:08:28.262Z"
   },
   {
    "duration": 1446,
    "start_time": "2022-02-15T19:09:06.333Z"
   },
   {
    "duration": 30,
    "start_time": "2022-02-15T19:09:07.780Z"
   },
   {
    "duration": 998,
    "start_time": "2022-02-15T19:09:07.811Z"
   },
   {
    "duration": 446,
    "start_time": "2022-02-15T19:09:08.812Z"
   },
   {
    "duration": 163,
    "start_time": "2022-02-15T19:09:09.260Z"
   },
   {
    "duration": 132,
    "start_time": "2022-02-15T19:09:09.425Z"
   },
   {
    "duration": 288,
    "start_time": "2022-02-15T19:09:09.558Z"
   },
   {
    "duration": 801,
    "start_time": "2022-02-15T19:09:09.848Z"
   },
   {
    "duration": 492,
    "start_time": "2022-02-15T19:09:10.159Z"
   },
   {
    "duration": 490,
    "start_time": "2022-02-15T19:09:10.162Z"
   },
   {
    "duration": 489,
    "start_time": "2022-02-15T19:09:10.164Z"
   },
   {
    "duration": 488,
    "start_time": "2022-02-15T19:09:10.166Z"
   },
   {
    "duration": 486,
    "start_time": "2022-02-15T19:09:10.168Z"
   },
   {
    "duration": 483,
    "start_time": "2022-02-15T19:09:10.172Z"
   },
   {
    "duration": 481,
    "start_time": "2022-02-15T19:09:10.175Z"
   },
   {
    "duration": 480,
    "start_time": "2022-02-15T19:09:10.177Z"
   },
   {
    "duration": 478,
    "start_time": "2022-02-15T19:09:10.180Z"
   },
   {
    "duration": 475,
    "start_time": "2022-02-15T19:09:10.183Z"
   },
   {
    "duration": 53,
    "start_time": "2022-02-15T19:09:17.087Z"
   },
   {
    "duration": 29,
    "start_time": "2022-02-15T19:09:19.487Z"
   },
   {
    "duration": 1032,
    "start_time": "2022-02-15T19:09:26.262Z"
   },
   {
    "duration": 453,
    "start_time": "2022-02-15T19:09:27.295Z"
   },
   {
    "duration": 155,
    "start_time": "2022-02-15T19:09:31.282Z"
   },
   {
    "duration": 118,
    "start_time": "2022-02-15T19:09:35.330Z"
   },
   {
    "duration": 303,
    "start_time": "2022-02-15T19:09:38.335Z"
   },
   {
    "duration": 655,
    "start_time": "2022-02-15T19:09:42.070Z"
   },
   {
    "duration": 655,
    "start_time": "2022-02-15T19:10:10.601Z"
   },
   {
    "duration": 491,
    "start_time": "2022-02-15T19:10:18.518Z"
   },
   {
    "duration": 655,
    "start_time": "2022-02-15T19:15:00.668Z"
   },
   {
    "duration": 413,
    "start_time": "2022-02-15T19:16:23.141Z"
   },
   {
    "duration": 394,
    "start_time": "2022-02-15T19:17:16.713Z"
   },
   {
    "duration": 766,
    "start_time": "2022-02-15T19:17:19.693Z"
   },
   {
    "duration": 141,
    "start_time": "2022-02-15T19:17:46.965Z"
   },
   {
    "duration": 826,
    "start_time": "2022-02-15T19:18:08.546Z"
   },
   {
    "duration": 355,
    "start_time": "2022-02-15T19:19:26.384Z"
   },
   {
    "duration": 503,
    "start_time": "2022-02-15T19:19:28.186Z"
   },
   {
    "duration": 507,
    "start_time": "2022-02-15T19:20:42.702Z"
   },
   {
    "duration": 2135,
    "start_time": "2022-02-15T19:26:01.346Z"
   },
   {
    "duration": 1203,
    "start_time": "2022-02-15T19:29:19.386Z"
   },
   {
    "duration": 1302,
    "start_time": "2022-02-15T19:30:15.138Z"
   },
   {
    "duration": 418,
    "start_time": "2022-02-15T19:44:10.338Z"
   },
   {
    "duration": 13,
    "start_time": "2022-02-15T19:46:34.593Z"
   },
   {
    "duration": 23,
    "start_time": "2022-02-15T19:46:36.772Z"
   },
   {
    "duration": 354,
    "start_time": "2022-02-15T19:50:20.112Z"
   },
   {
    "duration": 18,
    "start_time": "2022-02-15T19:50:29.542Z"
   },
   {
    "duration": 1205,
    "start_time": "2022-02-15T19:50:30.123Z"
   },
   {
    "duration": 19,
    "start_time": "2022-02-15T19:50:31.330Z"
   },
   {
    "duration": 19,
    "start_time": "2022-02-15T19:51:00.004Z"
   },
   {
    "duration": 17,
    "start_time": "2022-02-15T19:51:11.156Z"
   },
   {
    "duration": 11,
    "start_time": "2022-02-15T19:52:04.515Z"
   },
   {
    "duration": 344,
    "start_time": "2022-02-15T19:53:03.853Z"
   },
   {
    "duration": 335,
    "start_time": "2022-02-15T19:53:50.165Z"
   },
   {
    "duration": 343,
    "start_time": "2022-02-15T19:54:21.759Z"
   },
   {
    "duration": 13,
    "start_time": "2022-02-15T19:54:22.923Z"
   },
   {
    "duration": 337,
    "start_time": "2022-02-15T19:54:53.833Z"
   },
   {
    "duration": 13,
    "start_time": "2022-02-15T19:57:27.313Z"
   },
   {
    "duration": 123,
    "start_time": "2022-02-15T20:00:28.005Z"
   },
   {
    "duration": 110,
    "start_time": "2022-02-15T20:01:14.886Z"
   },
   {
    "duration": 138,
    "start_time": "2022-02-15T20:01:44.926Z"
   },
   {
    "duration": 13,
    "start_time": "2022-02-15T20:02:12.428Z"
   },
   {
    "duration": 1196,
    "start_time": "2022-02-15T20:03:32.324Z"
   },
   {
    "duration": 1600,
    "start_time": "2022-02-15T20:04:50.280Z"
   },
   {
    "duration": 952,
    "start_time": "2022-02-15T20:05:12.572Z"
   },
   {
    "duration": 14,
    "start_time": "2022-02-15T20:10:37.151Z"
   },
   {
    "duration": 4,
    "start_time": "2022-02-15T20:12:44.347Z"
   },
   {
    "duration": 8,
    "start_time": "2022-02-15T20:12:59.945Z"
   },
   {
    "duration": 25,
    "start_time": "2022-02-15T20:13:57.434Z"
   },
   {
    "duration": 1248,
    "start_time": "2022-02-15T20:14:30.685Z"
   },
   {
    "duration": 1096,
    "start_time": "2022-02-15T20:14:43.215Z"
   },
   {
    "duration": 19,
    "start_time": "2022-02-15T20:21:21.803Z"
   },
   {
    "duration": 13,
    "start_time": "2022-02-15T20:22:17.603Z"
   },
   {
    "duration": 16,
    "start_time": "2022-02-15T20:23:17.153Z"
   },
   {
    "duration": 21,
    "start_time": "2022-02-15T20:23:49.565Z"
   },
   {
    "duration": 373,
    "start_time": "2022-02-15T20:30:48.180Z"
   },
   {
    "duration": 368,
    "start_time": "2022-02-15T20:31:22.819Z"
   },
   {
    "duration": 389,
    "start_time": "2022-02-15T20:31:43.949Z"
   },
   {
    "duration": 28,
    "start_time": "2022-02-15T20:32:05.923Z"
   },
   {
    "duration": 22,
    "start_time": "2022-02-15T20:33:24.027Z"
   },
   {
    "duration": 19,
    "start_time": "2022-02-15T20:33:54.780Z"
   },
   {
    "duration": 23,
    "start_time": "2022-02-15T20:34:09.263Z"
   },
   {
    "duration": 360,
    "start_time": "2022-02-15T20:37:20.617Z"
   },
   {
    "duration": 22,
    "start_time": "2022-02-15T20:37:48.432Z"
   },
   {
    "duration": 567,
    "start_time": "2022-02-15T20:41:02.403Z"
   },
   {
    "duration": 563,
    "start_time": "2022-02-15T20:46:38.248Z"
   },
   {
    "duration": 561,
    "start_time": "2022-02-15T20:47:54.258Z"
   },
   {
    "duration": 57,
    "start_time": "2022-02-15T20:48:03.492Z"
   },
   {
    "duration": 30,
    "start_time": "2022-02-15T20:48:04.224Z"
   },
   {
    "duration": 1071,
    "start_time": "2022-02-15T20:48:04.934Z"
   },
   {
    "duration": 650,
    "start_time": "2022-02-15T20:48:05.358Z"
   },
   {
    "duration": 158,
    "start_time": "2022-02-15T20:48:06.633Z"
   },
   {
    "duration": 116,
    "start_time": "2022-02-15T20:48:07.822Z"
   },
   {
    "duration": 281,
    "start_time": "2022-02-15T20:48:08.833Z"
   },
   {
    "duration": 639,
    "start_time": "2022-02-15T20:48:10.087Z"
   },
   {
    "duration": 673,
    "start_time": "2022-02-15T20:48:10.054Z"
   },
   {
    "duration": 1347,
    "start_time": "2022-02-15T20:48:12.236Z"
   },
   {
    "duration": 318,
    "start_time": "2022-02-15T20:48:14.027Z"
   },
   {
    "duration": 12,
    "start_time": "2022-02-15T20:48:15.787Z"
   },
   {
    "duration": 888,
    "start_time": "2022-02-15T20:48:16.362Z"
   },
   {
    "duration": 12,
    "start_time": "2022-02-15T20:48:17.251Z"
   },
   {
    "duration": 29,
    "start_time": "2022-02-15T20:48:17.453Z"
   },
   {
    "duration": 18,
    "start_time": "2022-02-15T20:48:19.784Z"
   },
   {
    "duration": 14,
    "start_time": "2022-02-15T20:48:20.439Z"
   },
   {
    "duration": 27,
    "start_time": "2022-02-15T20:48:21.103Z"
   },
   {
    "duration": 543,
    "start_time": "2022-02-15T20:48:23.680Z"
   },
   {
    "duration": 343,
    "start_time": "2022-02-15T20:49:54.961Z"
   },
   {
    "duration": 352,
    "start_time": "2022-02-15T20:50:38.845Z"
   },
   {
    "duration": 329,
    "start_time": "2022-02-15T20:51:03.982Z"
   },
   {
    "duration": 346,
    "start_time": "2022-02-15T20:51:27.779Z"
   },
   {
    "duration": 349,
    "start_time": "2022-02-15T20:51:38.148Z"
   },
   {
    "duration": 17,
    "start_time": "2022-02-15T20:53:12.154Z"
   },
   {
    "duration": 13,
    "start_time": "2022-02-15T20:53:12.753Z"
   },
   {
    "duration": 25,
    "start_time": "2022-02-15T20:53:13.343Z"
   },
   {
    "duration": 551,
    "start_time": "2022-02-15T20:53:15.559Z"
   },
   {
    "duration": 342,
    "start_time": "2022-02-15T20:53:18.281Z"
   },
   {
    "duration": 178,
    "start_time": "2022-02-15T20:53:28.827Z"
   },
   {
    "duration": 235,
    "start_time": "2022-02-15T20:54:09.013Z"
   },
   {
    "duration": 559,
    "start_time": "2022-02-15T20:55:11.614Z"
   },
   {
    "duration": 61,
    "start_time": "2022-02-15T20:55:20.218Z"
   },
   {
    "duration": 29,
    "start_time": "2022-02-15T20:55:22.287Z"
   },
   {
    "duration": 1219,
    "start_time": "2022-02-15T20:55:24.166Z"
   },
   {
    "duration": 1491,
    "start_time": "2022-02-15T20:55:37.498Z"
   },
   {
    "duration": 30,
    "start_time": "2022-02-15T20:55:38.991Z"
   },
   {
    "duration": 1001,
    "start_time": "2022-02-15T20:55:39.023Z"
   },
   {
    "duration": 502,
    "start_time": "2022-02-15T20:55:40.026Z"
   },
   {
    "duration": 177,
    "start_time": "2022-02-15T20:55:40.530Z"
   },
   {
    "duration": 130,
    "start_time": "2022-02-15T20:55:40.709Z"
   },
   {
    "duration": 310,
    "start_time": "2022-02-15T20:55:40.841Z"
   },
   {
    "duration": 458,
    "start_time": "2022-02-15T20:55:41.154Z"
   },
   {
    "duration": 519,
    "start_time": "2022-02-15T20:55:41.614Z"
   },
   {
    "duration": 1432,
    "start_time": "2022-02-15T20:55:42.134Z"
   },
   {
    "duration": 356,
    "start_time": "2022-02-15T20:55:43.568Z"
   },
   {
    "duration": 22,
    "start_time": "2022-02-15T20:55:43.925Z"
   },
   {
    "duration": 1013,
    "start_time": "2022-02-15T20:55:43.949Z"
   },
   {
    "duration": 12,
    "start_time": "2022-02-15T20:55:44.964Z"
   },
   {
    "duration": 29,
    "start_time": "2022-02-15T20:55:44.977Z"
   },
   {
    "duration": 18,
    "start_time": "2022-02-15T20:55:45.007Z"
   },
   {
    "duration": 28,
    "start_time": "2022-02-15T20:55:45.027Z"
   },
   {
    "duration": 20,
    "start_time": "2022-02-15T20:55:45.057Z"
   },
   {
    "duration": 578,
    "start_time": "2022-02-15T20:55:45.079Z"
   },
   {
    "duration": 260,
    "start_time": "2022-02-15T20:55:45.658Z"
   },
   {
    "duration": 556,
    "start_time": "2022-02-15T21:05:19.777Z"
   },
   {
    "duration": 484,
    "start_time": "2022-02-15T21:05:35.277Z"
   },
   {
    "duration": 243,
    "start_time": "2022-02-15T21:07:23.634Z"
   },
   {
    "duration": 450,
    "start_time": "2022-02-15T21:09:10.740Z"
   },
   {
    "duration": 237,
    "start_time": "2022-02-15T21:09:22.838Z"
   },
   {
    "duration": 568,
    "start_time": "2022-02-15T21:27:27.817Z"
   },
   {
    "duration": 560,
    "start_time": "2022-02-15T21:27:37.826Z"
   },
   {
    "duration": 957,
    "start_time": "2022-02-15T21:28:19.939Z"
   },
   {
    "duration": 847,
    "start_time": "2022-02-15T21:34:43.365Z"
   },
   {
    "duration": 962,
    "start_time": "2022-02-15T21:35:32.016Z"
   },
   {
    "duration": 1057,
    "start_time": "2022-02-15T21:35:53.961Z"
   },
   {
    "duration": 8729,
    "start_time": "2022-02-15T21:54:05.538Z"
   },
   {
    "duration": 8628,
    "start_time": "2022-02-15T21:54:58.340Z"
   },
   {
    "duration": 1458,
    "start_time": "2022-02-15T21:56:49.696Z"
   },
   {
    "duration": 27,
    "start_time": "2022-02-15T21:56:51.156Z"
   },
   {
    "duration": 978,
    "start_time": "2022-02-15T21:56:51.186Z"
   },
   {
    "duration": 456,
    "start_time": "2022-02-15T21:56:52.166Z"
   },
   {
    "duration": 166,
    "start_time": "2022-02-15T21:56:52.623Z"
   },
   {
    "duration": 127,
    "start_time": "2022-02-15T21:56:52.791Z"
   },
   {
    "duration": 292,
    "start_time": "2022-02-15T21:56:52.920Z"
   },
   {
    "duration": 440,
    "start_time": "2022-02-15T21:56:53.214Z"
   },
   {
    "duration": 520,
    "start_time": "2022-02-15T21:56:53.656Z"
   },
   {
    "duration": 1216,
    "start_time": "2022-02-15T21:56:54.178Z"
   },
   {
    "duration": 330,
    "start_time": "2022-02-15T21:56:55.396Z"
   },
   {
    "duration": 20,
    "start_time": "2022-02-15T21:56:55.727Z"
   },
   {
    "duration": 1233,
    "start_time": "2022-02-15T21:56:55.748Z"
   },
   {
    "duration": 13,
    "start_time": "2022-02-15T21:56:56.982Z"
   },
   {
    "duration": 26,
    "start_time": "2022-02-15T21:56:56.997Z"
   },
   {
    "duration": 16,
    "start_time": "2022-02-15T21:56:57.024Z"
   },
   {
    "duration": 14,
    "start_time": "2022-02-15T21:56:57.041Z"
   },
   {
    "duration": 20,
    "start_time": "2022-02-15T21:56:57.056Z"
   },
   {
    "duration": 8941,
    "start_time": "2022-02-15T21:56:57.077Z"
   },
   {
    "duration": 807,
    "start_time": "2022-02-15T21:57:05.214Z"
   },
   {
    "duration": 1416,
    "start_time": "2022-02-15T21:58:27.244Z"
   },
   {
    "duration": 29,
    "start_time": "2022-02-15T21:58:28.662Z"
   },
   {
    "duration": 990,
    "start_time": "2022-02-15T21:58:28.696Z"
   },
   {
    "duration": 544,
    "start_time": "2022-02-15T21:58:29.688Z"
   },
   {
    "duration": 165,
    "start_time": "2022-02-15T21:58:30.234Z"
   },
   {
    "duration": 130,
    "start_time": "2022-02-15T21:58:30.400Z"
   },
   {
    "duration": 293,
    "start_time": "2022-02-15T21:58:30.532Z"
   },
   {
    "duration": 447,
    "start_time": "2022-02-15T21:58:30.827Z"
   },
   {
    "duration": 510,
    "start_time": "2022-02-15T21:58:31.276Z"
   },
   {
    "duration": 1315,
    "start_time": "2022-02-15T21:58:31.788Z"
   },
   {
    "duration": 330,
    "start_time": "2022-02-15T21:58:33.104Z"
   },
   {
    "duration": 16,
    "start_time": "2022-02-15T21:58:33.435Z"
   },
   {
    "duration": 1144,
    "start_time": "2022-02-15T21:58:33.453Z"
   },
   {
    "duration": 13,
    "start_time": "2022-02-15T21:58:34.598Z"
   },
   {
    "duration": 27,
    "start_time": "2022-02-15T21:58:34.612Z"
   },
   {
    "duration": 15,
    "start_time": "2022-02-15T21:58:34.641Z"
   },
   {
    "duration": 12,
    "start_time": "2022-02-15T21:58:34.657Z"
   },
   {
    "duration": 20,
    "start_time": "2022-02-15T21:58:34.670Z"
   },
   {
    "duration": 8588,
    "start_time": "2022-02-15T21:58:34.691Z"
   },
   {
    "duration": 785,
    "start_time": "2022-02-15T21:58:42.496Z"
   },
   {
    "duration": 7,
    "start_time": "2022-02-15T21:59:36.873Z"
   },
   {
    "duration": 8407,
    "start_time": "2022-02-15T21:59:54.862Z"
   },
   {
    "duration": 13,
    "start_time": "2022-02-15T22:00:56.738Z"
   },
   {
    "duration": 588,
    "start_time": "2022-02-15T22:02:14.076Z"
   },
   {
    "duration": 594,
    "start_time": "2022-02-16T02:04:18.990Z"
   },
   {
    "duration": 681,
    "start_time": "2022-02-16T02:04:32.902Z"
   },
   {
    "duration": 707,
    "start_time": "2022-02-16T02:05:12.356Z"
   },
   {
    "duration": 596,
    "start_time": "2022-02-16T02:06:12.843Z"
   },
   {
    "duration": 587,
    "start_time": "2022-02-16T02:07:40.434Z"
   },
   {
    "duration": 234,
    "start_time": "2022-02-16T02:08:28.721Z"
   },
   {
    "duration": 201,
    "start_time": "2022-02-16T02:09:00.248Z"
   },
   {
    "duration": 8647,
    "start_time": "2022-02-16T02:12:40.197Z"
   },
   {
    "duration": 1405,
    "start_time": "2022-02-16T02:13:25.373Z"
   },
   {
    "duration": 27,
    "start_time": "2022-02-16T02:13:26.780Z"
   },
   {
    "duration": 979,
    "start_time": "2022-02-16T02:13:26.809Z"
   },
   {
    "duration": 442,
    "start_time": "2022-02-16T02:13:27.790Z"
   },
   {
    "duration": 212,
    "start_time": "2022-02-16T02:13:28.234Z"
   },
   {
    "duration": 133,
    "start_time": "2022-02-16T02:13:28.447Z"
   },
   {
    "duration": 300,
    "start_time": "2022-02-16T02:13:28.582Z"
   },
   {
    "duration": 455,
    "start_time": "2022-02-16T02:13:28.885Z"
   },
   {
    "duration": 503,
    "start_time": "2022-02-16T02:13:29.346Z"
   },
   {
    "duration": 1227,
    "start_time": "2022-02-16T02:13:29.851Z"
   },
   {
    "duration": 339,
    "start_time": "2022-02-16T02:13:31.080Z"
   },
   {
    "duration": 11,
    "start_time": "2022-02-16T02:13:31.421Z"
   },
   {
    "duration": 977,
    "start_time": "2022-02-16T02:13:31.434Z"
   },
   {
    "duration": 12,
    "start_time": "2022-02-16T02:13:32.412Z"
   },
   {
    "duration": 29,
    "start_time": "2022-02-16T02:13:32.426Z"
   },
   {
    "duration": 16,
    "start_time": "2022-02-16T02:13:32.456Z"
   },
   {
    "duration": 12,
    "start_time": "2022-02-16T02:13:32.474Z"
   },
   {
    "duration": 20,
    "start_time": "2022-02-16T02:13:32.487Z"
   },
   {
    "duration": 8938,
    "start_time": "2022-02-16T02:13:32.509Z"
   },
   {
    "duration": 1205,
    "start_time": "2022-02-16T02:13:40.244Z"
   },
   {
    "duration": 9057,
    "start_time": "2022-02-16T02:16:53.540Z"
   },
   {
    "duration": 8730,
    "start_time": "2022-02-16T02:17:38.782Z"
   },
   {
    "duration": 54,
    "start_time": "2022-02-16T02:18:27.329Z"
   },
   {
    "duration": 28,
    "start_time": "2022-02-16T02:18:27.384Z"
   },
   {
    "duration": 1274,
    "start_time": "2022-02-16T02:18:27.413Z"
   },
   {
    "duration": 1182,
    "start_time": "2022-02-16T02:18:27.507Z"
   },
   {
    "duration": 1180,
    "start_time": "2022-02-16T02:18:27.510Z"
   },
   {
    "duration": 1178,
    "start_time": "2022-02-16T02:18:27.513Z"
   },
   {
    "duration": 1177,
    "start_time": "2022-02-16T02:18:27.515Z"
   },
   {
    "duration": 1175,
    "start_time": "2022-02-16T02:18:27.518Z"
   },
   {
    "duration": 1174,
    "start_time": "2022-02-16T02:18:27.520Z"
   },
   {
    "duration": 1173,
    "start_time": "2022-02-16T02:18:27.522Z"
   },
   {
    "duration": 1172,
    "start_time": "2022-02-16T02:18:27.524Z"
   },
   {
    "duration": 1169,
    "start_time": "2022-02-16T02:18:27.527Z"
   },
   {
    "duration": 1168,
    "start_time": "2022-02-16T02:18:27.529Z"
   },
   {
    "duration": 1165,
    "start_time": "2022-02-16T02:18:27.533Z"
   },
   {
    "duration": 1164,
    "start_time": "2022-02-16T02:18:27.535Z"
   },
   {
    "duration": 1163,
    "start_time": "2022-02-16T02:18:27.537Z"
   },
   {
    "duration": 1162,
    "start_time": "2022-02-16T02:18:27.539Z"
   },
   {
    "duration": 1159,
    "start_time": "2022-02-16T02:18:27.542Z"
   },
   {
    "duration": 8918,
    "start_time": "2022-02-16T02:18:36.323Z"
   },
   {
    "duration": 8281,
    "start_time": "2022-02-16T02:19:26.355Z"
   },
   {
    "duration": 602,
    "start_time": "2022-02-16T02:19:55.546Z"
   },
   {
    "duration": 8399,
    "start_time": "2022-02-16T02:20:48.922Z"
   },
   {
    "duration": 615,
    "start_time": "2022-02-16T02:21:11.045Z"
   },
   {
    "duration": 220,
    "start_time": "2022-02-16T02:21:14.913Z"
   },
   {
    "duration": 479,
    "start_time": "2022-02-16T02:21:52.970Z"
   },
   {
    "duration": 384,
    "start_time": "2022-02-16T02:22:46.536Z"
   },
   {
    "duration": 378,
    "start_time": "2022-02-16T02:25:16.264Z"
   },
   {
    "duration": 8605,
    "start_time": "2022-02-16T02:34:45.884Z"
   },
   {
    "duration": 8542,
    "start_time": "2022-02-16T02:36:57.294Z"
   },
   {
    "duration": 8835,
    "start_time": "2022-02-16T02:39:05.517Z"
   },
   {
    "duration": 8311,
    "start_time": "2022-02-16T02:39:54.785Z"
   },
   {
    "duration": 25369,
    "start_time": "2022-02-16T02:40:15.251Z"
   },
   {
    "duration": 8688,
    "start_time": "2022-02-16T02:41:10.301Z"
   },
   {
    "duration": 8592,
    "start_time": "2022-02-16T02:41:23.447Z"
   },
   {
    "duration": 1436,
    "start_time": "2022-02-16T02:42:09.517Z"
   },
   {
    "duration": 28,
    "start_time": "2022-02-16T02:42:10.955Z"
   },
   {
    "duration": 987,
    "start_time": "2022-02-16T02:42:10.987Z"
   },
   {
    "duration": 441,
    "start_time": "2022-02-16T02:42:11.976Z"
   },
   {
    "duration": 212,
    "start_time": "2022-02-16T02:42:12.418Z"
   },
   {
    "duration": 127,
    "start_time": "2022-02-16T02:42:12.631Z"
   },
   {
    "duration": 298,
    "start_time": "2022-02-16T02:42:12.760Z"
   },
   {
    "duration": 497,
    "start_time": "2022-02-16T02:42:13.060Z"
   },
   {
    "duration": 545,
    "start_time": "2022-02-16T02:42:13.559Z"
   },
   {
    "duration": 1198,
    "start_time": "2022-02-16T02:42:14.105Z"
   },
   {
    "duration": 332,
    "start_time": "2022-02-16T02:42:15.305Z"
   },
   {
    "duration": 14,
    "start_time": "2022-02-16T02:42:15.639Z"
   },
   {
    "duration": 1044,
    "start_time": "2022-02-16T02:42:15.655Z"
   },
   {
    "duration": 14,
    "start_time": "2022-02-16T02:42:16.700Z"
   },
   {
    "duration": 26,
    "start_time": "2022-02-16T02:42:16.715Z"
   },
   {
    "duration": 16,
    "start_time": "2022-02-16T02:42:16.742Z"
   },
   {
    "duration": 12,
    "start_time": "2022-02-16T02:42:16.759Z"
   },
   {
    "duration": 22,
    "start_time": "2022-02-16T02:42:16.772Z"
   },
   {
    "duration": 827,
    "start_time": "2022-02-16T02:42:16.795Z"
   },
   {
    "duration": 13,
    "start_time": "2022-02-16T02:42:17.623Z"
   },
   {
    "duration": 14,
    "start_time": "2022-02-16T02:42:29.512Z"
   },
   {
    "duration": 440,
    "start_time": "2022-02-16T02:42:35.512Z"
   },
   {
    "duration": 636,
    "start_time": "2022-02-16T02:42:49.853Z"
   },
   {
    "duration": 538,
    "start_time": "2022-02-16T02:43:33.957Z"
   },
   {
    "duration": 450,
    "start_time": "2022-02-16T02:54:29.130Z"
   },
   {
    "duration": 532,
    "start_time": "2022-02-16T02:54:55.962Z"
   },
   {
    "duration": 440,
    "start_time": "2022-02-16T02:57:16.255Z"
   },
   {
    "duration": 350,
    "start_time": "2022-02-16T02:57:35.057Z"
   },
   {
    "duration": 544,
    "start_time": "2022-02-16T02:58:02.847Z"
   },
   {
    "duration": 635,
    "start_time": "2022-02-16T02:58:14.099Z"
   },
   {
    "duration": 370,
    "start_time": "2022-02-16T02:58:44.977Z"
   },
   {
    "duration": 636,
    "start_time": "2022-02-16T02:58:54.494Z"
   },
   {
    "duration": 533,
    "start_time": "2022-02-16T02:59:25.503Z"
   },
   {
    "duration": 532,
    "start_time": "2022-02-16T02:59:41.058Z"
   },
   {
    "duration": 534,
    "start_time": "2022-02-16T02:59:49.469Z"
   },
   {
    "duration": 141,
    "start_time": "2022-02-16T03:09:41.802Z"
   },
   {
    "duration": 643,
    "start_time": "2022-02-16T03:09:47.719Z"
   },
   {
    "duration": 535,
    "start_time": "2022-02-16T03:10:21.805Z"
   },
   {
    "duration": 1231,
    "start_time": "2022-02-16T03:15:19.539Z"
   },
   {
    "duration": 1206,
    "start_time": "2022-02-16T03:15:29.699Z"
   },
   {
    "duration": 517,
    "start_time": "2022-02-16T03:16:31.890Z"
   },
   {
    "duration": 1199,
    "start_time": "2022-02-16T03:16:45.105Z"
   },
   {
    "duration": 122,
    "start_time": "2022-02-16T04:14:42.672Z"
   },
   {
    "duration": 273,
    "start_time": "2022-02-16T04:25:27.769Z"
   },
   {
    "duration": 287,
    "start_time": "2022-02-16T04:26:18.449Z"
   },
   {
    "duration": 685,
    "start_time": "2022-02-16T04:28:00.015Z"
   },
   {
    "duration": 389,
    "start_time": "2022-02-16T04:28:46.024Z"
   },
   {
    "duration": 190,
    "start_time": "2022-02-16T04:31:03.119Z"
   },
   {
    "duration": 501,
    "start_time": "2022-02-16T04:41:05.005Z"
   },
   {
    "duration": 373,
    "start_time": "2022-02-16T04:41:22.373Z"
   },
   {
    "duration": 64,
    "start_time": "2022-02-16T04:41:29.229Z"
   },
   {
    "duration": 32,
    "start_time": "2022-02-16T04:41:30.492Z"
   },
   {
    "duration": 1268,
    "start_time": "2022-02-16T04:41:32.237Z"
   },
   {
    "duration": 1420,
    "start_time": "2022-02-16T04:41:32.086Z"
   },
   {
    "duration": 280,
    "start_time": "2022-02-16T04:41:37.196Z"
   },
   {
    "duration": 188,
    "start_time": "2022-02-16T04:41:39.661Z"
   },
   {
    "duration": 279,
    "start_time": "2022-02-16T04:41:45.669Z"
   },
   {
    "duration": 343,
    "start_time": "2022-02-16T04:41:49.222Z"
   },
   {
    "duration": 353,
    "start_time": "2022-02-16T04:42:00.661Z"
   },
   {
    "duration": 421,
    "start_time": "2022-02-16T04:42:33.051Z"
   },
   {
    "duration": 1422,
    "start_time": "2022-02-16T04:43:09.390Z"
   },
   {
    "duration": 29,
    "start_time": "2022-02-16T04:43:10.814Z"
   },
   {
    "duration": 965,
    "start_time": "2022-02-16T04:43:10.845Z"
   },
   {
    "duration": 440,
    "start_time": "2022-02-16T04:43:11.812Z"
   },
   {
    "duration": 291,
    "start_time": "2022-02-16T04:43:12.254Z"
   },
   {
    "duration": 192,
    "start_time": "2022-02-16T04:43:12.547Z"
   },
   {
    "duration": 298,
    "start_time": "2022-02-16T04:43:12.741Z"
   },
   {
    "duration": 250,
    "start_time": "2022-02-16T04:43:13.042Z"
   },
   {
    "duration": 580,
    "start_time": "2022-02-16T04:43:13.294Z"
   },
   {
    "duration": 1313,
    "start_time": "2022-02-16T04:43:13.875Z"
   },
   {
    "duration": 328,
    "start_time": "2022-02-16T04:43:15.189Z"
   },
   {
    "duration": 10,
    "start_time": "2022-02-16T04:43:15.518Z"
   },
   {
    "duration": 1206,
    "start_time": "2022-02-16T04:43:15.530Z"
   },
   {
    "duration": 11,
    "start_time": "2022-02-16T04:43:16.738Z"
   },
   {
    "duration": 28,
    "start_time": "2022-02-16T04:43:16.750Z"
   },
   {
    "duration": 15,
    "start_time": "2022-02-16T04:43:16.780Z"
   },
   {
    "duration": 13,
    "start_time": "2022-02-16T04:43:16.797Z"
   },
   {
    "duration": 51,
    "start_time": "2022-02-16T04:43:16.811Z"
   },
   {
    "duration": 610,
    "start_time": "2022-02-16T04:43:16.863Z"
   },
   {
    "duration": 542,
    "start_time": "2022-02-16T04:43:17.475Z"
   },
   {
    "duration": 810,
    "start_time": "2022-02-16T04:46:11.659Z"
   },
   {
    "duration": 1593,
    "start_time": "2022-02-16T04:46:19.842Z"
   },
   {
    "duration": 32,
    "start_time": "2022-02-16T04:46:21.437Z"
   },
   {
    "duration": 1144,
    "start_time": "2022-02-16T04:46:21.471Z"
   },
   {
    "duration": 439,
    "start_time": "2022-02-16T04:46:22.617Z"
   },
   {
    "duration": 292,
    "start_time": "2022-02-16T04:46:23.057Z"
   },
   {
    "duration": 197,
    "start_time": "2022-02-16T04:46:23.351Z"
   },
   {
    "duration": 286,
    "start_time": "2022-02-16T04:46:23.550Z"
   },
   {
    "duration": 438,
    "start_time": "2022-02-16T04:46:23.839Z"
   },
   {
    "duration": 503,
    "start_time": "2022-02-16T04:46:24.279Z"
   },
   {
    "duration": 1209,
    "start_time": "2022-02-16T04:46:24.784Z"
   },
   {
    "duration": 328,
    "start_time": "2022-02-16T04:46:25.994Z"
   },
   {
    "duration": 10,
    "start_time": "2022-02-16T04:46:26.324Z"
   },
   {
    "duration": 951,
    "start_time": "2022-02-16T04:46:26.335Z"
   },
   {
    "duration": 11,
    "start_time": "2022-02-16T04:46:27.288Z"
   },
   {
    "duration": 28,
    "start_time": "2022-02-16T04:46:27.300Z"
   },
   {
    "duration": 15,
    "start_time": "2022-02-16T04:46:27.330Z"
   },
   {
    "duration": 12,
    "start_time": "2022-02-16T04:46:27.346Z"
   },
   {
    "duration": 20,
    "start_time": "2022-02-16T04:46:27.359Z"
   },
   {
    "duration": 622,
    "start_time": "2022-02-16T04:46:27.380Z"
   },
   {
    "duration": 549,
    "start_time": "2022-02-16T04:46:28.004Z"
   },
   {
    "duration": 17,
    "start_time": "2022-02-16T08:19:20.806Z"
   },
   {
    "duration": 1092,
    "start_time": "2022-02-16T08:19:28.506Z"
   },
   {
    "duration": 798,
    "start_time": "2022-02-16T08:19:47.217Z"
   },
   {
    "duration": 26821,
    "start_time": "2022-02-16T16:30:30.307Z"
   },
   {
    "duration": 47,
    "start_time": "2022-02-16T16:30:57.131Z"
   },
   {
    "duration": 3687,
    "start_time": "2022-02-16T16:30:57.181Z"
   },
   {
    "duration": 1713,
    "start_time": "2022-02-16T16:31:00.925Z"
   },
   {
    "duration": 1106,
    "start_time": "2022-02-16T16:31:02.641Z"
   },
   {
    "duration": 776,
    "start_time": "2022-02-16T16:31:03.750Z"
   },
   {
    "duration": 1099,
    "start_time": "2022-02-16T16:31:04.528Z"
   },
   {
    "duration": 1725,
    "start_time": "2022-02-16T16:31:05.632Z"
   },
   {
    "duration": 1982,
    "start_time": "2022-02-16T16:31:07.360Z"
   },
   {
    "duration": 5579,
    "start_time": "2022-02-16T16:31:09.344Z"
   },
   {
    "duration": 988,
    "start_time": "2022-02-16T16:31:14.926Z"
   },
   {
    "duration": 17,
    "start_time": "2022-02-16T16:31:15.924Z"
   },
   {
    "duration": 1675,
    "start_time": "2022-02-16T16:31:15.944Z"
   },
   {
    "duration": 21,
    "start_time": "2022-02-16T16:31:17.622Z"
   },
   {
    "duration": 49,
    "start_time": "2022-02-16T16:31:17.646Z"
   },
   {
    "duration": 50,
    "start_time": "2022-02-16T16:31:17.698Z"
   },
   {
    "duration": 22,
    "start_time": "2022-02-16T16:31:17.750Z"
   },
   {
    "duration": 75,
    "start_time": "2022-02-16T16:31:17.774Z"
   },
   {
    "duration": 1158,
    "start_time": "2022-02-16T16:31:17.851Z"
   },
   {
    "duration": 1012,
    "start_time": "2022-02-16T16:31:19.011Z"
   },
   {
    "duration": 124,
    "start_time": "2022-02-16T21:45:00.100Z"
   },
   {
    "duration": 465,
    "start_time": "2022-02-16T21:45:15.653Z"
   },
   {
    "duration": 2177,
    "start_time": "2022-02-16T21:45:34.091Z"
   },
   {
    "duration": 59,
    "start_time": "2022-02-16T21:45:36.271Z"
   },
   {
    "duration": 2258,
    "start_time": "2022-02-16T21:45:36.333Z"
   },
   {
    "duration": 1053,
    "start_time": "2022-02-16T21:45:38.595Z"
   },
   {
    "duration": 663,
    "start_time": "2022-02-16T21:45:39.651Z"
   },
   {
    "duration": 422,
    "start_time": "2022-02-16T21:45:40.317Z"
   },
   {
    "duration": 713,
    "start_time": "2022-02-16T21:45:40.743Z"
   },
   {
    "duration": 1033,
    "start_time": "2022-02-16T21:45:41.459Z"
   },
   {
    "duration": 1165,
    "start_time": "2022-02-16T21:45:42.496Z"
   },
   {
    "duration": 2985,
    "start_time": "2022-02-16T21:45:43.664Z"
   },
   {
    "duration": 32,
    "start_time": "2022-02-16T21:45:46.651Z"
   },
   {
    "duration": 781,
    "start_time": "2022-02-16T21:45:46.686Z"
   },
   {
    "duration": 149,
    "start_time": "2022-02-16T21:45:47.470Z"
   },
   {
    "duration": 282,
    "start_time": "2022-02-16T21:45:47.339Z"
   },
   {
    "duration": 278,
    "start_time": "2022-02-16T21:45:47.345Z"
   },
   {
    "duration": 276,
    "start_time": "2022-02-16T21:45:47.349Z"
   },
   {
    "duration": 273,
    "start_time": "2022-02-16T21:45:47.353Z"
   },
   {
    "duration": 272,
    "start_time": "2022-02-16T21:45:47.356Z"
   },
   {
    "duration": 270,
    "start_time": "2022-02-16T21:45:47.359Z"
   },
   {
    "duration": 267,
    "start_time": "2022-02-16T21:45:47.363Z"
   },
   {
    "duration": 265,
    "start_time": "2022-02-16T21:45:47.367Z"
   },
   {
    "duration": 260,
    "start_time": "2022-02-16T21:45:47.373Z"
   },
   {
    "duration": 3770,
    "start_time": "2022-02-16T21:48:21.310Z"
   },
   {
    "duration": 2192,
    "start_time": "2022-02-16T21:48:33.087Z"
   },
   {
    "duration": 149,
    "start_time": "2022-02-16T21:53:03.133Z"
   },
   {
    "duration": 33,
    "start_time": "2022-02-16T21:53:08.956Z"
   },
   {
    "duration": 3840,
    "start_time": "2022-02-16T21:54:36.918Z"
   },
   {
    "duration": 45,
    "start_time": "2022-02-16T21:55:16.035Z"
   },
   {
    "duration": 64,
    "start_time": "2022-02-16T21:55:44.093Z"
   },
   {
    "duration": 61,
    "start_time": "2022-02-16T21:56:40.517Z"
   },
   {
    "duration": 174,
    "start_time": "2022-02-16T21:57:11.236Z"
   },
   {
    "duration": 147,
    "start_time": "2022-02-16T22:00:34.920Z"
   },
   {
    "duration": 87,
    "start_time": "2022-02-16T22:00:52.535Z"
   },
   {
    "duration": 87,
    "start_time": "2022-02-16T22:01:53.965Z"
   },
   {
    "duration": 100,
    "start_time": "2022-02-16T22:02:18.086Z"
   },
   {
    "duration": 139,
    "start_time": "2022-02-16T22:05:21.542Z"
   },
   {
    "duration": 138,
    "start_time": "2022-02-16T22:06:25.329Z"
   },
   {
    "duration": 133,
    "start_time": "2022-02-16T22:07:15.812Z"
   },
   {
    "duration": 160,
    "start_time": "2022-02-16T22:07:24.004Z"
   },
   {
    "duration": 139,
    "start_time": "2022-02-16T22:08:03.327Z"
   },
   {
    "duration": 634,
    "start_time": "2022-02-16T22:12:55.989Z"
   },
   {
    "duration": 636,
    "start_time": "2022-02-16T22:13:09.621Z"
   },
   {
    "duration": 647,
    "start_time": "2022-02-16T22:13:56.098Z"
   },
   {
    "duration": 192,
    "start_time": "2022-02-16T22:21:26.629Z"
   },
   {
    "duration": 173,
    "start_time": "2022-02-16T22:21:36.918Z"
   },
   {
    "duration": 121,
    "start_time": "2022-02-16T22:25:43.585Z"
   },
   {
    "duration": 136,
    "start_time": "2022-02-16T22:25:55.481Z"
   },
   {
    "duration": 79,
    "start_time": "2022-02-16T22:58:51.094Z"
   },
   {
    "duration": 119,
    "start_time": "2022-04-27T15:31:50.197Z"
   },
   {
    "duration": 1214,
    "start_time": "2022-04-27T15:33:58.489Z"
   },
   {
    "duration": 54,
    "start_time": "2022-05-12T16:00:29.718Z"
   },
   {
    "duration": 7,
    "start_time": "2022-05-12T16:00:35.458Z"
   },
   {
    "duration": 7,
    "start_time": "2022-05-12T16:00:39.277Z"
   },
   {
    "duration": 7,
    "start_time": "2022-05-12T16:02:45.886Z"
   },
   {
    "duration": 1561,
    "start_time": "2022-05-12T16:02:48.430Z"
   },
   {
    "duration": 39,
    "start_time": "2022-05-12T16:02:49.993Z"
   },
   {
    "duration": 908,
    "start_time": "2022-05-12T16:02:50.033Z"
   },
   {
    "duration": 293,
    "start_time": "2022-05-12T16:02:50.943Z"
   },
   {
    "duration": 240,
    "start_time": "2022-05-12T16:02:51.239Z"
   },
   {
    "duration": 219,
    "start_time": "2022-05-12T16:02:51.481Z"
   },
   {
    "duration": 282,
    "start_time": "2022-05-12T16:02:51.701Z"
   },
   {
    "duration": 449,
    "start_time": "2022-05-12T16:02:51.984Z"
   },
   {
    "duration": 483,
    "start_time": "2022-05-12T16:02:52.435Z"
   },
   {
    "duration": 1113,
    "start_time": "2022-05-12T16:02:52.920Z"
   },
   {
    "duration": 56,
    "start_time": "2022-05-12T16:02:54.035Z"
   },
   {
    "duration": 245,
    "start_time": "2022-05-12T16:02:54.092Z"
   },
   {
    "duration": 13,
    "start_time": "2022-05-12T16:02:54.339Z"
   },
   {
    "duration": 1091,
    "start_time": "2022-05-12T16:02:54.355Z"
   },
   {
    "duration": 16,
    "start_time": "2022-05-12T16:02:55.448Z"
   },
   {
    "duration": 35,
    "start_time": "2022-05-12T16:02:55.467Z"
   },
   {
    "duration": 94,
    "start_time": "2022-05-12T16:02:55.503Z"
   },
   {
    "duration": 0,
    "start_time": "2022-05-12T16:02:55.599Z"
   },
   {
    "duration": 0,
    "start_time": "2022-05-12T16:02:55.600Z"
   },
   {
    "duration": 0,
    "start_time": "2022-05-12T16:02:55.601Z"
   },
   {
    "duration": 0,
    "start_time": "2022-05-12T16:02:55.603Z"
   },
   {
    "duration": 44,
    "start_time": "2022-09-18T13:44:14.643Z"
   },
   {
    "duration": 11,
    "start_time": "2022-09-18T13:44:19.644Z"
   },
   {
    "duration": 1579,
    "start_time": "2022-09-18T13:44:24.587Z"
   },
   {
    "duration": 30,
    "start_time": "2022-09-18T13:44:26.168Z"
   },
   {
    "duration": 738,
    "start_time": "2022-09-18T13:44:26.199Z"
   },
   {
    "duration": 231,
    "start_time": "2022-09-18T13:44:26.938Z"
   },
   {
    "duration": 187,
    "start_time": "2022-09-18T13:44:27.171Z"
   },
   {
    "duration": 188,
    "start_time": "2022-09-18T13:44:27.360Z"
   },
   {
    "duration": 222,
    "start_time": "2022-09-18T13:44:27.550Z"
   },
   {
    "duration": 361,
    "start_time": "2022-09-18T13:44:27.774Z"
   },
   {
    "duration": 379,
    "start_time": "2022-09-18T13:44:28.136Z"
   },
   {
    "duration": 968,
    "start_time": "2022-09-18T13:44:28.517Z"
   },
   {
    "duration": 60,
    "start_time": "2022-09-18T13:44:29.487Z"
   },
   {
    "duration": 69,
    "start_time": "2022-09-18T13:44:29.549Z"
   },
   {
    "duration": 886,
    "start_time": "2022-09-18T13:44:29.620Z"
   },
   {
    "duration": 0,
    "start_time": "2022-09-18T13:44:30.508Z"
   },
   {
    "duration": 0,
    "start_time": "2022-09-18T13:44:30.509Z"
   },
   {
    "duration": 0,
    "start_time": "2022-09-18T13:44:30.510Z"
   },
   {
    "duration": 0,
    "start_time": "2022-09-18T13:44:30.511Z"
   },
   {
    "duration": 0,
    "start_time": "2022-09-18T13:44:30.512Z"
   },
   {
    "duration": 0,
    "start_time": "2022-09-18T13:44:30.513Z"
   },
   {
    "duration": 0,
    "start_time": "2022-09-18T13:44:30.514Z"
   },
   {
    "duration": 0,
    "start_time": "2022-09-18T13:44:30.515Z"
   },
   {
    "duration": 44,
    "start_time": "2022-09-18T13:45:36.351Z"
   },
   {
    "duration": 648,
    "start_time": "2022-09-18T14:24:47.159Z"
   },
   {
    "duration": 285,
    "start_time": "2022-09-18T14:25:01.649Z"
   },
   {
    "duration": 12,
    "start_time": "2022-09-18T14:25:04.948Z"
   },
   {
    "duration": 1184,
    "start_time": "2022-09-18T14:25:07.672Z"
   },
   {
    "duration": 13,
    "start_time": "2022-09-18T14:25:08.977Z"
   },
   {
    "duration": 30,
    "start_time": "2022-09-18T14:25:20.445Z"
   },
   {
    "duration": 11,
    "start_time": "2022-09-18T14:25:29.311Z"
   },
   {
    "duration": 9,
    "start_time": "2022-09-18T14:25:29.911Z"
   },
   {
    "duration": 11,
    "start_time": "2022-09-18T14:25:37.312Z"
   },
   {
    "duration": 9,
    "start_time": "2022-09-18T14:25:38.097Z"
   },
   {
    "duration": 10,
    "start_time": "2022-09-18T14:26:30.703Z"
   },
   {
    "duration": 8,
    "start_time": "2022-09-18T14:26:31.643Z"
   },
   {
    "duration": 9,
    "start_time": "2022-09-18T14:26:32.295Z"
   },
   {
    "duration": 11,
    "start_time": "2022-09-18T14:26:54.193Z"
   },
   {
    "duration": 11,
    "start_time": "2022-09-18T14:30:57.696Z"
   },
   {
    "duration": 976,
    "start_time": "2022-09-18T14:30:58.259Z"
   },
   {
    "duration": 11,
    "start_time": "2022-09-18T14:30:59.237Z"
   },
   {
    "duration": 26,
    "start_time": "2022-09-18T14:30:59.565Z"
   },
   {
    "duration": 11,
    "start_time": "2022-09-18T14:31:02.793Z"
   },
   {
    "duration": 10,
    "start_time": "2022-09-18T14:43:38.558Z"
   },
   {
    "duration": 9,
    "start_time": "2022-09-18T14:43:39.614Z"
   },
   {
    "duration": 10,
    "start_time": "2022-09-18T14:44:30.975Z"
   },
   {
    "duration": 28,
    "start_time": "2022-09-18T14:46:46.282Z"
   },
   {
    "duration": 14,
    "start_time": "2022-09-18T14:46:48.912Z"
   },
   {
    "duration": 9,
    "start_time": "2022-09-18T14:46:49.647Z"
   },
   {
    "duration": 24,
    "start_time": "2022-09-18T14:47:57.310Z"
   },
   {
    "duration": 11,
    "start_time": "2022-09-18T14:48:06.864Z"
   },
   {
    "duration": 9,
    "start_time": "2022-09-18T14:48:07.897Z"
   },
   {
    "duration": 28,
    "start_time": "2022-09-18T14:48:20.498Z"
   },
   {
    "duration": 10,
    "start_time": "2022-09-18T14:48:36.960Z"
   },
   {
    "duration": 12,
    "start_time": "2022-09-18T14:48:39.305Z"
   },
   {
    "duration": 10,
    "start_time": "2022-09-18T14:48:49.012Z"
   },
   {
    "duration": 189,
    "start_time": "2022-09-18T14:49:39.816Z"
   },
   {
    "duration": 12,
    "start_time": "2022-09-18T14:49:42.484Z"
   },
   {
    "duration": 943,
    "start_time": "2022-09-18T14:49:43.152Z"
   },
   {
    "duration": 12,
    "start_time": "2022-09-18T14:49:44.096Z"
   },
   {
    "duration": 28,
    "start_time": "2022-09-18T14:49:44.110Z"
   },
   {
    "duration": 11,
    "start_time": "2022-09-18T14:49:46.288Z"
   },
   {
    "duration": 9,
    "start_time": "2022-09-18T14:49:47.602Z"
   },
   {
    "duration": 11,
    "start_time": "2022-09-18T14:49:48.083Z"
   },
   {
    "duration": 1209,
    "start_time": "2022-09-18T14:49:55.648Z"
   },
   {
    "duration": 31,
    "start_time": "2022-09-18T14:49:56.859Z"
   },
   {
    "duration": 757,
    "start_time": "2022-09-18T14:49:56.891Z"
   },
   {
    "duration": 228,
    "start_time": "2022-09-18T14:49:57.650Z"
   },
   {
    "duration": 208,
    "start_time": "2022-09-18T14:49:57.880Z"
   },
   {
    "duration": 208,
    "start_time": "2022-09-18T14:49:58.090Z"
   },
   {
    "duration": 235,
    "start_time": "2022-09-18T14:49:58.300Z"
   },
   {
    "duration": 384,
    "start_time": "2022-09-18T14:49:58.536Z"
   },
   {
    "duration": 426,
    "start_time": "2022-09-18T14:49:58.922Z"
   },
   {
    "duration": 935,
    "start_time": "2022-09-18T14:49:59.351Z"
   },
   {
    "duration": 58,
    "start_time": "2022-09-18T14:50:00.287Z"
   },
   {
    "duration": 197,
    "start_time": "2022-09-18T14:50:00.346Z"
   },
   {
    "duration": 10,
    "start_time": "2022-09-18T14:50:00.545Z"
   },
   {
    "duration": 1084,
    "start_time": "2022-09-18T14:50:00.557Z"
   },
   {
    "duration": 14,
    "start_time": "2022-09-18T14:50:01.642Z"
   },
   {
    "duration": 40,
    "start_time": "2022-09-18T14:50:01.658Z"
   },
   {
    "duration": 107,
    "start_time": "2022-09-18T14:50:01.699Z"
   },
   {
    "duration": 0,
    "start_time": "2022-09-18T14:50:01.808Z"
   },
   {
    "duration": 0,
    "start_time": "2022-09-18T14:50:01.809Z"
   },
   {
    "duration": 0,
    "start_time": "2022-09-18T14:50:01.809Z"
   },
   {
    "duration": 0,
    "start_time": "2022-09-18T14:50:01.810Z"
   },
   {
    "duration": 13,
    "start_time": "2022-09-18T14:52:27.853Z"
   },
   {
    "duration": 22,
    "start_time": "2022-09-18T14:52:44.492Z"
   },
   {
    "duration": 21,
    "start_time": "2022-09-18T14:52:54.615Z"
   },
   {
    "duration": 21,
    "start_time": "2022-09-18T14:53:01.887Z"
   },
   {
    "duration": 20,
    "start_time": "2022-09-18T14:53:16.303Z"
   },
   {
    "duration": 3,
    "start_time": "2022-09-18T16:08:41.602Z"
   },
   {
    "duration": 4,
    "start_time": "2022-09-18T16:08:53.947Z"
   },
   {
    "duration": 21,
    "start_time": "2022-09-18T16:09:59.573Z"
   },
   {
    "duration": 12,
    "start_time": "2022-09-18T16:11:44.982Z"
   },
   {
    "duration": 18,
    "start_time": "2022-09-18T16:12:27.810Z"
   },
   {
    "duration": 13,
    "start_time": "2022-09-18T16:13:23.680Z"
   },
   {
    "duration": 23,
    "start_time": "2022-09-18T16:13:24.882Z"
   },
   {
    "duration": 449,
    "start_time": "2022-09-18T16:13:31.642Z"
   },
   {
    "duration": 550,
    "start_time": "2022-09-18T16:13:32.897Z"
   }
  ],
  "kernelspec": {
   "display_name": "Python 3 (ipykernel)",
   "language": "python",
   "name": "python3"
  },
  "language_info": {
   "codemirror_mode": {
    "name": "ipython",
    "version": 3
   },
   "file_extension": ".py",
   "mimetype": "text/x-python",
   "name": "python",
   "nbconvert_exporter": "python",
   "pygments_lexer": "ipython3",
   "version": "3.9.5"
  },
  "toc": {
   "base_numbering": 1,
   "nav_menu": {},
   "number_sections": true,
   "sideBar": true,
   "skip_h1_title": true,
   "title_cell": "Table of Contents",
   "title_sidebar": "Contents",
   "toc_cell": false,
   "toc_position": {
    "height": "calc(100% - 180px)",
    "left": "10px",
    "top": "150px",
    "width": "273.164px"
   },
   "toc_section_display": true,
   "toc_window_display": false
  }
 },
 "nbformat": 4,
 "nbformat_minor": 2
}
